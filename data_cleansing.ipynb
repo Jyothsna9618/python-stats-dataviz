{
  "nbformat": 4,
  "nbformat_minor": 0,
  "metadata": {
    "colab": {
      "name": "data_cleansing.ipynb",
      "provenance": [],
      "authorship_tag": "ABX9TyNQmZggZBASZpnMn5qVLGTQ",
      "include_colab_link": true
    },
    "kernelspec": {
      "name": "python3",
      "display_name": "Python 3"
    }
  },
  "cells": [
    {
      "cell_type": "markdown",
      "metadata": {
        "id": "view-in-github",
        "colab_type": "text"
      },
      "source": [
        "<a href=\"https://colab.research.google.com/github/wcj365/python-stats-dataviz/blob/master/data_cleansing.ipynb\" target=\"_parent\"><img src=\"https://colab.research.google.com/assets/colab-badge.svg\" alt=\"Open In Colab\"/></a>"
      ]
    },
    {
      "cell_type": "markdown",
      "metadata": {
        "id": "sf7ONPoJCQYp"
      },
      "source": [
        "## To remove characters other than letters and digits from a string.\n",
        "isalpha(), isdigit()"
      ]
    },
    {
      "cell_type": "code",
      "metadata": {
        "id": "ln2rBDKBBcDP"
      },
      "source": [
        "text = \"12XY#$weare&!-\"   # --> \"12xyweare\""
      ],
      "execution_count": 2,
      "outputs": []
    },
    {
      "cell_type": "code",
      "metadata": {
        "id": "VVUnePCrGZOi"
      },
      "source": [
        ""
      ],
      "execution_count": null,
      "outputs": []
    },
    {
      "cell_type": "code",
      "metadata": {
        "colab": {
          "base_uri": "https://localhost:8080/",
          "height": 35
        },
        "id": "dUbI3I6_C91W",
        "outputId": "a60b8826-3c81-4a4f-bc1e-baa07aadfdd8"
      },
      "source": [
        "# Any solution (loop)\n",
        "char_list = []\n",
        "for c in text:\n",
        "#    if c.isalpha() or c.isdigit():\n",
        "    if c.isalnum():\n",
        "        char_list.append(c)\n",
        "\n",
        "new_text = \"\".join(char_list)\n",
        "\n",
        "new_text"
      ],
      "execution_count": 10,
      "outputs": [
        {
          "output_type": "execute_result",
          "data": {
            "application/vnd.google.colaboratory.intrinsic+json": {
              "type": "string"
            },
            "text/plain": [
              "'12XYweare'"
            ]
          },
          "metadata": {
            "tags": []
          },
          "execution_count": 10
        }
      ]
    },
    {
      "cell_type": "code",
      "metadata": {
        "colab": {
          "base_uri": "https://localhost:8080/",
          "height": 35
        },
        "id": "2pIWrSp1E4J-",
        "outputId": "de7a84fa-92b7-46e0-b3c5-9261229b6504"
      },
      "source": [
        "new_text = \"\"\n",
        "for c in text:\n",
        "#    if c.isalpha() or c.isdigit():\n",
        "    if c.isalnum():\n",
        "        new_text += c\n",
        "\n",
        "new_text\n"
      ],
      "execution_count": 4,
      "outputs": [
        {
          "output_type": "execute_result",
          "data": {
            "application/vnd.google.colaboratory.intrinsic+json": {
              "type": "string"
            },
            "text/plain": [
              "'12XYweare'"
            ]
          },
          "metadata": {
            "tags": []
          },
          "execution_count": 4
        }
      ]
    },
    {
      "cell_type": "code",
      "metadata": {
        "id": "RyhBLVJOFo6g"
      },
      "source": [
        ""
      ],
      "execution_count": null,
      "outputs": []
    },
    {
      "cell_type": "code",
      "metadata": {
        "colab": {
          "base_uri": "https://localhost:8080/",
          "height": 35
        },
        "id": "sXOl1v5OB4Ns",
        "outputId": "9c0396f0-fc31-4166-fc8c-fb2c7c16b8de"
      },
      "source": [
        "# list comprehension\n",
        "import string\n",
        "numbers = [str(i) for i in range(10)]\n",
        "#numbers = ['1','2','3', '4', '5', '6', '7', '8', '9', '0']\n",
        "upper_chars = string.ascii_uppercase\n",
        "lower_chars = string.ascii_lowercase\n",
        "#upper_chars = ['A', 'B', 'C', 'D', 'E', 'F', 'G', 'H', 'I', 'J', 'K', 'L', 'M', 'N', 'O', 'P', 'Q', 'R', 'S', 'T', 'U', 'V', 'W', 'X', 'Y', 'Z']\n",
        "#lower_chars = ['a', 'b', 'c', 'd', 'e', 'f', 'g', 'h', 'i', 'j', 'k', 'l', 'm', 'n', 'o', 'p', 'q', 'r', 's', 't', 'u', 'v', 'w', 'x', 'y', 'z']\n",
        "char_list = [c for c in text if  c in numbers or c in upper_chars or c in lower_chars]\n",
        "new_text = \"\".join(char_list)\n",
        "new_text"
      ],
      "execution_count": 18,
      "outputs": [
        {
          "output_type": "execute_result",
          "data": {
            "application/vnd.google.colaboratory.intrinsic+json": {
              "type": "string"
            },
            "text/plain": [
              "'12XYweare'"
            ]
          },
          "metadata": {
            "tags": []
          },
          "execution_count": 18
        }
      ]
    },
    {
      "cell_type": "code",
      "metadata": {
        "colab": {
          "base_uri": "https://localhost:8080/",
          "height": 35
        },
        "id": "L17cPjcgISJB",
        "outputId": "796da7e8-9e90-4b99-ad9b-8007029a937b"
      },
      "source": [
        "new_text = [x for x in text if x.isalpha() or x.isdigit()]\n",
        "new_text = \"\".join(new_text)\n",
        "new_text"
      ],
      "execution_count": 23,
      "outputs": [
        {
          "output_type": "execute_result",
          "data": {
            "application/vnd.google.colaboratory.intrinsic+json": {
              "type": "string"
            },
            "text/plain": [
              "'12XYweare'"
            ]
          },
          "metadata": {
            "tags": []
          },
          "execution_count": 23
        }
      ]
    },
    {
      "cell_type": "code",
      "metadata": {
        "colab": {
          "base_uri": "https://localhost:8080/",
          "height": 35
        },
        "id": "TAv0tKsmB9BZ",
        "outputId": "147dff5b-f159-4135-d14c-f82dc93f2db0"
      },
      "source": [
        "# define a function\n",
        "def alpha_fil(a_string):\n",
        "\n",
        "    if  a_string == None:       \n",
        "        return None\n",
        "\n",
        "    alphanumeric_filter = filter(str.isalnum, a_string)\n",
        "    alphanumeric_string = \"\".join(alphanumeric_filter)\n",
        "\n",
        "    return alphanumeric_string\n",
        "\n",
        "alpha_fil(text)"
      ],
      "execution_count": 34,
      "outputs": [
        {
          "output_type": "execute_result",
          "data": {
            "application/vnd.google.colaboratory.intrinsic+json": {
              "type": "string"
            },
            "text/plain": [
              "'12XYweare'"
            ]
          },
          "metadata": {
            "tags": []
          },
          "execution_count": 34
        }
      ]
    },
    {
      "cell_type": "markdown",
      "metadata": {
        "id": "cmlQpkAECcc8"
      },
      "source": [
        "## To remove characters other than letters and digits from a column in a dataframe. "
      ]
    },
    {
      "cell_type": "code",
      "metadata": {
        "colab": {
          "base_uri": "https://localhost:8080/",
          "height": 204
        },
        "id": "attNsDuGCIiC",
        "outputId": "8a8b2c40-9d71-47ef-ace4-5866dc4f9be0"
      },
      "source": [
        "import pandas as pd\n",
        "\n",
        "data = {\"sample_text\": [\"123DVE%$-\", None, \"werwrewr132324##$rtet^^\", None, \"greg*I&(^1236%^^%&32r4f3e2\"]}\n",
        "\n",
        "df = pd.DataFrame(data)\n",
        "df"
      ],
      "execution_count": 29,
      "outputs": [
        {
          "output_type": "execute_result",
          "data": {
            "text/html": [
              "<div>\n",
              "<style scoped>\n",
              "    .dataframe tbody tr th:only-of-type {\n",
              "        vertical-align: middle;\n",
              "    }\n",
              "\n",
              "    .dataframe tbody tr th {\n",
              "        vertical-align: top;\n",
              "    }\n",
              "\n",
              "    .dataframe thead th {\n",
              "        text-align: right;\n",
              "    }\n",
              "</style>\n",
              "<table border=\"1\" class=\"dataframe\">\n",
              "  <thead>\n",
              "    <tr style=\"text-align: right;\">\n",
              "      <th></th>\n",
              "      <th>sample_text</th>\n",
              "    </tr>\n",
              "  </thead>\n",
              "  <tbody>\n",
              "    <tr>\n",
              "      <th>0</th>\n",
              "      <td>123DVE%$-</td>\n",
              "    </tr>\n",
              "    <tr>\n",
              "      <th>1</th>\n",
              "      <td>None</td>\n",
              "    </tr>\n",
              "    <tr>\n",
              "      <th>2</th>\n",
              "      <td>werwrewr132324##$rtet^^</td>\n",
              "    </tr>\n",
              "    <tr>\n",
              "      <th>3</th>\n",
              "      <td>None</td>\n",
              "    </tr>\n",
              "    <tr>\n",
              "      <th>4</th>\n",
              "      <td>greg*I&amp;(^1236%^^%&amp;32r4f3e2</td>\n",
              "    </tr>\n",
              "  </tbody>\n",
              "</table>\n",
              "</div>"
            ],
            "text/plain": [
              "                  sample_text\n",
              "0                   123DVE%$-\n",
              "1                        None\n",
              "2     werwrewr132324##$rtet^^\n",
              "3                        None\n",
              "4  greg*I&(^1236%^^%&32r4f3e2"
            ]
          },
          "metadata": {
            "tags": []
          },
          "execution_count": 29
        }
      ]
    },
    {
      "cell_type": "code",
      "metadata": {
        "colab": {
          "base_uri": "https://localhost:8080/",
          "height": 204
        },
        "id": "jOuJrjLrJ3Jo",
        "outputId": "a11821ef-679d-4825-c43a-bc1e95c9d160"
      },
      "source": [
        "df[\"transformed\"] = df['sample_text'].apply(alpha_fil)\n",
        "df"
      ],
      "execution_count": 35,
      "outputs": [
        {
          "output_type": "execute_result",
          "data": {
            "text/html": [
              "<div>\n",
              "<style scoped>\n",
              "    .dataframe tbody tr th:only-of-type {\n",
              "        vertical-align: middle;\n",
              "    }\n",
              "\n",
              "    .dataframe tbody tr th {\n",
              "        vertical-align: top;\n",
              "    }\n",
              "\n",
              "    .dataframe thead th {\n",
              "        text-align: right;\n",
              "    }\n",
              "</style>\n",
              "<table border=\"1\" class=\"dataframe\">\n",
              "  <thead>\n",
              "    <tr style=\"text-align: right;\">\n",
              "      <th></th>\n",
              "      <th>sample_text</th>\n",
              "      <th>transformed</th>\n",
              "    </tr>\n",
              "  </thead>\n",
              "  <tbody>\n",
              "    <tr>\n",
              "      <th>0</th>\n",
              "      <td>123DVE%$-</td>\n",
              "      <td>123DVE</td>\n",
              "    </tr>\n",
              "    <tr>\n",
              "      <th>1</th>\n",
              "      <td>None</td>\n",
              "      <td>None</td>\n",
              "    </tr>\n",
              "    <tr>\n",
              "      <th>2</th>\n",
              "      <td>werwrewr132324##$rtet^^</td>\n",
              "      <td>werwrewr132324rtet</td>\n",
              "    </tr>\n",
              "    <tr>\n",
              "      <th>3</th>\n",
              "      <td>None</td>\n",
              "      <td>None</td>\n",
              "    </tr>\n",
              "    <tr>\n",
              "      <th>4</th>\n",
              "      <td>greg*I&amp;(^1236%^^%&amp;32r4f3e2</td>\n",
              "      <td>gregI123632r4f3e2</td>\n",
              "    </tr>\n",
              "  </tbody>\n",
              "</table>\n",
              "</div>"
            ],
            "text/plain": [
              "                  sample_text         transformed\n",
              "0                   123DVE%$-              123DVE\n",
              "1                        None                None\n",
              "2     werwrewr132324##$rtet^^  werwrewr132324rtet\n",
              "3                        None                None\n",
              "4  greg*I&(^1236%^^%&32r4f3e2   gregI123632r4f3e2"
            ]
          },
          "metadata": {
            "tags": []
          },
          "execution_count": 35
        }
      ]
    }
  ]
}