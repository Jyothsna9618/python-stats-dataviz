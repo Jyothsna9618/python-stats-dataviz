{
  "nbformat": 4,
  "nbformat_minor": 0,
  "metadata": {
    "colab": {
      "name": "plotly_express_world_dev.ipynb",
      "provenance": [],
      "authorship_tag": "ABX9TyOrGO/2pQHKU1K1pJ1vgp12",
      "include_colab_link": true
    },
    "kernelspec": {
      "name": "python3",
      "display_name": "Python 3"
    },
    "language_info": {
      "name": "python"
    }
  },
  "cells": [
    {
      "cell_type": "markdown",
      "metadata": {
        "id": "view-in-github",
        "colab_type": "text"
      },
      "source": [
        "<a href=\"https://colab.research.google.com/github/wcj365/python-stats-dataviz/blob/master/plotly_express_world_dev.ipynb\" target=\"_parent\"><img src=\"https://colab.research.google.com/assets/colab-badge.svg\" alt=\"Open In Colab\"/></a>"
      ]
    },
    {
      "cell_type": "markdown",
      "metadata": {
        "id": "9dnM2N6M70tb"
      },
      "source": [
        "# Plotly Express \n",
        "Explorer the World Development Indicators"
      ]
    },
    {
      "cell_type": "code",
      "metadata": {
        "id": "h54aY-Wvl11G"
      },
      "source": [
        "import pandas as pd\n",
        "import plotly.express as px"
      ],
      "execution_count": 37,
      "outputs": []
    },
    {
      "cell_type": "markdown",
      "metadata": {
        "id": "jrBvmwu37_7i"
      },
      "source": [
        "## 1 - Data Prep"
      ]
    },
    {
      "cell_type": "code",
      "metadata": {
        "colab": {
          "base_uri": "https://localhost:8080/"
        },
        "id": "GJrdCO9Zl-y3",
        "outputId": "d24a789f-4691-4a64-d873-34203ef85678"
      },
      "source": [
        "df = pd.read_csv(\"wdi_data.csv\")\n",
        "df.shape"
      ],
      "execution_count": 38,
      "outputs": [
        {
          "output_type": "execute_result",
          "data": {
            "text/plain": [
              "(1661, 10)"
            ]
          },
          "metadata": {
            "tags": []
          },
          "execution_count": 38
        }
      ]
    },
    {
      "cell_type": "code",
      "metadata": {
        "colab": {
          "base_uri": "https://localhost:8080/",
          "height": 306
        },
        "id": "WQnm4eiYmfB2",
        "outputId": "2f910085-7d4f-4740-da6c-d32bd8272c58"
      },
      "source": [
        "df.head()"
      ],
      "execution_count": 5,
      "outputs": [
        {
          "output_type": "execute_result",
          "data": {
            "text/html": [
              "<div>\n",
              "<style scoped>\n",
              "    .dataframe tbody tr th:only-of-type {\n",
              "        vertical-align: middle;\n",
              "    }\n",
              "\n",
              "    .dataframe tbody tr th {\n",
              "        vertical-align: top;\n",
              "    }\n",
              "\n",
              "    .dataframe thead th {\n",
              "        text-align: right;\n",
              "    }\n",
              "</style>\n",
              "<table border=\"1\" class=\"dataframe\">\n",
              "  <thead>\n",
              "    <tr style=\"text-align: right;\">\n",
              "      <th></th>\n",
              "      <th>Unnamed: 0</th>\n",
              "      <th>Year</th>\n",
              "      <th>SP.POP.TOTL</th>\n",
              "      <th>SP.DYN.LE00.IN</th>\n",
              "      <th>NY.GDP.PCAP.PP.CD</th>\n",
              "      <th>Country Code</th>\n",
              "      <th>Country Name</th>\n",
              "      <th>Region</th>\n",
              "      <th>Income Group</th>\n",
              "      <th>Lending Type</th>\n",
              "    </tr>\n",
              "  </thead>\n",
              "  <tbody>\n",
              "    <tr>\n",
              "      <th>0</th>\n",
              "      <td>0</td>\n",
              "      <td>2010</td>\n",
              "      <td>29185507.0</td>\n",
              "      <td>61.028</td>\n",
              "      <td>1710.575645</td>\n",
              "      <td>AFG</td>\n",
              "      <td>Afghanistan</td>\n",
              "      <td>South Asia</td>\n",
              "      <td>Low income</td>\n",
              "      <td>IDA</td>\n",
              "    </tr>\n",
              "    <tr>\n",
              "      <th>1</th>\n",
              "      <td>1</td>\n",
              "      <td>2011</td>\n",
              "      <td>30117413.0</td>\n",
              "      <td>61.553</td>\n",
              "      <td>1699.487997</td>\n",
              "      <td>AFG</td>\n",
              "      <td>Afghanistan</td>\n",
              "      <td>South Asia</td>\n",
              "      <td>Low income</td>\n",
              "      <td>IDA</td>\n",
              "    </tr>\n",
              "    <tr>\n",
              "      <th>2</th>\n",
              "      <td>2</td>\n",
              "      <td>2012</td>\n",
              "      <td>31161376.0</td>\n",
              "      <td>62.054</td>\n",
              "      <td>1914.774351</td>\n",
              "      <td>AFG</td>\n",
              "      <td>Afghanistan</td>\n",
              "      <td>South Asia</td>\n",
              "      <td>Low income</td>\n",
              "      <td>IDA</td>\n",
              "    </tr>\n",
              "    <tr>\n",
              "      <th>3</th>\n",
              "      <td>3</td>\n",
              "      <td>2013</td>\n",
              "      <td>32269589.0</td>\n",
              "      <td>62.525</td>\n",
              "      <td>2015.514962</td>\n",
              "      <td>AFG</td>\n",
              "      <td>Afghanistan</td>\n",
              "      <td>South Asia</td>\n",
              "      <td>Low income</td>\n",
              "      <td>IDA</td>\n",
              "    </tr>\n",
              "    <tr>\n",
              "      <th>4</th>\n",
              "      <td>4</td>\n",
              "      <td>2014</td>\n",
              "      <td>33370794.0</td>\n",
              "      <td>62.966</td>\n",
              "      <td>2069.424642</td>\n",
              "      <td>AFG</td>\n",
              "      <td>Afghanistan</td>\n",
              "      <td>South Asia</td>\n",
              "      <td>Low income</td>\n",
              "      <td>IDA</td>\n",
              "    </tr>\n",
              "  </tbody>\n",
              "</table>\n",
              "</div>"
            ],
            "text/plain": [
              "   Unnamed: 0  Year  SP.POP.TOTL  ...      Region  Income Group Lending Type\n",
              "0           0  2010   29185507.0  ...  South Asia    Low income          IDA\n",
              "1           1  2011   30117413.0  ...  South Asia    Low income          IDA\n",
              "2           2  2012   31161376.0  ...  South Asia    Low income          IDA\n",
              "3           3  2013   32269589.0  ...  South Asia    Low income          IDA\n",
              "4           4  2014   33370794.0  ...  South Asia    Low income          IDA\n",
              "\n",
              "[5 rows x 10 columns]"
            ]
          },
          "metadata": {
            "tags": []
          },
          "execution_count": 5
        }
      ]
    },
    {
      "cell_type": "code",
      "metadata": {
        "colab": {
          "base_uri": "https://localhost:8080/",
          "height": 80
        },
        "id": "npmqYj877jJU",
        "outputId": "a8e9f566-39bd-4dc4-f88d-406c6902ea0c"
      },
      "source": [
        "df.drop(columns=[\"Unnamed: 0\"], inplace=True)\n",
        "df.sample()"
      ],
      "execution_count": 39,
      "outputs": [
        {
          "output_type": "execute_result",
          "data": {
            "text/html": [
              "<div>\n",
              "<style scoped>\n",
              "    .dataframe tbody tr th:only-of-type {\n",
              "        vertical-align: middle;\n",
              "    }\n",
              "\n",
              "    .dataframe tbody tr th {\n",
              "        vertical-align: top;\n",
              "    }\n",
              "\n",
              "    .dataframe thead th {\n",
              "        text-align: right;\n",
              "    }\n",
              "</style>\n",
              "<table border=\"1\" class=\"dataframe\">\n",
              "  <thead>\n",
              "    <tr style=\"text-align: right;\">\n",
              "      <th></th>\n",
              "      <th>Year</th>\n",
              "      <th>SP.POP.TOTL</th>\n",
              "      <th>SP.DYN.LE00.IN</th>\n",
              "      <th>NY.GDP.PCAP.PP.CD</th>\n",
              "      <th>Country Code</th>\n",
              "      <th>Country Name</th>\n",
              "      <th>Region</th>\n",
              "      <th>Income Group</th>\n",
              "      <th>Lending Type</th>\n",
              "    </tr>\n",
              "  </thead>\n",
              "  <tbody>\n",
              "    <tr>\n",
              "      <th>1156</th>\n",
              "      <td>2017</td>\n",
              "      <td>207896686.0</td>\n",
              "      <td>66.947</td>\n",
              "      <td>4571.414491</td>\n",
              "      <td>PAK</td>\n",
              "      <td>Pakistan</td>\n",
              "      <td>South Asia</td>\n",
              "      <td>Lower middle income</td>\n",
              "      <td>Blend</td>\n",
              "    </tr>\n",
              "  </tbody>\n",
              "</table>\n",
              "</div>"
            ],
            "text/plain": [
              "      Year  SP.POP.TOTL  ...         Income Group  Lending Type\n",
              "1156  2017  207896686.0  ...  Lower middle income         Blend\n",
              "\n",
              "[1 rows x 9 columns]"
            ]
          },
          "metadata": {
            "tags": []
          },
          "execution_count": 39
        }
      ]
    },
    {
      "cell_type": "code",
      "metadata": {
        "colab": {
          "base_uri": "https://localhost:8080/"
        },
        "id": "qYAg1Bw1mnN1",
        "outputId": "cbf8cce8-dc31-479b-c262-dcf519b2e854"
      },
      "source": [
        "df.info()"
      ],
      "execution_count": 33,
      "outputs": [
        {
          "output_type": "stream",
          "text": [
            "<class 'pandas.core.frame.DataFrame'>\n",
            "RangeIndex: 1661 entries, 0 to 1660\n",
            "Data columns (total 9 columns):\n",
            " #   Column             Non-Null Count  Dtype  \n",
            "---  ------             --------------  -----  \n",
            " 0   Year               1661 non-null   int64  \n",
            " 1   SP.POP.TOTL        1661 non-null   float64\n",
            " 2   SP.DYN.LE00.IN     1661 non-null   float64\n",
            " 3   NY.GDP.PCAP.PP.CD  1661 non-null   float64\n",
            " 4   Country Code       1661 non-null   object \n",
            " 5   Country Name       1661 non-null   object \n",
            " 6   Region             1661 non-null   object \n",
            " 7   Income Group       1661 non-null   object \n",
            " 8   Lending Type       1661 non-null   object \n",
            "dtypes: float64(3), int64(1), object(5)\n",
            "memory usage: 116.9+ KB\n"
          ],
          "name": "stdout"
        }
      ]
    },
    {
      "cell_type": "code",
      "metadata": {
        "colab": {
          "base_uri": "https://localhost:8080/"
        },
        "id": "cmpLt6aRqN02",
        "outputId": "ece1d637-02d9-4585-f885-8f45c7f15026"
      },
      "source": [
        "df_2018 = df[df[\"Year\"]==2018]\n",
        "df_2018.shape"
      ],
      "execution_count": 40,
      "outputs": [
        {
          "output_type": "execute_result",
          "data": {
            "text/plain": [
              "(181, 9)"
            ]
          },
          "metadata": {
            "tags": []
          },
          "execution_count": 40
        }
      ]
    },
    {
      "cell_type": "code",
      "metadata": {
        "colab": {
          "base_uri": "https://localhost:8080/",
          "height": 289
        },
        "id": "h3rmR1p8qVZR",
        "outputId": "ae3a3097-0aeb-45b1-f697-2b038012ab2a"
      },
      "source": [
        "df_2018.head()"
      ],
      "execution_count": 41,
      "outputs": [
        {
          "output_type": "execute_result",
          "data": {
            "text/html": [
              "<div>\n",
              "<style scoped>\n",
              "    .dataframe tbody tr th:only-of-type {\n",
              "        vertical-align: middle;\n",
              "    }\n",
              "\n",
              "    .dataframe tbody tr th {\n",
              "        vertical-align: top;\n",
              "    }\n",
              "\n",
              "    .dataframe thead th {\n",
              "        text-align: right;\n",
              "    }\n",
              "</style>\n",
              "<table border=\"1\" class=\"dataframe\">\n",
              "  <thead>\n",
              "    <tr style=\"text-align: right;\">\n",
              "      <th></th>\n",
              "      <th>Year</th>\n",
              "      <th>SP.POP.TOTL</th>\n",
              "      <th>SP.DYN.LE00.IN</th>\n",
              "      <th>NY.GDP.PCAP.PP.CD</th>\n",
              "      <th>Country Code</th>\n",
              "      <th>Country Name</th>\n",
              "      <th>Region</th>\n",
              "      <th>Income Group</th>\n",
              "      <th>Lending Type</th>\n",
              "    </tr>\n",
              "  </thead>\n",
              "  <tbody>\n",
              "    <tr>\n",
              "      <th>8</th>\n",
              "      <td>2018</td>\n",
              "      <td>37172386.0</td>\n",
              "      <td>64.486</td>\n",
              "      <td>2083.321897</td>\n",
              "      <td>AFG</td>\n",
              "      <td>Afghanistan</td>\n",
              "      <td>South Asia</td>\n",
              "      <td>Low income</td>\n",
              "      <td>IDA</td>\n",
              "    </tr>\n",
              "    <tr>\n",
              "      <th>17</th>\n",
              "      <td>2018</td>\n",
              "      <td>2866376.0</td>\n",
              "      <td>78.458</td>\n",
              "      <td>13974.011607</td>\n",
              "      <td>ALB</td>\n",
              "      <td>Albania</td>\n",
              "      <td>Europe &amp; Central Asia</td>\n",
              "      <td>Upper middle income</td>\n",
              "      <td>IBRD</td>\n",
              "    </tr>\n",
              "    <tr>\n",
              "      <th>26</th>\n",
              "      <td>2018</td>\n",
              "      <td>42228429.0</td>\n",
              "      <td>76.693</td>\n",
              "      <td>11925.798564</td>\n",
              "      <td>DZA</td>\n",
              "      <td>Algeria</td>\n",
              "      <td>Middle East &amp; North Africa</td>\n",
              "      <td>Lower middle income</td>\n",
              "      <td>IBRD</td>\n",
              "    </tr>\n",
              "    <tr>\n",
              "      <th>35</th>\n",
              "      <td>2018</td>\n",
              "      <td>30809762.0</td>\n",
              "      <td>60.782</td>\n",
              "      <td>7102.405887</td>\n",
              "      <td>AGO</td>\n",
              "      <td>Angola</td>\n",
              "      <td>Sub-Saharan Africa</td>\n",
              "      <td>Lower middle income</td>\n",
              "      <td>IBRD</td>\n",
              "    </tr>\n",
              "    <tr>\n",
              "      <th>44</th>\n",
              "      <td>2018</td>\n",
              "      <td>96286.0</td>\n",
              "      <td>76.885</td>\n",
              "      <td>21630.179515</td>\n",
              "      <td>ATG</td>\n",
              "      <td>Antigua and Barbuda</td>\n",
              "      <td>Latin America &amp; Caribbean</td>\n",
              "      <td>High income</td>\n",
              "      <td>IBRD</td>\n",
              "    </tr>\n",
              "  </tbody>\n",
              "</table>\n",
              "</div>"
            ],
            "text/plain": [
              "    Year  SP.POP.TOTL  ...         Income Group  Lending Type\n",
              "8   2018   37172386.0  ...           Low income           IDA\n",
              "17  2018    2866376.0  ...  Upper middle income          IBRD\n",
              "26  2018   42228429.0  ...  Lower middle income          IBRD\n",
              "35  2018   30809762.0  ...  Lower middle income          IBRD\n",
              "44  2018      96286.0  ...          High income          IBRD\n",
              "\n",
              "[5 rows x 9 columns]"
            ]
          },
          "metadata": {
            "tags": []
          },
          "execution_count": 41
        }
      ]
    },
    {
      "cell_type": "markdown",
      "metadata": {
        "id": "2draCchUmz80"
      },
      "source": [
        "## 2 - Histogram\n",
        "Histogram applies to a numerical variable. It is also known as **Frequency Distribution**."
      ]
    },
    {
      "cell_type": "code",
      "metadata": {
        "colab": {
          "base_uri": "https://localhost:8080/",
          "height": 542
        },
        "id": "ZFfCKSp0mwlI",
        "outputId": "ce196da6-950a-40ea-cb7b-057db80272ca"
      },
      "source": [
        "fig = px.histogram(data_frame=df_2018, x=\"SP.POP.TOTL\", nbins=10)\n",
        "fig.show()"
      ],
      "execution_count": 15,
      "outputs": [
        {
          "output_type": "display_data",
          "data": {
            "text/html": [
              "<html>\n",
              "<head><meta charset=\"utf-8\" /></head>\n",
              "<body>\n",
              "    <div>\n",
              "            <script src=\"https://cdnjs.cloudflare.com/ajax/libs/mathjax/2.7.5/MathJax.js?config=TeX-AMS-MML_SVG\"></script><script type=\"text/javascript\">if (window.MathJax) {MathJax.Hub.Config({SVG: {font: \"STIX-Web\"}});}</script>\n",
              "                <script type=\"text/javascript\">window.PlotlyConfig = {MathJaxConfig: 'local'};</script>\n",
              "        <script src=\"https://cdn.plot.ly/plotly-latest.min.js\"></script>    \n",
              "            <div id=\"ffdd7f42-52d6-4717-b03c-368c201ec4e9\" class=\"plotly-graph-div\" style=\"height:525px; width:100%;\"></div>\n",
              "            <script type=\"text/javascript\">\n",
              "                \n",
              "                    window.PLOTLYENV=window.PLOTLYENV || {};\n",
              "                    \n",
              "                if (document.getElementById(\"ffdd7f42-52d6-4717-b03c-368c201ec4e9\")) {\n",
              "                    Plotly.newPlot(\n",
              "                        'ffdd7f42-52d6-4717-b03c-368c201ec4e9',\n",
              "                        [{\"alignmentgroup\": \"True\", \"bingroup\": \"x\", \"hoverlabel\": {\"namelength\": 0}, \"hovertemplate\": \"SP.POP.TOTL=%{x}<br>count=%{y}\", \"legendgroup\": \"\", \"marker\": {\"color\": \"#636efa\"}, \"name\": \"\", \"nbinsx\": 10, \"offsetgroup\": \"\", \"orientation\": \"v\", \"showlegend\": false, \"type\": \"histogram\", \"x\": [37172386.0, 2866376.0, 42228429.0, 30809762.0, 96286.0, 44494502.0, 2951776.0, 24982688.0, 8840521.0, 9939771.0, 385640.0, 1569439.0, 161356039.0, 286641.0, 9483499.0, 11427054.0, 383071.0, 11485048.0, 63920.0, 754394.0, 11353142.0, 3323929.0, 2254126.0, 209469333.0, 428962.0, 7025037.0, 19751535.0, 11175378.0, 543767.0, 16249798.0, 25216237.0, 37057765.0, 4666377.0, 15477751.0, 18729160.0, 1392730000.0, 49661056.0, 832322.0, 84068091.0, 5244363.0, 4999441.0, 25069229.0, 4087843.0, 1189265.0, 10629928.0, 5793636.0, 958920.0, 10627165.0, 17084357.0, 98423595.0, 6420744.0, 1308974.0, 1321977.0, 1136191.0, 109224559.0, 883483.0, 5515525.0, 66965912.0, 2119275.0, 2280102.0, 3726549.0, 82905782.0, 29767108.0, 10732882.0, 111454.0, 16346950.0, 12414318.0, 1874309.0, 779004.0, 11123176.0, 9587522.0, 7451000.0, 9775564.0, 352721.0, 1352617328.0, 267663435.0, 81800269.0, 38433600.0, 4867316.0, 8882800.0, 60421760.0, 2934855.0, 126529100.0, 9956011.0, 18276498.5, 51393010.0, 115847.0, 51606633.0, 1797085.0, 4137312.0, 6322800.0, 7061507.0, 1927174.0, 6848925.0, 2108132.0, 4818977.0, 6678567.0, 2801543.0, 607950.0, 631636.0, 26262368.0, 18143315.0, 31528585.0, 515696.0, 19077690.0, 484630.0, 4403319.0, 1265303.0, 126190788.0, 112640.0, 2706049.0, 3170208.0, 622227.0, 36029138.0, 29495962.0, 53708395.0, 2448255.0, 28087871.0, 17231624.0, 4841000.0, 6465513.0, 22442948.0, 195874740.0, 2082958.0, 5311916.0, 4829483.0, 212215030.0, 4176873.0, 8606316.0, 6956071.0, 31989256.0, 106651922.0, 37974750.0, 10283822.0, 3193354.0, 2781677.0, 19472545.0, 144477860.0, 12301939.0, 196130.0, 211028.0, 33699947.0, 15854360.0, 6982604.0, 96762.0, 7650154.0, 5638676.0, 5446771.0, 2073894.0, 652858.0, 57779622.0, 46797754.0, 21670000.0, 181889.0, 110210.0, 41801533.0, 575987.0, 10175214.0, 8514329.0, 9100837.0, 56318348.0, 69428524.0, 1267972.0, 7889094.0, 103197.0, 1389858.0, 11565204.0, 82319724.0, 5850908.0, 42723139.0, 44622518.0, 9630959.0, 66460344.0, 326687501.0, 3449299.0, 32956100.0, 292680.0, 95540395.0, 4569087.0, 17351822.0, 14439018.0], \"xaxis\": \"x\", \"yaxis\": \"y\"}],\n",
              "                        {\"barmode\": \"relative\", \"legend\": {\"tracegroupgap\": 0}, \"margin\": {\"t\": 60}, \"template\": {\"data\": {\"bar\": [{\"error_x\": {\"color\": \"#2a3f5f\"}, \"error_y\": {\"color\": \"#2a3f5f\"}, \"marker\": {\"line\": {\"color\": \"#E5ECF6\", \"width\": 0.5}}, \"type\": \"bar\"}], \"barpolar\": [{\"marker\": {\"line\": {\"color\": \"#E5ECF6\", \"width\": 0.5}}, \"type\": \"barpolar\"}], \"carpet\": [{\"aaxis\": {\"endlinecolor\": \"#2a3f5f\", \"gridcolor\": \"white\", \"linecolor\": \"white\", \"minorgridcolor\": \"white\", \"startlinecolor\": \"#2a3f5f\"}, \"baxis\": {\"endlinecolor\": \"#2a3f5f\", \"gridcolor\": \"white\", \"linecolor\": \"white\", \"minorgridcolor\": \"white\", \"startlinecolor\": \"#2a3f5f\"}, \"type\": \"carpet\"}], \"choropleth\": [{\"colorbar\": {\"outlinewidth\": 0, \"ticks\": \"\"}, \"type\": \"choropleth\"}], \"contour\": [{\"colorbar\": {\"outlinewidth\": 0, \"ticks\": \"\"}, \"colorscale\": [[0.0, \"#0d0887\"], [0.1111111111111111, \"#46039f\"], [0.2222222222222222, \"#7201a8\"], [0.3333333333333333, \"#9c179e\"], [0.4444444444444444, \"#bd3786\"], [0.5555555555555556, \"#d8576b\"], [0.6666666666666666, \"#ed7953\"], [0.7777777777777778, \"#fb9f3a\"], [0.8888888888888888, \"#fdca26\"], [1.0, \"#f0f921\"]], \"type\": \"contour\"}], \"contourcarpet\": [{\"colorbar\": {\"outlinewidth\": 0, \"ticks\": \"\"}, \"type\": \"contourcarpet\"}], \"heatmap\": [{\"colorbar\": {\"outlinewidth\": 0, \"ticks\": \"\"}, \"colorscale\": [[0.0, \"#0d0887\"], [0.1111111111111111, \"#46039f\"], [0.2222222222222222, \"#7201a8\"], [0.3333333333333333, \"#9c179e\"], [0.4444444444444444, \"#bd3786\"], [0.5555555555555556, \"#d8576b\"], [0.6666666666666666, \"#ed7953\"], [0.7777777777777778, \"#fb9f3a\"], [0.8888888888888888, \"#fdca26\"], [1.0, \"#f0f921\"]], \"type\": \"heatmap\"}], \"heatmapgl\": [{\"colorbar\": {\"outlinewidth\": 0, \"ticks\": \"\"}, \"colorscale\": [[0.0, \"#0d0887\"], [0.1111111111111111, \"#46039f\"], [0.2222222222222222, \"#7201a8\"], [0.3333333333333333, \"#9c179e\"], [0.4444444444444444, \"#bd3786\"], [0.5555555555555556, \"#d8576b\"], [0.6666666666666666, \"#ed7953\"], [0.7777777777777778, \"#fb9f3a\"], [0.8888888888888888, \"#fdca26\"], [1.0, \"#f0f921\"]], \"type\": \"heatmapgl\"}], \"histogram\": [{\"marker\": {\"colorbar\": {\"outlinewidth\": 0, \"ticks\": \"\"}}, \"type\": \"histogram\"}], \"histogram2d\": [{\"colorbar\": {\"outlinewidth\": 0, \"ticks\": \"\"}, \"colorscale\": [[0.0, \"#0d0887\"], [0.1111111111111111, \"#46039f\"], [0.2222222222222222, \"#7201a8\"], [0.3333333333333333, \"#9c179e\"], [0.4444444444444444, \"#bd3786\"], [0.5555555555555556, \"#d8576b\"], [0.6666666666666666, \"#ed7953\"], [0.7777777777777778, \"#fb9f3a\"], [0.8888888888888888, \"#fdca26\"], [1.0, \"#f0f921\"]], \"type\": \"histogram2d\"}], \"histogram2dcontour\": [{\"colorbar\": {\"outlinewidth\": 0, \"ticks\": \"\"}, \"colorscale\": [[0.0, \"#0d0887\"], [0.1111111111111111, \"#46039f\"], [0.2222222222222222, \"#7201a8\"], [0.3333333333333333, \"#9c179e\"], [0.4444444444444444, \"#bd3786\"], [0.5555555555555556, \"#d8576b\"], [0.6666666666666666, \"#ed7953\"], [0.7777777777777778, \"#fb9f3a\"], [0.8888888888888888, \"#fdca26\"], [1.0, \"#f0f921\"]], \"type\": \"histogram2dcontour\"}], \"mesh3d\": [{\"colorbar\": {\"outlinewidth\": 0, \"ticks\": \"\"}, \"type\": \"mesh3d\"}], \"parcoords\": [{\"line\": {\"colorbar\": {\"outlinewidth\": 0, \"ticks\": \"\"}}, \"type\": \"parcoords\"}], \"pie\": [{\"automargin\": true, \"type\": \"pie\"}], \"scatter\": [{\"marker\": {\"colorbar\": {\"outlinewidth\": 0, \"ticks\": \"\"}}, \"type\": \"scatter\"}], \"scatter3d\": [{\"line\": {\"colorbar\": {\"outlinewidth\": 0, \"ticks\": \"\"}}, \"marker\": {\"colorbar\": {\"outlinewidth\": 0, \"ticks\": \"\"}}, \"type\": \"scatter3d\"}], \"scattercarpet\": [{\"marker\": {\"colorbar\": {\"outlinewidth\": 0, \"ticks\": \"\"}}, \"type\": \"scattercarpet\"}], \"scattergeo\": [{\"marker\": {\"colorbar\": {\"outlinewidth\": 0, \"ticks\": \"\"}}, \"type\": \"scattergeo\"}], \"scattergl\": [{\"marker\": {\"colorbar\": {\"outlinewidth\": 0, \"ticks\": \"\"}}, \"type\": \"scattergl\"}], \"scattermapbox\": [{\"marker\": {\"colorbar\": {\"outlinewidth\": 0, \"ticks\": \"\"}}, \"type\": \"scattermapbox\"}], \"scatterpolar\": [{\"marker\": {\"colorbar\": {\"outlinewidth\": 0, \"ticks\": \"\"}}, \"type\": \"scatterpolar\"}], \"scatterpolargl\": [{\"marker\": {\"colorbar\": {\"outlinewidth\": 0, \"ticks\": \"\"}}, \"type\": \"scatterpolargl\"}], \"scatterternary\": [{\"marker\": {\"colorbar\": {\"outlinewidth\": 0, \"ticks\": \"\"}}, \"type\": \"scatterternary\"}], \"surface\": [{\"colorbar\": {\"outlinewidth\": 0, \"ticks\": \"\"}, \"colorscale\": [[0.0, \"#0d0887\"], [0.1111111111111111, \"#46039f\"], [0.2222222222222222, \"#7201a8\"], [0.3333333333333333, \"#9c179e\"], [0.4444444444444444, \"#bd3786\"], [0.5555555555555556, \"#d8576b\"], [0.6666666666666666, \"#ed7953\"], [0.7777777777777778, \"#fb9f3a\"], [0.8888888888888888, \"#fdca26\"], [1.0, \"#f0f921\"]], \"type\": \"surface\"}], \"table\": [{\"cells\": {\"fill\": {\"color\": \"#EBF0F8\"}, \"line\": {\"color\": \"white\"}}, \"header\": {\"fill\": {\"color\": \"#C8D4E3\"}, \"line\": {\"color\": \"white\"}}, \"type\": \"table\"}]}, \"layout\": {\"annotationdefaults\": {\"arrowcolor\": \"#2a3f5f\", \"arrowhead\": 0, \"arrowwidth\": 1}, \"coloraxis\": {\"colorbar\": {\"outlinewidth\": 0, \"ticks\": \"\"}}, \"colorscale\": {\"diverging\": [[0, \"#8e0152\"], [0.1, \"#c51b7d\"], [0.2, \"#de77ae\"], [0.3, \"#f1b6da\"], [0.4, \"#fde0ef\"], [0.5, \"#f7f7f7\"], [0.6, \"#e6f5d0\"], [0.7, \"#b8e186\"], [0.8, \"#7fbc41\"], [0.9, \"#4d9221\"], [1, \"#276419\"]], \"sequential\": [[0.0, \"#0d0887\"], [0.1111111111111111, \"#46039f\"], [0.2222222222222222, \"#7201a8\"], [0.3333333333333333, \"#9c179e\"], [0.4444444444444444, \"#bd3786\"], [0.5555555555555556, \"#d8576b\"], [0.6666666666666666, \"#ed7953\"], [0.7777777777777778, \"#fb9f3a\"], [0.8888888888888888, \"#fdca26\"], [1.0, \"#f0f921\"]], \"sequentialminus\": [[0.0, \"#0d0887\"], [0.1111111111111111, \"#46039f\"], [0.2222222222222222, \"#7201a8\"], [0.3333333333333333, \"#9c179e\"], [0.4444444444444444, \"#bd3786\"], [0.5555555555555556, \"#d8576b\"], [0.6666666666666666, \"#ed7953\"], [0.7777777777777778, \"#fb9f3a\"], [0.8888888888888888, \"#fdca26\"], [1.0, \"#f0f921\"]]}, \"colorway\": [\"#636efa\", \"#EF553B\", \"#00cc96\", \"#ab63fa\", \"#FFA15A\", \"#19d3f3\", \"#FF6692\", \"#B6E880\", \"#FF97FF\", \"#FECB52\"], \"font\": {\"color\": \"#2a3f5f\"}, \"geo\": {\"bgcolor\": \"white\", \"lakecolor\": \"white\", \"landcolor\": \"#E5ECF6\", \"showlakes\": true, \"showland\": true, \"subunitcolor\": \"white\"}, \"hoverlabel\": {\"align\": \"left\"}, \"hovermode\": \"closest\", \"mapbox\": {\"style\": \"light\"}, \"paper_bgcolor\": \"white\", \"plot_bgcolor\": \"#E5ECF6\", \"polar\": {\"angularaxis\": {\"gridcolor\": \"white\", \"linecolor\": \"white\", \"ticks\": \"\"}, \"bgcolor\": \"#E5ECF6\", \"radialaxis\": {\"gridcolor\": \"white\", \"linecolor\": \"white\", \"ticks\": \"\"}}, \"scene\": {\"xaxis\": {\"backgroundcolor\": \"#E5ECF6\", \"gridcolor\": \"white\", \"gridwidth\": 2, \"linecolor\": \"white\", \"showbackground\": true, \"ticks\": \"\", \"zerolinecolor\": \"white\"}, \"yaxis\": {\"backgroundcolor\": \"#E5ECF6\", \"gridcolor\": \"white\", \"gridwidth\": 2, \"linecolor\": \"white\", \"showbackground\": true, \"ticks\": \"\", \"zerolinecolor\": \"white\"}, \"zaxis\": {\"backgroundcolor\": \"#E5ECF6\", \"gridcolor\": \"white\", \"gridwidth\": 2, \"linecolor\": \"white\", \"showbackground\": true, \"ticks\": \"\", \"zerolinecolor\": \"white\"}}, \"shapedefaults\": {\"line\": {\"color\": \"#2a3f5f\"}}, \"ternary\": {\"aaxis\": {\"gridcolor\": \"white\", \"linecolor\": \"white\", \"ticks\": \"\"}, \"baxis\": {\"gridcolor\": \"white\", \"linecolor\": \"white\", \"ticks\": \"\"}, \"bgcolor\": \"#E5ECF6\", \"caxis\": {\"gridcolor\": \"white\", \"linecolor\": \"white\", \"ticks\": \"\"}}, \"title\": {\"x\": 0.05}, \"xaxis\": {\"automargin\": true, \"gridcolor\": \"white\", \"linecolor\": \"white\", \"ticks\": \"\", \"title\": {\"standoff\": 15}, \"zerolinecolor\": \"white\", \"zerolinewidth\": 2}, \"yaxis\": {\"automargin\": true, \"gridcolor\": \"white\", \"linecolor\": \"white\", \"ticks\": \"\", \"title\": {\"standoff\": 15}, \"zerolinecolor\": \"white\", \"zerolinewidth\": 2}}}, \"xaxis\": {\"anchor\": \"y\", \"domain\": [0.0, 1.0], \"title\": {\"text\": \"SP.POP.TOTL\"}}, \"yaxis\": {\"anchor\": \"x\", \"domain\": [0.0, 1.0], \"title\": {\"text\": \"count\"}}},\n",
              "                        {\"responsive\": true}\n",
              "                    ).then(function(){\n",
              "                            \n",
              "var gd = document.getElementById('ffdd7f42-52d6-4717-b03c-368c201ec4e9');\n",
              "var x = new MutationObserver(function (mutations, observer) {{\n",
              "        var display = window.getComputedStyle(gd).display;\n",
              "        if (!display || display === 'none') {{\n",
              "            console.log([gd, 'removed!']);\n",
              "            Plotly.purge(gd);\n",
              "            observer.disconnect();\n",
              "        }}\n",
              "}});\n",
              "\n",
              "// Listen for the removal of the full notebook cells\n",
              "var notebookContainer = gd.closest('#notebook-container');\n",
              "if (notebookContainer) {{\n",
              "    x.observe(notebookContainer, {childList: true});\n",
              "}}\n",
              "\n",
              "// Listen for the clearing of the current output cell\n",
              "var outputEl = gd.closest('.output');\n",
              "if (outputEl) {{\n",
              "    x.observe(outputEl, {childList: true});\n",
              "}}\n",
              "\n",
              "                        })\n",
              "                };\n",
              "                \n",
              "            </script>\n",
              "        </div>\n",
              "</body>\n",
              "</html>"
            ]
          },
          "metadata": {
            "tags": []
          }
        }
      ]
    },
    {
      "cell_type": "markdown",
      "metadata": {
        "id": "MrzvejIO8LnB"
      },
      "source": [
        "## 3 - Bar Chart"
      ]
    },
    {
      "cell_type": "markdown",
      "metadata": {
        "id": "mAR4nvd88c5q"
      },
      "source": [
        "### 3.1 Univariate Categorical Variable\n",
        "We will use Bar Chart to depict the frequency distribution of categories (aka **Frequency Table**)"
      ]
    },
    {
      "cell_type": "code",
      "metadata": {
        "colab": {
          "base_uri": "https://localhost:8080/",
          "height": 348
        },
        "id": "NVOzOsNE8JWM",
        "outputId": "74188cb4-88c8-4623-de7c-39f576681a60"
      },
      "source": [
        "# Aggregate the count for each category\n",
        "df_region = df_2018.groupby(\"Region\").count()\n",
        "df_region"
      ],
      "execution_count": 49,
      "outputs": [
        {
          "output_type": "execute_result",
          "data": {
            "text/html": [
              "<div>\n",
              "<style scoped>\n",
              "    .dataframe tbody tr th:only-of-type {\n",
              "        vertical-align: middle;\n",
              "    }\n",
              "\n",
              "    .dataframe tbody tr th {\n",
              "        vertical-align: top;\n",
              "    }\n",
              "\n",
              "    .dataframe thead th {\n",
              "        text-align: right;\n",
              "    }\n",
              "</style>\n",
              "<table border=\"1\" class=\"dataframe\">\n",
              "  <thead>\n",
              "    <tr style=\"text-align: right;\">\n",
              "      <th></th>\n",
              "      <th>Year</th>\n",
              "      <th>SP.POP.TOTL</th>\n",
              "      <th>SP.DYN.LE00.IN</th>\n",
              "      <th>NY.GDP.PCAP.PP.CD</th>\n",
              "      <th>Country Code</th>\n",
              "      <th>Country Name</th>\n",
              "      <th>Income Group</th>\n",
              "      <th>Lending Type</th>\n",
              "    </tr>\n",
              "    <tr>\n",
              "      <th>Region</th>\n",
              "      <th></th>\n",
              "      <th></th>\n",
              "      <th></th>\n",
              "      <th></th>\n",
              "      <th></th>\n",
              "      <th></th>\n",
              "      <th></th>\n",
              "      <th></th>\n",
              "    </tr>\n",
              "  </thead>\n",
              "  <tbody>\n",
              "    <tr>\n",
              "      <th>East Asia &amp; Pacific</th>\n",
              "      <td>27</td>\n",
              "      <td>27</td>\n",
              "      <td>27</td>\n",
              "      <td>27</td>\n",
              "      <td>27</td>\n",
              "      <td>27</td>\n",
              "      <td>27</td>\n",
              "      <td>27</td>\n",
              "    </tr>\n",
              "    <tr>\n",
              "      <th>Europe &amp; Central Asia</th>\n",
              "      <td>49</td>\n",
              "      <td>49</td>\n",
              "      <td>49</td>\n",
              "      <td>49</td>\n",
              "      <td>49</td>\n",
              "      <td>49</td>\n",
              "      <td>49</td>\n",
              "      <td>49</td>\n",
              "    </tr>\n",
              "    <tr>\n",
              "      <th>Latin America &amp; Caribbean</th>\n",
              "      <td>30</td>\n",
              "      <td>30</td>\n",
              "      <td>30</td>\n",
              "      <td>30</td>\n",
              "      <td>30</td>\n",
              "      <td>30</td>\n",
              "      <td>30</td>\n",
              "      <td>30</td>\n",
              "    </tr>\n",
              "    <tr>\n",
              "      <th>Middle East &amp; North Africa</th>\n",
              "      <td>19</td>\n",
              "      <td>19</td>\n",
              "      <td>19</td>\n",
              "      <td>19</td>\n",
              "      <td>19</td>\n",
              "      <td>19</td>\n",
              "      <td>19</td>\n",
              "      <td>19</td>\n",
              "    </tr>\n",
              "    <tr>\n",
              "      <th>North America</th>\n",
              "      <td>3</td>\n",
              "      <td>3</td>\n",
              "      <td>3</td>\n",
              "      <td>3</td>\n",
              "      <td>3</td>\n",
              "      <td>3</td>\n",
              "      <td>3</td>\n",
              "      <td>3</td>\n",
              "    </tr>\n",
              "    <tr>\n",
              "      <th>South Asia</th>\n",
              "      <td>8</td>\n",
              "      <td>8</td>\n",
              "      <td>8</td>\n",
              "      <td>8</td>\n",
              "      <td>8</td>\n",
              "      <td>8</td>\n",
              "      <td>8</td>\n",
              "      <td>8</td>\n",
              "    </tr>\n",
              "    <tr>\n",
              "      <th>Sub-Saharan Africa</th>\n",
              "      <td>45</td>\n",
              "      <td>45</td>\n",
              "      <td>45</td>\n",
              "      <td>45</td>\n",
              "      <td>45</td>\n",
              "      <td>45</td>\n",
              "      <td>45</td>\n",
              "      <td>45</td>\n",
              "    </tr>\n",
              "  </tbody>\n",
              "</table>\n",
              "</div>"
            ],
            "text/plain": [
              "                            Year  SP.POP.TOTL  ...  Income Group  Lending Type\n",
              "Region                                         ...                            \n",
              "East Asia & Pacific           27           27  ...            27            27\n",
              "Europe & Central Asia         49           49  ...            49            49\n",
              "Latin America & Caribbean     30           30  ...            30            30\n",
              "Middle East & North Africa    19           19  ...            19            19\n",
              "North America                  3            3  ...             3             3\n",
              "South Asia                     8            8  ...             8             8\n",
              "Sub-Saharan Africa            45           45  ...            45            45\n",
              "\n",
              "[7 rows x 8 columns]"
            ]
          },
          "metadata": {
            "tags": []
          },
          "execution_count": 49
        }
      ]
    },
    {
      "cell_type": "code",
      "metadata": {
        "colab": {
          "base_uri": "https://localhost:8080/",
          "height": 317
        },
        "id": "Nm_9vg20-x6p",
        "outputId": "492cd9f7-efd6-485d-abc8-f8144b7fb931"
      },
      "source": [
        "df_region = df_group.reset_index()\n",
        "df_region"
      ],
      "execution_count": 50,
      "outputs": [
        {
          "output_type": "execute_result",
          "data": {
            "text/html": [
              "<div>\n",
              "<style scoped>\n",
              "    .dataframe tbody tr th:only-of-type {\n",
              "        vertical-align: middle;\n",
              "    }\n",
              "\n",
              "    .dataframe tbody tr th {\n",
              "        vertical-align: top;\n",
              "    }\n",
              "\n",
              "    .dataframe thead th {\n",
              "        text-align: right;\n",
              "    }\n",
              "</style>\n",
              "<table border=\"1\" class=\"dataframe\">\n",
              "  <thead>\n",
              "    <tr style=\"text-align: right;\">\n",
              "      <th></th>\n",
              "      <th>index</th>\n",
              "      <th>Region</th>\n",
              "      <th>Year</th>\n",
              "      <th>SP.POP.TOTL</th>\n",
              "      <th>SP.DYN.LE00.IN</th>\n",
              "      <th>NY.GDP.PCAP.PP.CD</th>\n",
              "      <th>Country Code</th>\n",
              "      <th>Country Name</th>\n",
              "      <th>Income Group</th>\n",
              "      <th>Lending Type</th>\n",
              "    </tr>\n",
              "  </thead>\n",
              "  <tbody>\n",
              "    <tr>\n",
              "      <th>0</th>\n",
              "      <td>0</td>\n",
              "      <td>East Asia &amp; Pacific</td>\n",
              "      <td>27</td>\n",
              "      <td>27</td>\n",
              "      <td>27</td>\n",
              "      <td>27</td>\n",
              "      <td>27</td>\n",
              "      <td>27</td>\n",
              "      <td>27</td>\n",
              "      <td>27</td>\n",
              "    </tr>\n",
              "    <tr>\n",
              "      <th>1</th>\n",
              "      <td>1</td>\n",
              "      <td>Europe &amp; Central Asia</td>\n",
              "      <td>49</td>\n",
              "      <td>49</td>\n",
              "      <td>49</td>\n",
              "      <td>49</td>\n",
              "      <td>49</td>\n",
              "      <td>49</td>\n",
              "      <td>49</td>\n",
              "      <td>49</td>\n",
              "    </tr>\n",
              "    <tr>\n",
              "      <th>2</th>\n",
              "      <td>2</td>\n",
              "      <td>Latin America &amp; Caribbean</td>\n",
              "      <td>30</td>\n",
              "      <td>30</td>\n",
              "      <td>30</td>\n",
              "      <td>30</td>\n",
              "      <td>30</td>\n",
              "      <td>30</td>\n",
              "      <td>30</td>\n",
              "      <td>30</td>\n",
              "    </tr>\n",
              "    <tr>\n",
              "      <th>3</th>\n",
              "      <td>3</td>\n",
              "      <td>Middle East &amp; North Africa</td>\n",
              "      <td>19</td>\n",
              "      <td>19</td>\n",
              "      <td>19</td>\n",
              "      <td>19</td>\n",
              "      <td>19</td>\n",
              "      <td>19</td>\n",
              "      <td>19</td>\n",
              "      <td>19</td>\n",
              "    </tr>\n",
              "    <tr>\n",
              "      <th>4</th>\n",
              "      <td>4</td>\n",
              "      <td>North America</td>\n",
              "      <td>3</td>\n",
              "      <td>3</td>\n",
              "      <td>3</td>\n",
              "      <td>3</td>\n",
              "      <td>3</td>\n",
              "      <td>3</td>\n",
              "      <td>3</td>\n",
              "      <td>3</td>\n",
              "    </tr>\n",
              "    <tr>\n",
              "      <th>5</th>\n",
              "      <td>5</td>\n",
              "      <td>South Asia</td>\n",
              "      <td>8</td>\n",
              "      <td>8</td>\n",
              "      <td>8</td>\n",
              "      <td>8</td>\n",
              "      <td>8</td>\n",
              "      <td>8</td>\n",
              "      <td>8</td>\n",
              "      <td>8</td>\n",
              "    </tr>\n",
              "    <tr>\n",
              "      <th>6</th>\n",
              "      <td>6</td>\n",
              "      <td>Sub-Saharan Africa</td>\n",
              "      <td>45</td>\n",
              "      <td>45</td>\n",
              "      <td>45</td>\n",
              "      <td>45</td>\n",
              "      <td>45</td>\n",
              "      <td>45</td>\n",
              "      <td>45</td>\n",
              "      <td>45</td>\n",
              "    </tr>\n",
              "  </tbody>\n",
              "</table>\n",
              "</div>"
            ],
            "text/plain": [
              "   index                      Region  ...  Income Group  Lending Type\n",
              "0      0         East Asia & Pacific  ...            27            27\n",
              "1      1       Europe & Central Asia  ...            49            49\n",
              "2      2  Latin America & Caribbean   ...            30            30\n",
              "3      3  Middle East & North Africa  ...            19            19\n",
              "4      4               North America  ...             3             3\n",
              "5      5                  South Asia  ...             8             8\n",
              "6      6         Sub-Saharan Africa   ...            45            45\n",
              "\n",
              "[7 rows x 10 columns]"
            ]
          },
          "metadata": {
            "tags": []
          },
          "execution_count": 50
        }
      ]
    },
    {
      "cell_type": "code",
      "metadata": {
        "colab": {
          "base_uri": "https://localhost:8080/",
          "height": 542
        },
        "id": "7KxidgmT-vmi",
        "outputId": "f8c32638-3b2a-4d30-81ec-fb054b69cfea"
      },
      "source": [
        "fig = px.bar(data_frame=df_region, \n",
        "             x=\"Region\", y=\"Year\",  \n",
        "             color=\"Region\",\n",
        "             )\n",
        "fig.show()"
      ],
      "execution_count": 51,
      "outputs": [
        {
          "output_type": "display_data",
          "data": {
            "text/html": [
              "<html>\n",
              "<head><meta charset=\"utf-8\" /></head>\n",
              "<body>\n",
              "    <div>\n",
              "            <script src=\"https://cdnjs.cloudflare.com/ajax/libs/mathjax/2.7.5/MathJax.js?config=TeX-AMS-MML_SVG\"></script><script type=\"text/javascript\">if (window.MathJax) {MathJax.Hub.Config({SVG: {font: \"STIX-Web\"}});}</script>\n",
              "                <script type=\"text/javascript\">window.PlotlyConfig = {MathJaxConfig: 'local'};</script>\n",
              "        <script src=\"https://cdn.plot.ly/plotly-latest.min.js\"></script>    \n",
              "            <div id=\"2dc79e4a-a126-42b0-9eb5-b1a5e9078457\" class=\"plotly-graph-div\" style=\"height:525px; width:100%;\"></div>\n",
              "            <script type=\"text/javascript\">\n",
              "                \n",
              "                    window.PLOTLYENV=window.PLOTLYENV || {};\n",
              "                    \n",
              "                if (document.getElementById(\"2dc79e4a-a126-42b0-9eb5-b1a5e9078457\")) {\n",
              "                    Plotly.newPlot(\n",
              "                        '2dc79e4a-a126-42b0-9eb5-b1a5e9078457',\n",
              "                        [{\"alignmentgroup\": \"True\", \"hoverlabel\": {\"namelength\": 0}, \"hovertemplate\": \"Region=%{x}<br>Year=%{y}\", \"legendgroup\": \"Region=East Asia & Pacific\", \"marker\": {\"color\": \"#636efa\"}, \"name\": \"Region=East Asia & Pacific\", \"offsetgroup\": \"Region=East Asia & Pacific\", \"orientation\": \"v\", \"showlegend\": true, \"textposition\": \"auto\", \"type\": \"bar\", \"x\": [\"East Asia & Pacific\"], \"xaxis\": \"x\", \"y\": [27], \"yaxis\": \"y\"}, {\"alignmentgroup\": \"True\", \"hoverlabel\": {\"namelength\": 0}, \"hovertemplate\": \"Region=%{x}<br>Year=%{y}\", \"legendgroup\": \"Region=Europe & Central Asia\", \"marker\": {\"color\": \"#EF553B\"}, \"name\": \"Region=Europe & Central Asia\", \"offsetgroup\": \"Region=Europe & Central Asia\", \"orientation\": \"v\", \"showlegend\": true, \"textposition\": \"auto\", \"type\": \"bar\", \"x\": [\"Europe & Central Asia\"], \"xaxis\": \"x\", \"y\": [49], \"yaxis\": \"y\"}, {\"alignmentgroup\": \"True\", \"hoverlabel\": {\"namelength\": 0}, \"hovertemplate\": \"Region=%{x}<br>Year=%{y}\", \"legendgroup\": \"Region=Latin America & Caribbean \", \"marker\": {\"color\": \"#00cc96\"}, \"name\": \"Region=Latin America & Caribbean \", \"offsetgroup\": \"Region=Latin America & Caribbean \", \"orientation\": \"v\", \"showlegend\": true, \"textposition\": \"auto\", \"type\": \"bar\", \"x\": [\"Latin America & Caribbean \"], \"xaxis\": \"x\", \"y\": [30], \"yaxis\": \"y\"}, {\"alignmentgroup\": \"True\", \"hoverlabel\": {\"namelength\": 0}, \"hovertemplate\": \"Region=%{x}<br>Year=%{y}\", \"legendgroup\": \"Region=Middle East & North Africa\", \"marker\": {\"color\": \"#ab63fa\"}, \"name\": \"Region=Middle East & North Africa\", \"offsetgroup\": \"Region=Middle East & North Africa\", \"orientation\": \"v\", \"showlegend\": true, \"textposition\": \"auto\", \"type\": \"bar\", \"x\": [\"Middle East & North Africa\"], \"xaxis\": \"x\", \"y\": [19], \"yaxis\": \"y\"}, {\"alignmentgroup\": \"True\", \"hoverlabel\": {\"namelength\": 0}, \"hovertemplate\": \"Region=%{x}<br>Year=%{y}\", \"legendgroup\": \"Region=North America\", \"marker\": {\"color\": \"#FFA15A\"}, \"name\": \"Region=North America\", \"offsetgroup\": \"Region=North America\", \"orientation\": \"v\", \"showlegend\": true, \"textposition\": \"auto\", \"type\": \"bar\", \"x\": [\"North America\"], \"xaxis\": \"x\", \"y\": [3], \"yaxis\": \"y\"}, {\"alignmentgroup\": \"True\", \"hoverlabel\": {\"namelength\": 0}, \"hovertemplate\": \"Region=%{x}<br>Year=%{y}\", \"legendgroup\": \"Region=South Asia\", \"marker\": {\"color\": \"#19d3f3\"}, \"name\": \"Region=South Asia\", \"offsetgroup\": \"Region=South Asia\", \"orientation\": \"v\", \"showlegend\": true, \"textposition\": \"auto\", \"type\": \"bar\", \"x\": [\"South Asia\"], \"xaxis\": \"x\", \"y\": [8], \"yaxis\": \"y\"}, {\"alignmentgroup\": \"True\", \"hoverlabel\": {\"namelength\": 0}, \"hovertemplate\": \"Region=%{x}<br>Year=%{y}\", \"legendgroup\": \"Region=Sub-Saharan Africa \", \"marker\": {\"color\": \"#FF6692\"}, \"name\": \"Region=Sub-Saharan Africa \", \"offsetgroup\": \"Region=Sub-Saharan Africa \", \"orientation\": \"v\", \"showlegend\": true, \"textposition\": \"auto\", \"type\": \"bar\", \"x\": [\"Sub-Saharan Africa \"], \"xaxis\": \"x\", \"y\": [45], \"yaxis\": \"y\"}],\n",
              "                        {\"barmode\": \"relative\", \"legend\": {\"tracegroupgap\": 0}, \"margin\": {\"t\": 60}, \"template\": {\"data\": {\"bar\": [{\"error_x\": {\"color\": \"#2a3f5f\"}, \"error_y\": {\"color\": \"#2a3f5f\"}, \"marker\": {\"line\": {\"color\": \"#E5ECF6\", \"width\": 0.5}}, \"type\": \"bar\"}], \"barpolar\": [{\"marker\": {\"line\": {\"color\": \"#E5ECF6\", \"width\": 0.5}}, \"type\": \"barpolar\"}], \"carpet\": [{\"aaxis\": {\"endlinecolor\": \"#2a3f5f\", \"gridcolor\": \"white\", \"linecolor\": \"white\", \"minorgridcolor\": \"white\", \"startlinecolor\": \"#2a3f5f\"}, \"baxis\": {\"endlinecolor\": \"#2a3f5f\", \"gridcolor\": \"white\", \"linecolor\": \"white\", \"minorgridcolor\": \"white\", \"startlinecolor\": \"#2a3f5f\"}, \"type\": \"carpet\"}], \"choropleth\": [{\"colorbar\": {\"outlinewidth\": 0, \"ticks\": \"\"}, \"type\": \"choropleth\"}], \"contour\": [{\"colorbar\": {\"outlinewidth\": 0, \"ticks\": \"\"}, \"colorscale\": [[0.0, \"#0d0887\"], [0.1111111111111111, \"#46039f\"], [0.2222222222222222, \"#7201a8\"], [0.3333333333333333, \"#9c179e\"], [0.4444444444444444, \"#bd3786\"], [0.5555555555555556, \"#d8576b\"], [0.6666666666666666, \"#ed7953\"], [0.7777777777777778, \"#fb9f3a\"], [0.8888888888888888, \"#fdca26\"], [1.0, \"#f0f921\"]], \"type\": \"contour\"}], \"contourcarpet\": [{\"colorbar\": {\"outlinewidth\": 0, \"ticks\": \"\"}, \"type\": \"contourcarpet\"}], \"heatmap\": [{\"colorbar\": {\"outlinewidth\": 0, \"ticks\": \"\"}, \"colorscale\": [[0.0, \"#0d0887\"], [0.1111111111111111, \"#46039f\"], [0.2222222222222222, \"#7201a8\"], [0.3333333333333333, \"#9c179e\"], [0.4444444444444444, \"#bd3786\"], [0.5555555555555556, \"#d8576b\"], [0.6666666666666666, \"#ed7953\"], [0.7777777777777778, \"#fb9f3a\"], [0.8888888888888888, \"#fdca26\"], [1.0, \"#f0f921\"]], \"type\": \"heatmap\"}], \"heatmapgl\": [{\"colorbar\": {\"outlinewidth\": 0, \"ticks\": \"\"}, \"colorscale\": [[0.0, \"#0d0887\"], [0.1111111111111111, \"#46039f\"], [0.2222222222222222, \"#7201a8\"], [0.3333333333333333, \"#9c179e\"], [0.4444444444444444, \"#bd3786\"], [0.5555555555555556, \"#d8576b\"], [0.6666666666666666, \"#ed7953\"], [0.7777777777777778, \"#fb9f3a\"], [0.8888888888888888, \"#fdca26\"], [1.0, \"#f0f921\"]], \"type\": \"heatmapgl\"}], \"histogram\": [{\"marker\": {\"colorbar\": {\"outlinewidth\": 0, \"ticks\": \"\"}}, \"type\": \"histogram\"}], \"histogram2d\": [{\"colorbar\": {\"outlinewidth\": 0, \"ticks\": \"\"}, \"colorscale\": [[0.0, \"#0d0887\"], [0.1111111111111111, \"#46039f\"], [0.2222222222222222, \"#7201a8\"], [0.3333333333333333, \"#9c179e\"], [0.4444444444444444, \"#bd3786\"], [0.5555555555555556, \"#d8576b\"], [0.6666666666666666, \"#ed7953\"], [0.7777777777777778, \"#fb9f3a\"], [0.8888888888888888, \"#fdca26\"], [1.0, \"#f0f921\"]], \"type\": \"histogram2d\"}], \"histogram2dcontour\": [{\"colorbar\": {\"outlinewidth\": 0, \"ticks\": \"\"}, \"colorscale\": [[0.0, \"#0d0887\"], [0.1111111111111111, \"#46039f\"], [0.2222222222222222, \"#7201a8\"], [0.3333333333333333, \"#9c179e\"], [0.4444444444444444, \"#bd3786\"], [0.5555555555555556, \"#d8576b\"], [0.6666666666666666, \"#ed7953\"], [0.7777777777777778, \"#fb9f3a\"], [0.8888888888888888, \"#fdca26\"], [1.0, \"#f0f921\"]], \"type\": \"histogram2dcontour\"}], \"mesh3d\": [{\"colorbar\": {\"outlinewidth\": 0, \"ticks\": \"\"}, \"type\": \"mesh3d\"}], \"parcoords\": [{\"line\": {\"colorbar\": {\"outlinewidth\": 0, \"ticks\": \"\"}}, \"type\": \"parcoords\"}], \"pie\": [{\"automargin\": true, \"type\": \"pie\"}], \"scatter\": [{\"marker\": {\"colorbar\": {\"outlinewidth\": 0, \"ticks\": \"\"}}, \"type\": \"scatter\"}], \"scatter3d\": [{\"line\": {\"colorbar\": {\"outlinewidth\": 0, \"ticks\": \"\"}}, \"marker\": {\"colorbar\": {\"outlinewidth\": 0, \"ticks\": \"\"}}, \"type\": \"scatter3d\"}], \"scattercarpet\": [{\"marker\": {\"colorbar\": {\"outlinewidth\": 0, \"ticks\": \"\"}}, \"type\": \"scattercarpet\"}], \"scattergeo\": [{\"marker\": {\"colorbar\": {\"outlinewidth\": 0, \"ticks\": \"\"}}, \"type\": \"scattergeo\"}], \"scattergl\": [{\"marker\": {\"colorbar\": {\"outlinewidth\": 0, \"ticks\": \"\"}}, \"type\": \"scattergl\"}], \"scattermapbox\": [{\"marker\": {\"colorbar\": {\"outlinewidth\": 0, \"ticks\": \"\"}}, \"type\": \"scattermapbox\"}], \"scatterpolar\": [{\"marker\": {\"colorbar\": {\"outlinewidth\": 0, \"ticks\": \"\"}}, \"type\": \"scatterpolar\"}], \"scatterpolargl\": [{\"marker\": {\"colorbar\": {\"outlinewidth\": 0, \"ticks\": \"\"}}, \"type\": \"scatterpolargl\"}], \"scatterternary\": [{\"marker\": {\"colorbar\": {\"outlinewidth\": 0, \"ticks\": \"\"}}, \"type\": \"scatterternary\"}], \"surface\": [{\"colorbar\": {\"outlinewidth\": 0, \"ticks\": \"\"}, \"colorscale\": [[0.0, \"#0d0887\"], [0.1111111111111111, \"#46039f\"], [0.2222222222222222, \"#7201a8\"], [0.3333333333333333, \"#9c179e\"], [0.4444444444444444, \"#bd3786\"], [0.5555555555555556, \"#d8576b\"], [0.6666666666666666, \"#ed7953\"], [0.7777777777777778, \"#fb9f3a\"], [0.8888888888888888, \"#fdca26\"], [1.0, \"#f0f921\"]], \"type\": \"surface\"}], \"table\": [{\"cells\": {\"fill\": {\"color\": \"#EBF0F8\"}, \"line\": {\"color\": \"white\"}}, \"header\": {\"fill\": {\"color\": \"#C8D4E3\"}, \"line\": {\"color\": \"white\"}}, \"type\": \"table\"}]}, \"layout\": {\"annotationdefaults\": {\"arrowcolor\": \"#2a3f5f\", \"arrowhead\": 0, \"arrowwidth\": 1}, \"coloraxis\": {\"colorbar\": {\"outlinewidth\": 0, \"ticks\": \"\"}}, \"colorscale\": {\"diverging\": [[0, \"#8e0152\"], [0.1, \"#c51b7d\"], [0.2, \"#de77ae\"], [0.3, \"#f1b6da\"], [0.4, \"#fde0ef\"], [0.5, \"#f7f7f7\"], [0.6, \"#e6f5d0\"], [0.7, \"#b8e186\"], [0.8, \"#7fbc41\"], [0.9, \"#4d9221\"], [1, \"#276419\"]], \"sequential\": [[0.0, \"#0d0887\"], [0.1111111111111111, \"#46039f\"], [0.2222222222222222, \"#7201a8\"], [0.3333333333333333, \"#9c179e\"], [0.4444444444444444, \"#bd3786\"], [0.5555555555555556, \"#d8576b\"], [0.6666666666666666, \"#ed7953\"], [0.7777777777777778, \"#fb9f3a\"], [0.8888888888888888, \"#fdca26\"], [1.0, \"#f0f921\"]], \"sequentialminus\": [[0.0, \"#0d0887\"], [0.1111111111111111, \"#46039f\"], [0.2222222222222222, \"#7201a8\"], [0.3333333333333333, \"#9c179e\"], [0.4444444444444444, \"#bd3786\"], [0.5555555555555556, \"#d8576b\"], [0.6666666666666666, \"#ed7953\"], [0.7777777777777778, \"#fb9f3a\"], [0.8888888888888888, \"#fdca26\"], [1.0, \"#f0f921\"]]}, \"colorway\": [\"#636efa\", \"#EF553B\", \"#00cc96\", \"#ab63fa\", \"#FFA15A\", \"#19d3f3\", \"#FF6692\", \"#B6E880\", \"#FF97FF\", \"#FECB52\"], \"font\": {\"color\": \"#2a3f5f\"}, \"geo\": {\"bgcolor\": \"white\", \"lakecolor\": \"white\", \"landcolor\": \"#E5ECF6\", \"showlakes\": true, \"showland\": true, \"subunitcolor\": \"white\"}, \"hoverlabel\": {\"align\": \"left\"}, \"hovermode\": \"closest\", \"mapbox\": {\"style\": \"light\"}, \"paper_bgcolor\": \"white\", \"plot_bgcolor\": \"#E5ECF6\", \"polar\": {\"angularaxis\": {\"gridcolor\": \"white\", \"linecolor\": \"white\", \"ticks\": \"\"}, \"bgcolor\": \"#E5ECF6\", \"radialaxis\": {\"gridcolor\": \"white\", \"linecolor\": \"white\", \"ticks\": \"\"}}, \"scene\": {\"xaxis\": {\"backgroundcolor\": \"#E5ECF6\", \"gridcolor\": \"white\", \"gridwidth\": 2, \"linecolor\": \"white\", \"showbackground\": true, \"ticks\": \"\", \"zerolinecolor\": \"white\"}, \"yaxis\": {\"backgroundcolor\": \"#E5ECF6\", \"gridcolor\": \"white\", \"gridwidth\": 2, \"linecolor\": \"white\", \"showbackground\": true, \"ticks\": \"\", \"zerolinecolor\": \"white\"}, \"zaxis\": {\"backgroundcolor\": \"#E5ECF6\", \"gridcolor\": \"white\", \"gridwidth\": 2, \"linecolor\": \"white\", \"showbackground\": true, \"ticks\": \"\", \"zerolinecolor\": \"white\"}}, \"shapedefaults\": {\"line\": {\"color\": \"#2a3f5f\"}}, \"ternary\": {\"aaxis\": {\"gridcolor\": \"white\", \"linecolor\": \"white\", \"ticks\": \"\"}, \"baxis\": {\"gridcolor\": \"white\", \"linecolor\": \"white\", \"ticks\": \"\"}, \"bgcolor\": \"#E5ECF6\", \"caxis\": {\"gridcolor\": \"white\", \"linecolor\": \"white\", \"ticks\": \"\"}}, \"title\": {\"x\": 0.05}, \"xaxis\": {\"automargin\": true, \"gridcolor\": \"white\", \"linecolor\": \"white\", \"ticks\": \"\", \"title\": {\"standoff\": 15}, \"zerolinecolor\": \"white\", \"zerolinewidth\": 2}, \"yaxis\": {\"automargin\": true, \"gridcolor\": \"white\", \"linecolor\": \"white\", \"ticks\": \"\", \"title\": {\"standoff\": 15}, \"zerolinecolor\": \"white\", \"zerolinewidth\": 2}}}, \"xaxis\": {\"anchor\": \"y\", \"categoryarray\": [\"East Asia & Pacific\", \"Europe & Central Asia\", \"Latin America & Caribbean \", \"Middle East & North Africa\", \"North America\", \"South Asia\", \"Sub-Saharan Africa \"], \"categoryorder\": \"array\", \"domain\": [0.0, 1.0], \"title\": {\"text\": \"Region\"}}, \"yaxis\": {\"anchor\": \"x\", \"domain\": [0.0, 1.0], \"title\": {\"text\": \"Year\"}}},\n",
              "                        {\"responsive\": true}\n",
              "                    ).then(function(){\n",
              "                            \n",
              "var gd = document.getElementById('2dc79e4a-a126-42b0-9eb5-b1a5e9078457');\n",
              "var x = new MutationObserver(function (mutations, observer) {{\n",
              "        var display = window.getComputedStyle(gd).display;\n",
              "        if (!display || display === 'none') {{\n",
              "            console.log([gd, 'removed!']);\n",
              "            Plotly.purge(gd);\n",
              "            observer.disconnect();\n",
              "        }}\n",
              "}});\n",
              "\n",
              "// Listen for the removal of the full notebook cells\n",
              "var notebookContainer = gd.closest('#notebook-container');\n",
              "if (notebookContainer) {{\n",
              "    x.observe(notebookContainer, {childList: true});\n",
              "}}\n",
              "\n",
              "// Listen for the clearing of the current output cell\n",
              "var outputEl = gd.closest('.output');\n",
              "if (outputEl) {{\n",
              "    x.observe(outputEl, {childList: true});\n",
              "}}\n",
              "\n",
              "                        })\n",
              "                };\n",
              "                \n",
              "            </script>\n",
              "        </div>\n",
              "</body>\n",
              "</html>"
            ]
          },
          "metadata": {
            "tags": []
          }
        }
      ]
    },
    {
      "cell_type": "markdown",
      "metadata": {
        "id": "lY6kJM-B_T1H"
      },
      "source": [
        "### 3.2 - Bivariate\n",
        "- One categorial variable\n",
        "- One numerical variable"
      ]
    },
    {
      "cell_type": "markdown",
      "metadata": {
        "id": "W4KJky7l8Z2L"
      },
      "source": [
        ""
      ]
    },
    {
      "cell_type": "code",
      "metadata": {
        "colab": {
          "base_uri": "https://localhost:8080/",
          "height": 817
        },
        "id": "rIIvZLVN5a6z",
        "outputId": "85b0d655-904b-4a5a-d575-1b3502d29617"
      },
      "source": [
        "# This Bar Chart shows how populated each region is.\n",
        "\n",
        "fig = px.bar(data_frame=df_2018, \n",
        "             x=\"Region\", y=\"SP.POP.TOTL\", \n",
        "             hover_name=\"Country Name\", \n",
        "             color=\"Region\",\n",
        "             height=800\n",
        "             )\n",
        "fig.show()"
      ],
      "execution_count": 29,
      "outputs": [
        {
          "output_type": "display_data",
          "data": {
            "text/html": [
              "<html>\n",
              "<head><meta charset=\"utf-8\" /></head>\n",
              "<body>\n",
              "    <div>\n",
              "            <script src=\"https://cdnjs.cloudflare.com/ajax/libs/mathjax/2.7.5/MathJax.js?config=TeX-AMS-MML_SVG\"></script><script type=\"text/javascript\">if (window.MathJax) {MathJax.Hub.Config({SVG: {font: \"STIX-Web\"}});}</script>\n",
              "                <script type=\"text/javascript\">window.PlotlyConfig = {MathJaxConfig: 'local'};</script>\n",
              "        <script src=\"https://cdn.plot.ly/plotly-latest.min.js\"></script>    \n",
              "            <div id=\"6150538c-11f0-4bca-b318-dc59c8764955\" class=\"plotly-graph-div\" style=\"height:800px; width:100%;\"></div>\n",
              "            <script type=\"text/javascript\">\n",
              "                \n",
              "                    window.PLOTLYENV=window.PLOTLYENV || {};\n",
              "                    \n",
              "                if (document.getElementById(\"6150538c-11f0-4bca-b318-dc59c8764955\")) {\n",
              "                    Plotly.newPlot(\n",
              "                        '6150538c-11f0-4bca-b318-dc59c8764955',\n",
              "                        [{\"alignmentgroup\": \"True\", \"hoverlabel\": {\"namelength\": 0}, \"hovertemplate\": \"<b>%{hovertext}</b><br><br>Region=%{x}<br>SP.POP.TOTL=%{y}\", \"hovertext\": [\"Afghanistan\", \"Albania\", \"Algeria\", \"Angola\", \"Antigua and Barbuda\", \"Argentina\", \"Armenia\", \"Australia\", \"Austria\", \"Azerbaijan\", \"Bahamas, The\", \"Bahrain\", \"Bangladesh\", \"Barbados\", \"Belarus\", \"Belgium\", \"Belize\", \"Benin\", \"Bermuda\", \"Bhutan\", \"Bolivia\", \"Bosnia and Herzegovina\", \"Botswana\", \"Brazil\", \"Brunei Darussalam\", \"Bulgaria\", \"Burkina Faso\", \"Burundi\", \"Cabo Verde\", \"Cambodia\", \"Cameroon\", \"Canada\", \"Central African Republic\", \"Chad\", \"Chile\", \"China\", \"Colombia\", \"Comoros\", \"Congo, Dem. Rep.\", \"Congo, Rep.\", \"Costa Rica\", \"Cote d'Ivoire\", \"Croatia\", \"Cyprus\", \"Czech Republic\", \"Denmark\", \"Djibouti\", \"Dominican Republic\", \"Ecuador\", \"Egypt, Arab Rep.\", \"El Salvador\", \"Equatorial Guinea\", \"Estonia\", \"Eswatini\", \"Ethiopia\", \"Fiji\", \"Finland\", \"France\", \"Gabon\", \"Gambia, The\", \"Georgia\", \"Germany\", \"Ghana\", \"Greece\", \"Grenada\", \"Guatemala\", \"Guinea\", \"Guinea-Bissau\", \"Guyana\", \"Haiti\", \"Honduras\", \"Hong Kong SAR, China\", \"Hungary\", \"Iceland\", \"India\", \"Indonesia\", \"Iran, Islamic Rep.\", \"Iraq\", \"Ireland\", \"Israel\", \"Italy\", \"Jamaica\", \"Japan\", \"Jordan\", \"Kazakhstan\", \"Kenya\", \"Kiribati\", \"Korea, Rep.\", \"Kosovo\", \"Kuwait\", \"Kyrgyz Republic\", \"Lao PDR\", \"Latvia\", \"Lebanon\", \"Lesotho\", \"Liberia\", \"Libya\", \"Lithuania\", \"Luxembourg\", \"Macao SAR, China\", \"Madagascar\", \"Malawi\", \"Malaysia\", \"Maldives\", \"Mali\", \"Malta\", \"Mauritania\", \"Mauritius\", \"Mexico\", \"Micronesia, Fed. Sts.\", \"Moldova\", \"Mongolia\", \"Montenegro\", \"Morocco\", \"Mozambique\", \"Myanmar\", \"Namibia\", \"Nepal\", \"Netherlands\", \"New Zealand\", \"Nicaragua\", \"Niger\", \"Nigeria\", \"North Macedonia\", \"Norway\", \"Oman\", \"Pakistan\", \"Panama\", \"Papua New Guinea\", \"Paraguay\", \"Peru\", \"Philippines\", \"Poland\", \"Portugal\", \"Puerto Rico\", \"Qatar\", \"Romania\", \"Russian Federation\", \"Rwanda\", \"Samoa\", \"Sao Tome and Principe\", \"Saudi Arabia\", \"Senegal\", \"Serbia\", \"Seychelles\", \"Sierra Leone\", \"Singapore\", \"Slovak Republic\", \"Slovenia\", \"Solomon Islands\", \"South Africa\", \"Spain\", \"Sri Lanka\", \"St. Lucia\", \"St. Vincent and the Grenadines\", \"Sudan\", \"Suriname\", \"Sweden\", \"Switzerland\", \"Tajikistan\", \"Tanzania\", \"Thailand\", \"Timor-Leste\", \"Togo\", \"Tonga\", \"Trinidad and Tobago\", \"Tunisia\", \"Turkey\", \"Turkmenistan\", \"Uganda\", \"Ukraine\", \"United Arab Emirates\", \"United Kingdom\", \"United States\", \"Uruguay\", \"Uzbekistan\", \"Vanuatu\", \"Vietnam\", \"West Bank and Gaza\", \"Zambia\", \"Zimbabwe\"], \"legendgroup\": \"\", \"marker\": {\"color\": \"#636efa\"}, \"name\": \"\", \"offsetgroup\": \"\", \"orientation\": \"v\", \"showlegend\": false, \"textposition\": \"auto\", \"type\": \"bar\", \"x\": [\"South Asia\", \"Europe & Central Asia\", \"Middle East & North Africa\", \"Sub-Saharan Africa \", \"Latin America & Caribbean \", \"Latin America & Caribbean \", \"Europe & Central Asia\", \"East Asia & Pacific\", \"Europe & Central Asia\", \"Europe & Central Asia\", \"Latin America & Caribbean \", \"Middle East & North Africa\", \"South Asia\", \"Latin America & Caribbean \", \"Europe & Central Asia\", \"Europe & Central Asia\", \"Latin America & Caribbean \", \"Sub-Saharan Africa \", \"North America\", \"South Asia\", \"Latin America & Caribbean \", \"Europe & Central Asia\", \"Sub-Saharan Africa \", \"Latin America & Caribbean \", \"East Asia & Pacific\", \"Europe & Central Asia\", \"Sub-Saharan Africa \", \"Sub-Saharan Africa \", \"Sub-Saharan Africa \", \"East Asia & Pacific\", \"Sub-Saharan Africa \", \"North America\", \"Sub-Saharan Africa \", \"Sub-Saharan Africa \", \"Latin America & Caribbean \", \"East Asia & Pacific\", \"Latin America & Caribbean \", \"Sub-Saharan Africa \", \"Sub-Saharan Africa \", \"Sub-Saharan Africa \", \"Latin America & Caribbean \", \"Sub-Saharan Africa \", \"Europe & Central Asia\", \"Europe & Central Asia\", \"Europe & Central Asia\", \"Europe & Central Asia\", \"Middle East & North Africa\", \"Latin America & Caribbean \", \"Latin America & Caribbean \", \"Middle East & North Africa\", \"Latin America & Caribbean \", \"Sub-Saharan Africa \", \"Europe & Central Asia\", \"Sub-Saharan Africa \", \"Sub-Saharan Africa \", \"East Asia & Pacific\", \"Europe & Central Asia\", \"Europe & Central Asia\", \"Sub-Saharan Africa \", \"Sub-Saharan Africa \", \"Europe & Central Asia\", \"Europe & Central Asia\", \"Sub-Saharan Africa \", \"Europe & Central Asia\", \"Latin America & Caribbean \", \"Latin America & Caribbean \", \"Sub-Saharan Africa \", \"Sub-Saharan Africa \", \"Latin America & Caribbean \", \"Latin America & Caribbean \", \"Latin America & Caribbean \", \"East Asia & Pacific\", \"Europe & Central Asia\", \"Europe & Central Asia\", \"South Asia\", \"East Asia & Pacific\", \"Middle East & North Africa\", \"Middle East & North Africa\", \"Europe & Central Asia\", \"Middle East & North Africa\", \"Europe & Central Asia\", \"Latin America & Caribbean \", \"East Asia & Pacific\", \"Middle East & North Africa\", \"Europe & Central Asia\", \"Sub-Saharan Africa \", \"East Asia & Pacific\", \"East Asia & Pacific\", \"Europe & Central Asia\", \"Middle East & North Africa\", \"Europe & Central Asia\", \"East Asia & Pacific\", \"Europe & Central Asia\", \"Middle East & North Africa\", \"Sub-Saharan Africa \", \"Sub-Saharan Africa \", \"Middle East & North Africa\", \"Europe & Central Asia\", \"Europe & Central Asia\", \"East Asia & Pacific\", \"Sub-Saharan Africa \", \"Sub-Saharan Africa \", \"East Asia & Pacific\", \"South Asia\", \"Sub-Saharan Africa \", \"Middle East & North Africa\", \"Sub-Saharan Africa \", \"Sub-Saharan Africa \", \"Latin America & Caribbean \", \"East Asia & Pacific\", \"Europe & Central Asia\", \"East Asia & Pacific\", \"Europe & Central Asia\", \"Middle East & North Africa\", \"Sub-Saharan Africa \", \"East Asia & Pacific\", \"Sub-Saharan Africa \", \"South Asia\", \"Europe & Central Asia\", \"East Asia & Pacific\", \"Latin America & Caribbean \", \"Sub-Saharan Africa \", \"Sub-Saharan Africa \", \"Europe & Central Asia\", \"Europe & Central Asia\", \"Middle East & North Africa\", \"South Asia\", \"Latin America & Caribbean \", \"East Asia & Pacific\", \"Latin America & Caribbean \", \"Latin America & Caribbean \", \"East Asia & Pacific\", \"Europe & Central Asia\", \"Europe & Central Asia\", \"Latin America & Caribbean \", \"Middle East & North Africa\", \"Europe & Central Asia\", \"Europe & Central Asia\", \"Sub-Saharan Africa \", \"East Asia & Pacific\", \"Sub-Saharan Africa \", \"Middle East & North Africa\", \"Sub-Saharan Africa \", \"Europe & Central Asia\", \"Sub-Saharan Africa \", \"Sub-Saharan Africa \", \"East Asia & Pacific\", \"Europe & Central Asia\", \"Europe & Central Asia\", \"East Asia & Pacific\", \"Sub-Saharan Africa \", \"Europe & Central Asia\", \"South Asia\", \"Latin America & Caribbean \", \"Latin America & Caribbean \", \"Sub-Saharan Africa \", \"Latin America & Caribbean \", \"Europe & Central Asia\", \"Europe & Central Asia\", \"Europe & Central Asia\", \"Sub-Saharan Africa \", \"East Asia & Pacific\", \"East Asia & Pacific\", \"Sub-Saharan Africa \", \"East Asia & Pacific\", \"Latin America & Caribbean \", \"Middle East & North Africa\", \"Europe & Central Asia\", \"Europe & Central Asia\", \"Sub-Saharan Africa \", \"Europe & Central Asia\", \"Middle East & North Africa\", \"Europe & Central Asia\", \"North America\", \"Latin America & Caribbean \", \"Europe & Central Asia\", \"East Asia & Pacific\", \"East Asia & Pacific\", \"Middle East & North Africa\", \"Sub-Saharan Africa \", \"Sub-Saharan Africa \"], \"xaxis\": \"x\", \"y\": [37172386.0, 2866376.0, 42228429.0, 30809762.0, 96286.0, 44494502.0, 2951776.0, 24982688.0, 8840521.0, 9939771.0, 385640.0, 1569439.0, 161356039.0, 286641.0, 9483499.0, 11427054.0, 383071.0, 11485048.0, 63920.0, 754394.0, 11353142.0, 3323929.0, 2254126.0, 209469333.0, 428962.0, 7025037.0, 19751535.0, 11175378.0, 543767.0, 16249798.0, 25216237.0, 37057765.0, 4666377.0, 15477751.0, 18729160.0, 1392730000.0, 49661056.0, 832322.0, 84068091.0, 5244363.0, 4999441.0, 25069229.0, 4087843.0, 1189265.0, 10629928.0, 5793636.0, 958920.0, 10627165.0, 17084357.0, 98423595.0, 6420744.0, 1308974.0, 1321977.0, 1136191.0, 109224559.0, 883483.0, 5515525.0, 66965912.0, 2119275.0, 2280102.0, 3726549.0, 82905782.0, 29767108.0, 10732882.0, 111454.0, 16346950.0, 12414318.0, 1874309.0, 779004.0, 11123176.0, 9587522.0, 7451000.0, 9775564.0, 352721.0, 1352617328.0, 267663435.0, 81800269.0, 38433600.0, 4867316.0, 8882800.0, 60421760.0, 2934855.0, 126529100.0, 9956011.0, 18276498.5, 51393010.0, 115847.0, 51606633.0, 1797085.0, 4137312.0, 6322800.0, 7061507.0, 1927174.0, 6848925.0, 2108132.0, 4818977.0, 6678567.0, 2801543.0, 607950.0, 631636.0, 26262368.0, 18143315.0, 31528585.0, 515696.0, 19077690.0, 484630.0, 4403319.0, 1265303.0, 126190788.0, 112640.0, 2706049.0, 3170208.0, 622227.0, 36029138.0, 29495962.0, 53708395.0, 2448255.0, 28087871.0, 17231624.0, 4841000.0, 6465513.0, 22442948.0, 195874740.0, 2082958.0, 5311916.0, 4829483.0, 212215030.0, 4176873.0, 8606316.0, 6956071.0, 31989256.0, 106651922.0, 37974750.0, 10283822.0, 3193354.0, 2781677.0, 19472545.0, 144477860.0, 12301939.0, 196130.0, 211028.0, 33699947.0, 15854360.0, 6982604.0, 96762.0, 7650154.0, 5638676.0, 5446771.0, 2073894.0, 652858.0, 57779622.0, 46797754.0, 21670000.0, 181889.0, 110210.0, 41801533.0, 575987.0, 10175214.0, 8514329.0, 9100837.0, 56318348.0, 69428524.0, 1267972.0, 7889094.0, 103197.0, 1389858.0, 11565204.0, 82319724.0, 5850908.0, 42723139.0, 44622518.0, 9630959.0, 66460344.0, 326687501.0, 3449299.0, 32956100.0, 292680.0, 95540395.0, 4569087.0, 17351822.0, 14439018.0], \"yaxis\": \"y\"}],\n",
              "                        {\"barmode\": \"relative\", \"height\": 800, \"legend\": {\"tracegroupgap\": 0}, \"margin\": {\"t\": 60}, \"template\": {\"data\": {\"bar\": [{\"error_x\": {\"color\": \"#2a3f5f\"}, \"error_y\": {\"color\": \"#2a3f5f\"}, \"marker\": {\"line\": {\"color\": \"#E5ECF6\", \"width\": 0.5}}, \"type\": \"bar\"}], \"barpolar\": [{\"marker\": {\"line\": {\"color\": \"#E5ECF6\", \"width\": 0.5}}, \"type\": \"barpolar\"}], \"carpet\": [{\"aaxis\": {\"endlinecolor\": \"#2a3f5f\", \"gridcolor\": \"white\", \"linecolor\": \"white\", \"minorgridcolor\": \"white\", \"startlinecolor\": \"#2a3f5f\"}, \"baxis\": {\"endlinecolor\": \"#2a3f5f\", \"gridcolor\": \"white\", \"linecolor\": \"white\", \"minorgridcolor\": \"white\", \"startlinecolor\": \"#2a3f5f\"}, \"type\": \"carpet\"}], \"choropleth\": [{\"colorbar\": {\"outlinewidth\": 0, \"ticks\": \"\"}, \"type\": \"choropleth\"}], \"contour\": [{\"colorbar\": {\"outlinewidth\": 0, \"ticks\": \"\"}, \"colorscale\": [[0.0, \"#0d0887\"], [0.1111111111111111, \"#46039f\"], [0.2222222222222222, \"#7201a8\"], [0.3333333333333333, \"#9c179e\"], [0.4444444444444444, \"#bd3786\"], [0.5555555555555556, \"#d8576b\"], [0.6666666666666666, \"#ed7953\"], [0.7777777777777778, \"#fb9f3a\"], [0.8888888888888888, \"#fdca26\"], [1.0, \"#f0f921\"]], \"type\": \"contour\"}], \"contourcarpet\": [{\"colorbar\": {\"outlinewidth\": 0, \"ticks\": \"\"}, \"type\": \"contourcarpet\"}], \"heatmap\": [{\"colorbar\": {\"outlinewidth\": 0, \"ticks\": \"\"}, \"colorscale\": [[0.0, \"#0d0887\"], [0.1111111111111111, \"#46039f\"], [0.2222222222222222, \"#7201a8\"], [0.3333333333333333, \"#9c179e\"], [0.4444444444444444, \"#bd3786\"], [0.5555555555555556, \"#d8576b\"], [0.6666666666666666, \"#ed7953\"], [0.7777777777777778, \"#fb9f3a\"], [0.8888888888888888, \"#fdca26\"], [1.0, \"#f0f921\"]], \"type\": \"heatmap\"}], \"heatmapgl\": [{\"colorbar\": {\"outlinewidth\": 0, \"ticks\": \"\"}, \"colorscale\": [[0.0, \"#0d0887\"], [0.1111111111111111, \"#46039f\"], [0.2222222222222222, \"#7201a8\"], [0.3333333333333333, \"#9c179e\"], [0.4444444444444444, \"#bd3786\"], [0.5555555555555556, \"#d8576b\"], [0.6666666666666666, \"#ed7953\"], [0.7777777777777778, \"#fb9f3a\"], [0.8888888888888888, \"#fdca26\"], [1.0, \"#f0f921\"]], \"type\": \"heatmapgl\"}], \"histogram\": [{\"marker\": {\"colorbar\": {\"outlinewidth\": 0, \"ticks\": \"\"}}, \"type\": \"histogram\"}], \"histogram2d\": [{\"colorbar\": {\"outlinewidth\": 0, \"ticks\": \"\"}, \"colorscale\": [[0.0, \"#0d0887\"], [0.1111111111111111, \"#46039f\"], [0.2222222222222222, \"#7201a8\"], [0.3333333333333333, \"#9c179e\"], [0.4444444444444444, \"#bd3786\"], [0.5555555555555556, \"#d8576b\"], [0.6666666666666666, \"#ed7953\"], [0.7777777777777778, \"#fb9f3a\"], [0.8888888888888888, \"#fdca26\"], [1.0, \"#f0f921\"]], \"type\": \"histogram2d\"}], \"histogram2dcontour\": [{\"colorbar\": {\"outlinewidth\": 0, \"ticks\": \"\"}, \"colorscale\": [[0.0, \"#0d0887\"], [0.1111111111111111, \"#46039f\"], [0.2222222222222222, \"#7201a8\"], [0.3333333333333333, \"#9c179e\"], [0.4444444444444444, \"#bd3786\"], [0.5555555555555556, \"#d8576b\"], [0.6666666666666666, \"#ed7953\"], [0.7777777777777778, \"#fb9f3a\"], [0.8888888888888888, \"#fdca26\"], [1.0, \"#f0f921\"]], \"type\": \"histogram2dcontour\"}], \"mesh3d\": [{\"colorbar\": {\"outlinewidth\": 0, \"ticks\": \"\"}, \"type\": \"mesh3d\"}], \"parcoords\": [{\"line\": {\"colorbar\": {\"outlinewidth\": 0, \"ticks\": \"\"}}, \"type\": \"parcoords\"}], \"pie\": [{\"automargin\": true, \"type\": \"pie\"}], \"scatter\": [{\"marker\": {\"colorbar\": {\"outlinewidth\": 0, \"ticks\": \"\"}}, \"type\": \"scatter\"}], \"scatter3d\": [{\"line\": {\"colorbar\": {\"outlinewidth\": 0, \"ticks\": \"\"}}, \"marker\": {\"colorbar\": {\"outlinewidth\": 0, \"ticks\": \"\"}}, \"type\": \"scatter3d\"}], \"scattercarpet\": [{\"marker\": {\"colorbar\": {\"outlinewidth\": 0, \"ticks\": \"\"}}, \"type\": \"scattercarpet\"}], \"scattergeo\": [{\"marker\": {\"colorbar\": {\"outlinewidth\": 0, \"ticks\": \"\"}}, \"type\": \"scattergeo\"}], \"scattergl\": [{\"marker\": {\"colorbar\": {\"outlinewidth\": 0, \"ticks\": \"\"}}, \"type\": \"scattergl\"}], \"scattermapbox\": [{\"marker\": {\"colorbar\": {\"outlinewidth\": 0, \"ticks\": \"\"}}, \"type\": \"scattermapbox\"}], \"scatterpolar\": [{\"marker\": {\"colorbar\": {\"outlinewidth\": 0, \"ticks\": \"\"}}, \"type\": \"scatterpolar\"}], \"scatterpolargl\": [{\"marker\": {\"colorbar\": {\"outlinewidth\": 0, \"ticks\": \"\"}}, \"type\": \"scatterpolargl\"}], \"scatterternary\": [{\"marker\": {\"colorbar\": {\"outlinewidth\": 0, \"ticks\": \"\"}}, \"type\": \"scatterternary\"}], \"surface\": [{\"colorbar\": {\"outlinewidth\": 0, \"ticks\": \"\"}, \"colorscale\": [[0.0, \"#0d0887\"], [0.1111111111111111, \"#46039f\"], [0.2222222222222222, \"#7201a8\"], [0.3333333333333333, \"#9c179e\"], [0.4444444444444444, \"#bd3786\"], [0.5555555555555556, \"#d8576b\"], [0.6666666666666666, \"#ed7953\"], [0.7777777777777778, \"#fb9f3a\"], [0.8888888888888888, \"#fdca26\"], [1.0, \"#f0f921\"]], \"type\": \"surface\"}], \"table\": [{\"cells\": {\"fill\": {\"color\": \"#EBF0F8\"}, \"line\": {\"color\": \"white\"}}, \"header\": {\"fill\": {\"color\": \"#C8D4E3\"}, \"line\": {\"color\": \"white\"}}, \"type\": \"table\"}]}, \"layout\": {\"annotationdefaults\": {\"arrowcolor\": \"#2a3f5f\", \"arrowhead\": 0, \"arrowwidth\": 1}, \"coloraxis\": {\"colorbar\": {\"outlinewidth\": 0, \"ticks\": \"\"}}, \"colorscale\": {\"diverging\": [[0, \"#8e0152\"], [0.1, \"#c51b7d\"], [0.2, \"#de77ae\"], [0.3, \"#f1b6da\"], [0.4, \"#fde0ef\"], [0.5, \"#f7f7f7\"], [0.6, \"#e6f5d0\"], [0.7, \"#b8e186\"], [0.8, \"#7fbc41\"], [0.9, \"#4d9221\"], [1, \"#276419\"]], \"sequential\": [[0.0, \"#0d0887\"], [0.1111111111111111, \"#46039f\"], [0.2222222222222222, \"#7201a8\"], [0.3333333333333333, \"#9c179e\"], [0.4444444444444444, \"#bd3786\"], [0.5555555555555556, \"#d8576b\"], [0.6666666666666666, \"#ed7953\"], [0.7777777777777778, \"#fb9f3a\"], [0.8888888888888888, \"#fdca26\"], [1.0, \"#f0f921\"]], \"sequentialminus\": [[0.0, \"#0d0887\"], [0.1111111111111111, \"#46039f\"], [0.2222222222222222, \"#7201a8\"], [0.3333333333333333, \"#9c179e\"], [0.4444444444444444, \"#bd3786\"], [0.5555555555555556, \"#d8576b\"], [0.6666666666666666, \"#ed7953\"], [0.7777777777777778, \"#fb9f3a\"], [0.8888888888888888, \"#fdca26\"], [1.0, \"#f0f921\"]]}, \"colorway\": [\"#636efa\", \"#EF553B\", \"#00cc96\", \"#ab63fa\", \"#FFA15A\", \"#19d3f3\", \"#FF6692\", \"#B6E880\", \"#FF97FF\", \"#FECB52\"], \"font\": {\"color\": \"#2a3f5f\"}, \"geo\": {\"bgcolor\": \"white\", \"lakecolor\": \"white\", \"landcolor\": \"#E5ECF6\", \"showlakes\": true, \"showland\": true, \"subunitcolor\": \"white\"}, \"hoverlabel\": {\"align\": \"left\"}, \"hovermode\": \"closest\", \"mapbox\": {\"style\": \"light\"}, \"paper_bgcolor\": \"white\", \"plot_bgcolor\": \"#E5ECF6\", \"polar\": {\"angularaxis\": {\"gridcolor\": \"white\", \"linecolor\": \"white\", \"ticks\": \"\"}, \"bgcolor\": \"#E5ECF6\", \"radialaxis\": {\"gridcolor\": \"white\", \"linecolor\": \"white\", \"ticks\": \"\"}}, \"scene\": {\"xaxis\": {\"backgroundcolor\": \"#E5ECF6\", \"gridcolor\": \"white\", \"gridwidth\": 2, \"linecolor\": \"white\", \"showbackground\": true, \"ticks\": \"\", \"zerolinecolor\": \"white\"}, \"yaxis\": {\"backgroundcolor\": \"#E5ECF6\", \"gridcolor\": \"white\", \"gridwidth\": 2, \"linecolor\": \"white\", \"showbackground\": true, \"ticks\": \"\", \"zerolinecolor\": \"white\"}, \"zaxis\": {\"backgroundcolor\": \"#E5ECF6\", \"gridcolor\": \"white\", \"gridwidth\": 2, \"linecolor\": \"white\", \"showbackground\": true, \"ticks\": \"\", \"zerolinecolor\": \"white\"}}, \"shapedefaults\": {\"line\": {\"color\": \"#2a3f5f\"}}, \"ternary\": {\"aaxis\": {\"gridcolor\": \"white\", \"linecolor\": \"white\", \"ticks\": \"\"}, \"baxis\": {\"gridcolor\": \"white\", \"linecolor\": \"white\", \"ticks\": \"\"}, \"bgcolor\": \"#E5ECF6\", \"caxis\": {\"gridcolor\": \"white\", \"linecolor\": \"white\", \"ticks\": \"\"}}, \"title\": {\"x\": 0.05}, \"xaxis\": {\"automargin\": true, \"gridcolor\": \"white\", \"linecolor\": \"white\", \"ticks\": \"\", \"title\": {\"standoff\": 15}, \"zerolinecolor\": \"white\", \"zerolinewidth\": 2}, \"yaxis\": {\"automargin\": true, \"gridcolor\": \"white\", \"linecolor\": \"white\", \"ticks\": \"\", \"title\": {\"standoff\": 15}, \"zerolinecolor\": \"white\", \"zerolinewidth\": 2}}}, \"xaxis\": {\"anchor\": \"y\", \"domain\": [0.0, 1.0], \"title\": {\"text\": \"Region\"}}, \"yaxis\": {\"anchor\": \"x\", \"domain\": [0.0, 1.0], \"title\": {\"text\": \"SP.POP.TOTL\"}}},\n",
              "                        {\"responsive\": true}\n",
              "                    ).then(function(){\n",
              "                            \n",
              "var gd = document.getElementById('6150538c-11f0-4bca-b318-dc59c8764955');\n",
              "var x = new MutationObserver(function (mutations, observer) {{\n",
              "        var display = window.getComputedStyle(gd).display;\n",
              "        if (!display || display === 'none') {{\n",
              "            console.log([gd, 'removed!']);\n",
              "            Plotly.purge(gd);\n",
              "            observer.disconnect();\n",
              "        }}\n",
              "}});\n",
              "\n",
              "// Listen for the removal of the full notebook cells\n",
              "var notebookContainer = gd.closest('#notebook-container');\n",
              "if (notebookContainer) {{\n",
              "    x.observe(notebookContainer, {childList: true});\n",
              "}}\n",
              "\n",
              "// Listen for the clearing of the current output cell\n",
              "var outputEl = gd.closest('.output');\n",
              "if (outputEl) {{\n",
              "    x.observe(outputEl, {childList: true});\n",
              "}}\n",
              "\n",
              "                        })\n",
              "                };\n",
              "                \n",
              "            </script>\n",
              "        </div>\n",
              "</body>\n",
              "</html>"
            ]
          },
          "metadata": {
            "tags": []
          }
        }
      ]
    },
    {
      "cell_type": "code",
      "metadata": {
        "id": "Z76RBOC5BKIK"
      },
      "source": [
        "How about Life Expendency?"
      ],
      "execution_count": null,
      "outputs": []
    },
    {
      "cell_type": "code",
      "metadata": {
        "colab": {
          "base_uri": "https://localhost:8080/",
          "height": 617
        },
        "id": "ZN27CsV9BVyB",
        "outputId": "24676f4d-5ac5-42b5-d0be-49843431ce22"
      },
      "source": [
        "# This Bar Chart does not make much sense. \n",
        "# It does not help us compare the longevity of people in each region\n",
        "\n",
        "fig = px.bar(data_frame=df_2018, \n",
        "             x=\"Region\", y=\"SP.DYN.LE00.IN\", \n",
        "             hover_name=\"Country Name\", \n",
        "             color=\"Region\",\n",
        "             height=600\n",
        "             )\n",
        "fig.show()"
      ],
      "execution_count": 57,
      "outputs": [
        {
          "output_type": "display_data",
          "data": {
            "text/html": [
              "<html>\n",
              "<head><meta charset=\"utf-8\" /></head>\n",
              "<body>\n",
              "    <div>\n",
              "            <script src=\"https://cdnjs.cloudflare.com/ajax/libs/mathjax/2.7.5/MathJax.js?config=TeX-AMS-MML_SVG\"></script><script type=\"text/javascript\">if (window.MathJax) {MathJax.Hub.Config({SVG: {font: \"STIX-Web\"}});}</script>\n",
              "                <script type=\"text/javascript\">window.PlotlyConfig = {MathJaxConfig: 'local'};</script>\n",
              "        <script src=\"https://cdn.plot.ly/plotly-latest.min.js\"></script>    \n",
              "            <div id=\"5307deef-cec6-4143-ab87-ef07260cb39e\" class=\"plotly-graph-div\" style=\"height:600px; width:100%;\"></div>\n",
              "            <script type=\"text/javascript\">\n",
              "                \n",
              "                    window.PLOTLYENV=window.PLOTLYENV || {};\n",
              "                    \n",
              "                if (document.getElementById(\"5307deef-cec6-4143-ab87-ef07260cb39e\")) {\n",
              "                    Plotly.newPlot(\n",
              "                        '5307deef-cec6-4143-ab87-ef07260cb39e',\n",
              "                        [{\"alignmentgroup\": \"True\", \"hoverlabel\": {\"namelength\": 0}, \"hovertemplate\": \"<b>%{hovertext}</b><br><br>Region=%{x}<br>SP.DYN.LE00.IN=%{y}\", \"hovertext\": [\"Afghanistan\", \"Bangladesh\", \"Bhutan\", \"India\", \"Maldives\", \"Nepal\", \"Pakistan\", \"Sri Lanka\"], \"legendgroup\": \"Region=South Asia\", \"marker\": {\"color\": \"#636efa\"}, \"name\": \"Region=South Asia\", \"offsetgroup\": \"Region=South Asia\", \"orientation\": \"v\", \"showlegend\": true, \"textposition\": \"auto\", \"type\": \"bar\", \"x\": [\"South Asia\", \"South Asia\", \"South Asia\", \"South Asia\", \"South Asia\", \"South Asia\", \"South Asia\", \"South Asia\"], \"xaxis\": \"x\", \"y\": [64.486, 72.32, 71.46, 69.416, 78.627, 70.47800000000001, 67.11399999999999, 76.812], \"yaxis\": \"y\"}, {\"alignmentgroup\": \"True\", \"hoverlabel\": {\"namelength\": 0}, \"hovertemplate\": \"<b>%{hovertext}</b><br><br>Region=%{x}<br>SP.DYN.LE00.IN=%{y}\", \"hovertext\": [\"Albania\", \"Armenia\", \"Austria\", \"Azerbaijan\", \"Belarus\", \"Belgium\", \"Bosnia and Herzegovina\", \"Bulgaria\", \"Croatia\", \"Cyprus\", \"Czech Republic\", \"Denmark\", \"Estonia\", \"Finland\", \"France\", \"Georgia\", \"Germany\", \"Greece\", \"Hungary\", \"Iceland\", \"Ireland\", \"Italy\", \"Kazakhstan\", \"Kosovo\", \"Kyrgyz Republic\", \"Latvia\", \"Lithuania\", \"Luxembourg\", \"Moldova\", \"Montenegro\", \"Netherlands\", \"North Macedonia\", \"Norway\", \"Poland\", \"Portugal\", \"Romania\", \"Russian Federation\", \"Serbia\", \"Slovak Republic\", \"Slovenia\", \"Spain\", \"Sweden\", \"Switzerland\", \"Tajikistan\", \"Turkey\", \"Turkmenistan\", \"Ukraine\", \"United Kingdom\", \"Uzbekistan\"], \"legendgroup\": \"Region=Europe & Central Asia\", \"marker\": {\"color\": \"#EF553B\"}, \"name\": \"Region=Europe & Central Asia\", \"offsetgroup\": \"Region=Europe & Central Asia\", \"orientation\": \"v\", \"showlegend\": true, \"textposition\": \"auto\", \"type\": \"bar\", \"x\": [\"Europe & Central Asia\", \"Europe & Central Asia\", \"Europe & Central Asia\", \"Europe & Central Asia\", \"Europe & Central Asia\", \"Europe & Central Asia\", \"Europe & Central Asia\", \"Europe & Central Asia\", \"Europe & Central Asia\", \"Europe & Central Asia\", \"Europe & Central Asia\", \"Europe & Central Asia\", \"Europe & Central Asia\", \"Europe & Central Asia\", \"Europe & Central Asia\", \"Europe & Central Asia\", \"Europe & Central Asia\", \"Europe & Central Asia\", \"Europe & Central Asia\", \"Europe & Central Asia\", \"Europe & Central Asia\", \"Europe & Central Asia\", \"Europe & Central Asia\", \"Europe & Central Asia\", \"Europe & Central Asia\", \"Europe & Central Asia\", \"Europe & Central Asia\", \"Europe & Central Asia\", \"Europe & Central Asia\", \"Europe & Central Asia\", \"Europe & Central Asia\", \"Europe & Central Asia\", \"Europe & Central Asia\", \"Europe & Central Asia\", \"Europe & Central Asia\", \"Europe & Central Asia\", \"Europe & Central Asia\", \"Europe & Central Asia\", \"Europe & Central Asia\", \"Europe & Central Asia\", \"Europe & Central Asia\", \"Europe & Central Asia\", \"Europe & Central Asia\", \"Europe & Central Asia\", \"Europe & Central Asia\", \"Europe & Central Asia\", \"Europe & Central Asia\", \"Europe & Central Asia\", \"Europe & Central Asia\"], \"xaxis\": \"x\", \"y\": [78.458, 74.945, 81.6926829268, 72.86399999999999, 74.1756097561, 81.5951219512, 77.262, 74.9634146341, 78.0707317073, 80.828, 79.02926829270001, 80.9536585366, 78.243902439, 81.7341463415, 82.7243902439, 73.6, 80.8926829268, 81.787804878, 76.0658536585, 82.8609756098, 82.256097561, 83.3463414634, 73.15, 72.1951219512, 71.4, 74.78292682930001, 75.6804878049, 82.2951219512, 71.808, 76.77, 81.81219512199999, 75.688, 82.7585365854, 77.6024390244, 81.3243902439, 75.3585365854, 72.65731707319999, 75.8902439024, 77.2658536585, 81.3780487805, 83.4317073171, 82.5585365854, 83.7536585366, 70.87899999999999, 77.437, 68.07300000000001, 71.5826829268, 81.256097561, 71.57300000000001], \"yaxis\": \"y\"}, {\"alignmentgroup\": \"True\", \"hoverlabel\": {\"namelength\": 0}, \"hovertemplate\": \"<b>%{hovertext}</b><br><br>Region=%{x}<br>SP.DYN.LE00.IN=%{y}\", \"hovertext\": [\"Algeria\", \"Bahrain\", \"Djibouti\", \"Egypt, Arab Rep.\", \"Iran, Islamic Rep.\", \"Iraq\", \"Israel\", \"Jordan\", \"Kuwait\", \"Lebanon\", \"Libya\", \"Malta\", \"Morocco\", \"Oman\", \"Qatar\", \"Saudi Arabia\", \"Tunisia\", \"United Arab Emirates\", \"West Bank and Gaza\"], \"legendgroup\": \"Region=Middle East & North Africa\", \"marker\": {\"color\": \"#00cc96\"}, \"name\": \"Region=Middle East & North Africa\", \"offsetgroup\": \"Region=Middle East & North Africa\", \"orientation\": \"v\", \"showlegend\": true, \"textposition\": \"auto\", \"type\": \"bar\", \"x\": [\"Middle East & North Africa\", \"Middle East & North Africa\", \"Middle East & North Africa\", \"Middle East & North Africa\", \"Middle East & North Africa\", \"Middle East & North Africa\", \"Middle East & North Africa\", \"Middle East & North Africa\", \"Middle East & North Africa\", \"Middle East & North Africa\", \"Middle East & North Africa\", \"Middle East & North Africa\", \"Middle East & North Africa\", \"Middle East & North Africa\", \"Middle East & North Africa\", \"Middle East & North Africa\", \"Middle East & North Africa\", \"Middle East & North Africa\", \"Middle East & North Africa\"], \"xaxis\": \"x\", \"y\": [76.693, 77.163, 66.582, 71.825, 76.479, 70.454, 82.8024390244, 74.405, 75.398, 78.875, 72.72399999999999, 82.4487804878, 76.453, 77.633, 80.1, 74.998, 76.505, 77.814, 73.895], \"yaxis\": \"y\"}, {\"alignmentgroup\": \"True\", \"hoverlabel\": {\"namelength\": 0}, \"hovertemplate\": \"<b>%{hovertext}</b><br><br>Region=%{x}<br>SP.DYN.LE00.IN=%{y}\", \"hovertext\": [\"Angola\", \"Benin\", \"Botswana\", \"Burkina Faso\", \"Burundi\", \"Cabo Verde\", \"Cameroon\", \"Central African Republic\", \"Chad\", \"Comoros\", \"Congo, Dem. Rep.\", \"Congo, Rep.\", \"Cote d'Ivoire\", \"Equatorial Guinea\", \"Eswatini\", \"Ethiopia\", \"Gabon\", \"Gambia, The\", \"Ghana\", \"Guinea\", \"Guinea-Bissau\", \"Kenya\", \"Lesotho\", \"Liberia\", \"Madagascar\", \"Malawi\", \"Mali\", \"Mauritania\", \"Mauritius\", \"Mozambique\", \"Namibia\", \"Niger\", \"Nigeria\", \"Rwanda\", \"Sao Tome and Principe\", \"Senegal\", \"Seychelles\", \"Sierra Leone\", \"South Africa\", \"Sudan\", \"Tanzania\", \"Togo\", \"Uganda\", \"Zambia\", \"Zimbabwe\"], \"legendgroup\": \"Region=Sub-Saharan Africa \", \"marker\": {\"color\": \"#ab63fa\"}, \"name\": \"Region=Sub-Saharan Africa \", \"offsetgroup\": \"Region=Sub-Saharan Africa \", \"orientation\": \"v\", \"showlegend\": true, \"textposition\": \"auto\", \"type\": \"bar\", \"x\": [\"Sub-Saharan Africa \", \"Sub-Saharan Africa \", \"Sub-Saharan Africa \", \"Sub-Saharan Africa \", \"Sub-Saharan Africa \", \"Sub-Saharan Africa \", \"Sub-Saharan Africa \", \"Sub-Saharan Africa \", \"Sub-Saharan Africa \", \"Sub-Saharan Africa \", \"Sub-Saharan Africa \", \"Sub-Saharan Africa \", \"Sub-Saharan Africa \", \"Sub-Saharan Africa \", \"Sub-Saharan Africa \", \"Sub-Saharan Africa \", \"Sub-Saharan Africa \", \"Sub-Saharan Africa \", \"Sub-Saharan Africa \", \"Sub-Saharan Africa \", \"Sub-Saharan Africa \", \"Sub-Saharan Africa \", \"Sub-Saharan Africa \", \"Sub-Saharan Africa \", \"Sub-Saharan Africa \", \"Sub-Saharan Africa \", \"Sub-Saharan Africa \", \"Sub-Saharan Africa \", \"Sub-Saharan Africa \", \"Sub-Saharan Africa \", \"Sub-Saharan Africa \", \"Sub-Saharan Africa \", \"Sub-Saharan Africa \", \"Sub-Saharan Africa \", \"Sub-Saharan Africa \", \"Sub-Saharan Africa \", \"Sub-Saharan Africa \", \"Sub-Saharan Africa \", \"Sub-Saharan Africa \", \"Sub-Saharan Africa \", \"Sub-Saharan Africa \", \"Sub-Saharan Africa \", \"Sub-Saharan Africa \", \"Sub-Saharan Africa \", \"Sub-Saharan Africa \"], \"xaxis\": \"x\", \"y\": [60.782, 61.47, 69.275, 61.174, 61.247, 72.782, 58.92100000000001, 52.805, 53.977, 64.118, 60.368, 64.29, 57.422, 58.402, 59.401, 66.24, 66.187, 61.735, 63.78, 61.185, 58.003, 66.342, 53.705, 63.73, 66.681, 63.798, 58.893, 64.704, 74.4163414634, 60.163000000000004, 63.373000000000005, 62.023999999999994, 54.332, 68.7, 70.17, 67.665, 72.8414634146, 54.309, 63.857, 65.095, 65.015, 60.76, 62.973, 63.51, 61.195], \"yaxis\": \"y\"}, {\"alignmentgroup\": \"True\", \"hoverlabel\": {\"namelength\": 0}, \"hovertemplate\": \"<b>%{hovertext}</b><br><br>Region=%{x}<br>SP.DYN.LE00.IN=%{y}\", \"hovertext\": [\"Antigua and Barbuda\", \"Argentina\", \"Bahamas, The\", \"Barbados\", \"Belize\", \"Bolivia\", \"Brazil\", \"Chile\", \"Colombia\", \"Costa Rica\", \"Dominican Republic\", \"Ecuador\", \"El Salvador\", \"Grenada\", \"Guatemala\", \"Guyana\", \"Haiti\", \"Honduras\", \"Jamaica\", \"Mexico\", \"Nicaragua\", \"Panama\", \"Paraguay\", \"Peru\", \"Puerto Rico\", \"St. Lucia\", \"St. Vincent and the Grenadines\", \"Suriname\", \"Trinidad and Tobago\", \"Uruguay\"], \"legendgroup\": \"Region=Latin America & Caribbean \", \"marker\": {\"color\": \"#FFA15A\"}, \"name\": \"Region=Latin America & Caribbean \", \"offsetgroup\": \"Region=Latin America & Caribbean \", \"orientation\": \"v\", \"showlegend\": true, \"textposition\": \"auto\", \"type\": \"bar\", \"x\": [\"Latin America & Caribbean \", \"Latin America & Caribbean \", \"Latin America & Caribbean \", \"Latin America & Caribbean \", \"Latin America & Caribbean \", \"Latin America & Caribbean \", \"Latin America & Caribbean \", \"Latin America & Caribbean \", \"Latin America & Caribbean \", \"Latin America & Caribbean \", \"Latin America & Caribbean \", \"Latin America & Caribbean \", \"Latin America & Caribbean \", \"Latin America & Caribbean \", \"Latin America & Caribbean \", \"Latin America & Caribbean \", \"Latin America & Caribbean \", \"Latin America & Caribbean \", \"Latin America & Caribbean \", \"Latin America & Caribbean \", \"Latin America & Caribbean \", \"Latin America & Caribbean \", \"Latin America & Caribbean \", \"Latin America & Caribbean \", \"Latin America & Caribbean \", \"Latin America & Caribbean \", \"Latin America & Caribbean \", \"Latin America & Caribbean \", \"Latin America & Caribbean \", \"Latin America & Caribbean \"], \"xaxis\": \"x\", \"y\": [76.885, 76.52, 73.752, 79.081, 74.49600000000001, 71.23899999999999, 75.672, 80.042, 77.109, 80.095, 73.892, 76.8, 73.096, 72.384, 74.063, 69.774, 63.66, 75.08800000000001, 74.368, 74.992, 74.275, 78.329, 74.131, 76.516, 79.778195122, 76.057, 72.415, 71.57, 73.38, 77.77], \"yaxis\": \"y\"}, {\"alignmentgroup\": \"True\", \"hoverlabel\": {\"namelength\": 0}, \"hovertemplate\": \"<b>%{hovertext}</b><br><br>Region=%{x}<br>SP.DYN.LE00.IN=%{y}\", \"hovertext\": [\"Australia\", \"Brunei Darussalam\", \"Cambodia\", \"China\", \"Fiji\", \"Hong Kong SAR, China\", \"Indonesia\", \"Japan\", \"Kiribati\", \"Korea, Rep.\", \"Lao PDR\", \"Macao SAR, China\", \"Malaysia\", \"Micronesia, Fed. Sts.\", \"Mongolia\", \"Myanmar\", \"New Zealand\", \"Papua New Guinea\", \"Philippines\", \"Samoa\", \"Singapore\", \"Solomon Islands\", \"Thailand\", \"Timor-Leste\", \"Tonga\", \"Vanuatu\", \"Vietnam\"], \"legendgroup\": \"Region=East Asia & Pacific\", \"marker\": {\"color\": \"#19d3f3\"}, \"name\": \"Region=East Asia & Pacific\", \"offsetgroup\": \"Region=East Asia & Pacific\", \"orientation\": \"v\", \"showlegend\": true, \"textposition\": \"auto\", \"type\": \"bar\", \"x\": [\"East Asia & Pacific\", \"East Asia & Pacific\", \"East Asia & Pacific\", \"East Asia & Pacific\", \"East Asia & Pacific\", \"East Asia & Pacific\", \"East Asia & Pacific\", \"East Asia & Pacific\", \"East Asia & Pacific\", \"East Asia & Pacific\", \"East Asia & Pacific\", \"East Asia & Pacific\", \"East Asia & Pacific\", \"East Asia & Pacific\", \"East Asia & Pacific\", \"East Asia & Pacific\", \"East Asia & Pacific\", \"East Asia & Pacific\", \"East Asia & Pacific\", \"East Asia & Pacific\", \"East Asia & Pacific\", \"East Asia & Pacific\", \"East Asia & Pacific\", \"East Asia & Pacific\", \"East Asia & Pacific\", \"East Asia & Pacific\", \"East Asia & Pacific\"], \"xaxis\": \"x\", \"y\": [82.74878048779999, 75.722, 69.57, 76.704, 67.34100000000001, 84.9341463415, 71.509, 84.2109756098, 68.116, 82.6268292683, 67.61, 84.118, 75.997, 67.755, 69.689, 66.867, 81.8585365854, 64.263, 71.095, 73.187, 83.1463414634, 72.835, 76.931, 69.26, 70.801, 70.32300000000001, 75.317], \"yaxis\": \"y\"}, {\"alignmentgroup\": \"True\", \"hoverlabel\": {\"namelength\": 0}, \"hovertemplate\": \"<b>%{hovertext}</b><br><br>Region=%{x}<br>SP.DYN.LE00.IN=%{y}\", \"hovertext\": [\"Bermuda\", \"Canada\", \"United States\"], \"legendgroup\": \"Region=North America\", \"marker\": {\"color\": \"#FF6692\"}, \"name\": \"Region=North America\", \"offsetgroup\": \"Region=North America\", \"orientation\": \"v\", \"showlegend\": true, \"textposition\": \"auto\", \"type\": \"bar\", \"x\": [\"North America\", \"North America\", \"North America\"], \"xaxis\": \"x\", \"y\": [81.6517073171, 81.9487804878, 78.5390243902], \"yaxis\": \"y\"}],\n",
              "                        {\"barmode\": \"relative\", \"height\": 600, \"legend\": {\"tracegroupgap\": 0}, \"margin\": {\"t\": 60}, \"template\": {\"data\": {\"bar\": [{\"error_x\": {\"color\": \"#2a3f5f\"}, \"error_y\": {\"color\": \"#2a3f5f\"}, \"marker\": {\"line\": {\"color\": \"#E5ECF6\", \"width\": 0.5}}, \"type\": \"bar\"}], \"barpolar\": [{\"marker\": {\"line\": {\"color\": \"#E5ECF6\", \"width\": 0.5}}, \"type\": \"barpolar\"}], \"carpet\": [{\"aaxis\": {\"endlinecolor\": \"#2a3f5f\", \"gridcolor\": \"white\", \"linecolor\": \"white\", \"minorgridcolor\": \"white\", \"startlinecolor\": \"#2a3f5f\"}, \"baxis\": {\"endlinecolor\": \"#2a3f5f\", \"gridcolor\": \"white\", \"linecolor\": \"white\", \"minorgridcolor\": \"white\", \"startlinecolor\": \"#2a3f5f\"}, \"type\": \"carpet\"}], \"choropleth\": [{\"colorbar\": {\"outlinewidth\": 0, \"ticks\": \"\"}, \"type\": \"choropleth\"}], \"contour\": [{\"colorbar\": {\"outlinewidth\": 0, \"ticks\": \"\"}, \"colorscale\": [[0.0, \"#0d0887\"], [0.1111111111111111, \"#46039f\"], [0.2222222222222222, \"#7201a8\"], [0.3333333333333333, \"#9c179e\"], [0.4444444444444444, \"#bd3786\"], [0.5555555555555556, \"#d8576b\"], [0.6666666666666666, \"#ed7953\"], [0.7777777777777778, \"#fb9f3a\"], [0.8888888888888888, \"#fdca26\"], [1.0, \"#f0f921\"]], \"type\": \"contour\"}], \"contourcarpet\": [{\"colorbar\": {\"outlinewidth\": 0, \"ticks\": \"\"}, \"type\": \"contourcarpet\"}], \"heatmap\": [{\"colorbar\": {\"outlinewidth\": 0, \"ticks\": \"\"}, \"colorscale\": [[0.0, \"#0d0887\"], [0.1111111111111111, \"#46039f\"], [0.2222222222222222, \"#7201a8\"], [0.3333333333333333, \"#9c179e\"], [0.4444444444444444, \"#bd3786\"], [0.5555555555555556, \"#d8576b\"], [0.6666666666666666, \"#ed7953\"], [0.7777777777777778, \"#fb9f3a\"], [0.8888888888888888, \"#fdca26\"], [1.0, \"#f0f921\"]], \"type\": \"heatmap\"}], \"heatmapgl\": [{\"colorbar\": {\"outlinewidth\": 0, \"ticks\": \"\"}, \"colorscale\": [[0.0, \"#0d0887\"], [0.1111111111111111, \"#46039f\"], [0.2222222222222222, \"#7201a8\"], [0.3333333333333333, \"#9c179e\"], [0.4444444444444444, \"#bd3786\"], [0.5555555555555556, \"#d8576b\"], [0.6666666666666666, \"#ed7953\"], [0.7777777777777778, \"#fb9f3a\"], [0.8888888888888888, \"#fdca26\"], [1.0, \"#f0f921\"]], \"type\": \"heatmapgl\"}], \"histogram\": [{\"marker\": {\"colorbar\": {\"outlinewidth\": 0, \"ticks\": \"\"}}, \"type\": \"histogram\"}], \"histogram2d\": [{\"colorbar\": {\"outlinewidth\": 0, \"ticks\": \"\"}, \"colorscale\": [[0.0, \"#0d0887\"], [0.1111111111111111, \"#46039f\"], [0.2222222222222222, \"#7201a8\"], [0.3333333333333333, \"#9c179e\"], [0.4444444444444444, \"#bd3786\"], [0.5555555555555556, \"#d8576b\"], [0.6666666666666666, \"#ed7953\"], [0.7777777777777778, \"#fb9f3a\"], [0.8888888888888888, \"#fdca26\"], [1.0, \"#f0f921\"]], \"type\": \"histogram2d\"}], \"histogram2dcontour\": [{\"colorbar\": {\"outlinewidth\": 0, \"ticks\": \"\"}, \"colorscale\": [[0.0, \"#0d0887\"], [0.1111111111111111, \"#46039f\"], [0.2222222222222222, \"#7201a8\"], [0.3333333333333333, \"#9c179e\"], [0.4444444444444444, \"#bd3786\"], [0.5555555555555556, \"#d8576b\"], [0.6666666666666666, \"#ed7953\"], [0.7777777777777778, \"#fb9f3a\"], [0.8888888888888888, \"#fdca26\"], [1.0, \"#f0f921\"]], \"type\": \"histogram2dcontour\"}], \"mesh3d\": [{\"colorbar\": {\"outlinewidth\": 0, \"ticks\": \"\"}, \"type\": \"mesh3d\"}], \"parcoords\": [{\"line\": {\"colorbar\": {\"outlinewidth\": 0, \"ticks\": \"\"}}, \"type\": \"parcoords\"}], \"pie\": [{\"automargin\": true, \"type\": \"pie\"}], \"scatter\": [{\"marker\": {\"colorbar\": {\"outlinewidth\": 0, \"ticks\": \"\"}}, \"type\": \"scatter\"}], \"scatter3d\": [{\"line\": {\"colorbar\": {\"outlinewidth\": 0, \"ticks\": \"\"}}, \"marker\": {\"colorbar\": {\"outlinewidth\": 0, \"ticks\": \"\"}}, \"type\": \"scatter3d\"}], \"scattercarpet\": [{\"marker\": {\"colorbar\": {\"outlinewidth\": 0, \"ticks\": \"\"}}, \"type\": \"scattercarpet\"}], \"scattergeo\": [{\"marker\": {\"colorbar\": {\"outlinewidth\": 0, \"ticks\": \"\"}}, \"type\": \"scattergeo\"}], \"scattergl\": [{\"marker\": {\"colorbar\": {\"outlinewidth\": 0, \"ticks\": \"\"}}, \"type\": \"scattergl\"}], \"scattermapbox\": [{\"marker\": {\"colorbar\": {\"outlinewidth\": 0, \"ticks\": \"\"}}, \"type\": \"scattermapbox\"}], \"scatterpolar\": [{\"marker\": {\"colorbar\": {\"outlinewidth\": 0, \"ticks\": \"\"}}, \"type\": \"scatterpolar\"}], \"scatterpolargl\": [{\"marker\": {\"colorbar\": {\"outlinewidth\": 0, \"ticks\": \"\"}}, \"type\": \"scatterpolargl\"}], \"scatterternary\": [{\"marker\": {\"colorbar\": {\"outlinewidth\": 0, \"ticks\": \"\"}}, \"type\": \"scatterternary\"}], \"surface\": [{\"colorbar\": {\"outlinewidth\": 0, \"ticks\": \"\"}, \"colorscale\": [[0.0, \"#0d0887\"], [0.1111111111111111, \"#46039f\"], [0.2222222222222222, \"#7201a8\"], [0.3333333333333333, \"#9c179e\"], [0.4444444444444444, \"#bd3786\"], [0.5555555555555556, \"#d8576b\"], [0.6666666666666666, \"#ed7953\"], [0.7777777777777778, \"#fb9f3a\"], [0.8888888888888888, \"#fdca26\"], [1.0, \"#f0f921\"]], \"type\": \"surface\"}], \"table\": [{\"cells\": {\"fill\": {\"color\": \"#EBF0F8\"}, \"line\": {\"color\": \"white\"}}, \"header\": {\"fill\": {\"color\": \"#C8D4E3\"}, \"line\": {\"color\": \"white\"}}, \"type\": \"table\"}]}, \"layout\": {\"annotationdefaults\": {\"arrowcolor\": \"#2a3f5f\", \"arrowhead\": 0, \"arrowwidth\": 1}, \"coloraxis\": {\"colorbar\": {\"outlinewidth\": 0, \"ticks\": \"\"}}, \"colorscale\": {\"diverging\": [[0, \"#8e0152\"], [0.1, \"#c51b7d\"], [0.2, \"#de77ae\"], [0.3, \"#f1b6da\"], [0.4, \"#fde0ef\"], [0.5, \"#f7f7f7\"], [0.6, \"#e6f5d0\"], [0.7, \"#b8e186\"], [0.8, \"#7fbc41\"], [0.9, \"#4d9221\"], [1, \"#276419\"]], \"sequential\": [[0.0, \"#0d0887\"], [0.1111111111111111, \"#46039f\"], [0.2222222222222222, \"#7201a8\"], [0.3333333333333333, \"#9c179e\"], [0.4444444444444444, \"#bd3786\"], [0.5555555555555556, \"#d8576b\"], [0.6666666666666666, \"#ed7953\"], [0.7777777777777778, \"#fb9f3a\"], [0.8888888888888888, \"#fdca26\"], [1.0, \"#f0f921\"]], \"sequentialminus\": [[0.0, \"#0d0887\"], [0.1111111111111111, \"#46039f\"], [0.2222222222222222, \"#7201a8\"], [0.3333333333333333, \"#9c179e\"], [0.4444444444444444, \"#bd3786\"], [0.5555555555555556, \"#d8576b\"], [0.6666666666666666, \"#ed7953\"], [0.7777777777777778, \"#fb9f3a\"], [0.8888888888888888, \"#fdca26\"], [1.0, \"#f0f921\"]]}, \"colorway\": [\"#636efa\", \"#EF553B\", \"#00cc96\", \"#ab63fa\", \"#FFA15A\", \"#19d3f3\", \"#FF6692\", \"#B6E880\", \"#FF97FF\", \"#FECB52\"], \"font\": {\"color\": \"#2a3f5f\"}, \"geo\": {\"bgcolor\": \"white\", \"lakecolor\": \"white\", \"landcolor\": \"#E5ECF6\", \"showlakes\": true, \"showland\": true, \"subunitcolor\": \"white\"}, \"hoverlabel\": {\"align\": \"left\"}, \"hovermode\": \"closest\", \"mapbox\": {\"style\": \"light\"}, \"paper_bgcolor\": \"white\", \"plot_bgcolor\": \"#E5ECF6\", \"polar\": {\"angularaxis\": {\"gridcolor\": \"white\", \"linecolor\": \"white\", \"ticks\": \"\"}, \"bgcolor\": \"#E5ECF6\", \"radialaxis\": {\"gridcolor\": \"white\", \"linecolor\": \"white\", \"ticks\": \"\"}}, \"scene\": {\"xaxis\": {\"backgroundcolor\": \"#E5ECF6\", \"gridcolor\": \"white\", \"gridwidth\": 2, \"linecolor\": \"white\", \"showbackground\": true, \"ticks\": \"\", \"zerolinecolor\": \"white\"}, \"yaxis\": {\"backgroundcolor\": \"#E5ECF6\", \"gridcolor\": \"white\", \"gridwidth\": 2, \"linecolor\": \"white\", \"showbackground\": true, \"ticks\": \"\", \"zerolinecolor\": \"white\"}, \"zaxis\": {\"backgroundcolor\": \"#E5ECF6\", \"gridcolor\": \"white\", \"gridwidth\": 2, \"linecolor\": \"white\", \"showbackground\": true, \"ticks\": \"\", \"zerolinecolor\": \"white\"}}, \"shapedefaults\": {\"line\": {\"color\": \"#2a3f5f\"}}, \"ternary\": {\"aaxis\": {\"gridcolor\": \"white\", \"linecolor\": \"white\", \"ticks\": \"\"}, \"baxis\": {\"gridcolor\": \"white\", \"linecolor\": \"white\", \"ticks\": \"\"}, \"bgcolor\": \"#E5ECF6\", \"caxis\": {\"gridcolor\": \"white\", \"linecolor\": \"white\", \"ticks\": \"\"}}, \"title\": {\"x\": 0.05}, \"xaxis\": {\"automargin\": true, \"gridcolor\": \"white\", \"linecolor\": \"white\", \"ticks\": \"\", \"title\": {\"standoff\": 15}, \"zerolinecolor\": \"white\", \"zerolinewidth\": 2}, \"yaxis\": {\"automargin\": true, \"gridcolor\": \"white\", \"linecolor\": \"white\", \"ticks\": \"\", \"title\": {\"standoff\": 15}, \"zerolinecolor\": \"white\", \"zerolinewidth\": 2}}}, \"xaxis\": {\"anchor\": \"y\", \"categoryarray\": [\"South Asia\", \"Europe & Central Asia\", \"Middle East & North Africa\", \"Sub-Saharan Africa \", \"Latin America & Caribbean \", \"East Asia & Pacific\", \"North America\"], \"categoryorder\": \"array\", \"domain\": [0.0, 1.0], \"title\": {\"text\": \"Region\"}}, \"yaxis\": {\"anchor\": \"x\", \"domain\": [0.0, 1.0], \"title\": {\"text\": \"SP.DYN.LE00.IN\"}}},\n",
              "                        {\"responsive\": true}\n",
              "                    ).then(function(){\n",
              "                            \n",
              "var gd = document.getElementById('5307deef-cec6-4143-ab87-ef07260cb39e');\n",
              "var x = new MutationObserver(function (mutations, observer) {{\n",
              "        var display = window.getComputedStyle(gd).display;\n",
              "        if (!display || display === 'none') {{\n",
              "            console.log([gd, 'removed!']);\n",
              "            Plotly.purge(gd);\n",
              "            observer.disconnect();\n",
              "        }}\n",
              "}});\n",
              "\n",
              "// Listen for the removal of the full notebook cells\n",
              "var notebookContainer = gd.closest('#notebook-container');\n",
              "if (notebookContainer) {{\n",
              "    x.observe(notebookContainer, {childList: true});\n",
              "}}\n",
              "\n",
              "// Listen for the clearing of the current output cell\n",
              "var outputEl = gd.closest('.output');\n",
              "if (outputEl) {{\n",
              "    x.observe(outputEl, {childList: true});\n",
              "}}\n",
              "\n",
              "                        })\n",
              "                };\n",
              "                \n",
              "            </script>\n",
              "        </div>\n",
              "</body>\n",
              "</html>"
            ]
          },
          "metadata": {
            "tags": []
          }
        }
      ]
    },
    {
      "cell_type": "code",
      "metadata": {
        "colab": {
          "base_uri": "https://localhost:8080/",
          "height": 266
        },
        "id": "gNcgzIRiCWFo",
        "outputId": "ef7329fd-d857-43f3-8e93-6fd5982e4976"
      },
      "source": [
        "df_life = df_2018.groupby(\"Region\").mean().reset_index()\n",
        "df_life"
      ],
      "execution_count": 54,
      "outputs": [
        {
          "output_type": "execute_result",
          "data": {
            "text/html": [
              "<div>\n",
              "<style scoped>\n",
              "    .dataframe tbody tr th:only-of-type {\n",
              "        vertical-align: middle;\n",
              "    }\n",
              "\n",
              "    .dataframe tbody tr th {\n",
              "        vertical-align: top;\n",
              "    }\n",
              "\n",
              "    .dataframe thead th {\n",
              "        text-align: right;\n",
              "    }\n",
              "</style>\n",
              "<table border=\"1\" class=\"dataframe\">\n",
              "  <thead>\n",
              "    <tr style=\"text-align: right;\">\n",
              "      <th></th>\n",
              "      <th>Region</th>\n",
              "      <th>Year</th>\n",
              "      <th>SP.POP.TOTL</th>\n",
              "      <th>SP.DYN.LE00.IN</th>\n",
              "      <th>NY.GDP.PCAP.PP.CD</th>\n",
              "    </tr>\n",
              "  </thead>\n",
              "  <tbody>\n",
              "    <tr>\n",
              "      <th>0</th>\n",
              "      <td>East Asia &amp; Pacific</td>\n",
              "      <td>2018</td>\n",
              "      <td>8.437310e+07</td>\n",
              "      <td>74.242060</td>\n",
              "      <td>26244.057088</td>\n",
              "    </tr>\n",
              "    <tr>\n",
              "      <th>1</th>\n",
              "      <td>Europe &amp; Central Asia</td>\n",
              "      <td>2018</td>\n",
              "      <td>1.872127e+07</td>\n",
              "      <td>77.728808</td>\n",
              "      <td>36017.483152</td>\n",
              "    </tr>\n",
              "    <tr>\n",
              "      <th>2</th>\n",
              "      <td>Latin America &amp; Caribbean</td>\n",
              "      <td>2018</td>\n",
              "      <td>1.998509e+07</td>\n",
              "      <td>74.907640</td>\n",
              "      <td>16698.310455</td>\n",
              "    </tr>\n",
              "    <tr>\n",
              "      <th>3</th>\n",
              "      <td>Middle East &amp; North Africa</td>\n",
              "      <td>2018</td>\n",
              "      <td>2.123726e+07</td>\n",
              "      <td>75.960380</td>\n",
              "      <td>28751.646553</td>\n",
              "    </tr>\n",
              "    <tr>\n",
              "      <th>4</th>\n",
              "      <td>North America</td>\n",
              "      <td>2018</td>\n",
              "      <td>1.212697e+08</td>\n",
              "      <td>80.713171</td>\n",
              "      <td>65780.046126</td>\n",
              "    </tr>\n",
              "    <tr>\n",
              "      <th>5</th>\n",
              "      <td>South Asia</td>\n",
              "      <td>2018</td>\n",
              "      <td>2.267986e+08</td>\n",
              "      <td>71.339125</td>\n",
              "      <td>8191.477152</td>\n",
              "    </tr>\n",
              "    <tr>\n",
              "      <th>6</th>\n",
              "      <td>Sub-Saharan Africa</td>\n",
              "      <td>2018</td>\n",
              "      <td>2.330821e+07</td>\n",
              "      <td>62.707018</td>\n",
              "      <td>5490.209762</td>\n",
              "    </tr>\n",
              "  </tbody>\n",
              "</table>\n",
              "</div>"
            ],
            "text/plain": [
              "                       Region  Year  ...  SP.DYN.LE00.IN  NY.GDP.PCAP.PP.CD\n",
              "0         East Asia & Pacific  2018  ...       74.242060       26244.057088\n",
              "1       Europe & Central Asia  2018  ...       77.728808       36017.483152\n",
              "2  Latin America & Caribbean   2018  ...       74.907640       16698.310455\n",
              "3  Middle East & North Africa  2018  ...       75.960380       28751.646553\n",
              "4               North America  2018  ...       80.713171       65780.046126\n",
              "5                  South Asia  2018  ...       71.339125        8191.477152\n",
              "6         Sub-Saharan Africa   2018  ...       62.707018        5490.209762\n",
              "\n",
              "[7 rows x 5 columns]"
            ]
          },
          "metadata": {
            "tags": []
          },
          "execution_count": 54
        }
      ]
    },
    {
      "cell_type": "code",
      "metadata": {
        "colab": {
          "base_uri": "https://localhost:8080/",
          "height": 542
        },
        "id": "zsfS7nSMCsTn",
        "outputId": "46cd8157-3726-45a7-8147-d11be91b531c"
      },
      "source": [
        "# This Bar Chart make sense. \n",
        "# It help us compare the longevity of people in each region\n",
        "\n",
        "fig = px.bar(data_frame=df_life, \n",
        "             x=\"Region\", y=\"SP.DYN.LE00.IN\", \n",
        "             color=\"Region\"\n",
        "             )\n",
        "fig.show()"
      ],
      "execution_count": 56,
      "outputs": [
        {
          "output_type": "display_data",
          "data": {
            "text/html": [
              "<html>\n",
              "<head><meta charset=\"utf-8\" /></head>\n",
              "<body>\n",
              "    <div>\n",
              "            <script src=\"https://cdnjs.cloudflare.com/ajax/libs/mathjax/2.7.5/MathJax.js?config=TeX-AMS-MML_SVG\"></script><script type=\"text/javascript\">if (window.MathJax) {MathJax.Hub.Config({SVG: {font: \"STIX-Web\"}});}</script>\n",
              "                <script type=\"text/javascript\">window.PlotlyConfig = {MathJaxConfig: 'local'};</script>\n",
              "        <script src=\"https://cdn.plot.ly/plotly-latest.min.js\"></script>    \n",
              "            <div id=\"73b916b2-ad97-4763-a766-52b48718c32c\" class=\"plotly-graph-div\" style=\"height:525px; width:100%;\"></div>\n",
              "            <script type=\"text/javascript\">\n",
              "                \n",
              "                    window.PLOTLYENV=window.PLOTLYENV || {};\n",
              "                    \n",
              "                if (document.getElementById(\"73b916b2-ad97-4763-a766-52b48718c32c\")) {\n",
              "                    Plotly.newPlot(\n",
              "                        '73b916b2-ad97-4763-a766-52b48718c32c',\n",
              "                        [{\"alignmentgroup\": \"True\", \"hoverlabel\": {\"namelength\": 0}, \"hovertemplate\": \"Region=%{x}<br>SP.DYN.LE00.IN=%{y}\", \"legendgroup\": \"Region=East Asia & Pacific\", \"marker\": {\"color\": \"#636efa\"}, \"name\": \"Region=East Asia & Pacific\", \"offsetgroup\": \"Region=East Asia & Pacific\", \"orientation\": \"v\", \"showlegend\": true, \"textposition\": \"auto\", \"type\": \"bar\", \"x\": [\"East Asia & Pacific\"], \"xaxis\": \"x\", \"y\": [74.24205962059999], \"yaxis\": \"y\"}, {\"alignmentgroup\": \"True\", \"hoverlabel\": {\"namelength\": 0}, \"hovertemplate\": \"Region=%{x}<br>SP.DYN.LE00.IN=%{y}\", \"legendgroup\": \"Region=Europe & Central Asia\", \"marker\": {\"color\": \"#EF553B\"}, \"name\": \"Region=Europe & Central Asia\", \"offsetgroup\": \"Region=Europe & Central Asia\", \"orientation\": \"v\", \"showlegend\": true, \"textposition\": \"auto\", \"type\": \"bar\", \"x\": [\"Europe & Central Asia\"], \"xaxis\": \"x\", \"y\": [77.7288078646102], \"yaxis\": \"y\"}, {\"alignmentgroup\": \"True\", \"hoverlabel\": {\"namelength\": 0}, \"hovertemplate\": \"Region=%{x}<br>SP.DYN.LE00.IN=%{y}\", \"legendgroup\": \"Region=Latin America & Caribbean \", \"marker\": {\"color\": \"#00cc96\"}, \"name\": \"Region=Latin America & Caribbean \", \"offsetgroup\": \"Region=Latin America & Caribbean \", \"orientation\": \"v\", \"showlegend\": true, \"textposition\": \"auto\", \"type\": \"bar\", \"x\": [\"Latin America & Caribbean \"], \"xaxis\": \"x\", \"y\": [74.90763983740001], \"yaxis\": \"y\"}, {\"alignmentgroup\": \"True\", \"hoverlabel\": {\"namelength\": 0}, \"hovertemplate\": \"Region=%{x}<br>SP.DYN.LE00.IN=%{y}\", \"legendgroup\": \"Region=Middle East & North Africa\", \"marker\": {\"color\": \"#ab63fa\"}, \"name\": \"Region=Middle East & North Africa\", \"offsetgroup\": \"Region=Middle East & North Africa\", \"orientation\": \"v\", \"showlegend\": true, \"textposition\": \"auto\", \"type\": \"bar\", \"x\": [\"Middle East & North Africa\"], \"xaxis\": \"x\", \"y\": [75.9603799743263], \"yaxis\": \"y\"}, {\"alignmentgroup\": \"True\", \"hoverlabel\": {\"namelength\": 0}, \"hovertemplate\": \"Region=%{x}<br>SP.DYN.LE00.IN=%{y}\", \"legendgroup\": \"Region=North America\", \"marker\": {\"color\": \"#FFA15A\"}, \"name\": \"Region=North America\", \"offsetgroup\": \"Region=North America\", \"orientation\": \"v\", \"showlegend\": true, \"textposition\": \"auto\", \"type\": \"bar\", \"x\": [\"North America\"], \"xaxis\": \"x\", \"y\": [80.7131707317], \"yaxis\": \"y\"}, {\"alignmentgroup\": \"True\", \"hoverlabel\": {\"namelength\": 0}, \"hovertemplate\": \"Region=%{x}<br>SP.DYN.LE00.IN=%{y}\", \"legendgroup\": \"Region=South Asia\", \"marker\": {\"color\": \"#19d3f3\"}, \"name\": \"Region=South Asia\", \"offsetgroup\": \"Region=South Asia\", \"orientation\": \"v\", \"showlegend\": true, \"textposition\": \"auto\", \"type\": \"bar\", \"x\": [\"South Asia\"], \"xaxis\": \"x\", \"y\": [71.339125], \"yaxis\": \"y\"}, {\"alignmentgroup\": \"True\", \"hoverlabel\": {\"namelength\": 0}, \"hovertemplate\": \"Region=%{x}<br>SP.DYN.LE00.IN=%{y}\", \"legendgroup\": \"Region=Sub-Saharan Africa \", \"marker\": {\"color\": \"#FF6692\"}, \"name\": \"Region=Sub-Saharan Africa \", \"offsetgroup\": \"Region=Sub-Saharan Africa \", \"orientation\": \"v\", \"showlegend\": true, \"textposition\": \"auto\", \"type\": \"bar\", \"x\": [\"Sub-Saharan Africa \"], \"xaxis\": \"x\", \"y\": [62.70701788617778], \"yaxis\": \"y\"}],\n",
              "                        {\"barmode\": \"relative\", \"legend\": {\"tracegroupgap\": 0}, \"margin\": {\"t\": 60}, \"template\": {\"data\": {\"bar\": [{\"error_x\": {\"color\": \"#2a3f5f\"}, \"error_y\": {\"color\": \"#2a3f5f\"}, \"marker\": {\"line\": {\"color\": \"#E5ECF6\", \"width\": 0.5}}, \"type\": \"bar\"}], \"barpolar\": [{\"marker\": {\"line\": {\"color\": \"#E5ECF6\", \"width\": 0.5}}, \"type\": \"barpolar\"}], \"carpet\": [{\"aaxis\": {\"endlinecolor\": \"#2a3f5f\", \"gridcolor\": \"white\", \"linecolor\": \"white\", \"minorgridcolor\": \"white\", \"startlinecolor\": \"#2a3f5f\"}, \"baxis\": {\"endlinecolor\": \"#2a3f5f\", \"gridcolor\": \"white\", \"linecolor\": \"white\", \"minorgridcolor\": \"white\", \"startlinecolor\": \"#2a3f5f\"}, \"type\": \"carpet\"}], \"choropleth\": [{\"colorbar\": {\"outlinewidth\": 0, \"ticks\": \"\"}, \"type\": \"choropleth\"}], \"contour\": [{\"colorbar\": {\"outlinewidth\": 0, \"ticks\": \"\"}, \"colorscale\": [[0.0, \"#0d0887\"], [0.1111111111111111, \"#46039f\"], [0.2222222222222222, \"#7201a8\"], [0.3333333333333333, \"#9c179e\"], [0.4444444444444444, \"#bd3786\"], [0.5555555555555556, \"#d8576b\"], [0.6666666666666666, \"#ed7953\"], [0.7777777777777778, \"#fb9f3a\"], [0.8888888888888888, \"#fdca26\"], [1.0, \"#f0f921\"]], \"type\": \"contour\"}], \"contourcarpet\": [{\"colorbar\": {\"outlinewidth\": 0, \"ticks\": \"\"}, \"type\": \"contourcarpet\"}], \"heatmap\": [{\"colorbar\": {\"outlinewidth\": 0, \"ticks\": \"\"}, \"colorscale\": [[0.0, \"#0d0887\"], [0.1111111111111111, \"#46039f\"], [0.2222222222222222, \"#7201a8\"], [0.3333333333333333, \"#9c179e\"], [0.4444444444444444, \"#bd3786\"], [0.5555555555555556, \"#d8576b\"], [0.6666666666666666, \"#ed7953\"], [0.7777777777777778, \"#fb9f3a\"], [0.8888888888888888, \"#fdca26\"], [1.0, \"#f0f921\"]], \"type\": \"heatmap\"}], \"heatmapgl\": [{\"colorbar\": {\"outlinewidth\": 0, \"ticks\": \"\"}, \"colorscale\": [[0.0, \"#0d0887\"], [0.1111111111111111, \"#46039f\"], [0.2222222222222222, \"#7201a8\"], [0.3333333333333333, \"#9c179e\"], [0.4444444444444444, \"#bd3786\"], [0.5555555555555556, \"#d8576b\"], [0.6666666666666666, \"#ed7953\"], [0.7777777777777778, \"#fb9f3a\"], [0.8888888888888888, \"#fdca26\"], [1.0, \"#f0f921\"]], \"type\": \"heatmapgl\"}], \"histogram\": [{\"marker\": {\"colorbar\": {\"outlinewidth\": 0, \"ticks\": \"\"}}, \"type\": \"histogram\"}], \"histogram2d\": [{\"colorbar\": {\"outlinewidth\": 0, \"ticks\": \"\"}, \"colorscale\": [[0.0, \"#0d0887\"], [0.1111111111111111, \"#46039f\"], [0.2222222222222222, \"#7201a8\"], [0.3333333333333333, \"#9c179e\"], [0.4444444444444444, \"#bd3786\"], [0.5555555555555556, \"#d8576b\"], [0.6666666666666666, \"#ed7953\"], [0.7777777777777778, \"#fb9f3a\"], [0.8888888888888888, \"#fdca26\"], [1.0, \"#f0f921\"]], \"type\": \"histogram2d\"}], \"histogram2dcontour\": [{\"colorbar\": {\"outlinewidth\": 0, \"ticks\": \"\"}, \"colorscale\": [[0.0, \"#0d0887\"], [0.1111111111111111, \"#46039f\"], [0.2222222222222222, \"#7201a8\"], [0.3333333333333333, \"#9c179e\"], [0.4444444444444444, \"#bd3786\"], [0.5555555555555556, \"#d8576b\"], [0.6666666666666666, \"#ed7953\"], [0.7777777777777778, \"#fb9f3a\"], [0.8888888888888888, \"#fdca26\"], [1.0, \"#f0f921\"]], \"type\": \"histogram2dcontour\"}], \"mesh3d\": [{\"colorbar\": {\"outlinewidth\": 0, \"ticks\": \"\"}, \"type\": \"mesh3d\"}], \"parcoords\": [{\"line\": {\"colorbar\": {\"outlinewidth\": 0, \"ticks\": \"\"}}, \"type\": \"parcoords\"}], \"pie\": [{\"automargin\": true, \"type\": \"pie\"}], \"scatter\": [{\"marker\": {\"colorbar\": {\"outlinewidth\": 0, \"ticks\": \"\"}}, \"type\": \"scatter\"}], \"scatter3d\": [{\"line\": {\"colorbar\": {\"outlinewidth\": 0, \"ticks\": \"\"}}, \"marker\": {\"colorbar\": {\"outlinewidth\": 0, \"ticks\": \"\"}}, \"type\": \"scatter3d\"}], \"scattercarpet\": [{\"marker\": {\"colorbar\": {\"outlinewidth\": 0, \"ticks\": \"\"}}, \"type\": \"scattercarpet\"}], \"scattergeo\": [{\"marker\": {\"colorbar\": {\"outlinewidth\": 0, \"ticks\": \"\"}}, \"type\": \"scattergeo\"}], \"scattergl\": [{\"marker\": {\"colorbar\": {\"outlinewidth\": 0, \"ticks\": \"\"}}, \"type\": \"scattergl\"}], \"scattermapbox\": [{\"marker\": {\"colorbar\": {\"outlinewidth\": 0, \"ticks\": \"\"}}, \"type\": \"scattermapbox\"}], \"scatterpolar\": [{\"marker\": {\"colorbar\": {\"outlinewidth\": 0, \"ticks\": \"\"}}, \"type\": \"scatterpolar\"}], \"scatterpolargl\": [{\"marker\": {\"colorbar\": {\"outlinewidth\": 0, \"ticks\": \"\"}}, \"type\": \"scatterpolargl\"}], \"scatterternary\": [{\"marker\": {\"colorbar\": {\"outlinewidth\": 0, \"ticks\": \"\"}}, \"type\": \"scatterternary\"}], \"surface\": [{\"colorbar\": {\"outlinewidth\": 0, \"ticks\": \"\"}, \"colorscale\": [[0.0, \"#0d0887\"], [0.1111111111111111, \"#46039f\"], [0.2222222222222222, \"#7201a8\"], [0.3333333333333333, \"#9c179e\"], [0.4444444444444444, \"#bd3786\"], [0.5555555555555556, \"#d8576b\"], [0.6666666666666666, \"#ed7953\"], [0.7777777777777778, \"#fb9f3a\"], [0.8888888888888888, \"#fdca26\"], [1.0, \"#f0f921\"]], \"type\": \"surface\"}], \"table\": [{\"cells\": {\"fill\": {\"color\": \"#EBF0F8\"}, \"line\": {\"color\": \"white\"}}, \"header\": {\"fill\": {\"color\": \"#C8D4E3\"}, \"line\": {\"color\": \"white\"}}, \"type\": \"table\"}]}, \"layout\": {\"annotationdefaults\": {\"arrowcolor\": \"#2a3f5f\", \"arrowhead\": 0, \"arrowwidth\": 1}, \"coloraxis\": {\"colorbar\": {\"outlinewidth\": 0, \"ticks\": \"\"}}, \"colorscale\": {\"diverging\": [[0, \"#8e0152\"], [0.1, \"#c51b7d\"], [0.2, \"#de77ae\"], [0.3, \"#f1b6da\"], [0.4, \"#fde0ef\"], [0.5, \"#f7f7f7\"], [0.6, \"#e6f5d0\"], [0.7, \"#b8e186\"], [0.8, \"#7fbc41\"], [0.9, \"#4d9221\"], [1, \"#276419\"]], \"sequential\": [[0.0, \"#0d0887\"], [0.1111111111111111, \"#46039f\"], [0.2222222222222222, \"#7201a8\"], [0.3333333333333333, \"#9c179e\"], [0.4444444444444444, \"#bd3786\"], [0.5555555555555556, \"#d8576b\"], [0.6666666666666666, \"#ed7953\"], [0.7777777777777778, \"#fb9f3a\"], [0.8888888888888888, \"#fdca26\"], [1.0, \"#f0f921\"]], \"sequentialminus\": [[0.0, \"#0d0887\"], [0.1111111111111111, \"#46039f\"], [0.2222222222222222, \"#7201a8\"], [0.3333333333333333, \"#9c179e\"], [0.4444444444444444, \"#bd3786\"], [0.5555555555555556, \"#d8576b\"], [0.6666666666666666, \"#ed7953\"], [0.7777777777777778, \"#fb9f3a\"], [0.8888888888888888, \"#fdca26\"], [1.0, \"#f0f921\"]]}, \"colorway\": [\"#636efa\", \"#EF553B\", \"#00cc96\", \"#ab63fa\", \"#FFA15A\", \"#19d3f3\", \"#FF6692\", \"#B6E880\", \"#FF97FF\", \"#FECB52\"], \"font\": {\"color\": \"#2a3f5f\"}, \"geo\": {\"bgcolor\": \"white\", \"lakecolor\": \"white\", \"landcolor\": \"#E5ECF6\", \"showlakes\": true, \"showland\": true, \"subunitcolor\": \"white\"}, \"hoverlabel\": {\"align\": \"left\"}, \"hovermode\": \"closest\", \"mapbox\": {\"style\": \"light\"}, \"paper_bgcolor\": \"white\", \"plot_bgcolor\": \"#E5ECF6\", \"polar\": {\"angularaxis\": {\"gridcolor\": \"white\", \"linecolor\": \"white\", \"ticks\": \"\"}, \"bgcolor\": \"#E5ECF6\", \"radialaxis\": {\"gridcolor\": \"white\", \"linecolor\": \"white\", \"ticks\": \"\"}}, \"scene\": {\"xaxis\": {\"backgroundcolor\": \"#E5ECF6\", \"gridcolor\": \"white\", \"gridwidth\": 2, \"linecolor\": \"white\", \"showbackground\": true, \"ticks\": \"\", \"zerolinecolor\": \"white\"}, \"yaxis\": {\"backgroundcolor\": \"#E5ECF6\", \"gridcolor\": \"white\", \"gridwidth\": 2, \"linecolor\": \"white\", \"showbackground\": true, \"ticks\": \"\", \"zerolinecolor\": \"white\"}, \"zaxis\": {\"backgroundcolor\": \"#E5ECF6\", \"gridcolor\": \"white\", \"gridwidth\": 2, \"linecolor\": \"white\", \"showbackground\": true, \"ticks\": \"\", \"zerolinecolor\": \"white\"}}, \"shapedefaults\": {\"line\": {\"color\": \"#2a3f5f\"}}, \"ternary\": {\"aaxis\": {\"gridcolor\": \"white\", \"linecolor\": \"white\", \"ticks\": \"\"}, \"baxis\": {\"gridcolor\": \"white\", \"linecolor\": \"white\", \"ticks\": \"\"}, \"bgcolor\": \"#E5ECF6\", \"caxis\": {\"gridcolor\": \"white\", \"linecolor\": \"white\", \"ticks\": \"\"}}, \"title\": {\"x\": 0.05}, \"xaxis\": {\"automargin\": true, \"gridcolor\": \"white\", \"linecolor\": \"white\", \"ticks\": \"\", \"title\": {\"standoff\": 15}, \"zerolinecolor\": \"white\", \"zerolinewidth\": 2}, \"yaxis\": {\"automargin\": true, \"gridcolor\": \"white\", \"linecolor\": \"white\", \"ticks\": \"\", \"title\": {\"standoff\": 15}, \"zerolinecolor\": \"white\", \"zerolinewidth\": 2}}}, \"xaxis\": {\"anchor\": \"y\", \"categoryarray\": [\"East Asia & Pacific\", \"Europe & Central Asia\", \"Latin America & Caribbean \", \"Middle East & North Africa\", \"North America\", \"South Asia\", \"Sub-Saharan Africa \"], \"categoryorder\": \"array\", \"domain\": [0.0, 1.0], \"title\": {\"text\": \"Region\"}}, \"yaxis\": {\"anchor\": \"x\", \"domain\": [0.0, 1.0], \"title\": {\"text\": \"SP.DYN.LE00.IN\"}}},\n",
              "                        {\"responsive\": true}\n",
              "                    ).then(function(){\n",
              "                            \n",
              "var gd = document.getElementById('73b916b2-ad97-4763-a766-52b48718c32c');\n",
              "var x = new MutationObserver(function (mutations, observer) {{\n",
              "        var display = window.getComputedStyle(gd).display;\n",
              "        if (!display || display === 'none') {{\n",
              "            console.log([gd, 'removed!']);\n",
              "            Plotly.purge(gd);\n",
              "            observer.disconnect();\n",
              "        }}\n",
              "}});\n",
              "\n",
              "// Listen for the removal of the full notebook cells\n",
              "var notebookContainer = gd.closest('#notebook-container');\n",
              "if (notebookContainer) {{\n",
              "    x.observe(notebookContainer, {childList: true});\n",
              "}}\n",
              "\n",
              "// Listen for the clearing of the current output cell\n",
              "var outputEl = gd.closest('.output');\n",
              "if (outputEl) {{\n",
              "    x.observe(outputEl, {childList: true});\n",
              "}}\n",
              "\n",
              "                        })\n",
              "                };\n",
              "                \n",
              "            </script>\n",
              "        </div>\n",
              "</body>\n",
              "</html>"
            ]
          },
          "metadata": {
            "tags": []
          }
        }
      ]
    }
  ]
}