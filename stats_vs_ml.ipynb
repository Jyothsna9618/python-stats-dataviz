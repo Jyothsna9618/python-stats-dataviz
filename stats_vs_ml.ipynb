{
  "nbformat": 4,
  "nbformat_minor": 0,
  "metadata": {
    "orig_nbformat": 2,
    "deepnote": {
      "is_reactive": false
    },
    "deepnote_notebook_id": "5322537e-523c-41c1-a627-7eac9da12480",
    "deepnote_execution_queue": [],
    "colab": {
      "name": "stats_ml.ipynb",
      "provenance": [],
      "toc_visible": true,
      "include_colab_link": true
    },
    "language_info": {
      "name": "python"
    },
    "kernelspec": {
      "name": "python3",
      "display_name": "Python 3"
    }
  },
  "cells": [
    {
      "cell_type": "markdown",
      "metadata": {
        "id": "view-in-github",
        "colab_type": "text"
      },
      "source": [
        "<a href=\"https://colab.research.google.com/github/wcj365/python-stats-dataviz/blob/master/stats_vs_ml.ipynb\" target=\"_parent\"><img src=\"https://colab.research.google.com/assets/colab-badge.svg\" alt=\"Open In Colab\"/></a>"
      ]
    },
    {
      "cell_type": "markdown",
      "metadata": {
        "id": "Qoq-2hXEKGv7"
      },
      "source": [
        "# Individualism and Development\n",
        "This exercise explore the relationship between national culture and economic development. Specifically, we use the GDP per Capita data from the World Development Indicators and the Individualism vs Collectivitism (IDV) index from Hofstede's national culture model to explore this relationship."
      ]
    },
    {
      "cell_type": "markdown",
      "metadata": {
        "id": "ytyb7MyyLOt-"
      },
      "source": [
        "## First Import the necessary library"
      ]
    },
    {
      "cell_type": "code",
      "metadata": {
        "tags": [],
        "cell_id": "00000-c52e2a63-fc67-4537-b7af-71a7f02162e1",
        "deepnote_to_be_reexecuted": false,
        "source_hash": "a43c27e1",
        "execution_start": 1620932829794,
        "execution_millis": 1944,
        "deepnote_cell_type": "code",
        "id": "xgndx3HCJ-my"
      },
      "source": [
        "import statsmodels.api as sm\n",
        "import matplotlib.pyplot as plt\n",
        "import plotly.express as px\n",
        "import numpy as np\n",
        "import pandas as pd\n",
        "from sklearn import linear_model as lm"
      ],
      "execution_count": 19,
      "outputs": []
    },
    {
      "cell_type": "markdown",
      "metadata": {
        "id": "SdADXdT7La3U"
      },
      "source": [
        "## Step 2 - Load and Explore Data"
      ]
    },
    {
      "cell_type": "code",
      "metadata": {
        "tags": [],
        "cell_id": "00001-34b8e59a-ce21-44ec-be22-4b8c8eb5493e",
        "deepnote_to_be_reexecuted": false,
        "source_hash": "aa27f5be",
        "execution_start": 1620932831739,
        "execution_millis": 119,
        "deepnote_cell_type": "code",
        "colab": {
          "base_uri": "https://localhost:8080/",
          "height": 306
        },
        "id": "Hhl3E2qaJ-m8",
        "outputId": "f3bf7fe1-8f78-4365-f7ba-2e5a85b37709"
      },
      "source": [
        "df = pd.read_csv(\"wdi_data.csv\")\n",
        "df.head()"
      ],
      "execution_count": 17,
      "outputs": [
        {
          "output_type": "execute_result",
          "data": {
            "text/html": [
              "<div>\n",
              "<style scoped>\n",
              "    .dataframe tbody tr th:only-of-type {\n",
              "        vertical-align: middle;\n",
              "    }\n",
              "\n",
              "    .dataframe tbody tr th {\n",
              "        vertical-align: top;\n",
              "    }\n",
              "\n",
              "    .dataframe thead th {\n",
              "        text-align: right;\n",
              "    }\n",
              "</style>\n",
              "<table border=\"1\" class=\"dataframe\">\n",
              "  <thead>\n",
              "    <tr style=\"text-align: right;\">\n",
              "      <th></th>\n",
              "      <th>Unnamed: 0</th>\n",
              "      <th>Year</th>\n",
              "      <th>SP.POP.TOTL</th>\n",
              "      <th>NY.GDP.PCAP.PP.CD</th>\n",
              "      <th>Country Code</th>\n",
              "      <th>Country Name</th>\n",
              "      <th>Region</th>\n",
              "      <th>Income Group</th>\n",
              "      <th>Lending Type</th>\n",
              "      <th>IDV</th>\n",
              "    </tr>\n",
              "  </thead>\n",
              "  <tbody>\n",
              "    <tr>\n",
              "      <th>0</th>\n",
              "      <td>0</td>\n",
              "      <td>2010</td>\n",
              "      <td>40788453</td>\n",
              "      <td>18061.934359</td>\n",
              "      <td>ARG</td>\n",
              "      <td>Argentina</td>\n",
              "      <td>Latin America &amp; Caribbean</td>\n",
              "      <td>Upper middle income</td>\n",
              "      <td>IBRD</td>\n",
              "      <td>46</td>\n",
              "    </tr>\n",
              "    <tr>\n",
              "      <th>1</th>\n",
              "      <td>1</td>\n",
              "      <td>2011</td>\n",
              "      <td>41261490</td>\n",
              "      <td>19322.227124</td>\n",
              "      <td>ARG</td>\n",
              "      <td>Argentina</td>\n",
              "      <td>Latin America &amp; Caribbean</td>\n",
              "      <td>Upper middle income</td>\n",
              "      <td>IBRD</td>\n",
              "      <td>46</td>\n",
              "    </tr>\n",
              "    <tr>\n",
              "      <th>2</th>\n",
              "      <td>2</td>\n",
              "      <td>2012</td>\n",
              "      <td>41733271</td>\n",
              "      <td>19641.352864</td>\n",
              "      <td>ARG</td>\n",
              "      <td>Argentina</td>\n",
              "      <td>Latin America &amp; Caribbean</td>\n",
              "      <td>Upper middle income</td>\n",
              "      <td>IBRD</td>\n",
              "      <td>46</td>\n",
              "    </tr>\n",
              "    <tr>\n",
              "      <th>3</th>\n",
              "      <td>3</td>\n",
              "      <td>2013</td>\n",
              "      <td>42202935</td>\n",
              "      <td>20131.680425</td>\n",
              "      <td>ARG</td>\n",
              "      <td>Argentina</td>\n",
              "      <td>Latin America &amp; Caribbean</td>\n",
              "      <td>Upper middle income</td>\n",
              "      <td>IBRD</td>\n",
              "      <td>46</td>\n",
              "    </tr>\n",
              "    <tr>\n",
              "      <th>4</th>\n",
              "      <td>4</td>\n",
              "      <td>2014</td>\n",
              "      <td>42669500</td>\n",
              "      <td>19683.771506</td>\n",
              "      <td>ARG</td>\n",
              "      <td>Argentina</td>\n",
              "      <td>Latin America &amp; Caribbean</td>\n",
              "      <td>Upper middle income</td>\n",
              "      <td>IBRD</td>\n",
              "      <td>46</td>\n",
              "    </tr>\n",
              "  </tbody>\n",
              "</table>\n",
              "</div>"
            ],
            "text/plain": [
              "   Unnamed: 0  Year  SP.POP.TOTL  ...         Income Group Lending Type IDV\n",
              "0           0  2010     40788453  ...  Upper middle income         IBRD  46\n",
              "1           1  2011     41261490  ...  Upper middle income         IBRD  46\n",
              "2           2  2012     41733271  ...  Upper middle income         IBRD  46\n",
              "3           3  2013     42202935  ...  Upper middle income         IBRD  46\n",
              "4           4  2014     42669500  ...  Upper middle income         IBRD  46\n",
              "\n",
              "[5 rows x 10 columns]"
            ]
          },
          "metadata": {
            "tags": []
          },
          "execution_count": 17
        }
      ]
    },
    {
      "cell_type": "code",
      "metadata": {
        "tags": [],
        "cell_id": "00001-bc6ff8d9-440f-4ec2-a5e2-68580439f201",
        "deepnote_to_be_reexecuted": false,
        "source_hash": "346783c7",
        "execution_start": 1620932831755,
        "execution_millis": 103,
        "deepnote_cell_type": "code",
        "colab": {
          "base_uri": "https://localhost:8080/"
        },
        "id": "wZ9OjQ4dJ-m9",
        "outputId": "f2c8f14b-683f-43d0-84da-279505702099"
      },
      "source": [
        "# Use 2019 data.  only one feature\n",
        "\n",
        "df2019 = df.query(\"Year == 2019\")\n",
        "df2019.shape"
      ],
      "execution_count": 18,
      "outputs": [
        {
          "output_type": "execute_result",
          "data": {
            "text/plain": [
              "(60, 10)"
            ]
          },
          "metadata": {
            "tags": []
          },
          "execution_count": 18
        }
      ]
    },
    {
      "cell_type": "code",
      "metadata": {
        "colab": {
          "base_uri": "https://localhost:8080/",
          "height": 542
        },
        "id": "cRmVkGiiOijx",
        "outputId": "1d88084f-6ecf-4704-e53b-f4ea5739008d"
      },
      "source": [
        "fig = px.scatter(df2019, \n",
        "                 x=\"IDV\", \n",
        "                 y=\"NY.GDP.PCAP.PP.CD\", \n",
        "                 hover_name=\"Country Name\", \n",
        "                 trendline=\"ols\")\n",
        "\n",
        "fig.show()"
      ],
      "execution_count": 15,
      "outputs": [
        {
          "output_type": "display_data",
          "data": {
            "text/html": [
              "<html>\n",
              "<head><meta charset=\"utf-8\" /></head>\n",
              "<body>\n",
              "    <div>\n",
              "            <script src=\"https://cdnjs.cloudflare.com/ajax/libs/mathjax/2.7.5/MathJax.js?config=TeX-AMS-MML_SVG\"></script><script type=\"text/javascript\">if (window.MathJax) {MathJax.Hub.Config({SVG: {font: \"STIX-Web\"}});}</script>\n",
              "                <script type=\"text/javascript\">window.PlotlyConfig = {MathJaxConfig: 'local'};</script>\n",
              "        <script src=\"https://cdn.plot.ly/plotly-latest.min.js\"></script>    \n",
              "            <div id=\"1585c828-c8e7-45cd-98e0-2cdd334dc81c\" class=\"plotly-graph-div\" style=\"height:525px; width:100%;\"></div>\n",
              "            <script type=\"text/javascript\">\n",
              "                \n",
              "                    window.PLOTLYENV=window.PLOTLYENV || {};\n",
              "                    \n",
              "                if (document.getElementById(\"1585c828-c8e7-45cd-98e0-2cdd334dc81c\")) {\n",
              "                    Plotly.newPlot(\n",
              "                        '1585c828-c8e7-45cd-98e0-2cdd334dc81c',\n",
              "                        [{\"hoverlabel\": {\"namelength\": 0}, \"hovertemplate\": \"<b>%{hovertext}</b><br><br>IDV=%{x}<br>NY.GDP.PCAP.PP.CD=%{y}\", \"hovertext\": [\"Argentina\", \"Australia\", \"Austria\", \"Bangladesh\", \"Belgium\", \"Brazil\", \"Bulgaria\", \"Canada\", \"Chile\", \"China\", \"Colombia\", \"Croatia\", \"Czech Republic\", \"Denmark\", \"El Salvador\", \"Estonia\", \"Finland\", \"France\", \"Germany\", \"Greece\", \"Hong Kong SAR, China\", \"Hungary\", \"India\", \"Indonesia\", \"Iran, Islamic Rep.\", \"Ireland\", \"Italy\", \"Japan\", \"Korea, Rep.\", \"Latvia\", \"Lithuania\", \"Luxembourg\", \"Malaysia\", \"Malta\", \"Mexico\", \"Morocco\", \"Netherlands\", \"New Zealand\", \"Norway\", \"Pakistan\", \"Peru\", \"Philippines\", \"Poland\", \"Portugal\", \"Romania\", \"Russian Federation\", \"Serbia\", \"Singapore\", \"Slovenia\", \"Slovenia\", \"Spain\", \"Sweden\", \"Switzerland\", \"Thailand\", \"Trinidad and Tobago\", \"Turkey\", \"United Kingdom\", \"United States\", \"Uruguay\", \"Vietnam\"], \"legendgroup\": \"\", \"marker\": {\"color\": \"#636efa\", \"symbol\": \"circle\"}, \"mode\": \"markers\", \"name\": \"\", \"showlegend\": false, \"type\": \"scatter\", \"x\": [46, 90, 55, 20, 75, 38, 30, 80, 23, 20, 13, 33, 58, 74, 19, 60, 63, 71, 67, 35, 25, 80, 48, 14, 41, 70, 76, 46, 18, 70, 60, 60, 26, 59, 30, 46, 80, 79, 69, 14, 16, 32, 60, 27, 30, 39, 25, 20, 52, 27, 51, 71, 68, 20, 16, 37, 89, 91, 36, 20], \"xaxis\": \"x\", \"y\": [23040.2879526544, 53378.3927789903, 60398.5991105885, 4964.0913889189005, 56257.1574745554, 15299.9872589341, 25312.0802278685, 51663.2492066497, 27002.261750832597, 16804.425782267, 16012.4457431478, 31148.0007910082, 44286.9474898875, 62134.0277804831, 9164.34612258, 39976.955481685094, 53159.1434717446, 50996.02808393731, 57557.884608484295, 32503.789920638, 62495.9599403015, 34962.032489697995, 6996.5569265023, 12334.917268323601, 12937.4759795684, 89818.2172549684, 45719.008290148, 43593.5050635196, 44011.2315131667, 33002.9732949304, 39911.8788857671, 124569.44515978, 29619.687272566698, 47445.202082921794, 20944.0290161466, 7826.1676772768005, 61242.547541473396, 44814.3115073316, 70005.8885797836, 4898.0505701721995, 13416.4366277108, 9302.3852976555, 35170.2056620571, 37856.3471346082, 33323.2757008224, 29181.363217767597, 19494.4062048351, 101649.07486302599, 42422.2786841348, 42422.2786841348, 43443.5833739784, 56668.31560960769, 72372.2427980477, 19276.8963300209, 27334.183978011402, 28133.0886494052, 49930.1688846785, 65297.51750827429, 22515.1935903221, 8397.0210422543], \"yaxis\": \"y\"}, {\"hoverlabel\": {\"namelength\": 0}, \"hovertemplate\": \"<b>OLS trendline</b><br>NY.GDP.PCAP.PP.CD = 562.572655 * IDV + 12435.190629<br>R<sup>2</sup>=0.300079<br><br>IDV=%{x}<br>NY.GDP.PCAP.PP.CD=%{y} <b>(trend)</b>\", \"legendgroup\": \"\", \"marker\": {\"color\": \"#636efa\", \"symbol\": \"circle\"}, \"mode\": \"lines\", \"name\": \"\", \"showlegend\": false, \"type\": \"scatter\", \"x\": [13, 14, 14, 16, 16, 18, 19, 20, 20, 20, 20, 20, 23, 25, 25, 26, 27, 27, 30, 30, 30, 32, 33, 35, 36, 37, 38, 39, 41, 46, 46, 46, 48, 51, 52, 55, 58, 59, 60, 60, 60, 60, 63, 67, 68, 69, 70, 70, 71, 71, 74, 75, 76, 79, 80, 80, 80, 89, 90, 91], \"xaxis\": \"x\", \"y\": [19748.635142228533, 20311.20779708447, 20311.20779708447, 21436.35310679635, 21436.35310679635, 22561.49841650822, 23124.07107136416, 23686.6437262201, 23686.6437262201, 23686.6437262201, 23686.6437262201, 23686.6437262201, 25374.36169078791, 26499.50700049979, 26499.50700049979, 27062.079655355727, 27624.652310211663, 27624.652310211663, 29312.370274779478, 29312.370274779478, 29312.370274779478, 30437.515584491353, 31000.088239347293, 32125.23354905917, 32687.806203915105, 33250.378858771044, 33812.95151362698, 34375.52416848292, 35500.669478194795, 38313.53275247448, 38313.53275247448, 38313.53275247448, 39438.67806218636, 41126.39602675417, 41688.96868161012, 43376.68664617793, 45064.40461074574, 45626.97726560167, 46189.54992045762, 46189.54992045762, 46189.54992045762, 46189.54992045762, 47877.26788502543, 50127.558504449175, 50690.13115930512, 51252.703814161054, 51815.276469017, 51815.276469017, 52377.84912387293, 52377.84912387293, 54065.567088440745, 54628.13974329668, 55190.712398152624, 56878.430362720435, 57441.00301757637, 57441.00301757637, 57441.00301757637, 62504.15691127982, 63066.72956613575, 63629.302220991696], \"yaxis\": \"y\"}],\n",
              "                        {\"legend\": {\"tracegroupgap\": 0}, \"margin\": {\"t\": 60}, \"template\": {\"data\": {\"bar\": [{\"error_x\": {\"color\": \"#2a3f5f\"}, \"error_y\": {\"color\": \"#2a3f5f\"}, \"marker\": {\"line\": {\"color\": \"#E5ECF6\", \"width\": 0.5}}, \"type\": \"bar\"}], \"barpolar\": [{\"marker\": {\"line\": {\"color\": \"#E5ECF6\", \"width\": 0.5}}, \"type\": \"barpolar\"}], \"carpet\": [{\"aaxis\": {\"endlinecolor\": \"#2a3f5f\", \"gridcolor\": \"white\", \"linecolor\": \"white\", \"minorgridcolor\": \"white\", \"startlinecolor\": \"#2a3f5f\"}, \"baxis\": {\"endlinecolor\": \"#2a3f5f\", \"gridcolor\": \"white\", \"linecolor\": \"white\", \"minorgridcolor\": \"white\", \"startlinecolor\": \"#2a3f5f\"}, \"type\": \"carpet\"}], \"choropleth\": [{\"colorbar\": {\"outlinewidth\": 0, \"ticks\": \"\"}, \"type\": \"choropleth\"}], \"contour\": [{\"colorbar\": {\"outlinewidth\": 0, \"ticks\": \"\"}, \"colorscale\": [[0.0, \"#0d0887\"], [0.1111111111111111, \"#46039f\"], [0.2222222222222222, \"#7201a8\"], [0.3333333333333333, \"#9c179e\"], [0.4444444444444444, \"#bd3786\"], [0.5555555555555556, \"#d8576b\"], [0.6666666666666666, \"#ed7953\"], [0.7777777777777778, \"#fb9f3a\"], [0.8888888888888888, \"#fdca26\"], [1.0, \"#f0f921\"]], \"type\": \"contour\"}], \"contourcarpet\": [{\"colorbar\": {\"outlinewidth\": 0, \"ticks\": \"\"}, \"type\": \"contourcarpet\"}], \"heatmap\": [{\"colorbar\": {\"outlinewidth\": 0, \"ticks\": \"\"}, \"colorscale\": [[0.0, \"#0d0887\"], [0.1111111111111111, \"#46039f\"], [0.2222222222222222, \"#7201a8\"], [0.3333333333333333, \"#9c179e\"], [0.4444444444444444, \"#bd3786\"], [0.5555555555555556, \"#d8576b\"], [0.6666666666666666, \"#ed7953\"], [0.7777777777777778, \"#fb9f3a\"], [0.8888888888888888, \"#fdca26\"], [1.0, \"#f0f921\"]], \"type\": \"heatmap\"}], \"heatmapgl\": [{\"colorbar\": {\"outlinewidth\": 0, \"ticks\": \"\"}, \"colorscale\": [[0.0, \"#0d0887\"], [0.1111111111111111, \"#46039f\"], [0.2222222222222222, \"#7201a8\"], [0.3333333333333333, \"#9c179e\"], [0.4444444444444444, \"#bd3786\"], [0.5555555555555556, \"#d8576b\"], [0.6666666666666666, \"#ed7953\"], [0.7777777777777778, \"#fb9f3a\"], [0.8888888888888888, \"#fdca26\"], [1.0, \"#f0f921\"]], \"type\": \"heatmapgl\"}], \"histogram\": [{\"marker\": {\"colorbar\": {\"outlinewidth\": 0, \"ticks\": \"\"}}, \"type\": \"histogram\"}], \"histogram2d\": [{\"colorbar\": {\"outlinewidth\": 0, \"ticks\": \"\"}, \"colorscale\": [[0.0, \"#0d0887\"], [0.1111111111111111, \"#46039f\"], [0.2222222222222222, \"#7201a8\"], [0.3333333333333333, \"#9c179e\"], [0.4444444444444444, \"#bd3786\"], [0.5555555555555556, \"#d8576b\"], [0.6666666666666666, \"#ed7953\"], [0.7777777777777778, \"#fb9f3a\"], [0.8888888888888888, \"#fdca26\"], [1.0, \"#f0f921\"]], \"type\": \"histogram2d\"}], \"histogram2dcontour\": [{\"colorbar\": {\"outlinewidth\": 0, \"ticks\": \"\"}, \"colorscale\": [[0.0, \"#0d0887\"], [0.1111111111111111, \"#46039f\"], [0.2222222222222222, \"#7201a8\"], [0.3333333333333333, \"#9c179e\"], [0.4444444444444444, \"#bd3786\"], [0.5555555555555556, \"#d8576b\"], [0.6666666666666666, \"#ed7953\"], [0.7777777777777778, \"#fb9f3a\"], [0.8888888888888888, \"#fdca26\"], [1.0, \"#f0f921\"]], \"type\": \"histogram2dcontour\"}], \"mesh3d\": [{\"colorbar\": {\"outlinewidth\": 0, \"ticks\": \"\"}, \"type\": \"mesh3d\"}], \"parcoords\": [{\"line\": {\"colorbar\": {\"outlinewidth\": 0, \"ticks\": \"\"}}, \"type\": \"parcoords\"}], \"pie\": [{\"automargin\": true, \"type\": \"pie\"}], \"scatter\": [{\"marker\": {\"colorbar\": {\"outlinewidth\": 0, \"ticks\": \"\"}}, \"type\": \"scatter\"}], \"scatter3d\": [{\"line\": {\"colorbar\": {\"outlinewidth\": 0, \"ticks\": \"\"}}, \"marker\": {\"colorbar\": {\"outlinewidth\": 0, \"ticks\": \"\"}}, \"type\": \"scatter3d\"}], \"scattercarpet\": [{\"marker\": {\"colorbar\": {\"outlinewidth\": 0, \"ticks\": \"\"}}, \"type\": \"scattercarpet\"}], \"scattergeo\": [{\"marker\": {\"colorbar\": {\"outlinewidth\": 0, \"ticks\": \"\"}}, \"type\": \"scattergeo\"}], \"scattergl\": [{\"marker\": {\"colorbar\": {\"outlinewidth\": 0, \"ticks\": \"\"}}, \"type\": \"scattergl\"}], \"scattermapbox\": [{\"marker\": {\"colorbar\": {\"outlinewidth\": 0, \"ticks\": \"\"}}, \"type\": \"scattermapbox\"}], \"scatterpolar\": [{\"marker\": {\"colorbar\": {\"outlinewidth\": 0, \"ticks\": \"\"}}, \"type\": \"scatterpolar\"}], \"scatterpolargl\": [{\"marker\": {\"colorbar\": {\"outlinewidth\": 0, \"ticks\": \"\"}}, \"type\": \"scatterpolargl\"}], \"scatterternary\": [{\"marker\": {\"colorbar\": {\"outlinewidth\": 0, \"ticks\": \"\"}}, \"type\": \"scatterternary\"}], \"surface\": [{\"colorbar\": {\"outlinewidth\": 0, \"ticks\": \"\"}, \"colorscale\": [[0.0, \"#0d0887\"], [0.1111111111111111, \"#46039f\"], [0.2222222222222222, \"#7201a8\"], [0.3333333333333333, \"#9c179e\"], [0.4444444444444444, \"#bd3786\"], [0.5555555555555556, \"#d8576b\"], [0.6666666666666666, \"#ed7953\"], [0.7777777777777778, \"#fb9f3a\"], [0.8888888888888888, \"#fdca26\"], [1.0, \"#f0f921\"]], \"type\": \"surface\"}], \"table\": [{\"cells\": {\"fill\": {\"color\": \"#EBF0F8\"}, \"line\": {\"color\": \"white\"}}, \"header\": {\"fill\": {\"color\": \"#C8D4E3\"}, \"line\": {\"color\": \"white\"}}, \"type\": \"table\"}]}, \"layout\": {\"annotationdefaults\": {\"arrowcolor\": \"#2a3f5f\", \"arrowhead\": 0, \"arrowwidth\": 1}, \"coloraxis\": {\"colorbar\": {\"outlinewidth\": 0, \"ticks\": \"\"}}, \"colorscale\": {\"diverging\": [[0, \"#8e0152\"], [0.1, \"#c51b7d\"], [0.2, \"#de77ae\"], [0.3, \"#f1b6da\"], [0.4, \"#fde0ef\"], [0.5, \"#f7f7f7\"], [0.6, \"#e6f5d0\"], [0.7, \"#b8e186\"], [0.8, \"#7fbc41\"], [0.9, \"#4d9221\"], [1, \"#276419\"]], \"sequential\": [[0.0, \"#0d0887\"], [0.1111111111111111, \"#46039f\"], [0.2222222222222222, \"#7201a8\"], [0.3333333333333333, \"#9c179e\"], [0.4444444444444444, \"#bd3786\"], [0.5555555555555556, \"#d8576b\"], [0.6666666666666666, \"#ed7953\"], [0.7777777777777778, \"#fb9f3a\"], [0.8888888888888888, \"#fdca26\"], [1.0, \"#f0f921\"]], \"sequentialminus\": [[0.0, \"#0d0887\"], [0.1111111111111111, \"#46039f\"], [0.2222222222222222, \"#7201a8\"], [0.3333333333333333, \"#9c179e\"], [0.4444444444444444, \"#bd3786\"], [0.5555555555555556, \"#d8576b\"], [0.6666666666666666, \"#ed7953\"], [0.7777777777777778, \"#fb9f3a\"], [0.8888888888888888, \"#fdca26\"], [1.0, \"#f0f921\"]]}, \"colorway\": [\"#636efa\", \"#EF553B\", \"#00cc96\", \"#ab63fa\", \"#FFA15A\", \"#19d3f3\", \"#FF6692\", \"#B6E880\", \"#FF97FF\", \"#FECB52\"], \"font\": {\"color\": \"#2a3f5f\"}, \"geo\": {\"bgcolor\": \"white\", \"lakecolor\": \"white\", \"landcolor\": \"#E5ECF6\", \"showlakes\": true, \"showland\": true, \"subunitcolor\": \"white\"}, \"hoverlabel\": {\"align\": \"left\"}, \"hovermode\": \"closest\", \"mapbox\": {\"style\": \"light\"}, \"paper_bgcolor\": \"white\", \"plot_bgcolor\": \"#E5ECF6\", \"polar\": {\"angularaxis\": {\"gridcolor\": \"white\", \"linecolor\": \"white\", \"ticks\": \"\"}, \"bgcolor\": \"#E5ECF6\", \"radialaxis\": {\"gridcolor\": \"white\", \"linecolor\": \"white\", \"ticks\": \"\"}}, \"scene\": {\"xaxis\": {\"backgroundcolor\": \"#E5ECF6\", \"gridcolor\": \"white\", \"gridwidth\": 2, \"linecolor\": \"white\", \"showbackground\": true, \"ticks\": \"\", \"zerolinecolor\": \"white\"}, \"yaxis\": {\"backgroundcolor\": \"#E5ECF6\", \"gridcolor\": \"white\", \"gridwidth\": 2, \"linecolor\": \"white\", \"showbackground\": true, \"ticks\": \"\", \"zerolinecolor\": \"white\"}, \"zaxis\": {\"backgroundcolor\": \"#E5ECF6\", \"gridcolor\": \"white\", \"gridwidth\": 2, \"linecolor\": \"white\", \"showbackground\": true, \"ticks\": \"\", \"zerolinecolor\": \"white\"}}, \"shapedefaults\": {\"line\": {\"color\": \"#2a3f5f\"}}, \"ternary\": {\"aaxis\": {\"gridcolor\": \"white\", \"linecolor\": \"white\", \"ticks\": \"\"}, \"baxis\": {\"gridcolor\": \"white\", \"linecolor\": \"white\", \"ticks\": \"\"}, \"bgcolor\": \"#E5ECF6\", \"caxis\": {\"gridcolor\": \"white\", \"linecolor\": \"white\", \"ticks\": \"\"}}, \"title\": {\"x\": 0.05}, \"xaxis\": {\"automargin\": true, \"gridcolor\": \"white\", \"linecolor\": \"white\", \"ticks\": \"\", \"title\": {\"standoff\": 15}, \"zerolinecolor\": \"white\", \"zerolinewidth\": 2}, \"yaxis\": {\"automargin\": true, \"gridcolor\": \"white\", \"linecolor\": \"white\", \"ticks\": \"\", \"title\": {\"standoff\": 15}, \"zerolinecolor\": \"white\", \"zerolinewidth\": 2}}}, \"xaxis\": {\"anchor\": \"y\", \"domain\": [0.0, 1.0], \"title\": {\"text\": \"IDV\"}}, \"yaxis\": {\"anchor\": \"x\", \"domain\": [0.0, 1.0], \"title\": {\"text\": \"NY.GDP.PCAP.PP.CD\"}}},\n",
              "                        {\"responsive\": true}\n",
              "                    ).then(function(){\n",
              "                            \n",
              "var gd = document.getElementById('1585c828-c8e7-45cd-98e0-2cdd334dc81c');\n",
              "var x = new MutationObserver(function (mutations, observer) {{\n",
              "        var display = window.getComputedStyle(gd).display;\n",
              "        if (!display || display === 'none') {{\n",
              "            console.log([gd, 'removed!']);\n",
              "            Plotly.purge(gd);\n",
              "            observer.disconnect();\n",
              "        }}\n",
              "}});\n",
              "\n",
              "// Listen for the removal of the full notebook cells\n",
              "var notebookContainer = gd.closest('#notebook-container');\n",
              "if (notebookContainer) {{\n",
              "    x.observe(notebookContainer, {childList: true});\n",
              "}}\n",
              "\n",
              "// Listen for the clearing of the current output cell\n",
              "var outputEl = gd.closest('.output');\n",
              "if (outputEl) {{\n",
              "    x.observe(outputEl, {childList: true});\n",
              "}}\n",
              "\n",
              "                        })\n",
              "                };\n",
              "                \n",
              "            </script>\n",
              "        </div>\n",
              "</body>\n",
              "</html>"
            ]
          },
          "metadata": {
            "tags": []
          }
        }
      ]
    },
    {
      "cell_type": "markdown",
      "metadata": {
        "id": "_dFGfp0UMMJA"
      },
      "source": [
        "## Step 3 - Perform ordinary least square (OLS) linear regression."
      ]
    },
    {
      "cell_type": "code",
      "metadata": {
        "tags": [],
        "cell_id": "00004-69a23c7c-e1bb-48eb-bdfc-e175b6a2c5b6",
        "deepnote_to_be_reexecuted": false,
        "source_hash": "7619b987",
        "execution_start": 1620932842617,
        "execution_millis": 26,
        "deepnote_cell_type": "code",
        "colab": {
          "base_uri": "https://localhost:8080/"
        },
        "id": "GXAq8gddJ-m-",
        "outputId": "ade74328-2cc0-4a77-f9e9-048165b18dcd"
      },
      "source": [
        "X = df2019[[\"IDV\"]].values\n",
        "y = df2019[\"NY.GDP.PCAP.PP.CD\"].values\n",
        "\n",
        "X = sm.add_constant(X)\n",
        "model = sm.OLS(y,X)\n",
        "\n",
        "results = model.fit()\n",
        "\n",
        "print(results.summary())"
      ],
      "execution_count": 6,
      "outputs": [
        {
          "output_type": "stream",
          "text": [
            "                            OLS Regression Results                            \n",
            "==============================================================================\n",
            "Dep. Variable:                      y   R-squared:                       0.300\n",
            "Model:                            OLS   Adj. R-squared:                  0.288\n",
            "Method:                 Least Squares   F-statistic:                     24.87\n",
            "Date:                Thu, 13 May 2021   Prob (F-statistic):           5.90e-06\n",
            "Time:                        19:24:22   Log-Likelihood:                -679.04\n",
            "No. Observations:                  60   AIC:                             1362.\n",
            "Df Residuals:                      58   BIC:                             1366.\n",
            "Df Model:                           1                                         \n",
            "Covariance Type:            nonrobust                                         \n",
            "==============================================================================\n",
            "                 coef    std err          t      P>|t|      [0.025      0.975]\n",
            "------------------------------------------------------------------------------\n",
            "const       1.244e+04   5890.839      2.111      0.039     643.396    2.42e+04\n",
            "x1           562.5727    112.816      4.987      0.000     336.746     788.399\n",
            "==============================================================================\n",
            "Omnibus:                       40.888   Durbin-Watson:                   2.149\n",
            "Prob(Omnibus):                  0.000   Jarque-Bera (JB):              124.264\n",
            "Skew:                           2.021   Prob(JB):                     1.04e-27\n",
            "Kurtosis:                       8.776   Cond. No.                         118.\n",
            "==============================================================================\n",
            "\n",
            "Warnings:\n",
            "[1] Standard Errors assume that the covariance matrix of the errors is correctly specified.\n"
          ],
          "name": "stdout"
        }
      ]
    },
    {
      "cell_type": "markdown",
      "metadata": {
        "id": "XyYTNqflMXru"
      },
      "source": [
        "## Step 4 - Observation & Conclusion\n",
        "The p-value for coefficient of the independent variable (IDV) is far less than 0.005. This indicate there is a significant positive correlation between the IDV and the GDP per Capita indicating culture plays an important role in economic development.\n",
        "\n",
        "The coefficient of determination R-squared is 30% meaning that 30% of the variation in GDP per Capita can be explained by the IDV variable. This means culture not only plays a statistically significant role but also with a sizable effect on the economic development."
      ]
    },
    {
      "cell_type": "markdown",
      "metadata": {
        "id": "ZvBTrr6iQkIe"
      },
      "source": [
        "# Step 5 - Use Machine Learning for Predictive Analysis\n",
        "First, we use the scikit-learn liner model to fit the data and display the results which are consistent with the statsmodel's OLS model. However, scikit-learn does not provide as many statistics as statsmodels does. This reflects the difference between Inferencial Statistics and Machine Learning. The former focuses on conclusive inference which requires more rigorous statistical testing while the latter cares more for the accuracy of prediction. "
      ]
    },
    {
      "cell_type": "code",
      "metadata": {
        "colab": {
          "base_uri": "https://localhost:8080/"
        },
        "id": "GHCotDuUQilV",
        "outputId": "89b57226-8f0a-428b-dd40-9b8e86e47f94"
      },
      "source": [
        "model2 = lm.LinearRegression()\n",
        "results2 = model2.fit(X, y)\n",
        "print(\"Intercept = \", model2.intercept_)\n",
        "print(\"Coefficient = \", model2.coef_)\n",
        "print(\"coefficient of determination = \", model2.score(X, y))"
      ],
      "execution_count": 23,
      "outputs": [
        {
          "output_type": "stream",
          "text": [
            "Intercept =  12435.19062910134\n",
            "Coefficient =  [  0.         562.57265486]\n",
            "coefficient of determination =  0.30007862848566225\n"
          ],
          "name": "stdout"
        }
      ]
    },
    {
      "cell_type": "code",
      "metadata": {
        "id": "LLnB7vH7Tl4O"
      },
      "source": [
        ""
      ],
      "execution_count": null,
      "outputs": []
    }
  ]
}