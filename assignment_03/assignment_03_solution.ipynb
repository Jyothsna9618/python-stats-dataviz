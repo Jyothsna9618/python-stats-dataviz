{
  "nbformat": 4,
  "nbformat_minor": 0,
  "metadata": {
    "colab": {
      "provenance": [],
      "include_colab_link": true
    },
    "kernelspec": {
      "name": "python3",
      "display_name": "Python 3"
    },
    "language_info": {
      "name": "python"
    }
  },
  "cells": [
    {
      "cell_type": "markdown",
      "metadata": {
        "id": "view-in-github",
        "colab_type": "text"
      },
      "source": [
        "<a href=\"https://colab.research.google.com/github/wcj365/python-stats-dataviz/blob/master/assignment_03/assignment_03_solution.ipynb\" target=\"_parent\"><img src=\"https://colab.research.google.com/assets/colab-badge.svg\" alt=\"Open In Colab\"/></a>"
      ]
    },
    {
      "cell_type": "markdown",
      "source": [
        "#Assignement 03\n",
        "\n",
        "- Zarak Mahmood\n",
        "- 9/18/2022\n"
      ],
      "metadata": {
        "id": "ISP_cJssglWr"
      }
    },
    {
      "cell_type": "markdown",
      "source": [
        "# Question 01 - Print 10 by 10 in Matrix"
      ],
      "metadata": {
        "id": "IXTxIFdrOlJ9"
      }
    },
    {
      "cell_type": "code",
      "execution_count": 1,
      "metadata": {
        "colab": {
          "base_uri": "https://localhost:8080/"
        },
        "id": "e_Kg5fqHOLvP",
        "outputId": "8a050fcb-54d3-4f4d-84e5-c3bfefbc562e"
      },
      "outputs": [
        {
          "output_type": "stream",
          "name": "stdout",
          "text": [
            "6 4 5 4 3 8 2 3 6 6 \n",
            "\n",
            "6 4 3 4 4 9 0 5 0 9 \n",
            "\n",
            "2 9 3 9 9 7 1 6 4 1 \n",
            "\n",
            "5 6 5 4 2 2 3 3 0 0 \n",
            "\n",
            "8 1 9 6 0 6 7 5 7 2 \n",
            "\n",
            "3 1 8 0 5 5 4 9 0 7 \n",
            "\n",
            "4 1 4 4 7 0 0 3 1 1 \n",
            "\n",
            "4 3 4 6 6 5 6 8 2 6 \n",
            "\n",
            "4 2 3 0 1 2 7 5 7 8 \n",
            "\n",
            "4 0 7 8 3 1 7 4 0 3 \n",
            "\n"
          ]
        }
      ],
      "source": [
        "import random\n",
        "size = 10\n",
        "random_numbers = []\n",
        "\n",
        "for i in range(size):\n",
        "\n",
        "    for j in range(size):\n",
        "        print(random.randint(0,9), end=\" \")\n",
        "        \n",
        "    print(\"\\n\")"
      ]
    },
    {
      "cell_type": "markdown",
      "source": [
        "# Question 02 - Replacing ODD number with \"@\"\n"
      ],
      "metadata": {
        "id": "pRUq9DPeOy-7"
      }
    },
    {
      "cell_type": "code",
      "source": [
        "for i in range(size):\n",
        "    \n",
        "    for j in range(size):\n",
        "        x = random.randint(0,9)\n",
        "        if x % 2 == 0: \n",
        "            print(x, end=\" \")\n",
        "        else:           \n",
        "            print(\"@\", end=\" \")\n",
        "\n",
        "    print(\"\\n\")"
      ],
      "metadata": {
        "id": "KmMTZs7WXXSm",
        "outputId": "71e70e9d-87c5-4993-c359-0876693bc802",
        "colab": {
          "base_uri": "https://localhost:8080/"
        }
      },
      "execution_count": 2,
      "outputs": [
        {
          "output_type": "stream",
          "name": "stdout",
          "text": [
            "@ @ @ 2 @ 0 6 0 @ @ \n",
            "\n",
            "@ @ @ 6 @ 6 @ @ 6 0 \n",
            "\n",
            "6 2 @ @ @ @ @ @ 2 4 \n",
            "\n",
            "@ @ 6 @ @ @ 6 6 @ 6 \n",
            "\n",
            "4 @ 6 @ 4 2 @ @ @ 4 \n",
            "\n",
            "@ 4 @ @ @ @ @ @ 8 @ \n",
            "\n",
            "6 @ @ @ @ 6 @ 8 8 4 \n",
            "\n",
            "@ @ 0 @ @ @ 2 @ 0 8 \n",
            "\n",
            "@ 0 @ @ 4 @ 6 @ @ @ \n",
            "\n",
            "@ @ 2 0 2 6 6 @ 2 @ \n",
            "\n"
          ]
        }
      ]
    },
    {
      "cell_type": "markdown",
      "source": [
        "# Question #3 - Sum up and display the sum at the end of each row with \"*\" as separator"
      ],
      "metadata": {
        "id": "ANfae7e2Yezh"
      }
    },
    {
      "cell_type": "code",
      "source": [
        "# This is not right, j is not the random integer we want to sum up. J is the index (0, 1, 2, etc.)\n",
        "\n",
        "for i in range(size):\n",
        "    total = 0\n",
        "    for j in range(size):\n",
        "        total = total + j\n",
        "        print(random.randint(0,9), end=\" \")\n",
        "\n",
        "    print(\"*\", total, end=\"\\n\")"
      ],
      "metadata": {
        "id": "KtDvhXqCaeKi",
        "outputId": "23c8823a-8098-441b-bcda-0c87c89c9a0c",
        "colab": {
          "base_uri": "https://localhost:8080/"
        }
      },
      "execution_count": 11,
      "outputs": [
        {
          "output_type": "stream",
          "name": "stdout",
          "text": [
            "1 5 2 8 1 4 4 1 4 2 * 45\n",
            "0 1 7 5 8 0 7 6 7 5 * 45\n",
            "7 4 3 9 5 2 3 1 7 8 * 45\n",
            "6 0 6 9 6 8 4 1 5 7 * 45\n",
            "3 0 0 6 9 9 3 3 4 5 * 45\n",
            "4 5 0 8 8 2 9 5 3 0 * 45\n",
            "8 1 4 1 0 5 7 5 8 9 * 45\n",
            "9 5 1 0 8 1 4 7 4 6 * 45\n",
            "2 6 0 5 8 4 2 4 0 6 * 45\n",
            "8 6 7 5 1 0 9 7 8 9 * 45\n"
          ]
        }
      ]
    },
    {
      "cell_type": "code",
      "source": [
        "# This is correct\n",
        "\n",
        "for i in range(size):\n",
        "    total = 0\n",
        "    for j in range(size):\n",
        "        x = random.randint(0,9)\n",
        "        total = total + x\n",
        "        print(x, end=\" \")\n",
        "\n",
        "    print(\"*\", total, end=\"\\n\")\n"
      ],
      "metadata": {
        "id": "JewYMng5Yucs",
        "outputId": "83d6a51a-e808-4558-fe50-9fe9f61e43bc",
        "colab": {
          "base_uri": "https://localhost:8080/"
        }
      },
      "execution_count": 10,
      "outputs": [
        {
          "output_type": "stream",
          "name": "stdout",
          "text": [
            "3 1 3 9 7 8 3 8 6 1 * 49\n",
            "9 6 1 7 7 0 4 3 5 7 * 49\n",
            "4 0 2 5 4 6 3 3 8 2 * 37\n",
            "6 7 8 2 0 0 8 3 7 0 * 41\n",
            "5 9 8 4 7 1 0 1 7 3 * 45\n",
            "4 1 4 6 4 7 5 1 0 6 * 38\n",
            "1 3 0 5 1 5 7 0 2 6 * 30\n",
            "3 6 4 4 8 1 3 7 5 7 * 48\n",
            "8 4 3 3 4 7 4 3 7 2 * 45\n",
            "1 3 1 7 0 6 8 8 6 9 * 49\n"
          ]
        }
      ]
    },
    {
      "cell_type": "markdown",
      "source": [
        "# Question 4 - Surrounding the matrix with \"*\""
      ],
      "metadata": {
        "id": "Z424Bo5jYTtj"
      }
    },
    {
      "cell_type": "code",
      "source": [
        "#print(\"***********************\")\n",
        "\n",
        "print(\"*\" * 23)\n",
        "\n",
        "for i in range(size):\n",
        " \n",
        "    print(\"*\", end=\" \")\n",
        "    for j in range(size):\n",
        "        print(random.randint(0,9), end=\" \")\n",
        "        \n",
        "    print(\"*\\n\")\n",
        "\n",
        "#print(\"***********************\")\n",
        "print(\"*\" * 23)"
      ],
      "metadata": {
        "id": "Jlg8bYliPYVr",
        "outputId": "4085da67-6be9-4f40-aa3d-9936d4c1c69d",
        "colab": {
          "base_uri": "https://localhost:8080/"
        }
      },
      "execution_count": 20,
      "outputs": [
        {
          "output_type": "stream",
          "name": "stdout",
          "text": [
            "***********************\n",
            "* 3 2 7 8 7 8 0 8 8 4 *\n",
            "\n",
            "* 9 2 3 8 6 5 5 4 1 8 *\n",
            "\n",
            "* 3 2 6 6 4 3 1 9 8 9 *\n",
            "\n",
            "* 5 2 6 5 3 4 9 5 9 4 *\n",
            "\n",
            "* 7 3 8 3 0 0 4 3 6 5 *\n",
            "\n",
            "* 8 8 2 4 4 2 5 4 8 7 *\n",
            "\n",
            "* 6 5 5 1 4 8 1 0 5 3 *\n",
            "\n",
            "* 3 3 5 9 9 3 2 0 1 5 *\n",
            "\n",
            "* 5 2 0 5 4 5 8 3 5 5 *\n",
            "\n",
            "* 8 8 1 9 2 1 3 0 4 8 *\n",
            "\n",
            "***********************\n"
          ]
        }
      ]
    },
    {
      "cell_type": "markdown",
      "source": [
        "# Question 05 - Built on question 3 and sum up each columns."
      ],
      "metadata": {
        "id": "z04mttX2cC-t"
      }
    },
    {
      "cell_type": "code",
      "source": [
        "column_sums = [0,0,0,0,0,0,0,0,0,0]\n",
        "\n",
        "for i in range(size):\n",
        "    total = 0\n",
        "    for j in range(size):\n",
        "        x = random.randint(0,9)\n",
        "        column_sums[j] = column_sums[j] + x    # Most complex/abstract logic \n",
        "        total = total + x\n",
        "        print(x, end=\"  \")\n",
        "\n",
        "    print(\"*\", total, end=\"\\n\")\n",
        "\n",
        "print(\"*  \" * 10)\n",
        "for y in column_sums:\n",
        "    print(y, end=\" \")"
      ],
      "metadata": {
        "id": "cNbAHUlLcUrd",
        "outputId": "337a01e1-6023-42c5-e479-579d06fb27f4",
        "colab": {
          "base_uri": "https://localhost:8080/"
        }
      },
      "execution_count": 37,
      "outputs": [
        {
          "output_type": "stream",
          "name": "stdout",
          "text": [
            "7  8  8  0  6  9  9  8  0  7  * 62\n",
            "2  4  9  2  4  8  1  9  0  9  * 48\n",
            "8  6  6  2  6  8  2  8  1  8  * 55\n",
            "3  2  6  8  9  7  5  5  2  9  * 56\n",
            "6  3  4  7  0  9  0  0  9  2  * 40\n",
            "5  1  8  2  9  0  3  2  4  7  * 41\n",
            "9  2  3  3  7  0  8  9  8  4  * 53\n",
            "1  6  7  3  8  5  3  9  0  2  * 44\n",
            "6  9  3  0  9  2  6  6  3  2  * 46\n",
            "1  5  1  5  1  7  0  4  8  5  * 37\n",
            "*  *  *  *  *  *  *  *  *  *  \n",
            "48 46 55 32 59 55 37 60 35 55 "
          ]
        }
      ]
    },
    {
      "cell_type": "code",
      "source": [
        "x = [3,5,7,8]\n",
        "x[1]"
      ],
      "metadata": {
        "id": "PHjzMkrEdk2q",
        "outputId": "1da1e575-c1ad-47d5-df13-b371e7d1c335",
        "colab": {
          "base_uri": "https://localhost:8080/"
        }
      },
      "execution_count": 24,
      "outputs": [
        {
          "output_type": "execute_result",
          "data": {
            "text/plain": [
              "5"
            ]
          },
          "metadata": {},
          "execution_count": 24
        }
      ]
    }
  ]
}