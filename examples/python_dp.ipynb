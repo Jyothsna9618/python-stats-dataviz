{
  "nbformat": 4,
  "nbformat_minor": 0,
  "metadata": {
    "colab": {
      "name": "python-dp.ipynb",
      "provenance": [],
      "authorship_tag": "ABX9TyNYS8blL+CioGOHMsdG90kw",
      "include_colab_link": true
    },
    "kernelspec": {
      "name": "python3",
      "display_name": "Python 3"
    },
    "language_info": {
      "name": "python"
    }
  },
  "cells": [
    {
      "cell_type": "markdown",
      "metadata": {
        "id": "view-in-github",
        "colab_type": "text"
      },
      "source": [
        "<a href=\"https://colab.research.google.com/github/wcj365/python-stats-dataviz/blob/master/examples/python_dp.ipynb\" target=\"_parent\"><img src=\"https://colab.research.google.com/assets/colab-badge.svg\" alt=\"Open In Colab\"/></a>"
      ]
    },
    {
      "cell_type": "code",
      "metadata": {
        "colab": {
          "base_uri": "https://localhost:8080/"
        },
        "id": "GlDo6wSU0_G5",
        "outputId": "97213c10-8b5a-490e-a7bb-6b2168573275"
      },
      "source": [
        "!pip install python-dp"
      ],
      "execution_count": 2,
      "outputs": [
        {
          "output_type": "stream",
          "name": "stdout",
          "text": [
            "Collecting python-dp\n",
            "  Downloading python_dp-1.1.1-cp37-cp37m-manylinux1_x86_64.whl (3.5 MB)\n",
            "\u001b[K     |████████████████████████████████| 3.5 MB 5.1 MB/s \n",
            "\u001b[?25hInstalling collected packages: python-dp\n",
            "Successfully installed python-dp-1.1.1\n"
          ]
        }
      ]
    },
    {
      "cell_type": "code",
      "metadata": {
        "id": "knWN37FN07Yp"
      },
      "source": [
        "import pydp as dp # by convention our package is to be imported as dp (dp for Differential Privacy!)\n",
        "from pydp.algorithms.laplacian import BoundedSum, BoundedMean, Count, Max\n",
        "import pandas as pd\n",
        "import statistics \n",
        "import numpy as np\n",
        "import matplotlib.pyplot as plt"
      ],
      "execution_count": 3,
      "outputs": []
    },
    {
      "cell_type": "code",
      "metadata": {
        "colab": {
          "base_uri": "https://localhost:8080/",
          "height": 206
        },
        "id": "wDipSoPt1MYV",
        "outputId": "2824264c-4b3f-4400-a7b7-ec68e7281c63"
      },
      "source": [
        "url1 = 'https://raw.githubusercontent.com/OpenMined/PyDP/dev/examples/Tutorial_4-Launch_demo/data/01.csv'\n",
        "df1 = pd.read_csv(url1)\n",
        "df1.head()"
      ],
      "execution_count": 7,
      "outputs": [
        {
          "output_type": "execute_result",
          "data": {
            "text/html": [
              "<div>\n",
              "<style scoped>\n",
              "    .dataframe tbody tr th:only-of-type {\n",
              "        vertical-align: middle;\n",
              "    }\n",
              "\n",
              "    .dataframe tbody tr th {\n",
              "        vertical-align: top;\n",
              "    }\n",
              "\n",
              "    .dataframe thead th {\n",
              "        text-align: right;\n",
              "    }\n",
              "</style>\n",
              "<table border=\"1\" class=\"dataframe\">\n",
              "  <thead>\n",
              "    <tr style=\"text-align: right;\">\n",
              "      <th></th>\n",
              "      <th>id</th>\n",
              "      <th>first_name</th>\n",
              "      <th>last_name</th>\n",
              "      <th>email</th>\n",
              "      <th>sales_amount</th>\n",
              "      <th>state</th>\n",
              "    </tr>\n",
              "  </thead>\n",
              "  <tbody>\n",
              "    <tr>\n",
              "      <th>0</th>\n",
              "      <td>1</td>\n",
              "      <td>Osbourne</td>\n",
              "      <td>Gillions</td>\n",
              "      <td>ogillions0@feedburner.com</td>\n",
              "      <td>31.94</td>\n",
              "      <td>Florida</td>\n",
              "    </tr>\n",
              "    <tr>\n",
              "      <th>1</th>\n",
              "      <td>2</td>\n",
              "      <td>Glynn</td>\n",
              "      <td>Friett</td>\n",
              "      <td>gfriett1@blog.com</td>\n",
              "      <td>12.46</td>\n",
              "      <td>California</td>\n",
              "    </tr>\n",
              "    <tr>\n",
              "      <th>2</th>\n",
              "      <td>3</td>\n",
              "      <td>Jori</td>\n",
              "      <td>Blockley</td>\n",
              "      <td>jblockley2@unesco.org</td>\n",
              "      <td>191.14</td>\n",
              "      <td>Colorado</td>\n",
              "    </tr>\n",
              "    <tr>\n",
              "      <th>3</th>\n",
              "      <td>4</td>\n",
              "      <td>Garald</td>\n",
              "      <td>Dorian</td>\n",
              "      <td>gdorian3@webeden.co.uk</td>\n",
              "      <td>126.58</td>\n",
              "      <td>Texas</td>\n",
              "    </tr>\n",
              "    <tr>\n",
              "      <th>4</th>\n",
              "      <td>5</td>\n",
              "      <td>Mercy</td>\n",
              "      <td>Pilkington</td>\n",
              "      <td>mpilkington4@jugem.jp</td>\n",
              "      <td>68.32</td>\n",
              "      <td>Florida</td>\n",
              "    </tr>\n",
              "  </tbody>\n",
              "</table>\n",
              "</div>"
            ],
            "text/plain": [
              "   id first_name  ... sales_amount       state\n",
              "0   1   Osbourne  ...        31.94     Florida\n",
              "1   2      Glynn  ...        12.46  California\n",
              "2   3       Jori  ...       191.14    Colorado\n",
              "3   4     Garald  ...       126.58       Texas\n",
              "4   5      Mercy  ...        68.32     Florida\n",
              "\n",
              "[5 rows x 6 columns]"
            ]
          },
          "metadata": {},
          "execution_count": 7
        }
      ]
    },
    {
      "cell_type": "code",
      "metadata": {
        "id": "cE96Sbjiwe3i",
        "outputId": "f97c07e9-af92-43a0-c713-6a145ca868bc",
        "colab": {
          "base_uri": "https://localhost:8080/"
        }
      },
      "source": [
        "df1.shape"
      ],
      "execution_count": 8,
      "outputs": [
        {
          "output_type": "execute_result",
          "data": {
            "text/plain": [
              "(1000, 6)"
            ]
          },
          "metadata": {},
          "execution_count": 8
        }
      ]
    },
    {
      "cell_type": "code",
      "metadata": {
        "id": "6SpU6krcwhnf",
        "outputId": "3e9aa0ef-ed02-4c84-fd99-6f4aafad7f5c",
        "colab": {
          "base_uri": "https://localhost:8080/"
        }
      },
      "source": [
        "df1.info()"
      ],
      "execution_count": 9,
      "outputs": [
        {
          "output_type": "stream",
          "name": "stdout",
          "text": [
            "<class 'pandas.core.frame.DataFrame'>\n",
            "RangeIndex: 1000 entries, 0 to 999\n",
            "Data columns (total 6 columns):\n",
            " #   Column        Non-Null Count  Dtype  \n",
            "---  ------        --------------  -----  \n",
            " 0   id            1000 non-null   int64  \n",
            " 1   first_name    1000 non-null   object \n",
            " 2   last_name     1000 non-null   object \n",
            " 3   email         1000 non-null   object \n",
            " 4   sales_amount  1000 non-null   float64\n",
            " 5   state         1000 non-null   object \n",
            "dtypes: float64(1), int64(1), object(4)\n",
            "memory usage: 47.0+ KB\n"
          ]
        }
      ]
    },
    {
      "cell_type": "code",
      "metadata": {
        "id": "HefnUlYMwk3P",
        "outputId": "463a7b34-f730-4f1c-df23-e95a0a735600",
        "colab": {
          "base_uri": "https://localhost:8080/",
          "height": 300
        }
      },
      "source": [
        "df1.describe()"
      ],
      "execution_count": 10,
      "outputs": [
        {
          "output_type": "execute_result",
          "data": {
            "text/html": [
              "<div>\n",
              "<style scoped>\n",
              "    .dataframe tbody tr th:only-of-type {\n",
              "        vertical-align: middle;\n",
              "    }\n",
              "\n",
              "    .dataframe tbody tr th {\n",
              "        vertical-align: top;\n",
              "    }\n",
              "\n",
              "    .dataframe thead th {\n",
              "        text-align: right;\n",
              "    }\n",
              "</style>\n",
              "<table border=\"1\" class=\"dataframe\">\n",
              "  <thead>\n",
              "    <tr style=\"text-align: right;\">\n",
              "      <th></th>\n",
              "      <th>id</th>\n",
              "      <th>sales_amount</th>\n",
              "    </tr>\n",
              "  </thead>\n",
              "  <tbody>\n",
              "    <tr>\n",
              "      <th>count</th>\n",
              "      <td>1000.000000</td>\n",
              "      <td>1000.000000</td>\n",
              "    </tr>\n",
              "    <tr>\n",
              "      <th>mean</th>\n",
              "      <td>500.500000</td>\n",
              "      <td>127.931380</td>\n",
              "    </tr>\n",
              "    <tr>\n",
              "      <th>std</th>\n",
              "      <td>288.819436</td>\n",
              "      <td>70.266893</td>\n",
              "    </tr>\n",
              "    <tr>\n",
              "      <th>min</th>\n",
              "      <td>1.000000</td>\n",
              "      <td>5.410000</td>\n",
              "    </tr>\n",
              "    <tr>\n",
              "      <th>25%</th>\n",
              "      <td>250.750000</td>\n",
              "      <td>67.880000</td>\n",
              "    </tr>\n",
              "    <tr>\n",
              "      <th>50%</th>\n",
              "      <td>500.500000</td>\n",
              "      <td>124.165000</td>\n",
              "    </tr>\n",
              "    <tr>\n",
              "      <th>75%</th>\n",
              "      <td>750.250000</td>\n",
              "      <td>188.425000</td>\n",
              "    </tr>\n",
              "    <tr>\n",
              "      <th>max</th>\n",
              "      <td>1000.000000</td>\n",
              "      <td>249.520000</td>\n",
              "    </tr>\n",
              "  </tbody>\n",
              "</table>\n",
              "</div>"
            ],
            "text/plain": [
              "                id  sales_amount\n",
              "count  1000.000000   1000.000000\n",
              "mean    500.500000    127.931380\n",
              "std     288.819436     70.266893\n",
              "min       1.000000      5.410000\n",
              "25%     250.750000     67.880000\n",
              "50%     500.500000    124.165000\n",
              "75%     750.250000    188.425000\n",
              "max    1000.000000    249.520000"
            ]
          },
          "metadata": {},
          "execution_count": 10
        }
      ]
    },
    {
      "cell_type": "code",
      "metadata": {
        "id": "ZXFogYSEwu3B",
        "outputId": "6c70d748-7527-4def-d0a8-9ea6af1e8068",
        "colab": {
          "base_uri": "https://localhost:8080/",
          "height": 394
        }
      },
      "source": [
        "df1.describe(include=\"all\")"
      ],
      "execution_count": 11,
      "outputs": [
        {
          "output_type": "execute_result",
          "data": {
            "text/html": [
              "<div>\n",
              "<style scoped>\n",
              "    .dataframe tbody tr th:only-of-type {\n",
              "        vertical-align: middle;\n",
              "    }\n",
              "\n",
              "    .dataframe tbody tr th {\n",
              "        vertical-align: top;\n",
              "    }\n",
              "\n",
              "    .dataframe thead th {\n",
              "        text-align: right;\n",
              "    }\n",
              "</style>\n",
              "<table border=\"1\" class=\"dataframe\">\n",
              "  <thead>\n",
              "    <tr style=\"text-align: right;\">\n",
              "      <th></th>\n",
              "      <th>id</th>\n",
              "      <th>first_name</th>\n",
              "      <th>last_name</th>\n",
              "      <th>email</th>\n",
              "      <th>sales_amount</th>\n",
              "      <th>state</th>\n",
              "    </tr>\n",
              "  </thead>\n",
              "  <tbody>\n",
              "    <tr>\n",
              "      <th>count</th>\n",
              "      <td>1000.000000</td>\n",
              "      <td>1000</td>\n",
              "      <td>1000</td>\n",
              "      <td>1000</td>\n",
              "      <td>1000.000000</td>\n",
              "      <td>1000</td>\n",
              "    </tr>\n",
              "    <tr>\n",
              "      <th>unique</th>\n",
              "      <td>NaN</td>\n",
              "      <td>927</td>\n",
              "      <td>991</td>\n",
              "      <td>1000</td>\n",
              "      <td>NaN</td>\n",
              "      <td>47</td>\n",
              "    </tr>\n",
              "    <tr>\n",
              "      <th>top</th>\n",
              "      <td>NaN</td>\n",
              "      <td>Pennie</td>\n",
              "      <td>Addionizio</td>\n",
              "      <td>tgowang7@yellowbook.com</td>\n",
              "      <td>NaN</td>\n",
              "      <td>California</td>\n",
              "    </tr>\n",
              "    <tr>\n",
              "      <th>freq</th>\n",
              "      <td>NaN</td>\n",
              "      <td>4</td>\n",
              "      <td>2</td>\n",
              "      <td>1</td>\n",
              "      <td>NaN</td>\n",
              "      <td>114</td>\n",
              "    </tr>\n",
              "    <tr>\n",
              "      <th>mean</th>\n",
              "      <td>500.500000</td>\n",
              "      <td>NaN</td>\n",
              "      <td>NaN</td>\n",
              "      <td>NaN</td>\n",
              "      <td>127.931380</td>\n",
              "      <td>NaN</td>\n",
              "    </tr>\n",
              "    <tr>\n",
              "      <th>std</th>\n",
              "      <td>288.819436</td>\n",
              "      <td>NaN</td>\n",
              "      <td>NaN</td>\n",
              "      <td>NaN</td>\n",
              "      <td>70.266893</td>\n",
              "      <td>NaN</td>\n",
              "    </tr>\n",
              "    <tr>\n",
              "      <th>min</th>\n",
              "      <td>1.000000</td>\n",
              "      <td>NaN</td>\n",
              "      <td>NaN</td>\n",
              "      <td>NaN</td>\n",
              "      <td>5.410000</td>\n",
              "      <td>NaN</td>\n",
              "    </tr>\n",
              "    <tr>\n",
              "      <th>25%</th>\n",
              "      <td>250.750000</td>\n",
              "      <td>NaN</td>\n",
              "      <td>NaN</td>\n",
              "      <td>NaN</td>\n",
              "      <td>67.880000</td>\n",
              "      <td>NaN</td>\n",
              "    </tr>\n",
              "    <tr>\n",
              "      <th>50%</th>\n",
              "      <td>500.500000</td>\n",
              "      <td>NaN</td>\n",
              "      <td>NaN</td>\n",
              "      <td>NaN</td>\n",
              "      <td>124.165000</td>\n",
              "      <td>NaN</td>\n",
              "    </tr>\n",
              "    <tr>\n",
              "      <th>75%</th>\n",
              "      <td>750.250000</td>\n",
              "      <td>NaN</td>\n",
              "      <td>NaN</td>\n",
              "      <td>NaN</td>\n",
              "      <td>188.425000</td>\n",
              "      <td>NaN</td>\n",
              "    </tr>\n",
              "    <tr>\n",
              "      <th>max</th>\n",
              "      <td>1000.000000</td>\n",
              "      <td>NaN</td>\n",
              "      <td>NaN</td>\n",
              "      <td>NaN</td>\n",
              "      <td>249.520000</td>\n",
              "      <td>NaN</td>\n",
              "    </tr>\n",
              "  </tbody>\n",
              "</table>\n",
              "</div>"
            ],
            "text/plain": [
              "                 id first_name  ... sales_amount       state\n",
              "count   1000.000000       1000  ...  1000.000000        1000\n",
              "unique          NaN        927  ...          NaN          47\n",
              "top             NaN     Pennie  ...          NaN  California\n",
              "freq            NaN          4  ...          NaN         114\n",
              "mean     500.500000        NaN  ...   127.931380         NaN\n",
              "std      288.819436        NaN  ...    70.266893         NaN\n",
              "min        1.000000        NaN  ...     5.410000         NaN\n",
              "25%      250.750000        NaN  ...    67.880000         NaN\n",
              "50%      500.500000        NaN  ...   124.165000         NaN\n",
              "75%      750.250000        NaN  ...   188.425000         NaN\n",
              "max     1000.000000        NaN  ...   249.520000         NaN\n",
              "\n",
              "[11 rows x 6 columns]"
            ]
          },
          "metadata": {},
          "execution_count": 11
        }
      ]
    },
    {
      "cell_type": "code",
      "metadata": {
        "colab": {
          "base_uri": "https://localhost:8080/",
          "height": 293
        },
        "id": "ffjCBWHf1W6u",
        "outputId": "51c1ba3d-9ec3-4c18-85ef-ac9e23c9f739"
      },
      "source": [
        "URL = \"https://raw.githubusercontent.com/OpenMined/PyDP/dev/examples/Tutorial_4-Launch_demo/data\"\n",
        "\n",
        "df_list = []\n",
        "for i in range(1,6):\n",
        "    url = URL + \"/0\" + str(i) + \".csv\"\n",
        "    print(url)\n",
        "    df = pd.read_csv(url)\n",
        "    df_list.append(df)\n",
        "\n",
        "df = pd.concat(df_list)\n",
        "df.head()\n",
        "\n"
      ],
      "execution_count": null,
      "outputs": [
        {
          "output_type": "stream",
          "name": "stdout",
          "text": [
            "https://raw.githubusercontent.com/OpenMined/PyDP/dev/examples/Tutorial_4-Launch_demo/data/01.csv\n",
            "https://raw.githubusercontent.com/OpenMined/PyDP/dev/examples/Tutorial_4-Launch_demo/data/02.csv\n",
            "https://raw.githubusercontent.com/OpenMined/PyDP/dev/examples/Tutorial_4-Launch_demo/data/03.csv\n",
            "https://raw.githubusercontent.com/OpenMined/PyDP/dev/examples/Tutorial_4-Launch_demo/data/04.csv\n",
            "https://raw.githubusercontent.com/OpenMined/PyDP/dev/examples/Tutorial_4-Launch_demo/data/05.csv\n"
          ]
        },
        {
          "output_type": "execute_result",
          "data": {
            "text/html": [
              "<div>\n",
              "<style scoped>\n",
              "    .dataframe tbody tr th:only-of-type {\n",
              "        vertical-align: middle;\n",
              "    }\n",
              "\n",
              "    .dataframe tbody tr th {\n",
              "        vertical-align: top;\n",
              "    }\n",
              "\n",
              "    .dataframe thead th {\n",
              "        text-align: right;\n",
              "    }\n",
              "</style>\n",
              "<table border=\"1\" class=\"dataframe\">\n",
              "  <thead>\n",
              "    <tr style=\"text-align: right;\">\n",
              "      <th></th>\n",
              "      <th>id</th>\n",
              "      <th>first_name</th>\n",
              "      <th>last_name</th>\n",
              "      <th>email</th>\n",
              "      <th>sales_amount</th>\n",
              "      <th>state</th>\n",
              "    </tr>\n",
              "  </thead>\n",
              "  <tbody>\n",
              "    <tr>\n",
              "      <th>0</th>\n",
              "      <td>1</td>\n",
              "      <td>Osbourne</td>\n",
              "      <td>Gillions</td>\n",
              "      <td>ogillions0@feedburner.com</td>\n",
              "      <td>31.94</td>\n",
              "      <td>Florida</td>\n",
              "    </tr>\n",
              "    <tr>\n",
              "      <th>1</th>\n",
              "      <td>2</td>\n",
              "      <td>Glynn</td>\n",
              "      <td>Friett</td>\n",
              "      <td>gfriett1@blog.com</td>\n",
              "      <td>12.46</td>\n",
              "      <td>California</td>\n",
              "    </tr>\n",
              "    <tr>\n",
              "      <th>2</th>\n",
              "      <td>3</td>\n",
              "      <td>Jori</td>\n",
              "      <td>Blockley</td>\n",
              "      <td>jblockley2@unesco.org</td>\n",
              "      <td>191.14</td>\n",
              "      <td>Colorado</td>\n",
              "    </tr>\n",
              "    <tr>\n",
              "      <th>3</th>\n",
              "      <td>4</td>\n",
              "      <td>Garald</td>\n",
              "      <td>Dorian</td>\n",
              "      <td>gdorian3@webeden.co.uk</td>\n",
              "      <td>126.58</td>\n",
              "      <td>Texas</td>\n",
              "    </tr>\n",
              "    <tr>\n",
              "      <th>4</th>\n",
              "      <td>5</td>\n",
              "      <td>Mercy</td>\n",
              "      <td>Pilkington</td>\n",
              "      <td>mpilkington4@jugem.jp</td>\n",
              "      <td>68.32</td>\n",
              "      <td>Florida</td>\n",
              "    </tr>\n",
              "  </tbody>\n",
              "</table>\n",
              "</div>"
            ],
            "text/plain": [
              "   id first_name  ... sales_amount       state\n",
              "0   1   Osbourne  ...        31.94     Florida\n",
              "1   2      Glynn  ...        12.46  California\n",
              "2   3       Jori  ...       191.14    Colorado\n",
              "3   4     Garald  ...       126.58       Texas\n",
              "4   5      Mercy  ...        68.32     Florida\n",
              "\n",
              "[5 rows x 6 columns]"
            ]
          },
          "metadata": {},
          "execution_count": 9
        }
      ]
    },
    {
      "cell_type": "code",
      "metadata": {
        "colab": {
          "base_uri": "https://localhost:8080/"
        },
        "id": "rfViQGQT5zhd",
        "outputId": "8afe2356-48c7-4844-ff7d-4ac017f02849"
      },
      "source": [
        "df.shape"
      ],
      "execution_count": null,
      "outputs": [
        {
          "output_type": "execute_result",
          "data": {
            "text/plain": [
              "(5000, 6)"
            ]
          },
          "metadata": {},
          "execution_count": 10
        }
      ]
    },
    {
      "cell_type": "code",
      "metadata": {
        "colab": {
          "base_uri": "https://localhost:8080/"
        },
        "id": "1ytfjtGk52_U",
        "outputId": "c3748aa1-6fbc-4fd2-f3e4-9ad86ec45a3c"
      },
      "source": [
        "df2 = df[1:]\n",
        "df2.shape"
      ],
      "execution_count": null,
      "outputs": [
        {
          "output_type": "execute_result",
          "data": {
            "text/plain": [
              "(4999, 6)"
            ]
          },
          "metadata": {},
          "execution_count": 11
        }
      ]
    },
    {
      "cell_type": "code",
      "metadata": {
        "id": "uXsdV_N858lz"
      },
      "source": [
        "total = df[\"sales_amount\"].sum()"
      ],
      "execution_count": null,
      "outputs": []
    },
    {
      "cell_type": "code",
      "metadata": {
        "id": "HsY4IqXn6DGB"
      },
      "source": [
        "total2 = df2[\"sales_amount\"].sum()"
      ],
      "execution_count": null,
      "outputs": []
    },
    {
      "cell_type": "code",
      "metadata": {
        "colab": {
          "base_uri": "https://localhost:8080/"
        },
        "id": "TdHfiZnv6OA1",
        "outputId": "10f9f1ce-f771-4b50-dd05-7f8ee9a4ec04"
      },
      "source": [
        "total - total2"
      ],
      "execution_count": null,
      "outputs": [
        {
          "output_type": "execute_result",
          "data": {
            "text/plain": [
              "31.940000000060536"
            ]
          },
          "metadata": {},
          "execution_count": 17
        }
      ]
    },
    {
      "cell_type": "code",
      "metadata": {
        "colab": {
          "base_uri": "https://localhost:8080/"
        },
        "id": "7cwPc52m6vib",
        "outputId": "397dcc9f-3869-40e1-df07-19c0d7b0328f"
      },
      "source": [
        "dp = BoundedSum(epsilon= 1.5, lower_bound =  5, upper_bound = 250, dtype ='float') \n",
        "\n",
        "dp_sum = dp.quick_result(df['sales_amount'].to_list())\n",
        "dp_sum = round(dp_sum, 2)\n",
        "print(dp_sum)\n",
        "\n",
        "dp_sum2 = dp.quick_result(df2['sales_amount'].to_list())\n",
        "dp_sum2 = round(dp_sum2, 2)\n",
        "print(dp_sum2)\n",
        "print(dp_sum - dp_sum2)"
      ],
      "execution_count": null,
      "outputs": [
        {
          "output_type": "stream",
          "name": "stdout",
          "text": [
            "636663.06\n",
            "636519.25\n",
            "143.81000000005588\n"
          ]
        }
      ]
    },
    {
      "cell_type": "markdown",
      "metadata": {
        "id": "-8GR9SGZ8IsF"
      },
      "source": [
        "\n",
        "## observations.\n",
        "\n",
        "- Now that we've calculated the differentially private sum on the original and the second dataset, it's straightforward to verify that that the differentially private sums are not equal to sums under the non-differentially private setting.\n",
        "- Also, the difference is no longer equal to the amount that Osbourne spent indicating that membership attacks would now be unsuccessful, regardless of access to any other customer records.\n",
        "- Interestingly, the differentially private sum values are still comparable and are not very different.\n",
        "- We've therefore succeeded in ensuring differential privacy in our simple example!"
      ]
    },
    {
      "cell_type": "code",
      "metadata": {
        "id": "YL71LErUxsi4"
      },
      "source": [
        ""
      ],
      "execution_count": null,
      "outputs": []
    },
    {
      "cell_type": "markdown",
      "metadata": {
        "id": "qePt3podxtI1"
      },
      "source": [
        "## Laplace Mechanism"
      ]
    },
    {
      "cell_type": "code",
      "metadata": {
        "id": "y_68cjk5xEWW",
        "outputId": "82e23b50-40ed-4949-c6ed-ecfe2210b9ef",
        "colab": {
          "base_uri": "https://localhost:8080/",
          "height": 281
        }
      },
      "source": [
        "def laplace_function(x,beta):\n",
        "    result = (1/(2*beta)) * np.e**(-1*(np.abs(x)/beta))\n",
        "    return result\n",
        "\n",
        "x = np.linspace(-5,5,10000)\n",
        "y1 = [laplace_function(x_,0.5) for x_ in x]\n",
        "y2 = [laplace_function(x_,1) for x_ in x]\n",
        "y3 = [laplace_function(x_,2) for x_ in x]\n",
        "\n",
        "\n",
        "plt.plot(x,y1,color='r',label='beta:0.5')\n",
        "plt.plot(x,y2,color='g',label='beta:1')\n",
        "plt.plot(x,y3,color='b',label='beta:2')\n",
        "plt.title(\"Laplace distribution\")\n",
        "plt.legend()\n",
        "plt.show()"
      ],
      "execution_count": 12,
      "outputs": [
        {
          "output_type": "display_data",
          "data": {
            "image/png": "[encoded data removed]",
            "text/plain": [
              "<Figure size 432x288 with 1 Axes>"
            ]
          },
          "metadata": {
            "needs_background": "light"
          }
        }
      ]
    },
    {
      "cell_type": "code",
      "metadata": {
        "id": "tjc4lEdqxbFy",
        "outputId": "e9785758-2f49-423b-bed7-c963a9f9bf4f",
        "colab": {
          "base_uri": "https://localhost:8080/"
        }
      },
      "source": [
        "def noisyCount(sensitivety,epsilon):\n",
        "    beta = sensitivety/epsilon\n",
        "    u1 = np.random.random()\n",
        "    u2 = np.random.random()\n",
        "    if u1 <= 0.5:\n",
        "        n_value = -beta*np.log(1.-u2)\n",
        "    else:\n",
        "        n_value = beta*np.log(u2)\n",
        "    print(n_value)\n",
        "    return n_value\n",
        "\n",
        "def laplace_mech(data,sensitivety,epsilon):\n",
        "    for i in range(len(data)):\n",
        "        data[i] += noisyCount(sensitivety,epsilon)\n",
        "    return data\n",
        "\n",
        "if __name__ =='__main__':\n",
        "    x = [1.,1.,0.]\n",
        "    sensitivety = 1\n",
        "    epsilon = 1\n",
        "    data = laplace_mech(x,sensitivety,epsilon)\n",
        "    for j in data:\n",
        "        print(j)"
      ],
      "execution_count": 13,
      "outputs": [
        {
          "output_type": "stream",
          "name": "stdout",
          "text": [
            "1.3385247155961835\n",
            "1.609426037000019\n",
            "1.0696322137699037\n",
            "2.3385247155961837\n",
            "2.609426037000019\n",
            "1.0696322137699037\n"
          ]
        }
      ]
    }
  ]
}