{
 "cells": [
  {
   "cell_type": "code",
   "execution_count": null,
   "source": [
    "#import pydp as dp # by convention our package is to be imported as dp (dp for Differential Privacy!)\n",
    "#from pydp.algorithms.laplacian import BoundedSum, BoundedMean, Count, Max\n",
    "import pandas as pd\n",
    "import statistics \n",
    "import numpy as np\n",
    "import matplotlib.pyplot as plt"
   ],
   "outputs": [],
   "metadata": {}
  }
 ],
 "metadata": {
  "orig_nbformat": 4,
  "language_info": {
   "name": "python"
  }
 },
 "nbformat": 4,
 "nbformat_minor": 2
}