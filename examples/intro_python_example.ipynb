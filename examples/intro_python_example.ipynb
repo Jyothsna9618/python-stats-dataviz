{
 "cells": [
  {
   "cell_type": "markdown",
   "metadata": {},
   "source": [
    "# Python Introduction By an Example\n",
    "A dataset provided by FDA has a column \"event_date_initiated\". \n",
    "This is the date when a medical device recall is initiated.\n",
    "The file event_date_initiated.csv contains just this column.\n",
    "1. Read the file and assign dates to a list object\n",
    "2. Find out the number of rows/elements\n",
    "4. Find out the years this dataset covers\n",
    "5. Notice the data quality issue (year 0011, 0012, and 0013)\n",
    "6. Correct the problemetic years\n",
    "7. Save the corrected data to a new file\n"
   ]
  },
  {
   "cell_type": "markdown",
   "metadata": {},
   "source": [
    "## Read the file and assign all lines to a list."
   ]
  },
  {
   "cell_type": "code",
   "execution_count": 15,
   "metadata": {},
   "outputs": [],
   "source": [
    "with open(\"event_date_initiated.csv\") as f:\n",
    "    date_list = f.readlines() "
   ]
  },
  {
   "cell_type": "markdown",
   "metadata": {},
   "source": [
    "## Find out what type of object the date_list is "
   ]
  },
  {
   "cell_type": "code",
   "execution_count": null,
   "metadata": {},
   "outputs": [],
   "source": [
    "type(date_list)"
   ]
  },
  {
   "cell_type": "markdown",
   "metadata": {},
   "source": [
    "## Find out the number of rows/elements"
   ]
  },
  {
   "cell_type": "code",
   "execution_count": 13,
   "metadata": {},
   "outputs": [
    {
     "data": {
      "text/plain": [
       "43749"
      ]
     },
     "execution_count": 13,
     "metadata": {},
     "output_type": "execute_result"
    }
   ],
   "source": [
    "len(date_list)"
   ]
  },
  {
   "cell_type": "markdown",
   "metadata": {},
   "source": [
    "## Display the first 5 dates"
   ]
  },
  {
   "cell_type": "code",
   "execution_count": 5,
   "metadata": {},
   "outputs": [
    {
     "data": {
      "text/plain": [
       "['event_date_initiated\\n',\n",
       " '2002-12-26\\n',\n",
       " '2003-03-25\\n',\n",
       " '2003-03-25\\n',\n",
       " '2004-01-27\\n']"
      ]
     },
     "execution_count": 5,
     "metadata": {},
     "output_type": "execute_result"
    }
   ],
   "source": [
    "date_list[:5]"
   ]
  },
  {
   "cell_type": "markdown",
   "metadata": {},
   "source": [
    "## Ignore the first element"
   ]
  },
  {
   "cell_type": "code",
   "execution_count": 18,
   "metadata": {},
   "outputs": [
    {
     "data": {
      "text/plain": [
       "['2002-12-26\\n',\n",
       " '2003-03-25\\n',\n",
       " '2003-03-25\\n',\n",
       " '2004-01-27\\n',\n",
       " '2003-12-10\\n']"
      ]
     },
     "execution_count": 18,
     "metadata": {},
     "output_type": "execute_result"
    }
   ],
   "source": [
    "date_list = date_list[1:]\n",
    "date_list[:5]"
   ]
  },
  {
   "cell_type": "markdown",
   "metadata": {},
   "source": [
    "## Remove the new line \"\\n\""
   ]
  },
  {
   "cell_type": "code",
   "execution_count": 19,
   "metadata": {},
   "outputs": [
    {
     "data": {
      "text/plain": [
       "['2002-12-26', '2003-03-25', '2003-03-25', '2004-01-27', '2003-12-10']"
      ]
     },
     "execution_count": 19,
     "metadata": {},
     "output_type": "execute_result"
    }
   ],
   "source": [
    "date_list = [x.strip(\"\\n\") for x in date_list]\n",
    "date_list[:5]"
   ]
  },
  {
   "cell_type": "markdown",
   "metadata": {},
   "source": [
    "## Extract year from the date"
   ]
  },
  {
   "cell_type": "code",
   "execution_count": 20,
   "metadata": {},
   "outputs": [
    {
     "data": {
      "text/plain": [
       "['2002', '2003', '2003', '2004', '2003']"
      ]
     },
     "execution_count": 20,
     "metadata": {},
     "output_type": "execute_result"
    }
   ],
   "source": [
    "year_list = [x.split(\"-\")[0] for x in date_list]\n",
    "year_list[:5]"
   ]
  },
  {
   "cell_type": "code",
   "execution_count": 21,
   "metadata": {},
   "outputs": [
    {
     "data": {
      "text/plain": [
       "43749"
      ]
     },
     "execution_count": 21,
     "metadata": {},
     "output_type": "execute_result"
    }
   ],
   "source": [
    "len(year_list)"
   ]
  },
  {
   "cell_type": "markdown",
   "metadata": {},
   "source": [
    "## Get unique years using set() function"
   ]
  },
  {
   "cell_type": "code",
   "execution_count": 22,
   "metadata": {},
   "outputs": [
    {
     "data": {
      "text/plain": [
       "26"
      ]
     },
     "execution_count": 22,
     "metadata": {},
     "output_type": "execute_result"
    }
   ],
   "source": [
    "year_set = set(year_list)\n",
    "len(year_set)"
   ]
  },
  {
   "cell_type": "code",
   "execution_count": 23,
   "metadata": {},
   "outputs": [
    {
     "data": {
      "text/plain": [
       "{'0010',\n",
       " '0012',\n",
       " '0013',\n",
       " '1997',\n",
       " '1998',\n",
       " '2000',\n",
       " '2001',\n",
       " '2002',\n",
       " '2003',\n",
       " '2004',\n",
       " '2005',\n",
       " '2006',\n",
       " '2007',\n",
       " '2008',\n",
       " '2009',\n",
       " '2010',\n",
       " '2011',\n",
       " '2012',\n",
       " '2013',\n",
       " '2014',\n",
       " '2015',\n",
       " '2016',\n",
       " '2017',\n",
       " '2018',\n",
       " '2019',\n",
       " '2020'}"
      ]
     },
     "execution_count": 23,
     "metadata": {},
     "output_type": "execute_result"
    }
   ],
   "source": [
    "year_set"
   ]
  },
  {
   "cell_type": "markdown",
   "metadata": {},
   "source": [
    "## Replace the year 0011, 0012, 0013 with 2011, 2012, 2013"
   ]
  },
  {
   "cell_type": "code",
   "execution_count": 24,
   "metadata": {},
   "outputs": [
    {
     "data": {
      "text/plain": [
       "['2002-12-26',\n",
       " '2003-03-25',\n",
       " '2003-03-25',\n",
       " '2004-01-27',\n",
       " '2003-12-10',\n",
       " '2004-01-27',\n",
       " '2003-03-20',\n",
       " '2003-08-08',\n",
       " '2000-11-16',\n",
       " '2002-10-31']"
      ]
     },
     "execution_count": 24,
     "metadata": {},
     "output_type": "execute_result"
    }
   ],
   "source": [
    "date_list2 = []\n",
    "\n",
    "for init_date in date_list:\n",
    "    if init_date.startswith(\"00\"):\n",
    "        date_list2.append(init_date.replace(\"00\", \"20\", 1))\n",
    "    else:\n",
    "        date_list2.append(init_date)\n",
    "        \n",
    "date_list2[:10]"
   ]
  },
  {
   "cell_type": "markdown",
   "metadata": {},
   "source": [
    "## How do you know the changes were successful?"
   ]
  },
  {
   "cell_type": "markdown",
   "metadata": {},
   "source": [
    "### Method one"
   ]
  },
  {
   "cell_type": "code",
   "execution_count": 25,
   "metadata": {},
   "outputs": [
    {
     "data": {
      "text/plain": [
       "{'1997',\n",
       " '1998',\n",
       " '2000',\n",
       " '2001',\n",
       " '2002',\n",
       " '2003',\n",
       " '2004',\n",
       " '2005',\n",
       " '2006',\n",
       " '2007',\n",
       " '2008',\n",
       " '2009',\n",
       " '2010',\n",
       " '2011',\n",
       " '2012',\n",
       " '2013',\n",
       " '2014',\n",
       " '2015',\n",
       " '2016',\n",
       " '2017',\n",
       " '2018',\n",
       " '2019',\n",
       " '2020'}"
      ]
     },
     "execution_count": 25,
     "metadata": {},
     "output_type": "execute_result"
    }
   ],
   "source": [
    "year_list2 = [x.split(\"-\")[0] for x in date_list2]\n",
    "set(year_list2)"
   ]
  },
  {
   "cell_type": "markdown",
   "metadata": {},
   "source": [
    "### Method two"
   ]
  },
  {
   "cell_type": "code",
   "execution_count": 34,
   "metadata": {},
   "outputs": [
    {
     "name": "stdout",
     "output_type": "stream",
     "text": [
      "found and corrected problemtic date 0012-12-06 at position 2290\n",
      "found and corrected problemtic date 0013-11-26 at position 2344\n",
      "found and corrected problemtic date 0012-11-30 at position 2432\n",
      "found and corrected problemtic date 0013-05-16 at position 5267\n",
      "found and corrected problemtic date 0013-03-05 at position 6045\n",
      "found and corrected problemtic date 0013-05-16 at position 6801\n",
      "found and corrected problemtic date 0012-12-13 at position 19636\n",
      "found and corrected problemtic date 0013-04-12 at position 19910\n",
      "found and corrected problemtic date 0013-03-05 at position 25453\n",
      "found and corrected problemtic date 0013-11-25 at position 27812\n",
      "found and corrected problemtic date 0013-12-13 at position 27855\n",
      "found and corrected problemtic date 0013-04-11 at position 29256\n",
      "found and corrected problemtic date 0013-03-05 at position 32382\n",
      "found and corrected problemtic date 0013-04-12 at position 33046\n",
      "found and corrected problemtic date 0010-08-17 at position 36031\n",
      "found and corrected problemtic date 0013-03-05 at position 36657\n",
      "found and corrected problemtic date 0013-03-05 at position 41312\n",
      "found and corrected problemtic date 0013-03-05 at position 41340\n",
      "found and corrected problemtic date 0013-03-05 at position 41345\n",
      "found and corrected problemtic date 0013-03-05 at position 41657\n",
      "found and corrected problemtic date 0013-03-05 at position 41681\n"
     ]
    }
   ],
   "source": [
    "date_list2 = []\n",
    "\n",
    "for i in range(len(date_list)):\n",
    "    init_date = date_list[i]\n",
    "    if init_date.startswith(\"00\"):\n",
    "        print(f\"found and corrected problemtic date {init_date} at position {i}\")\n",
    "        date_list2.append(init_date.replace(\"00\", \"20\", 1))\n",
    "    else:\n",
    "        date_list2.append(init_date)"
   ]
  },
  {
   "cell_type": "code",
   "execution_count": 27,
   "metadata": {},
   "outputs": [
    {
     "data": {
      "text/plain": [
       "'0013-03-05'"
      ]
     },
     "execution_count": 27,
     "metadata": {},
     "output_type": "execute_result"
    }
   ],
   "source": [
    "date_list[41681]"
   ]
  },
  {
   "cell_type": "code",
   "execution_count": 28,
   "metadata": {},
   "outputs": [
    {
     "data": {
      "text/plain": [
       "'2013-03-05'"
      ]
     },
     "execution_count": 28,
     "metadata": {},
     "output_type": "execute_result"
    }
   ],
   "source": [
    "date_list2[41681]"
   ]
  },
  {
   "cell_type": "code",
   "execution_count": 31,
   "metadata": {},
   "outputs": [
    {
     "name": "stdout",
     "output_type": "stream",
     "text": [
      "0012-12-06 -> 2012-12-06\n",
      "0013-11-26 -> 2013-11-26\n",
      "0012-11-30 -> 2012-11-30\n",
      "0013-05-16 -> 2013-05-16\n",
      "0013-03-05 -> 2013-03-05\n",
      "0013-05-16 -> 2013-05-16\n",
      "0012-12-13 -> 2012-12-13\n",
      "0013-04-12 -> 2013-04-12\n",
      "0013-03-05 -> 2013-03-05\n",
      "0013-11-25 -> 2013-11-25\n",
      "0013-12-13 -> 2013-12-13\n",
      "0013-04-11 -> 2013-04-11\n",
      "0013-03-05 -> 2013-03-05\n",
      "0013-04-12 -> 2013-04-12\n",
      "0010-08-17 -> 2010-08-17\n",
      "0013-03-05 -> 2013-03-05\n",
      "0013-03-05 -> 2013-03-05\n",
      "0013-03-05 -> 2013-03-05\n",
      "0013-03-05 -> 2013-03-05\n",
      "0013-03-05 -> 2013-03-05\n",
      "0013-03-05 -> 2013-03-05\n"
     ]
    }
   ],
   "source": [
    "for i in range(len(date_list)):\n",
    "    if date_list[i] != date_list2[i]:\n",
    "        print(date_list[i], \"->\", date_list2[i])"
   ]
  },
  {
   "cell_type": "markdown",
   "metadata": {},
   "source": [
    "## Saved the corrected data to a file"
   ]
  },
  {
   "cell_type": "code",
   "execution_count": 38,
   "metadata": {},
   "outputs": [],
   "source": [
    "with open(\"event_date_initiated_corrected.csv\", \"wt\") as f:\n",
    "    f.write(\"\\n\".join(date_list2))"
   ]
  },
  {
   "cell_type": "code",
   "execution_count": 39,
   "metadata": {},
   "outputs": [
    {
     "data": {
      "text/plain": [
       "['2002-12-26\\n',\n",
       " '2003-03-25\\n',\n",
       " '2003-03-25\\n',\n",
       " '2004-01-27\\n',\n",
       " '2003-12-10\\n']"
      ]
     },
     "execution_count": 39,
     "metadata": {},
     "output_type": "execute_result"
    }
   ],
   "source": [
    "with open(\"event_date_initiated_corrected.csv\") as f:\n",
    "    corrected_date_list = f.readlines() \n",
    "    \n",
    "corrected_date_list[:5]"
   ]
  },
  {
   "cell_type": "markdown",
   "metadata": {},
   "source": [
    "# The End!"
   ]
  }
 ],
 "metadata": {
  "kernelspec": {
   "display_name": "Python 3",
   "language": "python",
   "name": "python3"
  },
  "language_info": {
   "codemirror_mode": {
    "name": "ipython",
    "version": 3
   },
   "file_extension": ".py",
   "mimetype": "text/x-python",
   "name": "python",
   "nbconvert_exporter": "python",
   "pygments_lexer": "ipython3",
   "version": "3.8.6"
  }
 },
 "nbformat": 4,
 "nbformat_minor": 4
}
