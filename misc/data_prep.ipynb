{
  "nbformat": 4,
  "nbformat_minor": 0,
  "metadata": {
    "kernelspec": {
      "display_name": "Python 3",
      "language": "python",
      "name": "python3"
    },
    "language_info": {
      "codemirror_mode": {
        "name": "ipython",
        "version": 3
      },
      "file_extension": ".py",
      "mimetype": "text/x-python",
      "name": "python",
      "nbconvert_exporter": "python",
      "pygments_lexer": "ipython3",
      "version": "3.8.6"
    },
    "colab": {
      "name": "data_prep.ipynb",
      "provenance": [],
      "include_colab_link": true
    }
  },
  "cells": [
    {
      "cell_type": "markdown",
      "metadata": {
        "id": "view-in-github",
        "colab_type": "text"
      },
      "source": [
        "<a href=\"https://colab.research.google.com/github/wcj365/python-stats-dataviz/blob/master/data_prep.ipynb\" target=\"_parent\"><img src=\"https://colab.research.google.com/assets/colab-badge.svg\" alt=\"Open In Colab\"/></a>"
      ]
    },
    {
      "cell_type": "markdown",
      "metadata": {
        "id": "ne0G7h4Cn18d"
      },
      "source": [
        "# World Development Indicator Dashboard\n",
        "World Development Indicators (WDI) is the World Bank’s premier compilation of cross-country comparable data on development.\n",
        "This notebook prepares the data for producing interactive visualizations.\n",
        "\n",
        "**References**\n",
        "- http://wdi.worldbank.org/\n",
        "- https://wbdata.readthedocs.io/en/stable/\n",
        "- https://datahelpdesk.worldbank.org/knowledgebase/topics/125589-developer-information\n",
        "- https://databank.worldbank.org/source/world-development-indicators\n",
        "\n",
        "**Data Source**\n",
        "- https://datacatalog.worldbank.org/dataset/world-development-indicators\n",
        "- https://unstats.un.org/unsd/methodology/m49/overview"
      ]
    },
    {
      "cell_type": "code",
      "metadata": {
        "id": "ELHZANzSn180"
      },
      "source": [
        "import pandas as pd\n",
        "pd.set_option(\"display.max_colwidth\", 500)\n",
        "pd.set_option(\"display.max_colwidth\", 500)"
      ],
      "execution_count": null,
      "outputs": []
    },
    {
      "cell_type": "code",
      "metadata": {
        "colab": {
          "base_uri": "https://localhost:8080/"
        },
        "id": "4HyudFQevFxj",
        "outputId": "abc4b728-cbd4-4f73-a472-5bade5abe165"
      },
      "source": [
        "user_inputs = [1,2,3,5,6,7]\r\n",
        "type(user_inputs)"
      ],
      "execution_count": 22,
      "outputs": [
        {
          "output_type": "execute_result",
          "data": {
            "text/plain": [
              "list"
            ]
          },
          "metadata": {
            "tags": []
          },
          "execution_count": 22
        }
      ]
    },
    {
      "cell_type": "code",
      "metadata": {
        "colab": {
          "base_uri": "https://localhost:8080/"
        },
        "id": "CnfwTMiDvb1W",
        "outputId": "b807ea45-055b-4ae7-b273-8d7dce8d02f9"
      },
      "source": [
        "user_inputs[1:]"
      ],
      "execution_count": 23,
      "outputs": [
        {
          "output_type": "execute_result",
          "data": {
            "text/plain": [
              "[2, 3, 5, 6, 7]"
            ]
          },
          "metadata": {
            "tags": []
          },
          "execution_count": 23
        }
      ]
    },
    {
      "cell_type": "code",
      "metadata": {
        "colab": {
          "base_uri": "https://localhost:8080/"
        },
        "id": "U1WhSOUbv3XO",
        "outputId": "9c1a7468-861d-4a08-986e-928d3a5d3fd7"
      },
      "source": [
        "user_inputs.append(100)\r\n",
        "user_inputs"
      ],
      "execution_count": 24,
      "outputs": [
        {
          "output_type": "execute_result",
          "data": {
            "text/plain": [
              "[1, 2, 3, 5, 6, 7, 100]"
            ]
          },
          "metadata": {
            "tags": []
          },
          "execution_count": 24
        }
      ]
    },
    {
      "cell_type": "code",
      "metadata": {
        "colab": {
          "base_uri": "https://localhost:8080/"
        },
        "id": "JeN6kQ7nwAW6",
        "outputId": "aba00f7d-34b8-4260-c64c-b31d938da3c9"
      },
      "source": [
        "len(user_inputs)"
      ],
      "execution_count": 25,
      "outputs": [
        {
          "output_type": "execute_result",
          "data": {
            "text/plain": [
              "7"
            ]
          },
          "metadata": {
            "tags": []
          },
          "execution_count": 25
        }
      ]
    },
    {
      "cell_type": "code",
      "metadata": {
        "colab": {
          "base_uri": "https://localhost:8080/"
        },
        "id": "RU6dR-jtwGAn",
        "outputId": "2017363f-d0a0-464d-ac02-d5f9da7d977c"
      },
      "source": [
        "a_list = []\r\n",
        "a_list"
      ],
      "execution_count": 26,
      "outputs": [
        {
          "output_type": "execute_result",
          "data": {
            "text/plain": [
              "[]"
            ]
          },
          "metadata": {
            "tags": []
          },
          "execution_count": 26
        }
      ]
    },
    {
      "cell_type": "code",
      "metadata": {
        "colab": {
          "base_uri": "https://localhost:8080/"
        },
        "id": "ZM7-SFfSwNEP",
        "outputId": "62d7a0d6-d455-4f16-f80b-5aeaf9c7d04b"
      },
      "source": [
        "a_list.append(\"jay\")\r\n",
        "a_list"
      ],
      "execution_count": 27,
      "outputs": [
        {
          "output_type": "execute_result",
          "data": {
            "text/plain": [
              "['jay']"
            ]
          },
          "metadata": {
            "tags": []
          },
          "execution_count": 27
        }
      ]
    },
    {
      "cell_type": "code",
      "metadata": {
        "colab": {
          "base_uri": "https://localhost:8080/"
        },
        "id": "hp355TNBwTY9",
        "outputId": "1a097cec-1b52-40b1-a366-f783789a610a"
      },
      "source": [
        "a_list.append(\"jamie\")\r\n",
        "a_list"
      ],
      "execution_count": 28,
      "outputs": [
        {
          "output_type": "execute_result",
          "data": {
            "text/plain": [
              "['jay', 'jamie']"
            ]
          },
          "metadata": {
            "tags": []
          },
          "execution_count": 28
        }
      ]
    },
    {
      "cell_type": "code",
      "metadata": {
        "id": "byaKZY7O6Tos"
      },
      "source": [
        ""
      ],
      "execution_count": null,
      "outputs": []
    },
    {
      "cell_type": "markdown",
      "metadata": {
        "id": "uqF_dXfC6UE8"
      },
      "source": [
        "## Accpet User Input"
      ]
    },
    {
      "cell_type": "code",
      "metadata": {
        "colab": {
          "base_uri": "https://localhost:8080/"
        },
        "id": "p2VV_hcbrXyv",
        "outputId": "4a64b4b6-2760-4002-d540-2054bb6c69fe"
      },
      "source": [
        "user_inputs =[]\r\n",
        "for i in range(1, 4):\r\n",
        "    user_input = input(\"Please enter an integer:\")\r\n",
        "    user_inputs.append(user_input)   \r\n",
        "    print(f\"You have entered #{i}:\", user_input)\r\n",
        "\r\n",
        "print(\"Overall, you have entered:\", user_inputs)\r\n"
      ],
      "execution_count": 29,
      "outputs": [
        {
          "output_type": "stream",
          "text": [
            "Please enter an integer:10\n",
            "You have entered #1: 10\n",
            "Please enter an integer:34\n",
            "You have entered #2: 34\n",
            "Please enter an integer:25\n",
            "You have entered #3: 25\n",
            "Overall, you have entered: ['10', '34', '25']\n"
          ],
          "name": "stdout"
        }
      ]
    },
    {
      "cell_type": "code",
      "metadata": {
        "colab": {
          "base_uri": "https://localhost:8080/"
        },
        "id": "xcBF6cazxKBg",
        "outputId": "c6c539a5-8b74-482c-cdca-f7028bbe3690"
      },
      "source": [
        "int_list =[]\r\n",
        "for user_in in user_inputs:\r\n",
        "    x = int(user_in)\r\n",
        "    int_list.append(x)\r\n",
        "\r\n",
        "int_list"
      ],
      "execution_count": 32,
      "outputs": [
        {
          "output_type": "execute_result",
          "data": {
            "text/plain": [
              "[10, 34, 25]"
            ]
          },
          "metadata": {
            "tags": []
          },
          "execution_count": 32
        }
      ]
    },
    {
      "cell_type": "code",
      "metadata": {
        "colab": {
          "base_uri": "https://localhost:8080/"
        },
        "id": "ZIcWN4S7xYcW",
        "outputId": "9cf3dce9-9f5e-427a-e34b-2ca236a894a0"
      },
      "source": [
        "sum(int_list)"
      ],
      "execution_count": 34,
      "outputs": [
        {
          "output_type": "execute_result",
          "data": {
            "text/plain": [
              "69"
            ]
          },
          "metadata": {
            "tags": []
          },
          "execution_count": 34
        }
      ]
    },
    {
      "cell_type": "code",
      "metadata": {
        "id": "o-I89iHm6HWZ"
      },
      "source": [
        ""
      ],
      "execution_count": null,
      "outputs": []
    },
    {
      "cell_type": "markdown",
      "metadata": {
        "id": "xQGpJSl26IK0"
      },
      "source": [
        "## Calculate Minimum"
      ]
    },
    {
      "cell_type": "code",
      "metadata": {
        "id": "8hZXTGMu6M2C"
      },
      "source": [
        ""
      ],
      "execution_count": null,
      "outputs": []
    },
    {
      "cell_type": "markdown",
      "metadata": {
        "id": "I9mpJuQP6OgS"
      },
      "source": [
        "# Calculate Maximum"
      ]
    },
    {
      "cell_type": "code",
      "metadata": {
        "id": "2cELin3H6QrE"
      },
      "source": [
        ""
      ],
      "execution_count": null,
      "outputs": []
    },
    {
      "cell_type": "code",
      "metadata": {
        "colab": {
          "base_uri": "https://localhost:8080/"
        },
        "id": "tv0S61QdyboZ",
        "outputId": "27b71d4e-20f5-4bb1-df8f-a92f03ef83e2"
      },
      "source": [
        "try:\r\n",
        "    int_x = int(\"jay\")\r\n",
        "except:\r\n",
        "    print(\"I am not able to convert 'jay'\")"
      ],
      "execution_count": 39,
      "outputs": [
        {
          "output_type": "stream",
          "text": [
            "I am not able to convert 'jay'\n"
          ],
          "name": "stdout"
        }
      ]
    },
    {
      "cell_type": "code",
      "metadata": {
        "colab": {
          "base_uri": "https://localhost:8080/"
        },
        "id": "qfkgBE_-uXkx",
        "outputId": "5cef3082-007a-4a92-d8cf-7a9abc35336b"
      },
      "source": [
        "x = int(user_input)\r\n",
        "type(x)"
      ],
      "execution_count": 14,
      "outputs": [
        {
          "output_type": "execute_result",
          "data": {
            "text/plain": [
              "int"
            ]
          },
          "metadata": {
            "tags": []
          },
          "execution_count": 14
        }
      ]
    },
    {
      "cell_type": "markdown",
      "metadata": {
        "id": "EruvpWPCn184"
      },
      "source": [
        "## Step 1 - Process WDI Data"
      ]
    },
    {
      "cell_type": "markdown",
      "metadata": {
        "id": "hNha_Cewn184"
      },
      "source": [
        "**1.1 Load the data**"
      ]
    },
    {
      "cell_type": "code",
      "metadata": {
        "id": "_Ra_cwM3n185",
        "outputId": "40f4ba94-e6a2-415a-cbfb-40340a723cac"
      },
      "source": [
        "df_wdi = pd.read_csv(\"../data/WDIData.csv\")\n",
        "df_wdi.shape"
      ],
      "execution_count": null,
      "outputs": [
        {
          "output_type": "execute_result",
          "data": {
            "text/plain": [
              "(380160, 66)"
            ]
          },
          "metadata": {
            "tags": []
          },
          "execution_count": 4
        }
      ]
    },
    {
      "cell_type": "code",
      "metadata": {
        "id": "99Vxdvmqn188",
        "outputId": "2c690818-c334-4935-d05a-515a9918c2a3"
      },
      "source": [
        "df_wdi.sample(2)"
      ],
      "execution_count": null,
      "outputs": [
        {
          "output_type": "execute_result",
          "data": {
            "text/html": [
              "<div>\n",
              "<style scoped>\n",
              "    .dataframe tbody tr th:only-of-type {\n",
              "        vertical-align: middle;\n",
              "    }\n",
              "\n",
              "    .dataframe tbody tr th {\n",
              "        vertical-align: top;\n",
              "    }\n",
              "\n",
              "    .dataframe thead th {\n",
              "        text-align: right;\n",
              "    }\n",
              "</style>\n",
              "<table border=\"1\" class=\"dataframe\">\n",
              "  <thead>\n",
              "    <tr style=\"text-align: right;\">\n",
              "      <th></th>\n",
              "      <th>Country Name</th>\n",
              "      <th>Country Code</th>\n",
              "      <th>Indicator Name</th>\n",
              "      <th>Indicator Code</th>\n",
              "      <th>1960</th>\n",
              "      <th>1961</th>\n",
              "      <th>1962</th>\n",
              "      <th>1963</th>\n",
              "      <th>1964</th>\n",
              "      <th>1965</th>\n",
              "      <th>...</th>\n",
              "      <th>2012</th>\n",
              "      <th>2013</th>\n",
              "      <th>2014</th>\n",
              "      <th>2015</th>\n",
              "      <th>2016</th>\n",
              "      <th>2017</th>\n",
              "      <th>2018</th>\n",
              "      <th>2019</th>\n",
              "      <th>2020</th>\n",
              "      <th>Unnamed: 65</th>\n",
              "    </tr>\n",
              "  </thead>\n",
              "  <tbody>\n",
              "    <tr>\n",
              "      <th>335280</th>\n",
              "      <td>Sudan</td>\n",
              "      <td>SDN</td>\n",
              "      <td>School enrollment, preprimary, female (% gross)</td>\n",
              "      <td>SE.PRE.ENRR.FE</td>\n",
              "      <td>NaN</td>\n",
              "      <td>NaN</td>\n",
              "      <td>NaN</td>\n",
              "      <td>NaN</td>\n",
              "      <td>NaN</td>\n",
              "      <td>NaN</td>\n",
              "      <td>...</td>\n",
              "      <td>37.04562</td>\n",
              "      <td>49.123241</td>\n",
              "      <td>44.811131</td>\n",
              "      <td>44.528858</td>\n",
              "      <td>46.180439</td>\n",
              "      <td>47.098412</td>\n",
              "      <td>NaN</td>\n",
              "      <td>NaN</td>\n",
              "      <td>NaN</td>\n",
              "      <td>NaN</td>\n",
              "    </tr>\n",
              "    <tr>\n",
              "      <th>317508</th>\n",
              "      <td>Slovak Republic</td>\n",
              "      <td>SVK</td>\n",
              "      <td>Literacy rate, youth (ages 15-24), gender pari...</td>\n",
              "      <td>SE.ADT.1524.LT.FM.ZS</td>\n",
              "      <td>NaN</td>\n",
              "      <td>NaN</td>\n",
              "      <td>NaN</td>\n",
              "      <td>NaN</td>\n",
              "      <td>NaN</td>\n",
              "      <td>NaN</td>\n",
              "      <td>...</td>\n",
              "      <td>NaN</td>\n",
              "      <td>NaN</td>\n",
              "      <td>NaN</td>\n",
              "      <td>NaN</td>\n",
              "      <td>NaN</td>\n",
              "      <td>NaN</td>\n",
              "      <td>NaN</td>\n",
              "      <td>NaN</td>\n",
              "      <td>NaN</td>\n",
              "      <td>NaN</td>\n",
              "    </tr>\n",
              "  </tbody>\n",
              "</table>\n",
              "<p>2 rows × 66 columns</p>\n",
              "</div>"
            ],
            "text/plain": [
              "           Country Name Country Code  \\\n",
              "335280            Sudan          SDN   \n",
              "317508  Slovak Republic          SVK   \n",
              "\n",
              "                                           Indicator Name  \\\n",
              "335280    School enrollment, preprimary, female (% gross)   \n",
              "317508  Literacy rate, youth (ages 15-24), gender pari...   \n",
              "\n",
              "              Indicator Code  1960  1961  1962  1963  1964  1965  ...  \\\n",
              "335280        SE.PRE.ENRR.FE   NaN   NaN   NaN   NaN   NaN   NaN  ...   \n",
              "317508  SE.ADT.1524.LT.FM.ZS   NaN   NaN   NaN   NaN   NaN   NaN  ...   \n",
              "\n",
              "            2012       2013       2014       2015       2016       2017  2018  \\\n",
              "335280  37.04562  49.123241  44.811131  44.528858  46.180439  47.098412   NaN   \n",
              "317508       NaN        NaN        NaN        NaN        NaN        NaN   NaN   \n",
              "\n",
              "        2019  2020  Unnamed: 65  \n",
              "335280   NaN   NaN          NaN  \n",
              "317508   NaN   NaN          NaN  \n",
              "\n",
              "[2 rows x 66 columns]"
            ]
          },
          "metadata": {
            "tags": []
          },
          "execution_count": 14
        }
      ]
    },
    {
      "cell_type": "markdown",
      "metadata": {
        "id": "o9VoIFHkn189"
      },
      "source": [
        "**1.2 Drop the last column (unuseful)**"
      ]
    },
    {
      "cell_type": "code",
      "metadata": {
        "id": "dkeb0FVNn18-",
        "outputId": "a863a07b-ba36-4997-c93c-c6d700a30103"
      },
      "source": [
        "df_wdi.drop(columns=df_wdi.columns[-1], inplace=True)\n",
        "df_wdi.sample(1)"
      ],
      "execution_count": null,
      "outputs": [
        {
          "output_type": "execute_result",
          "data": {
            "text/html": [
              "<div>\n",
              "<style scoped>\n",
              "    .dataframe tbody tr th:only-of-type {\n",
              "        vertical-align: middle;\n",
              "    }\n",
              "\n",
              "    .dataframe tbody tr th {\n",
              "        vertical-align: top;\n",
              "    }\n",
              "\n",
              "    .dataframe thead th {\n",
              "        text-align: right;\n",
              "    }\n",
              "</style>\n",
              "<table border=\"1\" class=\"dataframe\">\n",
              "  <thead>\n",
              "    <tr style=\"text-align: right;\">\n",
              "      <th></th>\n",
              "      <th>Country Name</th>\n",
              "      <th>Country Code</th>\n",
              "      <th>Indicator Name</th>\n",
              "      <th>Indicator Code</th>\n",
              "      <th>1960</th>\n",
              "      <th>1961</th>\n",
              "      <th>1962</th>\n",
              "      <th>1963</th>\n",
              "      <th>1964</th>\n",
              "      <th>1965</th>\n",
              "      <th>...</th>\n",
              "      <th>2011</th>\n",
              "      <th>2012</th>\n",
              "      <th>2013</th>\n",
              "      <th>2014</th>\n",
              "      <th>2015</th>\n",
              "      <th>2016</th>\n",
              "      <th>2017</th>\n",
              "      <th>2018</th>\n",
              "      <th>2019</th>\n",
              "      <th>2020</th>\n",
              "    </tr>\n",
              "  </thead>\n",
              "  <tbody>\n",
              "    <tr>\n",
              "      <th>26176</th>\n",
              "      <td>IDA only</td>\n",
              "      <td>IDX</td>\n",
              "      <td>Coverage of unemployment benefits and ALMP (% ...</td>\n",
              "      <td>per_lm_alllm.cov_pop_tot</td>\n",
              "      <td>NaN</td>\n",
              "      <td>NaN</td>\n",
              "      <td>NaN</td>\n",
              "      <td>NaN</td>\n",
              "      <td>NaN</td>\n",
              "      <td>NaN</td>\n",
              "      <td>...</td>\n",
              "      <td>NaN</td>\n",
              "      <td>NaN</td>\n",
              "      <td>NaN</td>\n",
              "      <td>NaN</td>\n",
              "      <td>NaN</td>\n",
              "      <td>NaN</td>\n",
              "      <td>NaN</td>\n",
              "      <td>NaN</td>\n",
              "      <td>NaN</td>\n",
              "      <td>NaN</td>\n",
              "    </tr>\n",
              "  </tbody>\n",
              "</table>\n",
              "<p>1 rows × 65 columns</p>\n",
              "</div>"
            ],
            "text/plain": [
              "      Country Name Country Code  \\\n",
              "26176     IDA only          IDX   \n",
              "\n",
              "                                          Indicator Name  \\\n",
              "26176  Coverage of unemployment benefits and ALMP (% ...   \n",
              "\n",
              "                 Indicator Code  1960  1961  1962  1963  1964  1965  ...  \\\n",
              "26176  per_lm_alllm.cov_pop_tot   NaN   NaN   NaN   NaN   NaN   NaN  ...   \n",
              "\n",
              "       2011  2012  2013  2014  2015  2016  2017  2018  2019  2020  \n",
              "26176   NaN   NaN   NaN   NaN   NaN   NaN   NaN   NaN   NaN   NaN  \n",
              "\n",
              "[1 rows x 65 columns]"
            ]
          },
          "metadata": {
            "tags": []
          },
          "execution_count": 10
        }
      ]
    },
    {
      "cell_type": "markdown",
      "metadata": {
        "id": "eKvPQOy1n18_"
      },
      "source": [
        "**1.3 Drop the indicator name (save memory)**"
      ]
    },
    {
      "cell_type": "code",
      "metadata": {
        "id": "aPpUobxan19B",
        "outputId": "6d17f6e6-2e81-4100-beb7-677a320a8c71"
      },
      "source": [
        "df_wdi.drop(columns={\"Indicator Name\"}, inplace=True)\n",
        "df_wdi.sample(1)"
      ],
      "execution_count": null,
      "outputs": [
        {
          "output_type": "error",
          "ename": "KeyError",
          "evalue": "\"['Indicator Name'] not found in axis\"",
          "traceback": [
            "\u001b[0;31m---------------------------------------------------------------------------\u001b[0m",
            "\u001b[0;31mKeyError\u001b[0m                                  Traceback (most recent call last)",
            "\u001b[0;32m<ipython-input-72-2a85e9583158>\u001b[0m in \u001b[0;36m<module>\u001b[0;34m\u001b[0m\n\u001b[0;32m----> 1\u001b[0;31m \u001b[0mdf_wdi\u001b[0m\u001b[0;34m.\u001b[0m\u001b[0mdrop\u001b[0m\u001b[0;34m(\u001b[0m\u001b[0mcolumns\u001b[0m\u001b[0;34m=\u001b[0m\u001b[0;34m{\u001b[0m\u001b[0;34m\"Indicator Name\"\u001b[0m\u001b[0;34m}\u001b[0m\u001b[0;34m,\u001b[0m \u001b[0minplace\u001b[0m\u001b[0;34m=\u001b[0m\u001b[0;32mTrue\u001b[0m\u001b[0;34m)\u001b[0m\u001b[0;34m\u001b[0m\u001b[0;34m\u001b[0m\u001b[0m\n\u001b[0m\u001b[1;32m      2\u001b[0m \u001b[0mdf_wdi\u001b[0m\u001b[0;34m.\u001b[0m\u001b[0msample\u001b[0m\u001b[0;34m(\u001b[0m\u001b[0;36m1\u001b[0m\u001b[0;34m)\u001b[0m\u001b[0;34m\u001b[0m\u001b[0;34m\u001b[0m\u001b[0m\n",
            "\u001b[0;32m/opt/conda/lib/python3.8/site-packages/pandas/core/frame.py\u001b[0m in \u001b[0;36mdrop\u001b[0;34m(self, labels, axis, index, columns, level, inplace, errors)\u001b[0m\n\u001b[1;32m   4303\u001b[0m                 \u001b[0mweight\u001b[0m  \u001b[0;36m1.0\u001b[0m     \u001b[0;36m0.8\u001b[0m\u001b[0;34m\u001b[0m\u001b[0;34m\u001b[0m\u001b[0m\n\u001b[1;32m   4304\u001b[0m         \"\"\"\n\u001b[0;32m-> 4305\u001b[0;31m         return super().drop(\n\u001b[0m\u001b[1;32m   4306\u001b[0m             \u001b[0mlabels\u001b[0m\u001b[0;34m=\u001b[0m\u001b[0mlabels\u001b[0m\u001b[0;34m,\u001b[0m\u001b[0;34m\u001b[0m\u001b[0;34m\u001b[0m\u001b[0m\n\u001b[1;32m   4307\u001b[0m             \u001b[0maxis\u001b[0m\u001b[0;34m=\u001b[0m\u001b[0maxis\u001b[0m\u001b[0;34m,\u001b[0m\u001b[0;34m\u001b[0m\u001b[0;34m\u001b[0m\u001b[0m\n",
            "\u001b[0;32m/opt/conda/lib/python3.8/site-packages/pandas/core/generic.py\u001b[0m in \u001b[0;36mdrop\u001b[0;34m(self, labels, axis, index, columns, level, inplace, errors)\u001b[0m\n\u001b[1;32m   4150\u001b[0m         \u001b[0;32mfor\u001b[0m \u001b[0maxis\u001b[0m\u001b[0;34m,\u001b[0m \u001b[0mlabels\u001b[0m \u001b[0;32min\u001b[0m \u001b[0maxes\u001b[0m\u001b[0;34m.\u001b[0m\u001b[0mitems\u001b[0m\u001b[0;34m(\u001b[0m\u001b[0;34m)\u001b[0m\u001b[0;34m:\u001b[0m\u001b[0;34m\u001b[0m\u001b[0;34m\u001b[0m\u001b[0m\n\u001b[1;32m   4151\u001b[0m             \u001b[0;32mif\u001b[0m \u001b[0mlabels\u001b[0m \u001b[0;32mis\u001b[0m \u001b[0;32mnot\u001b[0m \u001b[0;32mNone\u001b[0m\u001b[0;34m:\u001b[0m\u001b[0;34m\u001b[0m\u001b[0;34m\u001b[0m\u001b[0m\n\u001b[0;32m-> 4152\u001b[0;31m                 \u001b[0mobj\u001b[0m \u001b[0;34m=\u001b[0m \u001b[0mobj\u001b[0m\u001b[0;34m.\u001b[0m\u001b[0m_drop_axis\u001b[0m\u001b[0;34m(\u001b[0m\u001b[0mlabels\u001b[0m\u001b[0;34m,\u001b[0m \u001b[0maxis\u001b[0m\u001b[0;34m,\u001b[0m \u001b[0mlevel\u001b[0m\u001b[0;34m=\u001b[0m\u001b[0mlevel\u001b[0m\u001b[0;34m,\u001b[0m \u001b[0merrors\u001b[0m\u001b[0;34m=\u001b[0m\u001b[0merrors\u001b[0m\u001b[0;34m)\u001b[0m\u001b[0;34m\u001b[0m\u001b[0;34m\u001b[0m\u001b[0m\n\u001b[0m\u001b[1;32m   4153\u001b[0m \u001b[0;34m\u001b[0m\u001b[0m\n\u001b[1;32m   4154\u001b[0m         \u001b[0;32mif\u001b[0m \u001b[0minplace\u001b[0m\u001b[0;34m:\u001b[0m\u001b[0;34m\u001b[0m\u001b[0;34m\u001b[0m\u001b[0m\n",
            "\u001b[0;32m/opt/conda/lib/python3.8/site-packages/pandas/core/generic.py\u001b[0m in \u001b[0;36m_drop_axis\u001b[0;34m(self, labels, axis, level, errors)\u001b[0m\n\u001b[1;32m   4185\u001b[0m                 \u001b[0mnew_axis\u001b[0m \u001b[0;34m=\u001b[0m \u001b[0maxis\u001b[0m\u001b[0;34m.\u001b[0m\u001b[0mdrop\u001b[0m\u001b[0;34m(\u001b[0m\u001b[0mlabels\u001b[0m\u001b[0;34m,\u001b[0m \u001b[0mlevel\u001b[0m\u001b[0;34m=\u001b[0m\u001b[0mlevel\u001b[0m\u001b[0;34m,\u001b[0m \u001b[0merrors\u001b[0m\u001b[0;34m=\u001b[0m\u001b[0merrors\u001b[0m\u001b[0;34m)\u001b[0m\u001b[0;34m\u001b[0m\u001b[0;34m\u001b[0m\u001b[0m\n\u001b[1;32m   4186\u001b[0m             \u001b[0;32melse\u001b[0m\u001b[0;34m:\u001b[0m\u001b[0;34m\u001b[0m\u001b[0;34m\u001b[0m\u001b[0m\n\u001b[0;32m-> 4187\u001b[0;31m                 \u001b[0mnew_axis\u001b[0m \u001b[0;34m=\u001b[0m \u001b[0maxis\u001b[0m\u001b[0;34m.\u001b[0m\u001b[0mdrop\u001b[0m\u001b[0;34m(\u001b[0m\u001b[0mlabels\u001b[0m\u001b[0;34m,\u001b[0m \u001b[0merrors\u001b[0m\u001b[0;34m=\u001b[0m\u001b[0merrors\u001b[0m\u001b[0;34m)\u001b[0m\u001b[0;34m\u001b[0m\u001b[0;34m\u001b[0m\u001b[0m\n\u001b[0m\u001b[1;32m   4188\u001b[0m             \u001b[0mresult\u001b[0m \u001b[0;34m=\u001b[0m \u001b[0mself\u001b[0m\u001b[0;34m.\u001b[0m\u001b[0mreindex\u001b[0m\u001b[0;34m(\u001b[0m\u001b[0;34m**\u001b[0m\u001b[0;34m{\u001b[0m\u001b[0maxis_name\u001b[0m\u001b[0;34m:\u001b[0m \u001b[0mnew_axis\u001b[0m\u001b[0;34m}\u001b[0m\u001b[0;34m)\u001b[0m\u001b[0;34m\u001b[0m\u001b[0;34m\u001b[0m\u001b[0m\n\u001b[1;32m   4189\u001b[0m \u001b[0;34m\u001b[0m\u001b[0m\n",
            "\u001b[0;32m/opt/conda/lib/python3.8/site-packages/pandas/core/indexes/base.py\u001b[0m in \u001b[0;36mdrop\u001b[0;34m(self, labels, errors)\u001b[0m\n\u001b[1;32m   5589\u001b[0m         \u001b[0;32mif\u001b[0m \u001b[0mmask\u001b[0m\u001b[0;34m.\u001b[0m\u001b[0many\u001b[0m\u001b[0;34m(\u001b[0m\u001b[0;34m)\u001b[0m\u001b[0;34m:\u001b[0m\u001b[0;34m\u001b[0m\u001b[0;34m\u001b[0m\u001b[0m\n\u001b[1;32m   5590\u001b[0m             \u001b[0;32mif\u001b[0m \u001b[0merrors\u001b[0m \u001b[0;34m!=\u001b[0m \u001b[0;34m\"ignore\"\u001b[0m\u001b[0;34m:\u001b[0m\u001b[0;34m\u001b[0m\u001b[0;34m\u001b[0m\u001b[0m\n\u001b[0;32m-> 5591\u001b[0;31m                 \u001b[0;32mraise\u001b[0m \u001b[0mKeyError\u001b[0m\u001b[0;34m(\u001b[0m\u001b[0;34mf\"{labels[mask]} not found in axis\"\u001b[0m\u001b[0;34m)\u001b[0m\u001b[0;34m\u001b[0m\u001b[0;34m\u001b[0m\u001b[0m\n\u001b[0m\u001b[1;32m   5592\u001b[0m             \u001b[0mindexer\u001b[0m \u001b[0;34m=\u001b[0m \u001b[0mindexer\u001b[0m\u001b[0;34m[\u001b[0m\u001b[0;34m~\u001b[0m\u001b[0mmask\u001b[0m\u001b[0;34m]\u001b[0m\u001b[0;34m\u001b[0m\u001b[0;34m\u001b[0m\u001b[0m\n\u001b[1;32m   5593\u001b[0m         \u001b[0;32mreturn\u001b[0m \u001b[0mself\u001b[0m\u001b[0;34m.\u001b[0m\u001b[0mdelete\u001b[0m\u001b[0;34m(\u001b[0m\u001b[0mindexer\u001b[0m\u001b[0;34m)\u001b[0m\u001b[0;34m\u001b[0m\u001b[0;34m\u001b[0m\u001b[0m\n",
            "\u001b[0;31mKeyError\u001b[0m: \"['Indicator Name'] not found in axis\""
          ]
        }
      ]
    },
    {
      "cell_type": "code",
      "metadata": {
        "id": "Kvemw29hn19C",
        "outputId": "37c5ab90-8dbd-4fe6-d464-04258e6408fa"
      },
      "source": [
        "df_wdi[\"Country Name\"].nunique()"
      ],
      "execution_count": null,
      "outputs": [
        {
          "output_type": "execute_result",
          "data": {
            "text/plain": [
              "264"
            ]
          },
          "metadata": {
            "tags": []
          },
          "execution_count": 71
        }
      ]
    },
    {
      "cell_type": "markdown",
      "metadata": {
        "id": "6epaFfOmn19F"
      },
      "source": [
        "## Step 2 - Process Country, Region, Income Group Data "
      ]
    },
    {
      "cell_type": "markdown",
      "metadata": {
        "id": "d0Sck6kMn19I"
      },
      "source": [
        "**2.1 Read the data**"
      ]
    },
    {
      "cell_type": "code",
      "metadata": {
        "id": "jhBCWF0Kn19J",
        "outputId": "d7dfa9d9-0503-44fe-ed8b-6739291e0ffc"
      },
      "source": [
        "df_countries = pd.read_csv(\"../data_input/WDICountry.csv\")\n",
        "df_countries.head(2)"
      ],
      "execution_count": null,
      "outputs": [
        {
          "output_type": "execute_result",
          "data": {
            "text/html": [
              "<div>\n",
              "<style scoped>\n",
              "    .dataframe tbody tr th:only-of-type {\n",
              "        vertical-align: middle;\n",
              "    }\n",
              "\n",
              "    .dataframe tbody tr th {\n",
              "        vertical-align: top;\n",
              "    }\n",
              "\n",
              "    .dataframe thead th {\n",
              "        text-align: right;\n",
              "    }\n",
              "</style>\n",
              "<table border=\"1\" class=\"dataframe\">\n",
              "  <thead>\n",
              "    <tr style=\"text-align: right;\">\n",
              "      <th></th>\n",
              "      <th>Country Code</th>\n",
              "      <th>Short Name</th>\n",
              "      <th>Table Name</th>\n",
              "      <th>Long Name</th>\n",
              "      <th>2-alpha code</th>\n",
              "      <th>Currency Unit</th>\n",
              "      <th>Special Notes</th>\n",
              "      <th>Region</th>\n",
              "      <th>Income Group</th>\n",
              "      <th>WB-2 code</th>\n",
              "      <th>...</th>\n",
              "      <th>Government Accounting concept</th>\n",
              "      <th>IMF data dissemination standard</th>\n",
              "      <th>Latest population census</th>\n",
              "      <th>Latest household survey</th>\n",
              "      <th>Source of most recent Income and expenditure data</th>\n",
              "      <th>Vital registration complete</th>\n",
              "      <th>Latest agricultural census</th>\n",
              "      <th>Latest industrial data</th>\n",
              "      <th>Latest trade data</th>\n",
              "      <th>Unnamed: 30</th>\n",
              "    </tr>\n",
              "  </thead>\n",
              "  <tbody>\n",
              "    <tr>\n",
              "      <th>0</th>\n",
              "      <td>ABW</td>\n",
              "      <td>Aruba</td>\n",
              "      <td>Aruba</td>\n",
              "      <td>Aruba</td>\n",
              "      <td>AW</td>\n",
              "      <td>Aruban florin</td>\n",
              "      <td>NaN</td>\n",
              "      <td>Latin America &amp; Caribbean</td>\n",
              "      <td>High income</td>\n",
              "      <td>AW</td>\n",
              "      <td>...</td>\n",
              "      <td>NaN</td>\n",
              "      <td>Enhanced General Data Dissemination System (e-GDDS)</td>\n",
              "      <td>2010</td>\n",
              "      <td>NaN</td>\n",
              "      <td>NaN</td>\n",
              "      <td>Yes</td>\n",
              "      <td>NaN</td>\n",
              "      <td>NaN</td>\n",
              "      <td>2016.0</td>\n",
              "      <td>NaN</td>\n",
              "    </tr>\n",
              "    <tr>\n",
              "      <th>1</th>\n",
              "      <td>AFG</td>\n",
              "      <td>Afghanistan</td>\n",
              "      <td>Afghanistan</td>\n",
              "      <td>Islamic State of Afghanistan</td>\n",
              "      <td>AF</td>\n",
              "      <td>Afghan afghani</td>\n",
              "      <td>NaN</td>\n",
              "      <td>South Asia</td>\n",
              "      <td>Low income</td>\n",
              "      <td>AF</td>\n",
              "      <td>...</td>\n",
              "      <td>Consolidated central government</td>\n",
              "      <td>Enhanced General Data Dissemination System (e-GDDS)</td>\n",
              "      <td>1979</td>\n",
              "      <td>Demographic and Health Survey, 2015</td>\n",
              "      <td>Integrated household survey (IHS), 2016/17</td>\n",
              "      <td>NaN</td>\n",
              "      <td>NaN</td>\n",
              "      <td>NaN</td>\n",
              "      <td>2017.0</td>\n",
              "      <td>NaN</td>\n",
              "    </tr>\n",
              "  </tbody>\n",
              "</table>\n",
              "<p>2 rows × 31 columns</p>\n",
              "</div>"
            ],
            "text/plain": [
              "  Country Code   Short Name   Table Name                     Long Name  \\\n",
              "0          ABW        Aruba        Aruba                         Aruba   \n",
              "1          AFG  Afghanistan  Afghanistan  Islamic State of Afghanistan   \n",
              "\n",
              "  2-alpha code   Currency Unit Special Notes                     Region  \\\n",
              "0           AW   Aruban florin           NaN  Latin America & Caribbean   \n",
              "1           AF  Afghan afghani           NaN                 South Asia   \n",
              "\n",
              "  Income Group WB-2 code  ...    Government Accounting concept  \\\n",
              "0  High income        AW  ...                              NaN   \n",
              "1   Low income        AF  ...  Consolidated central government   \n",
              "\n",
              "                       IMF data dissemination standard  \\\n",
              "0  Enhanced General Data Dissemination System (e-GDDS)   \n",
              "1  Enhanced General Data Dissemination System (e-GDDS)   \n",
              "\n",
              "  Latest population census              Latest household survey  \\\n",
              "0                     2010                                  NaN   \n",
              "1                     1979  Demographic and Health Survey, 2015   \n",
              "\n",
              "  Source of most recent Income and expenditure data  \\\n",
              "0                                               NaN   \n",
              "1        Integrated household survey (IHS), 2016/17   \n",
              "\n",
              "  Vital registration complete Latest agricultural census  \\\n",
              "0                         Yes                        NaN   \n",
              "1                         NaN                        NaN   \n",
              "\n",
              "   Latest industrial data Latest trade data Unnamed: 30  \n",
              "0                     NaN            2016.0         NaN  \n",
              "1                     NaN            2017.0         NaN  \n",
              "\n",
              "[2 rows x 31 columns]"
            ]
          },
          "metadata": {
            "tags": []
          },
          "execution_count": 60
        }
      ]
    },
    {
      "cell_type": "code",
      "metadata": {
        "id": "3V86PbxRn19L",
        "outputId": "60e61309-fc32-4ebe-e1df-d9ca933c5a68"
      },
      "source": [
        "df_countries.info()"
      ],
      "execution_count": null,
      "outputs": [
        {
          "output_type": "stream",
          "text": [
            "<class 'pandas.core.frame.DataFrame'>\n",
            "RangeIndex: 263 entries, 0 to 262\n",
            "Data columns (total 31 columns):\n",
            " #   Column                                             Non-Null Count  Dtype  \n",
            "---  ------                                             --------------  -----  \n",
            " 0   Country Code                                       263 non-null    object \n",
            " 1   Short Name                                         263 non-null    object \n",
            " 2   Table Name                                         263 non-null    object \n",
            " 3   Long Name                                          263 non-null    object \n",
            " 4   2-alpha code                                       261 non-null    object \n",
            " 5   Currency Unit                                      217 non-null    object \n",
            " 6   Special Notes                                      94 non-null     object \n",
            " 7   Region                                             217 non-null    object \n",
            " 8   Income Group                                       217 non-null    object \n",
            " 9   WB-2 code                                          262 non-null    object \n",
            " 10  National accounts base year                        210 non-null    object \n",
            " 11  National accounts reference year                   70 non-null     float64\n",
            " 12  SNA price valuation                                211 non-null    object \n",
            " 13  Lending category                                   144 non-null    object \n",
            " 14  Other groups                                       59 non-null     object \n",
            " 15  System of National Accounts                        208 non-null    object \n",
            " 16  Alternative conversion factor                      47 non-null     object \n",
            " 17  PPP survey year                                    0 non-null      float64\n",
            " 18  Balance of Payments Manual in use                  200 non-null    object \n",
            " 19  External debt Reporting status                     119 non-null    object \n",
            " 20  System of trade                                    203 non-null    object \n",
            " 21  Government Accounting concept                      158 non-null    object \n",
            " 22  IMF data dissemination standard                    186 non-null    object \n",
            " 23  Latest population census                           214 non-null    object \n",
            " 24  Latest household survey                            152 non-null    object \n",
            " 25  Source of most recent Income and expenditure data  168 non-null    object \n",
            " 26  Vital registration complete                        120 non-null    object \n",
            " 27  Latest agricultural census                         128 non-null    object \n",
            " 28  Latest industrial data                             147 non-null    float64\n",
            " 29  Latest trade data                                  246 non-null    float64\n",
            " 30  Unnamed: 30                                        0 non-null      float64\n",
            "dtypes: float64(5), object(26)\n",
            "memory usage: 63.8+ KB\n"
          ],
          "name": "stdout"
        }
      ]
    },
    {
      "cell_type": "markdown",
      "metadata": {
        "id": "EONdnG31n19M"
      },
      "source": [
        "**2.2 Select the columns of interest**"
      ]
    },
    {
      "cell_type": "code",
      "metadata": {
        "id": "x4ZMcGT6n19N",
        "outputId": "ba5f688f-5a47-4886-be0f-a2e1b155e91f"
      },
      "source": [
        "df_countries = df_countries[[\"Country Code\", \"Short Name\", \"Region\", \"Income Group\"]]\n",
        "df_countries.sample(5)"
      ],
      "execution_count": null,
      "outputs": [
        {
          "output_type": "execute_result",
          "data": {
            "text/html": [
              "<div>\n",
              "<style scoped>\n",
              "    .dataframe tbody tr th:only-of-type {\n",
              "        vertical-align: middle;\n",
              "    }\n",
              "\n",
              "    .dataframe tbody tr th {\n",
              "        vertical-align: top;\n",
              "    }\n",
              "\n",
              "    .dataframe thead th {\n",
              "        text-align: right;\n",
              "    }\n",
              "</style>\n",
              "<table border=\"1\" class=\"dataframe\">\n",
              "  <thead>\n",
              "    <tr style=\"text-align: right;\">\n",
              "      <th></th>\n",
              "      <th>Country Code</th>\n",
              "      <th>Short Name</th>\n",
              "      <th>Region</th>\n",
              "      <th>Income Group</th>\n",
              "    </tr>\n",
              "  </thead>\n",
              "  <tbody>\n",
              "    <tr>\n",
              "      <th>156</th>\n",
              "      <td>MLT</td>\n",
              "      <td>Malta</td>\n",
              "      <td>Middle East &amp; North Africa</td>\n",
              "      <td>High income</td>\n",
              "    </tr>\n",
              "    <tr>\n",
              "      <th>260</th>\n",
              "      <td>ZAF</td>\n",
              "      <td>South Africa</td>\n",
              "      <td>Sub-Saharan Africa</td>\n",
              "      <td>Upper middle income</td>\n",
              "    </tr>\n",
              "    <tr>\n",
              "      <th>114</th>\n",
              "      <td>JAM</td>\n",
              "      <td>Jamaica</td>\n",
              "      <td>Latin America &amp; Caribbean</td>\n",
              "      <td>Upper middle income</td>\n",
              "    </tr>\n",
              "    <tr>\n",
              "      <th>60</th>\n",
              "      <td>EAR</td>\n",
              "      <td>Early-demographic dividend</td>\n",
              "      <td>NaN</td>\n",
              "      <td>NaN</td>\n",
              "    </tr>\n",
              "    <tr>\n",
              "      <th>69</th>\n",
              "      <td>EST</td>\n",
              "      <td>Estonia</td>\n",
              "      <td>Europe &amp; Central Asia</td>\n",
              "      <td>High income</td>\n",
              "    </tr>\n",
              "  </tbody>\n",
              "</table>\n",
              "</div>"
            ],
            "text/plain": [
              "    Country Code                  Short Name                      Region  \\\n",
              "156          MLT                       Malta  Middle East & North Africa   \n",
              "260          ZAF                South Africa          Sub-Saharan Africa   \n",
              "114          JAM                     Jamaica   Latin America & Caribbean   \n",
              "60           EAR  Early-demographic dividend                         NaN   \n",
              "69           EST                     Estonia       Europe & Central Asia   \n",
              "\n",
              "            Income Group  \n",
              "156          High income  \n",
              "260  Upper middle income  \n",
              "114  Upper middle income  \n",
              "60                   NaN  \n",
              "69           High income  "
            ]
          },
          "metadata": {
            "tags": []
          },
          "execution_count": 61
        }
      ]
    },
    {
      "cell_type": "code",
      "metadata": {
        "id": "FAx6MHYen19O",
        "outputId": "a9399571-2653-4eec-959f-ca3ee41fa509"
      },
      "source": [
        "df_countries[df_countries[\"Region\"].isna()]"
      ],
      "execution_count": null,
      "outputs": [
        {
          "output_type": "execute_result",
          "data": {
            "text/html": [
              "<div>\n",
              "<style scoped>\n",
              "    .dataframe tbody tr th:only-of-type {\n",
              "        vertical-align: middle;\n",
              "    }\n",
              "\n",
              "    .dataframe tbody tr th {\n",
              "        vertical-align: top;\n",
              "    }\n",
              "\n",
              "    .dataframe thead th {\n",
              "        text-align: right;\n",
              "    }\n",
              "</style>\n",
              "<table border=\"1\" class=\"dataframe\">\n",
              "  <thead>\n",
              "    <tr style=\"text-align: right;\">\n",
              "      <th></th>\n",
              "      <th>Country Code</th>\n",
              "      <th>Short Name</th>\n",
              "      <th>Region</th>\n",
              "      <th>Income Group</th>\n",
              "    </tr>\n",
              "  </thead>\n",
              "  <tbody>\n",
              "    <tr>\n",
              "      <th>5</th>\n",
              "      <td>ARB</td>\n",
              "      <td>Arab World</td>\n",
              "      <td>NaN</td>\n",
              "      <td>NaN</td>\n",
              "    </tr>\n",
              "    <tr>\n",
              "      <th>34</th>\n",
              "      <td>CEB</td>\n",
              "      <td>Central Europe and the Baltics</td>\n",
              "      <td>NaN</td>\n",
              "      <td>NaN</td>\n",
              "    </tr>\n",
              "    <tr>\n",
              "      <th>47</th>\n",
              "      <td>CSS</td>\n",
              "      <td>Caribbean small states</td>\n",
              "      <td>NaN</td>\n",
              "      <td>NaN</td>\n",
              "    </tr>\n",
              "    <tr>\n",
              "      <th>59</th>\n",
              "      <td>EAP</td>\n",
              "      <td>East Asia &amp; Pacific (excluding high income)</td>\n",
              "      <td>NaN</td>\n",
              "      <td>NaN</td>\n",
              "    </tr>\n",
              "    <tr>\n",
              "      <th>60</th>\n",
              "      <td>EAR</td>\n",
              "      <td>Early-demographic dividend</td>\n",
              "      <td>NaN</td>\n",
              "      <td>NaN</td>\n",
              "    </tr>\n",
              "    <tr>\n",
              "      <th>61</th>\n",
              "      <td>EAS</td>\n",
              "      <td>East Asia &amp; Pacific</td>\n",
              "      <td>NaN</td>\n",
              "      <td>NaN</td>\n",
              "    </tr>\n",
              "    <tr>\n",
              "      <th>62</th>\n",
              "      <td>ECA</td>\n",
              "      <td>Europe &amp; Central Asia (excluding high income)</td>\n",
              "      <td>NaN</td>\n",
              "      <td>NaN</td>\n",
              "    </tr>\n",
              "    <tr>\n",
              "      <th>63</th>\n",
              "      <td>ECS</td>\n",
              "      <td>Europe &amp; Central Asia</td>\n",
              "      <td>NaN</td>\n",
              "      <td>NaN</td>\n",
              "    </tr>\n",
              "    <tr>\n",
              "      <th>66</th>\n",
              "      <td>EMU</td>\n",
              "      <td>Euro area</td>\n",
              "      <td>NaN</td>\n",
              "      <td>NaN</td>\n",
              "    </tr>\n",
              "    <tr>\n",
              "      <th>71</th>\n",
              "      <td>EUU</td>\n",
              "      <td>European Union</td>\n",
              "      <td>NaN</td>\n",
              "      <td>NaN</td>\n",
              "    </tr>\n",
              "    <tr>\n",
              "      <th>72</th>\n",
              "      <td>FCS</td>\n",
              "      <td>Fragile and conflict affected situations</td>\n",
              "      <td>NaN</td>\n",
              "      <td>NaN</td>\n",
              "    </tr>\n",
              "    <tr>\n",
              "      <th>93</th>\n",
              "      <td>HIC</td>\n",
              "      <td>High income</td>\n",
              "      <td>NaN</td>\n",
              "      <td>NaN</td>\n",
              "    </tr>\n",
              "    <tr>\n",
              "      <th>96</th>\n",
              "      <td>HPC</td>\n",
              "      <td>Heavily indebted poor countries (HIPC)</td>\n",
              "      <td>NaN</td>\n",
              "      <td>NaN</td>\n",
              "    </tr>\n",
              "    <tr>\n",
              "      <th>100</th>\n",
              "      <td>IBD</td>\n",
              "      <td>IBRD only</td>\n",
              "      <td>NaN</td>\n",
              "      <td>NaN</td>\n",
              "    </tr>\n",
              "    <tr>\n",
              "      <th>101</th>\n",
              "      <td>IBT</td>\n",
              "      <td>IDA &amp; IBRD total</td>\n",
              "      <td>NaN</td>\n",
              "      <td>NaN</td>\n",
              "    </tr>\n",
              "    <tr>\n",
              "      <th>102</th>\n",
              "      <td>IDA</td>\n",
              "      <td>IDA total</td>\n",
              "      <td>NaN</td>\n",
              "      <td>NaN</td>\n",
              "    </tr>\n",
              "    <tr>\n",
              "      <th>103</th>\n",
              "      <td>IDB</td>\n",
              "      <td>IDA blend</td>\n",
              "      <td>NaN</td>\n",
              "      <td>NaN</td>\n",
              "    </tr>\n",
              "    <tr>\n",
              "      <th>105</th>\n",
              "      <td>IDX</td>\n",
              "      <td>IDA only</td>\n",
              "      <td>NaN</td>\n",
              "      <td>NaN</td>\n",
              "    </tr>\n",
              "    <tr>\n",
              "      <th>125</th>\n",
              "      <td>LAC</td>\n",
              "      <td>Latin America &amp; Caribbean (excluding high income)</td>\n",
              "      <td>NaN</td>\n",
              "      <td>NaN</td>\n",
              "    </tr>\n",
              "    <tr>\n",
              "      <th>131</th>\n",
              "      <td>LCN</td>\n",
              "      <td>Latin America &amp; Caribbean</td>\n",
              "      <td>NaN</td>\n",
              "      <td>NaN</td>\n",
              "    </tr>\n",
              "    <tr>\n",
              "      <th>132</th>\n",
              "      <td>LDC</td>\n",
              "      <td>Least developed countries: UN classification</td>\n",
              "      <td>NaN</td>\n",
              "      <td>NaN</td>\n",
              "    </tr>\n",
              "    <tr>\n",
              "      <th>133</th>\n",
              "      <td>LIC</td>\n",
              "      <td>Low income</td>\n",
              "      <td>NaN</td>\n",
              "      <td>NaN</td>\n",
              "    </tr>\n",
              "    <tr>\n",
              "      <th>136</th>\n",
              "      <td>LMC</td>\n",
              "      <td>Lower middle income</td>\n",
              "      <td>NaN</td>\n",
              "      <td>NaN</td>\n",
              "    </tr>\n",
              "    <tr>\n",
              "      <th>137</th>\n",
              "      <td>LMY</td>\n",
              "      <td>Low &amp; middle income</td>\n",
              "      <td>NaN</td>\n",
              "      <td>NaN</td>\n",
              "    </tr>\n",
              "    <tr>\n",
              "      <th>139</th>\n",
              "      <td>LTE</td>\n",
              "      <td>Late-demographic dividend</td>\n",
              "      <td>NaN</td>\n",
              "      <td>NaN</td>\n",
              "    </tr>\n",
              "    <tr>\n",
              "      <th>150</th>\n",
              "      <td>MEA</td>\n",
              "      <td>Middle East &amp; North Africa</td>\n",
              "      <td>NaN</td>\n",
              "      <td>NaN</td>\n",
              "    </tr>\n",
              "    <tr>\n",
              "      <th>153</th>\n",
              "      <td>MIC</td>\n",
              "      <td>Middle income</td>\n",
              "      <td>NaN</td>\n",
              "      <td>NaN</td>\n",
              "    </tr>\n",
              "    <tr>\n",
              "      <th>158</th>\n",
              "      <td>MNA</td>\n",
              "      <td>Middle East &amp; North Africa (excluding high income)</td>\n",
              "      <td>NaN</td>\n",
              "      <td>NaN</td>\n",
              "    </tr>\n",
              "    <tr>\n",
              "      <th>167</th>\n",
              "      <td>NAC</td>\n",
              "      <td>North America</td>\n",
              "      <td>NaN</td>\n",
              "      <td>NaN</td>\n",
              "    </tr>\n",
              "    <tr>\n",
              "      <th>178</th>\n",
              "      <td>OED</td>\n",
              "      <td>OECD members</td>\n",
              "      <td>NaN</td>\n",
              "      <td>NaN</td>\n",
              "    </tr>\n",
              "    <tr>\n",
              "      <th>180</th>\n",
              "      <td>OSS</td>\n",
              "      <td>Other small states</td>\n",
              "      <td>NaN</td>\n",
              "      <td>NaN</td>\n",
              "    </tr>\n",
              "    <tr>\n",
              "      <th>188</th>\n",
              "      <td>PRE</td>\n",
              "      <td>Pre-demographic dividend</td>\n",
              "      <td>NaN</td>\n",
              "      <td>NaN</td>\n",
              "    </tr>\n",
              "    <tr>\n",
              "      <th>194</th>\n",
              "      <td>PSS</td>\n",
              "      <td>Pacific island small states</td>\n",
              "      <td>NaN</td>\n",
              "      <td>NaN</td>\n",
              "    </tr>\n",
              "    <tr>\n",
              "      <th>195</th>\n",
              "      <td>PST</td>\n",
              "      <td>Post-demographic dividend</td>\n",
              "      <td>NaN</td>\n",
              "      <td>NaN</td>\n",
              "    </tr>\n",
              "    <tr>\n",
              "      <th>201</th>\n",
              "      <td>SAS</td>\n",
              "      <td>South Asia</td>\n",
              "      <td>NaN</td>\n",
              "      <td>NaN</td>\n",
              "    </tr>\n",
              "    <tr>\n",
              "      <th>212</th>\n",
              "      <td>SSA</td>\n",
              "      <td>Sub-Saharan Africa (excluding high income)</td>\n",
              "      <td>NaN</td>\n",
              "      <td>NaN</td>\n",
              "    </tr>\n",
              "    <tr>\n",
              "      <th>214</th>\n",
              "      <td>SSF</td>\n",
              "      <td>Sub-Saharan Africa</td>\n",
              "      <td>NaN</td>\n",
              "      <td>NaN</td>\n",
              "    </tr>\n",
              "    <tr>\n",
              "      <th>215</th>\n",
              "      <td>SST</td>\n",
              "      <td>Small states</td>\n",
              "      <td>NaN</td>\n",
              "      <td>NaN</td>\n",
              "    </tr>\n",
              "    <tr>\n",
              "      <th>227</th>\n",
              "      <td>TEA</td>\n",
              "      <td>East Asia &amp; Pacific (IDA &amp; IBRD)</td>\n",
              "      <td>NaN</td>\n",
              "      <td>NaN</td>\n",
              "    </tr>\n",
              "    <tr>\n",
              "      <th>228</th>\n",
              "      <td>TEC</td>\n",
              "      <td>Europe &amp; Central Asia (IDA &amp; IBRD)</td>\n",
              "      <td>NaN</td>\n",
              "      <td>NaN</td>\n",
              "    </tr>\n",
              "    <tr>\n",
              "      <th>233</th>\n",
              "      <td>TLA</td>\n",
              "      <td>Latin America &amp; Caribbean (IDA &amp; IBRD)</td>\n",
              "      <td>NaN</td>\n",
              "      <td>NaN</td>\n",
              "    </tr>\n",
              "    <tr>\n",
              "      <th>235</th>\n",
              "      <td>TMN</td>\n",
              "      <td>Middle East &amp; North Africa (IDA &amp; IBRD)</td>\n",
              "      <td>NaN</td>\n",
              "      <td>NaN</td>\n",
              "    </tr>\n",
              "    <tr>\n",
              "      <th>237</th>\n",
              "      <td>TSA</td>\n",
              "      <td>South Asia (IDA &amp; IBRD)</td>\n",
              "      <td>NaN</td>\n",
              "      <td>NaN</td>\n",
              "    </tr>\n",
              "    <tr>\n",
              "      <th>238</th>\n",
              "      <td>TSS</td>\n",
              "      <td>Sub-Saharan Africa (IDA &amp; IBRD)</td>\n",
              "      <td>NaN</td>\n",
              "      <td>NaN</td>\n",
              "    </tr>\n",
              "    <tr>\n",
              "      <th>246</th>\n",
              "      <td>UMC</td>\n",
              "      <td>Upper middle income</td>\n",
              "      <td>NaN</td>\n",
              "      <td>NaN</td>\n",
              "    </tr>\n",
              "    <tr>\n",
              "      <th>256</th>\n",
              "      <td>WLD</td>\n",
              "      <td>World</td>\n",
              "      <td>NaN</td>\n",
              "      <td>NaN</td>\n",
              "    </tr>\n",
              "  </tbody>\n",
              "</table>\n",
              "</div>"
            ],
            "text/plain": [
              "    Country Code                                          Short Name Region  \\\n",
              "5            ARB                                          Arab World    NaN   \n",
              "34           CEB                      Central Europe and the Baltics    NaN   \n",
              "47           CSS                              Caribbean small states    NaN   \n",
              "59           EAP         East Asia & Pacific (excluding high income)    NaN   \n",
              "60           EAR                          Early-demographic dividend    NaN   \n",
              "61           EAS                                 East Asia & Pacific    NaN   \n",
              "62           ECA       Europe & Central Asia (excluding high income)    NaN   \n",
              "63           ECS                               Europe & Central Asia    NaN   \n",
              "66           EMU                                           Euro area    NaN   \n",
              "71           EUU                                      European Union    NaN   \n",
              "72           FCS            Fragile and conflict affected situations    NaN   \n",
              "93           HIC                                         High income    NaN   \n",
              "96           HPC              Heavily indebted poor countries (HIPC)    NaN   \n",
              "100          IBD                                           IBRD only    NaN   \n",
              "101          IBT                                    IDA & IBRD total    NaN   \n",
              "102          IDA                                           IDA total    NaN   \n",
              "103          IDB                                           IDA blend    NaN   \n",
              "105          IDX                                            IDA only    NaN   \n",
              "125          LAC   Latin America & Caribbean (excluding high income)    NaN   \n",
              "131          LCN                           Latin America & Caribbean    NaN   \n",
              "132          LDC        Least developed countries: UN classification    NaN   \n",
              "133          LIC                                          Low income    NaN   \n",
              "136          LMC                                 Lower middle income    NaN   \n",
              "137          LMY                                 Low & middle income    NaN   \n",
              "139          LTE                           Late-demographic dividend    NaN   \n",
              "150          MEA                          Middle East & North Africa    NaN   \n",
              "153          MIC                                       Middle income    NaN   \n",
              "158          MNA  Middle East & North Africa (excluding high income)    NaN   \n",
              "167          NAC                                       North America    NaN   \n",
              "178          OED                                        OECD members    NaN   \n",
              "180          OSS                                  Other small states    NaN   \n",
              "188          PRE                            Pre-demographic dividend    NaN   \n",
              "194          PSS                         Pacific island small states    NaN   \n",
              "195          PST                           Post-demographic dividend    NaN   \n",
              "201          SAS                                          South Asia    NaN   \n",
              "212          SSA          Sub-Saharan Africa (excluding high income)    NaN   \n",
              "214          SSF                                  Sub-Saharan Africa    NaN   \n",
              "215          SST                                        Small states    NaN   \n",
              "227          TEA                    East Asia & Pacific (IDA & IBRD)    NaN   \n",
              "228          TEC                  Europe & Central Asia (IDA & IBRD)    NaN   \n",
              "233          TLA              Latin America & Caribbean (IDA & IBRD)    NaN   \n",
              "235          TMN             Middle East & North Africa (IDA & IBRD)    NaN   \n",
              "237          TSA                             South Asia (IDA & IBRD)    NaN   \n",
              "238          TSS                     Sub-Saharan Africa (IDA & IBRD)    NaN   \n",
              "246          UMC                                 Upper middle income    NaN   \n",
              "256          WLD                                               World    NaN   \n",
              "\n",
              "    Income Group  \n",
              "5            NaN  \n",
              "34           NaN  \n",
              "47           NaN  \n",
              "59           NaN  \n",
              "60           NaN  \n",
              "61           NaN  \n",
              "62           NaN  \n",
              "63           NaN  \n",
              "66           NaN  \n",
              "71           NaN  \n",
              "72           NaN  \n",
              "93           NaN  \n",
              "96           NaN  \n",
              "100          NaN  \n",
              "101          NaN  \n",
              "102          NaN  \n",
              "103          NaN  \n",
              "105          NaN  \n",
              "125          NaN  \n",
              "131          NaN  \n",
              "132          NaN  \n",
              "133          NaN  \n",
              "136          NaN  \n",
              "137          NaN  \n",
              "139          NaN  \n",
              "150          NaN  \n",
              "153          NaN  \n",
              "158          NaN  \n",
              "167          NaN  \n",
              "178          NaN  \n",
              "180          NaN  \n",
              "188          NaN  \n",
              "194          NaN  \n",
              "195          NaN  \n",
              "201          NaN  \n",
              "212          NaN  \n",
              "214          NaN  \n",
              "215          NaN  \n",
              "227          NaN  \n",
              "228          NaN  \n",
              "233          NaN  \n",
              "235          NaN  \n",
              "237          NaN  \n",
              "238          NaN  \n",
              "246          NaN  \n",
              "256          NaN  "
            ]
          },
          "metadata": {
            "tags": []
          },
          "execution_count": 62
        }
      ]
    },
    {
      "cell_type": "code",
      "metadata": {
        "id": "vrKDVUW0n19P",
        "outputId": "60dbb1f7-fab0-44c8-9258-83c63eef4c9d"
      },
      "source": [
        "df_countries[df_countries[\"Region\"].isna()].shape"
      ],
      "execution_count": null,
      "outputs": [
        {
          "output_type": "execute_result",
          "data": {
            "text/plain": [
              "(46, 4)"
            ]
          },
          "metadata": {
            "tags": []
          },
          "execution_count": 65
        }
      ]
    },
    {
      "cell_type": "code",
      "metadata": {
        "id": "QKVZmcK9n19S",
        "outputId": "1c940295-c416-4927-9f77-63777c5bc988"
      },
      "source": [
        "df_countries[df_countries.isna().any(axis=1)].shape"
      ],
      "execution_count": null,
      "outputs": [
        {
          "output_type": "execute_result",
          "data": {
            "text/html": [
              "<div>\n",
              "<style scoped>\n",
              "    .dataframe tbody tr th:only-of-type {\n",
              "        vertical-align: middle;\n",
              "    }\n",
              "\n",
              "    .dataframe tbody tr th {\n",
              "        vertical-align: top;\n",
              "    }\n",
              "\n",
              "    .dataframe thead th {\n",
              "        text-align: right;\n",
              "    }\n",
              "</style>\n",
              "<table border=\"1\" class=\"dataframe\">\n",
              "  <thead>\n",
              "    <tr style=\"text-align: right;\">\n",
              "      <th></th>\n",
              "      <th>Country Code</th>\n",
              "      <th>Short Name</th>\n",
              "      <th>Region</th>\n",
              "      <th>Income Group</th>\n",
              "    </tr>\n",
              "  </thead>\n",
              "  <tbody>\n",
              "    <tr>\n",
              "      <th>5</th>\n",
              "      <td>ARB</td>\n",
              "      <td>Arab World</td>\n",
              "      <td>NaN</td>\n",
              "      <td>NaN</td>\n",
              "    </tr>\n",
              "    <tr>\n",
              "      <th>34</th>\n",
              "      <td>CEB</td>\n",
              "      <td>Central Europe and the Baltics</td>\n",
              "      <td>NaN</td>\n",
              "      <td>NaN</td>\n",
              "    </tr>\n",
              "    <tr>\n",
              "      <th>47</th>\n",
              "      <td>CSS</td>\n",
              "      <td>Caribbean small states</td>\n",
              "      <td>NaN</td>\n",
              "      <td>NaN</td>\n",
              "    </tr>\n",
              "    <tr>\n",
              "      <th>59</th>\n",
              "      <td>EAP</td>\n",
              "      <td>East Asia &amp; Pacific (excluding high income)</td>\n",
              "      <td>NaN</td>\n",
              "      <td>NaN</td>\n",
              "    </tr>\n",
              "    <tr>\n",
              "      <th>60</th>\n",
              "      <td>EAR</td>\n",
              "      <td>Early-demographic dividend</td>\n",
              "      <td>NaN</td>\n",
              "      <td>NaN</td>\n",
              "    </tr>\n",
              "    <tr>\n",
              "      <th>61</th>\n",
              "      <td>EAS</td>\n",
              "      <td>East Asia &amp; Pacific</td>\n",
              "      <td>NaN</td>\n",
              "      <td>NaN</td>\n",
              "    </tr>\n",
              "    <tr>\n",
              "      <th>62</th>\n",
              "      <td>ECA</td>\n",
              "      <td>Europe &amp; Central Asia (excluding high income)</td>\n",
              "      <td>NaN</td>\n",
              "      <td>NaN</td>\n",
              "    </tr>\n",
              "    <tr>\n",
              "      <th>63</th>\n",
              "      <td>ECS</td>\n",
              "      <td>Europe &amp; Central Asia</td>\n",
              "      <td>NaN</td>\n",
              "      <td>NaN</td>\n",
              "    </tr>\n",
              "    <tr>\n",
              "      <th>66</th>\n",
              "      <td>EMU</td>\n",
              "      <td>Euro area</td>\n",
              "      <td>NaN</td>\n",
              "      <td>NaN</td>\n",
              "    </tr>\n",
              "    <tr>\n",
              "      <th>71</th>\n",
              "      <td>EUU</td>\n",
              "      <td>European Union</td>\n",
              "      <td>NaN</td>\n",
              "      <td>NaN</td>\n",
              "    </tr>\n",
              "    <tr>\n",
              "      <th>72</th>\n",
              "      <td>FCS</td>\n",
              "      <td>Fragile and conflict affected situations</td>\n",
              "      <td>NaN</td>\n",
              "      <td>NaN</td>\n",
              "    </tr>\n",
              "    <tr>\n",
              "      <th>93</th>\n",
              "      <td>HIC</td>\n",
              "      <td>High income</td>\n",
              "      <td>NaN</td>\n",
              "      <td>NaN</td>\n",
              "    </tr>\n",
              "    <tr>\n",
              "      <th>96</th>\n",
              "      <td>HPC</td>\n",
              "      <td>Heavily indebted poor countries (HIPC)</td>\n",
              "      <td>NaN</td>\n",
              "      <td>NaN</td>\n",
              "    </tr>\n",
              "    <tr>\n",
              "      <th>100</th>\n",
              "      <td>IBD</td>\n",
              "      <td>IBRD only</td>\n",
              "      <td>NaN</td>\n",
              "      <td>NaN</td>\n",
              "    </tr>\n",
              "    <tr>\n",
              "      <th>101</th>\n",
              "      <td>IBT</td>\n",
              "      <td>IDA &amp; IBRD total</td>\n",
              "      <td>NaN</td>\n",
              "      <td>NaN</td>\n",
              "    </tr>\n",
              "    <tr>\n",
              "      <th>102</th>\n",
              "      <td>IDA</td>\n",
              "      <td>IDA total</td>\n",
              "      <td>NaN</td>\n",
              "      <td>NaN</td>\n",
              "    </tr>\n",
              "    <tr>\n",
              "      <th>103</th>\n",
              "      <td>IDB</td>\n",
              "      <td>IDA blend</td>\n",
              "      <td>NaN</td>\n",
              "      <td>NaN</td>\n",
              "    </tr>\n",
              "    <tr>\n",
              "      <th>105</th>\n",
              "      <td>IDX</td>\n",
              "      <td>IDA only</td>\n",
              "      <td>NaN</td>\n",
              "      <td>NaN</td>\n",
              "    </tr>\n",
              "    <tr>\n",
              "      <th>125</th>\n",
              "      <td>LAC</td>\n",
              "      <td>Latin America &amp; Caribbean (excluding high income)</td>\n",
              "      <td>NaN</td>\n",
              "      <td>NaN</td>\n",
              "    </tr>\n",
              "    <tr>\n",
              "      <th>131</th>\n",
              "      <td>LCN</td>\n",
              "      <td>Latin America &amp; Caribbean</td>\n",
              "      <td>NaN</td>\n",
              "      <td>NaN</td>\n",
              "    </tr>\n",
              "    <tr>\n",
              "      <th>132</th>\n",
              "      <td>LDC</td>\n",
              "      <td>Least developed countries: UN classification</td>\n",
              "      <td>NaN</td>\n",
              "      <td>NaN</td>\n",
              "    </tr>\n",
              "    <tr>\n",
              "      <th>133</th>\n",
              "      <td>LIC</td>\n",
              "      <td>Low income</td>\n",
              "      <td>NaN</td>\n",
              "      <td>NaN</td>\n",
              "    </tr>\n",
              "    <tr>\n",
              "      <th>136</th>\n",
              "      <td>LMC</td>\n",
              "      <td>Lower middle income</td>\n",
              "      <td>NaN</td>\n",
              "      <td>NaN</td>\n",
              "    </tr>\n",
              "    <tr>\n",
              "      <th>137</th>\n",
              "      <td>LMY</td>\n",
              "      <td>Low &amp; middle income</td>\n",
              "      <td>NaN</td>\n",
              "      <td>NaN</td>\n",
              "    </tr>\n",
              "    <tr>\n",
              "      <th>139</th>\n",
              "      <td>LTE</td>\n",
              "      <td>Late-demographic dividend</td>\n",
              "      <td>NaN</td>\n",
              "      <td>NaN</td>\n",
              "    </tr>\n",
              "    <tr>\n",
              "      <th>150</th>\n",
              "      <td>MEA</td>\n",
              "      <td>Middle East &amp; North Africa</td>\n",
              "      <td>NaN</td>\n",
              "      <td>NaN</td>\n",
              "    </tr>\n",
              "    <tr>\n",
              "      <th>153</th>\n",
              "      <td>MIC</td>\n",
              "      <td>Middle income</td>\n",
              "      <td>NaN</td>\n",
              "      <td>NaN</td>\n",
              "    </tr>\n",
              "    <tr>\n",
              "      <th>158</th>\n",
              "      <td>MNA</td>\n",
              "      <td>Middle East &amp; North Africa (excluding high income)</td>\n",
              "      <td>NaN</td>\n",
              "      <td>NaN</td>\n",
              "    </tr>\n",
              "    <tr>\n",
              "      <th>167</th>\n",
              "      <td>NAC</td>\n",
              "      <td>North America</td>\n",
              "      <td>NaN</td>\n",
              "      <td>NaN</td>\n",
              "    </tr>\n",
              "    <tr>\n",
              "      <th>178</th>\n",
              "      <td>OED</td>\n",
              "      <td>OECD members</td>\n",
              "      <td>NaN</td>\n",
              "      <td>NaN</td>\n",
              "    </tr>\n",
              "    <tr>\n",
              "      <th>180</th>\n",
              "      <td>OSS</td>\n",
              "      <td>Other small states</td>\n",
              "      <td>NaN</td>\n",
              "      <td>NaN</td>\n",
              "    </tr>\n",
              "    <tr>\n",
              "      <th>188</th>\n",
              "      <td>PRE</td>\n",
              "      <td>Pre-demographic dividend</td>\n",
              "      <td>NaN</td>\n",
              "      <td>NaN</td>\n",
              "    </tr>\n",
              "    <tr>\n",
              "      <th>194</th>\n",
              "      <td>PSS</td>\n",
              "      <td>Pacific island small states</td>\n",
              "      <td>NaN</td>\n",
              "      <td>NaN</td>\n",
              "    </tr>\n",
              "    <tr>\n",
              "      <th>195</th>\n",
              "      <td>PST</td>\n",
              "      <td>Post-demographic dividend</td>\n",
              "      <td>NaN</td>\n",
              "      <td>NaN</td>\n",
              "    </tr>\n",
              "    <tr>\n",
              "      <th>201</th>\n",
              "      <td>SAS</td>\n",
              "      <td>South Asia</td>\n",
              "      <td>NaN</td>\n",
              "      <td>NaN</td>\n",
              "    </tr>\n",
              "    <tr>\n",
              "      <th>212</th>\n",
              "      <td>SSA</td>\n",
              "      <td>Sub-Saharan Africa (excluding high income)</td>\n",
              "      <td>NaN</td>\n",
              "      <td>NaN</td>\n",
              "    </tr>\n",
              "    <tr>\n",
              "      <th>214</th>\n",
              "      <td>SSF</td>\n",
              "      <td>Sub-Saharan Africa</td>\n",
              "      <td>NaN</td>\n",
              "      <td>NaN</td>\n",
              "    </tr>\n",
              "    <tr>\n",
              "      <th>215</th>\n",
              "      <td>SST</td>\n",
              "      <td>Small states</td>\n",
              "      <td>NaN</td>\n",
              "      <td>NaN</td>\n",
              "    </tr>\n",
              "    <tr>\n",
              "      <th>227</th>\n",
              "      <td>TEA</td>\n",
              "      <td>East Asia &amp; Pacific (IDA &amp; IBRD)</td>\n",
              "      <td>NaN</td>\n",
              "      <td>NaN</td>\n",
              "    </tr>\n",
              "    <tr>\n",
              "      <th>228</th>\n",
              "      <td>TEC</td>\n",
              "      <td>Europe &amp; Central Asia (IDA &amp; IBRD)</td>\n",
              "      <td>NaN</td>\n",
              "      <td>NaN</td>\n",
              "    </tr>\n",
              "    <tr>\n",
              "      <th>233</th>\n",
              "      <td>TLA</td>\n",
              "      <td>Latin America &amp; Caribbean (IDA &amp; IBRD)</td>\n",
              "      <td>NaN</td>\n",
              "      <td>NaN</td>\n",
              "    </tr>\n",
              "    <tr>\n",
              "      <th>235</th>\n",
              "      <td>TMN</td>\n",
              "      <td>Middle East &amp; North Africa (IDA &amp; IBRD)</td>\n",
              "      <td>NaN</td>\n",
              "      <td>NaN</td>\n",
              "    </tr>\n",
              "    <tr>\n",
              "      <th>237</th>\n",
              "      <td>TSA</td>\n",
              "      <td>South Asia (IDA &amp; IBRD)</td>\n",
              "      <td>NaN</td>\n",
              "      <td>NaN</td>\n",
              "    </tr>\n",
              "    <tr>\n",
              "      <th>238</th>\n",
              "      <td>TSS</td>\n",
              "      <td>Sub-Saharan Africa (IDA &amp; IBRD)</td>\n",
              "      <td>NaN</td>\n",
              "      <td>NaN</td>\n",
              "    </tr>\n",
              "    <tr>\n",
              "      <th>246</th>\n",
              "      <td>UMC</td>\n",
              "      <td>Upper middle income</td>\n",
              "      <td>NaN</td>\n",
              "      <td>NaN</td>\n",
              "    </tr>\n",
              "    <tr>\n",
              "      <th>256</th>\n",
              "      <td>WLD</td>\n",
              "      <td>World</td>\n",
              "      <td>NaN</td>\n",
              "      <td>NaN</td>\n",
              "    </tr>\n",
              "  </tbody>\n",
              "</table>\n",
              "</div>"
            ],
            "text/plain": [
              "    Country Code                                          Short Name Region  \\\n",
              "5            ARB                                          Arab World    NaN   \n",
              "34           CEB                      Central Europe and the Baltics    NaN   \n",
              "47           CSS                              Caribbean small states    NaN   \n",
              "59           EAP         East Asia & Pacific (excluding high income)    NaN   \n",
              "60           EAR                          Early-demographic dividend    NaN   \n",
              "61           EAS                                 East Asia & Pacific    NaN   \n",
              "62           ECA       Europe & Central Asia (excluding high income)    NaN   \n",
              "63           ECS                               Europe & Central Asia    NaN   \n",
              "66           EMU                                           Euro area    NaN   \n",
              "71           EUU                                      European Union    NaN   \n",
              "72           FCS            Fragile and conflict affected situations    NaN   \n",
              "93           HIC                                         High income    NaN   \n",
              "96           HPC              Heavily indebted poor countries (HIPC)    NaN   \n",
              "100          IBD                                           IBRD only    NaN   \n",
              "101          IBT                                    IDA & IBRD total    NaN   \n",
              "102          IDA                                           IDA total    NaN   \n",
              "103          IDB                                           IDA blend    NaN   \n",
              "105          IDX                                            IDA only    NaN   \n",
              "125          LAC   Latin America & Caribbean (excluding high income)    NaN   \n",
              "131          LCN                           Latin America & Caribbean    NaN   \n",
              "132          LDC        Least developed countries: UN classification    NaN   \n",
              "133          LIC                                          Low income    NaN   \n",
              "136          LMC                                 Lower middle income    NaN   \n",
              "137          LMY                                 Low & middle income    NaN   \n",
              "139          LTE                           Late-demographic dividend    NaN   \n",
              "150          MEA                          Middle East & North Africa    NaN   \n",
              "153          MIC                                       Middle income    NaN   \n",
              "158          MNA  Middle East & North Africa (excluding high income)    NaN   \n",
              "167          NAC                                       North America    NaN   \n",
              "178          OED                                        OECD members    NaN   \n",
              "180          OSS                                  Other small states    NaN   \n",
              "188          PRE                            Pre-demographic dividend    NaN   \n",
              "194          PSS                         Pacific island small states    NaN   \n",
              "195          PST                           Post-demographic dividend    NaN   \n",
              "201          SAS                                          South Asia    NaN   \n",
              "212          SSA          Sub-Saharan Africa (excluding high income)    NaN   \n",
              "214          SSF                                  Sub-Saharan Africa    NaN   \n",
              "215          SST                                        Small states    NaN   \n",
              "227          TEA                    East Asia & Pacific (IDA & IBRD)    NaN   \n",
              "228          TEC                  Europe & Central Asia (IDA & IBRD)    NaN   \n",
              "233          TLA              Latin America & Caribbean (IDA & IBRD)    NaN   \n",
              "235          TMN             Middle East & North Africa (IDA & IBRD)    NaN   \n",
              "237          TSA                             South Asia (IDA & IBRD)    NaN   \n",
              "238          TSS                     Sub-Saharan Africa (IDA & IBRD)    NaN   \n",
              "246          UMC                                 Upper middle income    NaN   \n",
              "256          WLD                                               World    NaN   \n",
              "\n",
              "    Income Group  \n",
              "5            NaN  \n",
              "34           NaN  \n",
              "47           NaN  \n",
              "59           NaN  \n",
              "60           NaN  \n",
              "61           NaN  \n",
              "62           NaN  \n",
              "63           NaN  \n",
              "66           NaN  \n",
              "71           NaN  \n",
              "72           NaN  \n",
              "93           NaN  \n",
              "96           NaN  \n",
              "100          NaN  \n",
              "101          NaN  \n",
              "102          NaN  \n",
              "103          NaN  \n",
              "105          NaN  \n",
              "125          NaN  \n",
              "131          NaN  \n",
              "132          NaN  \n",
              "133          NaN  \n",
              "136          NaN  \n",
              "137          NaN  \n",
              "139          NaN  \n",
              "150          NaN  \n",
              "153          NaN  \n",
              "158          NaN  \n",
              "167          NaN  \n",
              "178          NaN  \n",
              "180          NaN  \n",
              "188          NaN  \n",
              "194          NaN  \n",
              "195          NaN  \n",
              "201          NaN  \n",
              "212          NaN  \n",
              "214          NaN  \n",
              "215          NaN  \n",
              "227          NaN  \n",
              "228          NaN  \n",
              "233          NaN  \n",
              "235          NaN  \n",
              "237          NaN  \n",
              "238          NaN  \n",
              "246          NaN  \n",
              "256          NaN  "
            ]
          },
          "metadata": {
            "tags": []
          },
          "execution_count": 63
        }
      ]
    },
    {
      "cell_type": "code",
      "metadata": {
        "id": "lKq8SkwCn19V",
        "outputId": "6af3e67b-e1dd-4b11-d3b7-3f7c696aacd4"
      },
      "source": [
        "df_countries[df_countries.isna().any(axis=1)].shape"
      ],
      "execution_count": null,
      "outputs": [
        {
          "output_type": "execute_result",
          "data": {
            "text/plain": [
              "(46, 4)"
            ]
          },
          "metadata": {
            "tags": []
          },
          "execution_count": 64
        }
      ]
    },
    {
      "cell_type": "code",
      "metadata": {
        "id": "vcLr4hxVn19Y",
        "outputId": "d781a8ea-4e08-4061-b874-bbd7e7206a93"
      },
      "source": [
        "df_countries.shape"
      ],
      "execution_count": null,
      "outputs": [
        {
          "output_type": "execute_result",
          "data": {
            "text/plain": [
              "(263, 4)"
            ]
          },
          "metadata": {
            "tags": []
          },
          "execution_count": 66
        }
      ]
    },
    {
      "cell_type": "code",
      "metadata": {
        "id": "LM1MlHDhn19a",
        "outputId": "7d53536f-e7f5-4be7-dfb5-b80ef8a16cc1"
      },
      "source": [
        "df_countries.dropna(inplace=True)\n",
        "df_countries.shape"
      ],
      "execution_count": null,
      "outputs": [
        {
          "output_type": "execute_result",
          "data": {
            "text/plain": [
              "(217, 4)"
            ]
          },
          "metadata": {
            "tags": []
          },
          "execution_count": 67
        }
      ]
    },
    {
      "cell_type": "code",
      "metadata": {
        "id": "x1Ear6dCn19d",
        "outputId": "7de54f9a-592d-4fe4-fada-2778d5b5e274"
      },
      "source": [
        "df_countries.sample(5)"
      ],
      "execution_count": null,
      "outputs": [
        {
          "output_type": "execute_result",
          "data": {
            "text/html": [
              "<div>\n",
              "<style scoped>\n",
              "    .dataframe tbody tr th:only-of-type {\n",
              "        vertical-align: middle;\n",
              "    }\n",
              "\n",
              "    .dataframe tbody tr th {\n",
              "        vertical-align: top;\n",
              "    }\n",
              "\n",
              "    .dataframe thead th {\n",
              "        text-align: right;\n",
              "    }\n",
              "</style>\n",
              "<table border=\"1\" class=\"dataframe\">\n",
              "  <thead>\n",
              "    <tr style=\"text-align: right;\">\n",
              "      <th></th>\n",
              "      <th>Country Code</th>\n",
              "      <th>Short Name</th>\n",
              "      <th>Region</th>\n",
              "      <th>Income Group</th>\n",
              "    </tr>\n",
              "  </thead>\n",
              "  <tbody>\n",
              "    <tr>\n",
              "      <th>0</th>\n",
              "      <td>ABW</td>\n",
              "      <td>Aruba</td>\n",
              "      <td>Latin America &amp; Caribbean</td>\n",
              "      <td>High income</td>\n",
              "    </tr>\n",
              "    <tr>\n",
              "      <th>55</th>\n",
              "      <td>DMA</td>\n",
              "      <td>Dominica</td>\n",
              "      <td>Latin America &amp; Caribbean</td>\n",
              "      <td>Upper middle income</td>\n",
              "    </tr>\n",
              "    <tr>\n",
              "      <th>70</th>\n",
              "      <td>ETH</td>\n",
              "      <td>Ethiopia</td>\n",
              "      <td>Sub-Saharan Africa</td>\n",
              "      <td>Low income</td>\n",
              "    </tr>\n",
              "    <tr>\n",
              "      <th>232</th>\n",
              "      <td>TKM</td>\n",
              "      <td>Turkmenistan</td>\n",
              "      <td>Europe &amp; Central Asia</td>\n",
              "      <td>Upper middle income</td>\n",
              "    </tr>\n",
              "    <tr>\n",
              "      <th>1</th>\n",
              "      <td>AFG</td>\n",
              "      <td>Afghanistan</td>\n",
              "      <td>South Asia</td>\n",
              "      <td>Low income</td>\n",
              "    </tr>\n",
              "  </tbody>\n",
              "</table>\n",
              "</div>"
            ],
            "text/plain": [
              "    Country Code    Short Name                     Region         Income Group\n",
              "0            ABW         Aruba  Latin America & Caribbean          High income\n",
              "55           DMA      Dominica  Latin America & Caribbean  Upper middle income\n",
              "70           ETH      Ethiopia         Sub-Saharan Africa           Low income\n",
              "232          TKM  Turkmenistan      Europe & Central Asia  Upper middle income\n",
              "1            AFG   Afghanistan                 South Asia           Low income"
            ]
          },
          "metadata": {
            "tags": []
          },
          "execution_count": 68
        }
      ]
    },
    {
      "cell_type": "markdown",
      "metadata": {
        "id": "MG-pfgTMn19f"
      },
      "source": [
        "## Step 3. Merge the Two Data Frames"
      ]
    },
    {
      "cell_type": "code",
      "metadata": {
        "id": "G-ENpV47n19g",
        "outputId": "e781cf8c-c352-473b-b4a4-8454ae81b33d"
      },
      "source": [
        "df_merged= pd.merge(df_countries, \n",
        "                    df_wdi,\n",
        "                    on=[\"Country Code\"],\n",
        "                    how=\"right\"\n",
        ")\n",
        "\n",
        "df_merged.sample(2)"
      ],
      "execution_count": null,
      "outputs": [
        {
          "output_type": "execute_result",
          "data": {
            "text/html": [
              "<div>\n",
              "<style scoped>\n",
              "    .dataframe tbody tr th:only-of-type {\n",
              "        vertical-align: middle;\n",
              "    }\n",
              "\n",
              "    .dataframe tbody tr th {\n",
              "        vertical-align: top;\n",
              "    }\n",
              "\n",
              "    .dataframe thead th {\n",
              "        text-align: right;\n",
              "    }\n",
              "</style>\n",
              "<table border=\"1\" class=\"dataframe\">\n",
              "  <thead>\n",
              "    <tr style=\"text-align: right;\">\n",
              "      <th></th>\n",
              "      <th>Country Code</th>\n",
              "      <th>Short Name</th>\n",
              "      <th>Region</th>\n",
              "      <th>Income Group</th>\n",
              "      <th>Country Name</th>\n",
              "      <th>Indicator Code</th>\n",
              "      <th>1960</th>\n",
              "      <th>1961</th>\n",
              "      <th>1962</th>\n",
              "      <th>1963</th>\n",
              "      <th>...</th>\n",
              "      <th>2011</th>\n",
              "      <th>2012</th>\n",
              "      <th>2013</th>\n",
              "      <th>2014</th>\n",
              "      <th>2015</th>\n",
              "      <th>2016</th>\n",
              "      <th>2017</th>\n",
              "      <th>2018</th>\n",
              "      <th>2019</th>\n",
              "      <th>2020</th>\n",
              "    </tr>\n",
              "  </thead>\n",
              "  <tbody>\n",
              "    <tr>\n",
              "      <th>330310</th>\n",
              "      <td>LCA</td>\n",
              "      <td>St. Lucia</td>\n",
              "      <td>Latin America &amp; Caribbean</td>\n",
              "      <td>Upper middle income</td>\n",
              "      <td>St. Lucia</td>\n",
              "      <td>NY.GNS.ICTR.CD</td>\n",
              "      <td>NaN</td>\n",
              "      <td>NaN</td>\n",
              "      <td>NaN</td>\n",
              "      <td>NaN</td>\n",
              "      <td>...</td>\n",
              "      <td>NaN</td>\n",
              "      <td>NaN</td>\n",
              "      <td>NaN</td>\n",
              "      <td>NaN</td>\n",
              "      <td>NaN</td>\n",
              "      <td>NaN</td>\n",
              "      <td>NaN</td>\n",
              "      <td>NaN</td>\n",
              "      <td>NaN</td>\n",
              "      <td>NaN</td>\n",
              "    </tr>\n",
              "    <tr>\n",
              "      <th>211132</th>\n",
              "      <td>JOR</td>\n",
              "      <td>Jordan</td>\n",
              "      <td>Middle East &amp; North Africa</td>\n",
              "      <td>Upper middle income</td>\n",
              "      <td>Jordan</td>\n",
              "      <td>DT.NFL.UNAI.CD</td>\n",
              "      <td>NaN</td>\n",
              "      <td>NaN</td>\n",
              "      <td>NaN</td>\n",
              "      <td>NaN</td>\n",
              "      <td>...</td>\n",
              "      <td>NaN</td>\n",
              "      <td>NaN</td>\n",
              "      <td>NaN</td>\n",
              "      <td>NaN</td>\n",
              "      <td>NaN</td>\n",
              "      <td>NaN</td>\n",
              "      <td>NaN</td>\n",
              "      <td>NaN</td>\n",
              "      <td>NaN</td>\n",
              "      <td>NaN</td>\n",
              "    </tr>\n",
              "  </tbody>\n",
              "</table>\n",
              "<p>2 rows × 67 columns</p>\n",
              "</div>"
            ],
            "text/plain": [
              "       Country Code Short Name                      Region  \\\n",
              "330310          LCA  St. Lucia   Latin America & Caribbean   \n",
              "211132          JOR     Jordan  Middle East & North Africa   \n",
              "\n",
              "               Income Group Country Name  Indicator Code  1960  1961  1962  \\\n",
              "330310  Upper middle income    St. Lucia  NY.GNS.ICTR.CD   NaN   NaN   NaN   \n",
              "211132  Upper middle income       Jordan  DT.NFL.UNAI.CD   NaN   NaN   NaN   \n",
              "\n",
              "        1963  ...  2011  2012  2013  2014  2015  2016  2017  2018  2019  2020  \n",
              "330310   NaN  ...   NaN   NaN   NaN   NaN   NaN   NaN   NaN   NaN   NaN   NaN  \n",
              "211132   NaN  ...   NaN   NaN   NaN   NaN   NaN   NaN   NaN   NaN   NaN   NaN  \n",
              "\n",
              "[2 rows x 67 columns]"
            ]
          },
          "metadata": {
            "tags": []
          },
          "execution_count": 73
        }
      ]
    },
    {
      "cell_type": "code",
      "metadata": {
        "id": "olL8HDHNn19h",
        "outputId": "37375bb1-ba65-4eea-e637-dfa0b82c6e38"
      },
      "source": [
        "df_merged.shape"
      ],
      "execution_count": null,
      "outputs": [
        {
          "output_type": "execute_result",
          "data": {
            "text/plain": [
              "(380160, 68)"
            ]
          },
          "metadata": {
            "tags": []
          },
          "execution_count": 12
        }
      ]
    },
    {
      "cell_type": "markdown",
      "metadata": {
        "id": "TXxWoHBGn19j"
      },
      "source": [
        "**Drop the rows without a proper region**"
      ]
    },
    {
      "cell_type": "code",
      "metadata": {
        "id": "SV2ypa-wn19m",
        "outputId": "31890806-9f95-4fc7-d577-d0ae94428599"
      },
      "source": [
        "df_merged[df_merged[\"Region\"].isna()].sample(10)"
      ],
      "execution_count": null,
      "outputs": [
        {
          "output_type": "execute_result",
          "data": {
            "text/html": [
              "<div>\n",
              "<style scoped>\n",
              "    .dataframe tbody tr th:only-of-type {\n",
              "        vertical-align: middle;\n",
              "    }\n",
              "\n",
              "    .dataframe tbody tr th {\n",
              "        vertical-align: top;\n",
              "    }\n",
              "\n",
              "    .dataframe thead th {\n",
              "        text-align: right;\n",
              "    }\n",
              "</style>\n",
              "<table border=\"1\" class=\"dataframe\">\n",
              "  <thead>\n",
              "    <tr style=\"text-align: right;\">\n",
              "      <th></th>\n",
              "      <th>Country Code</th>\n",
              "      <th>Short Name</th>\n",
              "      <th>Region</th>\n",
              "      <th>Income Group</th>\n",
              "      <th>Country Name</th>\n",
              "      <th>Indicator Code</th>\n",
              "      <th>1960</th>\n",
              "      <th>1961</th>\n",
              "      <th>1962</th>\n",
              "      <th>1963</th>\n",
              "      <th>...</th>\n",
              "      <th>2011</th>\n",
              "      <th>2012</th>\n",
              "      <th>2013</th>\n",
              "      <th>2014</th>\n",
              "      <th>2015</th>\n",
              "      <th>2016</th>\n",
              "      <th>2017</th>\n",
              "      <th>2018</th>\n",
              "      <th>2019</th>\n",
              "      <th>2020</th>\n",
              "    </tr>\n",
              "  </thead>\n",
              "  <tbody>\n",
              "    <tr>\n",
              "      <th>24090</th>\n",
              "      <td>IBT</td>\n",
              "      <td>NaN</td>\n",
              "      <td>NaN</td>\n",
              "      <td>NaN</td>\n",
              "      <td>IDA &amp; IBRD total</td>\n",
              "      <td>SP.POP.80UP.MA.5Y</td>\n",
              "      <td>0.264127</td>\n",
              "      <td>0.28167</td>\n",
              "      <td>0.291409</td>\n",
              "      <td>0.29295</td>\n",
              "      <td>...</td>\n",
              "      <td>0.797680</td>\n",
              "      <td>0.829887</td>\n",
              "      <td>0.851557</td>\n",
              "      <td>0.863582</td>\n",
              "      <td>0.866131</td>\n",
              "      <td>0.914738</td>\n",
              "      <td>0.954389</td>\n",
              "      <td>0.981495</td>\n",
              "      <td>0.992839</td>\n",
              "      <td>NaN</td>\n",
              "    </tr>\n",
              "    <tr>\n",
              "      <th>49335</th>\n",
              "      <td>OED</td>\n",
              "      <td>NaN</td>\n",
              "      <td>NaN</td>\n",
              "      <td>NaN</td>\n",
              "      <td>OECD members</td>\n",
              "      <td>SL.EMP.1524.SP.FE.ZS</td>\n",
              "      <td>NaN</td>\n",
              "      <td>NaN</td>\n",
              "      <td>NaN</td>\n",
              "      <td>NaN</td>\n",
              "      <td>...</td>\n",
              "      <td>35.189303</td>\n",
              "      <td>35.327359</td>\n",
              "      <td>35.381931</td>\n",
              "      <td>35.764414</td>\n",
              "      <td>36.434293</td>\n",
              "      <td>37.057364</td>\n",
              "      <td>37.634696</td>\n",
              "      <td>38.114148</td>\n",
              "      <td>37.962363</td>\n",
              "      <td>37.724418</td>\n",
              "    </tr>\n",
              "    <tr>\n",
              "      <th>31593</th>\n",
              "      <td>LCN</td>\n",
              "      <td>NaN</td>\n",
              "      <td>NaN</td>\n",
              "      <td>NaN</td>\n",
              "      <td>Latin America &amp; Caribbean</td>\n",
              "      <td>BG.GSR.NFSV.GD.ZS</td>\n",
              "      <td>NaN</td>\n",
              "      <td>NaN</td>\n",
              "      <td>NaN</td>\n",
              "      <td>NaN</td>\n",
              "      <td>...</td>\n",
              "      <td>5.877660</td>\n",
              "      <td>6.207099</td>\n",
              "      <td>6.336536</td>\n",
              "      <td>6.437625</td>\n",
              "      <td>7.254478</td>\n",
              "      <td>7.530682</td>\n",
              "      <td>7.350006</td>\n",
              "      <td>7.673027</td>\n",
              "      <td>7.446470</td>\n",
              "      <td>NaN</td>\n",
              "    </tr>\n",
              "    <tr>\n",
              "      <th>28100</th>\n",
              "      <td>IDA</td>\n",
              "      <td>NaN</td>\n",
              "      <td>NaN</td>\n",
              "      <td>NaN</td>\n",
              "      <td>IDA total</td>\n",
              "      <td>SH.STA.MMRT.NE</td>\n",
              "      <td>NaN</td>\n",
              "      <td>NaN</td>\n",
              "      <td>NaN</td>\n",
              "      <td>NaN</td>\n",
              "      <td>...</td>\n",
              "      <td>NaN</td>\n",
              "      <td>NaN</td>\n",
              "      <td>NaN</td>\n",
              "      <td>NaN</td>\n",
              "      <td>NaN</td>\n",
              "      <td>NaN</td>\n",
              "      <td>NaN</td>\n",
              "      <td>NaN</td>\n",
              "      <td>NaN</td>\n",
              "      <td>NaN</td>\n",
              "    </tr>\n",
              "    <tr>\n",
              "      <th>45917</th>\n",
              "      <td>MIC</td>\n",
              "      <td>NaN</td>\n",
              "      <td>NaN</td>\n",
              "      <td>NaN</td>\n",
              "      <td>Middle income</td>\n",
              "      <td>GC.XPN.TRFT.CN</td>\n",
              "      <td>NaN</td>\n",
              "      <td>NaN</td>\n",
              "      <td>NaN</td>\n",
              "      <td>NaN</td>\n",
              "      <td>...</td>\n",
              "      <td>NaN</td>\n",
              "      <td>NaN</td>\n",
              "      <td>NaN</td>\n",
              "      <td>NaN</td>\n",
              "      <td>NaN</td>\n",
              "      <td>NaN</td>\n",
              "      <td>NaN</td>\n",
              "      <td>NaN</td>\n",
              "      <td>NaN</td>\n",
              "      <td>NaN</td>\n",
              "    </tr>\n",
              "    <tr>\n",
              "      <th>60364</th>\n",
              "      <td>TSA</td>\n",
              "      <td>NaN</td>\n",
              "      <td>NaN</td>\n",
              "      <td>NaN</td>\n",
              "      <td>South Asia (IDA &amp; IBRD)</td>\n",
              "      <td>IC.ELC.TIME</td>\n",
              "      <td>NaN</td>\n",
              "      <td>NaN</td>\n",
              "      <td>NaN</td>\n",
              "      <td>NaN</td>\n",
              "      <td>...</td>\n",
              "      <td>100.800000</td>\n",
              "      <td>100.000000</td>\n",
              "      <td>148.233750</td>\n",
              "      <td>144.733750</td>\n",
              "      <td>130.770000</td>\n",
              "      <td>117.922500</td>\n",
              "      <td>108.095000</td>\n",
              "      <td>98.377500</td>\n",
              "      <td>86.120000</td>\n",
              "      <td>NaN</td>\n",
              "    </tr>\n",
              "    <tr>\n",
              "      <th>14387</th>\n",
              "      <td>ECA</td>\n",
              "      <td>NaN</td>\n",
              "      <td>NaN</td>\n",
              "      <td>NaN</td>\n",
              "      <td>Europe &amp; Central Asia (excluding high income)</td>\n",
              "      <td>SG.LAW.INDX</td>\n",
              "      <td>NaN</td>\n",
              "      <td>NaN</td>\n",
              "      <td>NaN</td>\n",
              "      <td>NaN</td>\n",
              "      <td>...</td>\n",
              "      <td>NaN</td>\n",
              "      <td>NaN</td>\n",
              "      <td>NaN</td>\n",
              "      <td>NaN</td>\n",
              "      <td>NaN</td>\n",
              "      <td>NaN</td>\n",
              "      <td>NaN</td>\n",
              "      <td>NaN</td>\n",
              "      <td>NaN</td>\n",
              "      <td>NaN</td>\n",
              "    </tr>\n",
              "    <tr>\n",
              "      <th>13076</th>\n",
              "      <td>ECA</td>\n",
              "      <td>NaN</td>\n",
              "      <td>NaN</td>\n",
              "      <td>NaN</td>\n",
              "      <td>Europe &amp; Central Asia (excluding high income)</td>\n",
              "      <td>per_lm_alllm.ben_q1_tot</td>\n",
              "      <td>NaN</td>\n",
              "      <td>NaN</td>\n",
              "      <td>NaN</td>\n",
              "      <td>NaN</td>\n",
              "      <td>...</td>\n",
              "      <td>NaN</td>\n",
              "      <td>NaN</td>\n",
              "      <td>NaN</td>\n",
              "      <td>NaN</td>\n",
              "      <td>NaN</td>\n",
              "      <td>NaN</td>\n",
              "      <td>NaN</td>\n",
              "      <td>NaN</td>\n",
              "      <td>NaN</td>\n",
              "      <td>NaN</td>\n",
              "    </tr>\n",
              "    <tr>\n",
              "      <th>52273</th>\n",
              "      <td>PSS</td>\n",
              "      <td>NaN</td>\n",
              "      <td>NaN</td>\n",
              "      <td>NaN</td>\n",
              "      <td>Pacific island small states</td>\n",
              "      <td>IC.ELC.OUTG.ZS</td>\n",
              "      <td>NaN</td>\n",
              "      <td>NaN</td>\n",
              "      <td>NaN</td>\n",
              "      <td>NaN</td>\n",
              "      <td>...</td>\n",
              "      <td>NaN</td>\n",
              "      <td>NaN</td>\n",
              "      <td>NaN</td>\n",
              "      <td>NaN</td>\n",
              "      <td>NaN</td>\n",
              "      <td>NaN</td>\n",
              "      <td>NaN</td>\n",
              "      <td>NaN</td>\n",
              "      <td>88.800000</td>\n",
              "      <td>NaN</td>\n",
              "    </tr>\n",
              "    <tr>\n",
              "      <th>66353</th>\n",
              "      <td>WLD</td>\n",
              "      <td>NaN</td>\n",
              "      <td>NaN</td>\n",
              "      <td>NaN</td>\n",
              "      <td>World</td>\n",
              "      <td>per_si_allsi.ben_q1_tot</td>\n",
              "      <td>NaN</td>\n",
              "      <td>NaN</td>\n",
              "      <td>NaN</td>\n",
              "      <td>NaN</td>\n",
              "      <td>...</td>\n",
              "      <td>NaN</td>\n",
              "      <td>NaN</td>\n",
              "      <td>NaN</td>\n",
              "      <td>NaN</td>\n",
              "      <td>NaN</td>\n",
              "      <td>NaN</td>\n",
              "      <td>NaN</td>\n",
              "      <td>NaN</td>\n",
              "      <td>NaN</td>\n",
              "      <td>NaN</td>\n",
              "    </tr>\n",
              "  </tbody>\n",
              "</table>\n",
              "<p>10 rows × 67 columns</p>\n",
              "</div>"
            ],
            "text/plain": [
              "      Country Code Short Name Region Income Group  \\\n",
              "24090          IBT        NaN    NaN          NaN   \n",
              "49335          OED        NaN    NaN          NaN   \n",
              "31593          LCN        NaN    NaN          NaN   \n",
              "28100          IDA        NaN    NaN          NaN   \n",
              "45917          MIC        NaN    NaN          NaN   \n",
              "60364          TSA        NaN    NaN          NaN   \n",
              "14387          ECA        NaN    NaN          NaN   \n",
              "13076          ECA        NaN    NaN          NaN   \n",
              "52273          PSS        NaN    NaN          NaN   \n",
              "66353          WLD        NaN    NaN          NaN   \n",
              "\n",
              "                                        Country Name           Indicator Code  \\\n",
              "24090                               IDA & IBRD total        SP.POP.80UP.MA.5Y   \n",
              "49335                                   OECD members     SL.EMP.1524.SP.FE.ZS   \n",
              "31593                      Latin America & Caribbean        BG.GSR.NFSV.GD.ZS   \n",
              "28100                                      IDA total           SH.STA.MMRT.NE   \n",
              "45917                                  Middle income           GC.XPN.TRFT.CN   \n",
              "60364                        South Asia (IDA & IBRD)              IC.ELC.TIME   \n",
              "14387  Europe & Central Asia (excluding high income)              SG.LAW.INDX   \n",
              "13076  Europe & Central Asia (excluding high income)  per_lm_alllm.ben_q1_tot   \n",
              "52273                    Pacific island small states           IC.ELC.OUTG.ZS   \n",
              "66353                                          World  per_si_allsi.ben_q1_tot   \n",
              "\n",
              "           1960     1961      1962     1963  ...        2011        2012  \\\n",
              "24090  0.264127  0.28167  0.291409  0.29295  ...    0.797680    0.829887   \n",
              "49335       NaN      NaN       NaN      NaN  ...   35.189303   35.327359   \n",
              "31593       NaN      NaN       NaN      NaN  ...    5.877660    6.207099   \n",
              "28100       NaN      NaN       NaN      NaN  ...         NaN         NaN   \n",
              "45917       NaN      NaN       NaN      NaN  ...         NaN         NaN   \n",
              "60364       NaN      NaN       NaN      NaN  ...  100.800000  100.000000   \n",
              "14387       NaN      NaN       NaN      NaN  ...         NaN         NaN   \n",
              "13076       NaN      NaN       NaN      NaN  ...         NaN         NaN   \n",
              "52273       NaN      NaN       NaN      NaN  ...         NaN         NaN   \n",
              "66353       NaN      NaN       NaN      NaN  ...         NaN         NaN   \n",
              "\n",
              "             2013        2014        2015        2016        2017       2018  \\\n",
              "24090    0.851557    0.863582    0.866131    0.914738    0.954389   0.981495   \n",
              "49335   35.381931   35.764414   36.434293   37.057364   37.634696  38.114148   \n",
              "31593    6.336536    6.437625    7.254478    7.530682    7.350006   7.673027   \n",
              "28100         NaN         NaN         NaN         NaN         NaN        NaN   \n",
              "45917         NaN         NaN         NaN         NaN         NaN        NaN   \n",
              "60364  148.233750  144.733750  130.770000  117.922500  108.095000  98.377500   \n",
              "14387         NaN         NaN         NaN         NaN         NaN        NaN   \n",
              "13076         NaN         NaN         NaN         NaN         NaN        NaN   \n",
              "52273         NaN         NaN         NaN         NaN         NaN        NaN   \n",
              "66353         NaN         NaN         NaN         NaN         NaN        NaN   \n",
              "\n",
              "            2019       2020  \n",
              "24090   0.992839        NaN  \n",
              "49335  37.962363  37.724418  \n",
              "31593   7.446470        NaN  \n",
              "28100        NaN        NaN  \n",
              "45917        NaN        NaN  \n",
              "60364  86.120000        NaN  \n",
              "14387        NaN        NaN  \n",
              "13076        NaN        NaN  \n",
              "52273  88.800000        NaN  \n",
              "66353        NaN        NaN  \n",
              "\n",
              "[10 rows x 67 columns]"
            ]
          },
          "metadata": {
            "tags": []
          },
          "execution_count": 74
        }
      ]
    },
    {
      "cell_type": "code",
      "metadata": {
        "id": "FQRvis-pn19q",
        "outputId": "f6e4c8eb-1236-4412-c552-28fad4dfba93"
      },
      "source": [
        "df_merged = df_merged[df_merged[\"Region\"].notnull()]\n",
        "df_merged.shape"
      ],
      "execution_count": null,
      "outputs": [
        {
          "output_type": "execute_result",
          "data": {
            "text/plain": [
              "(312480, 67)"
            ]
          },
          "metadata": {
            "tags": []
          },
          "execution_count": 75
        }
      ]
    },
    {
      "cell_type": "code",
      "metadata": {
        "id": "Te0KyIp9n190",
        "outputId": "cd3d97a0-1c92-4582-ffe0-80c455f2066e"
      },
      "source": [
        "df_merged.sample(5)"
      ],
      "execution_count": null,
      "outputs": [
        {
          "output_type": "execute_result",
          "data": {
            "text/html": [
              "<div>\n",
              "<style scoped>\n",
              "    .dataframe tbody tr th:only-of-type {\n",
              "        vertical-align: middle;\n",
              "    }\n",
              "\n",
              "    .dataframe tbody tr th {\n",
              "        vertical-align: top;\n",
              "    }\n",
              "\n",
              "    .dataframe thead th {\n",
              "        text-align: right;\n",
              "    }\n",
              "</style>\n",
              "<table border=\"1\" class=\"dataframe\">\n",
              "  <thead>\n",
              "    <tr style=\"text-align: right;\">\n",
              "      <th></th>\n",
              "      <th>Country Code</th>\n",
              "      <th>Short Name</th>\n",
              "      <th>Region</th>\n",
              "      <th>Income Group</th>\n",
              "      <th>Country Name</th>\n",
              "      <th>Indicator Code</th>\n",
              "      <th>1960</th>\n",
              "      <th>1961</th>\n",
              "      <th>1962</th>\n",
              "      <th>1963</th>\n",
              "      <th>...</th>\n",
              "      <th>2011</th>\n",
              "      <th>2012</th>\n",
              "      <th>2013</th>\n",
              "      <th>2014</th>\n",
              "      <th>2015</th>\n",
              "      <th>2016</th>\n",
              "      <th>2017</th>\n",
              "      <th>2018</th>\n",
              "      <th>2019</th>\n",
              "      <th>2020</th>\n",
              "    </tr>\n",
              "  </thead>\n",
              "  <tbody>\n",
              "    <tr>\n",
              "      <th>77296</th>\n",
              "      <td>ATG</td>\n",
              "      <td>Antigua and Barbuda</td>\n",
              "      <td>Latin America &amp; Caribbean</td>\n",
              "      <td>High income</td>\n",
              "      <td>Antigua and Barbuda</td>\n",
              "      <td>SH.STA.HYGN.UR.ZS</td>\n",
              "      <td>NaN</td>\n",
              "      <td>NaN</td>\n",
              "      <td>NaN</td>\n",
              "      <td>NaN</td>\n",
              "      <td>...</td>\n",
              "      <td>NaN</td>\n",
              "      <td>NaN</td>\n",
              "      <td>NaN</td>\n",
              "      <td>NaN</td>\n",
              "      <td>NaN</td>\n",
              "      <td>NaN</td>\n",
              "      <td>NaN</td>\n",
              "      <td>NaN</td>\n",
              "      <td>NaN</td>\n",
              "      <td>NaN</td>\n",
              "    </tr>\n",
              "    <tr>\n",
              "      <th>109270</th>\n",
              "      <td>BRN</td>\n",
              "      <td>Brunei</td>\n",
              "      <td>East Asia &amp; Pacific</td>\n",
              "      <td>High income</td>\n",
              "      <td>Brunei Darussalam</td>\n",
              "      <td>IC.REG.PROC.MA</td>\n",
              "      <td>NaN</td>\n",
              "      <td>NaN</td>\n",
              "      <td>NaN</td>\n",
              "      <td>NaN</td>\n",
              "      <td>...</td>\n",
              "      <td>18.0</td>\n",
              "      <td>18.0</td>\n",
              "      <td>18.0</td>\n",
              "      <td>18.0</td>\n",
              "      <td>7.0</td>\n",
              "      <td>7.0</td>\n",
              "      <td>5.0</td>\n",
              "      <td>3.0</td>\n",
              "      <td>3.0</td>\n",
              "      <td>NaN</td>\n",
              "    </tr>\n",
              "    <tr>\n",
              "      <th>345683</th>\n",
              "      <td>TLS</td>\n",
              "      <td>Timor-Leste</td>\n",
              "      <td>East Asia &amp; Pacific</td>\n",
              "      <td>Lower middle income</td>\n",
              "      <td>Timor-Leste</td>\n",
              "      <td>ER.H2O.FWTL.K3</td>\n",
              "      <td>NaN</td>\n",
              "      <td>NaN</td>\n",
              "      <td>NaN</td>\n",
              "      <td>NaN</td>\n",
              "      <td>...</td>\n",
              "      <td>NaN</td>\n",
              "      <td>NaN</td>\n",
              "      <td>NaN</td>\n",
              "      <td>NaN</td>\n",
              "      <td>NaN</td>\n",
              "      <td>NaN</td>\n",
              "      <td>NaN</td>\n",
              "      <td>NaN</td>\n",
              "      <td>NaN</td>\n",
              "      <td>NaN</td>\n",
              "    </tr>\n",
              "    <tr>\n",
              "      <th>348130</th>\n",
              "      <td>TGO</td>\n",
              "      <td>Togo</td>\n",
              "      <td>Sub-Saharan Africa</td>\n",
              "      <td>Low income</td>\n",
              "      <td>Togo</td>\n",
              "      <td>SH.ANM.CHLD.ZS</td>\n",
              "      <td>NaN</td>\n",
              "      <td>NaN</td>\n",
              "      <td>NaN</td>\n",
              "      <td>NaN</td>\n",
              "      <td>...</td>\n",
              "      <td>72.3</td>\n",
              "      <td>72.0</td>\n",
              "      <td>71.8</td>\n",
              "      <td>71.5</td>\n",
              "      <td>71.2</td>\n",
              "      <td>71.0</td>\n",
              "      <td>NaN</td>\n",
              "      <td>NaN</td>\n",
              "      <td>NaN</td>\n",
              "      <td>NaN</td>\n",
              "    </tr>\n",
              "    <tr>\n",
              "      <th>226246</th>\n",
              "      <td>LBN</td>\n",
              "      <td>Lebanon</td>\n",
              "      <td>Middle East &amp; North Africa</td>\n",
              "      <td>Upper middle income</td>\n",
              "      <td>Lebanon</td>\n",
              "      <td>SL.TLF.0714.SW.MA.ZS</td>\n",
              "      <td>NaN</td>\n",
              "      <td>NaN</td>\n",
              "      <td>NaN</td>\n",
              "      <td>NaN</td>\n",
              "      <td>...</td>\n",
              "      <td>NaN</td>\n",
              "      <td>NaN</td>\n",
              "      <td>NaN</td>\n",
              "      <td>NaN</td>\n",
              "      <td>NaN</td>\n",
              "      <td>NaN</td>\n",
              "      <td>NaN</td>\n",
              "      <td>NaN</td>\n",
              "      <td>NaN</td>\n",
              "      <td>NaN</td>\n",
              "    </tr>\n",
              "  </tbody>\n",
              "</table>\n",
              "<p>5 rows × 67 columns</p>\n",
              "</div>"
            ],
            "text/plain": [
              "       Country Code           Short Name                      Region  \\\n",
              "77296           ATG  Antigua and Barbuda   Latin America & Caribbean   \n",
              "109270          BRN               Brunei         East Asia & Pacific   \n",
              "345683          TLS          Timor-Leste         East Asia & Pacific   \n",
              "348130          TGO                 Togo          Sub-Saharan Africa   \n",
              "226246          LBN              Lebanon  Middle East & North Africa   \n",
              "\n",
              "               Income Group         Country Name        Indicator Code  1960  \\\n",
              "77296           High income  Antigua and Barbuda     SH.STA.HYGN.UR.ZS   NaN   \n",
              "109270          High income    Brunei Darussalam        IC.REG.PROC.MA   NaN   \n",
              "345683  Lower middle income          Timor-Leste        ER.H2O.FWTL.K3   NaN   \n",
              "348130           Low income                 Togo        SH.ANM.CHLD.ZS   NaN   \n",
              "226246  Upper middle income              Lebanon  SL.TLF.0714.SW.MA.ZS   NaN   \n",
              "\n",
              "        1961  1962  1963  ...  2011  2012  2013  2014  2015  2016  2017  2018  \\\n",
              "77296    NaN   NaN   NaN  ...   NaN   NaN   NaN   NaN   NaN   NaN   NaN   NaN   \n",
              "109270   NaN   NaN   NaN  ...  18.0  18.0  18.0  18.0   7.0   7.0   5.0   3.0   \n",
              "345683   NaN   NaN   NaN  ...   NaN   NaN   NaN   NaN   NaN   NaN   NaN   NaN   \n",
              "348130   NaN   NaN   NaN  ...  72.3  72.0  71.8  71.5  71.2  71.0   NaN   NaN   \n",
              "226246   NaN   NaN   NaN  ...   NaN   NaN   NaN   NaN   NaN   NaN   NaN   NaN   \n",
              "\n",
              "        2019  2020  \n",
              "77296    NaN   NaN  \n",
              "109270   3.0   NaN  \n",
              "345683   NaN   NaN  \n",
              "348130   NaN   NaN  \n",
              "226246   NaN   NaN  \n",
              "\n",
              "[5 rows x 67 columns]"
            ]
          },
          "metadata": {
            "tags": []
          },
          "execution_count": 81
        }
      ]
    },
    {
      "cell_type": "code",
      "metadata": {
        "id": "ilyCLWDjn193",
        "outputId": "28365deb-7190-43df-f135-55fdf987c677"
      },
      "source": [
        "df_merged[\"Country Code\"].nunique()"
      ],
      "execution_count": null,
      "outputs": [
        {
          "output_type": "execute_result",
          "data": {
            "text/plain": [
              "217"
            ]
          },
          "metadata": {
            "tags": []
          },
          "execution_count": 79
        }
      ]
    },
    {
      "cell_type": "code",
      "metadata": {
        "id": "2ULp3Cqdn198",
        "outputId": "51e13d30-7563-4878-b76b-448e09b99db2"
      },
      "source": [
        "df_merged[df_merged[df_merged.columns[:6]].isna().any(axis=1)]"
      ],
      "execution_count": null,
      "outputs": [
        {
          "output_type": "execute_result",
          "data": {
            "text/html": [
              "<div>\n",
              "<style scoped>\n",
              "    .dataframe tbody tr th:only-of-type {\n",
              "        vertical-align: middle;\n",
              "    }\n",
              "\n",
              "    .dataframe tbody tr th {\n",
              "        vertical-align: top;\n",
              "    }\n",
              "\n",
              "    .dataframe thead th {\n",
              "        text-align: right;\n",
              "    }\n",
              "</style>\n",
              "<table border=\"1\" class=\"dataframe\">\n",
              "  <thead>\n",
              "    <tr style=\"text-align: right;\">\n",
              "      <th></th>\n",
              "      <th>Country Code</th>\n",
              "      <th>Short Name</th>\n",
              "      <th>Region</th>\n",
              "      <th>Income Group</th>\n",
              "      <th>Country Name</th>\n",
              "      <th>Indicator Code</th>\n",
              "      <th>1960</th>\n",
              "      <th>1961</th>\n",
              "      <th>1962</th>\n",
              "      <th>1963</th>\n",
              "      <th>...</th>\n",
              "      <th>2011</th>\n",
              "      <th>2012</th>\n",
              "      <th>2013</th>\n",
              "      <th>2014</th>\n",
              "      <th>2015</th>\n",
              "      <th>2016</th>\n",
              "      <th>2017</th>\n",
              "      <th>2018</th>\n",
              "      <th>2019</th>\n",
              "      <th>2020</th>\n",
              "    </tr>\n",
              "  </thead>\n",
              "  <tbody>\n",
              "  </tbody>\n",
              "</table>\n",
              "<p>0 rows × 67 columns</p>\n",
              "</div>"
            ],
            "text/plain": [
              "Empty DataFrame\n",
              "Columns: [Country Code, Short Name, Region, Income Group, Country Name, Indicator Code, 1960, 1961, 1962, 1963, 1964, 1965, 1966, 1967, 1968, 1969, 1970, 1971, 1972, 1973, 1974, 1975, 1976, 1977, 1978, 1979, 1980, 1981, 1982, 1983, 1984, 1985, 1986, 1987, 1988, 1989, 1990, 1991, 1992, 1993, 1994, 1995, 1996, 1997, 1998, 1999, 2000, 2001, 2002, 2003, 2004, 2005, 2006, 2007, 2008, 2009, 2010, 2011, 2012, 2013, 2014, 2015, 2016, 2017, 2018, 2019, 2020]\n",
              "Index: []\n",
              "\n",
              "[0 rows x 67 columns]"
            ]
          },
          "metadata": {
            "tags": []
          },
          "execution_count": 84
        }
      ]
    },
    {
      "cell_type": "code",
      "metadata": {
        "id": "zTIlJAjOn199",
        "outputId": "9d37131b-1474-43e0-ae69-4c5a0d6b6a1a"
      },
      "source": [
        "topic_list = list(df_indicators[\"Topic\"].unique())\n",
        "topic_list[:5]"
      ],
      "execution_count": null,
      "outputs": [
        {
          "output_type": "execute_result",
          "data": {
            "text/plain": [
              "['Environment: Agricultural production',\n",
              " 'Environment: Land use',\n",
              " 'Economic Policy & Debt: Balance of payments: Current account: Goods, services & income',\n",
              " 'Economic Policy & Debt: Balance of payments: Capital & financial account',\n",
              " 'Economic Policy & Debt: Balance of payments: Current account: Transfers']"
            ]
          },
          "metadata": {
            "tags": []
          },
          "execution_count": 23
        }
      ]
    },
    {
      "cell_type": "code",
      "metadata": {
        "id": "yaYx868Gn19-",
        "outputId": "26c7fc1f-f559-4197-84ba-e7cb0a28439e"
      },
      "source": [
        "len(topic_list)"
      ],
      "execution_count": null,
      "outputs": [
        {
          "output_type": "execute_result",
          "data": {
            "text/plain": [
              "90"
            ]
          },
          "metadata": {
            "tags": []
          },
          "execution_count": 24
        }
      ]
    },
    {
      "cell_type": "markdown",
      "metadata": {
        "id": "MRiq1JQLn1-A"
      },
      "source": [
        "## Step 4 - Melt and save the dataframe for analysis"
      ]
    },
    {
      "cell_type": "markdown",
      "metadata": {
        "id": "1oZZdTOtn1-A"
      },
      "source": [
        "**4.1 Melt the dataframe**\n",
        "\n",
        "From the long form to the short form (like melting an iceburg)"
      ]
    },
    {
      "cell_type": "code",
      "metadata": {
        "id": "GKnZHl46n1-C",
        "outputId": "2c82e6f4-7160-41cc-8e2d-2569706af175"
      },
      "source": [
        "df_melted = df_merged.melt(id_vars=df_merged.columns[:5], \n",
        "                          value_vars=df_merged.columns[5:], \n",
        "                          var_name=\"Year\", \n",
        "                          value_name='Indicator Value')\n",
        "\n",
        "df_melted.sample()"
      ],
      "execution_count": null,
      "outputs": [
        {
          "output_type": "execute_result",
          "data": {
            "text/html": [
              "<div>\n",
              "<style scoped>\n",
              "    .dataframe tbody tr th:only-of-type {\n",
              "        vertical-align: middle;\n",
              "    }\n",
              "\n",
              "    .dataframe tbody tr th {\n",
              "        vertical-align: top;\n",
              "    }\n",
              "\n",
              "    .dataframe thead th {\n",
              "        text-align: right;\n",
              "    }\n",
              "</style>\n",
              "<table border=\"1\" class=\"dataframe\">\n",
              "  <thead>\n",
              "    <tr style=\"text-align: right;\">\n",
              "      <th></th>\n",
              "      <th>Country Code</th>\n",
              "      <th>Region</th>\n",
              "      <th>Income Group</th>\n",
              "      <th>Country Name</th>\n",
              "      <th>Indicator Code</th>\n",
              "      <th>Year</th>\n",
              "      <th>Indicator Value</th>\n",
              "    </tr>\n",
              "  </thead>\n",
              "  <tbody>\n",
              "    <tr>\n",
              "      <th>8037383</th>\n",
              "      <td>POL</td>\n",
              "      <td>Europe &amp; Central Asia</td>\n",
              "      <td>High income</td>\n",
              "      <td>Poland</td>\n",
              "      <td>TX.VAL.MRCH.CD.WT</td>\n",
              "      <td>1985</td>\n",
              "      <td>11490.0</td>\n",
              "    </tr>\n",
              "  </tbody>\n",
              "</table>\n",
              "</div>"
            ],
            "text/plain": [
              "        Country Code                 Region Income Group Country Name  \\\n",
              "8037383          POL  Europe & Central Asia  High income       Poland   \n",
              "\n",
              "            Indicator Code  Year  Indicator Value  \n",
              "8037383  TX.VAL.MRCH.CD.WT  1985          11490.0  "
            ]
          },
          "metadata": {
            "tags": []
          },
          "execution_count": 86
        }
      ]
    },
    {
      "cell_type": "code",
      "metadata": {
        "id": "NFxHUBTyn1-D",
        "outputId": "5a7970cd-9765-429e-ac26-811da7367841"
      },
      "source": [
        "df_melted.shape"
      ],
      "execution_count": null,
      "outputs": [
        {
          "output_type": "execute_result",
          "data": {
            "text/plain": [
              "(19061280, 7)"
            ]
          },
          "metadata": {
            "tags": []
          },
          "execution_count": 87
        }
      ]
    },
    {
      "cell_type": "markdown",
      "metadata": {
        "id": "iUUBqSgjn1-E"
      },
      "source": [
        "**Only keep the rows with indicator value**"
      ]
    },
    {
      "cell_type": "code",
      "metadata": {
        "id": "Qg6zzD-xn1-F",
        "outputId": "f46568d8-7263-43e3-a2c4-9b24083045a7"
      },
      "source": [
        "df_melted = df_melted[df_melted[\"Indicator Value\"].notnull()]\n",
        "df_melted.shape"
      ],
      "execution_count": null,
      "outputs": [
        {
          "output_type": "execute_result",
          "data": {
            "text/plain": [
              "(6203868, 7)"
            ]
          },
          "metadata": {
            "tags": []
          },
          "execution_count": 88
        }
      ]
    },
    {
      "cell_type": "code",
      "metadata": {
        "id": "UYU7pM1Bn1-G",
        "outputId": "55f0b53b-7499-4417-d680-a05ac87b21d2"
      },
      "source": [
        "df_melted.sample(5)"
      ],
      "execution_count": null,
      "outputs": [
        {
          "output_type": "execute_result",
          "data": {
            "text/html": [
              "<div>\n",
              "<style scoped>\n",
              "    .dataframe tbody tr th:only-of-type {\n",
              "        vertical-align: middle;\n",
              "    }\n",
              "\n",
              "    .dataframe tbody tr th {\n",
              "        vertical-align: top;\n",
              "    }\n",
              "\n",
              "    .dataframe thead th {\n",
              "        text-align: right;\n",
              "    }\n",
              "</style>\n",
              "<table border=\"1\" class=\"dataframe\">\n",
              "  <thead>\n",
              "    <tr style=\"text-align: right;\">\n",
              "      <th></th>\n",
              "      <th>Country Code</th>\n",
              "      <th>Region</th>\n",
              "      <th>Income Group</th>\n",
              "      <th>Country Name</th>\n",
              "      <th>Indicator Code</th>\n",
              "      <th>Year</th>\n",
              "      <th>Indicator Value</th>\n",
              "    </tr>\n",
              "  </thead>\n",
              "  <tbody>\n",
              "    <tr>\n",
              "      <th>18118363</th>\n",
              "      <td>PSE</td>\n",
              "      <td>Middle East &amp; North Africa</td>\n",
              "      <td>Lower middle income</td>\n",
              "      <td>West Bank and Gaza</td>\n",
              "      <td>BN.CAB.XOKA.GD.ZS</td>\n",
              "      <td>2017</td>\n",
              "      <td>-1.320656e+01</td>\n",
              "    </tr>\n",
              "    <tr>\n",
              "      <th>214159</th>\n",
              "      <td>OMN</td>\n",
              "      <td>Middle East &amp; North Africa</td>\n",
              "      <td>High income</td>\n",
              "      <td>Oman</td>\n",
              "      <td>SP.POP.65UP.FE.ZS</td>\n",
              "      <td>1960</td>\n",
              "      <td>3.021271e+00</td>\n",
              "    </tr>\n",
              "    <tr>\n",
              "      <th>9126051</th>\n",
              "      <td>COD</td>\n",
              "      <td>Sub-Saharan Africa</td>\n",
              "      <td>Low income</td>\n",
              "      <td>Congo, Dem. Rep.</td>\n",
              "      <td>EN.ATM.METH.KT.CE</td>\n",
              "      <td>1989</td>\n",
              "      <td>5.770960e+04</td>\n",
              "    </tr>\n",
              "    <tr>\n",
              "      <th>5717985</th>\n",
              "      <td>ETH</td>\n",
              "      <td>Sub-Saharan Africa</td>\n",
              "      <td>Low income</td>\n",
              "      <td>Ethiopia</td>\n",
              "      <td>BN.RES.INCL.CD</td>\n",
              "      <td>1978</td>\n",
              "      <td>-8.836205e+07</td>\n",
              "    </tr>\n",
              "    <tr>\n",
              "      <th>18015078</th>\n",
              "      <td>NZL</td>\n",
              "      <td>East Asia &amp; Pacific</td>\n",
              "      <td>High income</td>\n",
              "      <td>New Zealand</td>\n",
              "      <td>SL.TLF.ACTI.ZS</td>\n",
              "      <td>2017</td>\n",
              "      <td>8.088900e+01</td>\n",
              "    </tr>\n",
              "  </tbody>\n",
              "</table>\n",
              "</div>"
            ],
            "text/plain": [
              "         Country Code                      Region         Income Group  \\\n",
              "18118363          PSE  Middle East & North Africa  Lower middle income   \n",
              "214159            OMN  Middle East & North Africa          High income   \n",
              "9126051           COD          Sub-Saharan Africa           Low income   \n",
              "5717985           ETH          Sub-Saharan Africa           Low income   \n",
              "18015078          NZL         East Asia & Pacific          High income   \n",
              "\n",
              "                Country Name     Indicator Code  Year  Indicator Value  \n",
              "18118363  West Bank and Gaza  BN.CAB.XOKA.GD.ZS  2017    -1.320656e+01  \n",
              "214159                  Oman  SP.POP.65UP.FE.ZS  1960     3.021271e+00  \n",
              "9126051     Congo, Dem. Rep.  EN.ATM.METH.KT.CE  1989     5.770960e+04  \n",
              "5717985             Ethiopia     BN.RES.INCL.CD  1978    -8.836205e+07  \n",
              "18015078         New Zealand     SL.TLF.ACTI.ZS  2017     8.088900e+01  "
            ]
          },
          "metadata": {
            "tags": []
          },
          "execution_count": 89
        }
      ]
    },
    {
      "cell_type": "markdown",
      "metadata": {
        "id": "uo15sPKZn1-H"
      },
      "source": [
        "**4.2 Save the melted dataframe to a file**"
      ]
    },
    {
      "cell_type": "code",
      "metadata": {
        "id": "3P4mPGZmn1-I"
      },
      "source": [
        "df_melted.to_csv(\"../data_output/world_dev_indicators.csv\", index=False)"
      ],
      "execution_count": null,
      "outputs": []
    },
    {
      "cell_type": "markdown",
      "metadata": {
        "id": "umQbDqKPn1-c"
      },
      "source": [
        "## Step 5  Pivot and save the pivot data frame for analysis"
      ]
    },
    {
      "cell_type": "code",
      "metadata": {
        "id": "15r9GtMon1-e",
        "outputId": "607b4909-f7ad-4dd0-c852-253ba9477bdd"
      },
      "source": [
        "indicator_columns = (\"Indicator Code\", \"Indicator Value\")\n",
        "index_columns = [column for column in df_melted.columns if column not in indicator_columns]\n",
        "index_columns"
      ],
      "execution_count": null,
      "outputs": [
        {
          "output_type": "execute_result",
          "data": {
            "text/plain": [
              "['Country Code', 'Region', 'Income Group', 'Country Name', 'Year']"
            ]
          },
          "metadata": {
            "tags": []
          },
          "execution_count": 91
        }
      ]
    },
    {
      "cell_type": "code",
      "metadata": {
        "id": "-He0GV5on1-h",
        "outputId": "cec22214-ed04-452d-e2e1-b4ac1083a652"
      },
      "source": [
        "df_pivot = df_melted.pivot(index=index_columns, columns=[\"Indicator Code\"], values=\"Indicator Value\")\n",
        "df_pivot.head()"
      ],
      "execution_count": null,
      "outputs": [
        {
          "output_type": "execute_result",
          "data": {
            "text/html": [
              "<div>\n",
              "<style scoped>\n",
              "    .dataframe tbody tr th:only-of-type {\n",
              "        vertical-align: middle;\n",
              "    }\n",
              "\n",
              "    .dataframe tbody tr th {\n",
              "        vertical-align: top;\n",
              "    }\n",
              "\n",
              "    .dataframe thead th {\n",
              "        text-align: right;\n",
              "    }\n",
              "</style>\n",
              "<table border=\"1\" class=\"dataframe\">\n",
              "  <thead>\n",
              "    <tr style=\"text-align: right;\">\n",
              "      <th></th>\n",
              "      <th></th>\n",
              "      <th></th>\n",
              "      <th></th>\n",
              "      <th>Indicator Code</th>\n",
              "      <th>AG.AGR.TRAC.NO</th>\n",
              "      <th>AG.CON.FERT.PT.ZS</th>\n",
              "      <th>AG.CON.FERT.ZS</th>\n",
              "      <th>AG.LND.AGRI.K2</th>\n",
              "      <th>AG.LND.AGRI.ZS</th>\n",
              "      <th>AG.LND.ARBL.HA</th>\n",
              "      <th>AG.LND.ARBL.HA.PC</th>\n",
              "      <th>AG.LND.ARBL.ZS</th>\n",
              "      <th>AG.LND.CREL.HA</th>\n",
              "      <th>AG.LND.CROP.ZS</th>\n",
              "      <th>...</th>\n",
              "      <th>per_sa_allsa.cov_q4_tot</th>\n",
              "      <th>per_sa_allsa.cov_q5_tot</th>\n",
              "      <th>per_si_allsi.adq_pop_tot</th>\n",
              "      <th>per_si_allsi.ben_q1_tot</th>\n",
              "      <th>per_si_allsi.cov_pop_tot</th>\n",
              "      <th>per_si_allsi.cov_q1_tot</th>\n",
              "      <th>per_si_allsi.cov_q2_tot</th>\n",
              "      <th>per_si_allsi.cov_q3_tot</th>\n",
              "      <th>per_si_allsi.cov_q4_tot</th>\n",
              "      <th>per_si_allsi.cov_q5_tot</th>\n",
              "    </tr>\n",
              "    <tr>\n",
              "      <th>Country Code</th>\n",
              "      <th>Region</th>\n",
              "      <th>Income Group</th>\n",
              "      <th>Country Name</th>\n",
              "      <th>Year</th>\n",
              "      <th></th>\n",
              "      <th></th>\n",
              "      <th></th>\n",
              "      <th></th>\n",
              "      <th></th>\n",
              "      <th></th>\n",
              "      <th></th>\n",
              "      <th></th>\n",
              "      <th></th>\n",
              "      <th></th>\n",
              "      <th></th>\n",
              "      <th></th>\n",
              "      <th></th>\n",
              "      <th></th>\n",
              "      <th></th>\n",
              "      <th></th>\n",
              "      <th></th>\n",
              "      <th></th>\n",
              "      <th></th>\n",
              "      <th></th>\n",
              "      <th></th>\n",
              "    </tr>\n",
              "  </thead>\n",
              "  <tbody>\n",
              "    <tr>\n",
              "      <th rowspan=\"5\" valign=\"top\">ABW</th>\n",
              "      <th rowspan=\"5\" valign=\"top\">Latin America &amp; Caribbean</th>\n",
              "      <th rowspan=\"5\" valign=\"top\">High income</th>\n",
              "      <th rowspan=\"5\" valign=\"top\">Aruba</th>\n",
              "      <th>1960</th>\n",
              "      <td>NaN</td>\n",
              "      <td>NaN</td>\n",
              "      <td>NaN</td>\n",
              "      <td>NaN</td>\n",
              "      <td>NaN</td>\n",
              "      <td>NaN</td>\n",
              "      <td>NaN</td>\n",
              "      <td>NaN</td>\n",
              "      <td>NaN</td>\n",
              "      <td>NaN</td>\n",
              "      <td>...</td>\n",
              "      <td>NaN</td>\n",
              "      <td>NaN</td>\n",
              "      <td>NaN</td>\n",
              "      <td>NaN</td>\n",
              "      <td>NaN</td>\n",
              "      <td>NaN</td>\n",
              "      <td>NaN</td>\n",
              "      <td>NaN</td>\n",
              "      <td>NaN</td>\n",
              "      <td>NaN</td>\n",
              "    </tr>\n",
              "    <tr>\n",
              "      <th>1961</th>\n",
              "      <td>NaN</td>\n",
              "      <td>NaN</td>\n",
              "      <td>NaN</td>\n",
              "      <td>20.0</td>\n",
              "      <td>11.111111</td>\n",
              "      <td>2000.0</td>\n",
              "      <td>0.036076</td>\n",
              "      <td>11.111111</td>\n",
              "      <td>NaN</td>\n",
              "      <td>NaN</td>\n",
              "      <td>...</td>\n",
              "      <td>NaN</td>\n",
              "      <td>NaN</td>\n",
              "      <td>NaN</td>\n",
              "      <td>NaN</td>\n",
              "      <td>NaN</td>\n",
              "      <td>NaN</td>\n",
              "      <td>NaN</td>\n",
              "      <td>NaN</td>\n",
              "      <td>NaN</td>\n",
              "      <td>NaN</td>\n",
              "    </tr>\n",
              "    <tr>\n",
              "      <th>1962</th>\n",
              "      <td>NaN</td>\n",
              "      <td>NaN</td>\n",
              "      <td>NaN</td>\n",
              "      <td>20.0</td>\n",
              "      <td>11.111111</td>\n",
              "      <td>2000.0</td>\n",
              "      <td>0.035571</td>\n",
              "      <td>11.111111</td>\n",
              "      <td>NaN</td>\n",
              "      <td>NaN</td>\n",
              "      <td>...</td>\n",
              "      <td>NaN</td>\n",
              "      <td>NaN</td>\n",
              "      <td>NaN</td>\n",
              "      <td>NaN</td>\n",
              "      <td>NaN</td>\n",
              "      <td>NaN</td>\n",
              "      <td>NaN</td>\n",
              "      <td>NaN</td>\n",
              "      <td>NaN</td>\n",
              "      <td>NaN</td>\n",
              "    </tr>\n",
              "    <tr>\n",
              "      <th>1963</th>\n",
              "      <td>NaN</td>\n",
              "      <td>NaN</td>\n",
              "      <td>NaN</td>\n",
              "      <td>20.0</td>\n",
              "      <td>11.111111</td>\n",
              "      <td>2000.0</td>\n",
              "      <td>0.035276</td>\n",
              "      <td>11.111111</td>\n",
              "      <td>NaN</td>\n",
              "      <td>NaN</td>\n",
              "      <td>...</td>\n",
              "      <td>NaN</td>\n",
              "      <td>NaN</td>\n",
              "      <td>NaN</td>\n",
              "      <td>NaN</td>\n",
              "      <td>NaN</td>\n",
              "      <td>NaN</td>\n",
              "      <td>NaN</td>\n",
              "      <td>NaN</td>\n",
              "      <td>NaN</td>\n",
              "      <td>NaN</td>\n",
              "    </tr>\n",
              "    <tr>\n",
              "      <th>1964</th>\n",
              "      <td>NaN</td>\n",
              "      <td>NaN</td>\n",
              "      <td>NaN</td>\n",
              "      <td>20.0</td>\n",
              "      <td>11.111111</td>\n",
              "      <td>2000.0</td>\n",
              "      <td>0.035068</td>\n",
              "      <td>11.111111</td>\n",
              "      <td>NaN</td>\n",
              "      <td>NaN</td>\n",
              "      <td>...</td>\n",
              "      <td>NaN</td>\n",
              "      <td>NaN</td>\n",
              "      <td>NaN</td>\n",
              "      <td>NaN</td>\n",
              "      <td>NaN</td>\n",
              "      <td>NaN</td>\n",
              "      <td>NaN</td>\n",
              "      <td>NaN</td>\n",
              "      <td>NaN</td>\n",
              "      <td>NaN</td>\n",
              "    </tr>\n",
              "  </tbody>\n",
              "</table>\n",
              "<p>5 rows × 1434 columns</p>\n",
              "</div>"
            ],
            "text/plain": [
              "Indicator Code                                                         AG.AGR.TRAC.NO  \\\n",
              "Country Code Region                    Income Group Country Name Year                   \n",
              "ABW          Latin America & Caribbean High income  Aruba        1960             NaN   \n",
              "                                                                 1961             NaN   \n",
              "                                                                 1962             NaN   \n",
              "                                                                 1963             NaN   \n",
              "                                                                 1964             NaN   \n",
              "\n",
              "Indicator Code                                                         AG.CON.FERT.PT.ZS  \\\n",
              "Country Code Region                    Income Group Country Name Year                      \n",
              "ABW          Latin America & Caribbean High income  Aruba        1960                NaN   \n",
              "                                                                 1961                NaN   \n",
              "                                                                 1962                NaN   \n",
              "                                                                 1963                NaN   \n",
              "                                                                 1964                NaN   \n",
              "\n",
              "Indicator Code                                                         AG.CON.FERT.ZS  \\\n",
              "Country Code Region                    Income Group Country Name Year                   \n",
              "ABW          Latin America & Caribbean High income  Aruba        1960             NaN   \n",
              "                                                                 1961             NaN   \n",
              "                                                                 1962             NaN   \n",
              "                                                                 1963             NaN   \n",
              "                                                                 1964             NaN   \n",
              "\n",
              "Indicator Code                                                         AG.LND.AGRI.K2  \\\n",
              "Country Code Region                    Income Group Country Name Year                   \n",
              "ABW          Latin America & Caribbean High income  Aruba        1960             NaN   \n",
              "                                                                 1961            20.0   \n",
              "                                                                 1962            20.0   \n",
              "                                                                 1963            20.0   \n",
              "                                                                 1964            20.0   \n",
              "\n",
              "Indicator Code                                                         AG.LND.AGRI.ZS  \\\n",
              "Country Code Region                    Income Group Country Name Year                   \n",
              "ABW          Latin America & Caribbean High income  Aruba        1960             NaN   \n",
              "                                                                 1961       11.111111   \n",
              "                                                                 1962       11.111111   \n",
              "                                                                 1963       11.111111   \n",
              "                                                                 1964       11.111111   \n",
              "\n",
              "Indicator Code                                                         AG.LND.ARBL.HA  \\\n",
              "Country Code Region                    Income Group Country Name Year                   \n",
              "ABW          Latin America & Caribbean High income  Aruba        1960             NaN   \n",
              "                                                                 1961          2000.0   \n",
              "                                                                 1962          2000.0   \n",
              "                                                                 1963          2000.0   \n",
              "                                                                 1964          2000.0   \n",
              "\n",
              "Indicator Code                                                         AG.LND.ARBL.HA.PC  \\\n",
              "Country Code Region                    Income Group Country Name Year                      \n",
              "ABW          Latin America & Caribbean High income  Aruba        1960                NaN   \n",
              "                                                                 1961           0.036076   \n",
              "                                                                 1962           0.035571   \n",
              "                                                                 1963           0.035276   \n",
              "                                                                 1964           0.035068   \n",
              "\n",
              "Indicator Code                                                         AG.LND.ARBL.ZS  \\\n",
              "Country Code Region                    Income Group Country Name Year                   \n",
              "ABW          Latin America & Caribbean High income  Aruba        1960             NaN   \n",
              "                                                                 1961       11.111111   \n",
              "                                                                 1962       11.111111   \n",
              "                                                                 1963       11.111111   \n",
              "                                                                 1964       11.111111   \n",
              "\n",
              "Indicator Code                                                         AG.LND.CREL.HA  \\\n",
              "Country Code Region                    Income Group Country Name Year                   \n",
              "ABW          Latin America & Caribbean High income  Aruba        1960             NaN   \n",
              "                                                                 1961             NaN   \n",
              "                                                                 1962             NaN   \n",
              "                                                                 1963             NaN   \n",
              "                                                                 1964             NaN   \n",
              "\n",
              "Indicator Code                                                         AG.LND.CROP.ZS  \\\n",
              "Country Code Region                    Income Group Country Name Year                   \n",
              "ABW          Latin America & Caribbean High income  Aruba        1960             NaN   \n",
              "                                                                 1961             NaN   \n",
              "                                                                 1962             NaN   \n",
              "                                                                 1963             NaN   \n",
              "                                                                 1964             NaN   \n",
              "\n",
              "Indicator Code                                                         ...  \\\n",
              "Country Code Region                    Income Group Country Name Year  ...   \n",
              "ABW          Latin America & Caribbean High income  Aruba        1960  ...   \n",
              "                                                                 1961  ...   \n",
              "                                                                 1962  ...   \n",
              "                                                                 1963  ...   \n",
              "                                                                 1964  ...   \n",
              "\n",
              "Indicator Code                                                         per_sa_allsa.cov_q4_tot  \\\n",
              "Country Code Region                    Income Group Country Name Year                            \n",
              "ABW          Latin America & Caribbean High income  Aruba        1960                      NaN   \n",
              "                                                                 1961                      NaN   \n",
              "                                                                 1962                      NaN   \n",
              "                                                                 1963                      NaN   \n",
              "                                                                 1964                      NaN   \n",
              "\n",
              "Indicator Code                                                         per_sa_allsa.cov_q5_tot  \\\n",
              "Country Code Region                    Income Group Country Name Year                            \n",
              "ABW          Latin America & Caribbean High income  Aruba        1960                      NaN   \n",
              "                                                                 1961                      NaN   \n",
              "                                                                 1962                      NaN   \n",
              "                                                                 1963                      NaN   \n",
              "                                                                 1964                      NaN   \n",
              "\n",
              "Indicator Code                                                         per_si_allsi.adq_pop_tot  \\\n",
              "Country Code Region                    Income Group Country Name Year                             \n",
              "ABW          Latin America & Caribbean High income  Aruba        1960                       NaN   \n",
              "                                                                 1961                       NaN   \n",
              "                                                                 1962                       NaN   \n",
              "                                                                 1963                       NaN   \n",
              "                                                                 1964                       NaN   \n",
              "\n",
              "Indicator Code                                                         per_si_allsi.ben_q1_tot  \\\n",
              "Country Code Region                    Income Group Country Name Year                            \n",
              "ABW          Latin America & Caribbean High income  Aruba        1960                      NaN   \n",
              "                                                                 1961                      NaN   \n",
              "                                                                 1962                      NaN   \n",
              "                                                                 1963                      NaN   \n",
              "                                                                 1964                      NaN   \n",
              "\n",
              "Indicator Code                                                         per_si_allsi.cov_pop_tot  \\\n",
              "Country Code Region                    Income Group Country Name Year                             \n",
              "ABW          Latin America & Caribbean High income  Aruba        1960                       NaN   \n",
              "                                                                 1961                       NaN   \n",
              "                                                                 1962                       NaN   \n",
              "                                                                 1963                       NaN   \n",
              "                                                                 1964                       NaN   \n",
              "\n",
              "Indicator Code                                                         per_si_allsi.cov_q1_tot  \\\n",
              "Country Code Region                    Income Group Country Name Year                            \n",
              "ABW          Latin America & Caribbean High income  Aruba        1960                      NaN   \n",
              "                                                                 1961                      NaN   \n",
              "                                                                 1962                      NaN   \n",
              "                                                                 1963                      NaN   \n",
              "                                                                 1964                      NaN   \n",
              "\n",
              "Indicator Code                                                         per_si_allsi.cov_q2_tot  \\\n",
              "Country Code Region                    Income Group Country Name Year                            \n",
              "ABW          Latin America & Caribbean High income  Aruba        1960                      NaN   \n",
              "                                                                 1961                      NaN   \n",
              "                                                                 1962                      NaN   \n",
              "                                                                 1963                      NaN   \n",
              "                                                                 1964                      NaN   \n",
              "\n",
              "Indicator Code                                                         per_si_allsi.cov_q3_tot  \\\n",
              "Country Code Region                    Income Group Country Name Year                            \n",
              "ABW          Latin America & Caribbean High income  Aruba        1960                      NaN   \n",
              "                                                                 1961                      NaN   \n",
              "                                                                 1962                      NaN   \n",
              "                                                                 1963                      NaN   \n",
              "                                                                 1964                      NaN   \n",
              "\n",
              "Indicator Code                                                         per_si_allsi.cov_q4_tot  \\\n",
              "Country Code Region                    Income Group Country Name Year                            \n",
              "ABW          Latin America & Caribbean High income  Aruba        1960                      NaN   \n",
              "                                                                 1961                      NaN   \n",
              "                                                                 1962                      NaN   \n",
              "                                                                 1963                      NaN   \n",
              "                                                                 1964                      NaN   \n",
              "\n",
              "Indicator Code                                                         per_si_allsi.cov_q5_tot  \n",
              "Country Code Region                    Income Group Country Name Year                           \n",
              "ABW          Latin America & Caribbean High income  Aruba        1960                      NaN  \n",
              "                                                                 1961                      NaN  \n",
              "                                                                 1962                      NaN  \n",
              "                                                                 1963                      NaN  \n",
              "                                                                 1964                      NaN  \n",
              "\n",
              "[5 rows x 1434 columns]"
            ]
          },
          "metadata": {
            "tags": []
          },
          "execution_count": 92
        }
      ]
    },
    {
      "cell_type": "code",
      "metadata": {
        "id": "XM_UgN-0n1-m",
        "outputId": "c741a0fa-3c02-4917-9bf4-9cb937a8f062"
      },
      "source": [
        "df_pivot.reset_index(inplace=True)\n",
        "df_pivot.head()"
      ],
      "execution_count": null,
      "outputs": [
        {
          "output_type": "execute_result",
          "data": {
            "text/html": [
              "<div>\n",
              "<style scoped>\n",
              "    .dataframe tbody tr th:only-of-type {\n",
              "        vertical-align: middle;\n",
              "    }\n",
              "\n",
              "    .dataframe tbody tr th {\n",
              "        vertical-align: top;\n",
              "    }\n",
              "\n",
              "    .dataframe thead th {\n",
              "        text-align: right;\n",
              "    }\n",
              "</style>\n",
              "<table border=\"1\" class=\"dataframe\">\n",
              "  <thead>\n",
              "    <tr style=\"text-align: right;\">\n",
              "      <th>Indicator Code</th>\n",
              "      <th>Country Code</th>\n",
              "      <th>Region</th>\n",
              "      <th>Income Group</th>\n",
              "      <th>Country Name</th>\n",
              "      <th>Year</th>\n",
              "      <th>AG.AGR.TRAC.NO</th>\n",
              "      <th>AG.CON.FERT.PT.ZS</th>\n",
              "      <th>AG.CON.FERT.ZS</th>\n",
              "      <th>AG.LND.AGRI.K2</th>\n",
              "      <th>AG.LND.AGRI.ZS</th>\n",
              "      <th>...</th>\n",
              "      <th>per_sa_allsa.cov_q4_tot</th>\n",
              "      <th>per_sa_allsa.cov_q5_tot</th>\n",
              "      <th>per_si_allsi.adq_pop_tot</th>\n",
              "      <th>per_si_allsi.ben_q1_tot</th>\n",
              "      <th>per_si_allsi.cov_pop_tot</th>\n",
              "      <th>per_si_allsi.cov_q1_tot</th>\n",
              "      <th>per_si_allsi.cov_q2_tot</th>\n",
              "      <th>per_si_allsi.cov_q3_tot</th>\n",
              "      <th>per_si_allsi.cov_q4_tot</th>\n",
              "      <th>per_si_allsi.cov_q5_tot</th>\n",
              "    </tr>\n",
              "  </thead>\n",
              "  <tbody>\n",
              "    <tr>\n",
              "      <th>0</th>\n",
              "      <td>ABW</td>\n",
              "      <td>Latin America &amp; Caribbean</td>\n",
              "      <td>High income</td>\n",
              "      <td>Aruba</td>\n",
              "      <td>1960</td>\n",
              "      <td>NaN</td>\n",
              "      <td>NaN</td>\n",
              "      <td>NaN</td>\n",
              "      <td>NaN</td>\n",
              "      <td>NaN</td>\n",
              "      <td>...</td>\n",
              "      <td>NaN</td>\n",
              "      <td>NaN</td>\n",
              "      <td>NaN</td>\n",
              "      <td>NaN</td>\n",
              "      <td>NaN</td>\n",
              "      <td>NaN</td>\n",
              "      <td>NaN</td>\n",
              "      <td>NaN</td>\n",
              "      <td>NaN</td>\n",
              "      <td>NaN</td>\n",
              "    </tr>\n",
              "    <tr>\n",
              "      <th>1</th>\n",
              "      <td>ABW</td>\n",
              "      <td>Latin America &amp; Caribbean</td>\n",
              "      <td>High income</td>\n",
              "      <td>Aruba</td>\n",
              "      <td>1961</td>\n",
              "      <td>NaN</td>\n",
              "      <td>NaN</td>\n",
              "      <td>NaN</td>\n",
              "      <td>20.0</td>\n",
              "      <td>11.111111</td>\n",
              "      <td>...</td>\n",
              "      <td>NaN</td>\n",
              "      <td>NaN</td>\n",
              "      <td>NaN</td>\n",
              "      <td>NaN</td>\n",
              "      <td>NaN</td>\n",
              "      <td>NaN</td>\n",
              "      <td>NaN</td>\n",
              "      <td>NaN</td>\n",
              "      <td>NaN</td>\n",
              "      <td>NaN</td>\n",
              "    </tr>\n",
              "    <tr>\n",
              "      <th>2</th>\n",
              "      <td>ABW</td>\n",
              "      <td>Latin America &amp; Caribbean</td>\n",
              "      <td>High income</td>\n",
              "      <td>Aruba</td>\n",
              "      <td>1962</td>\n",
              "      <td>NaN</td>\n",
              "      <td>NaN</td>\n",
              "      <td>NaN</td>\n",
              "      <td>20.0</td>\n",
              "      <td>11.111111</td>\n",
              "      <td>...</td>\n",
              "      <td>NaN</td>\n",
              "      <td>NaN</td>\n",
              "      <td>NaN</td>\n",
              "      <td>NaN</td>\n",
              "      <td>NaN</td>\n",
              "      <td>NaN</td>\n",
              "      <td>NaN</td>\n",
              "      <td>NaN</td>\n",
              "      <td>NaN</td>\n",
              "      <td>NaN</td>\n",
              "    </tr>\n",
              "    <tr>\n",
              "      <th>3</th>\n",
              "      <td>ABW</td>\n",
              "      <td>Latin America &amp; Caribbean</td>\n",
              "      <td>High income</td>\n",
              "      <td>Aruba</td>\n",
              "      <td>1963</td>\n",
              "      <td>NaN</td>\n",
              "      <td>NaN</td>\n",
              "      <td>NaN</td>\n",
              "      <td>20.0</td>\n",
              "      <td>11.111111</td>\n",
              "      <td>...</td>\n",
              "      <td>NaN</td>\n",
              "      <td>NaN</td>\n",
              "      <td>NaN</td>\n",
              "      <td>NaN</td>\n",
              "      <td>NaN</td>\n",
              "      <td>NaN</td>\n",
              "      <td>NaN</td>\n",
              "      <td>NaN</td>\n",
              "      <td>NaN</td>\n",
              "      <td>NaN</td>\n",
              "    </tr>\n",
              "    <tr>\n",
              "      <th>4</th>\n",
              "      <td>ABW</td>\n",
              "      <td>Latin America &amp; Caribbean</td>\n",
              "      <td>High income</td>\n",
              "      <td>Aruba</td>\n",
              "      <td>1964</td>\n",
              "      <td>NaN</td>\n",
              "      <td>NaN</td>\n",
              "      <td>NaN</td>\n",
              "      <td>20.0</td>\n",
              "      <td>11.111111</td>\n",
              "      <td>...</td>\n",
              "      <td>NaN</td>\n",
              "      <td>NaN</td>\n",
              "      <td>NaN</td>\n",
              "      <td>NaN</td>\n",
              "      <td>NaN</td>\n",
              "      <td>NaN</td>\n",
              "      <td>NaN</td>\n",
              "      <td>NaN</td>\n",
              "      <td>NaN</td>\n",
              "      <td>NaN</td>\n",
              "    </tr>\n",
              "  </tbody>\n",
              "</table>\n",
              "<p>5 rows × 1439 columns</p>\n",
              "</div>"
            ],
            "text/plain": [
              "Indicator Code Country Code                     Region Income Group  \\\n",
              "0                       ABW  Latin America & Caribbean  High income   \n",
              "1                       ABW  Latin America & Caribbean  High income   \n",
              "2                       ABW  Latin America & Caribbean  High income   \n",
              "3                       ABW  Latin America & Caribbean  High income   \n",
              "4                       ABW  Latin America & Caribbean  High income   \n",
              "\n",
              "Indicator Code Country Name  Year  AG.AGR.TRAC.NO  AG.CON.FERT.PT.ZS  \\\n",
              "0                     Aruba  1960             NaN                NaN   \n",
              "1                     Aruba  1961             NaN                NaN   \n",
              "2                     Aruba  1962             NaN                NaN   \n",
              "3                     Aruba  1963             NaN                NaN   \n",
              "4                     Aruba  1964             NaN                NaN   \n",
              "\n",
              "Indicator Code  AG.CON.FERT.ZS  AG.LND.AGRI.K2  AG.LND.AGRI.ZS  ...  \\\n",
              "0                          NaN             NaN             NaN  ...   \n",
              "1                          NaN            20.0       11.111111  ...   \n",
              "2                          NaN            20.0       11.111111  ...   \n",
              "3                          NaN            20.0       11.111111  ...   \n",
              "4                          NaN            20.0       11.111111  ...   \n",
              "\n",
              "Indicator Code  per_sa_allsa.cov_q4_tot  per_sa_allsa.cov_q5_tot  \\\n",
              "0                                   NaN                      NaN   \n",
              "1                                   NaN                      NaN   \n",
              "2                                   NaN                      NaN   \n",
              "3                                   NaN                      NaN   \n",
              "4                                   NaN                      NaN   \n",
              "\n",
              "Indicator Code  per_si_allsi.adq_pop_tot  per_si_allsi.ben_q1_tot  \\\n",
              "0                                    NaN                      NaN   \n",
              "1                                    NaN                      NaN   \n",
              "2                                    NaN                      NaN   \n",
              "3                                    NaN                      NaN   \n",
              "4                                    NaN                      NaN   \n",
              "\n",
              "Indicator Code  per_si_allsi.cov_pop_tot  per_si_allsi.cov_q1_tot  \\\n",
              "0                                    NaN                      NaN   \n",
              "1                                    NaN                      NaN   \n",
              "2                                    NaN                      NaN   \n",
              "3                                    NaN                      NaN   \n",
              "4                                    NaN                      NaN   \n",
              "\n",
              "Indicator Code  per_si_allsi.cov_q2_tot  per_si_allsi.cov_q3_tot  \\\n",
              "0                                   NaN                      NaN   \n",
              "1                                   NaN                      NaN   \n",
              "2                                   NaN                      NaN   \n",
              "3                                   NaN                      NaN   \n",
              "4                                   NaN                      NaN   \n",
              "\n",
              "Indicator Code  per_si_allsi.cov_q4_tot  per_si_allsi.cov_q5_tot  \n",
              "0                                   NaN                      NaN  \n",
              "1                                   NaN                      NaN  \n",
              "2                                   NaN                      NaN  \n",
              "3                                   NaN                      NaN  \n",
              "4                                   NaN                      NaN  \n",
              "\n",
              "[5 rows x 1439 columns]"
            ]
          },
          "metadata": {
            "tags": []
          },
          "execution_count": 93
        }
      ]
    },
    {
      "cell_type": "code",
      "metadata": {
        "id": "C4SPqpKon1-p",
        "outputId": "8d34921a-fa76-41e8-9983-023497515ed0"
      },
      "source": [
        "df_pivot.shape"
      ],
      "execution_count": null,
      "outputs": [
        {
          "output_type": "execute_result",
          "data": {
            "text/plain": [
              "(13231, 1439)"
            ]
          },
          "metadata": {
            "tags": []
          },
          "execution_count": 94
        }
      ]
    },
    {
      "cell_type": "code",
      "metadata": {
        "id": "5CYBuIS9n1-3"
      },
      "source": [
        "df_pivot.to_csv(\"../data_output/world_dev_indicator_pivot.csv\", index=False)"
      ],
      "execution_count": null,
      "outputs": []
    },
    {
      "cell_type": "code",
      "metadata": {
        "id": "J4A1TFz4n1_A"
      },
      "source": [
        "df_pivot.query(\"Year>'2015'\").to_csv(\"../data_output/world_dev_indicator_pivot_2015plus.csv\", index=False)"
      ],
      "execution_count": null,
      "outputs": []
    }
  ]
}