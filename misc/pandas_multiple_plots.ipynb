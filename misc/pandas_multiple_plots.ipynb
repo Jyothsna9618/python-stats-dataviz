{
  "nbformat": 4,
  "nbformat_minor": 0,
  "metadata": {
    "orig_nbformat": 2,
    "deepnote_notebook_id": "4b8241f4-f25f-4842-8626-f2afb6814319",
    "deepnote_execution_queue": [],
    "colab": {
      "name": "pandas_multiple_plots.ipynb",
      "provenance": [],
      "include_colab_link": true
    },
    "kernelspec": {
      "name": "python3",
      "display_name": "Python 3"
    }
  },
  "cells": [
    {
      "cell_type": "markdown",
      "metadata": {
        "id": "view-in-github",
        "colab_type": "text"
      },
      "source": [
        "<a href=\"https://colab.research.google.com/github/wcj365/python-stats-dataviz/blob/master/pandas_multiple_plots.ipynb\" target=\"_parent\"><img src=\"https://colab.research.google.com/assets/colab-badge.svg\" alt=\"Open In Colab\"/></a>"
      ]
    },
    {
      "cell_type": "code",
      "metadata": {
        "tags": [],
        "cell_id": "00000-a5203170-4cd5-45b3-9640-012c4a8e1278",
        "output_cleared": false,
        "source_hash": "cf893285",
        "execution_start": 1604622307879,
        "execution_millis": 452,
        "id": "i6WUHq35CZnt"
      },
      "source": [
        "import matplotlib.pyplot as plt\n",
        "import pandas as pd"
      ],
      "execution_count": 1,
      "outputs": []
    },
    {
      "cell_type": "code",
      "metadata": {
        "tags": [],
        "cell_id": "00001-29d695ea-69aa-4bbe-b0fa-8be5971ab5b0",
        "output_cleared": false,
        "source_hash": "df7ce607",
        "execution_millis": 1,
        "execution_start": 1604623101495,
        "id": "w5-zbHE-CZoR",
        "outputId": "affeaad7-cd13-4646-f4d0-acec7e9cb6f3",
        "colab": {
          "base_uri": "https://localhost:8080/",
          "height": 204
        }
      },
      "source": [
        "df = pd.read_csv(\"census_cost.csv\")\n",
        "df.head()"
      ],
      "execution_count": 2,
      "outputs": [
        {
          "output_type": "execute_result",
          "data": {
            "text/html": [
              "<div>\n",
              "<style scoped>\n",
              "    .dataframe tbody tr th:only-of-type {\n",
              "        vertical-align: middle;\n",
              "    }\n",
              "\n",
              "    .dataframe tbody tr th {\n",
              "        vertical-align: top;\n",
              "    }\n",
              "\n",
              "    .dataframe thead th {\n",
              "        text-align: right;\n",
              "    }\n",
              "</style>\n",
              "<table border=\"1\" class=\"dataframe\">\n",
              "  <thead>\n",
              "    <tr style=\"text-align: right;\">\n",
              "      <th></th>\n",
              "      <th>Census Year</th>\n",
              "      <th>Total Population</th>\n",
              "      <th>Census Cost</th>\n",
              "      <th>Average Cost Per Person</th>\n",
              "    </tr>\n",
              "  </thead>\n",
              "  <tbody>\n",
              "    <tr>\n",
              "      <th>0</th>\n",
              "      <td>1790</td>\n",
              "      <td>3929214</td>\n",
              "      <td>44377</td>\n",
              "      <td>0.0113</td>\n",
              "    </tr>\n",
              "    <tr>\n",
              "      <th>1</th>\n",
              "      <td>1800</td>\n",
              "      <td>5308483</td>\n",
              "      <td>66109</td>\n",
              "      <td>0.0124</td>\n",
              "    </tr>\n",
              "    <tr>\n",
              "      <th>2</th>\n",
              "      <td>1810</td>\n",
              "      <td>7239881</td>\n",
              "      <td>178445</td>\n",
              "      <td>0.0246</td>\n",
              "    </tr>\n",
              "    <tr>\n",
              "      <th>3</th>\n",
              "      <td>1820</td>\n",
              "      <td>9633822</td>\n",
              "      <td>208526</td>\n",
              "      <td>0.0216</td>\n",
              "    </tr>\n",
              "    <tr>\n",
              "      <th>4</th>\n",
              "      <td>1830</td>\n",
              "      <td>12866020</td>\n",
              "      <td>378545</td>\n",
              "      <td>0.0294</td>\n",
              "    </tr>\n",
              "  </tbody>\n",
              "</table>\n",
              "</div>"
            ],
            "text/plain": [
              "   Census Year  Total Population  Census Cost  Average Cost Per Person\n",
              "0         1790           3929214        44377                   0.0113\n",
              "1         1800           5308483        66109                   0.0124\n",
              "2         1810           7239881       178445                   0.0246\n",
              "3         1820           9633822       208526                   0.0216\n",
              "4         1830          12866020       378545                   0.0294"
            ]
          },
          "metadata": {
            "tags": []
          },
          "execution_count": 2
        }
      ]
    },
    {
      "cell_type": "code",
      "metadata": {
        "tags": [],
        "cell_id": "00002-3c2e97b1-d60a-4bfe-ac85-8b0b9a306889",
        "output_cleared": false,
        "source_hash": "da599c73",
        "execution_millis": 2,
        "execution_start": 1604623105413,
        "id": "ZOwYzGNeCZop",
        "outputId": "39e7bb38-94f2-419e-92df-653128cba87a",
        "colab": {
          "base_uri": "https://localhost:8080/",
          "height": 235
        }
      },
      "source": [
        "df.set_index(\"Census Year\", inplace=True)\n",
        "df.head()"
      ],
      "execution_count": 3,
      "outputs": [
        {
          "output_type": "execute_result",
          "data": {
            "text/html": [
              "<div>\n",
              "<style scoped>\n",
              "    .dataframe tbody tr th:only-of-type {\n",
              "        vertical-align: middle;\n",
              "    }\n",
              "\n",
              "    .dataframe tbody tr th {\n",
              "        vertical-align: top;\n",
              "    }\n",
              "\n",
              "    .dataframe thead th {\n",
              "        text-align: right;\n",
              "    }\n",
              "</style>\n",
              "<table border=\"1\" class=\"dataframe\">\n",
              "  <thead>\n",
              "    <tr style=\"text-align: right;\">\n",
              "      <th></th>\n",
              "      <th>Total Population</th>\n",
              "      <th>Census Cost</th>\n",
              "      <th>Average Cost Per Person</th>\n",
              "    </tr>\n",
              "    <tr>\n",
              "      <th>Census Year</th>\n",
              "      <th></th>\n",
              "      <th></th>\n",
              "      <th></th>\n",
              "    </tr>\n",
              "  </thead>\n",
              "  <tbody>\n",
              "    <tr>\n",
              "      <th>1790</th>\n",
              "      <td>3929214</td>\n",
              "      <td>44377</td>\n",
              "      <td>0.0113</td>\n",
              "    </tr>\n",
              "    <tr>\n",
              "      <th>1800</th>\n",
              "      <td>5308483</td>\n",
              "      <td>66109</td>\n",
              "      <td>0.0124</td>\n",
              "    </tr>\n",
              "    <tr>\n",
              "      <th>1810</th>\n",
              "      <td>7239881</td>\n",
              "      <td>178445</td>\n",
              "      <td>0.0246</td>\n",
              "    </tr>\n",
              "    <tr>\n",
              "      <th>1820</th>\n",
              "      <td>9633822</td>\n",
              "      <td>208526</td>\n",
              "      <td>0.0216</td>\n",
              "    </tr>\n",
              "    <tr>\n",
              "      <th>1830</th>\n",
              "      <td>12866020</td>\n",
              "      <td>378545</td>\n",
              "      <td>0.0294</td>\n",
              "    </tr>\n",
              "  </tbody>\n",
              "</table>\n",
              "</div>"
            ],
            "text/plain": [
              "             Total Population  Census Cost  Average Cost Per Person\n",
              "Census Year                                                        \n",
              "1790                  3929214        44377                   0.0113\n",
              "1800                  5308483        66109                   0.0124\n",
              "1810                  7239881       178445                   0.0246\n",
              "1820                  9633822       208526                   0.0216\n",
              "1830                 12866020       378545                   0.0294"
            ]
          },
          "metadata": {
            "tags": []
          },
          "execution_count": 3
        }
      ]
    },
    {
      "cell_type": "code",
      "metadata": {
        "tags": [],
        "cell_id": "00003-a9dc773a-60db-45b4-b69b-d39b23c64f23",
        "output_cleared": false,
        "source_hash": "83c74383",
        "execution_millis": 122,
        "execution_start": 1604623109216,
        "id": "eTVXxA-_CZo_",
        "outputId": "0dcf7856-1dd8-4a75-be1b-e5662dabdd96",
        "colab": {
          "base_uri": "https://localhost:8080/",
          "height": 514
        }
      },
      "source": [
        "df[\"Average Cost Per Person\"].plot(figsize=(12,8))"
      ],
      "execution_count": 4,
      "outputs": [
        {
          "output_type": "execute_result",
          "data": {
            "text/plain": [
              "<matplotlib.axes._subplots.AxesSubplot at 0x7f34d904ff60>"
            ]
          },
          "metadata": {
            "tags": []
          },
          "execution_count": 4
        },
        {
          "output_type": "display_data",
          "data": {
            "image/png": "[encoded data removed]",
            "text/plain": [
              "<Figure size 864x576 with 1 Axes>"
            ]
          },
          "metadata": {
            "tags": [],
            "needs_background": "light"
          }
        }
      ]
    },
    {
      "cell_type": "code",
      "metadata": {
        "tags": [],
        "cell_id": "00004-55e01f83-9280-4ffc-833b-b0828bc8b03e",
        "output_cleared": false,
        "source_hash": "33a3624b",
        "execution_millis": 88,
        "execution_start": 1604623146819,
        "id": "0M01VXjWCZpI",
        "outputId": "86cfef4d-cb89-4287-eb93-c85a6c8810e6",
        "colab": {
          "base_uri": "https://localhost:8080/",
          "height": 514
        }
      },
      "source": [
        "df[\"Total Population (mil)\"] = df[\"Total Population\"] / 1000000\n",
        "\n",
        "df[\"Total Population (mil)\"].plot(figsize=(12,8))"
      ],
      "execution_count": 5,
      "outputs": [
        {
          "output_type": "execute_result",
          "data": {
            "text/plain": [
              "<matplotlib.axes._subplots.AxesSubplot at 0x7f34d8af1f98>"
            ]
          },
          "metadata": {
            "tags": []
          },
          "execution_count": 5
        },
        {
          "output_type": "display_data",
          "data": {
            "image/png": "[encoded data removed]",
            "text/plain": [
              "<Figure size 864x576 with 1 Axes>"
            ]
          },
          "metadata": {
            "tags": [],
            "needs_background": "light"
          }
        }
      ]
    },
    {
      "cell_type": "code",
      "metadata": {
        "tags": [],
        "cell_id": "00005-499eb45c-1b7d-491d-b52c-8af6f5a19731",
        "output_cleared": false,
        "source_hash": "527937a6",
        "execution_start": 1604623632061,
        "execution_millis": 1,
        "id": "_Esxg94ICZpb"
      },
      "source": [
        "df[\"Census Cost (mil)\"] = df[\"Census Cost\"] / 1000000"
      ],
      "execution_count": 6,
      "outputs": []
    },
    {
      "cell_type": "code",
      "metadata": {
        "tags": [],
        "cell_id": "00000-f6d0c831-6a61-414b-9159-41f72be7baab",
        "output_cleared": false,
        "source_hash": "7c63f26",
        "execution_millis": 494,
        "execution_start": 1604623810723,
        "id": "6-JBgINSCZpv",
        "outputId": "e8ca5189-351a-413f-f909-8b33a710f212",
        "colab": {
          "base_uri": "https://localhost:8080/",
          "height": 585
        }
      },
      "source": [
        "fig, ax_list = plt.subplots(2,1,figsize=(12,8), sharex=True)  \n",
        "\n",
        "\n",
        "# Make a double bar plot of size\n",
        "\n",
        "df[\"Total Population (mil)\"].plot.bar(ax=ax_list[0])\n",
        "ax_list[0].set_title(\"Historical Total Population (million)\")\n",
        "ax_list[0].set_ylabel(\"Total Population (million)\")\n",
        "\n",
        "# Make a double line plot of size\n",
        "\n",
        "df[\"Average Cost Per Person\"].plot(ax=ax_list[1])\n",
        "ax_list[1].set_title(\"Historical Census Cost\")\n",
        "ax_list[1].set_ylabel(\"Census Cost (mil)\")\n",
        "\n",
        "fig.tight_layout()"
      ],
      "execution_count": 10,
      "outputs": [
        {
          "output_type": "display_data",
          "data": {
            "image/png": "[encoded data removed]",
            "text/plain": [
              "<Figure size 864x576 with 2 Axes>"
            ]
          },
          "metadata": {
            "tags": [],
            "needs_background": "light"
          }
        }
      ]
    }
  ]
}