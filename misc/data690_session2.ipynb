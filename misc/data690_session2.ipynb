{
  "nbformat": 4,
  "nbformat_minor": 0,
  "metadata": {
    "colab": {
      "name": "data690_session2.ipynb",
      "provenance": [],
      "authorship_tag": "ABX9TyOrnzBUdr+9lXayL67GuTUC",
      "include_colab_link": true
    },
    "kernelspec": {
      "name": "python3",
      "display_name": "Python 3"
    }
  },
  "cells": [
    {
      "cell_type": "markdown",
      "metadata": {
        "id": "view-in-github",
        "colab_type": "text"
      },
      "source": [
        "<a href=\"https://colab.research.google.com/github/wcj365/python-stats-dataviz/blob/master/data690_session2.ipynb\" target=\"_parent\"><img src=\"https://colab.research.google.com/assets/colab-badge.svg\" alt=\"Open In Colab\"/></a>"
      ]
    },
    {
      "cell_type": "markdown",
      "metadata": {
        "id": "fhDOWNYqYsTl",
        "colab_type": "text"
      },
      "source": [
        "# This is a test notebook."
      ]
    },
    {
      "cell_type": "code",
      "metadata": {
        "id": "LV61euWbYJqu",
        "colab_type": "code",
        "colab": {
          "base_uri": "https://localhost:8080/",
          "height": 51
        },
        "outputId": "271849fb-a1bd-47eb-c6c3-6b4df0667c4f"
      },
      "source": [
        "age = input(\"your age?\")\n",
        "print(\"hello world\", age)"
      ],
      "execution_count": 1,
      "outputs": [
        {
          "output_type": "stream",
          "text": [
            "your age?50\n",
            "hello world 50\n"
          ],
          "name": "stdout"
        }
      ]
    },
    {
      "cell_type": "markdown",
      "metadata": {
        "id": "cPotRnsoa07c",
        "colab_type": "text"
      },
      "source": [
        "# Learn Python Data Types"
      ]
    },
    {
      "cell_type": "code",
      "metadata": {
        "id": "B8yy_4Q0a73j",
        "colab_type": "code",
        "colab": {}
      },
      "source": [
        ""
      ],
      "execution_count": null,
      "outputs": []
    }
  ]
}