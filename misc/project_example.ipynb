{
  "nbformat": 4,
  "nbformat_minor": 0,
  "metadata": {
    "kernelspec": {
      "display_name": "Python 3",
      "language": "python",
      "name": "python3"
    },
    "language_info": {
      "codemirror_mode": {
        "name": "ipython",
        "version": 3
      },
      "file_extension": ".py",
      "mimetype": "text/x-python",
      "name": "python",
      "nbconvert_exporter": "python",
      "pygments_lexer": "ipython3",
      "version": "3.6.3"
    },
    "deepnote_notebook_id": "2ec604a9-313a-4e70-8d27-aefe0fa2fdfe",
    "deepnote_execution_queue": [],
    "colab": {
      "name": "notebook.ipynb",
      "provenance": [],
      "include_colab_link": true
    }
  },
  "cells": [
    {
      "cell_type": "markdown",
      "metadata": {
        "id": "view-in-github",
        "colab_type": "text"
      },
      "source": [
        "<a href=\"https://colab.research.google.com/github/wcj365/python-stats-dataviz/blob/master/project_example.ipynb\" target=\"_parent\"><img src=\"https://colab.research.google.com/assets/colab-badge.svg\" alt=\"Open In Colab\"/></a>"
      ]
    },
    {
      "cell_type": "markdown",
      "metadata": {
        "tags": [],
        "cell_id": "00000-340ed873-12fa-4777-b422-5f9e23b772e1",
        "id": "VF47Qj11vGbF"
      },
      "source": [
        "# Pandas Group By\n",
        "This notebook demonstrates the following features of Pandas:\n",
        "- Read selected columns (*usecols*)\n",
        "- Identify missing values (*isnull*)\n",
        "- Drop rows with missing values (*dropna*)\n",
        "- Summarize numeric columns by groups (*grouopby*) \n",
        "- Sort by column values (*sort_values*)\n",
        "- Pandas visualization (*bar chart, scatter plot*)\n",
        "- Pandas visualization backend (*plotly, matplotlib, etc.*)"
      ]
    },
    {
      "cell_type": "markdown",
      "metadata": {
        "tags": [],
        "cell_id": "00001-54aa4dcb-9a6b-4b42-8696-88a20c051a49",
        "id": "21R1yE4KvGbG"
      },
      "source": [
        "## Step 1 - Install and Import Libraries"
      ]
    },
    {
      "cell_type": "markdown",
      "metadata": {
        "tags": [],
        "cell_id": "00001-0b4d6015-795d-430b-8fc4-d9c5b6ee7a3d",
        "id": "sH-qARxhvGbG"
      },
      "source": [
        "### 1.1 - Install Plotly \n",
        "Plotly is an interactive visualization library and can be utilized as the backend\n",
        "for Pandas. Pandas support multiple visualization backends. For example, matplotlib,\n",
        "seaborn, plotly, bokeh are all supported."
      ]
    },
    {
      "cell_type": "code",
      "metadata": {
        "tags": [],
        "cell_id": "00000-a7a672cd-14ef-4901-96ef-c34e52080d2c",
        "output_cleared": false,
        "source_hash": "ca7ec5e5",
        "execution_start": 1603071971881,
        "execution_millis": 25756,
        "id": "ZVkAXsfqvGbH",
        "outputId": "7c79533a-61a9-4d54-ab50-da918dd8c159",
        "colab": {
          "base_uri": "https://localhost:8080/",
          "height": 748
        }
      },
      "source": [
        "!pip install plotly\n",
        "!pip install \"notebook>=5.3\" \"ipywidgets>=7.2\""
      ],
      "execution_count": 19,
      "outputs": [
        {
          "output_type": "stream",
          "text": [
            "Requirement already satisfied: plotly in /usr/local/lib/python3.6/dist-packages (4.4.1)\n",
            "Requirement already satisfied: retrying>=1.3.3 in /usr/local/lib/python3.6/dist-packages (from plotly) (1.3.3)\n",
            "Requirement already satisfied: six in /usr/local/lib/python3.6/dist-packages (from plotly) (1.15.0)\n",
            "Requirement already satisfied: notebook>=5.3 in /usr/local/lib/python3.6/dist-packages (5.3.1)\n",
            "Requirement already satisfied: ipywidgets>=7.2 in /usr/local/lib/python3.6/dist-packages (7.5.1)\n",
            "Requirement already satisfied: ipykernel in /usr/local/lib/python3.6/dist-packages (from notebook>=5.3) (4.10.1)\n",
            "Requirement already satisfied: jinja2 in /usr/local/lib/python3.6/dist-packages (from notebook>=5.3) (2.11.2)\n",
            "Requirement already satisfied: jupyter-core>=4.4.0 in /usr/local/lib/python3.6/dist-packages (from notebook>=5.3) (4.6.3)\n",
            "Requirement already satisfied: jupyter-client>=5.2.0 in /usr/local/lib/python3.6/dist-packages (from notebook>=5.3) (5.3.5)\n",
            "Requirement already satisfied: terminado>=0.8.1 in /usr/local/lib/python3.6/dist-packages (from notebook>=5.3) (0.9.1)\n",
            "Requirement already satisfied: traitlets>=4.2.1 in /usr/local/lib/python3.6/dist-packages (from notebook>=5.3) (4.3.3)\n",
            "Requirement already satisfied: nbformat in /usr/local/lib/python3.6/dist-packages (from notebook>=5.3) (5.0.7)\n",
            "Requirement already satisfied: ipython-genutils in /usr/local/lib/python3.6/dist-packages (from notebook>=5.3) (0.2.0)\n",
            "Requirement already satisfied: tornado>=4 in /usr/local/lib/python3.6/dist-packages (from notebook>=5.3) (5.1.1)\n",
            "Requirement already satisfied: Send2Trash in /usr/local/lib/python3.6/dist-packages (from notebook>=5.3) (1.5.0)\n",
            "Requirement already satisfied: nbconvert in /usr/local/lib/python3.6/dist-packages (from notebook>=5.3) (5.6.1)\n",
            "Requirement already satisfied: ipython>=4.0.0; python_version >= \"3.3\" in /usr/local/lib/python3.6/dist-packages (from ipywidgets>=7.2) (5.5.0)\n",
            "Requirement already satisfied: widgetsnbextension~=3.5.0 in /usr/local/lib/python3.6/dist-packages (from ipywidgets>=7.2) (3.5.1)\n",
            "Requirement already satisfied: MarkupSafe>=0.23 in /usr/local/lib/python3.6/dist-packages (from jinja2->notebook>=5.3) (1.1.1)\n",
            "Requirement already satisfied: python-dateutil>=2.1 in /usr/local/lib/python3.6/dist-packages (from jupyter-client>=5.2.0->notebook>=5.3) (2.8.1)\n",
            "Requirement already satisfied: pyzmq>=13 in /usr/local/lib/python3.6/dist-packages (from jupyter-client>=5.2.0->notebook>=5.3) (19.0.2)\n",
            "Requirement already satisfied: ptyprocess; os_name != \"nt\" in /usr/local/lib/python3.6/dist-packages (from terminado>=0.8.1->notebook>=5.3) (0.6.0)\n",
            "Requirement already satisfied: decorator in /usr/local/lib/python3.6/dist-packages (from traitlets>=4.2.1->notebook>=5.3) (4.4.2)\n",
            "Requirement already satisfied: six in /usr/local/lib/python3.6/dist-packages (from traitlets>=4.2.1->notebook>=5.3) (1.15.0)\n",
            "Requirement already satisfied: jsonschema!=2.5.0,>=2.4 in /usr/local/lib/python3.6/dist-packages (from nbformat->notebook>=5.3) (2.6.0)\n",
            "Requirement already satisfied: testpath in /usr/local/lib/python3.6/dist-packages (from nbconvert->notebook>=5.3) (0.4.4)\n",
            "Requirement already satisfied: pandocfilters>=1.4.1 in /usr/local/lib/python3.6/dist-packages (from nbconvert->notebook>=5.3) (1.4.2)\n",
            "Requirement already satisfied: defusedxml in /usr/local/lib/python3.6/dist-packages (from nbconvert->notebook>=5.3) (0.6.0)\n",
            "Requirement already satisfied: mistune<2,>=0.8.1 in /usr/local/lib/python3.6/dist-packages (from nbconvert->notebook>=5.3) (0.8.4)\n",
            "Requirement already satisfied: entrypoints>=0.2.2 in /usr/local/lib/python3.6/dist-packages (from nbconvert->notebook>=5.3) (0.3)\n",
            "Requirement already satisfied: bleach in /usr/local/lib/python3.6/dist-packages (from nbconvert->notebook>=5.3) (3.2.1)\n",
            "Requirement already satisfied: pygments in /usr/local/lib/python3.6/dist-packages (from nbconvert->notebook>=5.3) (2.6.1)\n",
            "Requirement already satisfied: pexpect; sys_platform != \"win32\" in /usr/local/lib/python3.6/dist-packages (from ipython>=4.0.0; python_version >= \"3.3\"->ipywidgets>=7.2) (4.8.0)\n",
            "Requirement already satisfied: pickleshare in /usr/local/lib/python3.6/dist-packages (from ipython>=4.0.0; python_version >= \"3.3\"->ipywidgets>=7.2) (0.7.5)\n",
            "Requirement already satisfied: setuptools>=18.5 in /usr/local/lib/python3.6/dist-packages (from ipython>=4.0.0; python_version >= \"3.3\"->ipywidgets>=7.2) (50.3.0)\n",
            "Requirement already satisfied: prompt-toolkit<2.0.0,>=1.0.4 in /usr/local/lib/python3.6/dist-packages (from ipython>=4.0.0; python_version >= \"3.3\"->ipywidgets>=7.2) (1.0.18)\n",
            "Requirement already satisfied: simplegeneric>0.8 in /usr/local/lib/python3.6/dist-packages (from ipython>=4.0.0; python_version >= \"3.3\"->ipywidgets>=7.2) (0.8.1)\n",
            "Requirement already satisfied: packaging in /usr/local/lib/python3.6/dist-packages (from bleach->nbconvert->notebook>=5.3) (20.4)\n",
            "Requirement already satisfied: webencodings in /usr/local/lib/python3.6/dist-packages (from bleach->nbconvert->notebook>=5.3) (0.5.1)\n",
            "Requirement already satisfied: wcwidth in /usr/local/lib/python3.6/dist-packages (from prompt-toolkit<2.0.0,>=1.0.4->ipython>=4.0.0; python_version >= \"3.3\"->ipywidgets>=7.2) (0.2.5)\n",
            "Requirement already satisfied: pyparsing>=2.0.2 in /usr/local/lib/python3.6/dist-packages (from packaging->bleach->nbconvert->notebook>=5.3) (2.4.7)\n"
          ],
          "name": "stdout"
        }
      ]
    },
    {
      "cell_type": "markdown",
      "metadata": {
        "tags": [],
        "cell_id": "00004-42a950bd-234d-4787-b09c-62a05e6d54a8",
        "id": "ckme2HfHvGbM"
      },
      "source": [
        "### 1.2 - Import pandas"
      ]
    },
    {
      "cell_type": "code",
      "metadata": {
        "cell_id": "00000-68b44bb5-5b07-43d9-823e-ef436f33a9a4",
        "output_cleared": false,
        "source_hash": "320c015a",
        "execution_millis": 1,
        "execution_start": 1603073279736,
        "id": "rRD-MglEvGbM",
        "outputId": "5fad5bc5-23a2-484d-9f9f-8bb222ec0831",
        "colab": {
          "base_uri": "https://localhost:8080/",
          "height": 35
        }
      },
      "source": [
        "import pandas as pd\n",
        "\n",
        "print(f\"pd.__version__ = {pd.__version__}\")"
      ],
      "execution_count": 2,
      "outputs": [
        {
          "output_type": "stream",
          "text": [
            "pd.__version__ = 1.1.2\n"
          ],
          "name": "stdout"
        }
      ]
    },
    {
      "cell_type": "markdown",
      "metadata": {
        "tags": [],
        "cell_id": "00003-3809f27f-665e-4153-97e5-fc072df28ebf",
        "id": "V9aX0LKUvGbP"
      },
      "source": [
        "## Step 2. Read Data \n",
        "We will read data directly from the web link. Since the dataset has almost \n",
        "2000 columns, we only read a selected list of columns of interest."
      ]
    },
    {
      "cell_type": "code",
      "metadata": {
        "tags": [],
        "cell_id": "00001-d4d1ab6e-97f8-4290-b514-f28cba089603",
        "output_cleared": false,
        "source_hash": "633be3b0",
        "execution_millis": 7170,
        "execution_start": 1603073577524,
        "id": "g0yHVEFvvGbQ",
        "outputId": "0c7b2bfd-1964-4243-f37b-60f7281e8378",
        "colab": {
          "base_uri": "https://localhost:8080/",
          "height": 35
        }
      },
      "source": [
        "DATA_URL = \"https://data.ed.gov/dataset/9dc70e6b-8426-4d71-b9d5-70ce6094a3f4/resource/823ac095-bdfc-41b0-b508-4e8fc3110082/download/most-recent-cohorts-all-data-elements-1.csv\"\n",
        "COLUMN_LIST = ['UNITID','INSTNM', 'CONTROL','CITY', 'STABBR','ST_FIPS', 'ZIP', 'TUITIONFEE_IN','ADM_RATE','MD_EARN_WNE_P10']\n",
        "\n",
        "df = pd.read_csv(DATA_URL, usecols=COLUMN_LIST)\n",
        "df.shape"
      ],
      "execution_count": 3,
      "outputs": [
        {
          "output_type": "execute_result",
          "data": {
            "text/plain": [
              "(6806, 10)"
            ]
          },
          "metadata": {
            "tags": []
          },
          "execution_count": 3
        }
      ]
    },
    {
      "cell_type": "code",
      "metadata": {
        "tags": [],
        "cell_id": "00002-07a9430a-459b-4cf9-9401-903c6d66df80",
        "output_cleared": false,
        "source_hash": "c085b6ba",
        "execution_millis": 130,
        "execution_start": 1603073495836,
        "id": "vXaS8D-ovGbT",
        "outputId": "d827515f-cbdc-4a96-cc99-4a595ac4804f",
        "colab": {
          "base_uri": "https://localhost:8080/",
          "height": 202
        }
      },
      "source": [
        "df.head()"
      ],
      "execution_count": 4,
      "outputs": [
        {
          "output_type": "execute_result",
          "data": {
            "text/html": [
              "<div>\n",
              "<style scoped>\n",
              "    .dataframe tbody tr th:only-of-type {\n",
              "        vertical-align: middle;\n",
              "    }\n",
              "\n",
              "    .dataframe tbody tr th {\n",
              "        vertical-align: top;\n",
              "    }\n",
              "\n",
              "    .dataframe thead th {\n",
              "        text-align: right;\n",
              "    }\n",
              "</style>\n",
              "<table border=\"1\" class=\"dataframe\">\n",
              "  <thead>\n",
              "    <tr style=\"text-align: right;\">\n",
              "      <th></th>\n",
              "      <th>UNITID</th>\n",
              "      <th>INSTNM</th>\n",
              "      <th>CITY</th>\n",
              "      <th>STABBR</th>\n",
              "      <th>ZIP</th>\n",
              "      <th>CONTROL</th>\n",
              "      <th>ST_FIPS</th>\n",
              "      <th>ADM_RATE</th>\n",
              "      <th>TUITIONFEE_IN</th>\n",
              "      <th>MD_EARN_WNE_P10</th>\n",
              "    </tr>\n",
              "  </thead>\n",
              "  <tbody>\n",
              "    <tr>\n",
              "      <th>0</th>\n",
              "      <td>100654</td>\n",
              "      <td>Alabama A &amp; M University</td>\n",
              "      <td>Normal</td>\n",
              "      <td>AL</td>\n",
              "      <td>35762</td>\n",
              "      <td>1</td>\n",
              "      <td>1</td>\n",
              "      <td>0.8986</td>\n",
              "      <td>9744.0</td>\n",
              "      <td>31000</td>\n",
              "    </tr>\n",
              "    <tr>\n",
              "      <th>1</th>\n",
              "      <td>100663</td>\n",
              "      <td>University of Alabama at Birmingham</td>\n",
              "      <td>Birmingham</td>\n",
              "      <td>AL</td>\n",
              "      <td>35294-0110</td>\n",
              "      <td>1</td>\n",
              "      <td>1</td>\n",
              "      <td>0.9211</td>\n",
              "      <td>8568.0</td>\n",
              "      <td>41200</td>\n",
              "    </tr>\n",
              "    <tr>\n",
              "      <th>2</th>\n",
              "      <td>100690</td>\n",
              "      <td>Amridge University</td>\n",
              "      <td>Montgomery</td>\n",
              "      <td>AL</td>\n",
              "      <td>36117-3553</td>\n",
              "      <td>2</td>\n",
              "      <td>1</td>\n",
              "      <td>NaN</td>\n",
              "      <td>6900.0</td>\n",
              "      <td>39600</td>\n",
              "    </tr>\n",
              "    <tr>\n",
              "      <th>3</th>\n",
              "      <td>100706</td>\n",
              "      <td>University of Alabama in Huntsville</td>\n",
              "      <td>Huntsville</td>\n",
              "      <td>AL</td>\n",
              "      <td>35899</td>\n",
              "      <td>1</td>\n",
              "      <td>1</td>\n",
              "      <td>0.8087</td>\n",
              "      <td>10714.0</td>\n",
              "      <td>46700</td>\n",
              "    </tr>\n",
              "    <tr>\n",
              "      <th>4</th>\n",
              "      <td>100724</td>\n",
              "      <td>Alabama State University</td>\n",
              "      <td>Montgomery</td>\n",
              "      <td>AL</td>\n",
              "      <td>36104-0271</td>\n",
              "      <td>1</td>\n",
              "      <td>1</td>\n",
              "      <td>0.9774</td>\n",
              "      <td>11068.0</td>\n",
              "      <td>27700</td>\n",
              "    </tr>\n",
              "  </tbody>\n",
              "</table>\n",
              "</div>"
            ],
            "text/plain": [
              "   UNITID                               INSTNM  ... TUITIONFEE_IN MD_EARN_WNE_P10\n",
              "0  100654             Alabama A & M University  ...        9744.0           31000\n",
              "1  100663  University of Alabama at Birmingham  ...        8568.0           41200\n",
              "2  100690                   Amridge University  ...        6900.0           39600\n",
              "3  100706  University of Alabama in Huntsville  ...       10714.0           46700\n",
              "4  100724             Alabama State University  ...       11068.0           27700\n",
              "\n",
              "[5 rows x 10 columns]"
            ]
          },
          "metadata": {
            "tags": []
          },
          "execution_count": 4
        }
      ]
    },
    {
      "cell_type": "markdown",
      "metadata": {
        "tags": [],
        "cell_id": "00009-8fe8d3bc-a49a-4eac-8c17-c59d42a62b7f",
        "id": "qeaHOCm6vGbW"
      },
      "source": [
        "## Step 3 - Cleanse Data \n",
        "The data has missing values and other quality issues and requires cleansing."
      ]
    },
    {
      "cell_type": "markdown",
      "metadata": {
        "tags": [],
        "cell_id": "00010-6cd0ae57-489f-4256-9b96-a128aae1a869",
        "id": "WjDSIDVPvGbW"
      },
      "source": [
        "### 3.1 - Handle Missing Values\n",
        "For simplicity, we simply drop all rows that contain missing values."
      ]
    },
    {
      "cell_type": "code",
      "metadata": {
        "tags": [],
        "cell_id": "00003-971581b3-ff0c-4d26-a05b-be13205bb394",
        "output_cleared": false,
        "source_hash": "39f30db8",
        "execution_millis": 163,
        "execution_start": 1603073505659,
        "id": "tXEBv5n2vGbX",
        "outputId": "1d66d153-8b5a-42e7-a168-f43b1880bfb2",
        "colab": {
          "base_uri": "https://localhost:8080/",
          "height": 415
        }
      },
      "source": [
        "df[df.notnull()]"
      ],
      "execution_count": 5,
      "outputs": [
        {
          "output_type": "execute_result",
          "data": {
            "text/html": [
              "<div>\n",
              "<style scoped>\n",
              "    .dataframe tbody tr th:only-of-type {\n",
              "        vertical-align: middle;\n",
              "    }\n",
              "\n",
              "    .dataframe tbody tr th {\n",
              "        vertical-align: top;\n",
              "    }\n",
              "\n",
              "    .dataframe thead th {\n",
              "        text-align: right;\n",
              "    }\n",
              "</style>\n",
              "<table border=\"1\" class=\"dataframe\">\n",
              "  <thead>\n",
              "    <tr style=\"text-align: right;\">\n",
              "      <th></th>\n",
              "      <th>UNITID</th>\n",
              "      <th>INSTNM</th>\n",
              "      <th>CITY</th>\n",
              "      <th>STABBR</th>\n",
              "      <th>ZIP</th>\n",
              "      <th>CONTROL</th>\n",
              "      <th>ST_FIPS</th>\n",
              "      <th>ADM_RATE</th>\n",
              "      <th>TUITIONFEE_IN</th>\n",
              "      <th>MD_EARN_WNE_P10</th>\n",
              "    </tr>\n",
              "  </thead>\n",
              "  <tbody>\n",
              "    <tr>\n",
              "      <th>0</th>\n",
              "      <td>100654</td>\n",
              "      <td>Alabama A &amp; M University</td>\n",
              "      <td>Normal</td>\n",
              "      <td>AL</td>\n",
              "      <td>35762</td>\n",
              "      <td>1</td>\n",
              "      <td>1</td>\n",
              "      <td>0.8986</td>\n",
              "      <td>9744.0</td>\n",
              "      <td>31000</td>\n",
              "    </tr>\n",
              "    <tr>\n",
              "      <th>1</th>\n",
              "      <td>100663</td>\n",
              "      <td>University of Alabama at Birmingham</td>\n",
              "      <td>Birmingham</td>\n",
              "      <td>AL</td>\n",
              "      <td>35294-0110</td>\n",
              "      <td>1</td>\n",
              "      <td>1</td>\n",
              "      <td>0.9211</td>\n",
              "      <td>8568.0</td>\n",
              "      <td>41200</td>\n",
              "    </tr>\n",
              "    <tr>\n",
              "      <th>2</th>\n",
              "      <td>100690</td>\n",
              "      <td>Amridge University</td>\n",
              "      <td>Montgomery</td>\n",
              "      <td>AL</td>\n",
              "      <td>36117-3553</td>\n",
              "      <td>2</td>\n",
              "      <td>1</td>\n",
              "      <td>NaN</td>\n",
              "      <td>6900.0</td>\n",
              "      <td>39600</td>\n",
              "    </tr>\n",
              "    <tr>\n",
              "      <th>3</th>\n",
              "      <td>100706</td>\n",
              "      <td>University of Alabama in Huntsville</td>\n",
              "      <td>Huntsville</td>\n",
              "      <td>AL</td>\n",
              "      <td>35899</td>\n",
              "      <td>1</td>\n",
              "      <td>1</td>\n",
              "      <td>0.8087</td>\n",
              "      <td>10714.0</td>\n",
              "      <td>46700</td>\n",
              "    </tr>\n",
              "    <tr>\n",
              "      <th>4</th>\n",
              "      <td>100724</td>\n",
              "      <td>Alabama State University</td>\n",
              "      <td>Montgomery</td>\n",
              "      <td>AL</td>\n",
              "      <td>36104-0271</td>\n",
              "      <td>1</td>\n",
              "      <td>1</td>\n",
              "      <td>0.9774</td>\n",
              "      <td>11068.0</td>\n",
              "      <td>27700</td>\n",
              "    </tr>\n",
              "    <tr>\n",
              "      <th>...</th>\n",
              "      <td>...</td>\n",
              "      <td>...</td>\n",
              "      <td>...</td>\n",
              "      <td>...</td>\n",
              "      <td>...</td>\n",
              "      <td>...</td>\n",
              "      <td>...</td>\n",
              "      <td>...</td>\n",
              "      <td>...</td>\n",
              "      <td>...</td>\n",
              "    </tr>\n",
              "    <tr>\n",
              "      <th>6801</th>\n",
              "      <td>48511112</td>\n",
              "      <td>Georgia Military College - Dublin</td>\n",
              "      <td>Dublin</td>\n",
              "      <td>GA</td>\n",
              "      <td>310215149</td>\n",
              "      <td>1</td>\n",
              "      <td>13</td>\n",
              "      <td>NaN</td>\n",
              "      <td>6120.0</td>\n",
              "      <td>NaN</td>\n",
              "    </tr>\n",
              "    <tr>\n",
              "      <th>6802</th>\n",
              "      <td>48511113</td>\n",
              "      <td>Georgia Military College - Eastman</td>\n",
              "      <td>Eastman</td>\n",
              "      <td>GA</td>\n",
              "      <td>310236109</td>\n",
              "      <td>1</td>\n",
              "      <td>13</td>\n",
              "      <td>NaN</td>\n",
              "      <td>6120.0</td>\n",
              "      <td>NaN</td>\n",
              "    </tr>\n",
              "    <tr>\n",
              "      <th>6803</th>\n",
              "      <td>48616901</td>\n",
              "      <td>American College of Barbering - Florence</td>\n",
              "      <td>Florence</td>\n",
              "      <td>KY</td>\n",
              "      <td>410421801</td>\n",
              "      <td>3</td>\n",
              "      <td>21</td>\n",
              "      <td>NaN</td>\n",
              "      <td>NaN</td>\n",
              "      <td>NaN</td>\n",
              "    </tr>\n",
              "    <tr>\n",
              "      <th>6804</th>\n",
              "      <td>49005401</td>\n",
              "      <td>HCI College - Fort Lauderdale Campus</td>\n",
              "      <td>Fort Lauderdale</td>\n",
              "      <td>FL</td>\n",
              "      <td>33309</td>\n",
              "      <td>3</td>\n",
              "      <td>12</td>\n",
              "      <td>NaN</td>\n",
              "      <td>21420.0</td>\n",
              "      <td>NaN</td>\n",
              "    </tr>\n",
              "    <tr>\n",
              "      <th>6805</th>\n",
              "      <td>49146401</td>\n",
              "      <td>ABC Adult School - Cabrillo Lane</td>\n",
              "      <td>Cerritos</td>\n",
              "      <td>CA</td>\n",
              "      <td>907037748</td>\n",
              "      <td>1</td>\n",
              "      <td>6</td>\n",
              "      <td>NaN</td>\n",
              "      <td>NaN</td>\n",
              "      <td>NaN</td>\n",
              "    </tr>\n",
              "  </tbody>\n",
              "</table>\n",
              "<p>6806 rows × 10 columns</p>\n",
              "</div>"
            ],
            "text/plain": [
              "        UNITID  ... MD_EARN_WNE_P10\n",
              "0       100654  ...           31000\n",
              "1       100663  ...           41200\n",
              "2       100690  ...           39600\n",
              "3       100706  ...           46700\n",
              "4       100724  ...           27700\n",
              "...        ...  ...             ...\n",
              "6801  48511112  ...             NaN\n",
              "6802  48511113  ...             NaN\n",
              "6803  48616901  ...             NaN\n",
              "6804  49005401  ...             NaN\n",
              "6805  49146401  ...             NaN\n",
              "\n",
              "[6806 rows x 10 columns]"
            ]
          },
          "metadata": {
            "tags": []
          },
          "execution_count": 5
        }
      ]
    },
    {
      "cell_type": "code",
      "metadata": {
        "tags": [],
        "cell_id": "00004-e9bf588d-e26a-410f-bcf0-49095f66f4dc",
        "output_cleared": false,
        "source_hash": "f3dd26da",
        "execution_millis": 31,
        "execution_start": 1603036423022,
        "id": "2OYOUMLxvGba",
        "outputId": "c8171f72-3e39-42c9-eb14-e52b178cdc1e",
        "colab": {
          "base_uri": "https://localhost:8080/",
          "height": 208
        }
      },
      "source": [
        "df.isnull().sum()"
      ],
      "execution_count": 6,
      "outputs": [
        {
          "output_type": "execute_result",
          "data": {
            "text/plain": [
              "UNITID                0\n",
              "INSTNM                0\n",
              "CITY                  0\n",
              "STABBR                0\n",
              "ZIP                   0\n",
              "CONTROL               0\n",
              "ST_FIPS               0\n",
              "ADM_RATE           4800\n",
              "TUITIONFEE_IN      2941\n",
              "MD_EARN_WNE_P10    1303\n",
              "dtype: int64"
            ]
          },
          "metadata": {
            "tags": []
          },
          "execution_count": 6
        }
      ]
    },
    {
      "cell_type": "code",
      "metadata": {
        "tags": [],
        "cell_id": "00005-40e202a2-b5a1-486e-aa65-acd5c118f0c6",
        "output_cleared": false,
        "source_hash": "c3b8c3cd",
        "execution_millis": 54,
        "execution_start": 1603073616293,
        "id": "dL3iOgjovGbd",
        "outputId": "cda9ed3d-2d50-4b90-9cc6-c1e38ee4cf41",
        "colab": {
          "base_uri": "https://localhost:8080/",
          "height": 35
        }
      },
      "source": [
        "df2 = df.dropna()\n",
        "df2.shape"
      ],
      "execution_count": 7,
      "outputs": [
        {
          "output_type": "execute_result",
          "data": {
            "text/plain": [
              "(1763, 10)"
            ]
          },
          "metadata": {
            "tags": []
          },
          "execution_count": 7
        }
      ]
    },
    {
      "cell_type": "markdown",
      "metadata": {
        "tags": [],
        "cell_id": "00014-ccbe88d6-2b05-4a93-b185-180e18420e61",
        "id": "lkiXcQM-vGbh"
      },
      "source": [
        "### 3.2 - Cleanse Median Earnings Column"
      ]
    },
    {
      "cell_type": "code",
      "metadata": {
        "tags": [],
        "cell_id": "00006-effec76f-42ed-48a7-b366-acb00ada5a7f",
        "output_cleared": false,
        "source_hash": "b1faef88",
        "execution_millis": 181,
        "execution_start": 1603073768305,
        "id": "ZRl3EVHZvGbh",
        "outputId": "48e1bbb7-ec5a-4d7c-d159-198128d1b375",
        "colab": {
          "base_uri": "https://localhost:8080/",
          "height": 415
        }
      },
      "source": [
        "# Find out how many colleges have \"PrivacySuppressed\" in median earnings\n",
        "\n",
        "df2[df2[\"MD_EARN_WNE_P10\"] == \"PrivacySuppressed\"]\n"
      ],
      "execution_count": 8,
      "outputs": [
        {
          "output_type": "execute_result",
          "data": {
            "text/html": [
              "<div>\n",
              "<style scoped>\n",
              "    .dataframe tbody tr th:only-of-type {\n",
              "        vertical-align: middle;\n",
              "    }\n",
              "\n",
              "    .dataframe tbody tr th {\n",
              "        vertical-align: top;\n",
              "    }\n",
              "\n",
              "    .dataframe thead th {\n",
              "        text-align: right;\n",
              "    }\n",
              "</style>\n",
              "<table border=\"1\" class=\"dataframe\">\n",
              "  <thead>\n",
              "    <tr style=\"text-align: right;\">\n",
              "      <th></th>\n",
              "      <th>UNITID</th>\n",
              "      <th>INSTNM</th>\n",
              "      <th>CITY</th>\n",
              "      <th>STABBR</th>\n",
              "      <th>ZIP</th>\n",
              "      <th>CONTROL</th>\n",
              "      <th>ST_FIPS</th>\n",
              "      <th>ADM_RATE</th>\n",
              "      <th>TUITIONFEE_IN</th>\n",
              "      <th>MD_EARN_WNE_P10</th>\n",
              "    </tr>\n",
              "  </thead>\n",
              "  <tbody>\n",
              "    <tr>\n",
              "      <th>231</th>\n",
              "      <td>110918</td>\n",
              "      <td>California Christian College</td>\n",
              "      <td>Fresno</td>\n",
              "      <td>CA</td>\n",
              "      <td>93727</td>\n",
              "      <td>2</td>\n",
              "      <td>6</td>\n",
              "      <td>1.0000</td>\n",
              "      <td>9570.0</td>\n",
              "      <td>PrivacySuppressed</td>\n",
              "    </tr>\n",
              "    <tr>\n",
              "      <th>328</th>\n",
              "      <td>116846</td>\n",
              "      <td>American Jewish University</td>\n",
              "      <td>Los Angeles</td>\n",
              "      <td>CA</td>\n",
              "      <td>90077-1519</td>\n",
              "      <td>2</td>\n",
              "      <td>6</td>\n",
              "      <td>0.9600</td>\n",
              "      <td>31946.0</td>\n",
              "      <td>PrivacySuppressed</td>\n",
              "    </tr>\n",
              "    <tr>\n",
              "      <th>454</th>\n",
              "      <td>123280</td>\n",
              "      <td>Shasta Bible College and Graduate School</td>\n",
              "      <td>Redding</td>\n",
              "      <td>CA</td>\n",
              "      <td>96002</td>\n",
              "      <td>2</td>\n",
              "      <td>6</td>\n",
              "      <td>1.0000</td>\n",
              "      <td>12060.0</td>\n",
              "      <td>PrivacySuppressed</td>\n",
              "    </tr>\n",
              "    <tr>\n",
              "      <th>501</th>\n",
              "      <td>126076</td>\n",
              "      <td>Yeshiva Ohr Elchonon Chabad West Coast Talmudi...</td>\n",
              "      <td>Los Angeles</td>\n",
              "      <td>CA</td>\n",
              "      <td>90046-7660</td>\n",
              "      <td>2</td>\n",
              "      <td>6</td>\n",
              "      <td>0.7113</td>\n",
              "      <td>14700.0</td>\n",
              "      <td>PrivacySuppressed</td>\n",
              "    </tr>\n",
              "    <tr>\n",
              "      <th>559</th>\n",
              "      <td>128586</td>\n",
              "      <td>Bais Binyomin Academy</td>\n",
              "      <td>Monsey</td>\n",
              "      <td>NY</td>\n",
              "      <td>10952</td>\n",
              "      <td>2</td>\n",
              "      <td>36</td>\n",
              "      <td>0.8182</td>\n",
              "      <td>8450.0</td>\n",
              "      <td>PrivacySuppressed</td>\n",
              "    </tr>\n",
              "    <tr>\n",
              "      <th>...</th>\n",
              "      <td>...</td>\n",
              "      <td>...</td>\n",
              "      <td>...</td>\n",
              "      <td>...</td>\n",
              "      <td>...</td>\n",
              "      <td>...</td>\n",
              "      <td>...</td>\n",
              "      <td>...</td>\n",
              "      <td>...</td>\n",
              "      <td>...</td>\n",
              "    </tr>\n",
              "    <tr>\n",
              "      <th>5069</th>\n",
              "      <td>451398</td>\n",
              "      <td>Yeshiva Toras Chaim</td>\n",
              "      <td>Lakewood</td>\n",
              "      <td>NJ</td>\n",
              "      <td>08701</td>\n",
              "      <td>2</td>\n",
              "      <td>34</td>\n",
              "      <td>0.6237</td>\n",
              "      <td>12250.0</td>\n",
              "      <td>PrivacySuppressed</td>\n",
              "    </tr>\n",
              "    <tr>\n",
              "      <th>5070</th>\n",
              "      <td>451404</td>\n",
              "      <td>Talmudical Seminary of Bobov</td>\n",
              "      <td>Brooklyn</td>\n",
              "      <td>NY</td>\n",
              "      <td>11219</td>\n",
              "      <td>2</td>\n",
              "      <td>36</td>\n",
              "      <td>0.9545</td>\n",
              "      <td>10200.0</td>\n",
              "      <td>PrivacySuppressed</td>\n",
              "    </tr>\n",
              "    <tr>\n",
              "      <th>5112</th>\n",
              "      <td>454184</td>\n",
              "      <td>The King's College</td>\n",
              "      <td>New York</td>\n",
              "      <td>NY</td>\n",
              "      <td>10004</td>\n",
              "      <td>2</td>\n",
              "      <td>36</td>\n",
              "      <td>0.5382</td>\n",
              "      <td>36450.0</td>\n",
              "      <td>PrivacySuppressed</td>\n",
              "    </tr>\n",
              "    <tr>\n",
              "      <th>5170</th>\n",
              "      <td>455257</td>\n",
              "      <td>Yeshiva of Machzikai Hadas</td>\n",
              "      <td>Brooklyn</td>\n",
              "      <td>NY</td>\n",
              "      <td>11219-1408</td>\n",
              "      <td>2</td>\n",
              "      <td>36</td>\n",
              "      <td>0.9529</td>\n",
              "      <td>9200.0</td>\n",
              "      <td>PrivacySuppressed</td>\n",
              "    </tr>\n",
              "    <tr>\n",
              "      <th>5191</th>\n",
              "      <td>455770</td>\n",
              "      <td>Providence Christian College</td>\n",
              "      <td>Pasadena</td>\n",
              "      <td>CA</td>\n",
              "      <td>91101</td>\n",
              "      <td>2</td>\n",
              "      <td>6</td>\n",
              "      <td>0.8792</td>\n",
              "      <td>30370.0</td>\n",
              "      <td>PrivacySuppressed</td>\n",
              "    </tr>\n",
              "  </tbody>\n",
              "</table>\n",
              "<p>97 rows × 10 columns</p>\n",
              "</div>"
            ],
            "text/plain": [
              "      UNITID  ...    MD_EARN_WNE_P10\n",
              "231   110918  ...  PrivacySuppressed\n",
              "328   116846  ...  PrivacySuppressed\n",
              "454   123280  ...  PrivacySuppressed\n",
              "501   126076  ...  PrivacySuppressed\n",
              "559   128586  ...  PrivacySuppressed\n",
              "...      ...  ...                ...\n",
              "5069  451398  ...  PrivacySuppressed\n",
              "5070  451404  ...  PrivacySuppressed\n",
              "5112  454184  ...  PrivacySuppressed\n",
              "5170  455257  ...  PrivacySuppressed\n",
              "5191  455770  ...  PrivacySuppressed\n",
              "\n",
              "[97 rows x 10 columns]"
            ]
          },
          "metadata": {
            "tags": []
          },
          "execution_count": 8
        }
      ]
    },
    {
      "cell_type": "code",
      "metadata": {
        "tags": [],
        "cell_id": "00016-077f41ee-2457-4e79-8556-00ea761d4489",
        "output_cleared": false,
        "source_hash": "4772c97a",
        "execution_millis": 12,
        "execution_start": 1603073784399,
        "id": "EKSQjQUPvGbl",
        "outputId": "e877ae52-eb91-4d7b-fe08-d972d4c01a71",
        "colab": {
          "base_uri": "https://localhost:8080/",
          "height": 35
        }
      },
      "source": [
        "# Remove these colleges\n",
        "\n",
        "df2 = df2[df2[\"MD_EARN_WNE_P10\"] != \"PrivacySuppressed\"]\n",
        "df2.shape"
      ],
      "execution_count": 9,
      "outputs": [
        {
          "output_type": "execute_result",
          "data": {
            "text/plain": [
              "(1666, 10)"
            ]
          },
          "metadata": {
            "tags": []
          },
          "execution_count": 9
        }
      ]
    },
    {
      "cell_type": "code",
      "metadata": {
        "tags": [],
        "cell_id": "00007-395646e8-1512-42ce-88dc-55301a8cbb90",
        "output_cleared": false,
        "source_hash": "d60bf741",
        "execution_millis": 19,
        "execution_start": 1603073859880,
        "id": "tUmW4GDMvGbo",
        "outputId": "ab333a21-5ff9-4ff9-9514-26047be40d11",
        "colab": {
          "base_uri": "https://localhost:8080/",
          "height": 312
        }
      },
      "source": [
        "# Change median earnings column type from string to integer\n",
        "\n",
        "df2[\"MD_EARN_WNE_P10\"] = df2[\"MD_EARN_WNE_P10\"].astype(int)\n",
        "df2.info()"
      ],
      "execution_count": 10,
      "outputs": [
        {
          "output_type": "stream",
          "text": [
            "<class 'pandas.core.frame.DataFrame'>\n",
            "Int64Index: 1666 entries, 0 to 5931\n",
            "Data columns (total 10 columns):\n",
            " #   Column           Non-Null Count  Dtype  \n",
            "---  ------           --------------  -----  \n",
            " 0   UNITID           1666 non-null   int64  \n",
            " 1   INSTNM           1666 non-null   object \n",
            " 2   CITY             1666 non-null   object \n",
            " 3   STABBR           1666 non-null   object \n",
            " 4   ZIP              1666 non-null   object \n",
            " 5   CONTROL          1666 non-null   int64  \n",
            " 6   ST_FIPS          1666 non-null   int64  \n",
            " 7   ADM_RATE         1666 non-null   float64\n",
            " 8   TUITIONFEE_IN    1666 non-null   float64\n",
            " 9   MD_EARN_WNE_P10  1666 non-null   int64  \n",
            "dtypes: float64(2), int64(4), object(4)\n",
            "memory usage: 143.2+ KB\n"
          ],
          "name": "stdout"
        }
      ]
    },
    {
      "cell_type": "code",
      "metadata": {
        "tags": [],
        "cell_id": "00009-7ab88ae8-ab60-4fc6-8840-3f32245e6cc0",
        "output_cleared": false,
        "source_hash": "82eb8fcd",
        "execution_millis": 134,
        "execution_start": 1603073867273,
        "id": "4Ec-5k4IvGbq",
        "outputId": "5a72948b-7adb-431d-f83f-3d7f8fc1f5d5",
        "colab": {
          "base_uri": "https://localhost:8080/",
          "height": 202
        }
      },
      "source": [
        "# Replace the Control Code with label for easier understanding \n",
        "\n",
        "control_dict = {\n",
        "    1:\"Public\",            \n",
        "    2:\"Private, Nonprofit\",\n",
        "    3:\"Proprietary\"\n",
        "}\n",
        "       \n",
        "df2.replace({\"CONTROL\": control_dict}, inplace=True)\n",
        "df2.head()"
      ],
      "execution_count": 11,
      "outputs": [
        {
          "output_type": "execute_result",
          "data": {
            "text/html": [
              "<div>\n",
              "<style scoped>\n",
              "    .dataframe tbody tr th:only-of-type {\n",
              "        vertical-align: middle;\n",
              "    }\n",
              "\n",
              "    .dataframe tbody tr th {\n",
              "        vertical-align: top;\n",
              "    }\n",
              "\n",
              "    .dataframe thead th {\n",
              "        text-align: right;\n",
              "    }\n",
              "</style>\n",
              "<table border=\"1\" class=\"dataframe\">\n",
              "  <thead>\n",
              "    <tr style=\"text-align: right;\">\n",
              "      <th></th>\n",
              "      <th>UNITID</th>\n",
              "      <th>INSTNM</th>\n",
              "      <th>CITY</th>\n",
              "      <th>STABBR</th>\n",
              "      <th>ZIP</th>\n",
              "      <th>CONTROL</th>\n",
              "      <th>ST_FIPS</th>\n",
              "      <th>ADM_RATE</th>\n",
              "      <th>TUITIONFEE_IN</th>\n",
              "      <th>MD_EARN_WNE_P10</th>\n",
              "    </tr>\n",
              "  </thead>\n",
              "  <tbody>\n",
              "    <tr>\n",
              "      <th>0</th>\n",
              "      <td>100654</td>\n",
              "      <td>Alabama A &amp; M University</td>\n",
              "      <td>Normal</td>\n",
              "      <td>AL</td>\n",
              "      <td>35762</td>\n",
              "      <td>Public</td>\n",
              "      <td>1</td>\n",
              "      <td>0.8986</td>\n",
              "      <td>9744.0</td>\n",
              "      <td>31000</td>\n",
              "    </tr>\n",
              "    <tr>\n",
              "      <th>1</th>\n",
              "      <td>100663</td>\n",
              "      <td>University of Alabama at Birmingham</td>\n",
              "      <td>Birmingham</td>\n",
              "      <td>AL</td>\n",
              "      <td>35294-0110</td>\n",
              "      <td>Public</td>\n",
              "      <td>1</td>\n",
              "      <td>0.9211</td>\n",
              "      <td>8568.0</td>\n",
              "      <td>41200</td>\n",
              "    </tr>\n",
              "    <tr>\n",
              "      <th>3</th>\n",
              "      <td>100706</td>\n",
              "      <td>University of Alabama in Huntsville</td>\n",
              "      <td>Huntsville</td>\n",
              "      <td>AL</td>\n",
              "      <td>35899</td>\n",
              "      <td>Public</td>\n",
              "      <td>1</td>\n",
              "      <td>0.8087</td>\n",
              "      <td>10714.0</td>\n",
              "      <td>46700</td>\n",
              "    </tr>\n",
              "    <tr>\n",
              "      <th>4</th>\n",
              "      <td>100724</td>\n",
              "      <td>Alabama State University</td>\n",
              "      <td>Montgomery</td>\n",
              "      <td>AL</td>\n",
              "      <td>36104-0271</td>\n",
              "      <td>Public</td>\n",
              "      <td>1</td>\n",
              "      <td>0.9774</td>\n",
              "      <td>11068.0</td>\n",
              "      <td>27700</td>\n",
              "    </tr>\n",
              "    <tr>\n",
              "      <th>5</th>\n",
              "      <td>100751</td>\n",
              "      <td>The University of Alabama</td>\n",
              "      <td>Tuscaloosa</td>\n",
              "      <td>AL</td>\n",
              "      <td>35487-0100</td>\n",
              "      <td>Public</td>\n",
              "      <td>1</td>\n",
              "      <td>0.5906</td>\n",
              "      <td>10780.0</td>\n",
              "      <td>44500</td>\n",
              "    </tr>\n",
              "  </tbody>\n",
              "</table>\n",
              "</div>"
            ],
            "text/plain": [
              "   UNITID                               INSTNM  ... TUITIONFEE_IN MD_EARN_WNE_P10\n",
              "0  100654             Alabama A & M University  ...        9744.0           31000\n",
              "1  100663  University of Alabama at Birmingham  ...        8568.0           41200\n",
              "3  100706  University of Alabama in Huntsville  ...       10714.0           46700\n",
              "4  100724             Alabama State University  ...       11068.0           27700\n",
              "5  100751            The University of Alabama  ...       10780.0           44500\n",
              "\n",
              "[5 rows x 10 columns]"
            ]
          },
          "metadata": {
            "tags": []
          },
          "execution_count": 11
        }
      ]
    },
    {
      "cell_type": "markdown",
      "metadata": {
        "tags": [],
        "cell_id": "00019-92cd9301-58c0-4297-af05-b382792fa269",
        "id": "I-Lr6k_-vGbs"
      },
      "source": [
        "## Step 4 - Aggregate Data (by State)"
      ]
    },
    {
      "cell_type": "code",
      "metadata": {
        "tags": [],
        "cell_id": "00003-74f9396c-4d85-4eb5-a3a8-40f83b8c5f7f",
        "output_cleared": false,
        "source_hash": "7859796a",
        "execution_millis": 37,
        "execution_start": 1603073938984,
        "id": "8ht6pABVvGbt",
        "outputId": "59be11c4-b86e-46d3-c3f5-a87ab559ef83",
        "colab": {
          "base_uri": "https://localhost:8080/",
          "height": 233
        }
      },
      "source": [
        "# Aggregate using mean function\n",
        "\n",
        "gb = df2[[\"STABBR\",\"TUITIONFEE_IN\",\"MD_EARN_WNE_P10\"]].groupby('STABBR').mean()\n",
        "gb.head()"
      ],
      "execution_count": 12,
      "outputs": [
        {
          "output_type": "execute_result",
          "data": {
            "text/html": [
              "<div>\n",
              "<style scoped>\n",
              "    .dataframe tbody tr th:only-of-type {\n",
              "        vertical-align: middle;\n",
              "    }\n",
              "\n",
              "    .dataframe tbody tr th {\n",
              "        vertical-align: top;\n",
              "    }\n",
              "\n",
              "    .dataframe thead th {\n",
              "        text-align: right;\n",
              "    }\n",
              "</style>\n",
              "<table border=\"1\" class=\"dataframe\">\n",
              "  <thead>\n",
              "    <tr style=\"text-align: right;\">\n",
              "      <th></th>\n",
              "      <th>TUITIONFEE_IN</th>\n",
              "      <th>MD_EARN_WNE_P10</th>\n",
              "    </tr>\n",
              "    <tr>\n",
              "      <th>STABBR</th>\n",
              "      <th></th>\n",
              "      <th></th>\n",
              "    </tr>\n",
              "  </thead>\n",
              "  <tbody>\n",
              "    <tr>\n",
              "      <th>AK</th>\n",
              "      <td>10772.250000</td>\n",
              "      <td>40075.000000</td>\n",
              "    </tr>\n",
              "    <tr>\n",
              "      <th>AL</th>\n",
              "      <td>15422.640000</td>\n",
              "      <td>37816.000000</td>\n",
              "    </tr>\n",
              "    <tr>\n",
              "      <th>AR</th>\n",
              "      <td>16004.611111</td>\n",
              "      <td>37011.111111</td>\n",
              "    </tr>\n",
              "    <tr>\n",
              "      <th>AZ</th>\n",
              "      <td>17156.214286</td>\n",
              "      <td>47078.571429</td>\n",
              "    </tr>\n",
              "    <tr>\n",
              "      <th>CA</th>\n",
              "      <td>29191.584158</td>\n",
              "      <td>50500.990099</td>\n",
              "    </tr>\n",
              "  </tbody>\n",
              "</table>\n",
              "</div>"
            ],
            "text/plain": [
              "        TUITIONFEE_IN  MD_EARN_WNE_P10\n",
              "STABBR                                \n",
              "AK       10772.250000     40075.000000\n",
              "AL       15422.640000     37816.000000\n",
              "AR       16004.611111     37011.111111\n",
              "AZ       17156.214286     47078.571429\n",
              "CA       29191.584158     50500.990099"
            ]
          },
          "metadata": {
            "tags": []
          },
          "execution_count": 12
        }
      ]
    },
    {
      "cell_type": "code",
      "metadata": {
        "tags": [],
        "cell_id": "00021-6fe55883-2c49-46ef-b1fa-e742b2eb43a9",
        "output_cleared": false,
        "source_hash": "aad2416b",
        "execution_start": 1603074084936,
        "execution_millis": 1,
        "id": "LauRRS14vGbx",
        "outputId": "c5fbd919-1675-4948-a0bb-79e6e7501e9e",
        "colab": {
          "base_uri": "https://localhost:8080/",
          "height": 202
        }
      },
      "source": [
        "# Reset index so that State becomes a column\n",
        "\n",
        "gb = gb.reset_index()\n",
        "gb.head()"
      ],
      "execution_count": 13,
      "outputs": [
        {
          "output_type": "execute_result",
          "data": {
            "text/html": [
              "<div>\n",
              "<style scoped>\n",
              "    .dataframe tbody tr th:only-of-type {\n",
              "        vertical-align: middle;\n",
              "    }\n",
              "\n",
              "    .dataframe tbody tr th {\n",
              "        vertical-align: top;\n",
              "    }\n",
              "\n",
              "    .dataframe thead th {\n",
              "        text-align: right;\n",
              "    }\n",
              "</style>\n",
              "<table border=\"1\" class=\"dataframe\">\n",
              "  <thead>\n",
              "    <tr style=\"text-align: right;\">\n",
              "      <th></th>\n",
              "      <th>STABBR</th>\n",
              "      <th>TUITIONFEE_IN</th>\n",
              "      <th>MD_EARN_WNE_P10</th>\n",
              "    </tr>\n",
              "  </thead>\n",
              "  <tbody>\n",
              "    <tr>\n",
              "      <th>0</th>\n",
              "      <td>AK</td>\n",
              "      <td>10772.250000</td>\n",
              "      <td>40075.000000</td>\n",
              "    </tr>\n",
              "    <tr>\n",
              "      <th>1</th>\n",
              "      <td>AL</td>\n",
              "      <td>15422.640000</td>\n",
              "      <td>37816.000000</td>\n",
              "    </tr>\n",
              "    <tr>\n",
              "      <th>2</th>\n",
              "      <td>AR</td>\n",
              "      <td>16004.611111</td>\n",
              "      <td>37011.111111</td>\n",
              "    </tr>\n",
              "    <tr>\n",
              "      <th>3</th>\n",
              "      <td>AZ</td>\n",
              "      <td>17156.214286</td>\n",
              "      <td>47078.571429</td>\n",
              "    </tr>\n",
              "    <tr>\n",
              "      <th>4</th>\n",
              "      <td>CA</td>\n",
              "      <td>29191.584158</td>\n",
              "      <td>50500.990099</td>\n",
              "    </tr>\n",
              "  </tbody>\n",
              "</table>\n",
              "</div>"
            ],
            "text/plain": [
              "  STABBR  TUITIONFEE_IN  MD_EARN_WNE_P10\n",
              "0     AK   10772.250000     40075.000000\n",
              "1     AL   15422.640000     37816.000000\n",
              "2     AR   16004.611111     37011.111111\n",
              "3     AZ   17156.214286     47078.571429\n",
              "4     CA   29191.584158     50500.990099"
            ]
          },
          "metadata": {
            "tags": []
          },
          "execution_count": 13
        }
      ]
    },
    {
      "cell_type": "markdown",
      "metadata": {
        "tags": [],
        "cell_id": "00022-79be204e-7a45-4ac8-a9f6-b183d167d0ab",
        "id": "qATDWEmEvGbz"
      },
      "source": [
        "## Step 5 - Visualize Data"
      ]
    },
    {
      "cell_type": "markdown",
      "metadata": {
        "tags": [],
        "cell_id": "00023-e1c2ce63-2cdf-49b7-a69e-80666d7274cb",
        "id": "L49aWbXkvGbz"
      },
      "source": [
        "### 5.1 - Bar Charts\n",
        "We want to rank the states based on their in-state tuition and \n",
        "their potential earnings (10 years after graduation)"
      ]
    },
    {
      "cell_type": "code",
      "metadata": {
        "tags": [],
        "cell_id": "00024-33de35d5-644e-49ba-8c5e-6fc6d4bfed4c",
        "output_cleared": false,
        "source_hash": "74626e00",
        "execution_millis": 3641,
        "execution_start": 1603074615505,
        "id": "anK7rXpUvGb1",
        "outputId": "959dd8ad-9a9a-4dac-faf6-af9cdf2c2d3f",
        "colab": {
          "base_uri": "https://localhost:8080/",
          "height": 521
        }
      },
      "source": [
        "# Rank in-state tution from lowest to highest\n",
        "\n",
        "pd.options.plotting.backend = \"matplotlib\"\n",
        "\n",
        "gb_tuition = gb[[\"STABBR\", \"TUITIONFEE_IN\"]].sort_values(\"TUITIONFEE_IN\")\n",
        "\n",
        "gb_tuition.plot.bar(x=\"STABBR\", y=\"TUITIONFEE_IN\",figsize=(12,8))"
      ],
      "execution_count": 14,
      "outputs": [
        {
          "output_type": "execute_result",
          "data": {
            "text/plain": [
              "<matplotlib.axes._subplots.AxesSubplot at 0x7f651ee31ba8>"
            ]
          },
          "metadata": {
            "tags": []
          },
          "execution_count": 14
        },
        {
          "output_type": "display_data",
          "data": {
            "image/png": "[encoded data removed]",
            "text/plain": [
              "<Figure size 864x576 with 1 Axes>"
            ]
          },
          "metadata": {
            "tags": [],
            "needs_background": "light"
          }
        }
      ]
    },
    {
      "cell_type": "code",
      "metadata": {
        "tags": [],
        "cell_id": "00025-9fc1f4b7-c825-4131-bf05-1a5d3d466c9a",
        "output_cleared": false,
        "source_hash": "4641d5e5",
        "execution_millis": 1997,
        "allow_embed": false,
        "execution_start": 1603074643889,
        "id": "YSvfp6DyvGb4",
        "outputId": "75fd1bce-0dd8-4ad4-ffec-f828be4f7b5b",
        "colab": {
          "base_uri": "https://localhost:8080/",
          "height": 521
        }
      },
      "source": [
        "\n",
        "# Rank potential earnings from lowest to highest\n",
        "\n",
        "gb_earnings = gb[[\"STABBR\", \"MD_EARN_WNE_P10\"]].sort_values(\"MD_EARN_WNE_P10\")\n",
        "\n",
        "gb_earnings.plot.bar(x=\"STABBR\", y=\"MD_EARN_WNE_P10\",figsize=(12,8))"
      ],
      "execution_count": 15,
      "outputs": [
        {
          "output_type": "execute_result",
          "data": {
            "text/plain": [
              "<matplotlib.axes._subplots.AxesSubplot at 0x7f651ec1c320>"
            ]
          },
          "metadata": {
            "tags": []
          },
          "execution_count": 15
        },
        {
          "output_type": "display_data",
          "data": {
            "image/png": "[encoded data removed]",
            "text/plain": [
              "<Figure size 864x576 with 1 Axes>"
            ]
          },
          "metadata": {
            "tags": [],
            "needs_background": "light"
          }
        }
      ]
    },
    {
      "cell_type": "markdown",
      "metadata": {
        "tags": [],
        "cell_id": "00026-6d1d6352-c894-4d41-976c-5a3909a5f793",
        "id": "8pJ-LxravGb6"
      },
      "source": [
        "### 5.2 - Scatter Plot\n",
        "We want to find out if there is a relationship between tuition and potential earnings.\n",
        "\n",
        "Note: This does not work in Google Colab. Need to find a solution. It works in deepnote.com"
      ]
    },
    {
      "cell_type": "code",
      "metadata": {
        "tags": [],
        "cell_id": "00013-39fdc55d-117a-4cf8-a81f-f131ea5d1239",
        "output_cleared": false,
        "source_hash": "3cf29731",
        "execution_millis": 269,
        "execution_start": 1603074689072,
        "id": "jpoGODsyvGb7",
        "outputId": "0a55e691-8ef2-4082-9bf7-5f7fcfea0cc4",
        "colab": {
          "base_uri": "https://localhost:8080/",
          "height": 398
        }
      },
      "source": [
        "# Here, we switch the Pandas plotting backend from matplotlib to plot so that\n",
        "# can explore interactively\n",
        "\n",
        "pd.options.plotting.backend = \"plotly\"\n",
        "\n",
        "gb.plot.scatter(x=\"TUITIONFEE_IN\", y=\"MD_EARN_WNE_P10\",  hover_data=[\"STABBR\"])"
      ],
      "execution_count": 20,
      "outputs": [
        {
          "output_type": "error",
          "ename": "ValueError",
          "evalue": "ignored",
          "traceback": [
            "\u001b[0;31m---------------------------------------------------------------------------\u001b[0m",
            "\u001b[0;31mValueError\u001b[0m                                Traceback (most recent call last)",
            "\u001b[0;32m<ipython-input-20-347e045c1460>\u001b[0m in \u001b[0;36m<module>\u001b[0;34m()\u001b[0m\n\u001b[1;32m      2\u001b[0m \u001b[0;31m# can explore interactively\u001b[0m\u001b[0;34m\u001b[0m\u001b[0;34m\u001b[0m\u001b[0;34m\u001b[0m\u001b[0m\n\u001b[1;32m      3\u001b[0m \u001b[0;32mimport\u001b[0m \u001b[0mplotly\u001b[0m\u001b[0;34m.\u001b[0m\u001b[0mexpress\u001b[0m\u001b[0;34m\u001b[0m\u001b[0;34m\u001b[0m\u001b[0m\n\u001b[0;32m----> 4\u001b[0;31m \u001b[0mpd\u001b[0m\u001b[0;34m.\u001b[0m\u001b[0moptions\u001b[0m\u001b[0;34m.\u001b[0m\u001b[0mplotting\u001b[0m\u001b[0;34m.\u001b[0m\u001b[0mbackend\u001b[0m \u001b[0;34m=\u001b[0m \u001b[0;34m\"plotly\"\u001b[0m\u001b[0;34m\u001b[0m\u001b[0;34m\u001b[0m\u001b[0m\n\u001b[0m\u001b[1;32m      5\u001b[0m \u001b[0;34m\u001b[0m\u001b[0m\n\u001b[1;32m      6\u001b[0m \u001b[0mgb\u001b[0m\u001b[0;34m.\u001b[0m\u001b[0mplot\u001b[0m\u001b[0;34m.\u001b[0m\u001b[0mscatter\u001b[0m\u001b[0;34m(\u001b[0m\u001b[0mx\u001b[0m\u001b[0;34m=\u001b[0m\u001b[0;34m\"TUITIONFEE_IN\"\u001b[0m\u001b[0;34m,\u001b[0m \u001b[0my\u001b[0m\u001b[0;34m=\u001b[0m\u001b[0;34m\"MD_EARN_WNE_P10\"\u001b[0m\u001b[0;34m,\u001b[0m  \u001b[0mhover_data\u001b[0m\u001b[0;34m=\u001b[0m\u001b[0;34m[\u001b[0m\u001b[0;34m\"STABBR\"\u001b[0m\u001b[0;34m]\u001b[0m\u001b[0;34m)\u001b[0m\u001b[0;34m\u001b[0m\u001b[0;34m\u001b[0m\u001b[0m\n",
            "\u001b[0;32m/usr/local/lib/python3.6/dist-packages/pandas/_config/config.py\u001b[0m in \u001b[0;36m__setattr__\u001b[0;34m(self, key, val)\u001b[0m\n\u001b[1;32m    194\u001b[0m         \u001b[0;31m# can you can't overwrite subtrees\u001b[0m\u001b[0;34m\u001b[0m\u001b[0;34m\u001b[0m\u001b[0;34m\u001b[0m\u001b[0m\n\u001b[1;32m    195\u001b[0m         \u001b[0;32mif\u001b[0m \u001b[0mkey\u001b[0m \u001b[0;32min\u001b[0m \u001b[0mself\u001b[0m\u001b[0;34m.\u001b[0m\u001b[0md\u001b[0m \u001b[0;32mand\u001b[0m \u001b[0;32mnot\u001b[0m \u001b[0misinstance\u001b[0m\u001b[0;34m(\u001b[0m\u001b[0mself\u001b[0m\u001b[0;34m.\u001b[0m\u001b[0md\u001b[0m\u001b[0;34m[\u001b[0m\u001b[0mkey\u001b[0m\u001b[0;34m]\u001b[0m\u001b[0;34m,\u001b[0m \u001b[0mdict\u001b[0m\u001b[0;34m)\u001b[0m\u001b[0;34m:\u001b[0m\u001b[0;34m\u001b[0m\u001b[0;34m\u001b[0m\u001b[0m\n\u001b[0;32m--> 196\u001b[0;31m             \u001b[0m_set_option\u001b[0m\u001b[0;34m(\u001b[0m\u001b[0mprefix\u001b[0m\u001b[0;34m,\u001b[0m \u001b[0mval\u001b[0m\u001b[0;34m)\u001b[0m\u001b[0;34m\u001b[0m\u001b[0;34m\u001b[0m\u001b[0m\n\u001b[0m\u001b[1;32m    197\u001b[0m         \u001b[0;32melse\u001b[0m\u001b[0;34m:\u001b[0m\u001b[0;34m\u001b[0m\u001b[0;34m\u001b[0m\u001b[0m\n\u001b[1;32m    198\u001b[0m             \u001b[0;32mraise\u001b[0m \u001b[0mOptionError\u001b[0m\u001b[0;34m(\u001b[0m\u001b[0;34m\"You can only set the value of existing options\"\u001b[0m\u001b[0;34m)\u001b[0m\u001b[0;34m\u001b[0m\u001b[0;34m\u001b[0m\u001b[0m\n",
            "\u001b[0;32m/usr/local/lib/python3.6/dist-packages/pandas/_config/config.py\u001b[0m in \u001b[0;36m_set_option\u001b[0;34m(*args, **kwargs)\u001b[0m\n\u001b[1;32m    128\u001b[0m         \u001b[0mo\u001b[0m \u001b[0;34m=\u001b[0m \u001b[0m_get_registered_option\u001b[0m\u001b[0;34m(\u001b[0m\u001b[0mkey\u001b[0m\u001b[0;34m)\u001b[0m\u001b[0;34m\u001b[0m\u001b[0;34m\u001b[0m\u001b[0m\n\u001b[1;32m    129\u001b[0m         \u001b[0;32mif\u001b[0m \u001b[0mo\u001b[0m \u001b[0;32mand\u001b[0m \u001b[0mo\u001b[0m\u001b[0;34m.\u001b[0m\u001b[0mvalidator\u001b[0m\u001b[0;34m:\u001b[0m\u001b[0;34m\u001b[0m\u001b[0;34m\u001b[0m\u001b[0m\n\u001b[0;32m--> 130\u001b[0;31m             \u001b[0mo\u001b[0m\u001b[0;34m.\u001b[0m\u001b[0mvalidator\u001b[0m\u001b[0;34m(\u001b[0m\u001b[0mv\u001b[0m\u001b[0;34m)\u001b[0m\u001b[0;34m\u001b[0m\u001b[0;34m\u001b[0m\u001b[0m\n\u001b[0m\u001b[1;32m    131\u001b[0m \u001b[0;34m\u001b[0m\u001b[0m\n\u001b[1;32m    132\u001b[0m         \u001b[0;31m# walk the nested dict\u001b[0m\u001b[0;34m\u001b[0m\u001b[0;34m\u001b[0m\u001b[0;34m\u001b[0m\u001b[0m\n",
            "\u001b[0;32m/usr/local/lib/python3.6/dist-packages/pandas/core/config_init.py\u001b[0m in \u001b[0;36mregister_plotting_backend_cb\u001b[0;34m(key)\u001b[0m\n\u001b[1;32m    642\u001b[0m     \u001b[0;32mfrom\u001b[0m \u001b[0mpandas\u001b[0m\u001b[0;34m.\u001b[0m\u001b[0mplotting\u001b[0m\u001b[0;34m.\u001b[0m\u001b[0m_core\u001b[0m \u001b[0;32mimport\u001b[0m \u001b[0m_get_plot_backend\u001b[0m\u001b[0;34m\u001b[0m\u001b[0;34m\u001b[0m\u001b[0m\n\u001b[1;32m    643\u001b[0m \u001b[0;34m\u001b[0m\u001b[0m\n\u001b[0;32m--> 644\u001b[0;31m     \u001b[0m_get_plot_backend\u001b[0m\u001b[0;34m(\u001b[0m\u001b[0mkey\u001b[0m\u001b[0;34m)\u001b[0m\u001b[0;34m\u001b[0m\u001b[0;34m\u001b[0m\u001b[0m\n\u001b[0m\u001b[1;32m    645\u001b[0m \u001b[0;34m\u001b[0m\u001b[0m\n\u001b[1;32m    646\u001b[0m \u001b[0;34m\u001b[0m\u001b[0m\n",
            "\u001b[0;32m/usr/local/lib/python3.6/dist-packages/pandas/plotting/_core.py\u001b[0m in \u001b[0;36m_get_plot_backend\u001b[0;34m(backend)\u001b[0m\n\u001b[1;32m   1788\u001b[0m         \u001b[0;32mreturn\u001b[0m \u001b[0m_backends\u001b[0m\u001b[0;34m[\u001b[0m\u001b[0mbackend\u001b[0m\u001b[0;34m]\u001b[0m\u001b[0;34m\u001b[0m\u001b[0;34m\u001b[0m\u001b[0m\n\u001b[1;32m   1789\u001b[0m \u001b[0;34m\u001b[0m\u001b[0m\n\u001b[0;32m-> 1790\u001b[0;31m     \u001b[0mmodule\u001b[0m \u001b[0;34m=\u001b[0m \u001b[0m_find_backend\u001b[0m\u001b[0;34m(\u001b[0m\u001b[0mbackend\u001b[0m\u001b[0;34m)\u001b[0m\u001b[0;34m\u001b[0m\u001b[0;34m\u001b[0m\u001b[0m\n\u001b[0m\u001b[1;32m   1791\u001b[0m     \u001b[0m_backends\u001b[0m\u001b[0;34m[\u001b[0m\u001b[0mbackend\u001b[0m\u001b[0;34m]\u001b[0m \u001b[0;34m=\u001b[0m \u001b[0mmodule\u001b[0m\u001b[0;34m\u001b[0m\u001b[0;34m\u001b[0m\u001b[0m\n\u001b[1;32m   1792\u001b[0m     \u001b[0;32mreturn\u001b[0m \u001b[0mmodule\u001b[0m\u001b[0;34m\u001b[0m\u001b[0;34m\u001b[0m\u001b[0m\n",
            "\u001b[0;32m/usr/local/lib/python3.6/dist-packages/pandas/plotting/_core.py\u001b[0m in \u001b[0;36m_find_backend\u001b[0;34m(backend)\u001b[0m\n\u001b[1;32m   1751\u001b[0m \u001b[0;34m\u001b[0m\u001b[0m\n\u001b[1;32m   1752\u001b[0m     raise ValueError(\n\u001b[0;32m-> 1753\u001b[0;31m         \u001b[0;34mf\"Could not find plotting backend '{backend}'. Ensure that you've installed \"\u001b[0m\u001b[0;34m\u001b[0m\u001b[0;34m\u001b[0m\u001b[0m\n\u001b[0m\u001b[1;32m   1754\u001b[0m         \u001b[0;34mf\"the package providing the '{backend}' entrypoint, or that the package has a \"\u001b[0m\u001b[0;34m\u001b[0m\u001b[0;34m\u001b[0m\u001b[0m\n\u001b[1;32m   1755\u001b[0m         \u001b[0;34m\"top-level `.plot` method.\"\u001b[0m\u001b[0;34m\u001b[0m\u001b[0;34m\u001b[0m\u001b[0m\n",
            "\u001b[0;31mValueError\u001b[0m: Could not find plotting backend 'plotly'. Ensure that you've installed the package providing the 'plotly' entrypoint, or that the package has a top-level `.plot` method."
          ]
        }
      ]
    }
  ]
}