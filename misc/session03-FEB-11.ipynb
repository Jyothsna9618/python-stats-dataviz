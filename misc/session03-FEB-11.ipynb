{
  "nbformat": 4,
  "nbformat_minor": 0,
  "metadata": {
    "colab": {
      "name": "session03.ipynb",
      "provenance": [],
      "authorship_tag": "ABX9TyMzS2tPUiMC65wNSKDeHKf3",
      "include_colab_link": true
    },
    "kernelspec": {
      "name": "python3",
      "display_name": "Python 3"
    }
  },
  "cells": [
    {
      "cell_type": "markdown",
      "metadata": {
        "id": "view-in-github",
        "colab_type": "text"
      },
      "source": [
        "<a href=\"https://colab.research.google.com/github/wcj365/python-stats-dataviz/blob/master/session03-FEB-11.ipynb\" target=\"_parent\"><img src=\"https://colab.research.google.com/assets/colab-badge.svg\" alt=\"Open In Colab\"/></a>"
      ]
    },
    {
      "cell_type": "code",
      "metadata": {
        "colab": {
          "base_uri": "https://localhost:8080/"
        },
        "id": "ifFvUJDw0ONu",
        "outputId": "6006f1d2-ddfe-46ef-ceb6-647adc73d52b"
      },
      "source": [
        "with open(\"event_date_initiated.csv\", \"tr\") as data:\r\n",
        "    lines = data.readlines()\r\n",
        "\r\n",
        "len(lines)"
      ],
      "execution_count": 4,
      "outputs": [
        {
          "output_type": "execute_result",
          "data": {
            "text/plain": [
              "43750"
            ]
          },
          "metadata": {
            "tags": []
          },
          "execution_count": 4
        }
      ]
    },
    {
      "cell_type": "code",
      "metadata": {
        "colab": {
          "base_uri": "https://localhost:8080/"
        },
        "id": "zxL-n8cY1u8K",
        "outputId": "a10b8d0b-f861-4e0f-8ec1-1c74b3ab133a"
      },
      "source": [
        "type(lines)"
      ],
      "execution_count": 5,
      "outputs": [
        {
          "output_type": "execute_result",
          "data": {
            "text/plain": [
              "list"
            ]
          },
          "metadata": {
            "tags": []
          },
          "execution_count": 5
        }
      ]
    },
    {
      "cell_type": "code",
      "metadata": {
        "colab": {
          "base_uri": "https://localhost:8080/",
          "height": 35
        },
        "id": "mQ8LgPCm2VzE",
        "outputId": "2d03fa30-33e4-42ff-f1a8-a36f69752f17"
      },
      "source": [
        "lines[1]"
      ],
      "execution_count": 8,
      "outputs": [
        {
          "output_type": "execute_result",
          "data": {
            "application/vnd.google.colaboratory.intrinsic+json": {
              "type": "string"
            },
            "text/plain": [
              "'2002-12-26\\n'"
            ]
          },
          "metadata": {
            "tags": []
          },
          "execution_count": 8
        }
      ]
    },
    {
      "cell_type": "code",
      "metadata": {
        "colab": {
          "base_uri": "https://localhost:8080/"
        },
        "id": "a7wgFQV71yiI",
        "outputId": "5b40610a-d440-4521-a44f-2d3243dab464"
      },
      "source": [
        "for i in range(5):  # range(5) = range(0, 5, 1)\r\n",
        "    print(lines[i])"
      ],
      "execution_count": 9,
      "outputs": [
        {
          "output_type": "stream",
          "text": [
            "event_date_initiated\n",
            "\n",
            "2002-12-26\n",
            "\n",
            "2003-03-25\n",
            "\n",
            "2003-03-25\n",
            "\n",
            "2004-01-27\n",
            "\n"
          ],
          "name": "stdout"
        }
      ]
    },
    {
      "cell_type": "code",
      "metadata": {
        "colab": {
          "base_uri": "https://localhost:8080/"
        },
        "id": "WRchOROx2r76",
        "outputId": "59650271-51bd-451b-8c0d-1058b2aef49c"
      },
      "source": [
        "lines[:5]"
      ],
      "execution_count": 11,
      "outputs": [
        {
          "output_type": "execute_result",
          "data": {
            "text/plain": [
              "['event_date_initiated\\n',\n",
              " '2002-12-26\\n',\n",
              " '2003-03-25\\n',\n",
              " '2003-03-25\\n',\n",
              " '2004-01-27\\n']"
            ]
          },
          "metadata": {
            "tags": []
          },
          "execution_count": 11
        }
      ]
    },
    {
      "cell_type": "code",
      "metadata": {
        "colab": {
          "base_uri": "https://localhost:8080/"
        },
        "id": "1eIw_Hq4269F",
        "outputId": "b0c7a3f9-0173-4c62-9f2b-18664bdd268d"
      },
      "source": [
        "new_lines = lines[1:]\r\n",
        "len(new_lines)"
      ],
      "execution_count": 12,
      "outputs": [
        {
          "output_type": "execute_result",
          "data": {
            "text/plain": [
              "43749"
            ]
          },
          "metadata": {
            "tags": []
          },
          "execution_count": 12
        }
      ]
    },
    {
      "cell_type": "code",
      "metadata": {
        "colab": {
          "base_uri": "https://localhost:8080/"
        },
        "id": "jy47EyXu3JTm",
        "outputId": "9ebf22ee-c04c-49f5-b9e7-70e4721d7294"
      },
      "source": [
        "new_lines[0:5]"
      ],
      "execution_count": 13,
      "outputs": [
        {
          "output_type": "execute_result",
          "data": {
            "text/plain": [
              "['2002-12-26\\n',\n",
              " '2003-03-25\\n',\n",
              " '2003-03-25\\n',\n",
              " '2004-01-27\\n',\n",
              " '2003-12-10\\n']"
            ]
          },
          "metadata": {
            "tags": []
          },
          "execution_count": 13
        }
      ]
    },
    {
      "cell_type": "code",
      "metadata": {
        "colab": {
          "base_uri": "https://localhost:8080/"
        },
        "id": "M-Zxs8jK3Y1x",
        "outputId": "c9af9af0-81d6-45de-aa3d-95172623039b"
      },
      "source": [
        "new_lines2 = []\r\n",
        "for line in new_lines:\r\n",
        "    new_line = line.replace(\"\\n\", \"\")\r\n",
        "    new_lines2.append(new_line)\r\n",
        "\r\n",
        "new_lines2[:10]\r\n"
      ],
      "execution_count": 27,
      "outputs": [
        {
          "output_type": "execute_result",
          "data": {
            "text/plain": [
              "['2002-12-26',\n",
              " '2003-03-25',\n",
              " '2003-03-25',\n",
              " '2004-01-27',\n",
              " '2003-12-10',\n",
              " '2004-01-27',\n",
              " '2003-03-20',\n",
              " '2003-08-08',\n",
              " '2000-11-16',\n",
              " '2002-10-31']"
            ]
          },
          "metadata": {
            "tags": []
          },
          "execution_count": 27
        }
      ]
    },
    {
      "cell_type": "code",
      "metadata": {
        "colab": {
          "base_uri": "https://localhost:8080/"
        },
        "id": "zExbLE164cbc",
        "outputId": "d461359a-3248-4672-a310-2c5416cb55e8"
      },
      "source": [
        "new_lines2.sort()\r\n",
        "new_lines2[0:10]\r\n"
      ],
      "execution_count": 30,
      "outputs": [
        {
          "output_type": "execute_result",
          "data": {
            "text/plain": [
              "['0010-08-17',\n",
              " '0012-11-30',\n",
              " '0012-12-06',\n",
              " '0012-12-13',\n",
              " '0013-03-05',\n",
              " '0013-03-05',\n",
              " '0013-03-05',\n",
              " '0013-03-05',\n",
              " '0013-03-05',\n",
              " '0013-03-05']"
            ]
          },
          "metadata": {
            "tags": []
          },
          "execution_count": 30
        }
      ]
    },
    {
      "cell_type": "code",
      "metadata": {
        "colab": {
          "base_uri": "https://localhost:8080/"
        },
        "id": "pYEr-5XQ5QGD",
        "outputId": "3edf6107-cd5d-4810-8b4c-06a94d3d3b0b"
      },
      "source": [
        "new_lines2[-10:]"
      ],
      "execution_count": 36,
      "outputs": [
        {
          "output_type": "execute_result",
          "data": {
            "text/plain": [
              "['2020-12-08',\n",
              " '2020-12-08',\n",
              " '2020-12-08',\n",
              " '2020-12-08',\n",
              " '2020-12-08',\n",
              " '2020-12-08',\n",
              " '2020-12-08',\n",
              " '2020-12-14',\n",
              " '2020-12-14',\n",
              " '2020-12-15']"
            ]
          },
          "metadata": {
            "tags": []
          },
          "execution_count": 36
        }
      ]
    },
    {
      "cell_type": "code",
      "metadata": {
        "colab": {
          "base_uri": "https://localhost:8080/"
        },
        "id": "PB_CaUny6iEk",
        "outputId": "15408aa6-2779-40b1-f7d4-2efc77132b42"
      },
      "source": [
        "x = new_lines2[:10] + new_lines2[-10:]\r\n",
        "x"
      ],
      "execution_count": 37,
      "outputs": [
        {
          "output_type": "execute_result",
          "data": {
            "text/plain": [
              "['0010-08-17',\n",
              " '0012-11-30',\n",
              " '0012-12-06',\n",
              " '0012-12-13',\n",
              " '0013-03-05',\n",
              " '0013-03-05',\n",
              " '0013-03-05',\n",
              " '0013-03-05',\n",
              " '0013-03-05',\n",
              " '0013-03-05',\n",
              " '2020-12-08',\n",
              " '2020-12-08',\n",
              " '2020-12-08',\n",
              " '2020-12-08',\n",
              " '2020-12-08',\n",
              " '2020-12-08',\n",
              " '2020-12-08',\n",
              " '2020-12-14',\n",
              " '2020-12-14',\n",
              " '2020-12-15']"
            ]
          },
          "metadata": {
            "tags": []
          },
          "execution_count": 37
        }
      ]
    },
    {
      "cell_type": "code",
      "metadata": {
        "colab": {
          "base_uri": "https://localhost:8080/"
        },
        "id": "CGf6yuFE7MZL",
        "outputId": "1a92f912-cfef-4436-e408-617922ef2be0"
      },
      "source": [
        "new_lines3 = []\r\n",
        "for line in new_lines2:\r\n",
        "    if line.startswith(\"00\"):\r\n",
        "        new_line = line.replace(\"00\", \"20\")\r\n",
        "    else:\r\n",
        "        new_line = line\r\n",
        "\r\n",
        "    new_lines3.append(new_line)\r\n",
        "\r\n",
        "new_lines3[:10]\r\n"
      ],
      "execution_count": 41,
      "outputs": [
        {
          "output_type": "execute_result",
          "data": {
            "text/plain": [
              "['2010-08-17',\n",
              " '2012-11-30',\n",
              " '2012-12-06',\n",
              " '2012-12-13',\n",
              " '2013-03-05',\n",
              " '2013-03-05',\n",
              " '2013-03-05',\n",
              " '2013-03-05',\n",
              " '2013-03-05',\n",
              " '2013-03-05']"
            ]
          },
          "metadata": {
            "tags": []
          },
          "execution_count": 41
        }
      ]
    },
    {
      "cell_type": "code",
      "metadata": {
        "colab": {
          "base_uri": "https://localhost:8080/"
        },
        "id": "Om-bQ1oQ-BTl",
        "outputId": "74ee2b57-1dc6-4511-9bf7-a06b849037f3"
      },
      "source": [
        "new_lines3 = []\r\n",
        "for line in new_lines2:\r\n",
        "    if line.startswith(\"00\"):\r\n",
        "        new_lines3.append(line.replace(\"00\", \"20\"))\r\n",
        "    else:\r\n",
        "        new_lines3.append(line)\r\n",
        "\r\n",
        "len(new_lines3)"
      ],
      "execution_count": 49,
      "outputs": [
        {
          "output_type": "execute_result",
          "data": {
            "text/plain": [
              "43749"
            ]
          },
          "metadata": {
            "tags": []
          },
          "execution_count": 49
        }
      ]
    },
    {
      "cell_type": "code",
      "metadata": {
        "colab": {
          "base_uri": "https://localhost:8080/"
        },
        "id": "hrzCRwBz_7RF",
        "outputId": "861ea238-6615-4a2f-dd4f-29ff697a92bf"
      },
      "source": [
        "new_lines3[:30]"
      ],
      "execution_count": 50,
      "outputs": [
        {
          "output_type": "execute_result",
          "data": {
            "text/plain": [
              "['2010-08-17',\n",
              " '2012-11-30',\n",
              " '2012-12-06',\n",
              " '2012-12-13',\n",
              " '2013-03-05',\n",
              " '2013-03-05',\n",
              " '2013-03-05',\n",
              " '2013-03-05',\n",
              " '2013-03-05',\n",
              " '2013-03-05',\n",
              " '2013-03-05',\n",
              " '2013-03-05',\n",
              " '2013-03-05',\n",
              " '2013-04-11',\n",
              " '2013-04-12',\n",
              " '2013-04-12',\n",
              " '2013-05-16',\n",
              " '2013-05-16',\n",
              " '2013-11-25',\n",
              " '2013-11-26',\n",
              " '2013-12-13',\n",
              " '1997-06-01',\n",
              " '1998-10-21',\n",
              " '2000-02-24',\n",
              " '2000-04-11',\n",
              " '2000-04-11',\n",
              " '2000-04-11',\n",
              " '2000-04-11',\n",
              " '2000-04-11',\n",
              " '2000-04-11']"
            ]
          },
          "metadata": {
            "tags": []
          },
          "execution_count": 50
        }
      ]
    },
    {
      "cell_type": "code",
      "metadata": {
        "colab": {
          "base_uri": "https://localhost:8080/",
          "height": 35
        },
        "id": "8h6KFXwLAJIr",
        "outputId": "94db53ab-cac7-4368-f177-123718b2f508"
      },
      "source": [
        "new_lines3.sort()\r\n",
        "new_lines3[0]"
      ],
      "execution_count": 51,
      "outputs": [
        {
          "output_type": "execute_result",
          "data": {
            "application/vnd.google.colaboratory.intrinsic+json": {
              "type": "string"
            },
            "text/plain": [
              "'1997-06-01'"
            ]
          },
          "metadata": {
            "tags": []
          },
          "execution_count": 51
        }
      ]
    },
    {
      "cell_type": "code",
      "metadata": {
        "colab": {
          "base_uri": "https://localhost:8080/",
          "height": 35
        },
        "id": "nmh8TQL6ARW8",
        "outputId": "0668d533-4a85-4802-bb24-00049c61ef18"
      },
      "source": [
        "new_lines[-1]"
      ],
      "execution_count": 52,
      "outputs": [
        {
          "output_type": "execute_result",
          "data": {
            "application/vnd.google.colaboratory.intrinsic+json": {
              "type": "string"
            },
            "text/plain": [
              "'2020-08-20\\n'"
            ]
          },
          "metadata": {
            "tags": []
          },
          "execution_count": 52
        }
      ]
    },
    {
      "cell_type": "code",
      "metadata": {
        "colab": {
          "base_uri": "https://localhost:8080/"
        },
        "id": "anqvlZu_AXVd",
        "outputId": "7939af70-a01c-4b0a-85cd-1b1229e5bca7"
      },
      "source": [
        "new_lines4 = []\r\n",
        "for line in new_lines3:\r\n",
        "    new_lines4.append(line.split(\"-\")[0])\r\n",
        "\r\n",
        "new_lines4[:20]"
      ],
      "execution_count": 62,
      "outputs": [
        {
          "output_type": "execute_result",
          "data": {
            "text/plain": [
              "['1997',\n",
              " '1998',\n",
              " '2000',\n",
              " '2000',\n",
              " '2000',\n",
              " '2000',\n",
              " '2000',\n",
              " '2000',\n",
              " '2000',\n",
              " '2000',\n",
              " '2000',\n",
              " '2000',\n",
              " '2000',\n",
              " '2000',\n",
              " '2000',\n",
              " '2001',\n",
              " '2001',\n",
              " '2001',\n",
              " '2001',\n",
              " '2001']"
            ]
          },
          "metadata": {
            "tags": []
          },
          "execution_count": 62
        }
      ]
    },
    {
      "cell_type": "code",
      "metadata": {
        "colab": {
          "base_uri": "https://localhost:8080/"
        },
        "id": "CiASm-HrB6VF",
        "outputId": "334105e8-fb93-4910-b10a-ce6d65c8737c"
      },
      "source": [
        "set(new_lines4)"
      ],
      "execution_count": 63,
      "outputs": [
        {
          "output_type": "execute_result",
          "data": {
            "text/plain": [
              "{'1997',\n",
              " '1998',\n",
              " '2000',\n",
              " '2001',\n",
              " '2002',\n",
              " '2003',\n",
              " '2004',\n",
              " '2005',\n",
              " '2006',\n",
              " '2007',\n",
              " '2008',\n",
              " '2009',\n",
              " '2010',\n",
              " '2011',\n",
              " '2012',\n",
              " '2013',\n",
              " '2014',\n",
              " '2015',\n",
              " '2016',\n",
              " '2017',\n",
              " '2018',\n",
              " '2019',\n",
              " '2020'}"
            ]
          },
          "metadata": {
            "tags": []
          },
          "execution_count": 63
        }
      ]
    },
    {
      "cell_type": "code",
      "metadata": {
        "colab": {
          "base_uri": "https://localhost:8080/"
        },
        "id": "EqIJ40PCCJ-P",
        "outputId": "09116cb4-2023-4354-d1c0-996b84af6d7c"
      },
      "source": [
        "x = {, 1}\r\n",
        "print(type(x))"
      ],
      "execution_count": 67,
      "outputs": [
        {
          "output_type": "stream",
          "text": [
            "<class 'set'>\n"
          ],
          "name": "stdout"
        }
      ]
    },
    {
      "cell_type": "code",
      "metadata": {
        "id": "7OztHQV1DGDb"
      },
      "source": [
        "with open(\"output.csv\", \"tw\") as f:\r\n",
        "    counter = 0\r\n",
        "    for line in new_lines3:\r\n",
        "        counter += 1\r\n",
        "        if counter % 3 == 0:\r\n",
        "            f.write(\"\\n\")\r\n",
        "\r\n",
        "        f.write(line)\r\n",
        "        f.write(\",\")\r\n",
        "        \r\n"
      ],
      "execution_count": 73,
      "outputs": []
    }
  ]
}