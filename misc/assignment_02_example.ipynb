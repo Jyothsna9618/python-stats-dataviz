{
  "nbformat": 4,
  "nbformat_minor": 0,
  "metadata": {
    "colab": {
      "name": "Untitled14.ipynb",
      "provenance": [],
      "authorship_tag": "ABX9TyOEyvo7hMlmOvsrhJdpXae2",
      "include_colab_link": true
    },
    "kernelspec": {
      "name": "python3",
      "display_name": "Python 3"
    }
  },
  "cells": [
    {
      "cell_type": "markdown",
      "metadata": {
        "id": "view-in-github",
        "colab_type": "text"
      },
      "source": [
        "<a href=\"https://colab.research.google.com/github/wcj365/python-stats-dataviz/blob/master/assignment_02_example.ipynb\" target=\"_parent\"><img src=\"https://colab.research.google.com/assets/colab-badge.svg\" alt=\"Open In Colab\"/></a>"
      ]
    },
    {
      "cell_type": "code",
      "metadata": {
        "id": "HXY8rYWxoBKs",
        "colab_type": "code",
        "colab": {
          "base_uri": "https://localhost:8080/",
          "height": 300
        },
        "outputId": "82466fb0-ef3a-4ca1-9393-958399ba39d0"
      },
      "source": [
        "while True:\n",
        "    # Input function prompts user to enter data \n",
        "    Input_Integers = input(\"Please enter 10 Integers(0-9)separated by a single space only \")\n",
        "    print(\"\\n\")\n",
        "    # Ensure the Input_Integers can be split by a single space\n",
        "    Integer_list = Input_Integers.split() \n",
        "    # shows user data they inputed\n",
        "    print(\"Integer list: \", Integer_list) \n",
        "    # converting the string of data to floats for easy manipulation\n",
        "    list_of_floats = []\n",
        "    for num in Integer_list:\n",
        "        list_of_floats.append(float(num))\n",
        "    # Ensure the user is only able to input numbers\n",
        "    if Input_Integers.isdigit(): \n",
        "        print (\"Only integers are allowed please retry 0-9\\n\")\n",
        "        # continues the loop\n",
        "        continue \n",
        "    # Ensure the user is only able to input 10 digits    \n",
        "    elif len(Integer_list) != 10:\n",
        "        print (\"Enter 10 digits\\n,\")\n",
        "        # continues the loop\n",
        "        continue\n",
        "        \n",
        "    else: \n",
        "            # find the sum of the Integer_list for easy manipulation of statistical data\n",
        "            sums = 0\n",
        "            for num in Integer_list:\n",
        "                sums += int(num)\n",
        "            # show sum to user\n",
        "            print(\"Sum = \", sums)\n",
        "            # find the smallest digit in the series\n",
        "            print(\"Minimum:\", * sorted(Integer_list) [:1])\n",
        "            # find the largest digit in the series\n",
        "            print(\"Maximum:\", * sorted(Integer_list) [-1])\n",
        "            # find the difference between the largest and smallest numbers\n",
        "            print(\"Range:\", [9-0]) \n",
        "            # Calculate the mean\n",
        "            avg= sums/10\n",
        "            # Show the mean to the user\n",
        "            print(\"Mean:\", avg)\n",
        "            # calculate the Varience \n",
        "            var1 = sum((i - avg) ** 2 for i in list_of_floats ) / len(list_of_floats) \n",
        "            # show the varience to the user\n",
        "            print(\"Variance: \" + str(var1)) \n",
        "            # calculate the standard deviation\n",
        "            Dev1 = var1 ** 0.5\n",
        "            # show the user the standard deviation\n",
        "            print(\"Standard Deviation: \" + str(Dev1)) \n",
        "    break # End the loop"
      ],
      "execution_count": 3,
      "outputs": [
        {
          "output_type": "stream",
          "text": [
            "Please enter 10 Integers(0-9)separated by a single space only jay 1 2 3\n",
            "\n",
            "\n",
            "Integer list:  ['jay', '1', '2', '3']\n"
          ],
          "name": "stdout"
        },
        {
          "output_type": "error",
          "ename": "ValueError",
          "evalue": "ignored",
          "traceback": [
            "\u001b[0;31m---------------------------------------------------------------------------\u001b[0m",
            "\u001b[0;31mValueError\u001b[0m                                Traceback (most recent call last)",
            "\u001b[0;32m<ipython-input-3-31f4b0e5803d>\u001b[0m in \u001b[0;36m<module>\u001b[0;34m()\u001b[0m\n\u001b[1;32m     10\u001b[0m     \u001b[0mlist_of_floats\u001b[0m \u001b[0;34m=\u001b[0m \u001b[0;34m[\u001b[0m\u001b[0;34m]\u001b[0m\u001b[0;34m\u001b[0m\u001b[0;34m\u001b[0m\u001b[0m\n\u001b[1;32m     11\u001b[0m     \u001b[0;32mfor\u001b[0m \u001b[0mnum\u001b[0m \u001b[0;32min\u001b[0m \u001b[0mInteger_list\u001b[0m\u001b[0;34m:\u001b[0m\u001b[0;34m\u001b[0m\u001b[0;34m\u001b[0m\u001b[0m\n\u001b[0;32m---> 12\u001b[0;31m         \u001b[0mlist_of_floats\u001b[0m\u001b[0;34m.\u001b[0m\u001b[0mappend\u001b[0m\u001b[0;34m(\u001b[0m\u001b[0mfloat\u001b[0m\u001b[0;34m(\u001b[0m\u001b[0mnum\u001b[0m\u001b[0;34m)\u001b[0m\u001b[0;34m)\u001b[0m\u001b[0;34m\u001b[0m\u001b[0;34m\u001b[0m\u001b[0m\n\u001b[0m\u001b[1;32m     13\u001b[0m     \u001b[0;31m# Ensure the user is only able to input numbers\u001b[0m\u001b[0;34m\u001b[0m\u001b[0;34m\u001b[0m\u001b[0;34m\u001b[0m\u001b[0m\n\u001b[1;32m     14\u001b[0m     \u001b[0;32mif\u001b[0m \u001b[0mInput_Integers\u001b[0m\u001b[0;34m.\u001b[0m\u001b[0misdigit\u001b[0m\u001b[0;34m(\u001b[0m\u001b[0;34m)\u001b[0m\u001b[0;34m:\u001b[0m\u001b[0;34m\u001b[0m\u001b[0;34m\u001b[0m\u001b[0m\n",
            "\u001b[0;31mValueError\u001b[0m: could not convert string to float: 'jay'"
          ]
        }
      ]
    }
  ]
}