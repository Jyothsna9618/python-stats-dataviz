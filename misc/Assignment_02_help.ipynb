{
  "nbformat": 4,
  "nbformat_minor": 0,
  "metadata": {
    "colab": {
      "name": "Assignment_02_help.ipynb",
      "provenance": [],
      "authorship_tag": "ABX9TyN0WrzEMl/llopc9hAYo+gI",
      "include_colab_link": true
    },
    "kernelspec": {
      "name": "python3",
      "display_name": "Python 3"
    }
  },
  "cells": [
    {
      "cell_type": "markdown",
      "metadata": {
        "id": "view-in-github",
        "colab_type": "text"
      },
      "source": [
        "<a href=\"https://colab.research.google.com/github/wcj365/python-stats-dataviz/blob/master/Assignment_02_help.ipynb\" target=\"_parent\"><img src=\"https://colab.research.google.com/assets/colab-badge.svg\" alt=\"Open In Colab\"/></a>"
      ]
    },
    {
      "cell_type": "markdown",
      "metadata": {
        "id": "iOU4cvuJoNrH",
        "colab_type": "text"
      },
      "source": [
        "## Version one"
      ]
    },
    {
      "cell_type": "code",
      "metadata": {
        "id": "1v3-qA3EoDN7",
        "colab_type": "code",
        "colab": {}
      },
      "source": [
        "num_list = []\n",
        "\n",
        "for i in range(3):\n",
        "    num = input(f\"please enter an integer ({i + 1} of 3): \")\n",
        "    print(\"you entered: \", num)\n",
        "    try:\n",
        "        num = int(num)\n",
        "        num_list.append(num)\n",
        "    except:\n",
        "        print(\"You have entered a non-integer. Please try again.\")\n",
        "\n",
        "print(num_list)"
      ],
      "execution_count": null,
      "outputs": []
    },
    {
      "cell_type": "markdown",
      "metadata": {
        "id": "XRLBev2KtCMc",
        "colab_type": "text"
      },
      "source": [
        "# Version two"
      ]
    },
    {
      "cell_type": "code",
      "metadata": {
        "id": "cKIERTJms-qE",
        "colab_type": "code",
        "colab": {}
      },
      "source": [
        "num_list = []\n",
        "\n",
        "count = 0      # counter initialized to zero\n",
        "\n",
        "while True:   # infinite loop\n",
        "\n",
        "    if count == 3:      # check for counter\n",
        "        break\n",
        "\n",
        "    num = input(f\"\\nplease enter an integer ({count + 1} of 3): \")\n",
        "\n",
        "    try:\n",
        "        num = int(num)\n",
        "        num_list.append(num)\n",
        "        count = count + 1         # increment the counter\n",
        "    except:\n",
        "        print(\"\\nYou have entered a non-integer. Please try again.\")\n",
        "\n",
        "print(\"\\n\", num_list)"
      ],
      "execution_count": null,
      "outputs": []
    },
    {
      "cell_type": "markdown",
      "metadata": {
        "id": "WDsDVnRZw-0i",
        "colab_type": "text"
      },
      "source": [
        "## Version three"
      ]
    },
    {
      "cell_type": "code",
      "metadata": {
        "id": "TjqIUmM0vjHV",
        "colab_type": "code",
        "colab": {
          "base_uri": "https://localhost:8080/",
          "height": 153
        },
        "outputId": "a4096be3-a284-42e7-f099-a0004ae116ad"
      },
      "source": [
        "num_list = []\n",
        "\n",
        "while len(num_list) < 3:\n",
        "\n",
        "    num = input(f\"\\nplease enter an integer ({len(num_list) + 1} of 3): \")\n",
        "\n",
        "    try:\n",
        "        num = int(num)\n",
        "        num_list.append(num)\n",
        "    except:\n",
        "        print(\"\\nYou have entered a non-integer. Please try again.\")\n",
        "\n",
        "print(\"\\n\", num_list)"
      ],
      "execution_count": 1,
      "outputs": [
        {
          "output_type": "stream",
          "text": [
            "\n",
            "please enter an integer (1 of 3): 100\n",
            "\n",
            "please enter an integer (2 of 3): 200\n",
            "\n",
            "please enter an integer (3 of 3): 300\n",
            "\n",
            " [100, 200, 300]\n"
          ],
          "name": "stdout"
        }
      ]
    },
    {
      "cell_type": "markdown",
      "metadata": {
        "id": "I3ZBiZOxxWz7",
        "colab_type": "text"
      },
      "source": [
        "## calculate mean"
      ]
    },
    {
      "cell_type": "code",
      "metadata": {
        "id": "y62-coVMpr7m",
        "colab_type": "code",
        "colab": {
          "base_uri": "https://localhost:8080/",
          "height": 34
        },
        "outputId": "b7054f52-2a35-4ce2-93bc-ab2c0981bb61"
      },
      "source": [
        "## don't use Python reserved keywords.\n",
        "\n",
        "# sum = 0\n",
        "\n",
        "#for num in num_list:\n",
        "#    sum = sum + num\n",
        "\n",
        "total = 0\n",
        "for num in num_list:\n",
        "    total += num\n",
        "\n",
        "print(f\"average = {total/len(num_list)}\" )\n",
        "\n",
        "# print(\"average: \", sum(num_list)/len(num_list))\n",
        "\n",
        "\n"
      ],
      "execution_count": 4,
      "outputs": [
        {
          "output_type": "stream",
          "text": [
            "average = 200.0\n"
          ],
          "name": "stdout"
        }
      ]
    }
  ]
}