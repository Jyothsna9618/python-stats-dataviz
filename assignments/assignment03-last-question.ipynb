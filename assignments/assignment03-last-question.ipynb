{
  "nbformat": 4,
  "nbformat_minor": 0,
  "metadata": {
    "colab": {
      "name": "assignment03.ipynb",
      "provenance": [],
      "include_colab_link": true
    },
    "kernelspec": {
      "name": "python3",
      "display_name": "Python 3"
    }
  },
  "cells": [
    {
      "cell_type": "markdown",
      "metadata": {
        "id": "view-in-github",
        "colab_type": "text"
      },
      "source": [
        "<a href=\"https://colab.research.google.com/github/wcj365/python-stats-dataviz/blob/master/assignments/assignment03-last-question.ipynb\" target=\"_parent\"><img src=\"https://colab.research.google.com/assets/colab-badge.svg\" alt=\"Open In Colab\"/></a>"
      ]
    },
    {
      "cell_type": "code",
      "metadata": {
        "id": "HaCNzh-36PAb"
      },
      "source": [
        "import random "
      ],
      "execution_count": 18,
      "outputs": []
    },
    {
      "cell_type": "markdown",
      "metadata": {
        "id": "RvVqHXCz4koX"
      },
      "source": [
        "### Step 1 - Create the 10 by 10 matrix"
      ]
    },
    {
      "cell_type": "code",
      "metadata": {
        "colab": {
          "base_uri": "https://localhost:8080/"
        },
        "id": "TJK9K4M1zpVU",
        "outputId": "998c4f94-16a2-481b-e1b5-cfad4a807975"
      },
      "source": [
        "matrix = []\r\n",
        "\r\n",
        "for i in range(10):\r\n",
        "\r\n",
        "    row = []\r\n",
        "\r\n",
        "    for j in range(10):\r\n",
        "        row.append(random.randint(0,9))\r\n",
        "        \r\n",
        "    matrix.append(row)\r\n",
        "\r\n",
        "print(matrix)"
      ],
      "execution_count": 3,
      "outputs": [
        {
          "output_type": "stream",
          "text": [
            "[[5, 8, 4, 8, 4, 4, 5, 0, 6, 8], [6, 7, 6, 4, 5, 9, 9, 5, 0, 5], [6, 6, 5, 9, 3, 1, 5, 0, 3, 0], [1, 4, 6, 3, 2, 3, 7, 9, 0, 7], [2, 4, 4, 5, 2, 1, 7, 6, 9, 1], [1, 0, 0, 2, 4, 6, 9, 7, 3, 2], [6, 6, 0, 8, 0, 6, 4, 6, 3, 9], [0, 5, 3, 7, 6, 8, 4, 4, 8, 3], [5, 4, 6, 1, 0, 6, 9, 4, 5, 6], [0, 4, 4, 1, 0, 8, 7, 0, 9, 0]]\n"
          ],
          "name": "stdout"
        }
      ]
    },
    {
      "cell_type": "markdown",
      "metadata": {
        "id": "XxotlNDt4yai"
      },
      "source": [
        "### Step 2 - Display the rows, row sums, and column sums"
      ]
    },
    {
      "cell_type": "code",
      "metadata": {
        "colab": {
          "base_uri": "https://localhost:8080/"
        },
        "id": "60dJTu6Q1Dux",
        "outputId": "f916514f-2ab8-466e-c6eb-a556339bba33"
      },
      "source": [
        "# Display rows and row sums first\r\n",
        "for row in matrix:\r\n",
        "\r\n",
        "    for i in range(10):\r\n",
        "        print(row[i], end=\"  \")\r\n",
        "\r\n",
        "    print(sum(row), \"  \")\r\n",
        "\r\n",
        "# Initial the colum sums \r\n",
        "col_sums = [0] * 10    # simpler than [0,0,0,0,0,0,0,0,0,0]\r\n",
        "\r\n",
        "# Calculate column sums\r\n",
        "for i in range(10):\r\n",
        "    for j in range(10):\r\n",
        "        col_sums[i] += matrix[j][i]\r\n",
        "\r\n",
        "# Display column sums\r\n",
        "for i in range(10):\r\n",
        "    print(col_sums[i], end=\" \")    "
      ],
      "execution_count": 20,
      "outputs": [
        {
          "output_type": "stream",
          "text": [
            "5  8  4  8  4  4  5  0  6  8  52   \n",
            "6  7  6  4  5  9  9  5  0  5  56   \n",
            "6  6  5  9  3  1  5  0  3  0  38   \n",
            "1  4  6  3  2  3  7  9  0  7  42   \n",
            "2  4  4  5  2  1  7  6  9  1  41   \n",
            "1  0  0  2  4  6  9  7  3  2  34   \n",
            "6  6  0  8  0  6  4  6  3  9  48   \n",
            "0  5  3  7  6  8  4  4  8  3  48   \n",
            "5  4  6  1  0  6  9  4  5  6  46   \n",
            "0  4  4  1  0  8  7  0  9  0  33   \n",
            "32 48 38 48 26 52 66 41 46 41 "
          ],
          "name": "stdout"
        }
      ]
    },
    {
      "cell_type": "code",
      "metadata": {
        "id": "Yz9bBVFe47LE"
      },
      "source": [
        "col_sums = [0] * 10\r\n",
        "\r\n",
        "for i in range(10):\r\n",
        "    for j in range(10):\r\n",
        "        col_sums[i] += matrix[j][i]\r\n",
        "\r\n",
        "for i in range(10):\r\n",
        "    print(col_sums[i], end=\" \")    "
      ],
      "execution_count": null,
      "outputs": []
    }
  ]
}