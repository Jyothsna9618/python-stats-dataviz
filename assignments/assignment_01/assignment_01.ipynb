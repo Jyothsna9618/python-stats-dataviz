{
  "nbformat": 4,
  "nbformat_minor": 0,
  "metadata": {
    "colab": {
      "name": "assignment_01.ipynb",
      "provenance": [],
      "authorship_tag": "ABX9TyNcCx7khwpjCoCtSCjNUzpG",
      "include_colab_link": true
    },
    "kernelspec": {
      "name": "python3",
      "display_name": "Python 3"
    },
    "language_info": {
      "name": "python"
    }
  },
  "cells": [
    {
      "cell_type": "markdown",
      "metadata": {
        "id": "view-in-github",
        "colab_type": "text"
      },
      "source": [
        "<a href=\"https://colab.research.google.com/github/wcj365/data690fall21/blob/main/assignment_01/assignment_01.ipynb\" target=\"_parent\"><img src=\"https://colab.research.google.com/assets/colab-badge.svg\" alt=\"Open In Colab\"/></a>"
      ]
    },
    {
      "cell_type": "markdown",
      "metadata": {
        "id": "mBBfI_IoOEyA"
      },
      "source": [
        "\n",
        "# Assignment 1 for DATA 690 FALL 2021\n",
        "\n",
        "- Instructor: Dr Jay Wang\n",
        "- Studdent: Jay Wang\n",
        "- Date:09/02/2021\n",
        "\n",
        "This is for demonstrating the use of Jupyter Notebook.\n",
        "\n",
        "\n"
      ]
    },
    {
      "cell_type": "markdown",
      "metadata": {
        "id": "ZGAL6K3CQUpO"
      },
      "source": [
        "## 1. Simplest Python Code"
      ]
    },
    {
      "cell_type": "code",
      "metadata": {
        "colab": {
          "base_uri": "https://localhost:8080/"
        },
        "id": "D6ig_ZIyNs55",
        "outputId": "f604b46f-5579-4b9c-b91f-0cd767eb6416"
      },
      "source": [
        "print(\"Hello World!\")    "
      ],
      "execution_count": null,
      "outputs": [
        {
          "output_type": "stream",
          "name": "stdout",
          "text": [
            "Hello World!\n"
          ]
        }
      ]
    },
    {
      "cell_type": "markdown",
      "metadata": {
        "id": "kJg_ZayqP_SM"
      },
      "source": [
        "\n",
        "## 2. Perform multiplication\n"
      ]
    },
    {
      "cell_type": "code",
      "metadata": {
        "colab": {
          "base_uri": "https://localhost:8080/"
        },
        "id": "faQTPxZNO48K",
        "outputId": "33e4a7d9-58ac-4aeb-f9df-5f228b30bc48"
      },
      "source": [
        "x = 10 * 2\n",
        "print(x)"
      ],
      "execution_count": null,
      "outputs": [
        {
          "output_type": "stream",
          "name": "stdout",
          "text": [
            "20\n"
          ]
        }
      ]
    },
    {
      "cell_type": "markdown",
      "metadata": {
        "id": "KWtcVsoNQIMW"
      },
      "source": [
        "## 3. Perform Division"
      ]
    },
    {
      "cell_type": "code",
      "metadata": {
        "colab": {
          "base_uri": "https://localhost:8080/"
        },
        "id": "LDRN4SqmO-4t",
        "outputId": "b6ba44b9-1f8b-4aba-892c-cf4db1bf0da1"
      },
      "source": [
        "y = 100\n",
        "z = y / x\n",
        "print(z)"
      ],
      "execution_count": null,
      "outputs": [
        {
          "output_type": "stream",
          "name": "stdout",
          "text": [
            "5.0\n"
          ]
        }
      ]
    },
    {
      "cell_type": "markdown",
      "metadata": {
        "id": "b4NU3RO8SHDW"
      },
      "source": [
        "## 4. Addition"
      ]
    },
    {
      "cell_type": "code",
      "metadata": {
        "id": "6XAbBmJ7SKdX",
        "outputId": "2605f7c9-7fad-4dc4-b06b-9a98c280ab4b",
        "colab": {
          "base_uri": "https://localhost:8080/"
        }
      },
      "source": [
        "print(100 + 200)"
      ],
      "execution_count": 1,
      "outputs": [
        {
          "output_type": "stream",
          "name": "stdout",
          "text": [
            "300\n"
          ]
        }
      ]
    }
  ]
}