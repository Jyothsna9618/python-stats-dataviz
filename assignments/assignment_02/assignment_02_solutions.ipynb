{
  "nbformat": 4,
  "nbformat_minor": 0,
  "metadata": {
    "colab": {
      "provenance": [],
      "authorship_tag": "ABX9TyPWeHtN49eSQRAyuenFo31i",
      "include_colab_link": true
    },
    "kernelspec": {
      "name": "python3",
      "display_name": "Python 3"
    },
    "language_info": {
      "name": "python"
    }
  },
  "cells": [
    {
      "cell_type": "markdown",
      "metadata": {
        "id": "view-in-github",
        "colab_type": "text"
      },
      "source": [
        "<a href=\"https://colab.research.google.com/github/wcj365/python-stats-dataviz/blob/master/assignments/assignment_02/assignment_02_solutions.ipynb\" target=\"_parent\"><img src=\"https://colab.research.google.com/assets/colab-badge.svg\" alt=\"Open In Colab\"/></a>"
      ]
    },
    {
      "cell_type": "markdown",
      "source": [
        "# Assignment 02 Solutions"
      ],
      "metadata": {
        "id": "v9L1vSPR4d6j"
      }
    },
    {
      "cell_type": "code",
      "source": [
        "SIZE = 3    # Total number of integers to be entered. Set to 3, a small number for quick testing."
      ],
      "metadata": {
        "id": "t5MXdJkk4kiV"
      },
      "execution_count": 1,
      "outputs": []
    },
    {
      "cell_type": "markdown",
      "source": [
        "## Solution 1 \n",
        "\n",
        "This solution does not work. If a user enter an invalid input, you will collect one less integers."
      ],
      "metadata": {
        "id": "HJi-uk-H46Fu"
      }
    },
    {
      "cell_type": "code",
      "execution_count": 3,
      "metadata": {
        "colab": {
          "base_uri": "https://localhost:8080/"
        },
        "id": "ku5RM7vV2e_E",
        "outputId": "cb8072c1-1085-4d90-94a0-15e05265e1bd"
      },
      "outputs": [
        {
          "output_type": "stream",
          "name": "stdout",
          "text": [
            "\n",
            "please enter an integer (1 of 3): 23\n",
            "you entered:  23\n",
            "\n",
            "please enter an integer (2 of 3): qweqe\n",
            "you entered:  qweqe\n",
            "You have entered a non-integer. Please try again.\n",
            "\n",
            "please enter an integer (3 of 3): 45\n",
            "you entered:  45\n",
            "\n",
            "You have entered: [23, 45]\n"
          ]
        }
      ],
      "source": [
        "num_list = []    # The list of inputs is initialized to and empty list (it is length is 0)\n",
        "\n",
        "for i in range(SIZE):       # repeat this for 10 times (if SIZE is set to 10)\n",
        "\n",
        "    # f is for string formatting. variables are enclosed in {} and are substituded with actual value\n",
        "    num = input(f\"\\nplease enter an integer ({i + 1} of {SIZE}): \")  \n",
        "    print(\"you entered: \", num)\n",
        "\n",
        "    try:\n",
        "        num = int(num)           # convert the input string to an integer\n",
        "        num_list.append(num)     # append the integer to the list after the successful conversion\n",
        "    except:                      # conversion failed\n",
        "        print(\"You have entered a non-integer. Please try again.\")\n",
        "\n",
        "print(\"\\nYou have entered:\", num_list)"
      ]
    },
    {
      "cell_type": "markdown",
      "source": [
        "## Solution 2\n",
        "\n",
        "This solution works. It use an infinite loop."
      ],
      "metadata": {
        "id": "p1Q2PHRh5d7H"
      }
    },
    {
      "cell_type": "code",
      "source": [
        "num_list = []\n",
        "\n",
        "count = 0      # counter initialized to zero\n",
        "\n",
        "while True:   # infinite loop\n",
        "\n",
        "    if count == SIZE:      # check to see if we have got all valid inputs. if so, break out of the loop \n",
        "        break\n",
        "\n",
        "    num = input(f\"\\nplease enter an integer ({count + 1} of {SIZE}): \")\n",
        "\n",
        "    try:\n",
        "        num = int(num)\n",
        "        num_list.append(num)\n",
        "        count = count + 1         # increase the counter by one\n",
        "    except:\n",
        "        print(\"\\nYou have entered a non-integer. Please try again.\")\n",
        "\n",
        "print(\"\\nYou have entered:\", num_list)"
      ],
      "metadata": {
        "colab": {
          "base_uri": "https://localhost:8080/"
        },
        "id": "5G7JEh9V2q36",
        "outputId": "4767c537-1724-47e4-f39d-e95a2a8f7fd7"
      },
      "execution_count": null,
      "outputs": [
        {
          "output_type": "stream",
          "name": "stdout",
          "text": [
            "\n",
            "please enter an integer (1 of 3): we\n",
            "\n",
            "You have entered a non-integer. Please try again.\n",
            "\n",
            "please enter an integer (1 of 3): 2\n",
            "\n",
            "please enter an integer (2 of 3): erw\n",
            "\n",
            "You have entered a non-integer. Please try again.\n",
            "\n",
            "please enter an integer (2 of 3): 45\n",
            "\n",
            "please enter an integer (3 of 3): 34\n",
            "\n",
            "You have entered: [2, 45, 34]\n"
          ]
        }
      ]
    },
    {
      "cell_type": "markdown",
      "source": [
        "## Solution 3\n",
        "\n",
        "This works. It uses a finite loop."
      ],
      "metadata": {
        "id": "-UG1Y9Kj5wLp"
      }
    },
    {
      "cell_type": "code",
      "source": [
        "num_list = []\n",
        "\n",
        "while len(num_list) < SIZE:      # do the following until we get all valid inputs\n",
        "\n",
        "    num = input(f\"\\nplease enter an integer ({len(num_list) + 1} of {SIZE}): \")\n",
        "\n",
        "    try:\n",
        "        num = int(num)\n",
        "        num_list.append(num)\n",
        "    except:\n",
        "        print(\"\\nYou have entered a non-integer. Please try again.\")\n",
        "\n",
        "print(\"\\nYou have entered:\", num_list)"
      ],
      "metadata": {
        "colab": {
          "base_uri": "https://localhost:8080/"
        },
        "id": "sh_jg4bV3E3w",
        "outputId": "2b57144a-3139-407e-859a-194094520728"
      },
      "execution_count": null,
      "outputs": [
        {
          "output_type": "stream",
          "name": "stdout",
          "text": [
            "\n",
            "please enter an integer (1 of 3): we\n",
            "\n",
            "You have entered a non-integer. Please try again.\n",
            "\n",
            "please enter an integer (1 of 3): are\n",
            "\n",
            "You have entered a non-integer. Please try again.\n",
            "\n",
            "please enter an integer (1 of 3): 45\n",
            "\n",
            "please enter an integer (2 of 3): 89\n",
            "\n",
            "please enter an integer (3 of 3): er\n",
            "\n",
            "You have entered a non-integer. Please try again.\n",
            "\n",
            "please enter an integer (3 of 3): ty\n",
            "\n",
            "You have entered a non-integer. Please try again.\n",
            "\n",
            "please enter an integer (3 of 3): 23\n",
            "\n",
            "You have entered: [45, 89, 23]\n"
          ]
        }
      ]
    },
    {
      "cell_type": "markdown",
      "source": [
        "## Solution 4 \n",
        "\n",
        "This is copied from one of the students. A different approach and works well."
      ],
      "metadata": {
        "id": "VwJZABnY-I1a"
      }
    },
    {
      "cell_type": "code",
      "source": [
        "The_List = [ ]\n",
        "for i in range (1,SIZE):\n",
        "    while True:\n",
        "        a = input(\"Enter and Integer:\")\n",
        "        try:\n",
        "            b = int(a)\n",
        "            The_List.append(b)\n",
        "            print(\"Got Integer\",a)\n",
        "            break\n",
        "        except:\n",
        "            print(\"You must enter an integer,Please try again.\")\n",
        "print(\"You have Entered the list\", The_List)"
      ],
      "metadata": {
        "id": "mYONMSKr99Ys"
      },
      "execution_count": null,
      "outputs": []
    }
  ]
}