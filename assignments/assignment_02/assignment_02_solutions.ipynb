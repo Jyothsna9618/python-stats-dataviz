{
  "nbformat": 4,
  "nbformat_minor": 0,
  "metadata": {
    "colab": {
      "provenance": [],
      "authorship_tag": "ABX9TyPYZrjKaVxcqleMtwDbExBQ",
      "include_colab_link": true
    },
    "kernelspec": {
      "name": "python3",
      "display_name": "Python 3"
    },
    "language_info": {
      "name": "python"
    }
  },
  "cells": [
    {
      "cell_type": "markdown",
      "metadata": {
        "id": "view-in-github",
        "colab_type": "text"
      },
      "source": [
        "<a href=\"https://colab.research.google.com/github/wcj365/python-stats-dataviz/blob/master/assignments/assignment_02/assignment_02_solutions.ipynb\" target=\"_parent\"><img src=\"https://colab.research.google.com/assets/colab-badge.svg\" alt=\"Open In Colab\"/></a>"
      ]
    },
    {
      "cell_type": "markdown",
      "source": [
        "# Assignment 02 Solutions"
      ],
      "metadata": {
        "id": "v9L1vSPR4d6j"
      }
    },
    {
      "cell_type": "code",
      "source": [
        "SIZE = 3   # Total number of integers to be entered. Set to 3, a small number for quick testing."
      ],
      "metadata": {
        "id": "t5MXdJkk4kiV"
      },
      "execution_count": 21,
      "outputs": []
    },
    {
      "cell_type": "markdown",
      "source": [
        "## Solution 1 \n",
        "\n",
        "This solution does not work. If a user enter an invalid input, you will collect one less integers."
      ],
      "metadata": {
        "id": "HJi-uk-H46Fu"
      }
    },
    {
      "cell_type": "code",
      "execution_count": 22,
      "metadata": {
        "colab": {
          "base_uri": "https://localhost:8080/"
        },
        "id": "ku5RM7vV2e_E",
        "outputId": "7123fd54-780c-4ae0-bf60-e7c8ff29f664"
      },
      "outputs": [
        {
          "output_type": "stream",
          "name": "stdout",
          "text": [
            "\n",
            "please enter an integer (1 of 3): wwe\n",
            "you entered:  wwe\n",
            "You have entered a non-integer. Please try again.\n",
            "\n",
            "please enter an integer (2 of 3): werre\n",
            "you entered:  werre\n",
            "You have entered a non-integer. Please try again.\n",
            "\n",
            "please enter an integer (3 of 3): wer\n",
            "you entered:  wer\n",
            "You have entered a non-integer. Please try again.\n",
            "\n",
            "You have entered: []\n"
          ]
        }
      ],
      "source": [
        "num_list = []    # The list of inputs is initialized to and empty list (it is length is 0)\n",
        "\n",
        "for i in range(SIZE):       # repeat this for 10 times (if SIZE is set to 10)\n",
        "\n",
        "    # f is for string formatting. variables are enclosed in {} and are substituded with actual value\n",
        "    num = input(f\"\\nplease enter an integer ({i + 1} of {SIZE}): \")  \n",
        "    print(\"you entered: \", num)\n",
        "\n",
        "    try:\n",
        "        num = int(num)           # convert the input string to an integer\n",
        "        num_list.append(num)     # append the integer to the list after the successful conversion\n",
        "    except:                      # conversion failed\n",
        "        print(\"You have entered a non-integer. Please try again.\")\n",
        "\n",
        "print(\"\\nYou have entered:\", num_list)"
      ]
    },
    {
      "cell_type": "markdown",
      "source": [
        "## Correction to Solution 1 Based on Solution 4\n",
        "\n",
        "By adding an infinite loop to force the user to correct input error and enter a valid integer."
      ],
      "metadata": {
        "id": "KnYG4jmWicLW"
      }
    },
    {
      "cell_type": "code",
      "source": [
        "num_list = []    # The list of inputs is initialized to and empty list (it is length is 0)\n",
        "\n",
        "for i in range(SIZE):       # repeat this for 10 times (if SIZE is set to 10)\n",
        "    while True:\n",
        "        # f is for string formatting. variables are enclosed in {} and are substituded with actual value\n",
        "        num = input(f\"\\nplease enter an integer ({i + 1} of {SIZE}): \")  \n",
        "        print(\"you entered: \", num)\n",
        "\n",
        "        try:\n",
        "            num = int(num)           # convert the input string to an integer\n",
        "            num_list.append(num)     # append the integer to the list after the successful conversion\n",
        "            break\n",
        "        except:                      # conversion failed\n",
        "            print(\"You have entered a non-integer. Please try again.\")\n",
        "\n",
        "print(\"\\nYou have entered:\", num_list)"
      ],
      "metadata": {
        "colab": {
          "base_uri": "https://localhost:8080/"
        },
        "id": "tLieNKq9iaPa",
        "outputId": "54b15add-9269-45ff-937c-29d98f0efc80"
      },
      "execution_count": 26,
      "outputs": [
        {
          "output_type": "stream",
          "name": "stdout",
          "text": [
            "\n",
            "please enter an integer (1 of 3): rterty\n",
            "you entered:  rterty\n",
            "You have entered a non-integer. Please try again.\n",
            "\n",
            "please enter an integer (1 of 3): yutyutu\n",
            "you entered:  yutyutu\n",
            "You have entered a non-integer. Please try again.\n",
            "\n",
            "please enter an integer (1 of 3): ghjgjh\n",
            "you entered:  ghjgjh\n",
            "You have entered a non-integer. Please try again.\n",
            "\n",
            "please enter an integer (1 of 3): 67\n",
            "you entered:  67\n",
            "\n",
            "please enter an integer (2 of 3): srtdetyy\n",
            "you entered:  srtdetyy\n",
            "You have entered a non-integer. Please try again.\n",
            "\n",
            "please enter an integer (2 of 3): fgjhgjgu\n",
            "you entered:  fgjhgjgu\n",
            "You have entered a non-integer. Please try again.\n",
            "\n",
            "please enter an integer (2 of 3): gfyuguy\n",
            "you entered:  gfyuguy\n",
            "You have entered a non-integer. Please try again.\n",
            "\n",
            "please enter an integer (2 of 3): 45\n",
            "you entered:  45\n",
            "\n",
            "please enter an integer (3 of 3): 1\n",
            "you entered:  1\n",
            "\n",
            "You have entered: [67, 45, 1]\n"
          ]
        }
      ]
    },
    {
      "cell_type": "code",
      "source": [
        "list(range(0, SIZE))"
      ],
      "metadata": {
        "colab": {
          "base_uri": "https://localhost:8080/"
        },
        "id": "Z-GavsVTeCtm",
        "outputId": "f9aeb45c-3a52-4f2d-8094-99f883594b7a"
      },
      "execution_count": 19,
      "outputs": [
        {
          "output_type": "execute_result",
          "data": {
            "text/plain": [
              "[0, 1, 2, 3, 4, 5, 6, 7, 8, 9]"
            ]
          },
          "metadata": {},
          "execution_count": 19
        }
      ]
    },
    {
      "cell_type": "code",
      "source": [
        "for i in range(5):    # range(5) the same as range(0, 5)\n",
        "    print(i, end=\" \" * 20)"
      ],
      "metadata": {
        "colab": {
          "base_uri": "https://localhost:8080/"
        },
        "id": "Qlg7vnf2eccM",
        "outputId": "0bedaf0f-9c46-4d96-a1e6-aa23a9ed9946"
      },
      "execution_count": 16,
      "outputs": [
        {
          "output_type": "stream",
          "name": "stdout",
          "text": [
            "0                    1                    2                    3                    4                    "
          ]
        }
      ]
    },
    {
      "cell_type": "markdown",
      "source": [
        "## Solution 2\n",
        "\n",
        "This solution works. It use an infinite loop."
      ],
      "metadata": {
        "id": "p1Q2PHRh5d7H"
      }
    },
    {
      "cell_type": "code",
      "source": [
        "num_list = []\n",
        "\n",
        "count = 0      # counter initialized to zero\n",
        "\n",
        "while True:   # infinite loop\n",
        "\n",
        "    if count == SIZE:      # check to see if we have got all valid inputs. if so, break out of the loop \n",
        "        break\n",
        "\n",
        "    num = input(f\"\\nplease enter an integer ({count + 1} of {SIZE}): \")\n",
        "\n",
        "    try:\n",
        "        num = int(num)\n",
        "        num_list.append(num)\n",
        "        count = count + 1         # increase the counter by one\n",
        "    except:\n",
        "        print(\"\\nYou have entered a non-integer. Please try again.\")\n",
        "\n",
        "print(\"\\nYou have entered:\", num_list)"
      ],
      "metadata": {
        "colab": {
          "base_uri": "https://localhost:8080/"
        },
        "id": "5G7JEh9V2q36",
        "outputId": "4767c537-1724-47e4-f39d-e95a2a8f7fd7"
      },
      "execution_count": null,
      "outputs": [
        {
          "output_type": "stream",
          "name": "stdout",
          "text": [
            "\n",
            "please enter an integer (1 of 3): we\n",
            "\n",
            "You have entered a non-integer. Please try again.\n",
            "\n",
            "please enter an integer (1 of 3): 2\n",
            "\n",
            "please enter an integer (2 of 3): erw\n",
            "\n",
            "You have entered a non-integer. Please try again.\n",
            "\n",
            "please enter an integer (2 of 3): 45\n",
            "\n",
            "please enter an integer (3 of 3): 34\n",
            "\n",
            "You have entered: [2, 45, 34]\n"
          ]
        }
      ]
    },
    {
      "cell_type": "markdown",
      "source": [
        "## Solution 3\n",
        "\n",
        "This works. It uses a finite loop."
      ],
      "metadata": {
        "id": "-UG1Y9Kj5wLp"
      }
    },
    {
      "cell_type": "code",
      "source": [
        "num_list = []\n",
        "\n",
        "while len(num_list) < SIZE:      # do the following until we get all valid inputs\n",
        "\n",
        "    num = input(f\"\\nplease enter an integer ({len(num_list) + 1} of {SIZE}): \")\n",
        "\n",
        "    try:\n",
        "        num = int(num)\n",
        "        num_list.append(num)\n",
        "    except:\n",
        "        print(\"\\nYou have entered a non-integer. Please try again.\")\n",
        "\n",
        "print(\"\\nYou have entered:\", num_list)"
      ],
      "metadata": {
        "colab": {
          "base_uri": "https://localhost:8080/"
        },
        "id": "sh_jg4bV3E3w",
        "outputId": "2b57144a-3139-407e-859a-194094520728"
      },
      "execution_count": null,
      "outputs": [
        {
          "output_type": "stream",
          "name": "stdout",
          "text": [
            "\n",
            "please enter an integer (1 of 3): we\n",
            "\n",
            "You have entered a non-integer. Please try again.\n",
            "\n",
            "please enter an integer (1 of 3): are\n",
            "\n",
            "You have entered a non-integer. Please try again.\n",
            "\n",
            "please enter an integer (1 of 3): 45\n",
            "\n",
            "please enter an integer (2 of 3): 89\n",
            "\n",
            "please enter an integer (3 of 3): er\n",
            "\n",
            "You have entered a non-integer. Please try again.\n",
            "\n",
            "please enter an integer (3 of 3): ty\n",
            "\n",
            "You have entered a non-integer. Please try again.\n",
            "\n",
            "please enter an integer (3 of 3): 23\n",
            "\n",
            "You have entered: [45, 89, 23]\n"
          ]
        }
      ]
    },
    {
      "cell_type": "markdown",
      "source": [
        "## Solution 4 \n",
        "\n",
        "This is copied from one of the students. A different approach and works well."
      ],
      "metadata": {
        "id": "VwJZABnY-I1a"
      }
    },
    {
      "cell_type": "code",
      "source": [
        "The_List = [ ]\n",
        "for i in range (0,SIZE):\n",
        "    while True:\n",
        "        a = input(\"Enter and Integer:\")\n",
        "        try:\n",
        "            b = int(a)\n",
        "            The_List.append(b)\n",
        "            print(\"Got Integer\",a)\n",
        "            break\n",
        "        except:\n",
        "            print(\"You must enter an integer,Please try again.\")\n",
        "print(\"You have Entered the list\", The_List)"
      ],
      "metadata": {
        "id": "mYONMSKr99Ys",
        "colab": {
          "base_uri": "https://localhost:8080/"
        },
        "outputId": "fd4acec3-cbee-46f0-9e4d-403d1fde6d05"
      },
      "execution_count": 25,
      "outputs": [
        {
          "output_type": "stream",
          "name": "stdout",
          "text": [
            "Enter and Integer:6\n",
            "Got Integer 6\n",
            "Enter and Integer:8\n",
            "Got Integer 8\n",
            "Enter and Integer:0\n",
            "Got Integer 0\n",
            "You have Entered the list [6, 8, 0]\n"
          ]
        }
      ]
    },
    {
      "cell_type": "markdown",
      "source": [
        "## Session 4 Class Notes"
      ],
      "metadata": {
        "id": "VvPGU-SQnoQm"
      }
    },
    {
      "cell_type": "code",
      "source": [
        "#  Python is NOT consistent.\n",
        "#  range(start, stop), stop is alway not included. You stop before the STOP sign.\n",
        "#  randint(start, stop), stop is included in the generation of random numbers.\n",
        "\n",
        "import random\n",
        "\n",
        "for i in range(20):\n",
        "    print(\"random number #\", i + 1, \"is\", random.randint(6, 9))  "
      ],
      "metadata": {
        "colab": {
          "base_uri": "https://localhost:8080/"
        },
        "id": "4Sipg2VtkhOu",
        "outputId": "7f8b2563-5958-4eb8-e761-c09f4111db51"
      },
      "execution_count": 56,
      "outputs": [
        {
          "output_type": "stream",
          "name": "stdout",
          "text": [
            "random number # 1 is 6\n",
            "random number # 2 is 9\n",
            "random number # 3 is 7\n",
            "random number # 4 is 7\n",
            "random number # 5 is 6\n",
            "random number # 6 is 8\n",
            "random number # 7 is 7\n",
            "random number # 8 is 6\n",
            "random number # 9 is 6\n",
            "random number # 10 is 6\n",
            "random number # 11 is 9\n",
            "random number # 12 is 8\n",
            "random number # 13 is 8\n",
            "random number # 14 is 8\n",
            "random number # 15 is 7\n",
            "random number # 16 is 9\n",
            "random number # 17 is 9\n",
            "random number # 18 is 6\n",
            "random number # 19 is 8\n",
            "random number # 20 is 7\n"
          ]
        }
      ]
    },
    {
      "cell_type": "code",
      "source": [
        "import random \n",
        "\n",
        "random_numbers = []\n",
        "\n",
        "for i in range(25):   \n",
        "    random_numbers.append(random.randint(0,9))\n",
        "\n",
        "\n",
        "print(random_numbers)"
      ],
      "metadata": {
        "id": "3jLNjV-7nu8t",
        "outputId": "08600662-640d-4cd2-edf6-2575a5ba1f9f",
        "colab": {
          "base_uri": "https://localhost:8080/"
        }
      },
      "execution_count": 57,
      "outputs": [
        {
          "output_type": "stream",
          "name": "stdout",
          "text": [
            "[5, 6, 0, 3, 7, 6, 5, 8, 2, 5, 7, 8, 4, 7, 9, 5, 9, 4, 2, 6, 7, 7, 0, 1, 9]\n"
          ]
        }
      ]
    },
    {
      "cell_type": "code",
      "source": [
        "import random \n",
        "SIZE = 20\n",
        "random_numbers = []\n",
        "\n",
        "for i in range(SIZE):    # i represents a row\n",
        "\n",
        "    for j in range(SIZE):     # j represents a number in a row\n",
        "        print(random.randint(0,9), end=\" \")\n",
        "\n",
        "    print(\"\\n\")\n"
      ],
      "metadata": {
        "id": "UxuFEsN6o_Zz",
        "outputId": "cb9b288d-e434-4fea-e8cc-27ea54c47ad1",
        "colab": {
          "base_uri": "https://localhost:8080/"
        }
      },
      "execution_count": 63,
      "outputs": [
        {
          "output_type": "stream",
          "name": "stdout",
          "text": [
            "8 8 5 9 2 6 3 9 4 8 1 7 1 6 1 8 7 5 7 2 \n",
            "\n",
            "7 8 6 8 4 9 5 5 2 8 2 2 3 8 0 2 8 4 6 9 \n",
            "\n",
            "0 6 3 4 8 9 9 0 4 2 6 0 5 6 4 1 5 3 8 2 \n",
            "\n",
            "9 6 2 6 0 1 8 7 7 0 0 6 1 7 2 5 4 0 0 4 \n",
            "\n",
            "5 5 5 6 6 3 6 6 8 8 3 3 5 5 3 6 3 2 5 3 \n",
            "\n",
            "9 6 6 0 9 9 1 2 6 9 4 9 2 4 9 6 7 3 8 8 \n",
            "\n",
            "0 6 2 9 3 0 2 3 6 9 1 4 5 4 9 3 1 9 7 3 \n",
            "\n",
            "8 8 0 0 3 3 5 4 7 7 6 7 4 9 5 9 7 3 3 7 \n",
            "\n",
            "9 6 0 7 0 2 2 5 9 6 2 8 8 0 2 5 0 7 9 6 \n",
            "\n",
            "3 3 9 5 6 8 2 8 8 1 2 4 1 6 8 7 4 8 6 1 \n",
            "\n",
            "6 8 2 6 8 1 8 4 9 7 9 7 2 6 0 1 4 6 3 2 \n",
            "\n",
            "1 2 3 7 5 3 4 7 9 1 1 2 9 7 5 8 2 4 5 1 \n",
            "\n",
            "1 2 7 5 2 3 9 4 1 3 0 9 5 6 0 4 0 4 2 5 \n",
            "\n",
            "1 3 1 1 9 3 2 5 8 5 0 8 9 3 7 2 4 0 3 1 \n",
            "\n",
            "3 2 3 1 0 4 7 5 6 6 2 5 8 7 8 2 4 1 4 2 \n",
            "\n",
            "2 3 5 1 5 4 3 0 3 2 6 5 8 1 4 0 4 8 2 4 \n",
            "\n",
            "2 3 9 7 7 3 2 9 4 5 6 5 3 3 2 6 5 6 9 9 \n",
            "\n",
            "5 5 6 8 1 5 1 2 3 3 9 1 5 6 0 6 0 2 9 7 \n",
            "\n",
            "0 7 7 3 2 2 9 7 3 1 6 0 3 0 2 3 5 6 8 9 \n",
            "\n",
            "0 8 6 5 4 2 8 2 1 9 5 9 5 9 3 1 2 1 9 5 \n",
            "\n"
          ]
        }
      ]
    }
  ]
}