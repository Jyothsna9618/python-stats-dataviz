{
  "nbformat": 4,
  "nbformat_minor": 0,
  "metadata": {
    "colab": {
      "name": "homework04.ipynb",
      "provenance": [],
      "authorship_tag": "ABX9TyOq+SwmSjENbjEYbJhWuJA9",
      "include_colab_link": true
    },
    "kernelspec": {
      "name": "python3",
      "display_name": "Python 3"
    }
  },
  "cells": [
    {
      "cell_type": "markdown",
      "metadata": {
        "id": "view-in-github",
        "colab_type": "text"
      },
      "source": [
        "<a href=\"https://colab.research.google.com/github/wcj365/python-stats-dataviz/blob/master/assignments/homework04.ipynb\" target=\"_parent\"><img src=\"https://colab.research.google.com/assets/colab-badge.svg\" alt=\"Open In Colab\"/></a>"
      ]
    },
    {
      "cell_type": "code",
      "metadata": {
        "colab": {
          "base_uri": "https://localhost:8080/"
        },
        "id": "WxolzLGcHwNz",
        "outputId": "ff7b07bd-8117-4d2c-f879-9c8304842ec3"
      },
      "source": [
        "line = '1790\\t3,929,214\\t$44,377\\t1.13 cents\\n'\r\n",
        "data = line.split(\"\\t\")\r\n",
        "print(data)"
      ],
      "execution_count": 35,
      "outputs": [
        {
          "output_type": "stream",
          "text": [
            "['1790', '3,929,214', '$44,377', '1.13 cents\\n']\n"
          ],
          "name": "stdout"
        }
      ]
    },
    {
      "cell_type": "code",
      "metadata": {
        "colab": {
          "base_uri": "https://localhost:8080/"
        },
        "id": "oRzMGX8kIDVf",
        "outputId": "42914dba-076e-44ed-e2e8-2367dea0597b"
      },
      "source": [
        "year = int(data[0])\r\n",
        "print(year)"
      ],
      "execution_count": 36,
      "outputs": [
        {
          "output_type": "stream",
          "text": [
            "1790\n"
          ],
          "name": "stdout"
        }
      ]
    },
    {
      "cell_type": "code",
      "metadata": {
        "colab": {
          "base_uri": "https://localhost:8080/"
        },
        "id": "cgIcfiTCIUJu",
        "outputId": "a79d380f-780f-417f-ce09-8c56bf506912"
      },
      "source": [
        "pop = data[1].replace(\",\",\"\")\r\n",
        "pop = int(pop)\r\n",
        "print(pop)"
      ],
      "execution_count": 41,
      "outputs": [
        {
          "output_type": "stream",
          "text": [
            "3929214\n"
          ],
          "name": "stdout"
        }
      ]
    },
    {
      "cell_type": "code",
      "metadata": {
        "id": "ZnClSpeVIxlY"
      },
      "source": [
        "def cleanse_pop(pop):\r\n",
        "\r\n",
        "    pop = pop.replace(\",\", \"\")\r\n",
        "    pop = int(pop)\r\n",
        "    return pop"
      ],
      "execution_count": 45,
      "outputs": []
    },
    {
      "cell_type": "code",
      "metadata": {
        "colab": {
          "base_uri": "https://localhost:8080/"
        },
        "id": "1Lz3yPM6JRZx",
        "outputId": "a0d5a079-963d-4a0b-b673-ff1e8f4978e2"
      },
      "source": [
        "cleanse_pop(\"123,345,45\")"
      ],
      "execution_count": 46,
      "outputs": [
        {
          "output_type": "execute_result",
          "data": {
            "text/plain": [
              "12334545"
            ]
          },
          "metadata": {
            "tags": []
          },
          "execution_count": 46
        }
      ]
    },
    {
      "cell_type": "code",
      "metadata": {
        "colab": {
          "base_uri": "https://localhost:8080/"
        },
        "id": "xGiT0pPFJd37",
        "outputId": "91dc1f1f-aa12-47ed-923c-e572de619121"
      },
      "source": [
        "pop_list = [\"123,34\", \"12,45\", \"67,678\"]\r\n",
        "\r\n",
        "for pop in pop_list:\r\n",
        "    new_pop = cleanse_pop(pop)\r\n",
        "    print(new_pop)"
      ],
      "execution_count": 47,
      "outputs": [
        {
          "output_type": "stream",
          "text": [
            "12334\n",
            "1245\n",
            "67678\n"
          ],
          "name": "stdout"
        }
      ]
    },
    {
      "cell_type": "code",
      "metadata": {
        "colab": {
          "base_uri": "https://localhost:8080/"
        },
        "id": "ZeVxGh6IJ22J",
        "outputId": "c9f79600-d281-419e-d45f-d8fe4e9d9e27"
      },
      "source": [
        "# List comprehension\r\n",
        "\r\n",
        "new_pop_list = [cleanse_pop(pop) for pop in pop_list]\r\n",
        "\r\n",
        "print(new_pop_list)"
      ],
      "execution_count": 48,
      "outputs": [
        {
          "output_type": "stream",
          "text": [
            "[12334, 1245, 67678]\n"
          ],
          "name": "stdout"
        }
      ]
    }
  ]
}