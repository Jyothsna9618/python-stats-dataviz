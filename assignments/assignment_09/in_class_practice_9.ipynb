{
  "nbformat": 4,
  "nbformat_minor": 0,
  "metadata": {
    "colab": {
      "name": "in-class-practice-9.ipynb",
      "provenance": [],
      "authorship_tag": "ABX9TyOHtnKAWbmwMVbFaRJUJ53m",
      "include_colab_link": true
    },
    "kernelspec": {
      "name": "python3",
      "display_name": "Python 3"
    },
    "language_info": {
      "name": "python"
    }
  },
  "cells": [
    {
      "cell_type": "markdown",
      "metadata": {
        "id": "view-in-github",
        "colab_type": "text"
      },
      "source": [
        "<a href=\"https://colab.research.google.com/github/wcj365/data690fall21/blob/main/assignment_09/in_class_practice_9.ipynb\" target=\"_parent\"><img src=\"https://colab.research.google.com/assets/colab-badge.svg\" alt=\"Open In Colab\"/></a>"
      ]
    },
    {
      "cell_type": "markdown",
      "metadata": {
        "id": "l7PGfNXfREyQ"
      },
      "source": [
        "# In Class Practice 9\n",
        "- Name: Jay\n",
        "- Date: 10/28/21"
      ]
    },
    {
      "cell_type": "code",
      "metadata": {
        "id": "gSbwkeaAQ2UQ"
      },
      "source": [
        "import math_function as mf"
      ],
      "execution_count": 1,
      "outputs": []
    },
    {
      "cell_type": "code",
      "metadata": {
        "colab": {
          "base_uri": "https://localhost:8080/"
        },
        "id": "8iK5xkMZR3jf",
        "outputId": "c9a91288-68f7-4fdb-89ec-6d30c7a9d5e0"
      },
      "source": [
        "a = input(\"enter a number:\")"
      ],
      "execution_count": 2,
      "outputs": [
        {
          "name": "stdout",
          "output_type": "stream",
          "text": [
            "enter a number:100\n"
          ]
        }
      ]
    },
    {
      "cell_type": "code",
      "metadata": {
        "colab": {
          "base_uri": "https://localhost:8080/"
        },
        "id": "9gfUDguTSBo7",
        "outputId": "b02095fa-51b2-4a18-9b1c-d513e9d6a105"
      },
      "source": [
        "print(a)"
      ],
      "execution_count": 3,
      "outputs": [
        {
          "output_type": "stream",
          "name": "stdout",
          "text": [
            "100\n"
          ]
        }
      ]
    },
    {
      "cell_type": "code",
      "metadata": {
        "colab": {
          "base_uri": "https://localhost:8080/"
        },
        "id": "zpU7Y8NDSEfd",
        "outputId": "5b9a2e1b-a66a-4d7a-aaf8-473dd120eab9"
      },
      "source": [
        "b = input(\"enter a number:\")"
      ],
      "execution_count": 4,
      "outputs": [
        {
          "name": "stdout",
          "output_type": "stream",
          "text": [
            "enter a number:200\n"
          ]
        }
      ]
    },
    {
      "cell_type": "code",
      "metadata": {
        "colab": {
          "base_uri": "https://localhost:8080/"
        },
        "id": "Fv2XOz5ISJ88",
        "outputId": "d74ab748-84a9-4299-b152-8470092057a7"
      },
      "source": [
        "print(b)"
      ],
      "execution_count": 5,
      "outputs": [
        {
          "output_type": "stream",
          "name": "stdout",
          "text": [
            "200\n"
          ]
        }
      ]
    },
    {
      "cell_type": "code",
      "metadata": {
        "colab": {
          "base_uri": "https://localhost:8080/"
        },
        "id": "bKKtUmjgSQaw",
        "outputId": "cbda17e4-eb1e-482f-cc8f-7f6279920462"
      },
      "source": [
        "c = mf.addition(a, b)\n",
        "print(c)"
      ],
      "execution_count": 6,
      "outputs": [
        {
          "output_type": "stream",
          "name": "stdout",
          "text": [
            "300\n"
          ]
        }
      ]
    },
    {
      "cell_type": "code",
      "metadata": {
        "colab": {
          "base_uri": "https://localhost:8080/"
        },
        "id": "myopIJq3UiUj",
        "outputId": "5366bbef-11cf-4312-cbfe-8c9eb887e54b"
      },
      "source": [
        "a = 23\n",
        "b = 50\n",
        "\n",
        "c = mf.addition(a, b)\n",
        "\n",
        "print(c)"
      ],
      "execution_count": 2,
      "outputs": [
        {
          "output_type": "stream",
          "name": "stdout",
          "text": [
            "73\n"
          ]
        }
      ]
    },
    {
      "cell_type": "code",
      "metadata": {
        "colab": {
          "base_uri": "https://localhost:8080/"
        },
        "id": "IAhktLd_WPRF",
        "outputId": "b2f65a3c-4a72-4ec0-c7ed-1d4b24fc7231"
      },
      "source": [
        "x = \"hello\"\n",
        "type(x)"
      ],
      "execution_count": 8,
      "outputs": [
        {
          "output_type": "execute_result",
          "data": {
            "text/plain": [
              "str"
            ]
          },
          "metadata": {},
          "execution_count": 8
        }
      ]
    }
  ]
}