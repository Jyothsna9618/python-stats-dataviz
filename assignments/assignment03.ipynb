{
  "nbformat": 4,
  "nbformat_minor": 0,
  "metadata": {
    "colab": {
      "name": "assignment03.ipynb",
      "provenance": [],
      "include_colab_link": true
    },
    "kernelspec": {
      "name": "python3",
      "display_name": "Python 3"
    }
  },
  "cells": [
    {
      "cell_type": "markdown",
      "metadata": {
        "id": "view-in-github",
        "colab_type": "text"
      },
      "source": [
        "<a href=\"https://colab.research.google.com/github/wcj365/python-stats-dataviz/blob/master/assignments/assignment03.ipynb\" target=\"_parent\"><img src=\"https://colab.research.google.com/assets/colab-badge.svg\" alt=\"Open In Colab\"/></a>"
      ]
    },
    {
      "cell_type": "code",
      "metadata": {
        "id": "HaCNzh-36PAb",
        "colab": {
          "base_uri": "https://localhost:8080/"
        },
        "outputId": "03930087-fb96-45e6-f5df-eb8de93730d7"
      },
      "source": [
        "import random \r\n",
        "\r\n",
        "\r\n",
        "for i in range(10):\r\n",
        "    for j in range(10):\r\n",
        "        print(random.randint(0,9))"
      ],
      "execution_count": 2,
      "outputs": [
        {
          "output_type": "stream",
          "text": [
            "6\n",
            "1\n",
            "5\n",
            "1\n",
            "0\n",
            "2\n",
            "2\n",
            "9\n",
            "0\n",
            "8\n",
            "0\n",
            "3\n",
            "6\n",
            "2\n",
            "8\n",
            "5\n",
            "6\n",
            "7\n",
            "9\n",
            "9\n",
            "8\n",
            "4\n",
            "5\n",
            "4\n",
            "3\n",
            "7\n",
            "3\n",
            "7\n",
            "9\n",
            "3\n",
            "8\n",
            "6\n",
            "9\n",
            "4\n",
            "1\n",
            "5\n",
            "7\n",
            "8\n",
            "5\n",
            "6\n",
            "9\n",
            "5\n",
            "7\n",
            "9\n",
            "9\n",
            "7\n",
            "2\n",
            "2\n",
            "7\n",
            "0\n",
            "0\n",
            "8\n",
            "6\n",
            "7\n",
            "2\n",
            "7\n",
            "0\n",
            "9\n",
            "3\n",
            "1\n",
            "2\n",
            "0\n",
            "7\n",
            "8\n",
            "8\n",
            "1\n",
            "5\n",
            "0\n",
            "8\n",
            "8\n",
            "4\n",
            "0\n",
            "2\n",
            "8\n",
            "1\n",
            "0\n",
            "2\n",
            "4\n",
            "0\n",
            "6\n",
            "2\n",
            "6\n",
            "9\n",
            "6\n",
            "2\n",
            "2\n",
            "3\n",
            "6\n",
            "9\n",
            "6\n",
            "8\n",
            "7\n",
            "4\n",
            "8\n",
            "4\n",
            "4\n",
            "5\n",
            "5\n",
            "4\n",
            "4\n"
          ],
          "name": "stdout"
        }
      ]
    },
    {
      "cell_type": "code",
      "metadata": {
        "colab": {
          "base_uri": "https://localhost:8080/"
        },
        "id": "7N8gBrhQ68bo",
        "outputId": "b0a2e67e-46ae-4f6f-b985-78ca9e58d5b4"
      },
      "source": [
        "for i in range(10):\r\n",
        "    for j in range(10):\r\n",
        "        print(random.randint(0,9), end=\" \")"
      ],
      "execution_count": null,
      "outputs": [
        {
          "output_type": "stream",
          "text": [
            "7 6 8 3 1 1 2 9 4 8 7 7 3 5 6 9 4 8 4 2 3 4 8 6 3 8 6 8 9 9 7 3 6 1 6 1 2 9 7 5 1 3 9 4 5 6 3 5 6 9 2 4 2 7 6 1 1 5 0 4 8 9 8 0 9 0 0 3 8 5 1 6 2 4 2 7 4 7 3 2 7 2 6 2 5 6 8 7 7 5 3 8 5 1 8 0 7 2 6 9 "
          ],
          "name": "stdout"
        }
      ]
    },
    {
      "cell_type": "code",
      "metadata": {
        "colab": {
          "base_uri": "https://localhost:8080/"
        },
        "id": "l3YMf2Rv7MRv",
        "outputId": "06ed7fe8-4940-42bd-bd5b-ec24c72bd5f5"
      },
      "source": [
        "for i in range(10):\r\n",
        "    \r\n",
        "    for j in range(10):\r\n",
        "        print(random.randint(0,9), end=\" \")\r\n",
        "\r\n",
        "    print(\"\\n\")"
      ],
      "execution_count": null,
      "outputs": [
        {
          "output_type": "stream",
          "text": [
            "4 8 5 9 6 7 8 0 2 0 \n",
            "\n",
            "0 5 8 3 4 5 2 7 4 7 \n",
            "\n",
            "6 5 9 0 5 9 7 2 5 8 \n",
            "\n",
            "3 8 9 2 2 4 9 8 0 8 \n",
            "\n",
            "1 2 9 0 1 9 4 6 4 0 \n",
            "\n",
            "2 6 2 0 5 6 3 2 8 3 \n",
            "\n",
            "6 5 0 4 9 3 8 5 9 0 \n",
            "\n",
            "3 6 0 9 0 2 3 8 5 8 \n",
            "\n",
            "1 9 4 4 2 1 9 2 0 6 \n",
            "\n",
            "9 5 7 7 4 7 4 8 4 5 \n",
            "\n"
          ],
          "name": "stdout"
        }
      ]
    },
    {
      "cell_type": "code",
      "metadata": {
        "colab": {
          "base_uri": "https://localhost:8080/"
        },
        "id": "U_xckoLy7nrz",
        "outputId": "1a55e463-908d-455a-9a24-15ffdecd3774"
      },
      "source": [
        "int_list = []\r\n",
        "for i in range(10):\r\n",
        "    for j in range(10):\r\n",
        "        int_list.append(random.randint(0,9))\r\n",
        "\r\n",
        "\r\n",
        "print(int_list)"
      ],
      "execution_count": null,
      "outputs": [
        {
          "output_type": "stream",
          "text": [
            "[7, 8, 7, 2, 6, 9, 0, 6, 3, 8, 5, 9, 7, 2, 2, 9, 1, 3, 7, 7, 4, 2, 0, 5, 0, 4, 1, 8, 1, 7, 2, 6, 8, 5, 0, 5, 9, 3, 0, 5, 8, 3, 5, 6, 7, 7, 0, 3, 0, 5, 4, 1, 9, 1, 6, 2, 7, 4, 3, 1, 7, 4, 6, 0, 4, 5, 6, 1, 1, 1, 1, 2, 6, 5, 1, 1, 7, 5, 9, 3, 3, 1, 8, 1, 5, 3, 9, 7, 4, 1, 7, 9, 9, 7, 6, 0, 5, 8, 2, 5]\n"
          ],
          "name": "stdout"
        }
      ]
    },
    {
      "cell_type": "code",
      "metadata": {
        "colab": {
          "base_uri": "https://localhost:8080/"
        },
        "id": "4ng29Fvk8_LJ",
        "outputId": "a14e2d05-8f12-44fd-fccf-fa60a8b87181"
      },
      "source": [
        "int_list[5]"
      ],
      "execution_count": null,
      "outputs": [
        {
          "output_type": "execute_result",
          "data": {
            "text/plain": [
              "9"
            ]
          },
          "metadata": {
            "tags": []
          },
          "execution_count": 13
        }
      ]
    },
    {
      "cell_type": "code",
      "metadata": {
        "colab": {
          "base_uri": "https://localhost:8080/"
        },
        "id": "zeX48g0s79W2",
        "outputId": "885af912-835c-4320-d3df-61edf492b1c5"
      },
      "source": [
        "for i in range(100):\r\n",
        "    \r\n",
        "    if int_list[i] % 2 == 0:\r\n",
        "        print(int_list[i], end=\"    \")\r\n",
        "    else:\r\n",
        "        print(\"@\", end=\"    \")\r\n",
        "\r\n",
        "    if (i + 1) % 10 == 0:\r\n",
        "        print(\"\\n\")"
      ],
      "execution_count": null,
      "outputs": [
        {
          "output_type": "stream",
          "text": [
            "@    8    @    2    6    @    0    6    @    8    \n",
            "\n",
            "@    @    @    2    2    @    @    @    @    @    \n",
            "\n",
            "4    2    0    @    0    4    @    8    @    @    \n",
            "\n",
            "2    6    8    @    0    @    @    @    0    @    \n",
            "\n",
            "8    @    @    6    @    @    0    @    0    @    \n",
            "\n",
            "4    @    @    @    6    2    @    4    @    @    \n",
            "\n",
            "@    4    6    0    4    @    6    @    @    @    \n",
            "\n",
            "@    2    6    @    @    @    @    @    @    @    \n",
            "\n",
            "@    @    8    @    @    @    @    @    4    @    \n",
            "\n",
            "@    @    @    @    6    0    @    8    2    @    \n",
            "\n"
          ],
          "name": "stdout"
        }
      ]
    },
    {
      "cell_type": "code",
      "metadata": {
        "colab": {
          "base_uri": "https://localhost:8080/"
        },
        "id": "Q3-jlkkS_jEE",
        "outputId": "d7e89b1d-94b2-4026-ecc9-3f84e941dcdd"
      },
      "source": [
        "\r\n",
        "total = 0\r\n",
        "for i in range(100):\r\n",
        "\r\n",
        "    total += int_list[i]\r\n",
        "    print(int_list[i], end=\"  \")\r\n",
        "\r\n",
        "    if (i + 1) % 10 == 0:\r\n",
        "        print(\"* \", total, end=\"\\n\")\r\n",
        "        total = 0\r\n"
      ],
      "execution_count": null,
      "outputs": [
        {
          "output_type": "stream",
          "text": [
            "7  8  7  2  6  9  0  6  3  8  *  56\n",
            "5  9  7  2  2  9  1  3  7  7  *  52\n",
            "4  2  0  5  0  4  1  8  1  7  *  32\n",
            "2  6  8  5  0  5  9  3  0  5  *  43\n",
            "8  3  5  6  7  7  0  3  0  5  *  44\n",
            "4  1  9  1  6  2  7  4  3  1  *  38\n",
            "7  4  6  0  4  5  6  1  1  1  *  35\n",
            "1  2  6  5  1  1  7  5  9  3  *  40\n",
            "3  1  8  1  5  3  9  7  4  1  *  42\n",
            "7  9  9  7  6  0  5  8  2  5  *  58\n"
          ],
          "name": "stdout"
        }
      ]
    },
    {
      "cell_type": "code",
      "metadata": {
        "colab": {
          "base_uri": "https://localhost:8080/"
        },
        "id": "WkFfd5T_Baig",
        "outputId": "aed78ff5-b0ef-462b-9f3a-cbcb1c04ef86"
      },
      "source": [
        "print(\"*\" * 35)\r\n",
        "total = 0\r\n",
        "for i in range(100):\r\n",
        "\r\n",
        "    total += int_list[i]\r\n",
        "    \r\n",
        "    if i % 10 == 0:\r\n",
        "        print(\"*\", end = \" \")\r\n",
        "\r\n",
        "    print(int_list[i], end=\"  \")\r\n",
        "\r\n",
        "    if (i + 1) % 10 == 0:\r\n",
        "        print(\"* \", total, end=\"\\n\")\r\n",
        "        total = 0\r\n",
        "\r\n",
        "print(\"*\" * 35)"
      ],
      "execution_count": null,
      "outputs": [
        {
          "output_type": "stream",
          "text": [
            "***********************************\n",
            "* 7  8  7  2  6  9  0  6  3  8  *  56\n",
            "* 5  9  7  2  2  9  1  3  7  7  *  52\n",
            "* 4  2  0  5  0  4  1  8  1  7  *  32\n",
            "* 2  6  8  5  0  5  9  3  0  5  *  43\n",
            "* 8  3  5  6  7  7  0  3  0  5  *  44\n",
            "* 4  1  9  1  6  2  7  4  3  1  *  38\n",
            "* 7  4  6  0  4  5  6  1  1  1  *  35\n",
            "* 1  2  6  5  1  1  7  5  9  3  *  40\n",
            "* 3  1  8  1  5  3  9  7  4  1  *  42\n",
            "* 7  9  9  7  6  0  5  8  2  5  *  58\n",
            "***********************************\n"
          ],
          "name": "stdout"
        }
      ]
    },
    {
      "cell_type": "code",
      "metadata": {
        "id": "VFsZceR5CNvk"
      },
      "source": [
        "print(\"*\" * 35)\r\n",
        "total = 0\r\n",
        "sum_list = []\r\n",
        "for i in range(100):\r\n",
        "\r\n",
        "    sum_list[]\r\n",
        "\r\n",
        "    total += int_list[i]\r\n",
        "    \r\n",
        "    if i % 10 == 0:\r\n",
        "        print(\"*\", end = \" \")\r\n",
        "\r\n",
        "    print(int_list[i], end=\"  \")\r\n",
        "\r\n",
        "    if (i + 1) % 10 == 0:\r\n",
        "        print(\"* \", total, end=\"\\n\")\r\n",
        "        total = 0\r\n",
        "\r\n",
        "print(\"*\" * 35)"
      ],
      "execution_count": null,
      "outputs": []
    },
    {
      "cell_type": "code",
      "metadata": {
        "colab": {
          "base_uri": "https://localhost:8080/"
        },
        "id": "M4z0-S1cD9N1",
        "outputId": "48564d84-d742-4a88-e8bd-e8b5a6369e06"
      },
      "source": [
        "\r\n",
        "for i in range(10):\r\n",
        "\r\n",
        "    row_sum = 0\r\n",
        "\r\n",
        "    for j in range(10):\r\n",
        "        x = random.randint(0,9)\r\n",
        "        row_sum += x\r\n",
        "        print(x, end=\" \")\r\n",
        "\r\n",
        "    print(\"* \", row_sum, \"\\n\")"
      ],
      "execution_count": null,
      "outputs": [
        {
          "output_type": "stream",
          "text": [
            "6 2 2 5 8 7 6 9 3 8 *  56 \n",
            "\n",
            "8 6 8 2 3 0 7 0 3 8 *  45 \n",
            "\n",
            "3 9 1 3 4 3 5 7 8 7 *  50 \n",
            "\n",
            "3 6 1 1 3 5 1 4 9 7 *  40 \n",
            "\n",
            "1 1 7 4 9 3 3 7 4 5 *  44 \n",
            "\n",
            "0 5 5 5 6 4 3 3 1 1 *  33 \n",
            "\n",
            "0 4 2 5 0 8 0 6 7 1 *  33 \n",
            "\n",
            "2 2 0 8 7 2 2 2 6 3 *  34 \n",
            "\n",
            "9 2 1 3 4 2 4 8 0 8 *  41 \n",
            "\n",
            "9 4 0 2 6 9 1 8 0 4 *  43 \n",
            "\n"
          ],
          "name": "stdout"
        }
      ]
    },
    {
      "cell_type": "code",
      "metadata": {
        "colab": {
          "base_uri": "https://localhost:8080/"
        },
        "id": "TJK9K4M1zpVU",
        "outputId": "998c4f94-16a2-481b-e1b5-cfad4a807975"
      },
      "source": [
        "matrix = []\r\n",
        "for i in range(10):\r\n",
        "    row = []\r\n",
        "    for j in range(10):\r\n",
        "        row.append(random.randint(0,9))\r\n",
        "    matrix.append(row)\r\n",
        "print(matrix)"
      ],
      "execution_count": 3,
      "outputs": [
        {
          "output_type": "stream",
          "text": [
            "[[5, 8, 4, 8, 4, 4, 5, 0, 6, 8], [6, 7, 6, 4, 5, 9, 9, 5, 0, 5], [6, 6, 5, 9, 3, 1, 5, 0, 3, 0], [1, 4, 6, 3, 2, 3, 7, 9, 0, 7], [2, 4, 4, 5, 2, 1, 7, 6, 9, 1], [1, 0, 0, 2, 4, 6, 9, 7, 3, 2], [6, 6, 0, 8, 0, 6, 4, 6, 3, 9], [0, 5, 3, 7, 6, 8, 4, 4, 8, 3], [5, 4, 6, 1, 0, 6, 9, 4, 5, 6], [0, 4, 4, 1, 0, 8, 7, 0, 9, 0]]\n"
          ],
          "name": "stdout"
        }
      ]
    },
    {
      "cell_type": "code",
      "metadata": {
        "colab": {
          "base_uri": "https://localhost:8080/"
        },
        "id": "60dJTu6Q1Dux",
        "outputId": "0c22d508-85c6-4fd5-e660-7701bbd821aa"
      },
      "source": [
        "for row in matrix:\r\n",
        "\r\n",
        "    for i in range(10):\r\n",
        "        print(row[i], end=\"  \")\r\n",
        "\r\n",
        "    print(sum(row), \"  \")\r\n",
        "\r\n",
        "col_sums = [0] * 10\r\n",
        "\r\n",
        "for i in range(10):\r\n",
        "    for j in range(10):\r\n",
        "        col_sums[i] += matrix[j][i]\r\n",
        "\r\n",
        "print(*col_sums)"
      ],
      "execution_count": 16,
      "outputs": [
        {
          "output_type": "stream",
          "text": [
            "5  8  4  8  4  4  5  0  6  8  52   \n",
            "6  7  6  4  5  9  9  5  0  5  56   \n",
            "6  6  5  9  3  1  5  0  3  0  38   \n",
            "1  4  6  3  2  3  7  9  0  7  42   \n",
            "2  4  4  5  2  1  7  6  9  1  41   \n",
            "1  0  0  2  4  6  9  7  3  2  34   \n",
            "6  6  0  8  0  6  4  6  3  9  48   \n",
            "0  5  3  7  6  8  4  4  8  3  48   \n",
            "5  4  6  1  0  6  9  4  5  6  46   \n",
            "0  4  4  1  0  8  7  0  9  0  33   \n",
            "32 48 38 48 26 52 66 41 46 41\n"
          ],
          "name": "stdout"
        }
      ]
    }
  ]
}