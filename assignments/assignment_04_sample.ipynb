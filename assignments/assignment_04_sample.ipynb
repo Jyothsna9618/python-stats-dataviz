{
  "nbformat": 4,
  "nbformat_minor": 0,
  "metadata": {
    "colab": {
      "name": "assignment_04_sample.ipynb",
      "provenance": [],
      "collapsed_sections": [],
      "toc_visible": true,
      "authorship_tag": "ABX9TyMk38wrPq3EahLNgsMxXGwz",
      "include_colab_link": true
    },
    "kernelspec": {
      "name": "python3",
      "display_name": "Python 3"
    }
  },
  "cells": [
    {
      "cell_type": "markdown",
      "metadata": {
        "id": "view-in-github",
        "colab_type": "text"
      },
      "source": [
        "<a href=\"https://colab.research.google.com/github/wcj365/python-stats-dataviz/blob/master/assignment_fall2020/assignment_04_sample.ipynb\" target=\"_parent\"><img src=\"https://colab.research.google.com/assets/colab-badge.svg\" alt=\"Open In Colab\"/></a>"
      ]
    },
    {
      "cell_type": "markdown",
      "metadata": {
        "id": "fzyDUl0OYEA2",
        "colab_type": "text"
      },
      "source": [
        "# Assignment 04\n",
        "1. Write code to open the text file [census_cost.txt](census_cost.txt) and read all lines into a list named **\"line_list\"**. Print line_list.\n",
        "2. Extract the first two lines and put them in a different list named \"top2_list\". You will need to use them later. Print the top2_list.\n",
        "3. Put the rest of the lines (containing useful data elements) in a new list named \"data_list\". Print data_list.\n",
        "4. Extract the column **\"Census Year\"** from data_list and assign them to a list named **year_list**. Remove the \"*\" from the last element \"2010*\". Print the cleansed year_list.\n",
        "5. Extract the **\"Total Population\"** column from the data_list and assign them to a list named **\"pop_list\"**. Remove the \",\" from the numbers since Python doesn't recognize them. Print the cleansed \"pop_list\".\n",
        "6. Extract the **\"Census Cost\"** column from the data_list and assign them to a list named **\"cost_list\"**. Remove the \",\", and \"$\", and \"Billion\".\n",
        "Make sure to add the \"0\"s to the numbers from which you removed \"Billion\". Print the cleansed cost_list.  \n",
        "\n",
        "7. Extract the **\"Average Cost per Person\"** column from the data_list and assign them to a list named **\"avg_list\"**. Remove the \"cents\", and \"$\".\n",
        "Make sure to divide the numbers in cents by 100 so that all numbers are measured in dollar. Print the cleansed avg_list.\n",
        "8. Coalesce the cleansed data and save them to a text file named \"census_cost.csv\". The new file should look similar to the original source file except that it is in \n",
        "comma-delimited format and the numbers have been cleansed. The top two lines from the original file should be retained in the new file.\n",
        "9. Open the newly-created file \"census_cost.csv\", read all lines and display them. How does it look?\n",
        "\n",
        "### Give yourself a pat on the back. Good job! \n",
        "### Now you know what data scientists do most of time: Data Cleansing."
      ]
    },
    {
      "cell_type": "markdown",
      "metadata": {
        "id": "CZ-XurdJZBN_",
        "colab_type": "text"
      },
      "source": [
        "1. Write code to open the text file [census_cost.txt](census_cost.txt) and read all lines into a list named **\"line_list\"**. Print line_list."
      ]
    },
    {
      "cell_type": "code",
      "metadata": {
        "id": "a4fryeciX988",
        "colab_type": "code",
        "colab": {}
      },
      "source": [
        "# Open and Read the file\n",
        "\n",
        "with open(\"census_cost.txt\", \"rt\") as f:\n",
        "    line_list = f.readlines()"
      ],
      "execution_count": null,
      "outputs": []
    },
    {
      "cell_type": "code",
      "metadata": {
        "id": "n4skuwYrZ8is",
        "colab_type": "code",
        "colab": {
          "base_uri": "https://localhost:8080/",
          "height": 34
        },
        "outputId": "28cf43ec-5c13-4113-a597-1c8a7f35778e"
      },
      "source": [
        "# Print the list of lines\n",
        "type(line_list)"
      ],
      "execution_count": null,
      "outputs": [
        {
          "output_type": "execute_result",
          "data": {
            "text/plain": [
              "list"
            ]
          },
          "metadata": {
            "tags": []
          },
          "execution_count": 17
        }
      ]
    },
    {
      "cell_type": "code",
      "metadata": {
        "id": "f2vloIgKa5s-",
        "colab_type": "code",
        "colab": {
          "base_uri": "https://localhost:8080/",
          "height": 54
        },
        "outputId": "5db81040-dcaf-4045-c707-b90c9754efc5"
      },
      "source": [
        "# Boiler plate print() looks ugly\n",
        "\n",
        "print(line_list)"
      ],
      "execution_count": null,
      "outputs": [
        {
          "output_type": "stream",
          "text": [
            "['Source: https://www.genealogybranches.com/censuscosts.html\\n', 'Census Year\\tTotal Population\\tCensus Cost\\tAverage Cost Per Person\\n', '1790\\t3,929,214\\t$44,377\\t1.13 cents\\n', '1800\\t5,308,483\\t$66,109\\t1.24 cents\\n', '1810\\t7,239,881\\t$178,445\\t2.46 cents\\n', '1820\\t9,633,822\\t$208,526\\t2.16 cents\\n', '1830\\t12,866,020\\t$378,545\\t2.94 cents\\n', '1840\\t17,069,458\\t$833,371\\t4.88 cents\\n', '1850\\t23,191,876\\t$1,423,351\\t6.14 cents\\n', '1860\\t31,443,321\\t$1,969,377\\t6.26 cents\\n', '1870\\t38,558,371\\t$3,421,198\\t8.87 cents\\n', '1880\\t50,155,783\\t$5,790,678\\t11.54 cents\\n', '1890\\t62,979,766\\t$11,547,127\\t18.33 cents\\n', '1900\\t76,303,387\\t$11,854,000\\t15.54 cents\\n', '1910\\t91,972,266\\t$15,968,000\\t17.07 cents\\n', '1920\\t105,710,620\\t$25,117,000\\t23.76 cents\\n', '1930\\t122,775,046\\t$40,156,000\\t32.71 cents\\n', '1940\\t131,669,275\\t$67,527,000\\t51.29 cents\\n', '1950\\t151,325,798\\t$91,462,000\\t60.44 cents\\n', '1960\\t179,323,175\\t$127,934,000\\t71.34 cents\\n', '1970\\t203,302,031\\t$247,653,000\\t$1.22\\n', '1980\\t226,542,199\\t$1,078,488,000\\t$4.76\\n', '1990\\t248,718,301\\t$2,492,830,000\\t$10.02\\n', '2000\\t281,421,906\\t$4.5 Billion\\t$15.99\\n', '2010*\\t308,745,538\\t$13 Billion\\t$42.11']\n"
          ],
          "name": "stdout"
        }
      ]
    },
    {
      "cell_type": "code",
      "metadata": {
        "id": "oJJw36zUbW2X",
        "colab_type": "code",
        "colab": {
          "base_uri": "https://localhost:8080/",
          "height": 850
        },
        "outputId": "214ee6a6-bea4-4ef7-9719-b06a7d15cdef"
      },
      "source": [
        "# We print one line at a time using loop\n",
        "\n",
        "for row in line_list:\n",
        "    print(row)"
      ],
      "execution_count": null,
      "outputs": [
        {
          "output_type": "stream",
          "text": [
            "Source: https://www.genealogybranches.com/censuscosts.html\n",
            "\n",
            "Census Year\tTotal Population\tCensus Cost\tAverage Cost Per Person\n",
            "\n",
            "1790\t3,929,214\t$44,377\t1.13 cents\n",
            "\n",
            "1800\t5,308,483\t$66,109\t1.24 cents\n",
            "\n",
            "1810\t7,239,881\t$178,445\t2.46 cents\n",
            "\n",
            "1820\t9,633,822\t$208,526\t2.16 cents\n",
            "\n",
            "1830\t12,866,020\t$378,545\t2.94 cents\n",
            "\n",
            "1840\t17,069,458\t$833,371\t4.88 cents\n",
            "\n",
            "1850\t23,191,876\t$1,423,351\t6.14 cents\n",
            "\n",
            "1860\t31,443,321\t$1,969,377\t6.26 cents\n",
            "\n",
            "1870\t38,558,371\t$3,421,198\t8.87 cents\n",
            "\n",
            "1880\t50,155,783\t$5,790,678\t11.54 cents\n",
            "\n",
            "1890\t62,979,766\t$11,547,127\t18.33 cents\n",
            "\n",
            "1900\t76,303,387\t$11,854,000\t15.54 cents\n",
            "\n",
            "1910\t91,972,266\t$15,968,000\t17.07 cents\n",
            "\n",
            "1920\t105,710,620\t$25,117,000\t23.76 cents\n",
            "\n",
            "1930\t122,775,046\t$40,156,000\t32.71 cents\n",
            "\n",
            "1940\t131,669,275\t$67,527,000\t51.29 cents\n",
            "\n",
            "1950\t151,325,798\t$91,462,000\t60.44 cents\n",
            "\n",
            "1960\t179,323,175\t$127,934,000\t71.34 cents\n",
            "\n",
            "1970\t203,302,031\t$247,653,000\t$1.22\n",
            "\n",
            "1980\t226,542,199\t$1,078,488,000\t$4.76\n",
            "\n",
            "1990\t248,718,301\t$2,492,830,000\t$10.02\n",
            "\n",
            "2000\t281,421,906\t$4.5 Billion\t$15.99\n",
            "\n",
            "2010*\t308,745,538\t$13 Billion\t$42.11\n"
          ],
          "name": "stdout"
        }
      ]
    },
    {
      "cell_type": "markdown",
      "metadata": {
        "id": "rLNxMvQ-ZNKL",
        "colab_type": "text"
      },
      "source": [
        "2. Extract the first two lines and put them in a different list named \"top2_list\". You will need to use them later. Print the top2_list."
      ]
    },
    {
      "cell_type": "code",
      "metadata": {
        "id": "Tk2OeYbhZWem",
        "colab_type": "code",
        "colab": {}
      },
      "source": [
        ""
      ],
      "execution_count": null,
      "outputs": []
    },
    {
      "cell_type": "code",
      "metadata": {
        "id": "Q7o2Qx6rk2XE",
        "colab_type": "code",
        "colab": {
          "base_uri": "https://localhost:8080/",
          "height": 34
        },
        "outputId": "344caa2b-79a9-4532-c59d-f751d6ff3877"
      },
      "source": [
        "len(line_list)"
      ],
      "execution_count": null,
      "outputs": [
        {
          "output_type": "execute_result",
          "data": {
            "text/plain": [
              "25"
            ]
          },
          "metadata": {
            "tags": []
          },
          "execution_count": 21
        }
      ]
    },
    {
      "cell_type": "code",
      "metadata": {
        "id": "uWtpouH2lBaD",
        "colab_type": "code",
        "colab": {
          "base_uri": "https://localhost:8080/",
          "height": 54
        },
        "outputId": "d83331fe-92b5-4aa5-ce4c-c8d0e585d6d3"
      },
      "source": [
        "print(line_list[2:])"
      ],
      "execution_count": null,
      "outputs": [
        {
          "output_type": "stream",
          "text": [
            "['1790\\t3,929,214\\t$44,377\\t1.13 cents\\n', '1800\\t5,308,483\\t$66,109\\t1.24 cents\\n', '1810\\t7,239,881\\t$178,445\\t2.46 cents\\n', '1820\\t9,633,822\\t$208,526\\t2.16 cents\\n', '1830\\t12,866,020\\t$378,545\\t2.94 cents\\n', '1840\\t17,069,458\\t$833,371\\t4.88 cents\\n', '1850\\t23,191,876\\t$1,423,351\\t6.14 cents\\n', '1860\\t31,443,321\\t$1,969,377\\t6.26 cents\\n', '1870\\t38,558,371\\t$3,421,198\\t8.87 cents\\n', '1880\\t50,155,783\\t$5,790,678\\t11.54 cents\\n', '1890\\t62,979,766\\t$11,547,127\\t18.33 cents\\n', '1900\\t76,303,387\\t$11,854,000\\t15.54 cents\\n', '1910\\t91,972,266\\t$15,968,000\\t17.07 cents\\n', '1920\\t105,710,620\\t$25,117,000\\t23.76 cents\\n', '1930\\t122,775,046\\t$40,156,000\\t32.71 cents\\n', '1940\\t131,669,275\\t$67,527,000\\t51.29 cents\\n', '1950\\t151,325,798\\t$91,462,000\\t60.44 cents\\n', '1960\\t179,323,175\\t$127,934,000\\t71.34 cents\\n', '1970\\t203,302,031\\t$247,653,000\\t$1.22\\n', '1980\\t226,542,199\\t$1,078,488,000\\t$4.76\\n', '1990\\t248,718,301\\t$2,492,830,000\\t$10.02\\n', '2000\\t281,421,906\\t$4.5 Billion\\t$15.99\\n', '2010*\\t308,745,538\\t$13 Billion\\t$42.11']\n"
          ],
          "name": "stdout"
        }
      ]
    },
    {
      "cell_type": "markdown",
      "metadata": {
        "id": "RwZnV6Y6kiBr",
        "colab_type": "text"
      },
      "source": [
        "Save only the data elements to a new file"
      ]
    },
    {
      "cell_type": "code",
      "metadata": {
        "id": "N7siErvGknrE",
        "colab_type": "code",
        "colab": {}
      },
      "source": [
        "with open(\"new_file.txt\", \"wt\") as f:\n",
        "    for line in line_list[2:12]:\n",
        "        f.write(line.replace(\"\\t\", \",\"))\n"
      ],
      "execution_count": null,
      "outputs": []
    }
  ]
}