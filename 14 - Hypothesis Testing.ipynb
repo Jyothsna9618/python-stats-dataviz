{
  "nbformat": 4,
  "nbformat_minor": 0,
  "metadata": {
    "kernelspec": {
      "display_name": "Python 3",
      "language": "python",
      "name": "python3"
    },
    "language_info": {
      "codemirror_mode": {
        "name": "ipython",
        "version": 3
      },
      "file_extension": ".py",
      "mimetype": "text/x-python",
      "name": "python",
      "nbconvert_exporter": "python",
      "pygments_lexer": "ipython3",
      "version": "3.7.4"
    },
    "colab": {
      "name": "14 - Hypothesis Testing.ipynb",
      "provenance": [],
      "include_colab_link": true
    }
  },
  "cells": [
    {
      "cell_type": "markdown",
      "metadata": {
        "id": "view-in-github",
        "colab_type": "text"
      },
      "source": [
        "<a href=\"https://colab.research.google.com/github/wcj365/python-stats-dataviz/blob/master/14%20-%20Hypothesis%20Testing.ipynb\" target=\"_parent\"><img src=\"https://colab.research.google.com/assets/colab-badge.svg\" alt=\"Open In Colab\"/></a>"
      ]
    },
    {
      "cell_type": "markdown",
      "metadata": {
        "id": "Oa4c8ATJFdW7"
      },
      "source": [
        "## 14 - Hypothesis Testing\n",
        "\n",
        "**Null Hypothesis:** Status Quo\n",
        "\n",
        "**Alternative Hypothesis:** Challenging the status quo\n",
        "\n",
        "### One-Sample t-Test\n",
        "A one-sample t-test checks whether a sample mean differs from the population mean.\n",
        "\n",
        "### Two-Sample t-Test\n",
        "A two-sample t-test investigates whether the means of two independent data samples differ from one another. In a two-sample test, the null hypothesis is that the means of both groups are the same."
      ]
    },
    {
      "cell_type": "code",
      "metadata": {
        "id": "lRMLVL2SFdW-"
      },
      "source": [
        "import math\n",
        "import scipy.stats as stats\n",
        "import numpy as np"
      ],
      "execution_count": 1,
      "outputs": []
    },
    {
      "cell_type": "code",
      "metadata": {
        "id": "yMZDCdtfFdXL",
        "colab": {
          "base_uri": "https://localhost:8080/"
        },
        "outputId": "80c87ef3-eb23-4714-c139-f19d8ff9623d"
      },
      "source": [
        "# Generate three random samples from normal distribution.\n",
        "# rvs stands for \"random variable sample\"\n",
        "# The inputs are (population mean, population standard deviation, sample size)\n",
        "\n",
        "sample_A = stats.norm.rvs(10000, 1000, 50)\n",
        "sample_B = stats.norm.rvs(1000, 100, 50)\n",
        "sample_C = stats.norm.rvs(1000, 100, 50)\n",
        "\n",
        "print(\"Sample A:\\n\\n\", sample_A, end=\"\\n\\n\")\n",
        "print(\"Sample B: =\\n\\n\", sample_B, end=\"\\n\\n\")\n",
        "print(\"Sample C: =\\n\\n\", sample_C)"
      ],
      "execution_count": 2,
      "outputs": [
        {
          "output_type": "stream",
          "text": [
            "Sample A:\n",
            "\n",
            " [ 8965.262606    8985.08018019  9918.60962682  9172.34319004\n",
            " 11511.35306454  9801.01746231 10469.25281422  9448.70776861\n",
            "  7550.72825617  9280.694329   10503.09983757  8007.19797604\n",
            "  9032.14623552 11650.96667255 11615.76949822 11631.53694118\n",
            "  9840.91788786 11401.05433098  9442.02240685 10616.98111536\n",
            " 10410.86877235  9983.4510601   8234.90917784  9011.69146524\n",
            "  9430.09402609  9687.65296668  9209.98509769  8846.01859036\n",
            " 10142.70616911  9982.62034094  8903.03726554 10125.41491311\n",
            " 10362.96260332  8610.4132034   9593.16504199  8787.69991586\n",
            " 10125.23953862  8766.1596627  10680.39842611  9217.46279504\n",
            " 10047.23781935 10110.57609426 11224.03579303  9879.421203\n",
            " 10062.43272821 11076.36727378  8588.2085008  10323.76550339\n",
            " 10239.65440924  9812.38960856]\n",
            "\n",
            "Sample B: =\n",
            "\n",
            " [1040.96448529  774.61302538  982.62124967  995.04417551  992.84347804\n",
            " 1097.26258099 1241.16070181 1038.18325897 1000.88463647  786.29652946\n",
            "  965.01919456  938.13946087 1170.39896111  854.82465626 1136.08376266\n",
            "  956.09826093 1065.14589556 1048.42393262 1003.61688023 1034.60968964\n",
            "  876.0506485  1058.24669645 1151.89051961  905.5118703   768.26303449\n",
            " 1007.1075056   990.42053099 1078.42123752 1164.48177883 1060.26488373\n",
            "  844.96712841  865.50281401  961.55080081 1002.70452909 1036.814649\n",
            " 1142.62913205  788.38010415 1113.01817586  930.79042474  891.67999378\n",
            " 1037.04385993 1033.79115378 1160.55550418 1059.82416007 1044.64109986\n",
            "  908.63219624  990.60208857 1040.70826566  920.05214139  958.28087661]\n",
            "\n",
            "Sample C: =\n",
            "\n",
            " [1063.66129376 1055.31425158 1075.31683732 1144.66720653 1091.57319942\n",
            "  926.48401134 1049.45462516 1035.35438781  865.37515916 1022.00638164\n",
            "  996.89398482 1021.40169369 1080.60236565  995.80787882 1071.9252834\n",
            "  968.76732685 1077.27680175  983.94114942  926.35196296 1045.34490437\n",
            " 1014.58849486  917.42598001  883.27515231 1007.62185469  891.98953979\n",
            "  986.53229     990.91396651  916.56434236  895.90780639  947.7531817\n",
            " 1267.85663191  963.45780169  999.78235331  939.99715231  857.1791731\n",
            "  846.53842211  946.98212327 1210.04109869  962.17021333 1055.40309506\n",
            "  900.80777878  915.94602976 1126.234789   1062.58767839  990.55015692\n",
            "  984.0911204  1041.04678478 1086.32373037 1032.93182954 1096.83117048]\n"
          ],
          "name": "stdout"
        }
      ]
    },
    {
      "cell_type": "code",
      "metadata": {
        "id": "jBUetD5zFdXW",
        "colab": {
          "base_uri": "https://localhost:8080/"
        },
        "outputId": "d721cc3b-22ac-4a17-f1ee-a65db2b05f1e"
      },
      "source": [
        "print(\"Sample mean of sample A =\", round(sample_A.mean(),0))\n",
        "print(\"Sample mean of sample B =\", round(sample_B.mean(),0))\n",
        "print(\"Sample mean of sample C =\", round(sample_C.mean(),0))"
      ],
      "execution_count": 3,
      "outputs": [
        {
          "output_type": "stream",
          "text": [
            "Sample mean of sample A = 9806.0\n",
            "Sample mean of sample B = 998.0\n",
            "Sample mean of sample C = 1005.0\n"
          ],
          "name": "stdout"
        }
      ]
    },
    {
      "cell_type": "markdown",
      "metadata": {
        "id": "mD3OT-MNFdXd"
      },
      "source": [
        "### One Sample t-Test\n",
        "\n",
        "H0: the mean of population that sample A drawn from is 0\n",
        "\n",
        "Ha: the mean of population that sample A drawn from is not 0\n"
      ]
    },
    {
      "cell_type": "code",
      "metadata": {
        "id": "V8tPHMoQFdXe",
        "colab": {
          "base_uri": "https://localhost:8080/"
        },
        "outputId": "26c08b39-492b-4e11-cca0-3ab4abeda41c"
      },
      "source": [
        "stats.ttest_1samp(sample_A, 0)"
      ],
      "execution_count": 5,
      "outputs": [
        {
          "output_type": "execute_result",
          "data": {
            "text/plain": [
              "Ttest_1sampResult(statistic=72.20310211076368, pvalue=1.9842841701931775e-51)"
            ]
          },
          "metadata": {
            "tags": []
          },
          "execution_count": 5
        }
      ]
    },
    {
      "cell_type": "markdown",
      "metadata": {
        "id": "4WiqpIbZFdXl"
      },
      "source": [
        "p-value is the probability of having the sameple under the hull hypothesis.\n",
        "If the population mean is 0 (null hypothesis), then the chance for the sample to have a mean of 10185 is very very slim - almost impossible."
      ]
    },
    {
      "cell_type": "markdown",
      "metadata": {
        "id": "uwT_PbNzHzQp"
      },
      "source": [
        "H0: the mean of population that sample A sampled from is 9500\n",
        "\n",
        "Ha: the mean of population that sample A sampled from is not 9500"
      ]
    },
    {
      "cell_type": "code",
      "metadata": {
        "id": "KGDLn7QdHllN",
        "colab": {
          "base_uri": "https://localhost:8080/"
        },
        "outputId": "54dd9903-abb4-4e3e-b3b3-7331662d9f55"
      },
      "source": [
        "stats.ttest_1samp(sample_A, 9500)"
      ],
      "execution_count": 6,
      "outputs": [
        {
          "output_type": "execute_result",
          "data": {
            "text/plain": [
              "Ttest_1sampResult(statistic=2.2560903787192443, pvalue=0.02856203311333838)"
            ]
          },
          "metadata": {
            "tags": []
          },
          "execution_count": 6
        }
      ]
    },
    {
      "cell_type": "markdown",
      "metadata": {
        "id": "vYTPPfMuICSw"
      },
      "source": [
        "p-value is the probability of having the sameple under the hull hypothesis. If the population mean is 9500 (null hypothesis), then the chance for the sample to have a mean of 10185 is very slim."
      ]
    },
    {
      "cell_type": "markdown",
      "metadata": {
        "id": "bhtmZXyUdr0f"
      },
      "source": [
        "H0: the mean of population that sample A sampled from is 9950\n",
        "\n",
        "Ha: the mean of population that sample A sampled from is not 9950"
      ]
    },
    {
      "cell_type": "code",
      "metadata": {
        "id": "ZiOFqdgJIBYj",
        "colab": {
          "base_uri": "https://localhost:8080/"
        },
        "outputId": "77afcc02-7672-4512-da30-6cc94b5492a6"
      },
      "source": [
        "stats.ttest_1samp(sample_A, 9950)"
      ],
      "execution_count": 9,
      "outputs": [
        {
          "output_type": "execute_result",
          "data": {
            "text/plain": [
              "Ttest_1sampResult(statistic=-1.0571891243775973, pvalue=0.295609604919187)"
            ]
          },
          "metadata": {
            "tags": []
          },
          "execution_count": 9
        }
      ]
    },
    {
      "cell_type": "markdown",
      "metadata": {
        "id": "HMpjBJKUdieW"
      },
      "source": [
        "p-value is the probability of having the sameple under the hull hypothesis. If the population mean is 9950 (null hypothesis), then the chance for the sample to have a mean of 10185 is about 12.6%, not slim. So we are unable to reject the null hypothesis. So we would conclude that given the evidence (sample data) the population mean is likely to be 9950 (we are still not 100% certain)."
      ]
    },
    {
      "cell_type": "markdown",
      "metadata": {
        "id": "r4sFChvxrlPc"
      },
      "source": [
        "H0: the mean of population that sample A sampled from is 9900\n",
        "\n",
        "Ha: the mean of population that sample A sampled from is not 9900"
      ]
    },
    {
      "cell_type": "code",
      "metadata": {
        "colab": {
          "base_uri": "https://localhost:8080/"
        },
        "id": "Y4hanOAGraVO",
        "outputId": "71eaf780-fc38-486b-e32f-894fd756a8a2"
      },
      "source": [
        "stats.ttest_1samp(sample_A, 9900)"
      ],
      "execution_count": 11,
      "outputs": [
        {
          "output_type": "execute_result",
          "data": {
            "text/plain": [
              "Ttest_1sampResult(statistic=-0.6890469573668371, pvalue=0.4940437060930729)"
            ]
          },
          "metadata": {
            "tags": []
          },
          "execution_count": 11
        }
      ]
    },
    {
      "cell_type": "markdown",
      "metadata": {
        "id": "U7K0BHJSFdXm"
      },
      "source": [
        "### Two Sample Test - sample A vs sample B\n",
        "\n",
        "H0: The populations that sample A and B were sampled from have the same mean\n",
        "\n",
        "Ha: The populations that sample A and B were sampled from have different means"
      ]
    },
    {
      "cell_type": "code",
      "metadata": {
        "id": "1_tAewhhFdXn",
        "colab": {
          "base_uri": "https://localhost:8080/"
        },
        "outputId": "437af6e5-7c5a-4934-affb-8fa715a4c177"
      },
      "source": [
        "stats.ttest_ind(sample_A,sample_B)"
      ],
      "execution_count": 12,
      "outputs": [
        {
          "output_type": "execute_result",
          "data": {
            "text/plain": [
              "Ttest_indResult(statistic=64.4379187675009, pvalue=4.8749901583726496e-82)"
            ]
          },
          "metadata": {
            "tags": []
          },
          "execution_count": 12
        }
      ]
    },
    {
      "cell_type": "markdown",
      "metadata": {
        "id": "RYXUGMhhFdXr"
      },
      "source": [
        "With very small tiny p-value, we reject the null hypothesis and accept the alternative hypothesis."
      ]
    },
    {
      "cell_type": "markdown",
      "metadata": {
        "id": "OnmnctInFdXs"
      },
      "source": [
        "### Two Sample Test - sample B vs C\n",
        "\n",
        "H0: The populations that sample B and C were sampled from have the same mean\n",
        "\n",
        "Ha: The populations that sample B and C were sampled from have different means"
      ]
    },
    {
      "cell_type": "code",
      "metadata": {
        "id": "Dms6WRlQFdXt",
        "colab": {
          "base_uri": "https://localhost:8080/"
        },
        "outputId": "3d390b9d-06c4-443e-c0e0-39a9b425ea2a"
      },
      "source": [
        "stats.ttest_ind(sample_B,sample_C)"
      ],
      "execution_count": 13,
      "outputs": [
        {
          "output_type": "execute_result",
          "data": {
            "text/plain": [
              "Ttest_indResult(statistic=-0.3249162177730853, pvalue=0.7459370766155066)"
            ]
          },
          "metadata": {
            "tags": []
          },
          "execution_count": 13
        }
      ]
    },
    {
      "cell_type": "markdown",
      "metadata": {
        "id": "oHmrR_SaFdXx"
      },
      "source": [
        "With very large p-value, we are unable to reject the null hypothesis. So we accept the null hypothesis. We have enough evidence to believe sample B and C were drawn from populations with the same mean."
      ]
    },
    {
      "cell_type": "markdown",
      "metadata": {
        "id": "eOYq73gpFdXy"
      },
      "source": [
        "### Two Sample Test - sample D vs E \n",
        "\n",
        "Let's make the population means different (1000 vs 1005)\n",
        "\n",
        "H0: The populations that sample D and E were sampled from have the same mean\n",
        "Ha: The populations that sample D and E were sampled from have different means"
      ]
    },
    {
      "cell_type": "code",
      "metadata": {
        "id": "XwqyXgTmFdXz",
        "colab": {
          "base_uri": "https://localhost:8080/",
          "height": 35
        },
        "outputId": "04790ffd-aec9-421f-842d-a97dd4e9775a"
      },
      "source": [
        "sample_D = stats.norm.rvs(1000, 100, 50)\n",
        "sample_E = stats.norm.rvs(1005, 100, 50)\n",
        "\n",
        "stats.ttest_ind(sample_D, sample_E)"
      ],
      "execution_count": null,
      "outputs": [
        {
          "output_type": "execute_result",
          "data": {
            "text/plain": [
              "Ttest_indResult(statistic=0.3957814119673394, pvalue=0.6931266064232611)"
            ]
          },
          "metadata": {
            "tags": []
          },
          "execution_count": 26
        }
      ]
    },
    {
      "cell_type": "markdown",
      "metadata": {
        "id": "F8l4lsL6FdX2"
      },
      "source": [
        "Still relatively large p-value, so unable to reject the null hypothesis. \n",
        "Even though the population means are different but the difference is not statistically significant.\n"
      ]
    },
    {
      "cell_type": "markdown",
      "metadata": {
        "id": "yGLtsuoIFdX3"
      },
      "source": [
        "### Two Sample Test - sample D vs E \n",
        "\n",
        "Let's make the population means somewhat more different (1000 vs 1010)\n",
        "\n",
        "H0: The populations that sample D and E were sampled from have the same mean\n",
        "Ha: The populations that sample D and E were sampled from have different means"
      ]
    },
    {
      "cell_type": "code",
      "metadata": {
        "id": "zgBe09SoFdX3",
        "colab": {
          "base_uri": "https://localhost:8080/",
          "height": 35
        },
        "outputId": "47049573-70ed-436b-a2b4-a6981f0992e1"
      },
      "source": [
        "sample_D = stats.norm.rvs(1000, 100, 50)\n",
        "sample_E = stats.norm.rvs(1015, 100, 50)\n",
        "\n",
        "stats.ttest_ind(sample_D, sample_E)"
      ],
      "execution_count": null,
      "outputs": [
        {
          "output_type": "execute_result",
          "data": {
            "text/plain": [
              "Ttest_indResult(statistic=-0.9016450519626695, pvalue=0.3694560773602692)"
            ]
          },
          "metadata": {
            "tags": []
          },
          "execution_count": 27
        }
      ]
    },
    {
      "cell_type": "markdown",
      "metadata": {
        "id": "nX5k9y7MFdX8"
      },
      "source": [
        "The p-value is smaller but still greater than 0.05 (the standard used in social science research). We will not reject the null hypothesis. We conclude the populations are not significantly different."
      ]
    },
    {
      "cell_type": "markdown",
      "metadata": {
        "id": "Tj2D2tLuFdX9"
      },
      "source": [
        "### Two Sample Test - sample D vs E \n",
        "\n",
        "Let's make the population means even more different (1000 vs 1030)\n",
        "\n",
        "H0: The populations that sample D and E were sampled from have the same mean\n",
        "Ha: The populations that sample D and E were sampled from have different means"
      ]
    },
    {
      "cell_type": "code",
      "metadata": {
        "id": "ZEWy5azZFdX9",
        "colab": {
          "base_uri": "https://localhost:8080/",
          "height": 35
        },
        "outputId": "9d9e64b5-e693-45df-d895-6a99870bcf6d"
      },
      "source": [
        "sample_D = stats.norm.rvs(1000, 100, 50)\n",
        "sample_E = stats.norm.rvs(1030, 100, 50)\n",
        "\n",
        "stats.ttest_ind(sample_D, sample_E)"
      ],
      "execution_count": null,
      "outputs": [
        {
          "output_type": "execute_result",
          "data": {
            "text/plain": [
              "Ttest_indResult(statistic=-2.0660955236732907, pvalue=0.04145771923675248)"
            ]
          },
          "metadata": {
            "tags": []
          },
          "execution_count": 30
        }
      ]
    },
    {
      "cell_type": "markdown",
      "metadata": {
        "id": "sIw3ACs8FdYB"
      },
      "source": [
        "Now, we have a p-value that is less than standard 0.05.\n",
        "We can reject the null hypothesis and state that the means of the two populations are not the same."
      ]
    },
    {
      "cell_type": "markdown",
      "metadata": {
        "id": "s4vcuA6zFdYB"
      },
      "source": [
        "### The End"
      ]
    }
  ]
}