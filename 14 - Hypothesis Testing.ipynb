{
  "nbformat": 4,
  "nbformat_minor": 0,
  "metadata": {
    "kernelspec": {
      "display_name": "Python 3",
      "language": "python",
      "name": "python3"
    },
    "language_info": {
      "codemirror_mode": {
        "name": "ipython",
        "version": 3
      },
      "file_extension": ".py",
      "mimetype": "text/x-python",
      "name": "python",
      "nbconvert_exporter": "python",
      "pygments_lexer": "ipython3",
      "version": "3.7.4"
    },
    "colab": {
      "name": "14 - Hypothesis Testing.ipynb",
      "provenance": [],
      "include_colab_link": true
    }
  },
  "cells": [
    {
      "cell_type": "markdown",
      "metadata": {
        "id": "view-in-github",
        "colab_type": "text"
      },
      "source": [
        "<a href=\"https://colab.research.google.com/github/wcj365/python-stats-dataviz/blob/master/14%20-%20Hypothesis%20Testing.ipynb\" target=\"_parent\"><img src=\"https://colab.research.google.com/assets/colab-badge.svg\" alt=\"Open In Colab\"/></a>"
      ]
    },
    {
      "cell_type": "markdown",
      "metadata": {
        "id": "Oa4c8ATJFdW7"
      },
      "source": [
        "## 14 - Hypothesis Testing\n",
        "\n",
        "**Null Hypothesis:** Status Quo\n",
        "\n",
        "**Alternative Hypothesis:** Challenging the status quo\n",
        "\n",
        "### One-Sample t-Test\n",
        "A one-sample t-test checks whether a sample mean differs from the population mean. \n",
        "\n",
        "### Two-Sample t-Test\n",
        "A two-sample t-test investigates whether the means of two independent data samples differ from one another. In a two-sample test, the null hypothesis is that the means of both groups are the same."
      ]
    },
    {
      "cell_type": "code",
      "metadata": {
        "id": "lRMLVL2SFdW-"
      },
      "source": [
        "import math\n",
        "import scipy.stats as stats\n",
        "import numpy as np"
      ],
      "execution_count": 1,
      "outputs": []
    },
    {
      "cell_type": "code",
      "source": [
        ""
      ],
      "metadata": {
        "id": "fi7wRhzIjmNF"
      },
      "execution_count": 1,
      "outputs": []
    },
    {
      "cell_type": "code",
      "metadata": {
        "id": "yMZDCdtfFdXL",
        "colab": {
          "base_uri": "https://localhost:8080/"
        },
        "outputId": "930cf4f4-0168-45cc-f275-c0a9f7b713a1"
      },
      "source": [
        "# Generate three random samples from normal distribution.\n",
        "# rvs stands for \"random variable sample\"\n",
        "# The inputs are (population mean, population standard deviation, sample size)\n",
        "\n",
        "sample_A = stats.norm.rvs(10000, 1000, 50)\n",
        "sample_B = stats.norm.rvs(1000, 100, 50)\n",
        "sample_C = stats.norm.rvs(1000, 100, 50)\n",
        "\n",
        "print(\"Sample A:\\n\\n\", sample_A, end=\"\\n\\n\")\n",
        "print(\"Sample B: =\\n\\n\", sample_B, end=\"\\n\\n\")\n",
        "print(\"Sample C: =\\n\\n\", sample_C)"
      ],
      "execution_count": 2,
      "outputs": [
        {
          "output_type": "stream",
          "name": "stdout",
          "text": [
            "Sample A:\n",
            "\n",
            " [ 8498.08012025 10865.2023432  11288.4812106  11295.73510285\n",
            " 10930.91979229 11062.77119077  9526.94624105 10067.69657688\n",
            "  9354.17479121  9511.20962643 10120.48501979  9314.31140253\n",
            " 10500.38757665 10500.84207738  9234.92870109  9359.03746334\n",
            "  9792.40520679 10103.47704609  9737.60734016 10772.31038748\n",
            " 11493.62539981 11059.63859453  8620.54679657 10164.4629446\n",
            " 10584.7972384   9584.57192169  8551.95710353  9947.78158494\n",
            " 10174.08701436  9322.30657864  9332.41890757 10089.6015265\n",
            " 10117.61442891 11589.47556556  8544.16966468  9779.18905504\n",
            "  8917.20189614 11028.68763535 10770.51289744 11395.61127346\n",
            "  9120.7704156   8694.83283846  9029.9979643   9810.68294015\n",
            "  9628.47261687 10869.8796043  10248.2344638  10137.7969628\n",
            "  9103.49603165 10068.50454317]\n",
            "\n",
            "Sample B: =\n",
            "\n",
            " [ 909.63194976 1009.95471143 1196.61131103  907.12501033  980.89191733\n",
            "  886.06644797 1017.09359913  960.61435419 1068.06107247 1034.80220537\n",
            " 1118.60314489  951.91907356  989.67968101 1026.33448616  946.55770104\n",
            "  958.51851044  905.81686166  983.33868695  943.2272807   870.23171664\n",
            "  886.91945829  921.55113342 1144.08124462  876.62492967  989.44052364\n",
            "  856.83225783 1000.81768534  917.19619373  986.87962155  885.41330079\n",
            "  861.70493779 1031.31384489 1096.80963283  897.23906454  845.91178426\n",
            " 1147.11872329  896.99047544 1082.77726617 1057.20687773  819.43783752\n",
            "  959.86921678  719.90426617  903.70001181 1095.79338003  999.58121215\n",
            " 1020.61466893  992.05907518 1046.01739686  754.24061465  956.76053698]\n",
            "\n",
            "Sample C: =\n",
            "\n",
            " [ 900.51420093 1054.06888175 1010.38187593  930.51971289  992.32240889\n",
            " 1061.54765516 1111.8781308   809.63691093  977.9789502  1141.68532996\n",
            " 1073.10628049  803.27156186 1057.28172369  831.01209521  972.83171858\n",
            " 1067.62942672 1002.70538586  760.02305042 1024.4373451  1026.16543433\n",
            "  991.03223118  907.43214817  928.64531115  977.01129152 1143.64802101\n",
            "  935.25637082  978.08108072 1009.08786942 1108.07634995 1189.71730643\n",
            "  965.62276668  854.84079549  995.05865835 1088.07905564  909.98578887\n",
            "  951.75864737 1075.95047001 1107.88296467 1058.05505144 1099.05007286\n",
            " 1075.22741697  853.86532321  818.2677378   891.21410912  883.02281043\n",
            " 1030.23394948  957.43957915 1034.23615067  890.68851139 1078.21599392]\n"
          ]
        }
      ]
    },
    {
      "cell_type": "code",
      "metadata": {
        "id": "jBUetD5zFdXW",
        "colab": {
          "base_uri": "https://localhost:8080/"
        },
        "outputId": "475da725-095f-4123-e60c-25746e249e84"
      },
      "source": [
        "print(\"Sample mean of sample A =\", round(sample_A.mean(),0))\n",
        "print(\"Sample mean of sample B =\", round(sample_B.mean(),0))\n",
        "print(\"Sample mean of sample C =\", round(sample_C.mean(),0))"
      ],
      "execution_count": 3,
      "outputs": [
        {
          "output_type": "stream",
          "name": "stdout",
          "text": [
            "Sample mean of sample A = 9992.0\n",
            "Sample mean of sample B = 966.0\n",
            "Sample mean of sample C = 988.0\n"
          ]
        }
      ]
    },
    {
      "cell_type": "markdown",
      "metadata": {
        "id": "mD3OT-MNFdXd"
      },
      "source": [
        "### One Sample t-Test\n",
        "\n",
        "H0: the mean of the population that sample A drawn from is 0\n",
        "\n",
        "Ha: the mean of the population that sample A drawn from is not 0\n"
      ]
    },
    {
      "cell_type": "code",
      "metadata": {
        "id": "V8tPHMoQFdXe",
        "colab": {
          "base_uri": "https://localhost:8080/"
        },
        "outputId": "b0aea1bd-7397-41f9-9279-fe69db5ad0a6"
      },
      "source": [
        "stats.ttest_1samp(sample_A, 0)"
      ],
      "execution_count": 4,
      "outputs": [
        {
          "output_type": "execute_result",
          "data": {
            "text/plain": [
              "Ttest_1sampResult(statistic=83.03368600581942, pvalue=2.223787847497298e-54)"
            ]
          },
          "metadata": {},
          "execution_count": 4
        }
      ]
    },
    {
      "cell_type": "markdown",
      "metadata": {
        "id": "4WiqpIbZFdXl"
      },
      "source": [
        "p-value is the probability of having the sameple under the hull hypothesis.\n",
        "If the population mean is 0 (null hypothesis), then the chance for the sample to have a mean of 10185 is very very slim - almost impossible."
      ]
    },
    {
      "cell_type": "markdown",
      "metadata": {
        "id": "uwT_PbNzHzQp"
      },
      "source": [
        "H0: the mean of population that sample A sampled from is 9500\n",
        "\n",
        "Ha: the mean of population that sample A sampled from is not 9500"
      ]
    },
    {
      "cell_type": "code",
      "metadata": {
        "id": "KGDLn7QdHllN",
        "colab": {
          "base_uri": "https://localhost:8080/"
        },
        "outputId": "c22d1c1e-cbd9-4437-d821-0eaca9f6b65f"
      },
      "source": [
        "stats.ttest_1samp(sample_A, 9500)"
      ],
      "execution_count": 5,
      "outputs": [
        {
          "output_type": "execute_result",
          "data": {
            "text/plain": [
              "Ttest_1sampResult(statistic=4.091362201187447, pvalue=0.0001594389369122153)"
            ]
          },
          "metadata": {},
          "execution_count": 5
        }
      ]
    },
    {
      "cell_type": "markdown",
      "metadata": {
        "id": "vYTPPfMuICSw"
      },
      "source": [
        "p-value is the probability of having the sameple under the hull hypothesis. If the population mean is 9500 (null hypothesis), then the chance for the sample to have a mean of 10185 is very slim."
      ]
    },
    {
      "cell_type": "markdown",
      "metadata": {
        "id": "bhtmZXyUdr0f"
      },
      "source": [
        "H0: the mean of population that sample A sampled from is 9950\n",
        "\n",
        "Ha: the mean of population that sample A sampled from is not 9950"
      ]
    },
    {
      "cell_type": "code",
      "metadata": {
        "id": "ZiOFqdgJIBYj",
        "colab": {
          "base_uri": "https://localhost:8080/"
        },
        "outputId": "bd08e174-3ff1-4d8a-a216-33e27b43b295"
      },
      "source": [
        "stats.ttest_1samp(sample_A, 9950)"
      ],
      "execution_count": 6,
      "outputs": [
        {
          "output_type": "execute_result",
          "data": {
            "text/plain": [
              "Ttest_1sampResult(statistic=0.3519889683364591, pvalue=0.7263558704995761)"
            ]
          },
          "metadata": {},
          "execution_count": 6
        }
      ]
    },
    {
      "cell_type": "markdown",
      "metadata": {
        "id": "HMpjBJKUdieW"
      },
      "source": [
        "p-value is the probability of having the sameple under the hull hypothesis. If the population mean is 9950 (null hypothesis), then the chance for the sample to have a mean of 10185 is about 12.6%, not slim. So we are unable to reject the null hypothesis. So we would conclude that given the evidence (sample data) the population mean is likely to be 9950 (we are still not 100% certain)."
      ]
    },
    {
      "cell_type": "markdown",
      "metadata": {
        "id": "r4sFChvxrlPc"
      },
      "source": [
        "H0: the mean of population that sample A sampled from is 9900\n",
        "\n",
        "Ha: the mean of population that sample A sampled from is not 9900"
      ]
    },
    {
      "cell_type": "code",
      "metadata": {
        "colab": {
          "base_uri": "https://localhost:8080/"
        },
        "id": "Y4hanOAGraVO",
        "outputId": "1beeafdd-c5c3-4406-bed8-03b5cd8035a7"
      },
      "source": [
        "stats.ttest_1samp(sample_A, 9900)"
      ],
      "execution_count": 7,
      "outputs": [
        {
          "output_type": "execute_result",
          "data": {
            "text/plain": [
              "Ttest_1sampResult(statistic=0.7674748830976801, pvalue=0.4464817867958044)"
            ]
          },
          "metadata": {},
          "execution_count": 7
        }
      ]
    },
    {
      "cell_type": "markdown",
      "metadata": {
        "id": "U7K0BHJSFdXm"
      },
      "source": [
        "### Two Sample Test - sample A vs sample B\n",
        "\n",
        "H0: The populations that sample A and B were sampled from have the same mean\n",
        "\n",
        "Ha: The populations that sample A and B were sampled from have different means"
      ]
    },
    {
      "cell_type": "code",
      "metadata": {
        "id": "1_tAewhhFdXn",
        "colab": {
          "base_uri": "https://localhost:8080/"
        },
        "outputId": "b16fc0fe-7480-469e-f076-386932d9b425"
      },
      "source": [
        "stats.ttest_ind(sample_A,sample_B)"
      ],
      "execution_count": 8,
      "outputs": [
        {
          "output_type": "execute_result",
          "data": {
            "text/plain": [
              "Ttest_indResult(statistic=74.51335237754252, pvalue=4.243682582586811e-88)"
            ]
          },
          "metadata": {},
          "execution_count": 8
        }
      ]
    },
    {
      "cell_type": "markdown",
      "metadata": {
        "id": "RYXUGMhhFdXr"
      },
      "source": [
        "With very small tiny p-value, we reject the null hypothesis and accept the alternative hypothesis."
      ]
    },
    {
      "cell_type": "markdown",
      "metadata": {
        "id": "OnmnctInFdXs"
      },
      "source": [
        "### Two Sample Test - sample B vs C\n",
        "\n",
        "H0: The populations that sample B and C were sampled from have the same mean\n",
        "\n",
        "Ha: The populations that sample B and C were sampled from have different means"
      ]
    },
    {
      "cell_type": "code",
      "metadata": {
        "id": "Dms6WRlQFdXt",
        "colab": {
          "base_uri": "https://localhost:8080/"
        },
        "outputId": "e61a9466-1303-4d1d-8bf5-5cb1efbc7f16"
      },
      "source": [
        "stats.ttest_ind(sample_B,sample_C)"
      ],
      "execution_count": 9,
      "outputs": [
        {
          "output_type": "execute_result",
          "data": {
            "text/plain": [
              "Ttest_indResult(statistic=-1.0919749985163272, pvalue=0.27752136174262915)"
            ]
          },
          "metadata": {},
          "execution_count": 9
        }
      ]
    },
    {
      "cell_type": "markdown",
      "metadata": {
        "id": "oHmrR_SaFdXx"
      },
      "source": [
        "With very large p-value, we are unable to reject the null hypothesis. So we accept the null hypothesis. We have enough evidence to believe sample B and C were drawn from populations with the same mean."
      ]
    },
    {
      "cell_type": "markdown",
      "metadata": {
        "id": "eOYq73gpFdXy"
      },
      "source": [
        "### Two Sample Test - sample D vs E \n",
        "\n",
        "Let's make the population means different (1000 vs 1005)\n",
        "\n",
        "H0: The populations that sample D and E were sampled from have the same mean\n",
        "Ha: The populations that sample D and E were sampled from have different means"
      ]
    },
    {
      "cell_type": "code",
      "metadata": {
        "id": "XwqyXgTmFdXz",
        "colab": {
          "base_uri": "https://localhost:8080/"
        },
        "outputId": "4bcf31e7-d644-4d5b-c043-c3b9346750e9"
      },
      "source": [
        "sample_D = stats.norm.rvs(1000, 100, 50)\n",
        "sample_E = stats.norm.rvs(1005, 100, 50)\n",
        "\n",
        "stats.ttest_ind(sample_D, sample_E)"
      ],
      "execution_count": 10,
      "outputs": [
        {
          "output_type": "execute_result",
          "data": {
            "text/plain": [
              "Ttest_indResult(statistic=-0.5612732616510778, pvalue=0.5758924845791201)"
            ]
          },
          "metadata": {},
          "execution_count": 10
        }
      ]
    },
    {
      "cell_type": "markdown",
      "metadata": {
        "id": "F8l4lsL6FdX2"
      },
      "source": [
        "Still relatively large p-value, so unable to reject the null hypothesis. \n",
        "Even though the population means are different but the difference is not statistically significant.\n"
      ]
    },
    {
      "cell_type": "markdown",
      "metadata": {
        "id": "yGLtsuoIFdX3"
      },
      "source": [
        "### Two Sample Test - sample D vs E \n",
        "\n",
        "Let's make the population means somewhat more different (1000 vs 1010)\n",
        "\n",
        "H0: The populations that sample D and E were sampled from have the same mean\n",
        "Ha: The populations that sample D and E were sampled from have different means"
      ]
    },
    {
      "cell_type": "code",
      "metadata": {
        "id": "zgBe09SoFdX3",
        "colab": {
          "base_uri": "https://localhost:8080/"
        },
        "outputId": "280a3bae-c2c8-4db6-d190-f7f1f793af03"
      },
      "source": [
        "sample_D = stats.norm.rvs(1000, 100, 50)\n",
        "sample_E = stats.norm.rvs(1015, 100, 50)\n",
        "\n",
        "stats.ttest_ind(sample_D, sample_E)"
      ],
      "execution_count": 11,
      "outputs": [
        {
          "output_type": "execute_result",
          "data": {
            "text/plain": [
              "Ttest_indResult(statistic=-0.23023251455235985, pvalue=0.818391006052364)"
            ]
          },
          "metadata": {},
          "execution_count": 11
        }
      ]
    },
    {
      "cell_type": "markdown",
      "metadata": {
        "id": "nX5k9y7MFdX8"
      },
      "source": [
        "The p-value is smaller but still greater than 0.05 (the standard used in social science research). We will not reject the null hypothesis. We conclude the populations are not significantly different."
      ]
    },
    {
      "cell_type": "markdown",
      "metadata": {
        "id": "Tj2D2tLuFdX9"
      },
      "source": [
        "### Two Sample Test - sample D vs E \n",
        "\n",
        "Let's make the population means even more different (1000 vs 1030)\n",
        "\n",
        "H0: The populations that sample D and E were sampled from have the same mean\n",
        "Ha: The populations that sample D and E were sampled from have different means"
      ]
    },
    {
      "cell_type": "code",
      "metadata": {
        "id": "ZEWy5azZFdX9",
        "colab": {
          "base_uri": "https://localhost:8080/"
        },
        "outputId": "b1a60f1a-53d8-4c6e-8d2d-ed1aaf5a711b"
      },
      "source": [
        "sample_D = stats.norm.rvs(1000, 100, 50)\n",
        "sample_E = stats.norm.rvs(1030, 100, 50)\n",
        "\n",
        "stats.ttest_ind(sample_D, sample_E)"
      ],
      "execution_count": 12,
      "outputs": [
        {
          "output_type": "execute_result",
          "data": {
            "text/plain": [
              "Ttest_indResult(statistic=-1.4255466585372618, pvalue=0.15717665187640334)"
            ]
          },
          "metadata": {},
          "execution_count": 12
        }
      ]
    },
    {
      "cell_type": "markdown",
      "metadata": {
        "id": "sIw3ACs8FdYB"
      },
      "source": [
        "Now, we have a p-value that is less than standard 0.05.\n",
        "We can reject the null hypothesis and state that the means of the two populations are not the same."
      ]
    },
    {
      "cell_type": "markdown",
      "metadata": {
        "id": "s4vcuA6zFdYB"
      },
      "source": [
        "### The End"
      ]
    }
  ]
}