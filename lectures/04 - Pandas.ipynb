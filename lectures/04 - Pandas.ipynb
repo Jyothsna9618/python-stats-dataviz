{
 "cells": [
  {
   "cell_type": "markdown",
   "metadata": {},
   "source": [
    "## 04. Pandas\n",
    "Pandas is a library for data structure and analysis. Panel Data Analysis. It comes with two data structures:\n",
    "- Data Series\n",
    "- Data Frame\n"
   ]
  },
  {
   "cell_type": "code",
   "execution_count": 1,
   "metadata": {},
   "outputs": [],
   "source": [
    "import numpy as np\n",
    "import pandas as pd\n",
    "import matplotlib.pyplot as plt"
   ]
  },
  {
   "cell_type": "markdown",
   "metadata": {},
   "source": [
    "### 1. Series"
   ]
  },
  {
   "cell_type": "code",
   "execution_count": 2,
   "metadata": {},
   "outputs": [
    {
     "name": "stdout",
     "output_type": "stream",
     "text": [
      "0    0\n",
      "1    1\n",
      "2    2\n",
      "3    3\n",
      "4    4\n",
      "dtype: int64\n"
     ]
    },
    {
     "data": {
      "text/plain": [
       "pandas.core.series.Series"
      ]
     },
     "execution_count": 2,
     "metadata": {},
     "output_type": "execute_result"
    }
   ],
   "source": [
    "# Created a Pandas Series from a Python range\n",
    "# when index is not provided, integers are used by default\n",
    "ds = pd.Series(range(5))\n",
    "print(ds)\n",
    "type(ds)"
   ]
  },
  {
   "cell_type": "code",
   "execution_count": 3,
   "metadata": {},
   "outputs": [
    {
     "name": "stdout",
     "output_type": "stream",
     "text": [
      "MD    4\n",
      "VA    3\n",
      "DC    9\n",
      "DE    8\n",
      "PA    8\n",
      "dtype: int32\n"
     ]
    },
    {
     "data": {
      "text/plain": [
       "pandas.core.series.Series"
      ]
     },
     "execution_count": 3,
     "metadata": {},
     "output_type": "execute_result"
    }
   ],
   "source": [
    "# Created a Pandas Series from a Numpy array\n",
    "# an index can be provided.\n",
    "ds = pd.Series(np.random.randint(0, 10, 5), index=[\"MD\", \"VA\",\"DC\", \"DE\",\"PA\"])\n",
    "print(ds)\n",
    "type(ds)"
   ]
  },
  {
   "cell_type": "code",
   "execution_count": 4,
   "metadata": {},
   "outputs": [
    {
     "name": "stdout",
     "output_type": "stream",
     "text": [
      "MD                Maryland\n",
      "PA            Pennsylvania\n",
      "VA                Virginia\n",
      "DC    District of Columbia\n",
      "DE                Delaware\n",
      "dtype: object\n"
     ]
    }
   ],
   "source": [
    "# Created a Pandas Series from a Python dictionary\n",
    "# the keys becom the index\n",
    "states = {\"MD\":\"Maryland\",\n",
    "     \"PA\":\"Pennsylvania\",\n",
    "     \"VA\":\"Virginia\",\n",
    "     \"DC\":\"District of Columbia\",\n",
    "     \"DE\":\"Delaware\"\n",
    "    }\n",
    "ds = pd.Series(states)\n",
    "print(ds)"
   ]
  },
  {
   "cell_type": "code",
   "execution_count": 5,
   "metadata": {},
   "outputs": [
    {
     "data": {
      "text/plain": [
       "(5,)"
      ]
     },
     "execution_count": 5,
     "metadata": {},
     "output_type": "execute_result"
    }
   ],
   "source": [
    "ds.shape"
   ]
  },
  {
   "cell_type": "markdown",
   "metadata": {},
   "source": [
    "### 2. Dataframe Basics\n",
    "A dataframe is a two-dimensional array similar to an Excel spreadsheet.  Each column has a column name/label; Each row has a index to uniquely identify the row (observation, unit of analysis).\n",
    "\n",
    "Properties:\n",
    "- shape\n",
    "- info()\n",
    "- colummns\n",
    "- index\n",
    "- dtypes\n",
    "- size\n",
    "\n",
    "Methods:\n",
    "- head()\n",
    "- tail()\n",
    "- sample()\n",
    "- describe()"
   ]
  },
  {
   "cell_type": "code",
   "execution_count": 6,
   "metadata": {},
   "outputs": [
    {
     "name": "stdout",
     "output_type": "stream",
     "text": [
      "    Name  Score Grade Full-time Gender\n",
      "0    Joe    100     A      True      M\n",
      "1   Jane     98     A     False      F\n",
      "2   Jack     67     C       NaN      M\n",
      "3  Jenny     80     B      True      F\n",
      "4  Jerry     89    A-     False      M\n",
      "5   June     93     A      True      F\n",
      "6   July     84    B+      True      F\n"
     ]
    },
    {
     "data": {
      "text/plain": [
       "pandas.core.frame.DataFrame"
      ]
     },
     "execution_count": 6,
     "metadata": {},
     "output_type": "execute_result"
    }
   ],
   "source": [
    "students = {\n",
    "    \"Name\": [\"Joe\", \"Jane\", \"Jack\", \"Jenny\",\"Jerry\", \"June\", \"July\"],\n",
    "    \"Score\":[100, 98, 67, 80, 89, 93, 84],\n",
    "    \"Grade\":[\"A\", \"A\", \"C\", \"B\", \"A-\", \"A\", \"B+\"],\n",
    "    \"Full-time\": [True, False, np.NaN, True, False, True, True],\n",
    "    \"Gender\":[\"M\", \"F\", \"M\", \"F\", \"M\", \"F\",\"F\"]\n",
    "}\n",
    "df = pd.DataFrame(students)\n",
    "print(df)\n",
    "type(df)"
   ]
  },
  {
   "cell_type": "code",
   "execution_count": 7,
   "metadata": {},
   "outputs": [
    {
     "name": "stdout",
     "output_type": "stream",
     "text": [
      "       Score Grade Full-time Gender\n",
      "Name                               \n",
      "Joe      100     A      True      M\n",
      "Jane      98     A     False      F\n",
      "Jack      67     C       NaN      M\n",
      "Jenny     80     B      True      F\n",
      "Jerry     89    A-     False      M\n",
      "June      93     A      True      F\n",
      "July      84    B+      True      F\n"
     ]
    }
   ],
   "source": [
    "# row index must be unique and it identifies each row (observation, unit of analysis)\n",
    "#df2 = df.set_index(\"Name\")\n",
    "df.set_index(\"Name\", inplace=True)\n",
    "print(df)"
   ]
  },
  {
   "cell_type": "code",
   "execution_count": 8,
   "metadata": {},
   "outputs": [
    {
     "data": {
      "text/plain": [
       "Name\n",
       "Joe      100\n",
       "Jane      98\n",
       "Jack      67\n",
       "Jenny     80\n",
       "Jerry     89\n",
       "June      93\n",
       "July      84\n",
       "Name: Score, dtype: int64"
      ]
     },
     "execution_count": 8,
     "metadata": {},
     "output_type": "execute_result"
    }
   ],
   "source": [
    "df[\"Score\"]"
   ]
  },
  {
   "cell_type": "code",
   "execution_count": 9,
   "metadata": {},
   "outputs": [
    {
     "data": {
      "text/plain": [
       "Index(['Joe', 'Jane', 'Jack', 'Jenny', 'Jerry', 'June', 'July'], dtype='object', name='Name')"
      ]
     },
     "execution_count": 9,
     "metadata": {},
     "output_type": "execute_result"
    }
   ],
   "source": [
    "df.index"
   ]
  },
  {
   "cell_type": "code",
   "execution_count": 10,
   "metadata": {},
   "outputs": [
    {
     "data": {
      "text/html": [
       "<div>\n",
       "<style scoped>\n",
       "    .dataframe tbody tr th:only-of-type {\n",
       "        vertical-align: middle;\n",
       "    }\n",
       "\n",
       "    .dataframe tbody tr th {\n",
       "        vertical-align: top;\n",
       "    }\n",
       "\n",
       "    .dataframe thead th {\n",
       "        text-align: right;\n",
       "    }\n",
       "</style>\n",
       "<table border=\"1\" class=\"dataframe\">\n",
       "  <thead>\n",
       "    <tr style=\"text-align: right;\">\n",
       "      <th></th>\n",
       "      <th>Score</th>\n",
       "      <th>Grade</th>\n",
       "      <th>Full-time</th>\n",
       "      <th>Gender</th>\n",
       "    </tr>\n",
       "    <tr>\n",
       "      <th>Name</th>\n",
       "      <th></th>\n",
       "      <th></th>\n",
       "      <th></th>\n",
       "      <th></th>\n",
       "    </tr>\n",
       "  </thead>\n",
       "  <tbody>\n",
       "    <tr>\n",
       "      <th>Joe</th>\n",
       "      <td>100</td>\n",
       "      <td>A</td>\n",
       "      <td>True</td>\n",
       "      <td>M</td>\n",
       "    </tr>\n",
       "    <tr>\n",
       "      <th>Jane</th>\n",
       "      <td>98</td>\n",
       "      <td>A</td>\n",
       "      <td>False</td>\n",
       "      <td>F</td>\n",
       "    </tr>\n",
       "    <tr>\n",
       "      <th>Jack</th>\n",
       "      <td>67</td>\n",
       "      <td>C</td>\n",
       "      <td>NaN</td>\n",
       "      <td>M</td>\n",
       "    </tr>\n",
       "    <tr>\n",
       "      <th>Jenny</th>\n",
       "      <td>80</td>\n",
       "      <td>B</td>\n",
       "      <td>True</td>\n",
       "      <td>F</td>\n",
       "    </tr>\n",
       "    <tr>\n",
       "      <th>Jerry</th>\n",
       "      <td>89</td>\n",
       "      <td>A-</td>\n",
       "      <td>False</td>\n",
       "      <td>M</td>\n",
       "    </tr>\n",
       "    <tr>\n",
       "      <th>June</th>\n",
       "      <td>93</td>\n",
       "      <td>A</td>\n",
       "      <td>True</td>\n",
       "      <td>F</td>\n",
       "    </tr>\n",
       "    <tr>\n",
       "      <th>July</th>\n",
       "      <td>84</td>\n",
       "      <td>B+</td>\n",
       "      <td>True</td>\n",
       "      <td>F</td>\n",
       "    </tr>\n",
       "  </tbody>\n",
       "</table>\n",
       "</div>"
      ],
      "text/plain": [
       "       Score Grade Full-time Gender\n",
       "Name                               \n",
       "Joe      100     A      True      M\n",
       "Jane      98     A     False      F\n",
       "Jack      67     C       NaN      M\n",
       "Jenny     80     B      True      F\n",
       "Jerry     89    A-     False      M\n",
       "June      93     A      True      F\n",
       "July      84    B+      True      F"
      ]
     },
     "execution_count": 10,
     "metadata": {},
     "output_type": "execute_result"
    }
   ],
   "source": [
    "df"
   ]
  },
  {
   "cell_type": "code",
   "execution_count": 11,
   "metadata": {},
   "outputs": [
    {
     "data": {
      "text/html": [
       "<div>\n",
       "<style scoped>\n",
       "    .dataframe tbody tr th:only-of-type {\n",
       "        vertical-align: middle;\n",
       "    }\n",
       "\n",
       "    .dataframe tbody tr th {\n",
       "        vertical-align: top;\n",
       "    }\n",
       "\n",
       "    .dataframe thead th {\n",
       "        text-align: right;\n",
       "    }\n",
       "</style>\n",
       "<table border=\"1\" class=\"dataframe\">\n",
       "  <thead>\n",
       "    <tr style=\"text-align: right;\">\n",
       "      <th></th>\n",
       "      <th>Name</th>\n",
       "      <th>Score</th>\n",
       "      <th>Grade</th>\n",
       "      <th>Full-time</th>\n",
       "      <th>Gender</th>\n",
       "    </tr>\n",
       "  </thead>\n",
       "  <tbody>\n",
       "    <tr>\n",
       "      <th>0</th>\n",
       "      <td>Joe</td>\n",
       "      <td>100</td>\n",
       "      <td>A</td>\n",
       "      <td>True</td>\n",
       "      <td>M</td>\n",
       "    </tr>\n",
       "    <tr>\n",
       "      <th>1</th>\n",
       "      <td>Jane</td>\n",
       "      <td>98</td>\n",
       "      <td>A</td>\n",
       "      <td>False</td>\n",
       "      <td>F</td>\n",
       "    </tr>\n",
       "    <tr>\n",
       "      <th>2</th>\n",
       "      <td>Jack</td>\n",
       "      <td>67</td>\n",
       "      <td>C</td>\n",
       "      <td>NaN</td>\n",
       "      <td>M</td>\n",
       "    </tr>\n",
       "    <tr>\n",
       "      <th>3</th>\n",
       "      <td>Jenny</td>\n",
       "      <td>80</td>\n",
       "      <td>B</td>\n",
       "      <td>True</td>\n",
       "      <td>F</td>\n",
       "    </tr>\n",
       "    <tr>\n",
       "      <th>4</th>\n",
       "      <td>Jerry</td>\n",
       "      <td>89</td>\n",
       "      <td>A-</td>\n",
       "      <td>False</td>\n",
       "      <td>M</td>\n",
       "    </tr>\n",
       "    <tr>\n",
       "      <th>5</th>\n",
       "      <td>June</td>\n",
       "      <td>93</td>\n",
       "      <td>A</td>\n",
       "      <td>True</td>\n",
       "      <td>F</td>\n",
       "    </tr>\n",
       "    <tr>\n",
       "      <th>6</th>\n",
       "      <td>July</td>\n",
       "      <td>84</td>\n",
       "      <td>B+</td>\n",
       "      <td>True</td>\n",
       "      <td>F</td>\n",
       "    </tr>\n",
       "  </tbody>\n",
       "</table>\n",
       "</div>"
      ],
      "text/plain": [
       "    Name  Score Grade Full-time Gender\n",
       "0    Joe    100     A      True      M\n",
       "1   Jane     98     A     False      F\n",
       "2   Jack     67     C       NaN      M\n",
       "3  Jenny     80     B      True      F\n",
       "4  Jerry     89    A-     False      M\n",
       "5   June     93     A      True      F\n",
       "6   July     84    B+      True      F"
      ]
     },
     "execution_count": 11,
     "metadata": {},
     "output_type": "execute_result"
    }
   ],
   "source": [
    "df.reset_index()"
   ]
  },
  {
   "cell_type": "code",
   "execution_count": 12,
   "metadata": {},
   "outputs": [
    {
     "data": {
      "text/plain": [
       "(7, 4)"
      ]
     },
     "execution_count": 12,
     "metadata": {},
     "output_type": "execute_result"
    }
   ],
   "source": [
    "df.shape"
   ]
  },
  {
   "cell_type": "code",
   "execution_count": 13,
   "metadata": {},
   "outputs": [
    {
     "data": {
      "text/html": [
       "<div>\n",
       "<style scoped>\n",
       "    .dataframe tbody tr th:only-of-type {\n",
       "        vertical-align: middle;\n",
       "    }\n",
       "\n",
       "    .dataframe tbody tr th {\n",
       "        vertical-align: top;\n",
       "    }\n",
       "\n",
       "    .dataframe thead th {\n",
       "        text-align: right;\n",
       "    }\n",
       "</style>\n",
       "<table border=\"1\" class=\"dataframe\">\n",
       "  <thead>\n",
       "    <tr style=\"text-align: right;\">\n",
       "      <th></th>\n",
       "      <th>Score</th>\n",
       "      <th>Grade</th>\n",
       "      <th>Full-time</th>\n",
       "      <th>Gender</th>\n",
       "    </tr>\n",
       "    <tr>\n",
       "      <th>Name</th>\n",
       "      <th></th>\n",
       "      <th></th>\n",
       "      <th></th>\n",
       "      <th></th>\n",
       "    </tr>\n",
       "  </thead>\n",
       "  <tbody>\n",
       "    <tr>\n",
       "      <th>Jack</th>\n",
       "      <td>67</td>\n",
       "      <td>C</td>\n",
       "      <td>NaN</td>\n",
       "      <td>M</td>\n",
       "    </tr>\n",
       "    <tr>\n",
       "      <th>Jenny</th>\n",
       "      <td>80</td>\n",
       "      <td>B</td>\n",
       "      <td>True</td>\n",
       "      <td>F</td>\n",
       "    </tr>\n",
       "    <tr>\n",
       "      <th>July</th>\n",
       "      <td>84</td>\n",
       "      <td>B+</td>\n",
       "      <td>True</td>\n",
       "      <td>F</td>\n",
       "    </tr>\n",
       "  </tbody>\n",
       "</table>\n",
       "</div>"
      ],
      "text/plain": [
       "       Score Grade Full-time Gender\n",
       "Name                               \n",
       "Jack      67     C       NaN      M\n",
       "Jenny     80     B      True      F\n",
       "July      84    B+      True      F"
      ]
     },
     "execution_count": 13,
     "metadata": {},
     "output_type": "execute_result"
    }
   ],
   "source": [
    "df.sample(3)"
   ]
  },
  {
   "cell_type": "code",
   "execution_count": 14,
   "metadata": {},
   "outputs": [
    {
     "name": "stdout",
     "output_type": "stream",
     "text": [
      "<class 'pandas.core.frame.DataFrame'>\n",
      "Index: 7 entries, Joe to July\n",
      "Data columns (total 4 columns):\n",
      "Score        7 non-null int64\n",
      "Grade        7 non-null object\n",
      "Full-time    6 non-null object\n",
      "Gender       7 non-null object\n",
      "dtypes: int64(1), object(3)\n",
      "memory usage: 600.0+ bytes\n"
     ]
    }
   ],
   "source": [
    "df.info()"
   ]
  },
  {
   "cell_type": "code",
   "execution_count": 15,
   "metadata": {},
   "outputs": [
    {
     "data": {
      "text/html": [
       "<div>\n",
       "<style scoped>\n",
       "    .dataframe tbody tr th:only-of-type {\n",
       "        vertical-align: middle;\n",
       "    }\n",
       "\n",
       "    .dataframe tbody tr th {\n",
       "        vertical-align: top;\n",
       "    }\n",
       "\n",
       "    .dataframe thead th {\n",
       "        text-align: right;\n",
       "    }\n",
       "</style>\n",
       "<table border=\"1\" class=\"dataframe\">\n",
       "  <thead>\n",
       "    <tr style=\"text-align: right;\">\n",
       "      <th></th>\n",
       "      <th>Grade</th>\n",
       "      <th>Full-time</th>\n",
       "      <th>Gender</th>\n",
       "    </tr>\n",
       "  </thead>\n",
       "  <tbody>\n",
       "    <tr>\n",
       "      <th>count</th>\n",
       "      <td>7</td>\n",
       "      <td>6</td>\n",
       "      <td>7</td>\n",
       "    </tr>\n",
       "    <tr>\n",
       "      <th>unique</th>\n",
       "      <td>5</td>\n",
       "      <td>2</td>\n",
       "      <td>2</td>\n",
       "    </tr>\n",
       "    <tr>\n",
       "      <th>top</th>\n",
       "      <td>A</td>\n",
       "      <td>True</td>\n",
       "      <td>F</td>\n",
       "    </tr>\n",
       "    <tr>\n",
       "      <th>freq</th>\n",
       "      <td>3</td>\n",
       "      <td>4</td>\n",
       "      <td>4</td>\n",
       "    </tr>\n",
       "  </tbody>\n",
       "</table>\n",
       "</div>"
      ],
      "text/plain": [
       "       Grade Full-time Gender\n",
       "count      7         6      7\n",
       "unique     5         2      2\n",
       "top        A      True      F\n",
       "freq       3         4      4"
      ]
     },
     "execution_count": 15,
     "metadata": {},
     "output_type": "execute_result"
    }
   ],
   "source": [
    "df.describe(include=\"object\")"
   ]
  },
  {
   "cell_type": "code",
   "execution_count": null,
   "metadata": {},
   "outputs": [],
   "source": []
  },
  {
   "cell_type": "code",
   "execution_count": 16,
   "metadata": {},
   "outputs": [
    {
     "data": {
      "text/html": [
       "<div>\n",
       "<style scoped>\n",
       "    .dataframe tbody tr th:only-of-type {\n",
       "        vertical-align: middle;\n",
       "    }\n",
       "\n",
       "    .dataframe tbody tr th {\n",
       "        vertical-align: top;\n",
       "    }\n",
       "\n",
       "    .dataframe thead th {\n",
       "        text-align: right;\n",
       "    }\n",
       "</style>\n",
       "<table border=\"1\" class=\"dataframe\">\n",
       "  <thead>\n",
       "    <tr style=\"text-align: right;\">\n",
       "      <th></th>\n",
       "      <th>Score</th>\n",
       "      <th>Grade</th>\n",
       "      <th>Full-time</th>\n",
       "      <th>Gender</th>\n",
       "    </tr>\n",
       "    <tr>\n",
       "      <th>Name</th>\n",
       "      <th></th>\n",
       "      <th></th>\n",
       "      <th></th>\n",
       "      <th></th>\n",
       "    </tr>\n",
       "  </thead>\n",
       "  <tbody>\n",
       "    <tr>\n",
       "      <th>Joe</th>\n",
       "      <td>100</td>\n",
       "      <td>A</td>\n",
       "      <td>True</td>\n",
       "      <td>M</td>\n",
       "    </tr>\n",
       "    <tr>\n",
       "      <th>Jane</th>\n",
       "      <td>98</td>\n",
       "      <td>A</td>\n",
       "      <td>False</td>\n",
       "      <td>F</td>\n",
       "    </tr>\n",
       "    <tr>\n",
       "      <th>Jack</th>\n",
       "      <td>67</td>\n",
       "      <td>C</td>\n",
       "      <td>NaN</td>\n",
       "      <td>M</td>\n",
       "    </tr>\n",
       "    <tr>\n",
       "      <th>Jenny</th>\n",
       "      <td>80</td>\n",
       "      <td>B</td>\n",
       "      <td>True</td>\n",
       "      <td>F</td>\n",
       "    </tr>\n",
       "    <tr>\n",
       "      <th>Jerry</th>\n",
       "      <td>89</td>\n",
       "      <td>A-</td>\n",
       "      <td>False</td>\n",
       "      <td>M</td>\n",
       "    </tr>\n",
       "  </tbody>\n",
       "</table>\n",
       "</div>"
      ],
      "text/plain": [
       "       Score Grade Full-time Gender\n",
       "Name                               \n",
       "Joe      100     A      True      M\n",
       "Jane      98     A     False      F\n",
       "Jack      67     C       NaN      M\n",
       "Jenny     80     B      True      F\n",
       "Jerry     89    A-     False      M"
      ]
     },
     "execution_count": 16,
     "metadata": {},
     "output_type": "execute_result"
    }
   ],
   "source": [
    "df.head()"
   ]
  },
  {
   "cell_type": "markdown",
   "metadata": {},
   "source": [
    "### 3. Access Data Elements in a DataFrame\n",
    "- using colum labels\n",
    "- loc\n",
    "- iloc\n",
    "- at"
   ]
  },
  {
   "cell_type": "code",
   "execution_count": 17,
   "metadata": {},
   "outputs": [
    {
     "data": {
      "text/plain": [
       "Name\n",
       "Joe      100\n",
       "Jane      98\n",
       "Jack      67\n",
       "Jenny     80\n",
       "Jerry     89\n",
       "June      93\n",
       "July      84\n",
       "Name: Score, dtype: int64"
      ]
     },
     "execution_count": 17,
     "metadata": {},
     "output_type": "execute_result"
    }
   ],
   "source": [
    "df[\"Score\"]"
   ]
  },
  {
   "cell_type": "code",
   "execution_count": 18,
   "metadata": {},
   "outputs": [
    {
     "data": {
      "text/plain": [
       "pandas.core.frame.DataFrame"
      ]
     },
     "execution_count": 18,
     "metadata": {},
     "output_type": "execute_result"
    }
   ],
   "source": [
    "x = df[[\"Score\", \"Grade\"]]\n",
    "type(x)"
   ]
  },
  {
   "cell_type": "code",
   "execution_count": null,
   "metadata": {},
   "outputs": [
    {
     "name": "stdout",
     "output_type": "stream",
     "text": [
      "Score         100\n",
      "Grade           A\n",
      "Full-time    True\n",
      "Gender          M\n",
      "Name: Joe, dtype: object\n"
     ]
    },
    {
     "data": {
      "text/plain": [
       "pandas.core.series.Series"
      ]
     },
     "execution_count": 19,
     "metadata": {},
     "output_type": "execute_result"
    }
   ],
   "source": [
    "# locate based on index and column names\n",
    "x = df.loc[\"Joe\"]\n",
    "print(x)\n",
    "type(x)"
   ]
  },
  {
   "cell_type": "code",
   "execution_count": null,
   "metadata": {},
   "outputs": [
    {
     "name": "stdout",
     "output_type": "stream",
     "text": [
      "Score         67\n",
      "Grade          C\n",
      "Full-time    NaN\n",
      "Gender         M\n",
      "Name: Jack, dtype: object\n"
     ]
    },
    {
     "data": {
      "text/plain": [
       "pandas.core.series.Series"
      ]
     },
     "execution_count": 20,
     "metadata": {},
     "output_type": "execute_result"
    }
   ],
   "source": [
    "# locate based on the integer position\n",
    "x = df.iloc[2]  # the third row (Python index is 0-based)\n",
    "print(x)\n",
    "type(x)"
   ]
  },
  {
   "cell_type": "code",
   "execution_count": null,
   "metadata": {},
   "outputs": [
    {
     "data": {
      "text/html": [
       "<div>\n",
       "<style scoped>\n",
       "    .dataframe tbody tr th:only-of-type {\n",
       "        vertical-align: middle;\n",
       "    }\n",
       "\n",
       "    .dataframe tbody tr th {\n",
       "        vertical-align: top;\n",
       "    }\n",
       "\n",
       "    .dataframe thead th {\n",
       "        text-align: right;\n",
       "    }\n",
       "</style>\n",
       "<table border=\"1\" class=\"dataframe\">\n",
       "  <thead>\n",
       "    <tr style=\"text-align: right;\">\n",
       "      <th></th>\n",
       "      <th>Score</th>\n",
       "      <th>Grade</th>\n",
       "      <th>Full-time</th>\n",
       "      <th>Gender</th>\n",
       "    </tr>\n",
       "    <tr>\n",
       "      <th>Name</th>\n",
       "      <th></th>\n",
       "      <th></th>\n",
       "      <th></th>\n",
       "      <th></th>\n",
       "    </tr>\n",
       "  </thead>\n",
       "  <tbody>\n",
       "    <tr>\n",
       "      <th>Joe</th>\n",
       "      <td>100</td>\n",
       "      <td>A</td>\n",
       "      <td>True</td>\n",
       "      <td>M</td>\n",
       "    </tr>\n",
       "    <tr>\n",
       "      <th>Jane</th>\n",
       "      <td>98</td>\n",
       "      <td>A</td>\n",
       "      <td>False</td>\n",
       "      <td>F</td>\n",
       "    </tr>\n",
       "    <tr>\n",
       "      <th>June</th>\n",
       "      <td>93</td>\n",
       "      <td>A</td>\n",
       "      <td>True</td>\n",
       "      <td>F</td>\n",
       "    </tr>\n",
       "  </tbody>\n",
       "</table>\n",
       "</div>"
      ],
      "text/plain": [
       "      Score Grade Full-time Gender\n",
       "Name                              \n",
       "Joe     100     A      True      M\n",
       "Jane     98     A     False      F\n",
       "June     93     A      True      F"
      ]
     },
     "execution_count": 21,
     "metadata": {},
     "output_type": "execute_result"
    }
   ],
   "source": [
    "df[df[\"Grade\"] == \"A\"]"
   ]
  },
  {
   "cell_type": "code",
   "execution_count": null,
   "metadata": {},
   "outputs": [
    {
     "name": "stdout",
     "output_type": "stream",
     "text": [
      "100\n"
     ]
    },
    {
     "data": {
      "text/plain": [
       "numpy.int64"
      ]
     },
     "execution_count": 22,
     "metadata": {},
     "output_type": "execute_result"
    }
   ],
   "source": [
    "x = df.loc[\"Joe\", \"Score\"]\n",
    "print(x)\n",
    "type(x)"
   ]
  },
  {
   "cell_type": "code",
   "execution_count": null,
   "metadata": {},
   "outputs": [
    {
     "name": "stdout",
     "output_type": "stream",
     "text": [
      "      Score Grade Full-time\n",
      "Name                       \n",
      "Joe     100     A      True\n",
      "Jane     98     A     False\n",
      "Jack     67     C       NaN\n"
     ]
    },
    {
     "data": {
      "text/plain": [
       "pandas.core.frame.DataFrame"
      ]
     },
     "execution_count": 23,
     "metadata": {},
     "output_type": "execute_result"
    }
   ],
   "source": [
    "x = df.loc[\"Joe\":\"Jack\", \"Score\":\"Full-time\"]\n",
    "print(x)\n",
    "type(x)"
   ]
  },
  {
   "cell_type": "code",
   "execution_count": null,
   "metadata": {},
   "outputs": [
    {
     "name": "stdout",
     "output_type": "stream",
     "text": [
      "      Score Gender\n",
      "Name              \n",
      "Joe     100      M\n",
      "Jack     67      M\n"
     ]
    },
    {
     "data": {
      "text/plain": [
       "pandas.core.frame.DataFrame"
      ]
     },
     "execution_count": 24,
     "metadata": {},
     "output_type": "execute_result"
    }
   ],
   "source": [
    "x = df.loc[[\"Joe\",\"Jack\"], [\"Score\",\"Gender\"]]\n",
    "print(x)\n",
    "type(x)"
   ]
  },
  {
   "cell_type": "code",
   "execution_count": null,
   "metadata": {},
   "outputs": [
    {
     "data": {
      "text/plain": [
       "Name\n",
       "Joe       A\n",
       "Jane      A\n",
       "Jack      C\n",
       "Jenny     B\n",
       "Jerry    A-\n",
       "June      A\n",
       "July     B+\n",
       "Name: Grade, dtype: object"
      ]
     },
     "execution_count": 25,
     "metadata": {},
     "output_type": "execute_result"
    }
   ],
   "source": [
    "# This is the same as df[\"Grade\"] which is prefered\n",
    "df.loc[:,\"Grade\"]     "
   ]
  },
  {
   "cell_type": "markdown",
   "metadata": {},
   "source": [
    "### 4. Dataframe Manipulation\n",
    "- add columns\n",
    "- drop columns\n",
    "- rename columns\n",
    "- change column data type\n",
    "- select rows \n",
    "- drop rows"
   ]
  },
  {
   "cell_type": "code",
   "execution_count": null,
   "metadata": {},
   "outputs": [
    {
     "data": {
      "text/html": [
       "<div>\n",
       "<style scoped>\n",
       "    .dataframe tbody tr th:only-of-type {\n",
       "        vertical-align: middle;\n",
       "    }\n",
       "\n",
       "    .dataframe tbody tr th {\n",
       "        vertical-align: top;\n",
       "    }\n",
       "\n",
       "    .dataframe thead th {\n",
       "        text-align: right;\n",
       "    }\n",
       "</style>\n",
       "<table border=\"1\" class=\"dataframe\">\n",
       "  <thead>\n",
       "    <tr style=\"text-align: right;\">\n",
       "      <th></th>\n",
       "      <th>Score</th>\n",
       "      <th>Grade</th>\n",
       "      <th>Full-time</th>\n",
       "      <th>Gender</th>\n",
       "      <th>State</th>\n",
       "    </tr>\n",
       "    <tr>\n",
       "      <th>Name</th>\n",
       "      <th></th>\n",
       "      <th></th>\n",
       "      <th></th>\n",
       "      <th></th>\n",
       "      <th></th>\n",
       "    </tr>\n",
       "  </thead>\n",
       "  <tbody>\n",
       "    <tr>\n",
       "      <th>Joe</th>\n",
       "      <td>100</td>\n",
       "      <td>A</td>\n",
       "      <td>True</td>\n",
       "      <td>M</td>\n",
       "      <td>MD</td>\n",
       "    </tr>\n",
       "    <tr>\n",
       "      <th>Jane</th>\n",
       "      <td>98</td>\n",
       "      <td>A</td>\n",
       "      <td>False</td>\n",
       "      <td>F</td>\n",
       "      <td>MD</td>\n",
       "    </tr>\n",
       "    <tr>\n",
       "      <th>Jack</th>\n",
       "      <td>67</td>\n",
       "      <td>C</td>\n",
       "      <td>NaN</td>\n",
       "      <td>M</td>\n",
       "      <td>VA</td>\n",
       "    </tr>\n",
       "    <tr>\n",
       "      <th>Jenny</th>\n",
       "      <td>80</td>\n",
       "      <td>B</td>\n",
       "      <td>True</td>\n",
       "      <td>F</td>\n",
       "      <td>DC</td>\n",
       "    </tr>\n",
       "    <tr>\n",
       "      <th>Jerry</th>\n",
       "      <td>89</td>\n",
       "      <td>A-</td>\n",
       "      <td>False</td>\n",
       "      <td>M</td>\n",
       "      <td>VA</td>\n",
       "    </tr>\n",
       "    <tr>\n",
       "      <th>June</th>\n",
       "      <td>93</td>\n",
       "      <td>A</td>\n",
       "      <td>True</td>\n",
       "      <td>F</td>\n",
       "      <td>MD</td>\n",
       "    </tr>\n",
       "    <tr>\n",
       "      <th>July</th>\n",
       "      <td>84</td>\n",
       "      <td>B+</td>\n",
       "      <td>True</td>\n",
       "      <td>F</td>\n",
       "      <td>DC</td>\n",
       "    </tr>\n",
       "  </tbody>\n",
       "</table>\n",
       "</div>"
      ],
      "text/plain": [
       "       Score Grade Full-time Gender State\n",
       "Name                                     \n",
       "Joe      100     A      True      M    MD\n",
       "Jane      98     A     False      F    MD\n",
       "Jack      67     C       NaN      M    VA\n",
       "Jenny     80     B      True      F    DC\n",
       "Jerry     89    A-     False      M    VA\n",
       "June      93     A      True      F    MD\n",
       "July      84    B+      True      F    DC"
      ]
     },
     "execution_count": 26,
     "metadata": {},
     "output_type": "execute_result"
    }
   ],
   "source": [
    "df[\"State\"] = [\"MD\", \"MD\", \"VA\", \"DC\", \"VA\", \"MD\", \"DC\"]\n",
    "df"
   ]
  },
  {
   "cell_type": "code",
   "execution_count": null,
   "metadata": {},
   "outputs": [
    {
     "data": {
      "text/html": [
       "<div>\n",
       "<style scoped>\n",
       "    .dataframe tbody tr th:only-of-type {\n",
       "        vertical-align: middle;\n",
       "    }\n",
       "\n",
       "    .dataframe tbody tr th {\n",
       "        vertical-align: top;\n",
       "    }\n",
       "\n",
       "    .dataframe thead th {\n",
       "        text-align: right;\n",
       "    }\n",
       "</style>\n",
       "<table border=\"1\" class=\"dataframe\">\n",
       "  <thead>\n",
       "    <tr style=\"text-align: right;\">\n",
       "      <th></th>\n",
       "      <th>Score</th>\n",
       "      <th>Grade</th>\n",
       "      <th>Full-time</th>\n",
       "      <th>Gender</th>\n",
       "      <th>State</th>\n",
       "    </tr>\n",
       "    <tr>\n",
       "      <th>Name</th>\n",
       "      <th></th>\n",
       "      <th></th>\n",
       "      <th></th>\n",
       "      <th></th>\n",
       "      <th></th>\n",
       "    </tr>\n",
       "  </thead>\n",
       "  <tbody>\n",
       "    <tr>\n",
       "      <th>Joe</th>\n",
       "      <td>100</td>\n",
       "      <td>A</td>\n",
       "      <td>True</td>\n",
       "      <td>M</td>\n",
       "      <td>MD</td>\n",
       "    </tr>\n",
       "    <tr>\n",
       "      <th>Jane</th>\n",
       "      <td>98</td>\n",
       "      <td>A</td>\n",
       "      <td>False</td>\n",
       "      <td>F</td>\n",
       "      <td>MD</td>\n",
       "    </tr>\n",
       "    <tr>\n",
       "      <th>Jack</th>\n",
       "      <td>67</td>\n",
       "      <td>C</td>\n",
       "      <td>NaN</td>\n",
       "      <td>M</td>\n",
       "      <td>VA</td>\n",
       "    </tr>\n",
       "    <tr>\n",
       "      <th>Jenny</th>\n",
       "      <td>80</td>\n",
       "      <td>B</td>\n",
       "      <td>True</td>\n",
       "      <td>F</td>\n",
       "      <td>DC</td>\n",
       "    </tr>\n",
       "    <tr>\n",
       "      <th>Jerry</th>\n",
       "      <td>89</td>\n",
       "      <td>A-</td>\n",
       "      <td>False</td>\n",
       "      <td>M</td>\n",
       "      <td>VA</td>\n",
       "    </tr>\n",
       "    <tr>\n",
       "      <th>June</th>\n",
       "      <td>93</td>\n",
       "      <td>A</td>\n",
       "      <td>True</td>\n",
       "      <td>F</td>\n",
       "      <td>MD</td>\n",
       "    </tr>\n",
       "    <tr>\n",
       "      <th>July</th>\n",
       "      <td>84</td>\n",
       "      <td>B+</td>\n",
       "      <td>True</td>\n",
       "      <td>F</td>\n",
       "      <td>DC</td>\n",
       "    </tr>\n",
       "  </tbody>\n",
       "</table>\n",
       "</div>"
      ],
      "text/plain": [
       "       Score Grade Full-time Gender State\n",
       "Name                                     \n",
       "Joe      100     A      True      M    MD\n",
       "Jane      98     A     False      F    MD\n",
       "Jack      67     C       NaN      M    VA\n",
       "Jenny     80     B      True      F    DC\n",
       "Jerry     89    A-     False      M    VA\n",
       "June      93     A      True      F    MD\n",
       "July      84    B+      True      F    DC"
      ]
     },
     "execution_count": 27,
     "metadata": {},
     "output_type": "execute_result"
    }
   ],
   "source": [
    "df.drop(columns=[\"State\"])\n",
    "df"
   ]
  },
  {
   "cell_type": "code",
   "execution_count": null,
   "metadata": {},
   "outputs": [
    {
     "data": {
      "text/html": [
       "<div>\n",
       "<style scoped>\n",
       "    .dataframe tbody tr th:only-of-type {\n",
       "        vertical-align: middle;\n",
       "    }\n",
       "\n",
       "    .dataframe tbody tr th {\n",
       "        vertical-align: top;\n",
       "    }\n",
       "\n",
       "    .dataframe thead th {\n",
       "        text-align: right;\n",
       "    }\n",
       "</style>\n",
       "<table border=\"1\" class=\"dataframe\">\n",
       "  <thead>\n",
       "    <tr style=\"text-align: right;\">\n",
       "      <th></th>\n",
       "      <th>Score</th>\n",
       "      <th>Grade</th>\n",
       "      <th>Full-time</th>\n",
       "      <th>Gender</th>\n",
       "    </tr>\n",
       "    <tr>\n",
       "      <th>Name</th>\n",
       "      <th></th>\n",
       "      <th></th>\n",
       "      <th></th>\n",
       "      <th></th>\n",
       "    </tr>\n",
       "  </thead>\n",
       "  <tbody>\n",
       "    <tr>\n",
       "      <th>Joe</th>\n",
       "      <td>100</td>\n",
       "      <td>A</td>\n",
       "      <td>True</td>\n",
       "      <td>M</td>\n",
       "    </tr>\n",
       "    <tr>\n",
       "      <th>Jane</th>\n",
       "      <td>98</td>\n",
       "      <td>A</td>\n",
       "      <td>False</td>\n",
       "      <td>F</td>\n",
       "    </tr>\n",
       "    <tr>\n",
       "      <th>Jack</th>\n",
       "      <td>67</td>\n",
       "      <td>C</td>\n",
       "      <td>NaN</td>\n",
       "      <td>M</td>\n",
       "    </tr>\n",
       "    <tr>\n",
       "      <th>Jenny</th>\n",
       "      <td>80</td>\n",
       "      <td>B</td>\n",
       "      <td>True</td>\n",
       "      <td>F</td>\n",
       "    </tr>\n",
       "    <tr>\n",
       "      <th>Jerry</th>\n",
       "      <td>89</td>\n",
       "      <td>A-</td>\n",
       "      <td>False</td>\n",
       "      <td>M</td>\n",
       "    </tr>\n",
       "    <tr>\n",
       "      <th>June</th>\n",
       "      <td>93</td>\n",
       "      <td>A</td>\n",
       "      <td>True</td>\n",
       "      <td>F</td>\n",
       "    </tr>\n",
       "    <tr>\n",
       "      <th>July</th>\n",
       "      <td>84</td>\n",
       "      <td>B+</td>\n",
       "      <td>True</td>\n",
       "      <td>F</td>\n",
       "    </tr>\n",
       "  </tbody>\n",
       "</table>\n",
       "</div>"
      ],
      "text/plain": [
       "       Score Grade Full-time Gender\n",
       "Name                               \n",
       "Joe      100     A      True      M\n",
       "Jane      98     A     False      F\n",
       "Jack      67     C       NaN      M\n",
       "Jenny     80     B      True      F\n",
       "Jerry     89    A-     False      M\n",
       "June      93     A      True      F\n",
       "July      84    B+      True      F"
      ]
     },
     "execution_count": 28,
     "metadata": {},
     "output_type": "execute_result"
    }
   ],
   "source": [
    "df.drop(columns=[\"State\"], inplace=True)\n",
    "df"
   ]
  },
  {
   "cell_type": "markdown",
   "metadata": {},
   "source": [
    "### 5. Import Data"
   ]
  },
  {
   "cell_type": "markdown",
   "metadata": {},
   "source": [
    "#### CMS Hospital Readmission Reduction Program Dataset 2019\n",
    "This dataset can be analyzed in several different ways depending your interest (unit of analysis):\n",
    "1. State\n",
    "2. Hospital\n",
    "3. Quality measure\n",
    "</br>\n",
    "heart attack (AMI) </br>\n",
    "heart failure (HF)</br> \n",
    "pneumonia</br>\n",
    "chronic obstructive pulmonary disease (COPD)</br>\n",
    "hip/knee replacement (THA/TKA)</br>\n",
    "coronary artery bypass graft surgery (CABG) \n",
    "\n"
   ]
  },
  {
   "cell_type": "code",
   "execution_count": null,
   "metadata": {},
   "outputs": [
    {
     "data": {
      "text/html": [
       "<div>\n",
       "<style scoped>\n",
       "    .dataframe tbody tr th:only-of-type {\n",
       "        vertical-align: middle;\n",
       "    }\n",
       "\n",
       "    .dataframe tbody tr th {\n",
       "        vertical-align: top;\n",
       "    }\n",
       "\n",
       "    .dataframe thead th {\n",
       "        text-align: right;\n",
       "    }\n",
       "</style>\n",
       "<table border=\"1\" class=\"dataframe\">\n",
       "  <thead>\n",
       "    <tr style=\"text-align: right;\">\n",
       "      <th></th>\n",
       "      <th>Hospital Name</th>\n",
       "      <th>Provider ID</th>\n",
       "      <th>State</th>\n",
       "      <th>Measure Name</th>\n",
       "      <th>Number of Discharges</th>\n",
       "      <th>Footnote</th>\n",
       "      <th>Excess Readmission Ratio</th>\n",
       "      <th>Predicted Readmission Rate</th>\n",
       "      <th>Expected Readmission Rate</th>\n",
       "      <th>Number of Readmissions</th>\n",
       "      <th>Start Date</th>\n",
       "      <th>End Date</th>\n",
       "    </tr>\n",
       "  </thead>\n",
       "  <tbody>\n",
       "    <tr>\n",
       "      <th>0</th>\n",
       "      <td>BYRD REGIONAL HOSPITAL</td>\n",
       "      <td>190164</td>\n",
       "      <td>LA</td>\n",
       "      <td>READM_30_AMI_HRRP</td>\n",
       "      <td>Not Available</td>\n",
       "      <td>1 - The number of cases/patients is too few to...</td>\n",
       "      <td>Not Available</td>\n",
       "      <td>Not Available</td>\n",
       "      <td>Not Available</td>\n",
       "      <td>Not Available</td>\n",
       "      <td>07/01/2014</td>\n",
       "      <td>06/30/2017</td>\n",
       "    </tr>\n",
       "    <tr>\n",
       "      <th>1</th>\n",
       "      <td>BYRD REGIONAL HOSPITAL</td>\n",
       "      <td>190164</td>\n",
       "      <td>LA</td>\n",
       "      <td>READM_30_CABG_HRRP</td>\n",
       "      <td>Not Available</td>\n",
       "      <td>1 - The number of cases/patients is too few to...</td>\n",
       "      <td>Not Available</td>\n",
       "      <td>Not Available</td>\n",
       "      <td>Not Available</td>\n",
       "      <td>Not Available</td>\n",
       "      <td>07/01/2014</td>\n",
       "      <td>06/30/2017</td>\n",
       "    </tr>\n",
       "    <tr>\n",
       "      <th>2</th>\n",
       "      <td>BYRD REGIONAL HOSPITAL</td>\n",
       "      <td>190164</td>\n",
       "      <td>LA</td>\n",
       "      <td>READM_30_COPD_HRRP</td>\n",
       "      <td>217</td>\n",
       "      <td>NaN</td>\n",
       "      <td>1.0195</td>\n",
       "      <td>20.9722</td>\n",
       "      <td>20.5712</td>\n",
       "      <td>47</td>\n",
       "      <td>07/01/2014</td>\n",
       "      <td>06/30/2017</td>\n",
       "    </tr>\n",
       "  </tbody>\n",
       "</table>\n",
       "</div>"
      ],
      "text/plain": [
       "            Hospital Name  Provider ID State        Measure Name  \\\n",
       "0  BYRD REGIONAL HOSPITAL       190164    LA   READM_30_AMI_HRRP   \n",
       "1  BYRD REGIONAL HOSPITAL       190164    LA  READM_30_CABG_HRRP   \n",
       "2  BYRD REGIONAL HOSPITAL       190164    LA  READM_30_COPD_HRRP   \n",
       "\n",
       "  Number of Discharges                                           Footnote  \\\n",
       "0        Not Available  1 - The number of cases/patients is too few to...   \n",
       "1        Not Available  1 - The number of cases/patients is too few to...   \n",
       "2                  217                                                NaN   \n",
       "\n",
       "  Excess Readmission Ratio Predicted Readmission Rate  \\\n",
       "0            Not Available              Not Available   \n",
       "1            Not Available              Not Available   \n",
       "2                   1.0195                    20.9722   \n",
       "\n",
       "  Expected Readmission Rate Number of Readmissions  Start Date    End Date  \n",
       "0             Not Available          Not Available  07/01/2014  06/30/2017  \n",
       "1             Not Available          Not Available  07/01/2014  06/30/2017  \n",
       "2                   20.5712                     47  07/01/2014  06/30/2017  "
      ]
     },
     "execution_count": 29,
     "metadata": {},
     "output_type": "execute_result"
    }
   ],
   "source": [
    "df = pd.read_csv(\"Hospital_Readmissions_Reduction_Program.csv\")\n",
    "df.head(3)"
   ]
  },
  {
   "cell_type": "code",
   "execution_count": null,
   "metadata": {},
   "outputs": [
    {
     "name": "stdout",
     "output_type": "stream",
     "text": [
      "<class 'pandas.core.frame.DataFrame'>\n",
      "RangeIndex: 19674 entries, 0 to 19673\n",
      "Data columns (total 12 columns):\n",
      "Hospital Name                 19674 non-null object\n",
      "Provider ID                   19674 non-null int64\n",
      "State                         19674 non-null object\n",
      "Measure Name                  19674 non-null object\n",
      "Number of Discharges          19674 non-null object\n",
      "Footnote                      8157 non-null object\n",
      "Excess Readmission Ratio      19674 non-null object\n",
      "Predicted Readmission Rate    19674 non-null object\n",
      "Expected Readmission Rate     19674 non-null object\n",
      "Number of Readmissions        19674 non-null object\n",
      "Start Date                    19674 non-null object\n",
      "End Date                      19674 non-null object\n",
      "dtypes: int64(1), object(11)\n",
      "memory usage: 1.8+ MB\n"
     ]
    }
   ],
   "source": [
    "df.info()"
   ]
  },
  {
   "cell_type": "code",
   "execution_count": null,
   "metadata": {},
   "outputs": [
    {
     "data": {
      "text/html": [
       "<div>\n",
       "<style scoped>\n",
       "    .dataframe tbody tr th:only-of-type {\n",
       "        vertical-align: middle;\n",
       "    }\n",
       "\n",
       "    .dataframe tbody tr th {\n",
       "        vertical-align: top;\n",
       "    }\n",
       "\n",
       "    .dataframe thead th {\n",
       "        text-align: right;\n",
       "    }\n",
       "</style>\n",
       "<table border=\"1\" class=\"dataframe\">\n",
       "  <thead>\n",
       "    <tr style=\"text-align: right;\">\n",
       "      <th></th>\n",
       "      <th>Hospital Name</th>\n",
       "      <th>State</th>\n",
       "      <th>Measure Name</th>\n",
       "      <th>Excess Readmission Ratio</th>\n",
       "    </tr>\n",
       "  </thead>\n",
       "  <tbody>\n",
       "    <tr>\n",
       "      <th>0</th>\n",
       "      <td>BYRD REGIONAL HOSPITAL</td>\n",
       "      <td>LA</td>\n",
       "      <td>READM_30_AMI_HRRP</td>\n",
       "      <td>Not Available</td>\n",
       "    </tr>\n",
       "    <tr>\n",
       "      <th>1</th>\n",
       "      <td>BYRD REGIONAL HOSPITAL</td>\n",
       "      <td>LA</td>\n",
       "      <td>READM_30_CABG_HRRP</td>\n",
       "      <td>Not Available</td>\n",
       "    </tr>\n",
       "    <tr>\n",
       "      <th>2</th>\n",
       "      <td>BYRD REGIONAL HOSPITAL</td>\n",
       "      <td>LA</td>\n",
       "      <td>READM_30_COPD_HRRP</td>\n",
       "      <td>1.0195</td>\n",
       "    </tr>\n",
       "    <tr>\n",
       "      <th>3</th>\n",
       "      <td>BYRD REGIONAL HOSPITAL</td>\n",
       "      <td>LA</td>\n",
       "      <td>READM_30_HF_HRRP</td>\n",
       "      <td>1.0773</td>\n",
       "    </tr>\n",
       "    <tr>\n",
       "      <th>4</th>\n",
       "      <td>BYRD REGIONAL HOSPITAL</td>\n",
       "      <td>LA</td>\n",
       "      <td>READM_30_HIP_KNEE_HRRP</td>\n",
       "      <td>Not Available</td>\n",
       "    </tr>\n",
       "  </tbody>\n",
       "</table>\n",
       "</div>"
      ],
      "text/plain": [
       "            Hospital Name State            Measure Name  \\\n",
       "0  BYRD REGIONAL HOSPITAL    LA       READM_30_AMI_HRRP   \n",
       "1  BYRD REGIONAL HOSPITAL    LA      READM_30_CABG_HRRP   \n",
       "2  BYRD REGIONAL HOSPITAL    LA      READM_30_COPD_HRRP   \n",
       "3  BYRD REGIONAL HOSPITAL    LA        READM_30_HF_HRRP   \n",
       "4  BYRD REGIONAL HOSPITAL    LA  READM_30_HIP_KNEE_HRRP   \n",
       "\n",
       "  Excess Readmission Ratio  \n",
       "0            Not Available  \n",
       "1            Not Available  \n",
       "2                   1.0195  \n",
       "3                   1.0773  \n",
       "4            Not Available  "
      ]
     },
     "execution_count": 31,
     "metadata": {},
     "output_type": "execute_result"
    }
   ],
   "source": [
    "df = df[[\"Hospital Name\", \"State\", \"Measure Name\", \"Excess Readmission Ratio\"]]\n",
    "df.head()"
   ]
  },
  {
   "cell_type": "code",
   "execution_count": null,
   "metadata": {},
   "outputs": [
    {
     "data": {
      "text/html": [
       "<div>\n",
       "<style scoped>\n",
       "    .dataframe tbody tr th:only-of-type {\n",
       "        vertical-align: middle;\n",
       "    }\n",
       "\n",
       "    .dataframe tbody tr th {\n",
       "        vertical-align: top;\n",
       "    }\n",
       "\n",
       "    .dataframe thead th {\n",
       "        text-align: right;\n",
       "    }\n",
       "</style>\n",
       "<table border=\"1\" class=\"dataframe\">\n",
       "  <thead>\n",
       "    <tr style=\"text-align: right;\">\n",
       "      <th></th>\n",
       "      <th>Hospital</th>\n",
       "      <th>State</th>\n",
       "      <th>Measure</th>\n",
       "      <th>ERR</th>\n",
       "    </tr>\n",
       "  </thead>\n",
       "  <tbody>\n",
       "    <tr>\n",
       "      <th>0</th>\n",
       "      <td>BYRD REGIONAL HOSPITAL</td>\n",
       "      <td>LA</td>\n",
       "      <td>READM_30_AMI_HRRP</td>\n",
       "      <td>Not Available</td>\n",
       "    </tr>\n",
       "    <tr>\n",
       "      <th>1</th>\n",
       "      <td>BYRD REGIONAL HOSPITAL</td>\n",
       "      <td>LA</td>\n",
       "      <td>READM_30_CABG_HRRP</td>\n",
       "      <td>Not Available</td>\n",
       "    </tr>\n",
       "    <tr>\n",
       "      <th>2</th>\n",
       "      <td>BYRD REGIONAL HOSPITAL</td>\n",
       "      <td>LA</td>\n",
       "      <td>READM_30_COPD_HRRP</td>\n",
       "      <td>1.0195</td>\n",
       "    </tr>\n",
       "    <tr>\n",
       "      <th>3</th>\n",
       "      <td>BYRD REGIONAL HOSPITAL</td>\n",
       "      <td>LA</td>\n",
       "      <td>READM_30_HF_HRRP</td>\n",
       "      <td>1.0773</td>\n",
       "    </tr>\n",
       "    <tr>\n",
       "      <th>4</th>\n",
       "      <td>BYRD REGIONAL HOSPITAL</td>\n",
       "      <td>LA</td>\n",
       "      <td>READM_30_HIP_KNEE_HRRP</td>\n",
       "      <td>Not Available</td>\n",
       "    </tr>\n",
       "  </tbody>\n",
       "</table>\n",
       "</div>"
      ],
      "text/plain": [
       "                 Hospital State                 Measure            ERR\n",
       "0  BYRD REGIONAL HOSPITAL    LA       READM_30_AMI_HRRP  Not Available\n",
       "1  BYRD REGIONAL HOSPITAL    LA      READM_30_CABG_HRRP  Not Available\n",
       "2  BYRD REGIONAL HOSPITAL    LA      READM_30_COPD_HRRP         1.0195\n",
       "3  BYRD REGIONAL HOSPITAL    LA        READM_30_HF_HRRP         1.0773\n",
       "4  BYRD REGIONAL HOSPITAL    LA  READM_30_HIP_KNEE_HRRP  Not Available"
      ]
     },
     "execution_count": 32,
     "metadata": {},
     "output_type": "execute_result"
    }
   ],
   "source": [
    "col_names = {\n",
    "    \"Hospital Name\": \"Hospital\",\n",
    "    \"Measure Name\": \"Measure\",\n",
    "    \"Excess Readmission Ratio\":\"ERR\"\n",
    "}\n",
    "df.rename(columns = col_names, inplace=True)\n",
    "df.head()"
   ]
  },
  {
   "cell_type": "code",
   "execution_count": null,
   "metadata": {},
   "outputs": [
    {
     "data": {
      "text/html": [
       "<div>\n",
       "<style scoped>\n",
       "    .dataframe tbody tr th:only-of-type {\n",
       "        vertical-align: middle;\n",
       "    }\n",
       "\n",
       "    .dataframe tbody tr th {\n",
       "        vertical-align: top;\n",
       "    }\n",
       "\n",
       "    .dataframe thead th {\n",
       "        text-align: right;\n",
       "    }\n",
       "</style>\n",
       "<table border=\"1\" class=\"dataframe\">\n",
       "  <thead>\n",
       "    <tr style=\"text-align: right;\">\n",
       "      <th></th>\n",
       "      <th>Hospital</th>\n",
       "      <th>State</th>\n",
       "      <th>Measure</th>\n",
       "      <th>ERR</th>\n",
       "    </tr>\n",
       "  </thead>\n",
       "  <tbody>\n",
       "    <tr>\n",
       "      <th>0</th>\n",
       "      <td>BYRD REGIONAL HOSPITAL</td>\n",
       "      <td>LA</td>\n",
       "      <td>READM_30_AMI_HRRP</td>\n",
       "      <td>Not Available</td>\n",
       "    </tr>\n",
       "    <tr>\n",
       "      <th>1</th>\n",
       "      <td>BYRD REGIONAL HOSPITAL</td>\n",
       "      <td>LA</td>\n",
       "      <td>READM_30_CABG_HRRP</td>\n",
       "      <td>Not Available</td>\n",
       "    </tr>\n",
       "    <tr>\n",
       "      <th>4</th>\n",
       "      <td>BYRD REGIONAL HOSPITAL</td>\n",
       "      <td>LA</td>\n",
       "      <td>READM_30_HIP_KNEE_HRRP</td>\n",
       "      <td>Not Available</td>\n",
       "    </tr>\n",
       "    <tr>\n",
       "      <th>6</th>\n",
       "      <td>GRAND ITASCA CLINIC AND HOSPITAL</td>\n",
       "      <td>MN</td>\n",
       "      <td>READM_30_AMI_HRRP</td>\n",
       "      <td>Not Available</td>\n",
       "    </tr>\n",
       "    <tr>\n",
       "      <th>7</th>\n",
       "      <td>GRAND ITASCA CLINIC AND HOSPITAL</td>\n",
       "      <td>MN</td>\n",
       "      <td>READM_30_CABG_HRRP</td>\n",
       "      <td>Not Available</td>\n",
       "    </tr>\n",
       "    <tr>\n",
       "      <th>12</th>\n",
       "      <td>HARMON HOSPITAL</td>\n",
       "      <td>NV</td>\n",
       "      <td>READM_30_AMI_HRRP</td>\n",
       "      <td>Not Available</td>\n",
       "    </tr>\n",
       "    <tr>\n",
       "      <th>13</th>\n",
       "      <td>HARMON HOSPITAL</td>\n",
       "      <td>NV</td>\n",
       "      <td>READM_30_CABG_HRRP</td>\n",
       "      <td>Not Available</td>\n",
       "    </tr>\n",
       "    <tr>\n",
       "      <th>14</th>\n",
       "      <td>HARMON HOSPITAL</td>\n",
       "      <td>NV</td>\n",
       "      <td>READM_30_COPD_HRRP</td>\n",
       "      <td>Not Available</td>\n",
       "    </tr>\n",
       "    <tr>\n",
       "      <th>15</th>\n",
       "      <td>HARMON HOSPITAL</td>\n",
       "      <td>NV</td>\n",
       "      <td>READM_30_HF_HRRP</td>\n",
       "      <td>Not Available</td>\n",
       "    </tr>\n",
       "    <tr>\n",
       "      <th>16</th>\n",
       "      <td>HARMON HOSPITAL</td>\n",
       "      <td>NV</td>\n",
       "      <td>READM_30_HIP_KNEE_HRRP</td>\n",
       "      <td>Not Available</td>\n",
       "    </tr>\n",
       "    <tr>\n",
       "      <th>17</th>\n",
       "      <td>HARMON HOSPITAL</td>\n",
       "      <td>NV</td>\n",
       "      <td>READM_30_PN_HRRP</td>\n",
       "      <td>Not Available</td>\n",
       "    </tr>\n",
       "    <tr>\n",
       "      <th>19</th>\n",
       "      <td>CHESHIRE MEDICAL CENTER</td>\n",
       "      <td>NH</td>\n",
       "      <td>READM_30_CABG_HRRP</td>\n",
       "      <td>Not Available</td>\n",
       "    </tr>\n",
       "    <tr>\n",
       "      <th>30</th>\n",
       "      <td>HILL REGIONAL HOSPITAL</td>\n",
       "      <td>TX</td>\n",
       "      <td>READM_30_AMI_HRRP</td>\n",
       "      <td>Not Available</td>\n",
       "    </tr>\n",
       "    <tr>\n",
       "      <th>31</th>\n",
       "      <td>HILL REGIONAL HOSPITAL</td>\n",
       "      <td>TX</td>\n",
       "      <td>READM_30_CABG_HRRP</td>\n",
       "      <td>Not Available</td>\n",
       "    </tr>\n",
       "    <tr>\n",
       "      <th>34</th>\n",
       "      <td>HILL REGIONAL HOSPITAL</td>\n",
       "      <td>TX</td>\n",
       "      <td>READM_30_HIP_KNEE_HRRP</td>\n",
       "      <td>Not Available</td>\n",
       "    </tr>\n",
       "    <tr>\n",
       "      <th>40</th>\n",
       "      <td>BANNER HEART HOSPITAL</td>\n",
       "      <td>AZ</td>\n",
       "      <td>READM_30_HIP_KNEE_HRRP</td>\n",
       "      <td>Not Available</td>\n",
       "    </tr>\n",
       "    <tr>\n",
       "      <th>55</th>\n",
       "      <td>MATAGORDA REGIONAL MEDICAL CENTER</td>\n",
       "      <td>TX</td>\n",
       "      <td>READM_30_CABG_HRRP</td>\n",
       "      <td>Not Available</td>\n",
       "    </tr>\n",
       "    <tr>\n",
       "      <th>61</th>\n",
       "      <td>LAKE WALES MEDICAL CENTER</td>\n",
       "      <td>FL</td>\n",
       "      <td>READM_30_CABG_HRRP</td>\n",
       "      <td>Not Available</td>\n",
       "    </tr>\n",
       "    <tr>\n",
       "      <th>64</th>\n",
       "      <td>LAKE WALES MEDICAL CENTER</td>\n",
       "      <td>FL</td>\n",
       "      <td>READM_30_HIP_KNEE_HRRP</td>\n",
       "      <td>Not Available</td>\n",
       "    </tr>\n",
       "    <tr>\n",
       "      <th>67</th>\n",
       "      <td>WOOSTER COMMUNITY HOSPITAL</td>\n",
       "      <td>OH</td>\n",
       "      <td>READM_30_CABG_HRRP</td>\n",
       "      <td>Not Available</td>\n",
       "    </tr>\n",
       "    <tr>\n",
       "      <th>78</th>\n",
       "      <td>PARKVIEW NOBLE HOSPITAL</td>\n",
       "      <td>IN</td>\n",
       "      <td>READM_30_AMI_HRRP</td>\n",
       "      <td>Not Available</td>\n",
       "    </tr>\n",
       "    <tr>\n",
       "      <th>79</th>\n",
       "      <td>PARKVIEW NOBLE HOSPITAL</td>\n",
       "      <td>IN</td>\n",
       "      <td>READM_30_CABG_HRRP</td>\n",
       "      <td>Not Available</td>\n",
       "    </tr>\n",
       "    <tr>\n",
       "      <th>85</th>\n",
       "      <td>NORTHERN DUTCHESS HOSPITAL</td>\n",
       "      <td>NY</td>\n",
       "      <td>READM_30_CABG_HRRP</td>\n",
       "      <td>Not Available</td>\n",
       "    </tr>\n",
       "    <tr>\n",
       "      <th>90</th>\n",
       "      <td>LUTHERAN HOSPITAL</td>\n",
       "      <td>OH</td>\n",
       "      <td>READM_30_AMI_HRRP</td>\n",
       "      <td>Not Available</td>\n",
       "    </tr>\n",
       "    <tr>\n",
       "      <th>91</th>\n",
       "      <td>LUTHERAN HOSPITAL</td>\n",
       "      <td>OH</td>\n",
       "      <td>READM_30_CABG_HRRP</td>\n",
       "      <td>Not Available</td>\n",
       "    </tr>\n",
       "    <tr>\n",
       "      <th>102</th>\n",
       "      <td>TYLER MEMORIAL HOSPITAL</td>\n",
       "      <td>PA</td>\n",
       "      <td>READM_30_AMI_HRRP</td>\n",
       "      <td>Not Available</td>\n",
       "    </tr>\n",
       "    <tr>\n",
       "      <th>103</th>\n",
       "      <td>TYLER MEMORIAL HOSPITAL</td>\n",
       "      <td>PA</td>\n",
       "      <td>READM_30_CABG_HRRP</td>\n",
       "      <td>Not Available</td>\n",
       "    </tr>\n",
       "    <tr>\n",
       "      <th>106</th>\n",
       "      <td>TYLER MEMORIAL HOSPITAL</td>\n",
       "      <td>PA</td>\n",
       "      <td>READM_30_HIP_KNEE_HRRP</td>\n",
       "      <td>Not Available</td>\n",
       "    </tr>\n",
       "    <tr>\n",
       "      <th>109</th>\n",
       "      <td>ORO VALLEY HOSPITAL</td>\n",
       "      <td>AZ</td>\n",
       "      <td>READM_30_CABG_HRRP</td>\n",
       "      <td>Not Available</td>\n",
       "    </tr>\n",
       "    <tr>\n",
       "      <th>115</th>\n",
       "      <td>WEST JEFFERSON MEDICAL CENTER</td>\n",
       "      <td>LA</td>\n",
       "      <td>READM_30_CABG_HRRP</td>\n",
       "      <td>Not Available</td>\n",
       "    </tr>\n",
       "    <tr>\n",
       "      <th>...</th>\n",
       "      <td>...</td>\n",
       "      <td>...</td>\n",
       "      <td>...</td>\n",
       "      <td>...</td>\n",
       "    </tr>\n",
       "    <tr>\n",
       "      <th>19500</th>\n",
       "      <td>KAISER FOUNDATION HOSPITAL - BALDWIN PARK</td>\n",
       "      <td>CA</td>\n",
       "      <td>READM_30_PN_HRRP</td>\n",
       "      <td>Not Available</td>\n",
       "    </tr>\n",
       "    <tr>\n",
       "      <th>19502</th>\n",
       "      <td>HOLY CROSS HOSPITAL</td>\n",
       "      <td>MD</td>\n",
       "      <td>READM_30_CABG_HRRP</td>\n",
       "      <td>Not Available</td>\n",
       "    </tr>\n",
       "    <tr>\n",
       "      <th>19519</th>\n",
       "      <td>LAGUNA HONDA HOSPITAL &amp; REHABILITATION CENTER</td>\n",
       "      <td>CA</td>\n",
       "      <td>READM_30_AMI_HRRP</td>\n",
       "      <td>Not Available</td>\n",
       "    </tr>\n",
       "    <tr>\n",
       "      <th>19520</th>\n",
       "      <td>LAGUNA HONDA HOSPITAL &amp; REHABILITATION CENTER</td>\n",
       "      <td>CA</td>\n",
       "      <td>READM_30_CABG_HRRP</td>\n",
       "      <td>Not Available</td>\n",
       "    </tr>\n",
       "    <tr>\n",
       "      <th>19521</th>\n",
       "      <td>LAGUNA HONDA HOSPITAL &amp; REHABILITATION CENTER</td>\n",
       "      <td>CA</td>\n",
       "      <td>READM_30_COPD_HRRP</td>\n",
       "      <td>Not Available</td>\n",
       "    </tr>\n",
       "    <tr>\n",
       "      <th>19522</th>\n",
       "      <td>LAGUNA HONDA HOSPITAL &amp; REHABILITATION CENTER</td>\n",
       "      <td>CA</td>\n",
       "      <td>READM_30_HF_HRRP</td>\n",
       "      <td>Not Available</td>\n",
       "    </tr>\n",
       "    <tr>\n",
       "      <th>19523</th>\n",
       "      <td>LAGUNA HONDA HOSPITAL &amp; REHABILITATION CENTER</td>\n",
       "      <td>CA</td>\n",
       "      <td>READM_30_HIP_KNEE_HRRP</td>\n",
       "      <td>Not Available</td>\n",
       "    </tr>\n",
       "    <tr>\n",
       "      <th>19531</th>\n",
       "      <td>WELLSPAN EPHRATA COMMUNITY HOSPITAL</td>\n",
       "      <td>PA</td>\n",
       "      <td>READM_30_CABG_HRRP</td>\n",
       "      <td>Not Available</td>\n",
       "    </tr>\n",
       "    <tr>\n",
       "      <th>19536</th>\n",
       "      <td>BAYFRONT HEALTH PUNTA GORDA</td>\n",
       "      <td>FL</td>\n",
       "      <td>READM_30_AMI_HRRP</td>\n",
       "      <td>Not Available</td>\n",
       "    </tr>\n",
       "    <tr>\n",
       "      <th>19537</th>\n",
       "      <td>BAYFRONT HEALTH PUNTA GORDA</td>\n",
       "      <td>FL</td>\n",
       "      <td>READM_30_CABG_HRRP</td>\n",
       "      <td>Not Available</td>\n",
       "    </tr>\n",
       "    <tr>\n",
       "      <th>19542</th>\n",
       "      <td>LINCOLN MEDICAL CENTER</td>\n",
       "      <td>TN</td>\n",
       "      <td>READM_30_AMI_HRRP</td>\n",
       "      <td>Not Available</td>\n",
       "    </tr>\n",
       "    <tr>\n",
       "      <th>19543</th>\n",
       "      <td>LINCOLN MEDICAL CENTER</td>\n",
       "      <td>TN</td>\n",
       "      <td>READM_30_CABG_HRRP</td>\n",
       "      <td>Not Available</td>\n",
       "    </tr>\n",
       "    <tr>\n",
       "      <th>19560</th>\n",
       "      <td>JEWISH HOSPITAL - SHELBYVILLE</td>\n",
       "      <td>KY</td>\n",
       "      <td>READM_30_AMI_HRRP</td>\n",
       "      <td>Not Available</td>\n",
       "    </tr>\n",
       "    <tr>\n",
       "      <th>19561</th>\n",
       "      <td>JEWISH HOSPITAL - SHELBYVILLE</td>\n",
       "      <td>KY</td>\n",
       "      <td>READM_30_CABG_HRRP</td>\n",
       "      <td>Not Available</td>\n",
       "    </tr>\n",
       "    <tr>\n",
       "      <th>19573</th>\n",
       "      <td>NORTHERN NEVADA MEDICAL CENTER</td>\n",
       "      <td>NV</td>\n",
       "      <td>READM_30_CABG_HRRP</td>\n",
       "      <td>Not Available</td>\n",
       "    </tr>\n",
       "    <tr>\n",
       "      <th>19585</th>\n",
       "      <td>PALMS OF PASADENA HOSPITAL</td>\n",
       "      <td>FL</td>\n",
       "      <td>READM_30_CABG_HRRP</td>\n",
       "      <td>Not Available</td>\n",
       "    </tr>\n",
       "    <tr>\n",
       "      <th>19591</th>\n",
       "      <td>CLARK MEMORIAL HOSPITAL</td>\n",
       "      <td>IN</td>\n",
       "      <td>READM_30_CABG_HRRP</td>\n",
       "      <td>Not Available</td>\n",
       "    </tr>\n",
       "    <tr>\n",
       "      <th>19608</th>\n",
       "      <td>GLENBEIGH HEALTH SOURCES</td>\n",
       "      <td>OH</td>\n",
       "      <td>READM_30_AMI_HRRP</td>\n",
       "      <td>Not Available</td>\n",
       "    </tr>\n",
       "    <tr>\n",
       "      <th>19609</th>\n",
       "      <td>GLENBEIGH HEALTH SOURCES</td>\n",
       "      <td>OH</td>\n",
       "      <td>READM_30_CABG_HRRP</td>\n",
       "      <td>Not Available</td>\n",
       "    </tr>\n",
       "    <tr>\n",
       "      <th>19610</th>\n",
       "      <td>GLENBEIGH HEALTH SOURCES</td>\n",
       "      <td>OH</td>\n",
       "      <td>READM_30_COPD_HRRP</td>\n",
       "      <td>Not Available</td>\n",
       "    </tr>\n",
       "    <tr>\n",
       "      <th>19611</th>\n",
       "      <td>GLENBEIGH HEALTH SOURCES</td>\n",
       "      <td>OH</td>\n",
       "      <td>READM_30_HF_HRRP</td>\n",
       "      <td>Not Available</td>\n",
       "    </tr>\n",
       "    <tr>\n",
       "      <th>19612</th>\n",
       "      <td>GLENBEIGH HEALTH SOURCES</td>\n",
       "      <td>OH</td>\n",
       "      <td>READM_30_HIP_KNEE_HRRP</td>\n",
       "      <td>Not Available</td>\n",
       "    </tr>\n",
       "    <tr>\n",
       "      <th>19613</th>\n",
       "      <td>GLENBEIGH HEALTH SOURCES</td>\n",
       "      <td>OH</td>\n",
       "      <td>READM_30_PN_HRRP</td>\n",
       "      <td>Not Available</td>\n",
       "    </tr>\n",
       "    <tr>\n",
       "      <th>19614</th>\n",
       "      <td>CITIZENS MEDICAL CENTER</td>\n",
       "      <td>LA</td>\n",
       "      <td>READM_30_AMI_HRRP</td>\n",
       "      <td>Not Available</td>\n",
       "    </tr>\n",
       "    <tr>\n",
       "      <th>19615</th>\n",
       "      <td>CITIZENS MEDICAL CENTER</td>\n",
       "      <td>LA</td>\n",
       "      <td>READM_30_CABG_HRRP</td>\n",
       "      <td>Not Available</td>\n",
       "    </tr>\n",
       "    <tr>\n",
       "      <th>19618</th>\n",
       "      <td>CITIZENS MEDICAL CENTER</td>\n",
       "      <td>LA</td>\n",
       "      <td>READM_30_HIP_KNEE_HRRP</td>\n",
       "      <td>Not Available</td>\n",
       "    </tr>\n",
       "    <tr>\n",
       "      <th>19627</th>\n",
       "      <td>PROVIDENCE MEDFORD MEDICAL CENTER</td>\n",
       "      <td>OR</td>\n",
       "      <td>READM_30_CABG_HRRP</td>\n",
       "      <td>Not Available</td>\n",
       "    </tr>\n",
       "    <tr>\n",
       "      <th>19633</th>\n",
       "      <td>CARILION NEW RIVER VALLEY MEDICAL CENTER</td>\n",
       "      <td>VA</td>\n",
       "      <td>READM_30_CABG_HRRP</td>\n",
       "      <td>Not Available</td>\n",
       "    </tr>\n",
       "    <tr>\n",
       "      <th>19663</th>\n",
       "      <td>LAREDO MEDICAL CENTER</td>\n",
       "      <td>TX</td>\n",
       "      <td>READM_30_CABG_HRRP</td>\n",
       "      <td>Not Available</td>\n",
       "    </tr>\n",
       "    <tr>\n",
       "      <th>19669</th>\n",
       "      <td>FINLEY HOSPITAL</td>\n",
       "      <td>IA</td>\n",
       "      <td>READM_30_CABG_HRRP</td>\n",
       "      <td>Not Available</td>\n",
       "    </tr>\n",
       "  </tbody>\n",
       "</table>\n",
       "<p>5394 rows × 4 columns</p>\n",
       "</div>"
      ],
      "text/plain": [
       "                                            Hospital State  \\\n",
       "0                             BYRD REGIONAL HOSPITAL    LA   \n",
       "1                             BYRD REGIONAL HOSPITAL    LA   \n",
       "4                             BYRD REGIONAL HOSPITAL    LA   \n",
       "6                   GRAND ITASCA CLINIC AND HOSPITAL    MN   \n",
       "7                   GRAND ITASCA CLINIC AND HOSPITAL    MN   \n",
       "12                                   HARMON HOSPITAL    NV   \n",
       "13                                   HARMON HOSPITAL    NV   \n",
       "14                                   HARMON HOSPITAL    NV   \n",
       "15                                   HARMON HOSPITAL    NV   \n",
       "16                                   HARMON HOSPITAL    NV   \n",
       "17                                   HARMON HOSPITAL    NV   \n",
       "19                           CHESHIRE MEDICAL CENTER    NH   \n",
       "30                            HILL REGIONAL HOSPITAL    TX   \n",
       "31                            HILL REGIONAL HOSPITAL    TX   \n",
       "34                            HILL REGIONAL HOSPITAL    TX   \n",
       "40                             BANNER HEART HOSPITAL    AZ   \n",
       "55                 MATAGORDA REGIONAL MEDICAL CENTER    TX   \n",
       "61                         LAKE WALES MEDICAL CENTER    FL   \n",
       "64                         LAKE WALES MEDICAL CENTER    FL   \n",
       "67                        WOOSTER COMMUNITY HOSPITAL    OH   \n",
       "78                           PARKVIEW NOBLE HOSPITAL    IN   \n",
       "79                           PARKVIEW NOBLE HOSPITAL    IN   \n",
       "85                        NORTHERN DUTCHESS HOSPITAL    NY   \n",
       "90                                 LUTHERAN HOSPITAL    OH   \n",
       "91                                 LUTHERAN HOSPITAL    OH   \n",
       "102                          TYLER MEMORIAL HOSPITAL    PA   \n",
       "103                          TYLER MEMORIAL HOSPITAL    PA   \n",
       "106                          TYLER MEMORIAL HOSPITAL    PA   \n",
       "109                              ORO VALLEY HOSPITAL    AZ   \n",
       "115                    WEST JEFFERSON MEDICAL CENTER    LA   \n",
       "...                                              ...   ...   \n",
       "19500      KAISER FOUNDATION HOSPITAL - BALDWIN PARK    CA   \n",
       "19502                            HOLY CROSS HOSPITAL    MD   \n",
       "19519  LAGUNA HONDA HOSPITAL & REHABILITATION CENTER    CA   \n",
       "19520  LAGUNA HONDA HOSPITAL & REHABILITATION CENTER    CA   \n",
       "19521  LAGUNA HONDA HOSPITAL & REHABILITATION CENTER    CA   \n",
       "19522  LAGUNA HONDA HOSPITAL & REHABILITATION CENTER    CA   \n",
       "19523  LAGUNA HONDA HOSPITAL & REHABILITATION CENTER    CA   \n",
       "19531            WELLSPAN EPHRATA COMMUNITY HOSPITAL    PA   \n",
       "19536                    BAYFRONT HEALTH PUNTA GORDA    FL   \n",
       "19537                    BAYFRONT HEALTH PUNTA GORDA    FL   \n",
       "19542                         LINCOLN MEDICAL CENTER    TN   \n",
       "19543                         LINCOLN MEDICAL CENTER    TN   \n",
       "19560                  JEWISH HOSPITAL - SHELBYVILLE    KY   \n",
       "19561                  JEWISH HOSPITAL - SHELBYVILLE    KY   \n",
       "19573                 NORTHERN NEVADA MEDICAL CENTER    NV   \n",
       "19585                     PALMS OF PASADENA HOSPITAL    FL   \n",
       "19591                        CLARK MEMORIAL HOSPITAL    IN   \n",
       "19608                       GLENBEIGH HEALTH SOURCES    OH   \n",
       "19609                       GLENBEIGH HEALTH SOURCES    OH   \n",
       "19610                       GLENBEIGH HEALTH SOURCES    OH   \n",
       "19611                       GLENBEIGH HEALTH SOURCES    OH   \n",
       "19612                       GLENBEIGH HEALTH SOURCES    OH   \n",
       "19613                       GLENBEIGH HEALTH SOURCES    OH   \n",
       "19614                        CITIZENS MEDICAL CENTER    LA   \n",
       "19615                        CITIZENS MEDICAL CENTER    LA   \n",
       "19618                        CITIZENS MEDICAL CENTER    LA   \n",
       "19627              PROVIDENCE MEDFORD MEDICAL CENTER    OR   \n",
       "19633       CARILION NEW RIVER VALLEY MEDICAL CENTER    VA   \n",
       "19663                          LAREDO MEDICAL CENTER    TX   \n",
       "19669                                FINLEY HOSPITAL    IA   \n",
       "\n",
       "                      Measure            ERR  \n",
       "0           READM_30_AMI_HRRP  Not Available  \n",
       "1          READM_30_CABG_HRRP  Not Available  \n",
       "4      READM_30_HIP_KNEE_HRRP  Not Available  \n",
       "6           READM_30_AMI_HRRP  Not Available  \n",
       "7          READM_30_CABG_HRRP  Not Available  \n",
       "12          READM_30_AMI_HRRP  Not Available  \n",
       "13         READM_30_CABG_HRRP  Not Available  \n",
       "14         READM_30_COPD_HRRP  Not Available  \n",
       "15           READM_30_HF_HRRP  Not Available  \n",
       "16     READM_30_HIP_KNEE_HRRP  Not Available  \n",
       "17           READM_30_PN_HRRP  Not Available  \n",
       "19         READM_30_CABG_HRRP  Not Available  \n",
       "30          READM_30_AMI_HRRP  Not Available  \n",
       "31         READM_30_CABG_HRRP  Not Available  \n",
       "34     READM_30_HIP_KNEE_HRRP  Not Available  \n",
       "40     READM_30_HIP_KNEE_HRRP  Not Available  \n",
       "55         READM_30_CABG_HRRP  Not Available  \n",
       "61         READM_30_CABG_HRRP  Not Available  \n",
       "64     READM_30_HIP_KNEE_HRRP  Not Available  \n",
       "67         READM_30_CABG_HRRP  Not Available  \n",
       "78          READM_30_AMI_HRRP  Not Available  \n",
       "79         READM_30_CABG_HRRP  Not Available  \n",
       "85         READM_30_CABG_HRRP  Not Available  \n",
       "90          READM_30_AMI_HRRP  Not Available  \n",
       "91         READM_30_CABG_HRRP  Not Available  \n",
       "102         READM_30_AMI_HRRP  Not Available  \n",
       "103        READM_30_CABG_HRRP  Not Available  \n",
       "106    READM_30_HIP_KNEE_HRRP  Not Available  \n",
       "109        READM_30_CABG_HRRP  Not Available  \n",
       "115        READM_30_CABG_HRRP  Not Available  \n",
       "...                       ...            ...  \n",
       "19500        READM_30_PN_HRRP  Not Available  \n",
       "19502      READM_30_CABG_HRRP  Not Available  \n",
       "19519       READM_30_AMI_HRRP  Not Available  \n",
       "19520      READM_30_CABG_HRRP  Not Available  \n",
       "19521      READM_30_COPD_HRRP  Not Available  \n",
       "19522        READM_30_HF_HRRP  Not Available  \n",
       "19523  READM_30_HIP_KNEE_HRRP  Not Available  \n",
       "19531      READM_30_CABG_HRRP  Not Available  \n",
       "19536       READM_30_AMI_HRRP  Not Available  \n",
       "19537      READM_30_CABG_HRRP  Not Available  \n",
       "19542       READM_30_AMI_HRRP  Not Available  \n",
       "19543      READM_30_CABG_HRRP  Not Available  \n",
       "19560       READM_30_AMI_HRRP  Not Available  \n",
       "19561      READM_30_CABG_HRRP  Not Available  \n",
       "19573      READM_30_CABG_HRRP  Not Available  \n",
       "19585      READM_30_CABG_HRRP  Not Available  \n",
       "19591      READM_30_CABG_HRRP  Not Available  \n",
       "19608       READM_30_AMI_HRRP  Not Available  \n",
       "19609      READM_30_CABG_HRRP  Not Available  \n",
       "19610      READM_30_COPD_HRRP  Not Available  \n",
       "19611        READM_30_HF_HRRP  Not Available  \n",
       "19612  READM_30_HIP_KNEE_HRRP  Not Available  \n",
       "19613        READM_30_PN_HRRP  Not Available  \n",
       "19614       READM_30_AMI_HRRP  Not Available  \n",
       "19615      READM_30_CABG_HRRP  Not Available  \n",
       "19618  READM_30_HIP_KNEE_HRRP  Not Available  \n",
       "19627      READM_30_CABG_HRRP  Not Available  \n",
       "19633      READM_30_CABG_HRRP  Not Available  \n",
       "19663      READM_30_CABG_HRRP  Not Available  \n",
       "19669      READM_30_CABG_HRRP  Not Available  \n",
       "\n",
       "[5394 rows x 4 columns]"
      ]
     },
     "execution_count": 33,
     "metadata": {},
     "output_type": "execute_result"
    }
   ],
   "source": [
    "df[df[\"ERR\"] == \"Not Available\"]"
   ]
  },
  {
   "cell_type": "code",
   "execution_count": null,
   "metadata": {},
   "outputs": [
    {
     "name": "stdout",
     "output_type": "stream",
     "text": [
      "Int64Index([    0,     1,     4,     6,     7,    12,    13,    14,    15,\n",
      "               16,\n",
      "            ...\n",
      "            19611, 19612, 19613, 19614, 19615, 19618, 19627, 19633, 19663,\n",
      "            19669],\n",
      "           dtype='int64', length=5394)\n"
     ]
    },
    {
     "data": {
      "text/plain": [
       "pandas.core.indexes.numeric.Int64Index"
      ]
     },
     "execution_count": 34,
     "metadata": {},
     "output_type": "execute_result"
    }
   ],
   "source": [
    "i = df[df[\"ERR\"] == \"Not Available\"].index\n",
    "print(i)\n",
    "type(i)"
   ]
  },
  {
   "cell_type": "code",
   "execution_count": null,
   "metadata": {},
   "outputs": [],
   "source": [
    "df.drop(i, inplace=True)"
   ]
  },
  {
   "cell_type": "code",
   "execution_count": null,
   "metadata": {},
   "outputs": [
    {
     "data": {
      "text/html": [
       "<div>\n",
       "<style scoped>\n",
       "    .dataframe tbody tr th:only-of-type {\n",
       "        vertical-align: middle;\n",
       "    }\n",
       "\n",
       "    .dataframe tbody tr th {\n",
       "        vertical-align: top;\n",
       "    }\n",
       "\n",
       "    .dataframe thead th {\n",
       "        text-align: right;\n",
       "    }\n",
       "</style>\n",
       "<table border=\"1\" class=\"dataframe\">\n",
       "  <thead>\n",
       "    <tr style=\"text-align: right;\">\n",
       "      <th></th>\n",
       "      <th>Hospital</th>\n",
       "      <th>State</th>\n",
       "      <th>Measure</th>\n",
       "      <th>ERR</th>\n",
       "    </tr>\n",
       "  </thead>\n",
       "  <tbody>\n",
       "    <tr>\n",
       "      <th>2</th>\n",
       "      <td>BYRD REGIONAL HOSPITAL</td>\n",
       "      <td>LA</td>\n",
       "      <td>READM_30_COPD_HRRP</td>\n",
       "      <td>1.0195</td>\n",
       "    </tr>\n",
       "    <tr>\n",
       "      <th>3</th>\n",
       "      <td>BYRD REGIONAL HOSPITAL</td>\n",
       "      <td>LA</td>\n",
       "      <td>READM_30_HF_HRRP</td>\n",
       "      <td>1.0773</td>\n",
       "    </tr>\n",
       "    <tr>\n",
       "      <th>5</th>\n",
       "      <td>BYRD REGIONAL HOSPITAL</td>\n",
       "      <td>LA</td>\n",
       "      <td>READM_30_PN_HRRP</td>\n",
       "      <td>1.1031</td>\n",
       "    </tr>\n",
       "    <tr>\n",
       "      <th>8</th>\n",
       "      <td>GRAND ITASCA CLINIC AND HOSPITAL</td>\n",
       "      <td>MN</td>\n",
       "      <td>READM_30_COPD_HRRP</td>\n",
       "      <td>1.0024</td>\n",
       "    </tr>\n",
       "    <tr>\n",
       "      <th>9</th>\n",
       "      <td>GRAND ITASCA CLINIC AND HOSPITAL</td>\n",
       "      <td>MN</td>\n",
       "      <td>READM_30_HF_HRRP</td>\n",
       "      <td>0.9726</td>\n",
       "    </tr>\n",
       "  </tbody>\n",
       "</table>\n",
       "</div>"
      ],
      "text/plain": [
       "                           Hospital State             Measure     ERR\n",
       "2            BYRD REGIONAL HOSPITAL    LA  READM_30_COPD_HRRP  1.0195\n",
       "3            BYRD REGIONAL HOSPITAL    LA    READM_30_HF_HRRP  1.0773\n",
       "5            BYRD REGIONAL HOSPITAL    LA    READM_30_PN_HRRP  1.1031\n",
       "8  GRAND ITASCA CLINIC AND HOSPITAL    MN  READM_30_COPD_HRRP  1.0024\n",
       "9  GRAND ITASCA CLINIC AND HOSPITAL    MN    READM_30_HF_HRRP  0.9726"
      ]
     },
     "execution_count": 36,
     "metadata": {},
     "output_type": "execute_result"
    }
   ],
   "source": [
    "df.head()"
   ]
  },
  {
   "cell_type": "code",
   "execution_count": null,
   "metadata": {},
   "outputs": [
    {
     "data": {
      "text/plain": [
       "(14280, 4)"
      ]
     },
     "execution_count": 37,
     "metadata": {},
     "output_type": "execute_result"
    }
   ],
   "source": [
    "df.shape"
   ]
  },
  {
   "cell_type": "code",
   "execution_count": null,
   "metadata": {},
   "outputs": [
    {
     "name": "stdout",
     "output_type": "stream",
     "text": [
      "<class 'pandas.core.frame.DataFrame'>\n",
      "Int64Index: 14280 entries, 2 to 19673\n",
      "Data columns (total 4 columns):\n",
      "Hospital    14280 non-null object\n",
      "State       14280 non-null object\n",
      "Measure     14280 non-null object\n",
      "ERR         14280 non-null float64\n",
      "dtypes: float64(1), object(3)\n",
      "memory usage: 557.8+ KB\n"
     ]
    }
   ],
   "source": [
    "df[\"ERR\"] = df[\"ERR\"].astype(float)\n",
    "df.info()"
   ]
  },
  {
   "cell_type": "markdown",
   "metadata": {},
   "source": [
    "### 5. Aggregation and Plotting"
   ]
  },
  {
   "cell_type": "code",
   "execution_count": null,
   "metadata": {},
   "outputs": [
    {
     "name": "stdout",
     "output_type": "stream",
     "text": [
      "                                                        ERR\n",
      "Hospital                                                   \n",
      "ABBEVILLE GENERAL HOSPITAL                          0.95750\n",
      "ABBOTT NORTHWESTERN HOSPITAL                        0.95870\n",
      "ABILENE REGIONAL MEDICAL CENTER                     0.94330\n",
      "ABINGTON MEMORIAL HOSPITAL                          0.98030\n",
      "ABRAZO ARROWHEAD CAMPUS                             0.95070\n",
      "ABRAZO CENTRAL CAMPUS                               0.99840\n",
      "ABRAZO SCOTTSDALE CAMPUS                            0.96185\n",
      "ABRAZO WEST CAMPUS                                  1.05050\n",
      "ACADIA GENERAL HOSPITAL                             0.99335\n",
      "ACMH HOSPITAL                                       0.94670\n",
      "ADENA REGIONAL MEDICAL CENTER                       0.96775\n",
      "ADIRONDACK MEDICAL CENTER                           0.96935\n",
      "ADVANCED SURGICAL HOSPITAL                          1.02080\n",
      "ADVENTIST BOLINGBROOK HOSPITAL                      0.99330\n",
      "ADVENTIST GLENOAKS                                  1.02435\n",
      "ADVENTIST HEALTH BAKERSFIELD                        0.96435\n",
      "ADVENTIST HEALTH CASTLE                             0.93520\n",
      "ADVENTIST HEALTH FEATHER RIVER                      0.93580\n",
      "ADVENTIST HEALTH HANFORD                            1.05810\n",
      "ADVENTIST HEALTH LODI MEMORIAL                      0.98330\n",
      "ADVENTIST HEALTH PORTLAND                           0.99640\n",
      "ADVENTIST HEALTH REEDLEY                            0.96625\n",
      "ADVENTIST HEALTH SIMI VALLEY                        1.03840\n",
      "ADVENTIST HEALTH SONORA                             1.02970\n",
      "ADVENTIST HEALTH ST HELENA                          0.93700\n",
      "ADVENTIST HEALTH UKIAH VALLEY                       0.94635\n",
      "ADVENTIST HEALTHCARE SHADY GROVE MEDICAL CENTER     1.02610\n",
      "ADVENTIST HEALTHCARE WASHINGTON ADVENTIST HOSPITAL  1.04525\n",
      "ADVENTIST HINSDALE HOSPITAL                         1.01655\n",
      "ADVENTIST LA GRANGE MEMORIAL HOSPITAL               0.97350\n",
      "...                                                     ...\n",
      "WINCHESTER MEDICAL CENTER                           0.99580\n",
      "WINDHAM COMM MEM HOSP & HATCH HOSP                  0.99690\n",
      "WINN PARISH MEDICAL CENTER                          1.05140\n",
      "WINONA HEALTH SERVICES                              1.02260\n",
      "WINSTON MEDICAL CENTER & SWINGBED                   1.05520\n",
      "WINTER HAVEN HOSPITAL                               1.00885\n",
      "WIREGRASS MEDICAL CENTER                            1.01950\n",
      "WISE HEALTH SYSTEM                                  0.95600\n",
      "WISE REGIONAL HEALTH SYSTEM                         1.01310\n",
      "WITHAM HEALTH SERVICES                              1.02240\n",
      "WOMEN'S AND CHILDREN'S HOSPITAL                     1.00670\n",
      "WOOD COUNTY HOSPITAL                                0.97750\n",
      "WOODHULL MEDICAL AND MENTAL HEALTH CENTER           1.09430\n",
      "WOODLAND HEIGHTS MEDICAL CENTER                     0.97260\n",
      "WOODLAND MEMORIAL HOSPITAL                          0.99480\n",
      "WOOSTER COMMUNITY HOSPITAL                          0.95800\n",
      "WYCKOFF HEIGHTS MEDICAL CENTER                      1.06790\n",
      "WYOMING COUNTY COMMUNITY HOSPITAL                   1.03310\n",
      "WYOMING MEDICAL CENTER                              0.94025\n",
      "WYTHE COUNTY COMMUNITY HOSPITAL                     0.96270\n",
      "YAKIMA REGIONAL MEDICAL AND CARDIAC CENTER          1.01260\n",
      "YAKIMA VALLEY MEMORIAL HOSPITAL                     0.94500\n",
      "YALE-NEW HAVEN HOSPITAL                             1.07575\n",
      "YALOBUSHA GENERAL HOSPITAL                          1.01990\n",
      "YAVAPAI REGIONAL MEDICAL CENTER                     1.00140\n",
      "YORK HOSPITAL                                       0.96260\n",
      "YUKON KUSKOKWIM DELTA REG HOSPITAL                  0.98500\n",
      "YUMA REGIONAL MEDICAL CENTER                        0.95155\n",
      "ZUCKERBERG SAN FRANCISCO GENERAL HOSP & TRAUMA CTR  0.99570\n",
      "ZUNI COMPREHENSIVE COMMUNITY HEALTH CENTER          1.00210\n",
      "\n",
      "[2995 rows x 1 columns]\n"
     ]
    },
    {
     "data": {
      "text/plain": [
       "pandas.core.frame.DataFrame"
      ]
     },
     "execution_count": 39,
     "metadata": {},
     "output_type": "execute_result"
    }
   ],
   "source": [
    "x = df.groupby(\"Hospital\").median()\n",
    "print(x)\n",
    "type(x)"
   ]
  },
  {
   "cell_type": "code",
   "execution_count": null,
   "metadata": {},
   "outputs": [
    {
     "data": {
      "text/html": [
       "<div>\n",
       "<style scoped>\n",
       "    .dataframe tbody tr th:only-of-type {\n",
       "        vertical-align: middle;\n",
       "    }\n",
       "\n",
       "    .dataframe tbody tr th {\n",
       "        vertical-align: top;\n",
       "    }\n",
       "\n",
       "    .dataframe thead th {\n",
       "        text-align: right;\n",
       "    }\n",
       "</style>\n",
       "<table border=\"1\" class=\"dataframe\">\n",
       "  <thead>\n",
       "    <tr style=\"text-align: right;\">\n",
       "      <th></th>\n",
       "      <th>ERR</th>\n",
       "    </tr>\n",
       "    <tr>\n",
       "      <th>Hospital</th>\n",
       "      <th></th>\n",
       "    </tr>\n",
       "  </thead>\n",
       "  <tbody>\n",
       "    <tr>\n",
       "      <th>SOUTH TEXAS SPINE AND SURGICAL HOSPITAL</th>\n",
       "      <td>1.18760</td>\n",
       "    </tr>\n",
       "    <tr>\n",
       "      <th>LAWNWOOD REGIONAL MEDICAL CENTER &amp; HEART INSTITUTE</th>\n",
       "      <td>1.19005</td>\n",
       "    </tr>\n",
       "    <tr>\n",
       "      <th>SOUTHCOAST HOSPITAL GROUP, INC</th>\n",
       "      <td>1.19195</td>\n",
       "    </tr>\n",
       "    <tr>\n",
       "      <th>PINE CREEK MEDICAL CENTER LLP</th>\n",
       "      <td>1.19590</td>\n",
       "    </tr>\n",
       "    <tr>\n",
       "      <th>OROVILLE HOSPITAL</th>\n",
       "      <td>1.19690</td>\n",
       "    </tr>\n",
       "    <tr>\n",
       "      <th>ARIZONA SPECIALTY HOSPITAL</th>\n",
       "      <td>1.21110</td>\n",
       "    </tr>\n",
       "    <tr>\n",
       "      <th>ST LUCIE MEDICAL CENTER</th>\n",
       "      <td>1.21130</td>\n",
       "    </tr>\n",
       "    <tr>\n",
       "      <th>MEMORIAL HERMANN SURGICAL HOSPITAL KINGWOOD</th>\n",
       "      <td>1.26600</td>\n",
       "    </tr>\n",
       "    <tr>\n",
       "      <th>WELLSPAN SURGERY AND REHABILITATION HOSPITAL</th>\n",
       "      <td>1.32080</td>\n",
       "    </tr>\n",
       "    <tr>\n",
       "      <th>HARLAN ARH HOSPITAL</th>\n",
       "      <td>1.32840</td>\n",
       "    </tr>\n",
       "  </tbody>\n",
       "</table>\n",
       "</div>"
      ],
      "text/plain": [
       "                                                        ERR\n",
       "Hospital                                                   \n",
       "SOUTH TEXAS SPINE AND SURGICAL HOSPITAL             1.18760\n",
       "LAWNWOOD REGIONAL MEDICAL CENTER & HEART INSTITUTE  1.19005\n",
       "SOUTHCOAST HOSPITAL GROUP, INC                      1.19195\n",
       "PINE CREEK MEDICAL CENTER LLP                       1.19590\n",
       "OROVILLE HOSPITAL                                   1.19690\n",
       "ARIZONA SPECIALTY HOSPITAL                          1.21110\n",
       "ST LUCIE MEDICAL CENTER                             1.21130\n",
       "MEMORIAL HERMANN SURGICAL HOSPITAL KINGWOOD         1.26600\n",
       "WELLSPAN SURGERY AND REHABILITATION HOSPITAL        1.32080\n",
       "HARLAN ARH HOSPITAL                                 1.32840"
      ]
     },
     "execution_count": 40,
     "metadata": {},
     "output_type": "execute_result"
    }
   ],
   "source": [
    "y = x.sort_values(\"ERR\")\n",
    "y.tail(10)"
   ]
  },
  {
   "cell_type": "code",
   "execution_count": null,
   "metadata": {},
   "outputs": [
    {
     "data": {
      "text/plain": [
       "<matplotlib.axes._subplots.AxesSubplot at 0x230c5b03828>"
      ]
     },
     "execution_count": 41,
     "metadata": {},
     "output_type": "execute_result"
    },
    {
     "data": {
      "image/png": "[encoded data removed]",
      "text/plain": [
       "<Figure size 720x432 with 1 Axes>"
      ]
     },
     "metadata": {
      "needs_background": "light"
     },
     "output_type": "display_data"
    }
   ],
   "source": [
    "fig, ax = plt.subplots(figsize=(10,6))\n",
    "x.plot(kind=\"bar\", ax=ax)"
   ]
  },
  {
   "cell_type": "code",
   "execution_count": null,
   "metadata": {},
   "outputs": [
    {
     "data": {
      "text/plain": [
       "<matplotlib.axes._subplots.AxesSubplot at 0x230cc234cf8>"
      ]
     },
     "execution_count": 42,
     "metadata": {},
     "output_type": "execute_result"
    }
   ],
   "source": [
    "#x.sort_values(\"ERR\", ascending=True)\n",
    "y = x.sort_values(\"ERR\")\n",
    "fig, ax = plt.subplots(figsize=(15,6))\n",
    "y.plot(kind=\"bar\", ax=ax)"
   ]
  },
  {
   "cell_type": "code",
   "execution_count": null,
   "metadata": {},
   "outputs": [],
   "source": []
  }
 ],
 "metadata": {
  "kernelspec": {
   "display_name": "Python 3",
   "language": "python",
   "name": "python3"
  },
  "language_info": {
   "codemirror_mode": {
    "name": "ipython",
    "version": 3
   },
   "file_extension": ".py",
   "mimetype": "text/x-python",
   "name": "python",
   "nbconvert_exporter": "python",
   "pygments_lexer": "ipython3",
   "version": "3.7.1"
  }
 },
 "nbformat": 4,
 "nbformat_minor": 2
}
