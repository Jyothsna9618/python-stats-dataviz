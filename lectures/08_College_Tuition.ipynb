{
  "nbformat": 4,
  "nbformat_minor": 0,
  "metadata": {
    "kernelspec": {
      "display_name": "Python 3",
      "language": "python",
      "name": "python3"
    },
    "language_info": {
      "codemirror_mode": {
        "name": "ipython",
        "version": 3
      },
      "file_extension": ".py",
      "mimetype": "text/x-python",
      "name": "python",
      "nbconvert_exporter": "python",
      "pygments_lexer": "ipython3",
      "version": "3.7.4"
    },
    "colab": {
      "name": "10 - LLN and CLT.ipynb.txt",
      "provenance": [],
      "include_colab_link": true
    }
  },
  "cells": [
    {
      "cell_type": "markdown",
      "metadata": {
        "id": "view-in-github",
        "colab_type": "text"
      },
      "source": [
        "<a href=\"https://colab.research.google.com/github/wcj365/python-stats-dataviz/blob/master/08_College_Tuition.ipynb\" target=\"_parent\"><img src=\"https://colab.research.google.com/assets/colab-badge.svg\" alt=\"Open In Colab\"/></a>"
      ]
    },
    {
      "cell_type": "markdown",
      "metadata": {
        "id": "asl80-xxIcok",
        "colab_type": "text"
      },
      "source": [
        "### 08 College Scorecard Data\n",
        "Exploration of In State Tuition.\n",
        "\n",
        "\n"
      ]
    },
    {
      "cell_type": "code",
      "metadata": {
        "id": "Jh6PHH2dIcom",
        "colab_type": "code",
        "colab": {}
      },
      "source": [
        "# Import useful Python libraries\n",
        "\n",
        "import numpy as np\n",
        "import pandas as pd\n",
        "from matplotlib import pyplot as plt\n",
        "import statistics\n",
        "from pylab import rcParams\n"
      ],
      "execution_count": 0,
      "outputs": []
    },
    {
      "cell_type": "code",
      "metadata": {
        "id": "cZUbztXZIcou",
        "colab_type": "code",
        "colab": {},
        "outputId": "5186798b-e7f5-443e-bf7e-2a3aff269563"
      },
      "source": [
        "# use college scorecard 2017-18 acedemic year data\n",
        "\n",
        "column_list = [\"INSTNM\", \"STABBR\",\"CONTROL\", \"TUITIONFEE_IN\"]\n",
        "df = pd.read_csv(\"MERGED2017_18_PP.csv\", usecols=column_list)\n",
        "df.info()"
      ],
      "execution_count": 0,
      "outputs": [
        {
          "output_type": "stream",
          "text": [
            "<class 'pandas.core.frame.DataFrame'>\n",
            "RangeIndex: 7115 entries, 0 to 7114\n",
            "Data columns (total 4 columns):\n",
            "INSTNM           7115 non-null object\n",
            "STABBR           7115 non-null object\n",
            "CONTROL          7115 non-null int64\n",
            "TUITIONFEE_IN    4028 non-null float64\n",
            "dtypes: float64(1), int64(1), object(2)\n",
            "memory usage: 222.4+ KB\n"
          ],
          "name": "stdout"
        }
      ]
    },
    {
      "cell_type": "code",
      "metadata": {
        "id": "dFpABy3XIco5",
        "colab_type": "code",
        "colab": {},
        "outputId": "46baa847-8020-4f65-d70c-b54a176ee212"
      },
      "source": [
        "# Find out the existance of missing values\n",
        "\n",
        "df.isna().sum()"
      ],
      "execution_count": 0,
      "outputs": [
        {
          "output_type": "execute_result",
          "data": {
            "text/plain": [
              "INSTNM              0\n",
              "STABBR              0\n",
              "CONTROL             0\n",
              "TUITIONFEE_IN    3087\n",
              "dtype: int64"
            ]
          },
          "metadata": {
            "tags": []
          },
          "execution_count": 3
        }
      ]
    },
    {
      "cell_type": "code",
      "metadata": {
        "id": "uBXTEfugIcpB",
        "colab_type": "code",
        "colab": {},
        "outputId": "807fbc01-ef00-4312-86bc-cce0196d54fc"
      },
      "source": [
        "# Take a look at what colleges have missing tuition\n",
        "\n",
        "df[df[\"TUITIONFEE_IN\"].isna()].sample(20)"
      ],
      "execution_count": 0,
      "outputs": [
        {
          "output_type": "execute_result",
          "data": {
            "text/html": [
              "<div>\n",
              "<style scoped>\n",
              "    .dataframe tbody tr th:only-of-type {\n",
              "        vertical-align: middle;\n",
              "    }\n",
              "\n",
              "    .dataframe tbody tr th {\n",
              "        vertical-align: top;\n",
              "    }\n",
              "\n",
              "    .dataframe thead th {\n",
              "        text-align: right;\n",
              "    }\n",
              "</style>\n",
              "<table border=\"1\" class=\"dataframe\">\n",
              "  <thead>\n",
              "    <tr style=\"text-align: right;\">\n",
              "      <th></th>\n",
              "      <th>INSTNM</th>\n",
              "      <th>STABBR</th>\n",
              "      <th>CONTROL</th>\n",
              "      <th>TUITIONFEE_IN</th>\n",
              "    </tr>\n",
              "  </thead>\n",
              "  <tbody>\n",
              "    <tr>\n",
              "      <th>5924</th>\n",
              "      <td>New England Tractor Trailer Training School of...</td>\n",
              "      <td>MA</td>\n",
              "      <td>3</td>\n",
              "      <td>NaN</td>\n",
              "    </tr>\n",
              "    <tr>\n",
              "      <th>2657</th>\n",
              "      <td>Cincinnati College of Mortuary Science</td>\n",
              "      <td>OH</td>\n",
              "      <td>2</td>\n",
              "      <td>NaN</td>\n",
              "    </tr>\n",
              "    <tr>\n",
              "      <th>6135</th>\n",
              "      <td>Ukiah Adult School</td>\n",
              "      <td>CA</td>\n",
              "      <td>1</td>\n",
              "      <td>NaN</td>\n",
              "    </tr>\n",
              "    <tr>\n",
              "      <th>6001</th>\n",
              "      <td>Tulsa Welding School-Jacksonville</td>\n",
              "      <td>FL</td>\n",
              "      <td>3</td>\n",
              "      <td>NaN</td>\n",
              "    </tr>\n",
              "    <tr>\n",
              "      <th>5439</th>\n",
              "      <td>Milan Institute of Cosmetology-Reno</td>\n",
              "      <td>NV</td>\n",
              "      <td>3</td>\n",
              "      <td>NaN</td>\n",
              "    </tr>\n",
              "    <tr>\n",
              "      <th>6424</th>\n",
              "      <td>The Training Domain</td>\n",
              "      <td>FL</td>\n",
              "      <td>3</td>\n",
              "      <td>NaN</td>\n",
              "    </tr>\n",
              "    <tr>\n",
              "      <th>6653</th>\n",
              "      <td>Bull City Durham Beauty and Barber College</td>\n",
              "      <td>NC</td>\n",
              "      <td>3</td>\n",
              "      <td>NaN</td>\n",
              "    </tr>\n",
              "    <tr>\n",
              "      <th>5481</th>\n",
              "      <td>Urshan Graduate School of Theology</td>\n",
              "      <td>MO</td>\n",
              "      <td>2</td>\n",
              "      <td>NaN</td>\n",
              "    </tr>\n",
              "    <tr>\n",
              "      <th>5619</th>\n",
              "      <td>Southern Worcester County Regional Vocational ...</td>\n",
              "      <td>MA</td>\n",
              "      <td>1</td>\n",
              "      <td>NaN</td>\n",
              "    </tr>\n",
              "    <tr>\n",
              "      <th>6452</th>\n",
              "      <td>Unitech Training Academy-Metairie</td>\n",
              "      <td>LA</td>\n",
              "      <td>3</td>\n",
              "      <td>NaN</td>\n",
              "    </tr>\n",
              "    <tr>\n",
              "      <th>1372</th>\n",
              "      <td>John Jay Beauty College</td>\n",
              "      <td>LA</td>\n",
              "      <td>3</td>\n",
              "      <td>NaN</td>\n",
              "    </tr>\n",
              "    <tr>\n",
              "      <th>5052</th>\n",
              "      <td>The Beauty Institute</td>\n",
              "      <td>FL</td>\n",
              "      <td>3</td>\n",
              "      <td>NaN</td>\n",
              "    </tr>\n",
              "    <tr>\n",
              "      <th>5620</th>\n",
              "      <td>L'esprit Academy</td>\n",
              "      <td>MI</td>\n",
              "      <td>3</td>\n",
              "      <td>NaN</td>\n",
              "    </tr>\n",
              "    <tr>\n",
              "      <th>5270</th>\n",
              "      <td>Make-up Designory</td>\n",
              "      <td>CA</td>\n",
              "      <td>3</td>\n",
              "      <td>NaN</td>\n",
              "    </tr>\n",
              "    <tr>\n",
              "      <th>4032</th>\n",
              "      <td>Austin Graduate School of Theology</td>\n",
              "      <td>TX</td>\n",
              "      <td>2</td>\n",
              "      <td>NaN</td>\n",
              "    </tr>\n",
              "    <tr>\n",
              "      <th>7061</th>\n",
              "      <td>Professional Hands Institute</td>\n",
              "      <td>FL</td>\n",
              "      <td>3</td>\n",
              "      <td>NaN</td>\n",
              "    </tr>\n",
              "    <tr>\n",
              "      <th>492</th>\n",
              "      <td>Marshall B Ketchum University</td>\n",
              "      <td>CA</td>\n",
              "      <td>2</td>\n",
              "      <td>NaN</td>\n",
              "    </tr>\n",
              "    <tr>\n",
              "      <th>4994</th>\n",
              "      <td>Jay's Technical Institute</td>\n",
              "      <td>TX</td>\n",
              "      <td>3</td>\n",
              "      <td>NaN</td>\n",
              "    </tr>\n",
              "    <tr>\n",
              "      <th>960</th>\n",
              "      <td>Hair Professionals School of Cosmetology</td>\n",
              "      <td>IL</td>\n",
              "      <td>3</td>\n",
              "      <td>NaN</td>\n",
              "    </tr>\n",
              "    <tr>\n",
              "      <th>6400</th>\n",
              "      <td>American College of Barbering</td>\n",
              "      <td>KY</td>\n",
              "      <td>3</td>\n",
              "      <td>NaN</td>\n",
              "    </tr>\n",
              "  </tbody>\n",
              "</table>\n",
              "</div>"
            ],
            "text/plain": [
              "                                                 INSTNM STABBR  CONTROL  \\\n",
              "5924  New England Tractor Trailer Training School of...     MA        3   \n",
              "2657             Cincinnati College of Mortuary Science     OH        2   \n",
              "6135                                 Ukiah Adult School     CA        1   \n",
              "6001                  Tulsa Welding School-Jacksonville     FL        3   \n",
              "5439                Milan Institute of Cosmetology-Reno     NV        3   \n",
              "6424                                The Training Domain     FL        3   \n",
              "6653         Bull City Durham Beauty and Barber College     NC        3   \n",
              "5481                 Urshan Graduate School of Theology     MO        2   \n",
              "5619  Southern Worcester County Regional Vocational ...     MA        1   \n",
              "6452                  Unitech Training Academy-Metairie     LA        3   \n",
              "1372                            John Jay Beauty College     LA        3   \n",
              "5052                               The Beauty Institute     FL        3   \n",
              "5620                                   L'esprit Academy     MI        3   \n",
              "5270                                  Make-up Designory     CA        3   \n",
              "4032                 Austin Graduate School of Theology     TX        2   \n",
              "7061                       Professional Hands Institute     FL        3   \n",
              "492                       Marshall B Ketchum University     CA        2   \n",
              "4994                          Jay's Technical Institute     TX        3   \n",
              "960            Hair Professionals School of Cosmetology     IL        3   \n",
              "6400                      American College of Barbering     KY        3   \n",
              "\n",
              "      TUITIONFEE_IN  \n",
              "5924            NaN  \n",
              "2657            NaN  \n",
              "6135            NaN  \n",
              "6001            NaN  \n",
              "5439            NaN  \n",
              "6424            NaN  \n",
              "6653            NaN  \n",
              "5481            NaN  \n",
              "5619            NaN  \n",
              "6452            NaN  \n",
              "1372            NaN  \n",
              "5052            NaN  \n",
              "5620            NaN  \n",
              "5270            NaN  \n",
              "4032            NaN  \n",
              "7061            NaN  \n",
              "492             NaN  \n",
              "4994            NaN  \n",
              "960             NaN  \n",
              "6400            NaN  "
            ]
          },
          "metadata": {
            "tags": []
          },
          "execution_count": 4
        }
      ]
    },
    {
      "cell_type": "code",
      "metadata": {
        "id": "__pXlVX6IcpI",
        "colab_type": "code",
        "colab": {},
        "outputId": "7caeaf97-038d-48fa-cb2d-4e574d69522e"
      },
      "source": [
        "# Drop the colleges with missing tuition\n",
        "\n",
        "df = df[df[\"TUITIONFEE_IN\"].isna() == False]\n",
        "df.info()"
      ],
      "execution_count": 0,
      "outputs": [
        {
          "output_type": "stream",
          "text": [
            "<class 'pandas.core.frame.DataFrame'>\n",
            "Int64Index: 4028 entries, 0 to 7114\n",
            "Data columns (total 4 columns):\n",
            "INSTNM           4028 non-null object\n",
            "STABBR           4028 non-null object\n",
            "CONTROL          4028 non-null int64\n",
            "TUITIONFEE_IN    4028 non-null float64\n",
            "dtypes: float64(1), int64(1), object(2)\n",
            "memory usage: 157.3+ KB\n"
          ],
          "name": "stdout"
        }
      ]
    },
    {
      "cell_type": "code",
      "metadata": {
        "id": "CMTCuJUJIcpO",
        "colab_type": "code",
        "colab": {},
        "outputId": "549193c9-cd6a-400c-f8b9-3b8883d9a3a7"
      },
      "source": [
        "df.describe()"
      ],
      "execution_count": 0,
      "outputs": [
        {
          "output_type": "execute_result",
          "data": {
            "text/html": [
              "<div>\n",
              "<style scoped>\n",
              "    .dataframe tbody tr th:only-of-type {\n",
              "        vertical-align: middle;\n",
              "    }\n",
              "\n",
              "    .dataframe tbody tr th {\n",
              "        vertical-align: top;\n",
              "    }\n",
              "\n",
              "    .dataframe thead th {\n",
              "        text-align: right;\n",
              "    }\n",
              "</style>\n",
              "<table border=\"1\" class=\"dataframe\">\n",
              "  <thead>\n",
              "    <tr style=\"text-align: right;\">\n",
              "      <th></th>\n",
              "      <th>CONTROL</th>\n",
              "      <th>TUITIONFEE_IN</th>\n",
              "    </tr>\n",
              "  </thead>\n",
              "  <tbody>\n",
              "    <tr>\n",
              "      <th>count</th>\n",
              "      <td>4028.000000</td>\n",
              "      <td>4028.000000</td>\n",
              "    </tr>\n",
              "    <tr>\n",
              "      <th>mean</th>\n",
              "      <td>1.776812</td>\n",
              "      <td>15081.399950</td>\n",
              "    </tr>\n",
              "    <tr>\n",
              "      <th>std</th>\n",
              "      <td>0.754484</td>\n",
              "      <td>12723.724262</td>\n",
              "    </tr>\n",
              "    <tr>\n",
              "      <th>min</th>\n",
              "      <td>1.000000</td>\n",
              "      <td>0.000000</td>\n",
              "    </tr>\n",
              "    <tr>\n",
              "      <th>25%</th>\n",
              "      <td>1.000000</td>\n",
              "      <td>5246.250000</td>\n",
              "    </tr>\n",
              "    <tr>\n",
              "      <th>50%</th>\n",
              "      <td>2.000000</td>\n",
              "      <td>11296.000000</td>\n",
              "    </tr>\n",
              "    <tr>\n",
              "      <th>75%</th>\n",
              "      <td>2.000000</td>\n",
              "      <td>19400.000000</td>\n",
              "    </tr>\n",
              "    <tr>\n",
              "      <th>max</th>\n",
              "      <td>3.000000</td>\n",
              "      <td>74514.000000</td>\n",
              "    </tr>\n",
              "  </tbody>\n",
              "</table>\n",
              "</div>"
            ],
            "text/plain": [
              "           CONTROL  TUITIONFEE_IN\n",
              "count  4028.000000    4028.000000\n",
              "mean      1.776812   15081.399950\n",
              "std       0.754484   12723.724262\n",
              "min       1.000000       0.000000\n",
              "25%       1.000000    5246.250000\n",
              "50%       2.000000   11296.000000\n",
              "75%       2.000000   19400.000000\n",
              "max       3.000000   74514.000000"
            ]
          },
          "metadata": {
            "tags": []
          },
          "execution_count": 6
        }
      ]
    },
    {
      "cell_type": "code",
      "metadata": {
        "id": "gVa9OJVMIcpS",
        "colab_type": "code",
        "colab": {},
        "outputId": "2c1df0d4-acb6-4de1-ea09-6fe94a5047b8"
      },
      "source": [
        "# Since the min of tuition is 0, let's find out how many of them\n",
        "\n",
        "df[df[\"TUITIONFEE_IN\"] == 0 ].shape"
      ],
      "execution_count": 0,
      "outputs": [
        {
          "output_type": "execute_result",
          "data": {
            "text/plain": [
              "(4, 4)"
            ]
          },
          "metadata": {
            "tags": []
          },
          "execution_count": 7
        }
      ]
    },
    {
      "cell_type": "code",
      "metadata": {
        "id": "FF3ReHuXIcpa",
        "colab_type": "code",
        "colab": {},
        "outputId": "35c4d409-63ed-43a9-b0fe-a738ab0c6e32"
      },
      "source": [
        "# Display the colleges with 0 tuition\n",
        "\n",
        "df[df[\"TUITIONFEE_IN\"] == 0 ]"
      ],
      "execution_count": 0,
      "outputs": [
        {
          "output_type": "execute_result",
          "data": {
            "text/html": [
              "<div>\n",
              "<style scoped>\n",
              "    .dataframe tbody tr th:only-of-type {\n",
              "        vertical-align: middle;\n",
              "    }\n",
              "\n",
              "    .dataframe tbody tr th {\n",
              "        vertical-align: top;\n",
              "    }\n",
              "\n",
              "    .dataframe thead th {\n",
              "        text-align: right;\n",
              "    }\n",
              "</style>\n",
              "<table border=\"1\" class=\"dataframe\">\n",
              "  <thead>\n",
              "    <tr style=\"text-align: right;\">\n",
              "      <th></th>\n",
              "      <th>INSTNM</th>\n",
              "      <th>STABBR</th>\n",
              "      <th>CONTROL</th>\n",
              "      <th>TUITIONFEE_IN</th>\n",
              "    </tr>\n",
              "  </thead>\n",
              "  <tbody>\n",
              "    <tr>\n",
              "      <th>577</th>\n",
              "      <td>United States Air Force Academy</td>\n",
              "      <td>CO</td>\n",
              "      <td>1</td>\n",
              "      <td>0.0</td>\n",
              "    </tr>\n",
              "    <tr>\n",
              "      <th>629</th>\n",
              "      <td>United States Coast Guard Academy</td>\n",
              "      <td>CT</td>\n",
              "      <td>1</td>\n",
              "      <td>0.0</td>\n",
              "    </tr>\n",
              "    <tr>\n",
              "      <th>1500</th>\n",
              "      <td>United States Naval Academy</td>\n",
              "      <td>MD</td>\n",
              "      <td>1</td>\n",
              "      <td>0.0</td>\n",
              "    </tr>\n",
              "    <tr>\n",
              "      <th>2449</th>\n",
              "      <td>United States Military Academy</td>\n",
              "      <td>NY</td>\n",
              "      <td>1</td>\n",
              "      <td>0.0</td>\n",
              "    </tr>\n",
              "  </tbody>\n",
              "</table>\n",
              "</div>"
            ],
            "text/plain": [
              "                                 INSTNM STABBR  CONTROL  TUITIONFEE_IN\n",
              "577     United States Air Force Academy     CO        1            0.0\n",
              "629   United States Coast Guard Academy     CT        1            0.0\n",
              "1500        United States Naval Academy     MD        1            0.0\n",
              "2449     United States Military Academy     NY        1            0.0"
            ]
          },
          "metadata": {
            "tags": []
          },
          "execution_count": 8
        }
      ]
    },
    {
      "cell_type": "code",
      "metadata": {
        "id": "ECmuRsvJIcpf",
        "colab_type": "code",
        "colab": {},
        "outputId": "7eb6c82b-a3b7-4719-8de5-6b15cad349e4"
      },
      "source": [
        "# Drop these colleges with 0 tuition\n",
        "\n",
        "df = df[df[\"TUITIONFEE_IN\"] != 0]\n",
        "df.info()"
      ],
      "execution_count": 0,
      "outputs": [
        {
          "output_type": "stream",
          "text": [
            "<class 'pandas.core.frame.DataFrame'>\n",
            "Int64Index: 4024 entries, 0 to 7114\n",
            "Data columns (total 4 columns):\n",
            "INSTNM           4024 non-null object\n",
            "STABBR           4024 non-null object\n",
            "CONTROL          4024 non-null int64\n",
            "TUITIONFEE_IN    4024 non-null float64\n",
            "dtypes: float64(1), int64(1), object(2)\n",
            "memory usage: 157.2+ KB\n"
          ],
          "name": "stdout"
        }
      ]
    },
    {
      "cell_type": "markdown",
      "metadata": {
        "id": "6IrxaAHMIcpk",
        "colab_type": "text"
      },
      "source": [
        "The control is used to classify the type of institution:\n",
        "- 1 = \"Public\"\n",
        "- 2 = \"Private nonprofit\"\n",
        "- 3 = \"Private for-profit\"\n",
        "We need to convert the varibale from int to string."
      ]
    },
    {
      "cell_type": "code",
      "metadata": {
        "id": "2JGg17mcIcpl",
        "colab_type": "code",
        "colab": {},
        "outputId": "50523c1c-9e62-4331-8dfd-5ff2f17f1889"
      },
      "source": [
        "# Convert the varibale from int to string\n",
        "\n",
        "df[\"CONTROL\"] = df[\"CONTROL\"].astype(str)\n",
        "df.info()"
      ],
      "execution_count": 0,
      "outputs": [
        {
          "output_type": "stream",
          "text": [
            "<class 'pandas.core.frame.DataFrame'>\n",
            "Int64Index: 4024 entries, 0 to 7114\n",
            "Data columns (total 4 columns):\n",
            "INSTNM           4024 non-null object\n",
            "STABBR           4024 non-null object\n",
            "CONTROL          4024 non-null object\n",
            "TUITIONFEE_IN    4024 non-null float64\n",
            "dtypes: float64(1), object(3)\n",
            "memory usage: 157.2+ KB\n"
          ],
          "name": "stdout"
        }
      ]
    },
    {
      "cell_type": "code",
      "metadata": {
        "id": "IilRxL55Icpq",
        "colab_type": "code",
        "colab": {},
        "outputId": "9c7b05c7-b72f-4df7-965b-b784fda3f589"
      },
      "source": [
        "# Replace the numbers with the explicit names\n",
        "\n",
        "control_dict = {\"1\": \"Public\",\n",
        "                \"2\": \"Private nonprofit\",\n",
        "                \"3\": \"Private for-profit\"}\n",
        "df[\"CONTROL\"] = df[\"CONTROL\"].map(control_dict)\n",
        "df.info()"
      ],
      "execution_count": 0,
      "outputs": [
        {
          "output_type": "stream",
          "text": [
            "<class 'pandas.core.frame.DataFrame'>\n",
            "Int64Index: 4024 entries, 0 to 7114\n",
            "Data columns (total 4 columns):\n",
            "INSTNM           4024 non-null object\n",
            "STABBR           4024 non-null object\n",
            "CONTROL          4024 non-null object\n",
            "TUITIONFEE_IN    4024 non-null float64\n",
            "dtypes: float64(1), object(3)\n",
            "memory usage: 157.2+ KB\n"
          ],
          "name": "stdout"
        }
      ]
    },
    {
      "cell_type": "code",
      "metadata": {
        "id": "5zhjDx0aIcpx",
        "colab_type": "code",
        "colab": {},
        "outputId": "561e3411-d25c-4164-ba9a-015a9e008a79"
      },
      "source": [
        "df.sample(20)"
      ],
      "execution_count": 0,
      "outputs": [
        {
          "output_type": "execute_result",
          "data": {
            "text/html": [
              "<div>\n",
              "<style scoped>\n",
              "    .dataframe tbody tr th:only-of-type {\n",
              "        vertical-align: middle;\n",
              "    }\n",
              "\n",
              "    .dataframe tbody tr th {\n",
              "        vertical-align: top;\n",
              "    }\n",
              "\n",
              "    .dataframe thead th {\n",
              "        text-align: right;\n",
              "    }\n",
              "</style>\n",
              "<table border=\"1\" class=\"dataframe\">\n",
              "  <thead>\n",
              "    <tr style=\"text-align: right;\">\n",
              "      <th></th>\n",
              "      <th>INSTNM</th>\n",
              "      <th>STABBR</th>\n",
              "      <th>CONTROL</th>\n",
              "      <th>TUITIONFEE_IN</th>\n",
              "    </tr>\n",
              "  </thead>\n",
              "  <tbody>\n",
              "    <tr>\n",
              "      <th>3963</th>\n",
              "      <td>University of Puerto Rico-Humacao</td>\n",
              "      <td>PR</td>\n",
              "      <td>Public</td>\n",
              "      <td>2117.0</td>\n",
              "    </tr>\n",
              "    <tr>\n",
              "      <th>4843</th>\n",
              "      <td>MDT College of Health Sciences</td>\n",
              "      <td>OH</td>\n",
              "      <td>Private for-profit</td>\n",
              "      <td>26535.0</td>\n",
              "    </tr>\n",
              "    <tr>\n",
              "      <th>856</th>\n",
              "      <td>Savannah Technical College</td>\n",
              "      <td>GA</td>\n",
              "      <td>Public</td>\n",
              "      <td>2744.0</td>\n",
              "    </tr>\n",
              "    <tr>\n",
              "      <th>4177</th>\n",
              "      <td>Nossi College of Art</td>\n",
              "      <td>TN</td>\n",
              "      <td>Private for-profit</td>\n",
              "      <td>17800.0</td>\n",
              "    </tr>\n",
              "    <tr>\n",
              "      <th>3902</th>\n",
              "      <td>American Samoa Community College</td>\n",
              "      <td>AS</td>\n",
              "      <td>Public</td>\n",
              "      <td>3950.0</td>\n",
              "    </tr>\n",
              "    <tr>\n",
              "      <th>7035</th>\n",
              "      <td>Strayer University-Tampa East Campus</td>\n",
              "      <td>FL</td>\n",
              "      <td>Private for-profit</td>\n",
              "      <td>13857.0</td>\n",
              "    </tr>\n",
              "    <tr>\n",
              "      <th>5153</th>\n",
              "      <td>W L Bonner College</td>\n",
              "      <td>SC</td>\n",
              "      <td>Private nonprofit</td>\n",
              "      <td>5436.0</td>\n",
              "    </tr>\n",
              "    <tr>\n",
              "      <th>6872</th>\n",
              "      <td>Columbia College - Fort Drum</td>\n",
              "      <td>NY</td>\n",
              "      <td>Private nonprofit</td>\n",
              "      <td>6840.0</td>\n",
              "    </tr>\n",
              "    <tr>\n",
              "      <th>2852</th>\n",
              "      <td>Oral Roberts University</td>\n",
              "      <td>OK</td>\n",
              "      <td>Private nonprofit</td>\n",
              "      <td>26792.0</td>\n",
              "    </tr>\n",
              "    <tr>\n",
              "      <th>975</th>\n",
              "      <td>Illinois State University</td>\n",
              "      <td>IL</td>\n",
              "      <td>Public</td>\n",
              "      <td>14061.0</td>\n",
              "    </tr>\n",
              "    <tr>\n",
              "      <th>3501</th>\n",
              "      <td>Our Lady of the Lake University</td>\n",
              "      <td>TX</td>\n",
              "      <td>Private nonprofit</td>\n",
              "      <td>28192.0</td>\n",
              "    </tr>\n",
              "    <tr>\n",
              "      <th>3995</th>\n",
              "      <td>Metro Business College-Jefferson City</td>\n",
              "      <td>MO</td>\n",
              "      <td>Private for-profit</td>\n",
              "      <td>11375.0</td>\n",
              "    </tr>\n",
              "    <tr>\n",
              "      <th>158</th>\n",
              "      <td>Northwest Technical Institute</td>\n",
              "      <td>AR</td>\n",
              "      <td>Public</td>\n",
              "      <td>2321.0</td>\n",
              "    </tr>\n",
              "    <tr>\n",
              "      <th>2472</th>\n",
              "      <td>Appalachian State University</td>\n",
              "      <td>NC</td>\n",
              "      <td>Public</td>\n",
              "      <td>7302.0</td>\n",
              "    </tr>\n",
              "    <tr>\n",
              "      <th>3803</th>\n",
              "      <td>Meredith Manor International Equestrian Center</td>\n",
              "      <td>WV</td>\n",
              "      <td>Private for-profit</td>\n",
              "      <td>22086.0</td>\n",
              "    </tr>\n",
              "    <tr>\n",
              "      <th>5508</th>\n",
              "      <td>Vatterott College-Appling Farms</td>\n",
              "      <td>TN</td>\n",
              "      <td>Private for-profit</td>\n",
              "      <td>11093.0</td>\n",
              "    </tr>\n",
              "    <tr>\n",
              "      <th>3960</th>\n",
              "      <td>University of Puerto Rico-Bayamon</td>\n",
              "      <td>PR</td>\n",
              "      <td>Public</td>\n",
              "      <td>2083.0</td>\n",
              "    </tr>\n",
              "    <tr>\n",
              "      <th>2495</th>\n",
              "      <td>Craven Community College</td>\n",
              "      <td>NC</td>\n",
              "      <td>Public</td>\n",
              "      <td>2053.0</td>\n",
              "    </tr>\n",
              "    <tr>\n",
              "      <th>1163</th>\n",
              "      <td>Drake University</td>\n",
              "      <td>IA</td>\n",
              "      <td>Private nonprofit</td>\n",
              "      <td>39062.0</td>\n",
              "    </tr>\n",
              "    <tr>\n",
              "      <th>5447</th>\n",
              "      <td>Mayfield College</td>\n",
              "      <td>CA</td>\n",
              "      <td>Private for-profit</td>\n",
              "      <td>13079.0</td>\n",
              "    </tr>\n",
              "  </tbody>\n",
              "</table>\n",
              "</div>"
            ],
            "text/plain": [
              "                                              INSTNM STABBR  \\\n",
              "3963               University of Puerto Rico-Humacao     PR   \n",
              "4843                  MDT College of Health Sciences     OH   \n",
              "856                       Savannah Technical College     GA   \n",
              "4177                            Nossi College of Art     TN   \n",
              "3902                American Samoa Community College     AS   \n",
              "7035            Strayer University-Tampa East Campus     FL   \n",
              "5153                              W L Bonner College     SC   \n",
              "6872                    Columbia College - Fort Drum     NY   \n",
              "2852                         Oral Roberts University     OK   \n",
              "975                        Illinois State University     IL   \n",
              "3501                 Our Lady of the Lake University     TX   \n",
              "3995           Metro Business College-Jefferson City     MO   \n",
              "158                    Northwest Technical Institute     AR   \n",
              "2472                    Appalachian State University     NC   \n",
              "3803  Meredith Manor International Equestrian Center     WV   \n",
              "5508                 Vatterott College-Appling Farms     TN   \n",
              "3960               University of Puerto Rico-Bayamon     PR   \n",
              "2495                        Craven Community College     NC   \n",
              "1163                                Drake University     IA   \n",
              "5447                                Mayfield College     CA   \n",
              "\n",
              "                 CONTROL  TUITIONFEE_IN  \n",
              "3963              Public         2117.0  \n",
              "4843  Private for-profit        26535.0  \n",
              "856               Public         2744.0  \n",
              "4177  Private for-profit        17800.0  \n",
              "3902              Public         3950.0  \n",
              "7035  Private for-profit        13857.0  \n",
              "5153   Private nonprofit         5436.0  \n",
              "6872   Private nonprofit         6840.0  \n",
              "2852   Private nonprofit        26792.0  \n",
              "975               Public        14061.0  \n",
              "3501   Private nonprofit        28192.0  \n",
              "3995  Private for-profit        11375.0  \n",
              "158               Public         2321.0  \n",
              "2472              Public         7302.0  \n",
              "3803  Private for-profit        22086.0  \n",
              "5508  Private for-profit        11093.0  \n",
              "3960              Public         2083.0  \n",
              "2495              Public         2053.0  \n",
              "1163   Private nonprofit        39062.0  \n",
              "5447  Private for-profit        13079.0  "
            ]
          },
          "metadata": {
            "tags": []
          },
          "execution_count": 12
        }
      ]
    },
    {
      "cell_type": "code",
      "metadata": {
        "id": "HibTNdmrIcp3",
        "colab_type": "code",
        "colab": {},
        "outputId": "a240eb6a-cb51-414f-ff57-18727714ad33"
      },
      "source": [
        "df.describe(include=\"all\")"
      ],
      "execution_count": 0,
      "outputs": [
        {
          "output_type": "execute_result",
          "data": {
            "text/html": [
              "<div>\n",
              "<style scoped>\n",
              "    .dataframe tbody tr th:only-of-type {\n",
              "        vertical-align: middle;\n",
              "    }\n",
              "\n",
              "    .dataframe tbody tr th {\n",
              "        vertical-align: top;\n",
              "    }\n",
              "\n",
              "    .dataframe thead th {\n",
              "        text-align: right;\n",
              "    }\n",
              "</style>\n",
              "<table border=\"1\" class=\"dataframe\">\n",
              "  <thead>\n",
              "    <tr style=\"text-align: right;\">\n",
              "      <th></th>\n",
              "      <th>INSTNM</th>\n",
              "      <th>STABBR</th>\n",
              "      <th>CONTROL</th>\n",
              "      <th>TUITIONFEE_IN</th>\n",
              "    </tr>\n",
              "  </thead>\n",
              "  <tbody>\n",
              "    <tr>\n",
              "      <th>count</th>\n",
              "      <td>4024</td>\n",
              "      <td>4024</td>\n",
              "      <td>4024</td>\n",
              "      <td>4024.000000</td>\n",
              "    </tr>\n",
              "    <tr>\n",
              "      <th>unique</th>\n",
              "      <td>3966</td>\n",
              "      <td>59</td>\n",
              "      <td>3</td>\n",
              "      <td>NaN</td>\n",
              "    </tr>\n",
              "    <tr>\n",
              "      <th>top</th>\n",
              "      <td>Stevens-Henager College</td>\n",
              "      <td>CA</td>\n",
              "      <td>Public</td>\n",
              "      <td>NaN</td>\n",
              "    </tr>\n",
              "    <tr>\n",
              "      <th>freq</th>\n",
              "      <td>7</td>\n",
              "      <td>316</td>\n",
              "      <td>1692</td>\n",
              "      <td>NaN</td>\n",
              "    </tr>\n",
              "    <tr>\n",
              "      <th>mean</th>\n",
              "      <td>NaN</td>\n",
              "      <td>NaN</td>\n",
              "      <td>NaN</td>\n",
              "      <td>15096.391402</td>\n",
              "    </tr>\n",
              "    <tr>\n",
              "      <th>std</th>\n",
              "      <td>NaN</td>\n",
              "      <td>NaN</td>\n",
              "      <td>NaN</td>\n",
              "      <td>12721.153785</td>\n",
              "    </tr>\n",
              "    <tr>\n",
              "      <th>min</th>\n",
              "      <td>NaN</td>\n",
              "      <td>NaN</td>\n",
              "      <td>NaN</td>\n",
              "      <td>480.000000</td>\n",
              "    </tr>\n",
              "    <tr>\n",
              "      <th>25%</th>\n",
              "      <td>NaN</td>\n",
              "      <td>NaN</td>\n",
              "      <td>NaN</td>\n",
              "      <td>5255.750000</td>\n",
              "    </tr>\n",
              "    <tr>\n",
              "      <th>50%</th>\n",
              "      <td>NaN</td>\n",
              "      <td>NaN</td>\n",
              "      <td>NaN</td>\n",
              "      <td>11315.000000</td>\n",
              "    </tr>\n",
              "    <tr>\n",
              "      <th>75%</th>\n",
              "      <td>NaN</td>\n",
              "      <td>NaN</td>\n",
              "      <td>NaN</td>\n",
              "      <td>19400.000000</td>\n",
              "    </tr>\n",
              "    <tr>\n",
              "      <th>max</th>\n",
              "      <td>NaN</td>\n",
              "      <td>NaN</td>\n",
              "      <td>NaN</td>\n",
              "      <td>74514.000000</td>\n",
              "    </tr>\n",
              "  </tbody>\n",
              "</table>\n",
              "</div>"
            ],
            "text/plain": [
              "                         INSTNM STABBR CONTROL  TUITIONFEE_IN\n",
              "count                      4024   4024    4024    4024.000000\n",
              "unique                     3966     59       3            NaN\n",
              "top     Stevens-Henager College     CA  Public            NaN\n",
              "freq                          7    316    1692            NaN\n",
              "mean                        NaN    NaN     NaN   15096.391402\n",
              "std                         NaN    NaN     NaN   12721.153785\n",
              "min                         NaN    NaN     NaN     480.000000\n",
              "25%                         NaN    NaN     NaN    5255.750000\n",
              "50%                         NaN    NaN     NaN   11315.000000\n",
              "75%                         NaN    NaN     NaN   19400.000000\n",
              "max                         NaN    NaN     NaN   74514.000000"
            ]
          },
          "metadata": {
            "tags": []
          },
          "execution_count": 13
        }
      ]
    },
    {
      "cell_type": "code",
      "metadata": {
        "id": "8C2GevxTIcp8",
        "colab_type": "code",
        "colab": {},
        "outputId": "989d5d2f-e54d-46ba-e48f-13583f931a81"
      },
      "source": [
        "# Make sure there is no missing value for the institution type\n",
        "df[\"CONTROL\"].isna().sum()"
      ],
      "execution_count": 0,
      "outputs": [
        {
          "output_type": "execute_result",
          "data": {
            "text/plain": [
              "0"
            ]
          },
          "metadata": {
            "tags": []
          },
          "execution_count": 14
        }
      ]
    },
    {
      "cell_type": "code",
      "metadata": {
        "id": "McKFiyM4IcqF",
        "colab_type": "code",
        "colab": {},
        "outputId": "53be7791-5ef4-4ff6-e774-14979570d6ab"
      },
      "source": [
        "df.describe()"
      ],
      "execution_count": 0,
      "outputs": [
        {
          "output_type": "execute_result",
          "data": {
            "text/html": [
              "<div>\n",
              "<style scoped>\n",
              "    .dataframe tbody tr th:only-of-type {\n",
              "        vertical-align: middle;\n",
              "    }\n",
              "\n",
              "    .dataframe tbody tr th {\n",
              "        vertical-align: top;\n",
              "    }\n",
              "\n",
              "    .dataframe thead th {\n",
              "        text-align: right;\n",
              "    }\n",
              "</style>\n",
              "<table border=\"1\" class=\"dataframe\">\n",
              "  <thead>\n",
              "    <tr style=\"text-align: right;\">\n",
              "      <th></th>\n",
              "      <th>TUITIONFEE_IN</th>\n",
              "    </tr>\n",
              "  </thead>\n",
              "  <tbody>\n",
              "    <tr>\n",
              "      <th>count</th>\n",
              "      <td>4024.000000</td>\n",
              "    </tr>\n",
              "    <tr>\n",
              "      <th>mean</th>\n",
              "      <td>15096.391402</td>\n",
              "    </tr>\n",
              "    <tr>\n",
              "      <th>std</th>\n",
              "      <td>12721.153785</td>\n",
              "    </tr>\n",
              "    <tr>\n",
              "      <th>min</th>\n",
              "      <td>480.000000</td>\n",
              "    </tr>\n",
              "    <tr>\n",
              "      <th>25%</th>\n",
              "      <td>5255.750000</td>\n",
              "    </tr>\n",
              "    <tr>\n",
              "      <th>50%</th>\n",
              "      <td>11315.000000</td>\n",
              "    </tr>\n",
              "    <tr>\n",
              "      <th>75%</th>\n",
              "      <td>19400.000000</td>\n",
              "    </tr>\n",
              "    <tr>\n",
              "      <th>max</th>\n",
              "      <td>74514.000000</td>\n",
              "    </tr>\n",
              "  </tbody>\n",
              "</table>\n",
              "</div>"
            ],
            "text/plain": [
              "       TUITIONFEE_IN\n",
              "count    4024.000000\n",
              "mean    15096.391402\n",
              "std     12721.153785\n",
              "min       480.000000\n",
              "25%      5255.750000\n",
              "50%     11315.000000\n",
              "75%     19400.000000\n",
              "max     74514.000000"
            ]
          },
          "metadata": {
            "tags": []
          },
          "execution_count": 15
        }
      ]
    },
    {
      "cell_type": "code",
      "metadata": {
        "id": "jQ24Pmx0IcqK",
        "colab_type": "code",
        "colab": {},
        "outputId": "c57a9a09-81fe-44b2-cf92-22c28213a5dd"
      },
      "source": [
        "# find out the median tuition\n",
        "# It appears that there is a large difference between the mean and the median\n",
        "statistics.median(df[\"TUITIONFEE_IN\"])"
      ],
      "execution_count": 0,
      "outputs": [
        {
          "output_type": "execute_result",
          "data": {
            "text/plain": [
              "11315.0"
            ]
          },
          "metadata": {
            "tags": []
          },
          "execution_count": 16
        }
      ]
    },
    {
      "cell_type": "code",
      "metadata": {
        "id": "sIzEI247IcqP",
        "colab_type": "code",
        "colab": {},
        "outputId": "8b73f87f-915c-4f59-f049-972afc07376d"
      },
      "source": [
        "# Make a boxplot\n",
        "# there are many outliers above the maximum point which explains why the mean is much larger than the median\n",
        "# The outliers skewed the mean towards higher tuition\n",
        "\n",
        "fig, ax = plt.subplots(figsize=(12,16))\n",
        "df.boxplot(ax = ax)"
      ],
      "execution_count": 0,
      "outputs": [
        {
          "output_type": "execute_result",
          "data": {
            "text/plain": [
              "<matplotlib.axes._subplots.AxesSubplot at 0x29365176c50>"
            ]
          },
          "metadata": {
            "tags": []
          },
          "execution_count": 17
        },
        {
          "output_type": "display_data",
          "data": {
            "image/png": "[encoded data removed]",
            "text/plain": [
              "<Figure size 864x1152 with 1 Axes>"
            ]
          },
          "metadata": {
            "tags": [],
            "needs_background": "light"
          }
        }
      ]
    },
    {
      "cell_type": "code",
      "metadata": {
        "id": "8RkgDnw8IcqY",
        "colab_type": "code",
        "colab": {},
        "outputId": "97d4c789-7813-4b9f-b3ba-b6dbd70c4af9"
      },
      "source": [
        "# MAke a histogram\n",
        "\n",
        "fig, ax = plt.subplots(figsize=(12,8))\n",
        "df[\"TUITIONFEE_IN\"].plot.hist(ax=ax)"
      ],
      "execution_count": 0,
      "outputs": [
        {
          "output_type": "execute_result",
          "data": {
            "text/plain": [
              "<matplotlib.axes._subplots.AxesSubplot at 0x293658a2ef0>"
            ]
          },
          "metadata": {
            "tags": []
          },
          "execution_count": 18
        },
        {
          "output_type": "display_data",
          "data": {
            "image/png": "[encoded data removed]",
            "text/plain": [
              "<Figure size 864x576 with 1 Axes>"
            ]
          },
          "metadata": {
            "tags": [],
            "needs_background": "light"
          }
        }
      ]
    },
    {
      "cell_type": "code",
      "metadata": {
        "id": "OiPcYQRSIcqe",
        "colab_type": "code",
        "colab": {},
        "outputId": "20760740-3e9e-409c-b961-fafc1dc017a2"
      },
      "source": [
        "# Make boxplots, one for each type of institution\n",
        "# IT makes sense public colleges have lowerest tuition\n",
        "# However, private nonprofit colleges have higher tuition than for-profit colleges. A little counter-intuitive.\n",
        "\n",
        "fig, ax = plt.subplots(figsize=(16,8))\n",
        "df.boxplot(ax = ax,by = \"CONTROL\", vert=False)"
      ],
      "execution_count": 0,
      "outputs": [
        {
          "output_type": "execute_result",
          "data": {
            "text/plain": [
              "<matplotlib.axes._subplots.AxesSubplot at 0x293656f7cc0>"
            ]
          },
          "metadata": {
            "tags": []
          },
          "execution_count": 19
        },
        {
          "output_type": "display_data",
          "data": {
            "image/png": "[encoded data removed]",
            "text/plain": [
              "<Figure size 1152x576 with 1 Axes>"
            ]
          },
          "metadata": {
            "tags": [],
            "needs_background": "light"
          }
        }
      ]
    },
    {
      "cell_type": "code",
      "metadata": {
        "id": "uGoam9WCIcqi",
        "colab_type": "code",
        "colab": {},
        "outputId": "a89f037b-6ae4-4d6c-d34f-e2d88cac875f"
      },
      "source": [
        "# Plot the count of colleges within each category\n",
        "\n",
        "fig, ax = plt.subplots(figsize=(12,8))\n",
        "df[[\"CONTROL\"]].groupby([\"CONTROL\"]).size().plot.bar(ax=ax, rot=0)\n",
        "ax.set_title(\"College Count by Institution Type\", size=18)\n",
        "ax.legend(\"\")\n",
        "ax.set_ylabel(\"Number of Colleges\", size=14)\n",
        "ax.set_xlabel(\"Institution Type\",size=14)"
      ],
      "execution_count": 0,
      "outputs": [
        {
          "output_type": "execute_result",
          "data": {
            "text/plain": [
              "Text(0.5, 0, 'Institution Type')"
            ]
          },
          "metadata": {
            "tags": []
          },
          "execution_count": 20
        },
        {
          "output_type": "display_data",
          "data": {
            "image/png": "[encoded data removed]",
            "text/plain": [
              "<Figure size 864x576 with 1 Axes>"
            ]
          },
          "metadata": {
            "tags": [],
            "needs_background": "light"
          }
        }
      ]
    },
    {
      "cell_type": "code",
      "metadata": {
        "id": "elw4G_c_Icq-",
        "colab_type": "code",
        "colab": {}
      },
      "source": [
        "# The end"
      ],
      "execution_count": 0,
      "outputs": []
    }
  ]
}