{
 "cells": [
  {
   "cell_type": "markdown",
   "metadata": {},
   "source": [
    "# 02 - Python Collections\n",
    "- Range: **range(start,stop, step) - generates a sequence of numbers**\n",
    "- String: **Immutable, ordered**\n",
    "- List - **Mutable, ordered**\n",
    "- Tuple - **Immutable, ordered**\n",
    "- Dictionary: **mutable, unordered, Key-value pair, keys must be unique**\n",
    "- Set: **mutable, ordered, no duplicate allowed**\n",
    "\n",
    "- All collections can use keyword \"in\" for checking membership\n",
    "- len() tells how many items are in the collection"
   ]
  },
  {
   "cell_type": "markdown",
   "metadata": {},
   "source": [
    "### 1. Range\n",
    "To generate a sequence of numbers:\n",
    "- range(start, stop, step)"
   ]
  },
  {
   "cell_type": "code",
   "execution_count": 1,
   "metadata": {},
   "outputs": [],
   "source": [
    "# write code here"
   ]
  },
  {
   "cell_type": "code",
   "execution_count": 2,
   "metadata": {},
   "outputs": [
    {
     "name": "stdout",
     "output_type": "stream",
     "text": [
      "10\n",
      "12\n",
      "14\n",
      "16\n",
      "18\n"
     ]
    }
   ],
   "source": [
    "x = range(10, 20, 2)\n",
    "for i in x:\n",
    "    print(i)"
   ]
  },
  {
   "cell_type": "markdown",
   "metadata": {},
   "source": [
    "### 2. String\n",
    "A String is a collection of characters.\n",
    "A string is ordered and immutable."
   ]
  },
  {
   "cell_type": "code",
   "execution_count": 8,
   "metadata": {},
   "outputs": [],
   "source": [
    "# Write code here"
   ]
  },
  {
   "cell_type": "code",
   "execution_count": 6,
   "metadata": {},
   "outputs": [
    {
     "name": "stdout",
     "output_type": "stream",
     "text": [
      "There are 2 capital letters in Hello World\n"
     ]
    }
   ],
   "source": [
    "x = \"Hello World\"\n",
    "upper_count = 0\n",
    "for i in x:\n",
    "    if i.isupper():\n",
    "        upper_count += 1\n",
    "print(\"There are\", upper_count, \"capital letters in\", x)\n",
    "        "
   ]
  },
  {
   "cell_type": "markdown",
   "metadata": {},
   "source": [
    "### 3. Lists\n",
    "- A list is an ordered and mutable sequence.\n",
    "- List comprehensions - create a new list from an existing list with one line of code\n"
   ]
  },
  {
   "cell_type": "code",
   "execution_count": 56,
   "metadata": {},
   "outputs": [
    {
     "name": "stdout",
     "output_type": "stream",
     "text": [
      "There are 2 even numbers in [10, 12, -5, 11, 45]\n"
     ]
    }
   ],
   "source": [
    "# write code here\n",
    "x = [10, 12, -5, 11, 45]\n",
    "even_cnt = 0\n",
    "for i in x:\n",
    "    if (i % 2) == 0:\n",
    "        even_cnt += 1\n",
    "print(\"There are\", even_cnt, \"even numbers in\", x)\n",
    "        "
   ]
  },
  {
   "cell_type": "code",
   "execution_count": 58,
   "metadata": {},
   "outputs": [
    {
     "name": "stdout",
     "output_type": "stream",
     "text": [
      "[10, -5, 45]\n"
     ]
    }
   ],
   "source": [
    "# list comprehension. create a new list using numbers in x that are multiple of 5\n",
    "y = [a for a in x if (a % 5) == 0]\n",
    "print(y)"
   ]
  },
  {
   "cell_type": "markdown",
   "metadata": {},
   "source": [
    "### 4. Tuples\n",
    "A tuple is an order but immutable sequence"
   ]
  },
  {
   "cell_type": "code",
   "execution_count": 11,
   "metadata": {},
   "outputs": [
    {
     "data": {
      "text/plain": [
       "tuple"
      ]
     },
     "execution_count": 11,
     "metadata": {},
     "output_type": "execute_result"
    }
   ],
   "source": [
    "# write code here\n",
    "x = 12, \"test\", 12.5\n",
    "type(x)"
   ]
  },
  {
   "cell_type": "markdown",
   "metadata": {},
   "source": [
    "### 5. Dictionaries\n",
    "A dictionary is an unordered list of mutable key-value pairs"
   ]
  },
  {
   "cell_type": "code",
   "execution_count": 21,
   "metadata": {},
   "outputs": [
    {
     "name": "stdout",
     "output_type": "stream",
     "text": [
      "{'MD': 'Maryland', 'PA': 'Pennsylvania', 'VA': 'Test', 'DC': 'District of Columbia', 'DE': 'Delaware'}\n"
     ]
    }
   ],
   "source": [
    "# write code here\n",
    "x = {\"MD\":\"Maryland\",\n",
    "     \"PA\":\"Pennsylvania\",\n",
    "     \"VA\":\"Virginia\",\n",
    "     \"DC\":\"District of Columbia\",\n",
    "     \"DE\":\"Delaware\"\n",
    "    }\n",
    "print(x)"
   ]
  },
  {
   "cell_type": "code",
   "execution_count": 23,
   "metadata": {},
   "outputs": [
    {
     "name": "stdout",
     "output_type": "stream",
     "text": [
      "MD Maryland\n",
      "PA Pennsylvania\n",
      "VA Test\n",
      "DC District of Columbia\n",
      "DE Delaware\n"
     ]
    }
   ],
   "source": [
    "for key, value in x.items():\n",
    "    print(key, value)"
   ]
  },
  {
   "cell_type": "code",
   "execution_count": 25,
   "metadata": {},
   "outputs": [
    {
     "name": "stdout",
     "output_type": "stream",
     "text": [
      "MD Maryland\n",
      "PA Pennsylvania\n",
      "VA Test\n",
      "DC District of Columbia\n",
      "DE Delaware\n"
     ]
    }
   ],
   "source": [
    "for i in x:\n",
    "    print(i, x[i])"
   ]
  },
  {
   "cell_type": "code",
   "execution_count": 28,
   "metadata": {},
   "outputs": [
    {
     "name": "stdout",
     "output_type": "stream",
     "text": [
      "{'MD': 'Maryland', 'PA': 'Pennsylvania', 'VA': 'Test', 'DC': 'District of Columbia', 'DE': 'Delaware', 'NY': 'New York'}\n"
     ]
    }
   ],
   "source": [
    "# Add a new item\n",
    "x[\"NY\"] = \"New York\"\n",
    "print(x)"
   ]
  },
  {
   "cell_type": "code",
   "execution_count": 29,
   "metadata": {},
   "outputs": [
    {
     "name": "stdout",
     "output_type": "stream",
     "text": [
      "{'PA': 'Pennsylvania', 'VA': 'Test', 'DC': 'District of Columbia', 'DE': 'Delaware', 'NY': 'New York'}\n"
     ]
    }
   ],
   "source": [
    "# Remove an item\n",
    "x.pop(\"MD\")\n",
    "print(x)"
   ]
  },
  {
   "cell_type": "code",
   "execution_count": 31,
   "metadata": {},
   "outputs": [
    {
     "name": "stdout",
     "output_type": "stream",
     "text": [
      "{'PA': 'Pennsylvania', 'VA': 'Test', 'DC': 'District of Columbia', 'DE': 'Delaware', 'NY': 'New Jersy'}\n"
     ]
    }
   ],
   "source": [
    "# Change an item\n",
    "x[\"NY\"] = \"New Jersy\"\n",
    "print(x)"
   ]
  },
  {
   "cell_type": "markdown",
   "metadata": {},
   "source": [
    "### 6. Sets\n",
    "A set is an unordered collection with no duplicates."
   ]
  },
  {
   "cell_type": "code",
   "execution_count": 32,
   "metadata": {},
   "outputs": [
    {
     "name": "stdout",
     "output_type": "stream",
     "text": [
      "{'Blueberry', 'Strawberry', 'Apple', 'Pear'}\n"
     ]
    }
   ],
   "source": [
    "# Write code here\n",
    "x = {\"Apple\", \"Strawberry\", \"Pear\", \"Blueberry\"}\n",
    "print(x)"
   ]
  },
  {
   "cell_type": "code",
   "execution_count": 33,
   "metadata": {},
   "outputs": [
    {
     "data": {
      "text/plain": [
       "set"
      ]
     },
     "execution_count": 33,
     "metadata": {},
     "output_type": "execute_result"
    }
   ],
   "source": [
    "type(x)"
   ]
  },
  {
   "cell_type": "code",
   "execution_count": 34,
   "metadata": {},
   "outputs": [
    {
     "name": "stdout",
     "output_type": "stream",
     "text": [
      "{'Strawberry', 'Water mellon', 'Pear', 'Blueberry', 'Apple'}\n"
     ]
    }
   ],
   "source": [
    "x.add(\"Water mellon\")\n",
    "print(x)"
   ]
  },
  {
   "cell_type": "code",
   "execution_count": 35,
   "metadata": {},
   "outputs": [
    {
     "name": "stdout",
     "output_type": "stream",
     "text": [
      "{'Strawberry', 'Water mellon', 'Blueberry', 'Apple'}\n"
     ]
    }
   ],
   "source": [
    "x.remove(\"Pear\")\n",
    "print(x)"
   ]
  },
  {
   "cell_type": "code",
   "execution_count": 36,
   "metadata": {},
   "outputs": [
    {
     "name": "stdout",
     "output_type": "stream",
     "text": [
      "4\n"
     ]
    }
   ],
   "source": [
    "print(len(x))"
   ]
  },
  {
   "cell_type": "code",
   "execution_count": 38,
   "metadata": {},
   "outputs": [
    {
     "name": "stdout",
     "output_type": "stream",
     "text": [
      "Strawberry\n",
      "Water mellon\n",
      "Blueberry\n",
      "Apple\n"
     ]
    }
   ],
   "source": [
    "for fruit in x:\n",
    "    print(fruit)"
   ]
  },
  {
   "cell_type": "code",
   "execution_count": 48,
   "metadata": {},
   "outputs": [
    {
     "name": "stdout",
     "output_type": "stream",
     "text": [
      "True\n"
     ]
    }
   ],
   "source": [
    "x = {\"Apple\", \"Strawberry\", \"Pear\", \"Blueberry\"}\n",
    "y = {\"Apple\", \"Strawberry\", \"Pear\", \"Blueberry\"}\n",
    "print(x == y)"
   ]
  },
  {
   "cell_type": "code",
   "execution_count": 49,
   "metadata": {},
   "outputs": [
    {
     "name": "stdout",
     "output_type": "stream",
     "text": [
      "True\n"
     ]
    }
   ],
   "source": [
    "print(x.issubset(y))"
   ]
  },
  {
   "cell_type": "code",
   "execution_count": 50,
   "metadata": {},
   "outputs": [
    {
     "name": "stdout",
     "output_type": "stream",
     "text": [
      "{'Strawberry', 'Pear', 'Blueberry', 'Apple'}\n"
     ]
    }
   ],
   "source": [
    "z = x.union(y)\n",
    "print(z)"
   ]
  },
  {
   "cell_type": "code",
   "execution_count": 51,
   "metadata": {},
   "outputs": [
    {
     "name": "stdout",
     "output_type": "stream",
     "text": [
      "{'Blueberry', 'Strawberry', 'Apple', 'Pear'}\n"
     ]
    }
   ],
   "source": [
    "z = x.intersection(y)\n",
    "print(z)"
   ]
  },
  {
   "cell_type": "code",
   "execution_count": 52,
   "metadata": {},
   "outputs": [
    {
     "name": "stdout",
     "output_type": "stream",
     "text": [
      "set()\n"
     ]
    }
   ],
   "source": [
    "z = x.difference(y)\n",
    "print(z)"
   ]
  },
  {
   "cell_type": "code",
   "execution_count": 53,
   "metadata": {},
   "outputs": [
    {
     "name": "stdout",
     "output_type": "stream",
     "text": [
      "{'Watermellon'}\n"
     ]
    }
   ],
   "source": [
    "x.add(\"Watermellon\")\n",
    "z = x.difference(y)\n",
    "print(z)"
   ]
  }
 ],
 "metadata": {
  "kernelspec": {
   "display_name": "Python 3",
   "language": "python",
   "name": "python3"
  },
  "language_info": {
   "codemirror_mode": {
    "name": "ipython",
    "version": 3
   },
   "file_extension": ".py",
   "mimetype": "text/x-python",
   "name": "python",
   "nbconvert_exporter": "python",
   "pygments_lexer": "ipython3",
   "version": "3.7.4"
  }
 },
 "nbformat": 4,
 "nbformat_minor": 2
}
